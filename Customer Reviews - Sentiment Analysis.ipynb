{
 "cells": [
  {
   "cell_type": "code",
   "execution_count": 1,
   "id": "07079c5e",
   "metadata": {},
   "outputs": [],
   "source": [
    "import pandas as pd\n",
    "import numpy as np"
   ]
  },
  {
   "cell_type": "code",
   "execution_count": 2,
   "id": "7e00ee95",
   "metadata": {},
   "outputs": [],
   "source": [
    "all = pd.read_csv('Customer Reviews Data.csv')"
   ]
  },
  {
   "cell_type": "code",
   "execution_count": 4,
   "id": "288ab09c",
   "metadata": {},
   "outputs": [],
   "source": [
    "# Calculate word count\n",
    "all['word_count'] = all['Statement'].apply(lambda x: len(str(x).split(\" \")))"
   ]
  },
  {
   "cell_type": "code",
   "execution_count": 5,
   "id": "dd05d677",
   "metadata": {},
   "outputs": [],
   "source": [
    "def avg_word(review):\n",
    "  words = review.split()\n",
    "  return (sum(len(word) for word in words) / len(words))\n",
    "\n",
    "# Calculate average words\n",
    "all['avg_word'] = all['Statement'].apply(lambda x: avg_word(x))"
   ]
  },
  {
   "cell_type": "code",
   "execution_count": 6,
   "id": "1cb1bafc",
   "metadata": {},
   "outputs": [],
   "source": [
    "# Import stopwords\n",
    "from nltk.corpus import stopwords"
   ]
  },
  {
   "cell_type": "code",
   "execution_count": 8,
   "id": "6253d299",
   "metadata": {},
   "outputs": [],
   "source": [
    "stop_words = stopwords.words('english')\n",
    "all['stopword_coun'] = all['Statement'].apply(lambda x: len([x for x in x.split() if x in stop_words]))"
   ]
  },
  {
   "cell_type": "code",
   "execution_count": 9,
   "id": "b3be28fc",
   "metadata": {},
   "outputs": [],
   "source": [
    "# Lower case all words\n",
    "all['review_lower'] = all['Statement'].apply(lambda x: \" \".join(x.lower() for x in x.split()))"
   ]
  },
  {
   "cell_type": "code",
   "execution_count": 10,
   "id": "5cc748a5",
   "metadata": {},
   "outputs": [
    {
     "name": "stderr",
     "output_type": "stream",
     "text": [
      "<ipython-input-10-c74c7d2feed1>:2: FutureWarning: The default value of regex will change from True to False in a future version.\n",
      "  all['review_nopunc'] = all['review_lower'].str.replace('[^\\w\\s]', '')\n"
     ]
    }
   ],
   "source": [
    "# Remove Punctuation\n",
    "all['review_nopunc'] = all['review_lower'].str.replace('[^\\w\\s]', '')"
   ]
  },
  {
   "cell_type": "code",
   "execution_count": 11,
   "id": "8e4442ac",
   "metadata": {},
   "outputs": [],
   "source": [
    "# Import stopwords\n",
    "from nltk.corpus import stopwords\n",
    "stop_words = stopwords.words('english')"
   ]
  },
  {
   "cell_type": "code",
   "execution_count": 12,
   "id": "27ed611e",
   "metadata": {},
   "outputs": [],
   "source": [
    "# Remove Stopwords\n",
    "all['review_nopunc_nostop'] = all['review_nopunc'].apply(lambda x: \" \".join(x for x in x.split() if x not in stop_words))"
   ]
  },
  {
   "cell_type": "code",
   "execution_count": 13,
   "id": "791346a2",
   "metadata": {},
   "outputs": [],
   "source": [
    "# Return frequency of values\n",
    "freq= pd.Series(\" \".join(all['review_nopunc_nostop']).split()).value_counts()[:30]"
   ]
  },
  {
   "cell_type": "code",
   "execution_count": 14,
   "id": "13830cf9",
   "metadata": {},
   "outputs": [],
   "source": [
    "other_stopwords = ['get', 'us', 'see', 'use', 'said', 'asked', 'day', 'go' \\\n",
    "  'even', 'ive', 'right', 'left', 'always', 'would', 'told', \\\n",
    "  'get', 'us', 'would', 'get', 'one', 'ive', 'go', 'even', \\\n",
    "  'also', 'ever', 'x', 'take', 'let' ]"
   ]
  },
  {
   "cell_type": "code",
   "execution_count": 15,
   "id": "a8073b67",
   "metadata": {},
   "outputs": [],
   "source": [
    "all['review_nopunc_nostop_nocommon'] = all['review_nopunc_nostop'].apply(lambda x: \"\".join(\" \".join(x for x in x.split() if x not in other_stopwords)))"
   ]
  },
  {
   "cell_type": "code",
   "execution_count": 16,
   "id": "3d687ef1",
   "metadata": {},
   "outputs": [
    {
     "name": "stdout",
     "output_type": "stream",
     "text": [
      "Requirement already satisfied: textblob in /Users/Owner/anaconda3/lib/python3.8/site-packages (0.17.1)\n",
      "Requirement already satisfied: nltk>=3.1 in /Users/Owner/anaconda3/lib/python3.8/site-packages (from textblob) (3.6.1)\n",
      "Requirement already satisfied: tqdm in /Users/Owner/anaconda3/lib/python3.8/site-packages (from nltk>=3.1->textblob) (4.59.0)\n",
      "Requirement already satisfied: joblib in /Users/Owner/anaconda3/lib/python3.8/site-packages (from nltk>=3.1->textblob) (1.0.1)\n",
      "Requirement already satisfied: regex in /Users/Owner/anaconda3/lib/python3.8/site-packages (from nltk>=3.1->textblob) (2021.4.4)\n",
      "Requirement already satisfied: click in /Users/Owner/anaconda3/lib/python3.8/site-packages (from nltk>=3.1->textblob) (7.1.2)\n"
     ]
    }
   ],
   "source": [
    "!pip install -U textblob"
   ]
  },
  {
   "cell_type": "code",
   "execution_count": 17,
   "id": "61a94b9e",
   "metadata": {},
   "outputs": [],
   "source": [
    "# Import textblob\n",
    "from textblob import Word\n",
    "\n",
    "# Lemmatize final review format\n",
    "all['cleaned_review'] = all['review_nopunc_nostop_nocommon']\\\n",
    ".apply(lambda x: \" \".join([Word(word).lemmatize() for word in x.split()]))"
   ]
  },
  {
   "cell_type": "code",
   "execution_count": 18,
   "id": "6fc78539",
   "metadata": {},
   "outputs": [],
   "source": [
    "# Calculate polarity\n",
    "from textblob import TextBlob\n",
    "all['polarity'] = all['cleaned_review'].apply(lambda x: TextBlob(x).sentiment[0])"
   ]
  },
  {
   "cell_type": "code",
   "execution_count": 19,
   "id": "b6c8fd12",
   "metadata": {},
   "outputs": [],
   "source": [
    "# Calculate subjectivity\n",
    "all['subjectivity'] = all['cleaned_review'].apply(lambda x: TextBlob(x).sentiment[1])"
   ]
  },
  {
   "cell_type": "code",
   "execution_count": 20,
   "id": "05f67e65",
   "metadata": {},
   "outputs": [
    {
     "name": "stdout",
     "output_type": "stream",
     "text": [
      "DataFrame is written to Excel File successfully.\n"
     ]
    }
   ],
   "source": [
    "# writing to Excel\n",
    "datatoexcel = pd.ExcelWriter('Customer Reviews Sentiment Data.xlsx')\n",
    "  \n",
    "# write DataFrame to excel\n",
    "all.to_excel(datatoexcel)\n",
    "  \n",
    "# save the excel\n",
    "datatoexcel.save()\n",
    "print('DataFrame is written to Excel File successfully.')"
   ]
  },
  {
   "cell_type": "code",
   "execution_count": null,
   "id": "baa37bcf",
   "metadata": {},
   "outputs": [],
   "source": []
  }
 ],
 "metadata": {
  "kernelspec": {
   "display_name": "Python 3",
   "language": "python",
   "name": "python3"
  },
  "language_info": {
   "codemirror_mode": {
    "name": "ipython",
    "version": 3
   },
   "file_extension": ".py",
   "mimetype": "text/x-python",
   "name": "python",
   "nbconvert_exporter": "python",
   "pygments_lexer": "ipython3",
   "version": "3.8.8"
  }
 },
 "nbformat": 4,
 "nbformat_minor": 5
}

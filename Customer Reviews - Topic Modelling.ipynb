{
 "cells": [
  {
   "cell_type": "code",
   "execution_count": 1,
   "id": "bb059314",
   "metadata": {},
   "outputs": [
    {
     "name": "stderr",
     "output_type": "stream",
     "text": [
      "[nltk_data] Downloading package stopwords to /Users/Owner/nltk_data...\n",
      "[nltk_data]   Package stopwords is already up-to-date!\n"
     ]
    },
    {
     "data": {
      "text/plain": [
       "True"
      ]
     },
     "execution_count": 1,
     "metadata": {},
     "output_type": "execute_result"
    }
   ],
   "source": [
    "import nltk; nltk.download('stopwords')"
   ]
  },
  {
   "cell_type": "code",
   "execution_count": 2,
   "id": "0b5340c4",
   "metadata": {},
   "outputs": [
    {
     "name": "stdout",
     "output_type": "stream",
     "text": [
      "Requirement already satisfied: gensim in /Users/Owner/anaconda3/lib/python3.8/site-packages (4.1.2)\n",
      "Requirement already satisfied: scipy>=0.18.1 in /Users/Owner/anaconda3/lib/python3.8/site-packages (from gensim) (1.6.2)\n",
      "Requirement already satisfied: numpy>=1.17.0 in /Users/Owner/anaconda3/lib/python3.8/site-packages (from gensim) (1.20.1)\n",
      "Requirement already satisfied: smart-open>=1.8.1 in /Users/Owner/anaconda3/lib/python3.8/site-packages (from gensim) (5.2.1)\n",
      "Requirement already satisfied: spacy in /Users/Owner/anaconda3/lib/python3.8/site-packages (3.2.0)\n",
      "Requirement already satisfied: srsly<3.0.0,>=2.4.1 in /Users/Owner/anaconda3/lib/python3.8/site-packages (from spacy) (2.4.1)\n",
      "Requirement already satisfied: catalogue<2.1.0,>=2.0.6 in /Users/Owner/anaconda3/lib/python3.8/site-packages (from spacy) (2.0.6)\n",
      "Requirement already satisfied: cymem<2.1.0,>=2.0.2 in /Users/Owner/anaconda3/lib/python3.8/site-packages (from spacy) (2.0.5)\n",
      "Requirement already satisfied: numpy>=1.15.0 in /Users/Owner/anaconda3/lib/python3.8/site-packages (from spacy) (1.20.1)\n",
      "Requirement already satisfied: preshed<3.1.0,>=3.0.2 in /Users/Owner/anaconda3/lib/python3.8/site-packages (from spacy) (3.0.5)\n",
      "Requirement already satisfied: blis<0.8.0,>=0.4.0 in /Users/Owner/anaconda3/lib/python3.8/site-packages (from spacy) (0.7.4)\n",
      "Requirement already satisfied: thinc<8.1.0,>=8.0.12 in /Users/Owner/anaconda3/lib/python3.8/site-packages (from spacy) (8.0.13)\n",
      "Requirement already satisfied: murmurhash<1.1.0,>=0.28.0 in /Users/Owner/anaconda3/lib/python3.8/site-packages (from spacy) (1.0.5)\n",
      "Requirement already satisfied: langcodes<4.0.0,>=3.2.0 in /Users/Owner/anaconda3/lib/python3.8/site-packages (from spacy) (3.2.1)\n",
      "Requirement already satisfied: tqdm<5.0.0,>=4.38.0 in /Users/Owner/anaconda3/lib/python3.8/site-packages (from spacy) (4.59.0)\n",
      "Requirement already satisfied: typer<0.5.0,>=0.3.0 in /Users/Owner/anaconda3/lib/python3.8/site-packages (from spacy) (0.4.0)\n",
      "Requirement already satisfied: packaging>=20.0 in /Users/Owner/anaconda3/lib/python3.8/site-packages (from spacy) (20.9)\n",
      "Requirement already satisfied: pydantic!=1.8,!=1.8.1,<1.9.0,>=1.7.4 in /Users/Owner/anaconda3/lib/python3.8/site-packages (from spacy) (1.8.2)\n",
      "Requirement already satisfied: setuptools in /Users/Owner/anaconda3/lib/python3.8/site-packages (from spacy) (59.1.1)\n",
      "Requirement already satisfied: pathy>=0.3.5 in /Users/Owner/anaconda3/lib/python3.8/site-packages (from spacy) (0.6.0)\n",
      "Requirement already satisfied: jinja2 in /Users/Owner/anaconda3/lib/python3.8/site-packages (from spacy) (2.11.3)\n",
      "Requirement already satisfied: requests<3.0.0,>=2.13.0 in /Users/Owner/anaconda3/lib/python3.8/site-packages (from spacy) (2.25.1)\n",
      "Requirement already satisfied: spacy-loggers<2.0.0,>=1.0.0 in /Users/Owner/anaconda3/lib/python3.8/site-packages (from spacy) (1.0.1)\n",
      "Requirement already satisfied: spacy-legacy<3.1.0,>=3.0.8 in /Users/Owner/anaconda3/lib/python3.8/site-packages (from spacy) (3.0.8)\n",
      "Requirement already satisfied: wasabi<1.1.0,>=0.8.1 in /Users/Owner/anaconda3/lib/python3.8/site-packages (from spacy) (0.8.2)\n",
      "Requirement already satisfied: pyparsing>=2.0.2 in /Users/Owner/anaconda3/lib/python3.8/site-packages (from packaging>=20.0->spacy) (2.4.7)\n",
      "Requirement already satisfied: smart-open<6.0.0,>=5.0.0 in /Users/Owner/anaconda3/lib/python3.8/site-packages (from pathy>=0.3.5->spacy) (5.2.1)\n",
      "Requirement already satisfied: typing-extensions>=3.7.4.3 in /Users/Owner/anaconda3/lib/python3.8/site-packages (from pydantic!=1.8,!=1.8.1,<1.9.0,>=1.7.4->spacy) (3.7.4.3)\n",
      "Requirement already satisfied: certifi>=2017.4.17 in /Users/Owner/anaconda3/lib/python3.8/site-packages (from requests<3.0.0,>=2.13.0->spacy) (2020.12.5)\n",
      "Requirement already satisfied: urllib3<1.27,>=1.21.1 in /Users/Owner/anaconda3/lib/python3.8/site-packages (from requests<3.0.0,>=2.13.0->spacy) (1.26.4)\n",
      "Requirement already satisfied: idna<3,>=2.5 in /Users/Owner/anaconda3/lib/python3.8/site-packages (from requests<3.0.0,>=2.13.0->spacy) (2.10)\n",
      "Requirement already satisfied: chardet<5,>=3.0.2 in /Users/Owner/anaconda3/lib/python3.8/site-packages (from requests<3.0.0,>=2.13.0->spacy) (4.0.0)\n",
      "Requirement already satisfied: click<9.0.0,>=7.1.1 in /Users/Owner/anaconda3/lib/python3.8/site-packages (from typer<0.5.0,>=0.3.0->spacy) (7.1.2)\n",
      "Requirement already satisfied: MarkupSafe>=0.23 in /Users/Owner/anaconda3/lib/python3.8/site-packages (from jinja2->spacy) (1.1.1)\n",
      "Requirement already satisfied: pip in /Users/Owner/anaconda3/lib/python3.8/site-packages (21.3.1)\n",
      "Requirement already satisfied: setuptools in /Users/Owner/anaconda3/lib/python3.8/site-packages (59.1.1)\n",
      "Requirement already satisfied: wheel in /Users/Owner/anaconda3/lib/python3.8/site-packages (0.37.0)\n",
      "Requirement already satisfied: pyldavis in /Users/Owner/anaconda3/lib/python3.8/site-packages (3.2.1)\n",
      "Requirement already satisfied: numexpr in /Users/Owner/anaconda3/lib/python3.8/site-packages (from pyldavis) (2.7.3)\n",
      "Requirement already satisfied: joblib>=0.8.4 in /Users/Owner/anaconda3/lib/python3.8/site-packages (from pyldavis) (1.0.1)\n",
      "Requirement already satisfied: pandas>=0.17.0 in /Users/Owner/anaconda3/lib/python3.8/site-packages (from pyldavis) (1.2.4)\n",
      "Requirement already satisfied: numpy>=1.9.2 in /Users/Owner/anaconda3/lib/python3.8/site-packages (from pyldavis) (1.20.1)\n",
      "Requirement already satisfied: future in /Users/Owner/anaconda3/lib/python3.8/site-packages (from pyldavis) (0.18.2)\n",
      "Requirement already satisfied: funcy in /Users/Owner/anaconda3/lib/python3.8/site-packages (from pyldavis) (1.16)\n",
      "Requirement already satisfied: jinja2>=2.7.2 in /Users/Owner/anaconda3/lib/python3.8/site-packages (from pyldavis) (2.11.3)\n",
      "Requirement already satisfied: wheel>=0.23.0 in /Users/Owner/anaconda3/lib/python3.8/site-packages (from pyldavis) (0.37.0)\n",
      "Requirement already satisfied: scipy>=0.18.0 in /Users/Owner/anaconda3/lib/python3.8/site-packages (from pyldavis) (1.6.2)\n",
      "Requirement already satisfied: MarkupSafe>=0.23 in /Users/Owner/anaconda3/lib/python3.8/site-packages (from jinja2>=2.7.2->pyldavis) (1.1.1)\n",
      "Requirement already satisfied: python-dateutil>=2.7.3 in /Users/Owner/anaconda3/lib/python3.8/site-packages (from pandas>=0.17.0->pyldavis) (2.8.1)\n",
      "Requirement already satisfied: pytz>=2017.3 in /Users/Owner/anaconda3/lib/python3.8/site-packages (from pandas>=0.17.0->pyldavis) (2021.1)\n",
      "Requirement already satisfied: six>=1.5 in /Users/Owner/anaconda3/lib/python3.8/site-packages (from python-dateutil>=2.7.3->pandas>=0.17.0->pyldavis) (1.15.0)\n"
     ]
    }
   ],
   "source": [
    "!pip install --upgrade gensim\n",
    "!pip install -U spacy\n",
    "!pip install -U pip setuptools wheel\n",
    "!pip install pyldavis"
   ]
  },
  {
   "cell_type": "code",
   "execution_count": 3,
   "id": "60a8bd9d",
   "metadata": {},
   "outputs": [
    {
     "name": "stdout",
     "output_type": "stream",
     "text": [
      "Collecting en-core-web-sm==3.2.0\n",
      "  Downloading https://github.com/explosion/spacy-models/releases/download/en_core_web_sm-3.2.0/en_core_web_sm-3.2.0-py3-none-any.whl (13.9 MB)\n",
      "     |████████████████████████████████| 13.9 MB 9.5 MB/s            \n",
      "\u001b[?25hRequirement already satisfied: spacy<3.3.0,>=3.2.0 in /Users/Owner/anaconda3/lib/python3.8/site-packages (from en-core-web-sm==3.2.0) (3.2.0)\n",
      "Requirement already satisfied: spacy-loggers<2.0.0,>=1.0.0 in /Users/Owner/anaconda3/lib/python3.8/site-packages (from spacy<3.3.0,>=3.2.0->en-core-web-sm==3.2.0) (1.0.1)\n",
      "Requirement already satisfied: wasabi<1.1.0,>=0.8.1 in /Users/Owner/anaconda3/lib/python3.8/site-packages (from spacy<3.3.0,>=3.2.0->en-core-web-sm==3.2.0) (0.8.2)\n",
      "Requirement already satisfied: setuptools in /Users/Owner/anaconda3/lib/python3.8/site-packages (from spacy<3.3.0,>=3.2.0->en-core-web-sm==3.2.0) (59.1.1)\n",
      "Requirement already satisfied: pathy>=0.3.5 in /Users/Owner/anaconda3/lib/python3.8/site-packages (from spacy<3.3.0,>=3.2.0->en-core-web-sm==3.2.0) (0.6.0)\n",
      "Requirement already satisfied: srsly<3.0.0,>=2.4.1 in /Users/Owner/anaconda3/lib/python3.8/site-packages (from spacy<3.3.0,>=3.2.0->en-core-web-sm==3.2.0) (2.4.1)\n",
      "Requirement already satisfied: catalogue<2.1.0,>=2.0.6 in /Users/Owner/anaconda3/lib/python3.8/site-packages (from spacy<3.3.0,>=3.2.0->en-core-web-sm==3.2.0) (2.0.6)\n",
      "Requirement already satisfied: langcodes<4.0.0,>=3.2.0 in /Users/Owner/anaconda3/lib/python3.8/site-packages (from spacy<3.3.0,>=3.2.0->en-core-web-sm==3.2.0) (3.2.1)\n",
      "Requirement already satisfied: tqdm<5.0.0,>=4.38.0 in /Users/Owner/anaconda3/lib/python3.8/site-packages (from spacy<3.3.0,>=3.2.0->en-core-web-sm==3.2.0) (4.59.0)\n",
      "Requirement already satisfied: murmurhash<1.1.0,>=0.28.0 in /Users/Owner/anaconda3/lib/python3.8/site-packages (from spacy<3.3.0,>=3.2.0->en-core-web-sm==3.2.0) (1.0.5)\n",
      "Requirement already satisfied: cymem<2.1.0,>=2.0.2 in /Users/Owner/anaconda3/lib/python3.8/site-packages (from spacy<3.3.0,>=3.2.0->en-core-web-sm==3.2.0) (2.0.5)\n",
      "Requirement already satisfied: typer<0.5.0,>=0.3.0 in /Users/Owner/anaconda3/lib/python3.8/site-packages (from spacy<3.3.0,>=3.2.0->en-core-web-sm==3.2.0) (0.4.0)\n",
      "Requirement already satisfied: numpy>=1.15.0 in /Users/Owner/anaconda3/lib/python3.8/site-packages (from spacy<3.3.0,>=3.2.0->en-core-web-sm==3.2.0) (1.20.1)\n",
      "Requirement already satisfied: blis<0.8.0,>=0.4.0 in /Users/Owner/anaconda3/lib/python3.8/site-packages (from spacy<3.3.0,>=3.2.0->en-core-web-sm==3.2.0) (0.7.4)\n",
      "Requirement already satisfied: pydantic!=1.8,!=1.8.1,<1.9.0,>=1.7.4 in /Users/Owner/anaconda3/lib/python3.8/site-packages (from spacy<3.3.0,>=3.2.0->en-core-web-sm==3.2.0) (1.8.2)\n",
      "Requirement already satisfied: requests<3.0.0,>=2.13.0 in /Users/Owner/anaconda3/lib/python3.8/site-packages (from spacy<3.3.0,>=3.2.0->en-core-web-sm==3.2.0) (2.25.1)\n",
      "Requirement already satisfied: thinc<8.1.0,>=8.0.12 in /Users/Owner/anaconda3/lib/python3.8/site-packages (from spacy<3.3.0,>=3.2.0->en-core-web-sm==3.2.0) (8.0.13)\n",
      "Requirement already satisfied: preshed<3.1.0,>=3.0.2 in /Users/Owner/anaconda3/lib/python3.8/site-packages (from spacy<3.3.0,>=3.2.0->en-core-web-sm==3.2.0) (3.0.5)\n",
      "Requirement already satisfied: jinja2 in /Users/Owner/anaconda3/lib/python3.8/site-packages (from spacy<3.3.0,>=3.2.0->en-core-web-sm==3.2.0) (2.11.3)\n",
      "Requirement already satisfied: packaging>=20.0 in /Users/Owner/anaconda3/lib/python3.8/site-packages (from spacy<3.3.0,>=3.2.0->en-core-web-sm==3.2.0) (20.9)\n",
      "Requirement already satisfied: spacy-legacy<3.1.0,>=3.0.8 in /Users/Owner/anaconda3/lib/python3.8/site-packages (from spacy<3.3.0,>=3.2.0->en-core-web-sm==3.2.0) (3.0.8)\n",
      "Requirement already satisfied: pyparsing>=2.0.2 in /Users/Owner/anaconda3/lib/python3.8/site-packages (from packaging>=20.0->spacy<3.3.0,>=3.2.0->en-core-web-sm==3.2.0) (2.4.7)\n",
      "Requirement already satisfied: smart-open<6.0.0,>=5.0.0 in /Users/Owner/anaconda3/lib/python3.8/site-packages (from pathy>=0.3.5->spacy<3.3.0,>=3.2.0->en-core-web-sm==3.2.0) (5.2.1)\n",
      "Requirement already satisfied: typing-extensions>=3.7.4.3 in /Users/Owner/anaconda3/lib/python3.8/site-packages (from pydantic!=1.8,!=1.8.1,<1.9.0,>=1.7.4->spacy<3.3.0,>=3.2.0->en-core-web-sm==3.2.0) (3.7.4.3)\n",
      "Requirement already satisfied: idna<3,>=2.5 in /Users/Owner/anaconda3/lib/python3.8/site-packages (from requests<3.0.0,>=2.13.0->spacy<3.3.0,>=3.2.0->en-core-web-sm==3.2.0) (2.10)\n",
      "Requirement already satisfied: urllib3<1.27,>=1.21.1 in /Users/Owner/anaconda3/lib/python3.8/site-packages (from requests<3.0.0,>=2.13.0->spacy<3.3.0,>=3.2.0->en-core-web-sm==3.2.0) (1.26.4)\n",
      "Requirement already satisfied: certifi>=2017.4.17 in /Users/Owner/anaconda3/lib/python3.8/site-packages (from requests<3.0.0,>=2.13.0->spacy<3.3.0,>=3.2.0->en-core-web-sm==3.2.0) (2020.12.5)\n",
      "Requirement already satisfied: chardet<5,>=3.0.2 in /Users/Owner/anaconda3/lib/python3.8/site-packages (from requests<3.0.0,>=2.13.0->spacy<3.3.0,>=3.2.0->en-core-web-sm==3.2.0) (4.0.0)\n",
      "Requirement already satisfied: click<9.0.0,>=7.1.1 in /Users/Owner/anaconda3/lib/python3.8/site-packages (from typer<0.5.0,>=0.3.0->spacy<3.3.0,>=3.2.0->en-core-web-sm==3.2.0) (7.1.2)\n",
      "Requirement already satisfied: MarkupSafe>=0.23 in /Users/Owner/anaconda3/lib/python3.8/site-packages (from jinja2->spacy<3.3.0,>=3.2.0->en-core-web-sm==3.2.0) (1.1.1)\n",
      "\u001b[38;5;2m✔ Download and installation successful\u001b[0m\n",
      "You can now load the package via spacy.load('en_core_web_sm')\n"
     ]
    }
   ],
   "source": [
    "!python3 -m spacy download en_core_web_sm"
   ]
  },
  {
   "cell_type": "code",
   "execution_count": 4,
   "id": "ca21d7b2",
   "metadata": {},
   "outputs": [
    {
     "name": "stdout",
     "output_type": "stream",
     "text": [
      "Requirement already satisfied: pyLDAvis==3.2.1 in /Users/Owner/anaconda3/lib/python3.8/site-packages (3.2.1)\n",
      "Requirement already satisfied: pandas>=0.17.0 in /Users/Owner/anaconda3/lib/python3.8/site-packages (from pyLDAvis==3.2.1) (1.2.4)\n",
      "Requirement already satisfied: joblib>=0.8.4 in /Users/Owner/anaconda3/lib/python3.8/site-packages (from pyLDAvis==3.2.1) (1.0.1)\n",
      "Requirement already satisfied: numexpr in /Users/Owner/anaconda3/lib/python3.8/site-packages (from pyLDAvis==3.2.1) (2.7.3)\n",
      "Requirement already satisfied: funcy in /Users/Owner/anaconda3/lib/python3.8/site-packages (from pyLDAvis==3.2.1) (1.16)\n",
      "Requirement already satisfied: numpy>=1.9.2 in /Users/Owner/anaconda3/lib/python3.8/site-packages (from pyLDAvis==3.2.1) (1.20.1)\n",
      "Requirement already satisfied: scipy>=0.18.0 in /Users/Owner/anaconda3/lib/python3.8/site-packages (from pyLDAvis==3.2.1) (1.6.2)\n",
      "Requirement already satisfied: wheel>=0.23.0 in /Users/Owner/anaconda3/lib/python3.8/site-packages (from pyLDAvis==3.2.1) (0.37.0)\n",
      "Requirement already satisfied: future in /Users/Owner/anaconda3/lib/python3.8/site-packages (from pyLDAvis==3.2.1) (0.18.2)\n",
      "Requirement already satisfied: jinja2>=2.7.2 in /Users/Owner/anaconda3/lib/python3.8/site-packages (from pyLDAvis==3.2.1) (2.11.3)\n",
      "Requirement already satisfied: MarkupSafe>=0.23 in /Users/Owner/anaconda3/lib/python3.8/site-packages (from jinja2>=2.7.2->pyLDAvis==3.2.1) (1.1.1)\n",
      "Requirement already satisfied: python-dateutil>=2.7.3 in /Users/Owner/anaconda3/lib/python3.8/site-packages (from pandas>=0.17.0->pyLDAvis==3.2.1) (2.8.1)\n",
      "Requirement already satisfied: pytz>=2017.3 in /Users/Owner/anaconda3/lib/python3.8/site-packages (from pandas>=0.17.0->pyLDAvis==3.2.1) (2021.1)\n",
      "Requirement already satisfied: six>=1.5 in /Users/Owner/anaconda3/lib/python3.8/site-packages (from python-dateutil>=2.7.3->pandas>=0.17.0->pyLDAvis==3.2.1) (1.15.0)\n"
     ]
    }
   ],
   "source": [
    "!pip install pyLDAvis==3.2.1"
   ]
  },
  {
   "cell_type": "code",
   "execution_count": 5,
   "id": "98e84e60",
   "metadata": {},
   "outputs": [],
   "source": [
    "import re\n",
    "import numpy as np\n",
    "import pandas as pd\n",
    "from pprint import pprint\n",
    "\n",
    "import gensim\n",
    "import gensim.models\n",
    "import gensim.corpora as corpora\n",
    "from gensim.utils import simple_preprocess\n",
    "from gensim.models import CoherenceModel\n",
    "\n",
    "import spacy\n",
    "\n",
    "import pyLDAvis\n",
    "import pyLDAvis.gensim  # don't skip this\n",
    "import matplotlib.pyplot as plt\n",
    "%matplotlib inline\n",
    "\n",
    "import logging\n",
    "logging.basicConfig(format='%(asctime)s : %(levelname)s : %(message)s', level=logging.ERROR)\n",
    "\n",
    "import warnings\n",
    "warnings.filterwarnings(\"ignore\",category=DeprecationWarning)"
   ]
  },
  {
   "cell_type": "code",
   "execution_count": 6,
   "id": "3fe45f48",
   "metadata": {},
   "outputs": [],
   "source": [
    "# NLTK Stop words\n",
    "from nltk.corpus import stopwords\n",
    "stop_words = stopwords.words('english')\n",
    "stop_words.extend(['from', 'subject', 're', 'edu', 'use'])"
   ]
  },
  {
   "cell_type": "code",
   "execution_count": 7,
   "id": "37bdde78",
   "metadata": {},
   "outputs": [],
   "source": [
    "all = pd.read_csv('Customer Reviews Data.csv')"
   ]
  },
  {
   "cell_type": "code",
   "execution_count": 8,
   "id": "9e1a30fa",
   "metadata": {},
   "outputs": [
    {
     "name": "stdout",
     "output_type": "stream",
     "text": [
      "[['the', 'assistance', 'service', 'is', 'completely', 'useless', 'problem', 'reported', 'over', 'months', 'ago', 'by', 'email', 'and', 'phone', 'and', 'they', 'always', 'reply', 'sending', 'the', 'same', 'stupid', 'template', 'of', 'escalation', 'to', 'the', 'relevant', 'department', 'shame', 'on', 'you']]\n"
     ]
    }
   ],
   "source": [
    "#tokenize words and clean text\n",
    "def sent_to_words(sentences):\n",
    "    for sentence in sentences:\n",
    "        yield(gensim.utils.simple_preprocess(str(sentence), deacc=True))  # deacc=True removes punctuations\n",
    "\n",
    "data_words = list(sent_to_words(all['Statement']))\n",
    "\n",
    "print(data_words[:1])"
   ]
  },
  {
   "cell_type": "code",
   "execution_count": 9,
   "id": "e6fb84e8",
   "metadata": {},
   "outputs": [
    {
     "name": "stdout",
     "output_type": "stream",
     "text": [
      "['the', 'assistance', 'service', 'is', 'completely', 'useless', 'problem', 'reported', 'over', 'months', 'ago', 'by', 'email', 'and', 'phone', 'and', 'they', 'always', 'reply', 'sending', 'the', 'same', 'stupid', 'template', 'of', 'escalation', 'to', 'the', 'relevant', 'department', 'shame', 'on', 'you']\n"
     ]
    }
   ],
   "source": [
    "# Build the bigram and trigram models\n",
    "bigram = gensim.models.Phrases(data_words, min_count=5, threshold=100) # higher threshold fewer phrases.\n",
    "trigram = gensim.models.Phrases(bigram[data_words], threshold=100)  \n",
    "\n",
    "# Faster way to get a sentence clubbed as a trigram/bigram\n",
    "bigram_mod = gensim.models.phrases.Phraser(bigram)\n",
    "trigram_mod = gensim.models.phrases.Phraser(trigram)\n",
    "\n",
    "# See trigram example\n",
    "print(trigram_mod[bigram_mod[data_words[0]]])"
   ]
  },
  {
   "cell_type": "code",
   "execution_count": 10,
   "id": "2d99d836",
   "metadata": {},
   "outputs": [],
   "source": [
    "# Define functions for stopwords, bigrams, trigrams and lemmatization\n",
    "def remove_stopwords(texts):\n",
    "    return [[word for word in simple_preprocess(str(doc)) if word not in stop_words] for doc in texts]\n",
    "\n",
    "def make_bigrams(texts):\n",
    "    return [bigram_mod[doc] for doc in texts]\n",
    "\n",
    "def make_trigrams(texts):\n",
    "    return [trigram_mod[bigram_mod[doc]] for doc in texts]\n",
    "\n",
    "def lemmatization(texts, allowed_postags=['NOUN', 'ADJ', 'VERB', 'ADV']):\n",
    "    \"\"\"https://spacy.io/api/annotation\"\"\"\n",
    "    texts_out = []\n",
    "    for sent in texts:\n",
    "        doc = nlp(\" \".join(sent)) \n",
    "        texts_out.append([token.lemma_ for token in doc if token.pos_ in allowed_postags])\n",
    "    return texts_out"
   ]
  },
  {
   "cell_type": "code",
   "execution_count": 11,
   "id": "3bedb8a3",
   "metadata": {},
   "outputs": [
    {
     "name": "stdout",
     "output_type": "stream",
     "text": [
      "[['assistance', 'service', 'completely', 'useless', 'problem', 'report', 'month', 'ago', 'email', 'phone', 'always', 'reply', 'send', 'stupid', 'template', 'escalation', 'relevant', 'department', 'shame']]\n"
     ]
    }
   ],
   "source": [
    "# Remove Stop Words\n",
    "data_words_nostops = remove_stopwords(data_words)\n",
    "\n",
    "# Form Bigrams\n",
    "data_words_bigrams = make_bigrams(data_words_nostops)\n",
    "\n",
    "# Initialize spacy 'en' model, keeping only tagger component (for efficiency)\n",
    "# python3 -m spacy download en\n",
    "nlp = spacy.load('en_core_web_sm', disable=['parser', 'ner'])\n",
    "\n",
    "# Do lemmatization keeping only noun, adj, vb, adv\n",
    "data_lemmatized = lemmatization(data_words_bigrams, allowed_postags=['NOUN', 'ADJ', 'VERB', 'ADV'])\n",
    "\n",
    "print(data_lemmatized[:1])"
   ]
  },
  {
   "cell_type": "code",
   "execution_count": 12,
   "id": "04d6f714",
   "metadata": {},
   "outputs": [
    {
     "name": "stdout",
     "output_type": "stream",
     "text": [
      "[[(0, 1), (1, 1), (2, 1), (3, 1), (4, 1), (5, 1), (6, 1), (7, 1), (8, 1), (9, 1), (10, 1), (11, 1), (12, 1), (13, 1), (14, 1), (15, 1), (16, 1), (17, 1), (18, 1)]]\n"
     ]
    }
   ],
   "source": [
    "# Create Dictionary\n",
    "id2word = corpora.Dictionary(data_lemmatized)\n",
    "\n",
    "# Create Corpus\n",
    "texts = data_lemmatized\n",
    "\n",
    "# Term Document Frequency\n",
    "corpus = [id2word.doc2bow(text) for text in texts]\n",
    "\n",
    "# View\n",
    "print(corpus[:1])"
   ]
  },
  {
   "cell_type": "code",
   "execution_count": 13,
   "id": "fbc64157",
   "metadata": {},
   "outputs": [
    {
     "data": {
      "text/plain": [
       "'ago'"
      ]
     },
     "execution_count": 13,
     "metadata": {},
     "output_type": "execute_result"
    }
   ],
   "source": [
    "id2word[0]"
   ]
  },
  {
   "cell_type": "code",
   "execution_count": 14,
   "id": "6f91e097",
   "metadata": {},
   "outputs": [
    {
     "data": {
      "text/plain": [
       "[[('ago', 1),\n",
       "  ('always', 1),\n",
       "  ('assistance', 1),\n",
       "  ('completely', 1),\n",
       "  ('department', 1),\n",
       "  ('email', 1),\n",
       "  ('escalation', 1),\n",
       "  ('month', 1),\n",
       "  ('phone', 1),\n",
       "  ('problem', 1),\n",
       "  ('relevant', 1),\n",
       "  ('reply', 1),\n",
       "  ('report', 1),\n",
       "  ('send', 1),\n",
       "  ('service', 1),\n",
       "  ('shame', 1),\n",
       "  ('stupid', 1),\n",
       "  ('template', 1),\n",
       "  ('useless', 1)]]"
      ]
     },
     "execution_count": 14,
     "metadata": {},
     "output_type": "execute_result"
    }
   ],
   "source": [
    "[[(id2word[id], freq) for id, freq in cp] for cp in corpus[:1]]"
   ]
  },
  {
   "cell_type": "code",
   "execution_count": 15,
   "id": "4aa36e22",
   "metadata": {},
   "outputs": [],
   "source": [
    "# Build LDA model\n",
    "lda_model = gensim.models.ldamodel.LdaModel(corpus=corpus,\n",
    "                                           id2word=id2word,\n",
    "                                           num_topics=20, \n",
    "                                           random_state=100,\n",
    "                                           update_every=1,\n",
    "                                           chunksize=100,\n",
    "                                           passes=10,\n",
    "                                           alpha='auto',\n",
    "                                           per_word_topics=True)"
   ]
  },
  {
   "cell_type": "code",
   "execution_count": 16,
   "id": "29f76b99",
   "metadata": {},
   "outputs": [
    {
     "name": "stdout",
     "output_type": "stream",
     "text": [
      "[(0,\n",
      "  '0.055*\"useless\" + 0.048*\"good\" + 0.039*\"need\" + 0.036*\"bill\" + 0.035*\"stop\" '\n",
      "  '+ 0.035*\"let\" + 0.034*\"even\" + 0.026*\"see\" + 0.024*\"disgrace\" + '\n",
      "  '0.024*\"total\"'),\n",
      " (1,\n",
      "  '0.045*\"expect\" + 0.027*\"prosit\" + 0.027*\"reply\" + 0.027*\"query\" + '\n",
      "  '0.016*\"arm\" + 0.014*\"capable\" + 0.014*\"deserve\" + 0.014*\"mizzi\" + '\n",
      "  '0.014*\"people\" + 0.014*\"support\"'),\n",
      " (2,\n",
      "  '0.047*\"service\" + 0.040*\"work\" + 0.040*\"take\" + 0.040*\"customer\" + '\n",
      "  '0.037*\"time\" + 0.033*\"care\" + 0.033*\"system\" + 0.031*\"arm\" + 0.028*\"joke\" + '\n",
      "  '0.028*\"hour\"'),\n",
      " (3,\n",
      "  '0.083*\"thing\" + 0.049*\"make\" + 0.016*\"time\" + 0.016*\"simple\" + '\n",
      "  '0.016*\"waste\" + 0.016*\"open\" + 0.016*\"hour\" + 0.016*\"excellent\" + '\n",
      "  '0.001*\"service\" + 0.001*\"sign\"'),\n",
      " (4,\n",
      "  '0.072*\"change\" + 0.046*\"bother\" + 0.027*\"option\" + 0.027*\"buy\" + '\n",
      "  '0.027*\"star\" + 0.025*\"name\" + 0.021*\"last\" + 0.017*\"service\" + '\n",
      "  '0.017*\"ownership\" + 0.017*\"reply\"'),\n",
      " (5,\n",
      "  '0.090*\"help\" + 0.080*\"bill\" + 0.042*\"send\" + 0.033*\"month\" + 0.026*\"refund\" '\n",
      "  '+ 0.024*\"much\" + 0.022*\"arm\" + 0.021*\"high\" + 0.014*\"interest\" + '\n",
      "  '0.014*\"arrive\"'),\n",
      " (6,\n",
      "  '0.056*\"tell\" + 0.042*\"back\" + 0.038*\"want\" + 0.025*\"chrome\" + '\n",
      "  '0.020*\"arrive\" + 0.019*\"bad\" + 0.019*\"malta\" + 0.019*\"talk\" + 0.019*\"sell\" '\n",
      "  '+ 0.018*\"foreign\"'),\n",
      " (7,\n",
      "  '0.082*\"bill\" + 0.074*\"pay\" + 0.051*\"log\" + 0.050*\"app\" + 0.044*\"try\" + '\n",
      "  '0.039*\"payment\" + 0.032*\"happen\" + 0.029*\"website\" + 0.027*\"still\" + '\n",
      "  '0.027*\"use\"'),\n",
      " (8,\n",
      "  '0.098*\"ask\" + 0.053*\"bill\" + 0.037*\"mount\" + 0.034*\"good\" + 0.026*\"service\" '\n",
      "  '+ 0.025*\"head\" + 0.025*\"quarter\" + 0.025*\"quick\" + 0.025*\"personally\" + '\n",
      "  '0.015*\"cut\"'),\n",
      " (9,\n",
      "  '0.050*\"money\" + 0.044*\"arm\" + 0.042*\"state\" + 0.042*\"possible\" + '\n",
      "  '0.033*\"even\" + 0.029*\"time\" + 0.025*\"arrogant\" + 0.025*\"manager\" + '\n",
      "  '0.025*\"write\" + 0.025*\"end\"'),\n",
      " (10,\n",
      "  '0.052*\"lot\" + 0.044*\"reason\" + 0.042*\"great\" + 0.034*\"service\" + '\n",
      "  '0.026*\"need\" + 0.026*\"later\" + 0.026*\"able\" + 0.026*\"explain\" + 0.026*\"arm\" '\n",
      "  '+ 0.024*\"question\"'),\n",
      " (11,\n",
      "  '0.045*\"still\" + 0.044*\"ask\" + 0.040*\"meter\" + 0.038*\"get\" + 0.038*\"smart\" + '\n",
      "  '0.034*\"come\" + 0.026*\"instal\" + 0.026*\"carry\" + 0.026*\"age\" + '\n",
      "  '0.024*\"reader\"'),\n",
      " (12,\n",
      "  '0.087*\"service\" + 0.065*\"information\" + 0.046*\"slow\" + 0.046*\"give\" + '\n",
      "  '0.039*\"bill\" + 0.034*\"terrible\" + 0.027*\"contact\" + 0.027*\"detail\" + '\n",
      "  '0.027*\"telephone\" + 0.017*\"process\"'),\n",
      " (13,\n",
      "  '0.070*\"work\" + 0.059*\"never\" + 0.055*\"bill\" + 0.050*\"account\" + '\n",
      "  '0.046*\"receive\" + 0.039*\"pay\" + 0.035*\"go\" + 0.035*\"year\" + 0.032*\"find\" + '\n",
      "  '0.025*\"unit\"'),\n",
      " (14,\n",
      "  '0.135*\"bill\" + 0.106*\"time\" + 0.061*\"pay\" + 0.041*\"month\" + 0.039*\"issue\" + '\n",
      "  '0.039*\"day\" + 0.034*\"many\" + 0.032*\"receive\" + 0.029*\"wait\" + 0.029*\"long\"'),\n",
      " (15,\n",
      "  '0.051*\"pay\" + 0.045*\"meter\" + 0.040*\"download\" + 0.035*\"year\" + '\n",
      "  '0.035*\"water\" + 0.035*\"charge\" + 0.024*\"lol\" + 0.024*\"begin\" + '\n",
      "  '0.024*\"together\" + 0.023*\"read\"'),\n",
      " (16,\n",
      "  '0.053*\"send\" + 0.046*\"water\" + 0.040*\"online\" + 0.027*\"day\" + 0.026*\"email\" '\n",
      "  '+ 0.024*\"electricity\" + 0.024*\"helpful\" + 0.024*\"place\" + 0.024*\"customer\" '\n",
      "  '+ 0.020*\"get\"'),\n",
      " (17,\n",
      "  '0.067*\"user\" + 0.042*\"big\" + 0.038*\"friendly\" + 0.026*\"amount\" + '\n",
      "  '0.026*\"smile\" + 0.016*\"bill\" + 0.013*\"arm\" + 0.013*\"right\" + 0.013*\"mind\" + '\n",
      "  '0.013*\"look\"'),\n",
      " (18,\n",
      "  '0.048*\"well\" + 0.048*\"answer\" + 0.034*\"attach\" + 0.034*\"close\" + '\n",
      "  '0.034*\"open\" + 0.034*\"steal\" + 0.021*\"opening\" + 0.021*\"hour\" + 0.021*\"buy\" '\n",
      "  '+ 0.012*\"pay\"'),\n",
      " (19,\n",
      "  '0.057*\"call\" + 0.046*\"tell\" + 0.042*\"properly\" + 0.034*\"problem\" + '\n",
      "  '0.034*\"say\" + 0.024*\"always\" + 0.023*\"remain\" + 0.022*\"receive\" + '\n",
      "  '0.022*\"answer\" + 0.018*\"well\"')]\n"
     ]
    }
   ],
   "source": [
    "# Print the Keyword in the 10 topics\n",
    "pprint(lda_model.print_topics())\n",
    "doc_lda = lda_model[corpus]"
   ]
  },
  {
   "cell_type": "code",
   "execution_count": 17,
   "id": "ef92c3f5",
   "metadata": {},
   "outputs": [
    {
     "name": "stdout",
     "output_type": "stream",
     "text": [
      "\n",
      "Perplexity:  -8.813577213746504\n",
      "\n",
      "Coherence Score:  0.35705021624518285\n"
     ]
    }
   ],
   "source": [
    "# Compute Perplexity\n",
    "print('\\nPerplexity: ', lda_model.log_perplexity(corpus))  # a measure of how good the model is. lower the better.\n",
    "\n",
    "# Compute Coherence Score\n",
    "coherence_model_lda = CoherenceModel(model=lda_model, texts=data_lemmatized, dictionary=id2word, coherence='c_v')\n",
    "coherence_lda = coherence_model_lda.get_coherence()\n",
    "print('\\nCoherence Score: ', coherence_lda)"
   ]
  },
  {
   "cell_type": "code",
   "execution_count": 18,
   "id": "05dc3b8f",
   "metadata": {},
   "outputs": [
    {
     "data": {
      "text/html": [
       "\n",
       "<link rel=\"stylesheet\" type=\"text/css\" href=\"https://cdn.jsdelivr.net/gh/bmabey/pyLDAvis/pyLDAvis/js/ldavis.v1.0.0.css\">\n",
       "\n",
       "\n",
       "<div id=\"ldavis_el544671406685510968004730201216\"></div>\n",
       "<script type=\"text/javascript\">\n",
       "\n",
       "var ldavis_el544671406685510968004730201216_data = {\"mdsDat\": {\"x\": [-0.2281047917089369, -0.32827000912215093, -0.11004994643433796, 0.09264707632739021, 0.17799682828845598, -0.22117093550539813, -0.11799975267001901, -0.19556229781212606, 0.273941482725855, 0.13996433918158827, 0.04074536737242175, 0.24799476681261068, -0.07470052079972025, -0.03294956166265665, 0.0015797627506110086, 0.09572421291800613, 0.14051034062108197, 0.06767879977047818, 0.00421177700694312, 0.025813061939903716], \"y\": [-0.058203108297217226, -0.043878362380530826, -0.29674214555597933, -0.2739019326934882, 0.24820227750952154, 0.13228116823631947, 0.25931682822256924, -0.19438392803574808, -0.08315851354228934, -0.1470564965328074, -0.15211798393253664, 0.08548648964138372, 0.14107931829808715, -0.08712998365654817, 0.19923057001411387, 0.1545835326991544, 0.022735224340683306, 0.0236944174930661, 0.05875067656594395, 0.011211951606302251], \"topics\": [1, 2, 3, 4, 5, 6, 7, 8, 9, 10, 11, 12, 13, 14, 15, 16, 17, 18, 19, 20], \"cluster\": [1, 1, 1, 1, 1, 1, 1, 1, 1, 1, 1, 1, 1, 1, 1, 1, 1, 1, 1, 1], \"Freq\": [11.55013851804905, 9.860758696098069, 8.47254553232967, 7.835288611310427, 7.248400784446911, 6.531905101438744, 6.043152944375507, 5.89194959687871, 5.3984326286957245, 4.129099847040432, 3.863736145846946, 3.81701076820315, 3.6403872140562834, 3.4525230256928863, 3.450478407983182, 3.2237192557241223, 2.0801931485910354, 1.4333274921376586, 1.2635588581158, 0.8133934229856905]}, \"tinfo\": {\"Term\": [\"time\", \"bill\", \"help\", \"pay\", \"service\", \"ask\", \"work\", \"tell\", \"send\", \"arm\", \"good\", \"meter\", \"log\", \"useless\", \"app\", \"month\", \"call\", \"even\", \"well\", \"water\", \"never\", \"change\", \"receive\", \"still\", \"account\", \"year\", \"day\", \"answer\", \"charge\", \"need\", \"refund\", \"help\", \"interest\", \"relative\", \"due\", \"hassle\", \"date\", \"lose\", \"high\", \"report\", \"residential\", \"apparently\", \"switch\", \"much\", \"sort\", \"support\", \"rate\", \"notice\", \"instead\", \"office\", \"amazing\", \"concern\", \"dedicated\", \"stuff\", \"relevant\", \"department\", \"stupid\", \"escalation\", \"template\", \"completely\", \"send\", \"arrive\", \"month\", \"give\", \"ago\", \"bill\", \"arm\", \"electricity\", \"account\", \"people\", \"always\", \"get\", \"wait\", \"problem\", \"receive\", \"check\", \"log\", \"app\", \"payment\", \"twice\", \"website\", \"ridiculous\", \"use\", \"button\", \"nearly\", \"increase\", \"spend\", \"try\", \"check\", \"happen\", \"consumption\", \"reading\", \"shame\", \"terrible\", \"add\", \"however\", \"side\", \"pass\", \"usual\", \"excuse\", \"anger\", \"cooker\", \"average\", \"person\", \"still\", \"euro\", \"pay\", \"bill\", \"always\", \"well\", \"charge\", \"good\", \"last\", \"extra\", \"come\", \"go\", \"receive\", \"issue\", \"many\", \"second\", \"depend\", \"organize\", \"mail\", \"band\", \"long\", \"time\", \"extra\", \"period\", \"day\", \"arrange\", \"calculate\", \"third\", \"fault\", \"devotion\", \"solve\", \"flat\", \"billing\", \"wait\", \"see\", \"month\", \"review\", \"euro\", \"little\", \"week\", \"double\", \"less\", \"charge\", \"bill\", \"receive\", \"pay\", \"well\", \"instead\", \"help\", \"process\", \"stop\", \"let\", \"useless\", \"disgrace\", \"total\", \"old\", \"company\", \"need\", \"case\", \"property\", \"reader\", \"good\", \"address\", \"save\", \"centrally\", \"chance\", \"door\", \"meqter\", \"search\", \"shirt\", \"sparixxa\", \"black\", \"overcharged\", \"statement\", \"sure\", \"white\", \"annoying\", \"bag\", \"cost\", \"envelope\", \"see\", \"even\", \"open\", \"put\", \"customer\", \"year\", \"come\", \"bill\", \"meter\", \"online\", \"send\", \"pay\", \"go\", \"minute\", \"read\", \"try\", \"care\", \"joke\", \"assistant\", \"break\", \"lunch\", \"outside\", \"sometimes\", \"easy\", \"take\", \"system\", \"hour\", \"waiting\", \"patience\", \"benn\", \"hearing\", \"refer\", \"appreciate\", \"face\", \"mask\", \"shield\", \"wear\", \"connect\", \"ever\", \"hopeless\", \"sick\", \"prompt\", \"response\", \"receipt\", \"customer\", \"work\", \"thank\", \"service\", \"bad\", \"even\", \"arm\", \"email\", \"time\", \"meter\", \"reading\", \"long\", \"come\", \"wait\", \"charge\", \"bill\", \"still\", \"properly\", \"remain\", \"rectify\", \"call\", \"computer\", \"efficient\", \"say\", \"phone\", \"anxiously\", \"await\", \"away\", \"helpline\", \"manner\", \"polite\", \"register\", \"request\", \"serve\", \"straight\", \"worried\", \"hostile\", \"energy\", \"indicate\", \"unsuccessful\", \"possibly\", \"solar\", \"promote\", \"surprisingly\", \"leak\", \"interesting\", \"utility\", \"problem\", \"tell\", \"do\", \"minute\", \"answer\", \"always\", \"week\", \"mistake\", \"well\", \"receive\", \"try\", \"wait\", \"never\", \"bill\", \"get\", \"people\", \"happen\", \"solution\", \"chrome\", \"want\", \"talk\", \"sell\", \"foreign\", \"investor\", \"back\", \"malta\", \"provide\", \"number\", \"tell\", \"correct\", \"currently\", \"donate\", \"dream\", \"economy\", \"entity\", \"flight\", \"government\", \"grow\", \"guy\", \"hear\", \"investment\", \"learn\", \"opinion\", \"poltician\", \"potentially\", \"sound\", \"strange\", \"suggest\", \"bad\", \"arrive\", \"property\", \"call\", \"hope\", \"island\", \"meter\", \"use\", \"say\", \"do\", \"mistake\", \"month\", \"last\", \"year\", \"make\", \"phone\", \"thank\", \"team\", \"know\", \"find\", \"access\", \"anymore\", \"enough\", \"consumer\", \"invoice\", \"authority\", \"never\", \"unit\", \"account\", \"previous\", \"banking\", \"consume\", \"work\", \"internet\", \"overlap\", \"cover\", \"repeat\", \"type\", \"manage\", \"triq\", \"certain\", \"incident\", \"valletta\", \"year\", \"go\", \"mistake\", \"first\", \"notice\", \"receive\", \"pay\", \"bill\", \"charge\", \"happen\", \"problem\", \"website\", \"explain\", \"place\", \"desk\", \"lady\", \"rude\", \"convenient\", \"love\", \"online\", \"public\", \"apply\", \"incompetent\", \"water\", \"settle\", \"nice\", \"fast\", \"chairman\", \"horrible\", \"sometime\", \"robbery\", \"healthcare\", \"opportunity\", \"worker\", \"infuriate\", \"onwards\", \"span\", \"helpful\", \"electricity\", \"also\", \"next\", \"email\", \"really\", \"send\", \"day\", \"customer\", \"get\", \"reply\", \"go\", \"time\", \"thank\", \"arm\", \"sort\", \"service\", \"problem\", \"download\", \"lol\", \"begin\", \"together\", \"unacceptable\", \"cubic\", \"read\", \"cashier\", \"whole\", \"winter\", \"sudden\", \"theoil\", \"disappoint\", \"spite\", \"pretend\", \"entirely\", \"nil\", \"fair\", \"tariff\", \"water\", \"meeter\", \"double\", \"less\", \"first\", \"amount\", \"several\", \"guess\", \"year\", \"meter\", \"smart\", \"charge\", \"pay\", \"go\", \"month\", \"get\", \"bill\", \"still\", \"office\", \"wait\", \"also\", \"come\", \"yet\", \"waiting\", \"mount\", \"head\", \"quarter\", \"personally\", \"ask\", \"cut\", \"quick\", \"post\", \"speak\", \"unnecessary\", \"wasteful\", \"afford\", \"tv\", \"seriously\", \"heater\", \"limit\", \"tank\", \"word\", \"express\", \"waist\", \"foreigner\", \"single\", \"kick\", \"gas\", \"fish\", \"excessive\", \"small\", \"rent\", \"believe\", \"thief\", \"good\", \"bill\", \"service\", \"receive\", \"email\", \"get\", \"also\", \"bit\", \"money\", \"possible\", \"state\", \"arrogant\", \"manager\", \"write\", \"end\", \"order\", \"one\", \"generate\", \"owe\", \"client\", \"insist\", \"blatalbajda\", \"skill\", \"disappointing\", \"negligence\", \"notary\", \"signature\", \"eye\", \"cheap\", \"higher\", \"robber\", \"document\", \"experience\", \"communication\", \"make\", \"even\", \"name\", \"consume\", \"arm\", \"back\", \"much\", \"time\", \"electricity\", \"send\", \"never\", \"great\", \"reason\", \"lot\", \"later\", \"great\", \"reach\", \"explain\", \"question\", \"able\", \"datum\", \"general\", \"hang\", \"hotline\", \"juice\", \"law\", \"protection\", \"shop\", \"stretch\", \"really\", \"helpful\", \"hold\", \"keep\", \"team\", \"understand\", \"ready\", \"put\", \"one\", \"staff\", \"nice\", \"fast\", \"minute\", \"need\", \"service\", \"answer\", \"arm\", \"valletta\", \"office\", \"customer\", \"instal\", \"carry\", \"age\", \"smart\", \"point\", \"fanfare\", \"grip\", \"often\", \"stone\", \"false\", \"bil\", \"transaction\", \"unsuccessfully\", \"figure\", \"thing\", \"yet\", \"meeter\", \"estimate\", \"block\", \"line\", \"know\", \"message\", \"ask\", \"reader\", \"still\", \"get\", \"come\", \"meter\", \"question\", \"ago\", \"answer\", \"month\", \"bill\", \"back\", \"day\", \"change\", \"bother\", \"option\", \"star\", \"ownership\", \"name\", \"buy\", \"apartment\", \"choice\", \"entitle\", \"fool\", \"insider\", \"tip\", \"necessary\", \"low\", \"awful\", \"capable\", \"party\", \"document\", \"self\", \"seem\", \"result\", \"live\", \"offer\", \"assistance\", \"last\", \"staff\", \"settle\", \"provide\", \"reply\", \"service\", \"receive\", \"terrible\", \"still\", \"incompetent\", \"customer\", \"people\", \"malta\", \"helpful\", \"quick\", \"information\", \"slow\", \"detail\", \"telephone\", \"give\", \"contact\", \"process\", \"absolutely\", \"disgusting\", \"horrific\", \"deal\", \"pick\", \"political\", \"worth\", \"agree\", \"terrible\", \"party\", \"little\", \"new\", \"service\", \"big\", \"apply\", \"great\", \"come\", \"get\", \"barn\", \"fact\", \"furthermore\", \"soory\", \"visit\", \"customer\", \"bill\", \"help\", \"pay\", \"update\", \"friendly\", \"attach\", \"steal\", \"opening\", \"close\", \"open\", \"hard\", \"map\", \"cent\", \"contract\", \"expire\", \"miserable\", \"right\", \"answer\", \"buy\", \"review\", \"otherwise\", \"list\", \"well\", \"actual\", \"hour\", \"put\", \"rate\", \"pm\", \"bajda\", \"blata\", \"closing\", \"establishment\", \"receptionist\", \"revise\", \"screenshot\", \"good\", \"service\", \"pay\", \"call\", \"show\", \"return\", \"user\", \"friendly\", \"big\", \"amount\", \"smile\", \"mind\", \"outlet\", \"section\", \"right\", \"look\", \"efficient\", \"actual\", \"valletta\", \"internet\", \"apple\", \"husband\", \"mobile\", \"update\", \"cash\", \"challenge\", \"clean\", \"denial\", \"direct\", \"reality\", \"business\", \"visit\", \"feature\", \"version\", \"site\", \"unreliable\", \"arm\", \"bill\", \"website\", \"still\", \"receive\", \"back\", \"contact\", \"manager\", \"arrogant\", \"eye\", \"signature\", \"notary\", \"expect\", \"prosit\", \"query\", \"alexine\", \"deserve\", \"mizzi\", \"regard\", \"capable\", \"billing\", \"support\", \"reply\", \"people\", \"helpful\", \"thank\", \"say\", \"get\", \"fine\", \"particular\", \"late\", \"feature\", \"version\", \"site\", \"unreliable\", \"upgrade\", \"immediately\", \"fix\", \"galaxy\", \"totally\", \"please\", \"nation\", \"arm\", \"pay\", \"wait\", \"time\", \"bill\", \"find\", \"receive\", \"year\", \"go\", \"mistake\", \"valletta\", \"never\", \"charge\", \"thing\", \"make\", \"simple\", \"excellent\", \"waste\", \"open\", \"hour\", \"constant\", \"crazy\", \"sign\", \"bunch\", \"threaten\", \"remove\", \"portal\", \"feature\", \"version\", \"site\", \"unreliable\", \"upgrade\", \"fix\", \"galaxy\", \"totally\", \"please\", \"nation\", \"suspension\", \"freeken\", \"accept\", \"bloody\", \"citizen\", \"job\", \"time\", \"service\", \"web\", \"login\", \"ago\", \"always\", \"assistance\", \"completely\", \"department\", \"email\", \"escalation\", \"month\", \"phone\", \"problem\"], \"Freq\": [27.0, 80.0, 22.0, 37.0, 20.0, 10.0, 14.0, 12.0, 18.0, 16.0, 14.0, 13.0, 10.0, 9.0, 10.0, 17.0, 10.0, 11.0, 10.0, 8.0, 9.0, 5.0, 17.0, 12.0, 8.0, 10.0, 10.0, 7.0, 14.0, 9.0, 5.676422598634774, 19.789535492292668, 3.117040413794758, 2.403576065820396, 2.4035742321984204, 2.4035599706941677, 2.4035585445437424, 2.403512907730133, 4.543946698808227, 1.4804763659670148, 1.4804780977211027, 1.4804677071965757, 1.4804393879238449, 5.316969940843469, 2.024873637060102, 1.4804483522979468, 2.19321378469603, 2.8260535706775816, 1.9401843426194458, 2.144404601333646, 0.7670050400423578, 0.7670050400423578, 0.7670050400423578, 0.7670050400423578, 0.7669985714315003, 0.7669984695636127, 0.7669972471489624, 0.7669949041875495, 0.7669938855086743, 0.7669938855086743, 9.248548835553605, 3.0058925654568323, 7.151859967677697, 2.4036341305162825, 1.4804649567636126, 17.41318586050567, 4.809844703643735, 2.191682914082371, 2.4025113426600306, 1.4796651919786885, 2.177544466237615, 2.310462093346013, 2.4031376264325073, 1.9466215781676461, 1.5471207828122764, 1.4927970832268536, 9.567198194712576, 9.37699806430188, 7.253951447392103, 3.6511734054077554, 5.368249721723615, 2.816851714090879, 4.9856557752415025, 2.17217025196825, 2.1719900538756, 2.1720872843136227, 2.171982052801988, 8.2911104430805, 4.09527543134486, 6.0244000271233515, 2.1720845013314967, 4.229880971445279, 2.1721132008346697, 3.7119596488738495, 0.6931383555414764, 0.6931383555414764, 0.6931383555414764, 0.6931359204321162, 0.6931359204321162, 0.6930232966242098, 0.6928533607781486, 0.6926524207718414, 0.6897966897538338, 1.3301964903917107, 5.131600576013794, 3.1161412651081584, 13.830047763912017, 15.287410622277111, 2.6709295250483613, 2.791791829729303, 3.262139290413606, 2.7838211949844185, 1.3627424227355038, 1.3379859703938393, 1.6575133674304698, 1.5612446236686377, 1.5949460154038169, 6.311321141413969, 5.514446476097603, 2.6899342684774914, 2.0742889024413858, 2.0742889024413858, 2.074252586250668, 1.8934650592327995, 4.717743079730052, 17.08326762897358, 3.303039444004846, 1.2409571156755583, 6.2052240627546045, 0.661907261181936, 0.661907261181936, 0.661907261181936, 0.6619071864572637, 0.6619051688911127, 0.6619051688911127, 0.6618492748362634, 0.8072081160689634, 4.7177625081448396, 3.223048774643053, 6.532158253224793, 0.6619071864572637, 2.689955789183102, 0.661907261181936, 1.4027571034725679, 0.6619071864572637, 0.6619051688911127, 4.4882639101232, 21.68075748923295, 5.136770048582315, 9.810175393477191, 2.074289649688108, 0.8804932175163037, 0.8323921240121778, 0.6619071864572637, 5.1996943025288855, 5.199528452196054, 8.197497668920716, 3.5083028532068923, 3.508285715339166, 2.2016106490745697, 2.201515285133191, 5.835846424173118, 2.2015441707328263, 3.4497134589617255, 3.316333857125906, 7.160102178552364, 1.3554065931434423, 1.3561273510482086, 0.702545188674983, 0.702545188674983, 0.702545188674983, 0.702545188674983, 0.702545188674983, 0.702545188674983, 0.702545188674983, 0.7025447740491508, 0.7025447740491508, 0.7025447740491508, 0.7025447740491508, 0.7025447740491508, 0.7025447740491508, 0.7025447740491508, 0.7025447740491508, 0.7025447740491508, 3.910889333209731, 5.118514987283096, 1.35612762746543, 1.1487744927195456, 2.3907889368884336, 2.0942846142319618, 2.0096995624014644, 5.409162720061434, 2.102748233133607, 1.3191167436078313, 2.040817783933537, 2.530492135497921, 0.9690828439436799, 0.7788613575363019, 0.7489969645204402, 0.7662475413684483, 4.546678689955476, 3.8072639386815625, 1.9251143932491033, 1.9251143932491033, 1.9251143932491033, 1.9251143932491033, 1.9251143932491033, 1.9249924182913094, 5.525785740365988, 4.546392803157125, 3.807249618770375, 1.9251143932491033, 1.1857330124825107, 0.6143059704160148, 0.6143059704160148, 0.6143059704160148, 0.6143059704160148, 0.6143059704160148, 0.6143059704160148, 0.6143059704160148, 0.6143059704160148, 0.6143052032779154, 0.6143052032779154, 0.6143052032779154, 0.6142997693830451, 0.6142997693830451, 0.6142997693830451, 0.6142881344552052, 5.437658449790811, 5.554738555085615, 2.900193968638117, 6.489223227959524, 1.9250915069624732, 3.235876723868057, 4.264085471177178, 2.3549497973990814, 5.1426621422224965, 3.067938686852571, 1.8742059582702157, 1.9251143932491033, 2.213175772399447, 1.9251143932491033, 1.8299218886354187, 3.7428736908886466, 1.3814647185495312, 5.255623202157996, 2.8857148960127663, 2.225309606474364, 7.0639331756317825, 1.3706850683009077, 1.3707333446025884, 4.186020836062521, 2.0277079058382474, 0.7101239465476523, 0.7101239465476523, 0.7101239465476523, 0.7101239465476523, 0.7101239465476523, 0.7101239465476523, 0.7101239465476523, 0.7101239465476523, 0.7101239465476523, 0.7101239465476523, 0.7101239465476523, 0.7100971007760732, 0.7100927224957299, 0.7100785506935658, 0.7100776865592875, 0.710086558337878, 0.7100863855110224, 0.710084023543995, 0.7100834474544762, 0.7100817191859196, 0.710079472436796, 0.7100631114944602, 4.261406988757935, 5.732413322835089, 2.1417729392660503, 1.7099470664079688, 2.6908217378585446, 3.0130760755359685, 1.430496986507524, 2.001250879466479, 2.2253418674874204, 2.7185678221377247, 1.5647190465466945, 1.3711686378430428, 0.9079298709182063, 1.1843073197608338, 0.9044847979864431, 0.7108721716147539, 0.7104133163129781, 0.7101239465476523, 2.881081917499054, 4.394059799090063, 2.221747538290661, 2.2215801814990854, 2.0281210602713755, 1.3685609092893791, 4.853897847358836, 2.221747538290661, 1.3685609092893791, 1.3685609092893791, 6.354642693662418, 0.7089931366445817, 0.7089931366445817, 0.7089931366445817, 0.7089931366445817, 0.7089931366445817, 0.7089931366445817, 0.7089931366445817, 0.7089931366445817, 0.7089931366445817, 0.7089931366445817, 0.7089931366445817, 0.7089931366445817, 0.7089931366445817, 0.7089931366445817, 0.7089931366445817, 0.7089931366445817, 0.7089931366445817, 0.7089931366445817, 0.7089931366445817, 2.2217652333399616, 2.2813146172632677, 1.618308088938314, 2.0056907731395275, 0.8374515729026162, 0.8303472771002157, 1.3685609092893791, 0.8566414807805008, 0.8285162125860142, 0.7924330756537481, 0.818649357159102, 0.8532753707394904, 0.7444377594484782, 0.7549416366502043, 0.7092990691234499, 0.7089931366445817, 0.7089931366445817, 0.7089931366445817, 0.7089931366445817, 3.5458557308348664, 1.8758985801754398, 1.8758597105166483, 1.8757732411152725, 1.875723770640447, 1.8751573544896083, 1.874632302307216, 6.584809123482648, 2.8255184333505245, 5.545001268954375, 1.1554323060960172, 2.297314274990868, 1.7123801614137162, 7.822693017747947, 2.2945129573890863, 0.5985946680862018, 0.5985934209313742, 0.5984197026568555, 0.5983900827297015, 0.598355214359315, 0.5983516287891859, 0.5983334411146177, 0.5982536232056554, 1.126270708341182, 3.9211291913411572, 3.9390104815400773, 2.5143512252891833, 0.6229845995061039, 1.5461831658711547, 5.085354458619141, 4.3411971275062955, 6.09165625155086, 1.678563662194676, 0.7178511463004352, 0.6410150286364831, 0.6183243976338817, 0.5985952916636155, 2.4692390415558174, 1.9042593667382384, 1.9042593667382384, 1.9042593667382384, 1.9042239432986277, 1.9040525395585761, 4.134805940216127, 1.172611837206775, 1.9042197534294265, 1.9017580148250868, 4.698981731492864, 1.3389003183093455, 1.1729469315185757, 1.1720317307710006, 0.6076606344549047, 0.6076606344549047, 0.6076595393754544, 0.6076579681745039, 0.6076498741090015, 0.6076498741090015, 0.6076498741090015, 0.6076333526929465, 0.6076333526929465, 0.6076333526929465, 2.4695395694467077, 2.4749138384917226, 1.9672359575621632, 0.6376285786926102, 2.6096406062470083, 0.6076460651370004, 5.45256627347052, 2.7993085574926044, 2.4220260718072297, 2.0444101106231543, 1.1729999714536916, 1.3909405887235837, 1.9614958367564381, 1.1258499449674229, 1.4230254643752254, 0.7416792667030279, 0.8276006763524977, 0.6450550742396919, 3.0945154731485203, 1.840999612192564, 1.840986793369422, 1.8409682934769327, 1.1340190101273446, 1.1335851366645158, 1.8021767866273983, 0.587488886049287, 0.587488886049287, 0.587488886049287, 0.5874869923595045, 0.5874869923595045, 0.5874760308090335, 0.5874760308090335, 0.5874265035378025, 0.5874166709177786, 0.5873934368008334, 0.5873177256266501, 0.5873140839155301, 2.7389559882746752, 0.5874718428412457, 0.5874869923595045, 0.5874298174949216, 0.5634974388596082, 0.5874285793131409, 0.5874760308090335, 0.5871676507113975, 2.7749966922126563, 3.511431672318567, 0.8435621036076657, 2.7222597624688927, 3.9841753029571985, 1.576753702955941, 1.232589132176369, 0.973433898080079, 1.6333942556833843, 0.7857513962631655, 0.5874903063166237, 0.5874901606481789, 0.587488886049287, 0.587488703963731, 0.5874775603277039, 0.5874760308090335, 2.7028157748327675, 1.7947342064954495, 1.7947342064954495, 1.7942996603796482, 7.205922848568483, 1.1047983322675163, 1.7947331160409556, 0.5727158327292122, 0.5727158327292122, 0.5727158327292122, 0.5727158327292122, 0.5726330263410851, 0.5726268925345572, 0.5726223262563642, 0.5726181688986064, 0.5726102631035259, 0.5726082866547558, 0.572602084694822, 0.5725913846101011, 0.5725892718545191, 0.5725823202071209, 0.5725731194973289, 0.5725725061166762, 0.5725637824807253, 0.5725472893565058, 0.5725347491298264, 0.5725289560903278, 0.5725183923124186, 0.5724740925986057, 0.5724161622036197, 2.5113753112779, 3.855177005986019, 1.907324587133696, 0.5809929957182272, 0.5727158327292122, 0.5727158327292122, 0.5727158327292122, 0.5726138070806309, 3.581265744192115, 3.04382571416819, 3.043851029949372, 1.8108736471017093, 1.810869876666214, 1.8106696396097355, 1.810578879841029, 1.2732238192741565, 1.1154663743025572, 0.5778784220146493, 0.5778784220146493, 0.5778684572922691, 0.5778656294656477, 0.5778650908320055, 0.5778638115771054, 0.5778638115771054, 0.5778633402726685, 0.5778621956761789, 0.5778611184088945, 0.577860243129226, 0.5778182297051363, 0.5778182297051363, 0.5778033499507712, 0.5778637442479001, 0.5778663027577005, 0.5778656294656477, 0.5778678513294216, 2.415212783434231, 0.5778650235028003, 0.5778784220146493, 3.2060573194885156, 1.4360215285524085, 1.386341462516862, 2.0874560973885004, 0.7320954953854379, 0.7063875889117103, 0.5940548022148591, 0.5778654274780319, 3.0296130752657113, 3.56433775055813, 1.8023720459034764, 2.8724919159263096, 1.110248936522253, 1.8023624138487264, 1.6453181825199277, 1.8023720459034764, 0.5751776998999297, 0.5751776998999297, 0.5751776998999297, 0.5751776998999297, 0.5751776998999297, 0.5751776998999297, 0.5751776998999297, 0.5751776998999297, 0.5751716638122863, 0.5751919553409597, 1.6452621881749812, 0.5751776998999297, 0.5751771219766447, 0.5751722417355714, 0.5751776998999297, 0.5751722417355714, 0.7445822975935058, 0.5751716638122863, 0.5751933038286247, 0.5751930469738313, 0.5751929185464347, 0.9301421627959598, 1.8165128012682425, 2.3734446282826576, 1.1102508629332029, 1.7819102225021786, 0.602819577980364, 0.6119914773681004, 0.5751776998999297, 1.6953209947891352, 1.6951744695935411, 1.695009552623604, 2.465725504257541, 1.0440603483123645, 0.5409973917964876, 0.5409973917964876, 0.5409973917964876, 0.5409973917964876, 0.5409961128982717, 0.540995077599716, 0.5409885613088063, 0.5409885613088063, 0.5409779647235888, 1.0442551062406729, 1.0442627796299682, 0.540995077599716, 0.5409973917964876, 0.5409885613088063, 0.5409885613088063, 0.540979730821125, 0.5409878305098258, 2.8584970703323846, 1.5474894960173964, 2.948060382989552, 2.4943747730911676, 2.1985395505879475, 2.601597112313596, 0.5409961128982717, 0.5409961128982717, 1.0442620488309877, 1.1322531692813984, 0.6943078123250076, 0.5409973917964876, 0.5409959910984417, 4.70405347928916, 2.973803548871094, 1.7693437547872175, 1.7691734577362568, 1.089852191613594, 1.615086275818556, 1.7692361475012637, 0.5646238286104865, 0.5646238286104865, 0.5646238286104865, 0.5646238286104865, 0.5646215766480542, 0.5646215766480542, 0.5646087343758053, 0.5646076388265139, 0.5646068475964701, 0.5646026479908531, 0.5646099516527957, 0.5646078822819119, 0.5646238286104865, 0.5646070910518682, 0.5646215766480542, 0.5646238286104865, 0.5646085517842567, 0.5646084300565577, 1.3937410100764982, 0.5646238286104865, 0.564606725868771, 0.5646005786199694, 1.0898420882145732, 1.0899600423549456, 0.7002598302265441, 0.6038938538240024, 0.6086371562087493, 0.5653583944103596, 0.5646969869576112, 0.5646238286104865, 0.5646238286104865, 0.5646215766480542, 0.5646215766480542, 3.9481931703315136, 2.810016546328907, 1.6716273647381887, 1.671410485486969, 2.809956725413259, 1.671675471672256, 1.0297509869338255, 0.5334755334344634, 0.5334755334344634, 0.5334755334344634, 0.5334750216585691, 0.5334750216585691, 0.5334750216585691, 0.5334750216585691, 0.5334710980433792, 2.0816923491898858, 0.5334750216585691, 0.5334750216585691, 0.5334755334344634, 5.29118864855608, 0.5334750216585691, 0.5334755334344634, 0.5334624547171638, 0.5334748510666043, 0.5334755334344634, 0.03726936870479481, 0.03726936870479481, 0.03726936870479481, 0.03726936870479481, 0.03726936870479481, 0.5757352004528847, 2.390648954581969, 0.5334755334344634, 0.575175829400381, 0.03727521858758696, 0.038184544839833516, 1.3549303501673235, 1.3549235986468688, 0.8346103361985213, 1.3549303501673235, 1.3549291759898532, 0.4323811665023554, 0.4323811665023554, 0.43238090965103376, 0.43238090965103376, 0.43238090965103376, 0.43238090965103376, 0.4323811665023554, 1.875915095356543, 0.8346101160402457, 0.43238090965103376, 0.4323811665023554, 0.4323811665023554, 1.8910034226230767, 0.4323811665023554, 0.8346102628124294, 0.4323811665023554, 0.43238090965103376, 0.03021457679605596, 0.03019051303785934, 0.03019051303785934, 0.03019051303785934, 0.03019051303785934, 0.03019051303785934, 0.03019051303785934, 0.03019051303785934, 0.43238105642321756, 0.43238567974700715, 0.4673804981436764, 0.03022651350256634, 0.03019051303785934, 0.03019051303785934, 1.8158797774622426, 1.0395366699137212, 1.1395573311192053, 0.7019691885163031, 0.701958822559593, 0.36366539551578797, 0.363664055526262, 0.36362175736632035, 0.36366539551578797, 0.36366534495014546, 0.363664055526262, 0.363665193253218, 0.363664055526262, 0.36366511740475427, 0.025397363485746526, 0.025397363485746526, 0.025397363485746526, 0.025397363485746526, 0.025380150625008157, 0.025380150625008157, 0.025380150625008157, 0.025380150625008157, 0.025380150625008157, 0.025380150625008157, 0.025380150625008157, 0.025380150625008157, 0.025372649527980243, 0.025372649527980243, 0.025372649527980243, 0.025372649527980243, 0.36367338488730117, 0.4261797246072052, 0.025615735953362317, 0.025460286107118216, 0.025418040092995357, 0.025393243966060033, 0.02538626906774927, 0.025385170845201473, 0.02538489589452044, 0.025384695212126815, 0.025384118447767178, 0.025383462674591156, 1.065461552064408, 0.6563638104585386, 0.6563615816355435, 0.340039377293141, 0.340039377293141, 0.340039377293141, 0.3400359894821883, 0.340039377293141, 0.2653989257889211, 0.340039377293141, 0.6563615816355435, 0.340039377293141, 0.340039377293141, 0.340039377293141, 0.340039377293141, 0.3400359894821883, 0.023731183889292087, 0.023727695781304594, 0.023727695781304594, 0.02372421881743207, 0.02372421881743207, 0.02372421881743207, 0.02372421881743207, 0.02372421881743207, 0.023727695781304594, 0.02372421881743207, 0.02372421881743207, 0.02372421881743207, 0.02372421881743207, 0.02372421881743207, 0.3787225840273938, 0.023910445336767703, 0.023836807811034866, 0.023833888052911145, 0.023826822684016345, 0.023733220476303957, 0.023732404169881965, 0.023731019513596192, 0.023729345110321043, 0.02372904421921669, 0.023728517659784076, 0.023728434078921754, 0.023727885231259186, 1.276070651655215, 0.7590928726339637, 0.24227099517247289, 0.2422587422797768, 0.24227099517247289, 0.24227099517247289, 0.24227099517247289, 0.016938045910861885, 0.016938045910861885, 0.016938045910861885, 0.01690783872823896, 0.01690783872823896, 0.01690783872823896, 0.01690783872823896, 0.016903005363804548, 0.016903005363804548, 0.016902996396523595, 0.016902996396523595, 0.016902996396523595, 0.016902996396523595, 0.016902996396523595, 0.016902996396523595, 0.016902996396523595, 0.016902996396523595, 0.016902996396523595, 0.016902996396523595, 0.016902996396523595, 0.016902996396523595, 0.016902996396523595, 0.016902996396523595, 0.24236884614224707, 0.016961195843373713, 0.016903005363804548, 0.016903005363804548, 0.016902996396523595, 0.016902996396523595, 0.016902996396523595, 0.016902996396523595, 0.016902996396523595, 0.016902996396523595, 0.016902996396523595, 0.016902996396523595, 0.016902996396523595, 0.016902996396523595], \"Total\": [27.0, 80.0, 22.0, 37.0, 20.0, 10.0, 14.0, 12.0, 18.0, 16.0, 14.0, 13.0, 10.0, 9.0, 10.0, 17.0, 10.0, 11.0, 10.0, 8.0, 9.0, 5.0, 17.0, 12.0, 8.0, 10.0, 10.0, 7.0, 14.0, 9.0, 6.418318411597981, 22.474485608262825, 3.858666606179237, 3.145135076120465, 3.145134767939598, 3.1451223590243895, 3.145122181784936, 3.1450753362894934, 5.946184710580127, 2.22203969795515, 2.2220768437619904, 2.222075032356636, 2.2220729437891156, 8.065376343745708, 3.4657632635817968, 2.538386622594271, 3.862875854470766, 5.072040552661888, 3.5165010921779984, 4.004742091588372, 1.5085286118446382, 1.5085286118446382, 1.5085286118446382, 1.5085286118446382, 1.5085256657661916, 1.5085256418710267, 1.5085251097443035, 1.508524071679337, 1.5085236102760975, 1.508523651555774, 18.236292183016406, 6.6723154891891525, 17.469551841248865, 5.9178939186405195, 3.384810268170142, 80.41698429838563, 16.75442476157606, 6.05784253468417, 8.647340530150885, 4.2955784261701515, 8.537038661279478, 10.643818640845584, 12.220507611688863, 9.20428663974489, 17.864811000666595, 6.281484988106975, 10.313875870254295, 10.124563238488316, 8.000695005971421, 4.397851080949474, 6.69659266879831, 3.563632629331216, 6.539552971148763, 2.9188479275099684, 2.918667742150804, 2.9188032666494004, 2.9187461157812526, 11.270481366156218, 6.281484988106975, 9.315561964547296, 3.465303349200704, 6.91602468073396, 3.632275056058166, 7.070860226709401, 1.4398160310831942, 1.4398160310831942, 1.4398160310831942, 1.4398135959738343, 1.4398135959738343, 1.4397009793204867, 1.4396914149585567, 1.439655527899903, 1.4391514736867066, 2.798623784587249, 12.10333580715859, 7.384308178818121, 37.225493376626915, 80.41698429838563, 8.537038661279478, 10.316696857834174, 14.558928515262963, 14.050527789900357, 5.316661223427592, 5.344023225746644, 9.738988081277455, 10.336165441198558, 17.864811000666595, 7.0601782843875265, 6.26362384138753, 3.4388647292304233, 2.8231460454149424, 2.8231460454149424, 2.8231097292242247, 2.642322202206356, 7.349252322313894, 27.137790848342597, 5.344023225746644, 2.0229932409009512, 10.215264495330036, 1.410764404155493, 1.410764404155493, 1.410764404155493, 1.4107643294308208, 1.4107623118646697, 1.4107623118646697, 1.4107064210576197, 1.7977399660140092, 12.220507611688863, 8.547184881240705, 17.469551841248865, 1.812978260046341, 7.384308178818121, 1.9070189032751816, 4.097874001258734, 1.9572620286234943, 1.9572648823418999, 14.558928515262963, 80.41698429838563, 17.864811000666595, 37.225493376626915, 10.316696857834174, 3.5165010921779984, 22.474485608262825, 2.403294793825766, 5.945716511725101, 5.945550664992829, 9.65731491527635, 4.254635109998036, 4.254625226017884, 2.947632858270785, 3.512798332372237, 9.543197185474424, 3.6610549151599465, 5.768219087676487, 6.144024437936484, 14.050527789900357, 2.6671785858455346, 2.762721153811669, 1.4485673978711984, 1.4485673978711984, 1.4485673978711984, 1.4485673978711984, 1.4485673978711984, 1.4485673978711984, 1.4485673978711984, 1.4485669832453665, 1.4485669832453665, 1.4485669832453665, 1.4485669832453665, 1.4485669832453665, 1.4485669832453665, 1.4485669832453665, 1.4485669832453665, 1.4485669832453665, 8.547184881240705, 11.43245544749886, 3.652280032391934, 3.001661088342663, 12.617294714019563, 10.162721997461093, 9.738988081277455, 80.41698429838563, 13.227586199360747, 6.227060377859315, 18.236292183016406, 37.225493376626915, 10.336165441198558, 4.0752966289755905, 3.9696953042760152, 11.270481366156218, 5.298857212716628, 4.559442464773862, 2.677292916010255, 2.677292916010255, 2.677292916010255, 2.677292916010255, 2.677292916010255, 2.6771709426326376, 7.767161421636329, 6.553303402938418, 5.58933286869782, 3.223779653652458, 2.553707887392532, 1.3664844931771674, 1.3664844931771674, 1.3664844931771674, 1.3664844931771674, 1.3664844931771674, 1.3664844931771674, 1.3664844931771674, 1.3664844931771674, 1.3664837260390676, 1.3664837260390676, 1.3664837260390676, 1.3664782921441976, 1.3664782921441976, 1.3664782921441976, 1.3664666572163577, 12.617294714019563, 14.104700737114326, 7.563536401982681, 20.103962165446376, 5.563056980334993, 11.43245544749886, 16.75442476157606, 7.949107068104904, 27.137790848342597, 13.227586199360747, 6.91602468073396, 7.349252322313894, 9.738988081277455, 12.220507611688863, 14.558928515262963, 80.41698429838563, 12.10333580715859, 6.001117119915003, 3.6313741705854485, 2.970830308630843, 10.842172610305703, 2.1162260180619876, 2.454518668357877, 7.871710704612728, 4.149224396316286, 1.4556178643046591, 1.4556178643046591, 1.4556178643046591, 1.4556178643046591, 1.4556178643046591, 1.4556178643046591, 1.4556178643046591, 1.4556178643046591, 1.4556178643046591, 1.4556178643046591, 1.4556178643046591, 1.4556131908819911, 1.455612372633377, 1.4555903078008408, 1.4555902263802851, 1.4556111950447903, 1.4556111526682698, 1.4556106675028393, 1.4556105795500591, 1.4556103072755664, 1.4556098447503825, 1.4555898053886138, 9.20428663974489, 12.789963846310904, 4.997248654893732, 4.0752966289755905, 7.358792907220139, 8.537038661279478, 4.097874001258734, 7.304062721761713, 10.316696857834174, 17.864811000666595, 11.270481366156218, 12.220507611688863, 9.531823211376436, 80.41698429838563, 10.643818640845584, 4.2955784261701515, 9.315561964547296, 1.988576967916515, 3.6267119732150914, 5.704896401438324, 2.96732058965512, 2.967153237182563, 2.7736941116358342, 2.114133960653838, 7.498560177893269, 3.492550664453995, 2.6393620502386956, 2.685578479085159, 12.789963846310904, 1.4545661880090406, 1.4545661880090406, 1.4545661880090406, 1.4545661880090406, 1.4545661880090406, 1.4545661880090406, 1.4545661880090406, 1.4545661880090406, 1.4545661880090406, 1.4545661880090406, 1.4545661880090406, 1.4545661880090406, 1.4545661880090406, 1.4545661880090406, 1.4545661880090406, 1.4545661880090406, 1.4545661880090406, 1.4545661880090406, 1.4545661880090406, 5.563056980334993, 6.6723154891891525, 5.768219087676487, 10.842172610305703, 2.15750446138561, 2.1580982323081384, 13.227586199360747, 6.539552971148763, 7.871710704612728, 4.997248654893732, 7.304062721761713, 17.469551841248865, 5.316661223427592, 10.162721997461093, 2.734618430396692, 4.149224396316286, 7.563536401982681, 1.9896083197725942, 1.9578131836018415, 4.299783981132227, 2.6291724894679973, 2.6291336261759493, 2.629047158533094, 2.629199379015153, 2.6293524053921997, 2.6295080763254033, 9.531823211376436, 4.233000980262362, 8.647340530150885, 1.9087678534440595, 3.8522812505088577, 3.0032138204733236, 14.104700737114326, 4.191016535765729, 1.3518738781601978, 1.351874008741515, 1.351886697790904, 1.3518951168252786, 1.3519034475631484, 1.3519057786531525, 1.3519096315172718, 1.3519321428556266, 2.781074302587236, 10.162721997461093, 10.336165441198558, 7.304062721761713, 1.8988326314316386, 5.072040552661888, 17.864811000666595, 37.225493376626915, 80.41698429838563, 14.558928515262963, 9.315561964547296, 9.20428663974489, 6.69659266879831, 3.1141061385277817, 3.222057227607224, 2.6569022544124214, 2.6569022544124214, 2.6569022544124214, 2.6568668309728105, 2.656695436352157, 6.227060377859315, 1.9256200525831138, 3.1531296439073566, 3.182451182534885, 8.149791256703756, 2.6167561820361986, 2.460652756194572, 2.4608143762422214, 1.360303522129088, 1.360303522129088, 1.3603024270496378, 1.360300855848687, 1.3602927617831848, 1.3602927617831848, 1.3602927617831848, 1.3602762403671296, 1.3602762403671296, 1.3602762403671296, 5.668947765217607, 6.05784253468417, 4.960119686911774, 1.8948081292667682, 7.949107068104904, 1.8953507981801256, 18.236292183016406, 10.215264495330036, 12.617294714019563, 10.643818640845584, 6.08927232975587, 10.336165441198558, 27.137790848342597, 7.563536401982681, 16.75442476157606, 3.4657632635817968, 20.103962165446376, 9.20428663974489, 3.8485661547275347, 2.5950502937715783, 2.595037474948436, 2.5950575813447943, 1.8880696917063595, 1.8881519975523893, 3.9696953042760152, 1.3415395676283017, 1.3415395676283017, 1.3415395676283017, 1.3415376739385194, 1.3415376739385194, 1.341526712388048, 1.341526712388048, 1.3415431695845346, 1.341545187597979, 1.3415495432775244, 1.341565101712614, 1.3415660977787707, 8.149791256703756, 1.8447721810444362, 1.9572620286234943, 1.9572648823418999, 1.8988326314316386, 2.0181393289494443, 2.054742076089291, 2.0550560466945758, 10.162721997461093, 13.227586199360747, 4.025971363719843, 14.558928515262963, 37.225493376626915, 10.336165441198558, 17.469551841248865, 10.643818640845584, 80.41698429838563, 12.10333580715859, 4.004742091588372, 12.220507611688863, 4.960119686911774, 9.738988081277455, 3.0615242796030704, 3.223779653652458, 3.459111150463538, 2.549815707334859, 2.549815707334859, 2.5493811950182637, 10.781894103785229, 1.8607107219521302, 3.735592804163223, 1.3277973335686224, 1.3277973335686224, 1.3277973335686224, 1.3277973335686224, 1.327789976494933, 1.3277903206960042, 1.3277921366278709, 1.3277929593344777, 1.3277942281764759, 1.3277946447384026, 1.3277958121984677, 1.327797820286131, 1.3277983775059856, 1.3278001780120712, 1.3278025503916941, 1.3278017641378304, 1.3278033134565668, 1.327807795537756, 1.327809005633763, 1.3278112544071359, 1.32781258890919, 1.3278223148638966, 1.3278338906208846, 14.050527789900357, 80.41698429838563, 20.103962165446376, 17.864811000666595, 7.949107068104904, 10.643818640845584, 4.960119686911774, 2.6478894622725577, 4.33608677621106, 3.7985470202669944, 3.7985821712759993, 2.565607195966495, 2.5656037004816805, 2.565400266949421, 2.565300213304028, 2.68833763530566, 2.405229230641071, 1.332599724512895, 1.332599724512895, 1.3325966809628307, 1.3325955960706986, 1.3325954082362013, 1.332594884305586, 1.3325949159091124, 1.3325947132346512, 1.3325943113210355, 1.3325938898269274, 1.3325935913116185, 1.332539538570125, 1.332539538570125, 1.3325246524490169, 1.8578224545301771, 1.8978593916785615, 1.8978591039495325, 2.734618430396692, 11.43245544749886, 2.908331967278593, 3.0032138204733236, 16.75442476157606, 7.498560177893269, 8.065376343745708, 27.137790848342597, 6.05784253468417, 18.236292183016406, 9.531823211376436, 4.66128284452994, 3.7845229400395386, 4.979146739530732, 2.5572819142778633, 4.66128284452994, 1.8651588012960807, 3.1141061385277817, 2.903478739216487, 3.216808127541058, 1.3300875646737578, 1.3300875646737578, 1.3300875646737578, 1.3300875646737578, 1.3300875646737578, 1.3300875646737578, 1.3300875646737578, 1.3300875646737578, 1.3300815285861143, 1.8953507981801256, 5.668947765217607, 1.9896137779369525, 1.9896132000136677, 1.9896083197725942, 1.99063790523382, 1.990650174422933, 3.001661088342663, 2.405229230641071, 2.420580745490015, 2.460652756194572, 2.4608143762422214, 4.0752966289755905, 9.543197185474424, 20.103962165446376, 7.358792907220139, 16.75442476157606, 2.781074302587236, 4.004742091588372, 12.617294714019563, 2.4526155485594403, 2.4524690276828656, 2.4523041257518483, 4.025971363719843, 1.8015872431296813, 1.2982919455667936, 1.2982919455667936, 1.2982919455667936, 1.2982919455667936, 1.2982906666685774, 1.2982896313700216, 1.298283115079112, 1.298283115079112, 1.2982871980010664, 3.0608155768700707, 3.0615242796030704, 1.8447721810444362, 1.869736463998115, 1.951810538204465, 1.9577986686740538, 1.9578131836018415, 1.9588333875102095, 10.781894103785229, 6.144024437936484, 12.10333580715859, 10.643818640845584, 9.738988081277455, 13.227586199360747, 2.903478739216487, 3.384810268170142, 7.358792907220139, 17.469551841248865, 80.41698429838563, 7.498560177893269, 10.215264495330036, 5.459724360341343, 3.7294669739155593, 2.525000506933883, 2.5248353194620727, 1.8455247599213425, 2.908331967278593, 3.3293255172424847, 1.320270049544721, 1.320270049544721, 1.320270049544721, 1.320270049544721, 1.3202677975822885, 1.3202677975822885, 1.320267441596381, 1.3202675333750804, 1.3202675991637367, 1.6365830395274488, 1.8165218456831753, 1.8578224545301771, 1.9737970580442417, 1.9737945327124025, 1.9797904931549595, 2.0337398966078286, 2.033732878745754, 2.033751740523506, 5.316661223427592, 2.420580745490015, 2.6167561820361986, 2.6393620502386956, 6.08927232975587, 20.103962165446376, 17.864811000666595, 7.070860226709401, 12.10333580715859, 3.182451182534885, 12.617294714019563, 4.2955784261701515, 3.492550664453995, 5.668947765217607, 3.735592804163223, 4.70601263854881, 3.5678359985358723, 2.4294468310639767, 2.4292299592089326, 5.9178939186405195, 3.532311174498774, 2.403294793825766, 1.2912949856414286, 1.2912949856414286, 1.2912949856414286, 1.2912944738655345, 1.2912944738655345, 1.2912944738655345, 1.2912944738655345, 1.2912905502503444, 7.070860226709401, 1.8165218456831753, 1.9070189032751816, 2.0047630371567338, 20.103962165446376, 2.405479158787906, 3.1531296439073566, 4.66128284452994, 9.738988081277455, 10.643818640845584, 0.7951516068818565, 0.7951516068818565, 0.7951516068818565, 0.7951516068818565, 0.7952308883738893, 12.617294714019563, 80.41698429838563, 22.474485608262825, 37.225493376626915, 0.7954641379820369, 1.8102868998648707, 2.1198033458776555, 2.11979659890934, 1.5994833319088535, 2.833271834521938, 3.652280032391934, 1.1972541622126873, 1.1972541622126873, 1.1972539053613658, 1.1972539053613658, 1.1972539053613658, 1.1972539053613658, 1.5355469082004953, 7.358792907220139, 3.3293255172424847, 1.812978260046341, 1.856769715807629, 1.9107245065542302, 10.316696857834174, 2.7675413754338845, 5.58933286869782, 3.001661088342663, 3.862875854470766, 0.7952485770461108, 0.7951431494498628, 0.7951431494498628, 0.7951431494498628, 0.7951431494498628, 0.7951431494498628, 0.7951431494498628, 0.7951431494498628, 14.050527789900357, 20.103962165446376, 37.225493376626915, 10.842172610305703, 0.7953166920202785, 0.7952135187358036, 2.586039964957903, 1.8102868998648707, 2.405479158787906, 2.0181393289494443, 2.1251474897239406, 1.1333327207336534, 1.1333313807441274, 1.1332890880196977, 1.5355469082004953, 2.4316361931148083, 2.454518668357877, 2.7675413754338845, 2.781074302587236, 4.191016535765729, 0.7951019930777619, 0.7951019930777619, 0.795182774527898, 0.7954641379820369, 0.7951185586098188, 0.7951185586098188, 0.7951185586098188, 0.7951185586098188, 0.7951185586098188, 0.7951185586098188, 0.7951799181934519, 0.7952308883738893, 0.7950771825890351, 0.7950771825890351, 0.7950824721961536, 0.7950865389891189, 16.75442476157606, 80.41698429838563, 6.69659266879831, 12.10333580715859, 17.864811000666595, 7.498560177893269, 3.532311174498774, 2.5656037004816805, 2.565607195966495, 1.3325935913116185, 1.3325938898269274, 1.3325943113210355, 1.8367773208551625, 1.427679566386952, 1.4276773375639569, 1.1113551332215543, 1.1113551332215543, 1.1113551332215543, 1.1113517454106017, 1.6365830395274488, 1.7977399660140092, 2.538386622594271, 6.08927232975587, 4.2955784261701515, 5.668947765217607, 7.563536401982681, 7.871710704612728, 10.643818640845584, 0.7952064876674899, 0.7951225531589157, 0.7951841610455246, 0.7950771825890351, 0.7950771825890351, 0.7950824721961536, 0.7950865389891189, 0.7950865389891189, 0.7952033864560979, 0.7950878036985636, 0.7950878036985636, 0.7950899031288261, 0.7950910360244653, 0.7950910373018554, 16.75442476157606, 37.225493376626915, 12.220507611688863, 27.137790848342597, 80.41698429838563, 4.299783981132227, 17.864811000666595, 10.162721997461093, 10.336165441198558, 7.304062721761713, 2.781074302587236, 9.531823211376436, 14.558928515262963, 3.0608155768700707, 2.734618430396692, 1.0204079735217948, 1.0203957206290988, 1.6739349820213159, 3.652280032391934, 5.58933286869782, 0.7951111527215321, 0.7951111527215321, 0.7951111527215321, 0.7951272954649101, 0.7951272954649101, 0.7952117029248195, 0.7953010224724997, 0.7950771825890351, 0.7950771825890351, 0.7950824721961536, 0.7950865389891189, 0.7950865389891189, 0.7950878036985636, 0.7950878036985636, 0.7950899031288261, 0.7950910360244653, 0.7950910373018554, 0.7950910373018554, 0.7950946131151103, 0.7950949741411835, 0.7950978560507876, 0.7950995323260279, 0.7950995323260279, 27.137790848342597, 20.103962165446376, 0.7951588757973964, 0.7952371191141002, 3.384810268170142, 8.537038661279478, 2.033751740523506, 1.508523651555774, 1.5085256418710267, 7.949107068104904, 1.508524071679337, 17.469551841248865, 4.149224396316286, 9.20428663974489], \"Category\": [\"Default\", \"Default\", \"Default\", \"Default\", \"Default\", \"Default\", \"Default\", \"Default\", \"Default\", \"Default\", \"Default\", \"Default\", \"Default\", \"Default\", \"Default\", \"Default\", \"Default\", \"Default\", \"Default\", \"Default\", \"Default\", \"Default\", \"Default\", \"Default\", \"Default\", \"Default\", \"Default\", \"Default\", \"Default\", \"Default\", \"Topic1\", \"Topic1\", \"Topic1\", \"Topic1\", \"Topic1\", \"Topic1\", \"Topic1\", \"Topic1\", \"Topic1\", \"Topic1\", \"Topic1\", \"Topic1\", \"Topic1\", \"Topic1\", \"Topic1\", \"Topic1\", \"Topic1\", \"Topic1\", \"Topic1\", \"Topic1\", \"Topic1\", \"Topic1\", \"Topic1\", \"Topic1\", \"Topic1\", \"Topic1\", \"Topic1\", \"Topic1\", \"Topic1\", \"Topic1\", \"Topic1\", \"Topic1\", \"Topic1\", \"Topic1\", \"Topic1\", \"Topic1\", \"Topic1\", \"Topic1\", \"Topic1\", \"Topic1\", \"Topic1\", \"Topic1\", \"Topic1\", \"Topic1\", \"Topic1\", \"Topic1\", \"Topic2\", \"Topic2\", \"Topic2\", \"Topic2\", \"Topic2\", \"Topic2\", \"Topic2\", \"Topic2\", \"Topic2\", \"Topic2\", \"Topic2\", \"Topic2\", \"Topic2\", \"Topic2\", \"Topic2\", \"Topic2\", \"Topic2\", \"Topic2\", \"Topic2\", \"Topic2\", \"Topic2\", \"Topic2\", \"Topic2\", \"Topic2\", \"Topic2\", \"Topic2\", \"Topic2\", \"Topic2\", \"Topic2\", \"Topic2\", \"Topic2\", \"Topic2\", \"Topic2\", \"Topic2\", \"Topic2\", \"Topic2\", \"Topic2\", \"Topic2\", \"Topic2\", \"Topic2\", \"Topic2\", \"Topic3\", \"Topic3\", \"Topic3\", \"Topic3\", \"Topic3\", \"Topic3\", \"Topic3\", \"Topic3\", \"Topic3\", \"Topic3\", \"Topic3\", \"Topic3\", \"Topic3\", \"Topic3\", \"Topic3\", \"Topic3\", \"Topic3\", \"Topic3\", \"Topic3\", \"Topic3\", \"Topic3\", \"Topic3\", \"Topic3\", \"Topic3\", \"Topic3\", \"Topic3\", \"Topic3\", \"Topic3\", \"Topic3\", \"Topic3\", \"Topic3\", \"Topic3\", \"Topic3\", \"Topic3\", \"Topic3\", \"Topic3\", \"Topic3\", \"Topic4\", \"Topic4\", \"Topic4\", \"Topic4\", \"Topic4\", \"Topic4\", \"Topic4\", \"Topic4\", \"Topic4\", \"Topic4\", \"Topic4\", \"Topic4\", \"Topic4\", \"Topic4\", \"Topic4\", \"Topic4\", \"Topic4\", \"Topic4\", \"Topic4\", \"Topic4\", \"Topic4\", \"Topic4\", \"Topic4\", \"Topic4\", \"Topic4\", \"Topic4\", \"Topic4\", \"Topic4\", \"Topic4\", \"Topic4\", \"Topic4\", \"Topic4\", \"Topic4\", \"Topic4\", \"Topic4\", \"Topic4\", \"Topic4\", \"Topic4\", \"Topic4\", \"Topic4\", \"Topic4\", \"Topic4\", \"Topic4\", \"Topic4\", \"Topic4\", \"Topic4\", \"Topic5\", \"Topic5\", \"Topic5\", \"Topic5\", \"Topic5\", \"Topic5\", \"Topic5\", \"Topic5\", \"Topic5\", \"Topic5\", \"Topic5\", \"Topic5\", \"Topic5\", \"Topic5\", \"Topic5\", \"Topic5\", \"Topic5\", \"Topic5\", \"Topic5\", \"Topic5\", \"Topic5\", \"Topic5\", \"Topic5\", \"Topic5\", \"Topic5\", \"Topic5\", \"Topic5\", \"Topic5\", \"Topic5\", \"Topic5\", \"Topic5\", \"Topic5\", \"Topic5\", \"Topic5\", \"Topic5\", \"Topic5\", \"Topic5\", \"Topic5\", \"Topic5\", \"Topic5\", \"Topic5\", \"Topic5\", \"Topic5\", \"Topic5\", \"Topic5\", \"Topic6\", \"Topic6\", \"Topic6\", \"Topic6\", \"Topic6\", \"Topic6\", \"Topic6\", \"Topic6\", \"Topic6\", \"Topic6\", \"Topic6\", \"Topic6\", \"Topic6\", \"Topic6\", \"Topic6\", \"Topic6\", \"Topic6\", \"Topic6\", \"Topic6\", \"Topic6\", \"Topic6\", \"Topic6\", \"Topic6\", \"Topic6\", \"Topic6\", \"Topic6\", \"Topic6\", \"Topic6\", \"Topic6\", \"Topic6\", \"Topic6\", \"Topic6\", \"Topic6\", \"Topic6\", \"Topic6\", \"Topic6\", \"Topic6\", \"Topic6\", \"Topic6\", \"Topic6\", \"Topic6\", \"Topic6\", \"Topic6\", \"Topic6\", \"Topic6\", \"Topic6\", \"Topic6\", \"Topic6\", \"Topic7\", \"Topic7\", \"Topic7\", \"Topic7\", \"Topic7\", \"Topic7\", \"Topic7\", \"Topic7\", \"Topic7\", \"Topic7\", \"Topic7\", \"Topic7\", \"Topic7\", \"Topic7\", \"Topic7\", \"Topic7\", \"Topic7\", \"Topic7\", \"Topic7\", \"Topic7\", \"Topic7\", \"Topic7\", \"Topic7\", \"Topic7\", \"Topic7\", \"Topic7\", \"Topic7\", \"Topic7\", \"Topic7\", \"Topic7\", \"Topic7\", \"Topic7\", \"Topic7\", \"Topic7\", \"Topic7\", \"Topic7\", \"Topic7\", \"Topic7\", \"Topic7\", \"Topic7\", \"Topic7\", \"Topic7\", \"Topic7\", \"Topic7\", \"Topic7\", \"Topic7\", \"Topic7\", \"Topic7\", \"Topic7\", \"Topic8\", \"Topic8\", \"Topic8\", \"Topic8\", \"Topic8\", \"Topic8\", \"Topic8\", \"Topic8\", \"Topic8\", \"Topic8\", \"Topic8\", \"Topic8\", \"Topic8\", \"Topic8\", \"Topic8\", \"Topic8\", \"Topic8\", \"Topic8\", \"Topic8\", \"Topic8\", \"Topic8\", \"Topic8\", \"Topic8\", \"Topic8\", \"Topic8\", \"Topic8\", \"Topic8\", \"Topic8\", \"Topic8\", \"Topic8\", \"Topic8\", \"Topic8\", \"Topic8\", \"Topic8\", \"Topic8\", \"Topic8\", \"Topic8\", \"Topic9\", \"Topic9\", \"Topic9\", \"Topic9\", \"Topic9\", \"Topic9\", \"Topic9\", \"Topic9\", \"Topic9\", \"Topic9\", \"Topic9\", \"Topic9\", \"Topic9\", \"Topic9\", \"Topic9\", \"Topic9\", \"Topic9\", \"Topic9\", \"Topic9\", \"Topic9\", \"Topic9\", \"Topic9\", \"Topic9\", \"Topic9\", \"Topic9\", \"Topic9\", \"Topic9\", \"Topic9\", \"Topic9\", \"Topic9\", \"Topic9\", \"Topic9\", \"Topic9\", \"Topic9\", \"Topic9\", \"Topic9\", \"Topic9\", \"Topic9\", \"Topic9\", \"Topic9\", \"Topic9\", \"Topic9\", \"Topic10\", \"Topic10\", \"Topic10\", \"Topic10\", \"Topic10\", \"Topic10\", \"Topic10\", \"Topic10\", \"Topic10\", \"Topic10\", \"Topic10\", \"Topic10\", \"Topic10\", \"Topic10\", \"Topic10\", \"Topic10\", \"Topic10\", \"Topic10\", \"Topic10\", \"Topic10\", \"Topic10\", \"Topic10\", \"Topic10\", \"Topic10\", \"Topic10\", \"Topic10\", \"Topic10\", \"Topic10\", \"Topic10\", \"Topic10\", \"Topic10\", \"Topic10\", \"Topic10\", \"Topic10\", \"Topic10\", \"Topic10\", \"Topic10\", \"Topic10\", \"Topic10\", \"Topic10\", \"Topic10\", \"Topic10\", \"Topic10\", \"Topic11\", \"Topic11\", \"Topic11\", \"Topic11\", \"Topic11\", \"Topic11\", \"Topic11\", \"Topic11\", \"Topic11\", \"Topic11\", \"Topic11\", \"Topic11\", \"Topic11\", \"Topic11\", \"Topic11\", \"Topic11\", \"Topic11\", \"Topic11\", \"Topic11\", \"Topic11\", \"Topic11\", \"Topic11\", \"Topic11\", \"Topic11\", \"Topic11\", \"Topic11\", \"Topic11\", \"Topic11\", \"Topic11\", \"Topic11\", \"Topic11\", \"Topic11\", \"Topic11\", \"Topic11\", \"Topic11\", \"Topic11\", \"Topic11\", \"Topic11\", \"Topic12\", \"Topic12\", \"Topic12\", \"Topic12\", \"Topic12\", \"Topic12\", \"Topic12\", \"Topic12\", \"Topic12\", \"Topic12\", \"Topic12\", \"Topic12\", \"Topic12\", \"Topic12\", \"Topic12\", \"Topic12\", \"Topic12\", \"Topic12\", \"Topic12\", \"Topic12\", \"Topic12\", \"Topic12\", \"Topic12\", \"Topic12\", \"Topic12\", \"Topic12\", \"Topic12\", \"Topic12\", \"Topic12\", \"Topic12\", \"Topic12\", \"Topic12\", \"Topic12\", \"Topic12\", \"Topic12\", \"Topic12\", \"Topic12\", \"Topic12\", \"Topic13\", \"Topic13\", \"Topic13\", \"Topic13\", \"Topic13\", \"Topic13\", \"Topic13\", \"Topic13\", \"Topic13\", \"Topic13\", \"Topic13\", \"Topic13\", \"Topic13\", \"Topic13\", \"Topic13\", \"Topic13\", \"Topic13\", \"Topic13\", \"Topic13\", \"Topic13\", \"Topic13\", \"Topic13\", \"Topic13\", \"Topic13\", \"Topic13\", \"Topic13\", \"Topic13\", \"Topic13\", \"Topic13\", \"Topic13\", \"Topic13\", \"Topic13\", \"Topic13\", \"Topic13\", \"Topic13\", \"Topic13\", \"Topic13\", \"Topic14\", \"Topic14\", \"Topic14\", \"Topic14\", \"Topic14\", \"Topic14\", \"Topic14\", \"Topic14\", \"Topic14\", \"Topic14\", \"Topic14\", \"Topic14\", \"Topic14\", \"Topic14\", \"Topic14\", \"Topic14\", \"Topic14\", \"Topic14\", \"Topic14\", \"Topic14\", \"Topic14\", \"Topic14\", \"Topic14\", \"Topic14\", \"Topic14\", \"Topic14\", \"Topic14\", \"Topic14\", \"Topic14\", \"Topic14\", \"Topic14\", \"Topic14\", \"Topic14\", \"Topic14\", \"Topic14\", \"Topic15\", \"Topic15\", \"Topic15\", \"Topic15\", \"Topic15\", \"Topic15\", \"Topic15\", \"Topic15\", \"Topic15\", \"Topic15\", \"Topic15\", \"Topic15\", \"Topic15\", \"Topic15\", \"Topic15\", \"Topic15\", \"Topic15\", \"Topic15\", \"Topic15\", \"Topic15\", \"Topic15\", \"Topic15\", \"Topic15\", \"Topic15\", \"Topic15\", \"Topic15\", \"Topic15\", \"Topic15\", \"Topic15\", \"Topic15\", \"Topic15\", \"Topic15\", \"Topic15\", \"Topic15\", \"Topic15\", \"Topic15\", \"Topic15\", \"Topic15\", \"Topic15\", \"Topic15\", \"Topic16\", \"Topic16\", \"Topic16\", \"Topic16\", \"Topic16\", \"Topic16\", \"Topic16\", \"Topic16\", \"Topic16\", \"Topic16\", \"Topic16\", \"Topic16\", \"Topic16\", \"Topic16\", \"Topic16\", \"Topic16\", \"Topic16\", \"Topic16\", \"Topic16\", \"Topic16\", \"Topic16\", \"Topic16\", \"Topic16\", \"Topic16\", \"Topic16\", \"Topic16\", \"Topic16\", \"Topic16\", \"Topic16\", \"Topic16\", \"Topic16\", \"Topic16\", \"Topic16\", \"Topic16\", \"Topic16\", \"Topic16\", \"Topic17\", \"Topic17\", \"Topic17\", \"Topic17\", \"Topic17\", \"Topic17\", \"Topic17\", \"Topic17\", \"Topic17\", \"Topic17\", \"Topic17\", \"Topic17\", \"Topic17\", \"Topic17\", \"Topic17\", \"Topic17\", \"Topic17\", \"Topic17\", \"Topic17\", \"Topic17\", \"Topic17\", \"Topic17\", \"Topic17\", \"Topic17\", \"Topic17\", \"Topic17\", \"Topic17\", \"Topic17\", \"Topic17\", \"Topic17\", \"Topic17\", \"Topic17\", \"Topic17\", \"Topic17\", \"Topic17\", \"Topic17\", \"Topic18\", \"Topic18\", \"Topic18\", \"Topic18\", \"Topic18\", \"Topic18\", \"Topic18\", \"Topic18\", \"Topic18\", \"Topic18\", \"Topic18\", \"Topic18\", \"Topic18\", \"Topic18\", \"Topic18\", \"Topic18\", \"Topic18\", \"Topic18\", \"Topic18\", \"Topic18\", \"Topic18\", \"Topic18\", \"Topic18\", \"Topic18\", \"Topic18\", \"Topic18\", \"Topic18\", \"Topic18\", \"Topic18\", \"Topic18\", \"Topic18\", \"Topic18\", \"Topic18\", \"Topic18\", \"Topic18\", \"Topic18\", \"Topic18\", \"Topic18\", \"Topic18\", \"Topic18\", \"Topic18\", \"Topic18\", \"Topic19\", \"Topic19\", \"Topic19\", \"Topic19\", \"Topic19\", \"Topic19\", \"Topic19\", \"Topic19\", \"Topic19\", \"Topic19\", \"Topic19\", \"Topic19\", \"Topic19\", \"Topic19\", \"Topic19\", \"Topic19\", \"Topic19\", \"Topic19\", \"Topic19\", \"Topic19\", \"Topic19\", \"Topic19\", \"Topic19\", \"Topic19\", \"Topic19\", \"Topic19\", \"Topic19\", \"Topic19\", \"Topic19\", \"Topic19\", \"Topic19\", \"Topic19\", \"Topic19\", \"Topic19\", \"Topic19\", \"Topic19\", \"Topic19\", \"Topic19\", \"Topic19\", \"Topic19\", \"Topic19\", \"Topic19\", \"Topic19\", \"Topic20\", \"Topic20\", \"Topic20\", \"Topic20\", \"Topic20\", \"Topic20\", \"Topic20\", \"Topic20\", \"Topic20\", \"Topic20\", \"Topic20\", \"Topic20\", \"Topic20\", \"Topic20\", \"Topic20\", \"Topic20\", \"Topic20\", \"Topic20\", \"Topic20\", \"Topic20\", \"Topic20\", \"Topic20\", \"Topic20\", \"Topic20\", \"Topic20\", \"Topic20\", \"Topic20\", \"Topic20\", \"Topic20\", \"Topic20\", \"Topic20\", \"Topic20\", \"Topic20\", \"Topic20\", \"Topic20\", \"Topic20\", \"Topic20\", \"Topic20\", \"Topic20\", \"Topic20\", \"Topic20\", \"Topic20\", \"Topic20\", \"Topic20\"], \"logprob\": [30.0, 29.0, 28.0, 27.0, 26.0, 25.0, 24.0, 23.0, 22.0, 21.0, 20.0, 19.0, 18.0, 17.0, 16.0, 15.0, 14.0, 13.0, 12.0, 11.0, 10.0, 9.0, 8.0, 7.0, 6.0, 5.0, 4.0, 3.0, 2.0, 1.0, -3.6517, -2.4028, -4.2511, -4.511, -4.511, -4.511, -4.511, -4.511, -3.8742, -4.9956, -4.9956, -4.9956, -4.9956, -3.7171, -4.6825, -4.9956, -4.6026, -4.3491, -4.7252, -4.6251, -5.6532, -5.6532, -5.6532, -5.6532, -5.6532, -5.6532, -5.6532, -5.6532, -5.6532, -5.6532, -3.1635, -4.2874, -3.4206, -4.511, -4.9956, -2.5307, -3.8173, -4.6033, -4.5115, -4.9962, -4.6098, -4.5505, -4.5112, -4.7219, -4.9516, -4.9873, -2.9715, -2.9916, -3.2483, -3.9348, -3.5493, -4.1942, -3.6233, -4.4541, -4.4542, -4.4542, -4.4542, -3.1147, -3.82, -3.434, -4.4542, -3.7877, -4.4541, -3.9183, -5.5964, -5.5964, -5.5964, -5.5964, -5.5964, -5.5965, -5.5968, -5.5971, -5.6012, -4.9445, -3.5944, -4.0932, -2.603, -2.5028, -4.2474, -4.2032, -4.0475, -4.206, -4.9203, -4.9387, -4.7245, -4.7844, -4.763, -3.2358, -3.3707, -4.0886, -4.3485, -4.3485, -4.3485, -4.4397, -3.5268, -2.24, -3.8833, -4.8622, -3.2527, -5.4907, -5.4907, -5.4907, -5.4907, -5.4907, -5.4907, -5.4908, -5.2923, -3.5268, -3.9078, -3.2014, -5.4907, -4.0886, -5.4907, -4.7397, -5.4907, -5.4907, -3.5766, -2.0017, -3.4417, -2.7947, -4.3485, -5.2054, -5.2616, -5.4907, -3.3513, -3.3513, -2.8961, -3.7448, -3.7448, -4.2107, -4.2108, -3.2359, -4.2108, -3.7616, -3.8011, -3.0314, -4.6958, -4.6953, -5.353, -5.353, -5.353, -5.353, -5.353, -5.353, -5.353, -5.353, -5.353, -5.353, -5.353, -5.353, -5.353, -5.353, -5.353, -5.353, -3.6361, -3.367, -4.6953, -4.8612, -4.1283, -4.2607, -4.3019, -3.3118, -4.2567, -4.723, -4.2866, -4.0715, -5.0313, -5.2498, -5.2889, -5.2662, -3.4077, -3.5851, -4.2671, -4.2671, -4.2671, -4.2671, -4.2671, -4.2671, -3.2126, -3.4077, -3.5851, -4.2671, -4.7517, -5.4093, -5.4093, -5.4093, -5.4093, -5.4093, -5.4093, -5.4093, -5.4093, -5.4093, -5.4093, -5.4093, -5.4093, -5.4093, -5.4093, -5.4093, -3.2287, -3.2074, -3.8573, -3.0519, -4.2671, -3.7478, -3.4718, -4.0655, -3.2845, -3.8011, -4.2939, -4.2671, -4.1276, -4.2671, -4.3178, -3.6022, -4.5989, -3.1587, -3.7582, -4.0181, -2.863, -4.5027, -4.5026, -3.3862, -4.1111, -5.1603, -5.1603, -5.1603, -5.1603, -5.1603, -5.1603, -5.1603, -5.1603, -5.1603, -5.1603, -5.1603, -5.1603, -5.1603, -5.1604, -5.1604, -5.1603, -5.1603, -5.1603, -5.1603, -5.1603, -5.1604, -5.1604, -3.3684, -3.0718, -4.0563, -4.2815, -3.8281, -3.715, -4.46, -4.1242, -4.0181, -3.8179, -4.3703, -4.5023, -4.9146, -4.6488, -4.9184, -5.1592, -5.1599, -5.1603, -3.682, -3.2599, -3.9419, -3.942, -4.0331, -4.4264, -3.1604, -3.9419, -4.4264, -4.4264, -2.891, -5.0841, -5.0841, -5.0841, -5.0841, -5.0841, -5.0841, -5.0841, -5.0841, -5.0841, -5.0841, -5.0841, -5.0841, -5.0841, -5.0841, -5.0841, -5.0841, -5.0841, -5.0841, -5.0841, -3.9419, -3.9155, -4.2588, -4.0442, -4.9176, -4.9261, -4.4264, -4.8949, -4.9283, -4.9728, -4.9403, -4.8989, -5.0353, -5.0213, -5.0837, -5.0841, -5.0841, -5.0841, -5.0841, -3.4491, -4.0858, -4.0858, -4.0858, -4.0859, -4.0862, -4.0865, -2.8301, -3.6762, -3.002, -4.5704, -3.8831, -4.177, -2.6578, -3.8843, -5.228, -5.228, -5.2283, -5.2284, -5.2284, -5.2284, -5.2285, -5.2286, -4.596, -3.3485, -3.3439, -3.7928, -5.1881, -4.2791, -3.0885, -3.2467, -2.9079, -4.1969, -5.0464, -5.1596, -5.1956, -5.228, -3.7235, -3.9833, -3.9833, -3.9833, -3.9833, -3.9834, -3.2079, -4.4682, -3.9833, -3.9846, -3.08, -4.3355, -4.4679, -4.4686, -5.1255, -5.1255, -5.1255, -5.1255, -5.1255, -5.1255, -5.1255, -5.1256, -5.1256, -5.1256, -3.7234, -3.7212, -3.9508, -5.0774, -3.6682, -5.1255, -2.9313, -3.598, -3.7428, -3.9123, -4.4678, -4.2974, -3.9537, -4.5088, -4.2746, -4.9262, -4.8166, -5.0658, -3.2297, -3.749, -3.749, -3.749, -4.2336, -4.234, -3.7703, -4.8912, -4.8912, -4.8912, -4.8912, -4.8912, -4.8913, -4.8913, -4.8913, -4.8914, -4.8914, -4.8915, -4.8915, -3.3518, -4.8913, -4.8912, -4.8913, -4.9329, -4.8913, -4.8913, -4.8918, -3.3387, -3.1033, -4.5295, -3.3579, -2.977, -3.904, -4.1502, -4.3863, -3.8687, -4.6005, -4.8912, -4.8912, -4.8912, -4.8912, -4.8913, -4.8913, -3.2986, -3.7081, -3.7081, -3.7083, -2.318, -4.1932, -3.7081, -4.8503, -4.8503, -4.8503, -4.8503, -4.8504, -4.8504, -4.8504, -4.8504, -4.8505, -4.8505, -4.8505, -4.8505, -4.8505, -4.8505, -4.8505, -4.8505, -4.8505, -4.8506, -4.8506, -4.8506, -4.8506, -4.8507, -4.8508, -3.3721, -2.9435, -3.6472, -4.8359, -4.8503, -4.8503, -4.8503, -4.8505, -3.005, -3.1676, -3.1676, -3.6869, -3.6869, -3.687, -3.6871, -4.0392, -4.1715, -4.8291, -4.8291, -4.8292, -4.8292, -4.8292, -4.8292, -4.8292, -4.8292, -4.8292, -4.8292, -4.8292, -4.8292, -4.8292, -4.8293, -4.8292, -4.8292, -4.8292, -4.8292, -3.399, -4.8292, -4.8291, -3.1157, -3.9189, -3.9541, -3.5448, -4.5926, -4.6283, -4.8015, -4.8292, -3.1249, -2.9624, -3.6443, -3.1782, -4.1288, -3.6443, -3.7354, -3.6443, -4.7864, -4.7864, -4.7864, -4.7864, -4.7864, -4.7864, -4.7864, -4.7864, -4.7865, -4.7864, -3.7355, -4.7864, -4.7864, -4.7865, -4.7864, -4.7865, -4.5283, -4.7865, -4.7864, -4.7864, -4.7864, -4.3058, -3.6364, -3.369, -4.1288, -3.6557, -4.7395, -4.7244, -4.7864, -3.6525, -3.6526, -3.6527, -3.2779, -4.1373, -4.7947, -4.7947, -4.7947, -4.7947, -4.7947, -4.7947, -4.7947, -4.7947, -4.7948, -4.1371, -4.1371, -4.7947, -4.7947, -4.7947, -4.7947, -4.7948, -4.7947, -3.1301, -3.7437, -3.0992, -3.2663, -3.3926, -3.2243, -4.7947, -4.7947, -4.1371, -4.0562, -4.5452, -4.7947, -4.7947, -2.6314, -3.0899, -3.6092, -3.6093, -4.0937, -3.7004, -3.6092, -4.7514, -4.7514, -4.7514, -4.7514, -4.7514, -4.7514, -4.7514, -4.7514, -4.7514, -4.7514, -4.7514, -4.7514, -4.7514, -4.7514, -4.7514, -4.7514, -4.7514, -4.7514, -3.8478, -4.7514, -4.7514, -4.7514, -4.0938, -4.0936, -4.5361, -4.6841, -4.6763, -4.7501, -4.7513, -4.7514, -4.7514, -4.7514, -4.7514, -2.7386, -3.0786, -3.598, -3.5981, -3.0786, -3.598, -4.0825, -4.7402, -4.7402, -4.7402, -4.7402, -4.7402, -4.7402, -4.7402, -4.7402, -3.3786, -4.7402, -4.7402, -4.7402, -2.4458, -4.7402, -4.7402, -4.7402, -4.7402, -4.7402, -7.4014, -7.4014, -7.4014, -7.4014, -7.4014, -4.6639, -3.2402, -4.7402, -4.6649, -7.4012, -7.3771, -3.37, -3.37, -3.8545, -3.37, -3.37, -4.5122, -4.5122, -4.5122, -4.5122, -4.5122, -4.5122, -4.5122, -3.0446, -3.8545, -4.5122, -4.5122, -4.5122, -3.0366, -4.5122, -3.8545, -4.5122, -4.5122, -7.1732, -7.174, -7.174, -7.174, -7.174, -7.174, -7.174, -7.174, -4.5122, -4.5122, -4.4343, -7.1728, -7.174, -7.174, -2.7047, -3.2625, -3.1706, -3.6551, -3.6552, -4.3128, -4.3128, -4.3129, -4.3128, -4.3128, -4.3128, -4.3128, -4.3128, -4.3128, -6.9744, -6.9744, -6.9744, -6.9744, -6.9751, -6.9751, -6.9751, -6.9751, -6.9751, -6.9751, -6.9751, -6.9751, -6.9754, -6.9754, -6.9754, -6.9754, -4.3128, -4.1542, -6.9658, -6.9719, -6.9736, -6.9745, -6.9748, -6.9749, -6.9749, -6.9749, -6.9749, -6.9749, -3.1118, -3.5962, -3.5963, -4.2539, -4.2539, -4.2539, -4.2539, -4.2539, -4.5017, -4.2539, -3.5963, -4.2539, -4.2539, -4.2539, -4.2539, -4.2539, -6.9162, -6.9163, -6.9163, -6.9165, -6.9165, -6.9165, -6.9165, -6.9165, -6.9163, -6.9165, -6.9165, -6.9165, -6.9165, -6.9165, -4.1462, -6.9086, -6.9117, -6.9119, -6.9122, -6.9161, -6.9161, -6.9162, -6.9163, -6.9163, -6.9163, -6.9163, -6.9163, -2.491, -3.0104, -4.1524, -4.1525, -4.1524, -4.1524, -4.1524, -6.8129, -6.8129, -6.8129, -6.8147, -6.8147, -6.8147, -6.8147, -6.815, -6.815, -6.815, -6.815, -6.815, -6.815, -6.815, -6.815, -6.815, -6.815, -6.815, -6.815, -6.815, -6.815, -6.815, -6.815, -4.152, -6.8116, -6.815, -6.815, -6.815, -6.815, -6.815, -6.815, -6.815, -6.815, -6.815, -6.815, -6.815, -6.815], \"loglift\": [30.0, 29.0, 28.0, 27.0, 26.0, 25.0, 24.0, 23.0, 22.0, 21.0, 20.0, 19.0, 18.0, 17.0, 16.0, 15.0, 14.0, 13.0, 12.0, 11.0, 10.0, 9.0, 8.0, 7.0, 6.0, 5.0, 4.0, 3.0, 2.0, 1.0, 2.0356, 2.0312, 1.945, 1.8896, 1.8896, 1.8896, 1.8896, 1.8896, 1.8895, 1.7524, 1.7524, 1.7524, 1.7524, 1.7418, 1.621, 1.6193, 1.5924, 1.5736, 1.5638, 1.5339, 1.4821, 1.4821, 1.4821, 1.4821, 1.4821, 1.4821, 1.4821, 1.4821, 1.4821, 1.4821, 1.4795, 1.3611, 1.2654, 1.2575, 1.3315, 0.6285, 0.9105, 1.1418, 0.8777, 1.0927, 0.7923, 0.6309, 0.5321, 0.6049, -0.288, 0.7215, 2.2415, 2.2399, 2.2186, 2.1305, 2.0955, 2.0814, 2.0453, 2.0211, 2.0211, 2.0211, 2.0211, 2.0096, 1.8888, 1.8807, 1.8495, 1.8249, 1.8024, 1.6722, 1.5856, 1.5856, 1.5856, 1.5856, 1.5856, 1.5855, 1.5852, 1.585, 1.5812, 1.5728, 1.4585, 1.4538, 1.3265, 0.6564, 1.1546, 1.0095, 0.8208, 0.6978, 0.9553, 0.9318, 0.5458, 0.4264, -0.0994, 2.3562, 2.341, 2.2227, 2.1601, 2.1601, 2.1601, 2.1351, 2.0251, 2.0055, 1.9872, 1.9796, 1.9698, 1.7116, 1.7116, 1.7116, 1.7116, 1.7116, 1.7116, 1.7115, 1.6676, 1.5166, 1.4931, 1.4846, 1.4607, 1.4585, 1.4102, 1.3963, 1.3842, 1.3842, 1.2916, 1.1575, 1.2219, 1.1348, 0.8642, 1.0836, -0.8275, 1.1789, 2.4125, 2.4125, 2.3826, 2.3537, 2.3537, 2.2547, 2.0793, 2.0547, 2.0379, 2.0325, 1.9299, 1.8724, 1.8696, 1.8349, 1.8229, 1.8229, 1.8229, 1.8229, 1.8229, 1.8229, 1.8229, 1.8229, 1.8229, 1.8229, 1.8229, 1.8229, 1.8229, 1.8229, 1.8229, 1.8229, 1.7647, 1.7429, 1.5558, 1.5861, 0.8831, 0.967, 0.9684, -0.1526, 0.7075, 0.9946, 0.3565, -0.142, 0.1795, 0.8917, 0.8788, -0.1419, 2.4713, 2.4441, 2.2946, 2.2946, 2.2946, 2.2946, 2.2946, 2.2946, 2.2839, 2.2588, 2.2404, 2.1088, 1.8572, 1.8249, 1.8249, 1.8249, 1.8249, 1.8249, 1.8249, 1.8249, 1.8249, 1.8249, 1.8249, 1.8249, 1.8249, 1.8249, 1.8249, 1.8249, 1.7827, 1.6925, 1.6658, 1.4936, 1.5632, 1.3622, 1.256, 1.4078, 0.961, 1.1631, 1.3187, 1.2848, 1.1427, 0.7763, 0.5505, -0.443, 0.4541, 2.5958, 2.4986, 2.4395, 2.3, 2.2941, 2.1459, 2.0969, 2.0125, 2.0107, 2.0107, 2.0107, 2.0107, 2.0107, 2.0107, 2.0107, 2.0107, 2.0107, 2.0107, 2.0107, 2.0107, 2.0107, 2.0107, 2.0107, 2.0107, 2.0107, 2.0107, 2.0107, 2.0107, 2.0107, 2.0107, 1.9584, 1.9259, 1.8812, 1.86, 1.7224, 1.687, 1.676, 1.4338, 1.1946, 0.8457, 0.754, 0.541, 0.3772, -1.4896, 0.2631, 0.9296, 0.1549, 1.6987, 2.5761, 2.5452, 2.5169, 2.5169, 2.4932, 2.3714, 2.3713, 2.3539, 2.1495, 2.1321, 2.1068, 2.0876, 2.0876, 2.0876, 2.0876, 2.0876, 2.0876, 2.0876, 2.0876, 2.0876, 2.0876, 2.0876, 2.0876, 2.0876, 2.0876, 2.0876, 2.0876, 2.0876, 2.0876, 2.0876, 1.8884, 1.733, 1.5353, 1.1188, 1.8599, 1.8511, 0.5377, 0.7736, 0.5549, 0.9647, 0.6177, -0.2129, 0.8403, 0.2064, 1.4568, 1.0394, 0.439, 1.7744, 1.7905, 2.6388, 2.494, 2.494, 2.494, 2.4939, 2.4935, 2.4932, 2.4617, 2.4274, 2.3872, 2.3296, 2.3147, 2.2698, 2.2421, 2.2292, 2.0169, 2.0169, 2.0166, 2.0166, 2.0165, 2.0165, 2.0165, 2.0163, 1.9277, 1.8792, 1.8669, 1.7652, 1.7171, 1.6436, 1.5751, 0.6827, 0.2513, 0.6713, 0.2684, 0.1672, 0.4492, 1.1825, 2.653, 2.586, 2.586, 2.586, 2.586, 2.586, 2.5096, 2.423, 2.4147, 2.4042, 2.3684, 2.249, 2.1782, 2.1773, 2.1132, 2.1132, 2.1132, 2.1132, 2.1132, 2.1132, 2.1132, 2.1132, 2.1132, 2.1132, 2.0881, 2.0239, 1.9943, 1.8299, 1.8052, 1.7815, 1.7117, 1.6246, 1.2686, 1.2692, 1.2721, 0.9134, 0.2918, 1.0143, 0.4532, 1.3773, -0.2711, 0.261, 2.969, 2.8438, 2.8438, 2.8438, 2.6773, 2.6769, 2.3974, 2.3614, 2.3614, 2.3614, 2.3614, 2.3614, 2.3614, 2.3614, 2.3613, 2.3613, 2.3612, 2.3611, 2.3611, 2.0967, 2.0428, 1.9837, 1.9836, 1.9723, 1.9529, 1.935, 1.9344, 1.889, 1.8608, 1.6242, 1.5104, 0.9524, 1.3068, 0.5358, 0.7952, -0.7095, 0.4525, 1.2677, 0.1521, 1.0538, 0.3791, 1.5363, 1.4846, 3.0068, 2.9024, 2.9024, 2.9023, 2.8506, 2.7322, 2.5205, 2.4126, 2.4126, 2.4126, 2.4126, 2.4125, 2.4125, 2.4125, 2.4125, 2.4125, 2.4125, 2.4125, 2.4124, 2.4124, 2.4124, 2.4124, 2.4124, 2.4124, 2.4123, 2.4123, 2.4123, 2.4123, 2.4122, 2.4121, 1.5317, 0.2157, 0.8983, -0.1723, 0.6231, 0.3312, 1.0947, 1.7222, 3.0744, 3.0442, 3.0442, 2.9173, 2.9173, 2.9173, 2.9173, 2.5183, 2.4973, 2.4302, 2.4302, 2.4302, 2.4302, 2.4302, 2.4302, 2.4302, 2.4302, 2.4302, 2.4302, 2.4302, 2.4301, 2.4301, 2.4301, 2.0979, 2.0766, 2.0766, 1.7113, 1.711, 1.6497, 1.6176, 1.6121, 1.6129, 1.5048, 0.7007, 1.1525, 0.0147, 0.4903, 1.178, 3.0906, 2.9788, 2.9632, 2.829, 2.7943, 2.7662, 2.7451, 2.7338, 2.4748, 2.4748, 2.4748, 2.4748, 2.4748, 2.4748, 2.4748, 2.4748, 2.4748, 2.1206, 2.076, 2.0721, 2.0721, 2.0721, 2.0715, 2.0715, 1.919, 1.8823, 1.876, 1.8596, 1.8595, 1.8357, 1.6542, 1.1765, 1.4218, 1.0721, 1.7841, 1.4346, 0.2249, 2.9968, 2.9968, 2.9967, 2.8758, 2.8205, 2.4907, 2.4907, 2.4907, 2.4907, 2.4907, 2.4907, 2.4907, 2.4907, 2.4906, 2.2907, 2.2905, 2.1394, 2.1259, 2.083, 2.0799, 2.0799, 2.0794, 2.0385, 1.9872, 1.9537, 1.9151, 1.8777, 1.7399, 1.6858, 1.5324, 1.4135, 0.6298, -1.386, 0.737, 0.4278, 3.2177, 3.1402, 3.011, 3.011, 2.8399, 2.7785, 2.7344, 2.5172, 2.5172, 2.5172, 2.5172, 2.5172, 2.5172, 2.5172, 2.5172, 2.5172, 2.3024, 2.1981, 2.1756, 2.1151, 2.1151, 2.1121, 2.0852, 2.0852, 2.0852, 2.0278, 1.9111, 1.8331, 1.8245, 1.6462, 0.4519, 0.1275, 0.9063, 0.3766, 1.6387, 0.2601, 1.3375, 1.5444, 1.0601, 1.4772, 3.2591, 3.1959, 3.0608, 3.0607, 2.6898, 2.6865, 2.5871, 2.5506, 2.5506, 2.5506, 2.5506, 2.5506, 2.5506, 2.5506, 2.5506, 2.2118, 2.2094, 2.1608, 2.1108, 2.0998, 1.9285, 1.6579, 1.267, 0.5302, 0.4413, 0.3743, 0.3743, 0.3743, 0.3743, 0.3742, 0.3475, -0.081, -0.3061, -0.7354, 0.374, -0.4242, 3.4251, 3.4251, 3.2222, 3.135, 2.8811, 2.8542, 2.8542, 2.8542, 2.8542, 2.8542, 2.8542, 2.6054, 2.5059, 2.4891, 2.4393, 2.4154, 2.3868, 2.1761, 2.0163, 1.9711, 1.9351, 1.6828, 0.6024, 0.6017, 0.6017, 0.6017, 0.6017, 0.6017, 0.6017, 0.6017, 0.3916, 0.0334, -0.5049, -2.0098, 0.6015, 0.6016, 3.8916, 3.6905, 3.4981, 3.1891, 3.1374, 3.1085, 3.1085, 3.1084, 2.8048, 2.3451, 2.3357, 2.2157, 2.2108, 1.8007, 0.8013, 0.8013, 0.8012, 0.8009, 0.8006, 0.8006, 0.8006, 0.8006, 0.8006, 0.8006, 0.8006, 0.8005, 0.8004, 0.8004, 0.8004, 0.8004, 0.415, -0.9949, -1.321, -1.9189, -2.31, -1.4428, -0.6903, -0.3706, -0.3706, 0.2844, 0.2844, 0.2844, 3.8266, 3.5941, 3.5941, 3.187, 3.187, 3.187, 3.187, 2.7999, 2.4582, 2.361, 2.1437, 1.835, 1.5575, 1.2692, 1.2293, 0.9276, 0.8594, 0.8594, 0.8593, 0.8593, 0.8593, 0.8593, 0.8593, 0.8593, 0.8593, 0.8593, 0.8593, 0.8593, 0.8593, 0.8593, 0.5816, -2.9792, -1.8684, -2.6663, -3.7529, -0.8282, -2.2525, -1.6885, -1.7055, -1.3582, -0.3927, -1.6245, -2.0481, 3.9368, 3.5301, 3.3738, 3.3738, 2.8788, 2.0987, 1.6732, 0.9628, 0.9628, 0.9628, 0.961, 0.961, 0.9609, 0.9608, 0.9608, 0.9608, 0.9608, 0.9608, 0.9608, 0.9607, 0.9607, 0.9607, 0.9607, 0.9607, 0.9607, 0.9607, 0.9607, 0.9607, 0.9607, 0.9607, 0.0935, -2.266, 0.9607, 0.9606, -0.4879, -1.413, 0.0216, 0.3203, 0.3203, -1.3416, 0.3203, -2.129, -0.6915, -1.4882]}, \"token.table\": {\"Topic\": [7, 13, 16, 8, 1, 8, 5, 6, 2, 4, 9, 11, 14, 1, 7, 14, 16, 4, 5, 9, 10, 11, 1, 2, 6, 1, 10, 18, 2, 4, 6, 13, 14, 17, 6, 8, 15, 2, 1, 9, 16, 5, 1, 5, 9, 12, 13, 3, 1, 4, 7, 12, 11, 14, 1, 15, 5, 17, 8, 2, 6, 6, 15, 7, 12, 14, 1, 5, 7, 4, 3, 2, 8, 10, 11, 5, 16, 18, 14, 1, 2, 3, 4, 5, 6, 8, 10, 11, 14, 16, 3, 6, 7, 11, 4, 12, 4, 14, 15, 5, 2, 15, 17, 3, 5, 6, 7, 14, 15, 5, 14, 1, 4, 10, 4, 8, 9, 4, 15, 2, 3, 5, 8, 10, 12, 1, 2, 15, 7, 12, 1, 17, 2, 4, 5, 10, 14, 16, 9, 12, 4, 9, 1, 6, 1, 5, 8, 12, 8, 2, 10, 9, 12, 16, 9, 2, 7, 4, 8, 10, 7, 4, 5, 9, 13, 15, 16, 11, 1, 13, 3, 9, 14, 16, 1, 1, 3, 9, 16, 3, 10, 12, 4, 16, 1, 4, 6, 7, 12, 15, 7, 4, 3, 10, 10, 7, 1, 5, 7, 6, 1, 9, 12, 1, 5, 9, 11, 14, 15, 12, 6, 8, 10, 15, 7, 4, 1, 5, 14, 2, 3, 5, 4, 5, 12, 5, 11, 2, 19, 9, 12, 8, 13, 11, 2, 3, 12, 5, 10, 14, 14, 9, 13, 3, 14, 8, 8, 10, 11, 3, 7, 15, 7, 11, 18, 11, 13, 12, 1, 6, 9, 10, 11, 14, 16, 1, 16, 2, 4, 8, 9, 10, 2, 4, 11, 13, 7, 12, 13, 16, 14, 7, 1, 10, 7, 13, 1, 2, 6, 8, 1, 11, 9, 7, 5, 11, 1, 3, 6, 16, 9, 13, 15, 6, 1, 6, 12, 7, 13, 1, 7, 5, 9, 16, 6, 13, 5, 17, 2, 8, 9, 15, 2, 6, 16, 9, 15, 12, 14, 1, 3, 1, 6, 2, 8, 7, 7, 8, 1, 7, 3, 5, 13, 7, 13, 11, 7, 14, 9, 1, 2, 7, 15, 13, 13, 6, 7, 3, 10, 4, 11, 7, 14, 1, 3, 16, 1, 15, 2, 10, 3, 5, 2, 4, 1, 7, 13, 9, 15, 5, 3, 7, 12, 20, 7, 15, 8, 12, 6, 3, 5, 10, 14, 4, 6, 14, 4, 5, 7, 10, 14, 4, 6, 13, 2, 4, 6, 7, 8, 12, 1, 3, 7, 10, 14, 11, 1, 6, 12, 12, 15, 2, 15, 4, 7, 13, 15, 12, 1, 6, 8, 12, 1, 16, 9, 11, 9, 13, 10, 12, 1, 8, 5, 7, 1, 15, 1, 10, 13, 14, 4, 12, 13, 4, 9, 9, 4, 17, 17, 7, 9, 15, 6, 12, 3, 7, 5, 4, 8, 12, 15, 15, 16, 2, 3, 5, 1, 2, 3, 4, 8, 10, 16, 2, 1, 5, 6, 15, 3, 1, 2, 11, 1, 6, 7, 16, 9, 14, 6, 16, 7, 12, 6, 11, 7, 10, 8, 1, 2, 6, 8, 9, 3, 16, 6, 5, 6, 4, 7, 19, 13, 7, 15, 9, 4, 13, 11, 19, 13, 14, 6, 11, 15, 1, 15, 13, 1, 4, 10, 4, 5, 14, 2, 5, 6, 13, 9, 13, 13, 5, 1, 2, 3, 6, 8, 11, 15, 6, 5, 1, 6, 1, 1, 6, 11, 8, 1, 5, 6, 9, 13, 15, 19, 1, 6, 1, 5, 7, 15, 3, 2, 12, 9, 9, 4, 6, 1, 6, 7, 15, 4, 3, 2, 3, 4, 4, 15, 4, 15, 7, 1, 4, 9, 12, 11, 6, 1, 5, 9, 11, 13, 15, 16, 9, 15, 1, 10, 1, 2, 5, 4, 13, 5, 2, 12, 11, 12, 16, 11, 10, 14, 4, 18, 6, 6, 11, 3, 9, 5, 1, 9, 7, 9, 4, 11, 2, 10, 9, 13, 15, 15, 12, 4, 17, 2, 4, 5, 10, 14, 15, 14, 4, 6, 7, 13, 1, 1, 10, 7, 1, 4, 6, 1, 2, 5, 2, 5, 7, 7, 11, 10, 7, 13, 16, 6, 7, 1, 2, 15, 16, 2, 3, 5, 7, 9, 12, 10, 11, 14, 20, 3, 3, 5, 9, 12, 15, 10, 4, 14, 8, 2, 4, 6, 11, 2, 8, 10, 6, 13, 4, 8, 11, 6, 14, 2, 7, 1, 4, 18, 2, 6, 8, 13, 11, 1, 3, 4, 5, 6, 10, 5, 10, 7, 9, 4, 11, 9, 10, 5, 2, 8, 3, 6, 9, 1, 2, 3, 6, 17, 4, 10, 10, 11, 5, 8, 9, 6, 16, 12, 4, 7, 8, 10, 1, 10, 14], \"Freq\": [0.3108671578632215, 0.621734315726443, 0.7744163890664124, 0.7606956211551917, 0.23128498213139093, 0.6938549463941728, 0.3613315446253171, 0.3613315446253171, 0.6945331753583031, 0.37492802518245527, 0.37492802518245527, 0.7531311560581103, 0.8155595299122301, 0.2954375343881856, 0.2954375343881856, 0.2954375343881856, 0.7744190490715885, 0.20160803833800453, 0.20160803833800453, 0.40321607667600906, 0.20160803833800453, 0.20160803833800453, 0.23427327429957456, 0.35140991144936184, 0.35140991144936184, 0.6628976024373802, 0.49550592749240785, 0.49550592749240785, 0.6945932924305076, 0.6903374242036099, 0.4076755573670956, 0.13589185245569854, 0.13589185245569854, 0.2717837049113971, 0.6869934922636407, 0.7607068655954858, 0.7574208021645554, 0.8889272344891569, 0.45002980792212205, 0.634290443421667, 0.3171452217108335, 0.7318048649604018, 0.29842862832669753, 0.238742902661358, 0.0596857256653395, 0.1790571769960185, 0.119371451330679, 0.7088355766947612, 0.44961902728681863, 0.1498730090956062, 0.2997460181912124, 0.7795425594160668, 0.6492365750042464, 0.2782442464303913, 0.4917020991670256, 0.4917020991670256, 0.7470232293373532, 0.4717418726339321, 0.7605985385657734, 0.694853890145613, 0.6869934922636407, 0.6869934922636407, 0.7574222079170952, 0.6667946754285776, 0.13335893508571553, 0.13335893508571553, 0.17975728156927534, 0.3595145631385507, 0.3595145631385507, 0.6903374242036099, 0.7569099628841581, 0.2595864463083809, 0.5191728926167618, 0.7707017795724667, 0.7531128139705208, 0.7318048649604018, 0.41571759054603025, 0.41571759054603025, 0.7702441549538903, 0.21139812874506506, 0.18652776065741034, 0.27357404896420184, 0.06217592021913678, 0.04974073617530943, 0.012435184043827357, 0.07461110426296413, 0.024870368087654714, 0.04974073617530943, 0.012435184043827357, 0.024870368087654714, 0.5562539738253821, 0.3776592694854216, 0.3776592694854216, 0.3776592694854216, 0.6903374242036099, 0.7504153127193959, 0.5123448103318128, 0.5123448103318128, 0.8044044955974785, 0.7470232293373532, 0.6852018500690353, 0.600722275320348, 0.300361137660174, 0.7088355766947612, 0.0922324367949538, 0.6456270575646766, 0.1844648735899076, 0.0922324367949538, 0.6110291844945079, 0.9435996856077936, 0.8155046923832648, 0.27314531553709603, 0.5462906310741921, 0.7454122294491045, 0.6903372266071921, 0.7396944120278828, 0.7351300527656088, 0.6903372266071921, 0.9157971483540973, 0.20605912013751063, 0.2747454935166808, 0.1373727467583404, 0.1373727467583404, 0.20605912013751063, 0.7504467755403679, 0.15919802433554264, 0.6367920973421706, 0.7574208021645554, 0.8271955485178744, 0.7504145960182624, 0.3529488373884645, 0.3529488373884645, 0.20536014453543325, 0.20536014453543325, 0.20536014453543325, 0.10268007226771662, 0.20536014453543325, 0.10268007226771662, 0.5269095044616082, 0.5269095044616082, 0.5693466606292126, 0.2846733303146063, 0.6628997821603113, 0.47253931832658735, 0.6628976024373802, 0.7318052757925125, 0.6659532486051188, 0.3329766243025594, 0.7606878413112821, 0.5771500496374476, 0.2885750248187238, 0.28310076621205305, 0.28310076621205305, 0.5662015324241061, 0.7527663700283017, 0.6946106069267484, 0.6874902003385388, 0.6903374242036099, 0.7397139034656927, 0.5296183788679617, 0.6874902003385388, 0.15851258493452822, 0.39628146233632056, 0.15851258493452822, 0.07925629246726411, 0.07925629246726411, 0.07925629246726411, 0.5374290523520328, 0.635905343068405, 0.7518302001757897, 0.5873563041605955, 0.29367815208029774, 0.09789271736009923, 0.7744166959891539, 0.6628976024373802, 0.6628989075450508, 0.7084295207639684, 0.752756333688423, 0.8232326694402691, 0.7088366279633979, 0.7454193723954275, 0.7504155899602752, 0.9401511284952111, 0.7744163890664124, 0.20011011439679208, 0.20011011439679208, 0.40022022879358415, 0.20011011439679208, 0.5382645675110483, 0.5382645675110483, 0.6874902003385388, 0.6903372266071921, 0.5109177950503037, 0.5109177950503037, 0.7795110904654281, 0.6874902003385388, 0.6359027983116334, 0.7470572641257152, 0.6874902003385388, 0.4074118534486521, 0.33015054263114346, 0.33015054263114346, 0.16507527131557173, 0.12580029321939976, 0.2516005864387995, 0.3774008796581993, 0.12580029321939976, 0.12580029321939976, 0.12580029321939976, 0.7796358452034982, 0.6869960841229182, 0.7607318847471424, 0.7454091067856524, 0.7574208021645554, 0.6874902003385388, 0.6903374242036099, 0.6628995975428937, 0.5348347316614178, 0.5348347316614178, 0.4062669010220208, 0.4062669010220208, 0.1354223003406736, 0.43735136541414443, 0.26241081924848664, 0.17494054616565777, 0.7318052757925125, 0.7531203627608326, 0.6945886780406181, 0.5444318092595036, 0.5269094245783668, 0.5269094245783668, 0.32111943380091656, 0.6422388676018331, 0.7531267070347406, 0.18712493523272147, 0.5613748056981644, 0.75041633587307, 0.7318048649604018, 0.7453980419760627, 0.7702435407365338, 0.7702427819987987, 0.40636953752157723, 0.40636953752157723, 0.708835614240016, 0.7702455986161381, 0.9302792925301129, 0.5266393590708639, 0.5266393590708639, 0.7531210491161521, 0.7088647113765107, 0.6874902003385388, 0.7574208021645554, 0.7210600446566422, 0.7531253697353465, 0.5523986281260972, 0.7531235913222554, 0.7518302001757897, 0.7504128821319769, 0.1879024875832639, 0.09395124379163194, 0.1879024875832639, 0.09395124379163194, 0.09395124379163194, 0.1879024875832639, 0.09395124379163194, 0.3379580687819168, 0.5069371031728752, 0.19349535486615477, 0.09674767743307738, 0.38699070973230953, 0.09674767743307738, 0.19349535486615477, 0.21351511095237477, 0.49820192555554116, 0.21351511095237477, 0.07117170365079159, 0.6874902003385388, 0.21453321614531706, 0.6435996484359512, 0.21453321614531706, 0.7702427819987987, 0.6874902003385388, 0.4866047335343652, 0.4866047335343652, 0.6874902003385388, 0.7518302001757897, 0.10734725439063691, 0.6440835263438215, 0.10734725439063691, 0.10734725439063691, 0.6359053072327513, 0.7843704132211413, 0.7351358678767921, 0.6874902003385388, 0.7318048649604018, 0.7531294641758188, 0.8898980091738753, 0.04449490045869377, 0.04449490045869377, 0.04449490045869377, 0.3527991582972768, 0.3527991582972768, 0.1763995791486384, 0.6869934922636407, 0.8408753248286136, 0.1681750649657227, 0.7504467755403679, 0.5026101101073539, 0.5026101101073539, 0.46349846218059354, 0.46349846218059354, 0.7318052757925125, 0.7351300527656088, 0.7744163890664124, 0.6869956979395576, 0.7518302001757897, 0.715648914452988, 0.178912228613247, 0.6945331753583031, 0.7396820952031987, 0.6284464035067965, 0.31422320175339824, 0.685212334401651, 0.6870064980790074, 0.8499764678136261, 0.7351447965672815, 0.7574220940866907, 0.7504152069454586, 0.8154559735930538, 0.5687471573515905, 0.28437357867579527, 0.7774706410747756, 0.6869972771937981, 0.2386055963907794, 0.4772111927815588, 0.6874902003385388, 0.4730069232182099, 0.7606435698381312, 0.4633709369802299, 0.4633709369802299, 0.8498368962251358, 0.8773002468841091, 0.7518302001757897, 0.5026102561005981, 0.5026102561005981, 0.7531244700893442, 0.5107739637140828, 0.5107739637140828, 0.752756333688423, 0.18808796686039575, 0.18808796686039575, 0.18808796686039575, 0.18808796686039575, 0.782080375586893, 0.7518302001757897, 0.6869970588980493, 0.6874902003385388, 0.5109170501253174, 0.5109170501253174, 0.8409649974795111, 0.7531287444842628, 0.510777750542278, 0.510777750542278, 0.5233616864020779, 0.524378651036214, 0.524378651036214, 0.4917049626984982, 0.4917049626984982, 0.9695676121951857, 0.7706979725210845, 0.6803413164654772, 0.27213652658619086, 0.41124572945225346, 0.41124572945225346, 0.6359148147972716, 0.20083762385646153, 0.8033504954258461, 0.752814934159766, 0.7574222456592862, 0.7470232293373532, 0.7084386339278386, 0.3656817305421792, 0.3656817305421792, 0.3656817305421792, 0.5726473835742246, 0.2863236917871123, 0.7396977955803973, 0.7795436214971584, 0.6869934922636407, 0.9579119295693319, 0.7318048649604018, 0.5420723546654092, 0.5420723546654092, 0.6903372266071921, 0.5105079412961496, 0.5105079412961496, 0.15119916588384466, 0.226798748825767, 0.07559958294192233, 0.3023983317676893, 0.226798748825767, 0.24538091114397495, 0.4907618222879499, 0.24538091114397495, 0.13691010579914678, 0.13691010579914678, 0.27382021159829356, 0.13691010579914678, 0.4107303173974403, 0.922490763317994, 0.40069717091835727, 0.40069717091835727, 0.05724245298833676, 0.05724245298833676, 0.05724245298833676, 0.8672748198906488, 0.6199338737462943, 0.12398677474925884, 0.12398677474925884, 0.3438397030500365, 0.687679406100073, 0.6852441513353534, 0.7574222983116704, 0.6287201116552974, 0.1047866852758829, 0.2095733705517658, 0.1047866852758829, 0.7504157040910563, 0.10491172337381148, 0.10491172337381148, 0.7343820636166803, 0.10491172337381148, 0.4988120697886846, 0.4988120697886846, 0.527757921530012, 0.527757921530012, 0.40639622859525765, 0.40639622859525765, 0.7454066866266537, 0.7504159304182185, 0.5914779207405099, 0.39431861382700656, 0.3723592543609634, 0.3723592543609634, 0.49170665943932673, 0.49170665943932673, 0.4994079404516046, 0.2497039702258023, 0.2497039702258023, 0.7702427819987987, 0.6785105527603904, 0.4157607878952427, 0.4157607878952427, 0.16058941768985566, 0.6423576707594226, 0.7351447965672815, 0.2738015680974727, 0.2738015680974727, 0.6252018886664991, 0.6874902003385388, 0.7351358678767921, 0.7920790488983336, 0.37197708608736624, 0.37197708608736624, 0.7084295207639684, 0.5385697491113137, 0.7470232293373532, 0.6903374242036099, 0.7397139749167485, 0.7504128821319769, 0.5418513052312669, 0.5505026005475372, 0.5505026005475372, 0.6945343499994099, 0.39158746579314196, 0.39158746579314196, 0.026863310846751018, 0.3760863518545143, 0.2686331084675102, 0.08058993254025305, 0.10745324338700407, 0.10745324338700407, 0.026863310846751018, 0.874923990325273, 0.2327975189342729, 0.2327975189342729, 0.2327975189342729, 0.2327975189342729, 0.4943170247838517, 0.3573184811432179, 0.3573184811432179, 0.7845041000177583, 0.24100889816607843, 0.48201779633215686, 0.24100889816607843, 0.7744166959891539, 0.6207214393535919, 0.5550660973058512, 0.6869934922636407, 0.7744166959891539, 0.6874902003385388, 0.7897756652724374, 0.6869966399023396, 0.7531269831009332, 0.6874902003385388, 0.7454102280657074, 0.5238981776624452, 0.2172900604120509, 0.10864503020602545, 0.4345801208241018, 0.10864503020602545, 0.10864503020602545, 0.41609543804990995, 0.41609543804990995, 0.6869968888834413, 0.7318081858665011, 0.8331782066720966, 0.5200912022238113, 0.3467274681492075, 0.7004372854692552, 0.7518302001757897, 0.3788794341077849, 0.3788794341077849, 0.5193132459638415, 0.3331488700985027, 0.3331488700985027, 0.7843704132211413, 0.7004383789591409, 0.6888288772314918, 0.3444144386157459, 0.2676951296419474, 0.5353902592838948, 0.2676951296419474, 0.5177489713228204, 0.2588744856614102, 0.536147377534347, 0.2519085026306264, 0.2519085026306264, 0.5038170052612528, 0.4882793078550273, 0.16275976928500913, 0.32551953857001825, 0.5783669354366013, 0.28918346771830067, 0.5023484351236593, 0.5023484351236593, 0.5276068160892317, 0.5276068160892317, 0.7927022897022412, 0.731814416926286, 0.11195192604754528, 0.11195192604754528, 0.2798798151188632, 0.16792788907131792, 0.2798798151188632, 0.05597596302377264, 0.05597596302377264, 0.6732124666257809, 0.7318048649604018, 0.9348242974605195, 0.6869934922636407, 0.6359027360017259, 0.66289889704468, 0.8261335403826869, 0.7531183303673216, 0.739706960379212, 0.1642232348705107, 0.1642232348705107, 0.1642232348705107, 0.1642232348705107, 0.1642232348705107, 0.1642232348705107, 0.1642232348705107, 0.4500369642001707, 0.6869934922636407, 0.4500294410642404, 0.7318081858665011, 0.5051039508763463, 0.5051039508763463, 0.5515785942046758, 0.8418376168485716, 0.7504551590562492, 0.7351314936695408, 0.752756333688423, 0.36196197311491995, 0.36196197311491995, 0.12703718893200838, 0.5081487557280335, 0.12703718893200838, 0.12703718893200838, 0.6903372266071921, 0.8723809269087953, 0.11699758621049514, 0.3509927586314854, 0.46799034484198054, 0.5066383473186507, 0.5066383473186507, 0.5066376991112049, 0.5066376991112049, 0.6740467512554505, 0.49352137538034, 0.10967141675118666, 0.2741785418779667, 0.05483570837559333, 0.7531299308185778, 0.6869934922636407, 0.04974143861645079, 0.2984486316987047, 0.04974143861645079, 0.09948287723290158, 0.09948287723290158, 0.04974143861645079, 0.24870719308225395, 0.3821525317738474, 0.3821525317738474, 0.48667908816237426, 0.48667908816237426, 0.275309546927656, 0.550619093855312, 0.7318048649604018, 0.6903372266071921, 0.7518302001757897, 0.7318081858665011, 0.6945331753583031, 0.7504161677717707, 0.7531240241291943, 0.7504156077569659, 0.8408458239759635, 0.753119087280592, 0.24838726102513517, 0.49677452205027034, 0.4705555754767408, 0.4705555754767408, 0.6869966599025485, 0.5028721624226226, 0.5028721624226226, 0.7088366279633979, 0.7351306445647544, 0.7470232293373532, 0.577073460560904, 0.288536730280452, 0.6874902003385388, 0.7351447965672815, 0.6903372266071921, 0.7531269831009332, 0.6852257512862387, 0.7454193723954275, 0.41312400004138805, 0.41312400004138805, 0.41312400004138805, 0.792130870708078, 0.7897683569109829, 0.6903374242036099, 0.4717433741117009, 0.4131092518347479, 0.08262185036694958, 0.08262185036694958, 0.08262185036694958, 0.24786555110084876, 0.08262185036694958, 0.7702427819987987, 0.8409415400380887, 0.6869934922636407, 0.6874902003385388, 0.7518336120816645, 0.6628976024373802, 0.6628991413802193, 0.7454132816592286, 0.6874902003385388, 0.39395102034456214, 0.6903374242036099, 0.6869969303940536, 0.4500302309134746, 0.1525947966260211, 0.7629739831301056, 0.12874716330915745, 0.7724829798549447, 0.12874716330915745, 0.6740087360201454, 0.7531285082092016, 0.7453974885439478, 0.5026114889358206, 0.5026114889358206, 0.8233061643333638, 0.4691178233260308, 0.4691178233260308, 0.6628998003000928, 0.5657020322492641, 0.14142550806231602, 0.28285101612463204, 0.13221328580343228, 0.13221328580343228, 0.39663985741029684, 0.13221328580343228, 0.13221328580343228, 0.13221328580343228, 0.7454132816592286, 0.7531062485025201, 0.32671030804886986, 0.32671030804886986, 0.7088355766947612, 0.6264327149915466, 0.1842449161739843, 0.07369796646959371, 0.07369796646959371, 0.7574220940866907, 0.7706958082076825, 0.9401533125736199, 0.7702480209326793, 0.7396965201201066, 0.7098188391511789, 0.08872735489389737, 0.17745470978779473, 0.7531309608250628, 0.9095351175775648, 0.7397023537952773, 0.5296414663042661, 0.5023515313210818, 0.5023515313210818, 0.23623901923547863, 0.7087170577064359, 0.7531269831009332, 0.6870065365077147, 0.7702480209326793, 0.7645782551282984, 0.15291565102565965, 0.1035484509693432, 0.8283876077547456, 0.7733832528116236, 0.6945343499994099, 0.6870067352065713, 0.3595732767979982, 0.3595732767979982, 0.7531263909798626, 0.16365932279989814, 0.40914830699974536, 0.08182966139994907, 0.16365932279989814, 0.08182966139994907, 0.08182966139994907, 0.6203897954793692, 0.3101948977396846, 0.7011520838470469, 0.17528802096176171, 0.5973947678615787, 0.7531269831009332, 0.6135126462149765, 0.3681075877289859, 0.7318048649604018, 0.7466483698936462, 0.14932967397872923, 0.24402897690188438, 0.24402897690188438, 0.24402897690188438, 0.09693024945679504, 0.2907907483703851, 0.19386049891359008, 0.19386049891359008, 0.19386049891359008, 0.6903374242036099, 0.7454122294491045, 0.7454122294491045, 0.7531278460234581, 0.42539009595658656, 0.5671867946087821, 0.7351358678767921, 0.6869934922636407, 0.7744166959891539, 0.7796054384831915, 0.19679766902013565, 0.09839883451006783, 0.3935953380402713, 0.2951965035302035, 0.32663467889585085, 0.32663467889585085, 0.32663467889585085], \"Term\": [\"able\", \"able\", \"absolutely\", \"access\", \"account\", \"account\", \"actual\", \"actual\", \"add\", \"address\", \"address\", \"afford\", \"age\", \"ago\", \"ago\", \"ago\", \"agree\", \"also\", \"also\", \"also\", \"also\", \"also\", \"always\", \"always\", \"always\", \"amazing\", \"amount\", \"amount\", \"anger\", \"annoying\", \"answer\", \"answer\", \"answer\", \"answer\", \"anxiously\", \"anymore\", \"apartment\", \"app\", \"apparently\", \"apply\", \"apply\", \"appreciate\", \"arm\", \"arm\", \"arm\", \"arm\", \"arm\", \"arrange\", \"arrive\", \"arrive\", \"arrive\", \"arrogant\", \"ask\", \"ask\", \"assistance\", \"assistance\", \"assistant\", \"attach\", \"authority\", \"average\", \"await\", \"away\", \"awful\", \"back\", \"back\", \"back\", \"bad\", \"bad\", \"bad\", \"bag\", \"band\", \"banking\", \"banking\", \"begin\", \"believe\", \"benn\", \"big\", \"big\", \"bil\", \"bill\", \"bill\", \"bill\", \"bill\", \"bill\", \"bill\", \"bill\", \"bill\", \"bill\", \"bill\", \"bill\", \"billing\", \"bit\", \"bit\", \"bit\", \"black\", \"blatalbajda\", \"block\", \"block\", \"bother\", \"break\", \"button\", \"buy\", \"buy\", \"calculate\", \"call\", \"call\", \"call\", \"call\", \"capable\", \"care\", \"carry\", \"case\", \"case\", \"cashier\", \"centrally\", \"certain\", \"chairman\", \"chance\", \"change\", \"charge\", \"charge\", \"charge\", \"charge\", \"charge\", \"cheap\", \"check\", \"check\", \"choice\", \"chrome\", \"client\", \"close\", \"close\", \"come\", \"come\", \"come\", \"come\", \"come\", \"come\", \"communication\", \"communication\", \"company\", \"company\", \"completely\", \"computer\", \"concern\", \"connect\", \"consume\", \"consume\", \"consumer\", \"consumption\", \"consumption\", \"contact\", \"contact\", \"contact\", \"convenient\", \"cooker\", \"correct\", \"cost\", \"cover\", \"cubic\", \"currently\", \"customer\", \"customer\", \"customer\", \"customer\", \"customer\", \"customer\", \"cut\", \"date\", \"datum\", \"day\", \"day\", \"day\", \"deal\", \"dedicated\", \"department\", \"depend\", \"desk\", \"detail\", \"devotion\", \"disappoint\", \"disappointing\", \"disgrace\", \"disgusting\", \"do\", \"do\", \"do\", \"do\", \"document\", \"document\", \"donate\", \"door\", \"double\", \"double\", \"download\", \"dream\", \"due\", \"easy\", \"economy\", \"efficient\", \"electricity\", \"electricity\", \"electricity\", \"email\", \"email\", \"email\", \"email\", \"email\", \"email\", \"end\", \"energy\", \"enough\", \"entirely\", \"entitle\", \"entity\", \"envelope\", \"escalation\", \"estimate\", \"estimate\", \"euro\", \"euro\", \"euro\", \"even\", \"even\", \"even\", \"ever\", \"excessive\", \"excuse\", \"expect\", \"experience\", \"experience\", \"explain\", \"explain\", \"express\", \"extra\", \"extra\", \"eye\", \"face\", \"fair\", \"false\", \"fanfare\", \"fast\", \"fast\", \"fault\", \"figure\", \"find\", \"first\", \"first\", \"fish\", \"flat\", \"flight\", \"fool\", \"foreign\", \"foreigner\", \"friendly\", \"gas\", \"general\", \"generate\", \"get\", \"get\", \"get\", \"get\", \"get\", \"get\", \"get\", \"give\", \"give\", \"go\", \"go\", \"go\", \"go\", \"go\", \"good\", \"good\", \"good\", \"good\", \"government\", \"great\", \"great\", \"great\", \"grip\", \"grow\", \"guess\", \"guess\", \"guy\", \"hang\", \"happen\", \"happen\", \"happen\", \"happen\", \"hassle\", \"head\", \"healthcare\", \"hear\", \"hearing\", \"heater\", \"help\", \"help\", \"help\", \"help\", \"helpful\", \"helpful\", \"helpful\", \"helpline\", \"high\", \"high\", \"higher\", \"hold\", \"hold\", \"hope\", \"hope\", \"hopeless\", \"horrible\", \"horrific\", \"hostile\", \"hotline\", \"hour\", \"hour\", \"however\", \"incident\", \"incompetent\", \"incompetent\", \"increase\", \"indicate\", \"information\", \"infuriate\", \"insider\", \"insist\", \"instal\", \"instead\", \"instead\", \"interest\", \"interesting\", \"internet\", \"internet\", \"investment\", \"investor\", \"invoice\", \"island\", \"island\", \"issue\", \"joke\", \"juice\", \"keep\", \"keep\", \"kick\", \"know\", \"know\", \"lady\", \"last\", \"last\", \"last\", \"last\", \"later\", \"law\", \"leak\", \"learn\", \"less\", \"less\", \"let\", \"limit\", \"line\", \"line\", \"list\", \"little\", \"little\", \"live\", \"live\", \"log\", \"lol\", \"long\", \"long\", \"look\", \"look\", \"lose\", \"lot\", \"lot\", \"love\", \"low\", \"lunch\", \"mail\", \"make\", \"make\", \"make\", \"malta\", \"malta\", \"manage\", \"manager\", \"manner\", \"many\", \"mask\", \"meeter\", \"meeter\", \"meqter\", \"message\", \"message\", \"meter\", \"meter\", \"meter\", \"meter\", \"meter\", \"minute\", \"minute\", \"minute\", \"mistake\", \"mistake\", \"mistake\", \"mistake\", \"mistake\", \"money\", \"month\", \"month\", \"month\", \"month\", \"month\", \"mount\", \"much\", \"much\", \"much\", \"name\", \"name\", \"nearly\", \"necessary\", \"need\", \"need\", \"need\", \"need\", \"negligence\", \"never\", \"never\", \"never\", \"never\", \"new\", \"new\", \"next\", \"next\", \"nice\", \"nice\", \"nil\", \"notary\", \"notice\", \"notice\", \"number\", \"number\", \"offer\", \"offer\", \"office\", \"office\", \"office\", \"often\", \"old\", \"one\", \"one\", \"online\", \"online\", \"onwards\", \"open\", \"open\", \"opening\", \"opinion\", \"opportunity\", \"option\", \"order\", \"order\", \"organize\", \"otherwise\", \"outside\", \"overcharged\", \"overlap\", \"owe\", \"ownership\", \"party\", \"party\", \"pass\", \"patience\", \"patience\", \"pay\", \"pay\", \"pay\", \"pay\", \"pay\", \"pay\", \"pay\", \"payment\", \"people\", \"people\", \"people\", \"people\", \"period\", \"person\", \"person\", \"personally\", \"phone\", \"phone\", \"phone\", \"pick\", \"place\", \"point\", \"polite\", \"political\", \"poltician\", \"possible\", \"possibly\", \"post\", \"potentially\", \"pretend\", \"previous\", \"problem\", \"problem\", \"problem\", \"problem\", \"problem\", \"process\", \"process\", \"promote\", \"prompt\", \"properly\", \"property\", \"property\", \"prosit\", \"protection\", \"provide\", \"provide\", \"public\", \"put\", \"put\", \"quarter\", \"query\", \"question\", \"question\", \"quick\", \"quick\", \"quick\", \"rate\", \"rate\", \"reach\", \"read\", \"read\", \"read\", \"reader\", \"reader\", \"reader\", \"reading\", \"reading\", \"ready\", \"ready\", \"really\", \"really\", \"reason\", \"receipt\", \"receive\", \"receive\", \"receive\", \"receive\", \"receive\", \"receive\", \"receive\", \"rectify\", \"refer\", \"refund\", \"register\", \"relative\", \"relevant\", \"remain\", \"rent\", \"repeat\", \"reply\", \"reply\", \"reply\", \"reply\", \"reply\", \"reply\", \"reply\", \"report\", \"request\", \"residential\", \"response\", \"result\", \"result\", \"review\", \"ridiculous\", \"robber\", \"robbery\", \"rude\", \"save\", \"save\", \"say\", \"say\", \"say\", \"say\", \"search\", \"second\", \"see\", \"see\", \"see\", \"seem\", \"seem\", \"self\", \"self\", \"sell\", \"send\", \"send\", \"send\", \"send\", \"seriously\", \"serve\", \"service\", \"service\", \"service\", \"service\", \"service\", \"service\", \"service\", \"settle\", \"settle\", \"several\", \"several\", \"shame\", \"shame\", \"shield\", \"shirt\", \"shop\", \"sick\", \"side\", \"signature\", \"single\", \"skill\", \"slow\", \"small\", \"smart\", \"smart\", \"smile\", \"smile\", \"solar\", \"solution\", \"solution\", \"solve\", \"sometime\", \"sometimes\", \"sort\", \"sort\", \"sound\", \"span\", \"sparixxa\", \"speak\", \"spend\", \"spite\", \"staff\", \"staff\", \"staff\", \"star\", \"state\", \"statement\", \"steal\", \"still\", \"still\", \"still\", \"still\", \"still\", \"still\", \"stone\", \"stop\", \"straight\", \"strange\", \"stretch\", \"stuff\", \"stupid\", \"sudden\", \"suggest\", \"support\", \"sure\", \"surprisingly\", \"switch\", \"system\", \"system\", \"take\", \"take\", \"take\", \"talk\", \"tank\", \"tariff\", \"team\", \"team\", \"telephone\", \"tell\", \"tell\", \"template\", \"terrible\", \"terrible\", \"terrible\", \"thank\", \"thank\", \"thank\", \"thank\", \"thank\", \"thank\", \"theoil\", \"thief\", \"thing\", \"thing\", \"third\", \"time\", \"time\", \"time\", \"time\", \"tip\", \"together\", \"total\", \"transaction\", \"triq\", \"try\", \"try\", \"try\", \"tv\", \"twice\", \"type\", \"unacceptable\", \"understand\", \"understand\", \"unit\", \"unit\", \"unnecessary\", \"unsuccessful\", \"unsuccessfully\", \"use\", \"use\", \"useless\", \"useless\", \"user\", \"usual\", \"utility\", \"valletta\", \"valletta\", \"waist\", \"wait\", \"wait\", \"wait\", \"wait\", \"wait\", \"wait\", \"waiting\", \"waiting\", \"want\", \"want\", \"waste\", \"wasteful\", \"water\", \"water\", \"wear\", \"website\", \"website\", \"week\", \"week\", \"week\", \"well\", \"well\", \"well\", \"well\", \"well\", \"white\", \"whole\", \"winter\", \"word\", \"work\", \"work\", \"worker\", \"worried\", \"worth\", \"write\", \"year\", \"year\", \"year\", \"year\", \"yet\", \"yet\", \"yet\"]}, \"R\": 30, \"lambda.step\": 0.01, \"plot.opts\": {\"xlab\": \"PC1\", \"ylab\": \"PC2\"}, \"topic.order\": [6, 8, 15, 1, 3, 20, 7, 14, 17, 16, 9, 10, 11, 12, 5, 13, 19, 18, 2, 4]};\n",
       "\n",
       "function LDAvis_load_lib(url, callback){\n",
       "  var s = document.createElement('script');\n",
       "  s.src = url;\n",
       "  s.async = true;\n",
       "  s.onreadystatechange = s.onload = callback;\n",
       "  s.onerror = function(){console.warn(\"failed to load library \" + url);};\n",
       "  document.getElementsByTagName(\"head\")[0].appendChild(s);\n",
       "}\n",
       "\n",
       "if(typeof(LDAvis) !== \"undefined\"){\n",
       "   // already loaded: just create the visualization\n",
       "   !function(LDAvis){\n",
       "       new LDAvis(\"#\" + \"ldavis_el544671406685510968004730201216\", ldavis_el544671406685510968004730201216_data);\n",
       "   }(LDAvis);\n",
       "}else if(typeof define === \"function\" && define.amd){\n",
       "   // require.js is available: use it to load d3/LDAvis\n",
       "   require.config({paths: {d3: \"https://d3js.org/d3.v5\"}});\n",
       "   require([\"d3\"], function(d3){\n",
       "      window.d3 = d3;\n",
       "      LDAvis_load_lib(\"https://cdn.jsdelivr.net/gh/bmabey/pyLDAvis/pyLDAvis/js/ldavis.v3.0.0.js\", function(){\n",
       "        new LDAvis(\"#\" + \"ldavis_el544671406685510968004730201216\", ldavis_el544671406685510968004730201216_data);\n",
       "      });\n",
       "    });\n",
       "}else{\n",
       "    // require.js not available: dynamically load d3 & LDAvis\n",
       "    LDAvis_load_lib(\"https://d3js.org/d3.v5.js\", function(){\n",
       "         LDAvis_load_lib(\"https://cdn.jsdelivr.net/gh/bmabey/pyLDAvis/pyLDAvis/js/ldavis.v3.0.0.js\", function(){\n",
       "                 new LDAvis(\"#\" + \"ldavis_el544671406685510968004730201216\", ldavis_el544671406685510968004730201216_data);\n",
       "            })\n",
       "         });\n",
       "}\n",
       "</script>"
      ],
      "text/plain": [
       "PreparedData(topic_coordinates=              x         y  topics  cluster       Freq\n",
       "topic                                                \n",
       "5     -0.228105 -0.058203       1        1  11.550139\n",
       "7     -0.328270 -0.043878       2        1   9.860759\n",
       "14    -0.110050 -0.296742       3        1   8.472546\n",
       "0      0.092647 -0.273902       4        1   7.835289\n",
       "2      0.177997  0.248202       5        1   7.248401\n",
       "19    -0.221171  0.132281       6        1   6.531905\n",
       "6     -0.118000  0.259317       7        1   6.043153\n",
       "13    -0.195562 -0.194384       8        1   5.891950\n",
       "16     0.273941 -0.083159       9        1   5.398433\n",
       "15     0.139964 -0.147056      10        1   4.129100\n",
       "8      0.040745 -0.152118      11        1   3.863736\n",
       "9      0.247995  0.085486      12        1   3.817011\n",
       "10    -0.074701  0.141079      13        1   3.640387\n",
       "11    -0.032950 -0.087130      14        1   3.452523\n",
       "4      0.001580  0.199231      15        1   3.450478\n",
       "12     0.095724  0.154584      16        1   3.223719\n",
       "18     0.140510  0.022735      17        1   2.080193\n",
       "17     0.067679  0.023694      18        1   1.433327\n",
       "1      0.004212  0.058751      19        1   1.263559\n",
       "3      0.025813  0.011212      20        1   0.813393, topic_info=           Term       Freq      Total Category  logprob  loglift\n",
       "326        time  27.000000  27.000000  Default   30.000  30.0000\n",
       "48         bill  80.000000  80.000000  Default   29.000  29.0000\n",
       "20         help  22.000000  22.000000  Default   28.000  28.0000\n",
       "92          pay  37.000000  37.000000  Default   27.000  27.0000\n",
       "14      service  20.000000  20.000000  Default   26.000  26.0000\n",
       "..          ...        ...        ...      ...      ...      ...\n",
       "5         email   0.016903   7.949107  Topic20   -6.815  -1.3416\n",
       "6    escalation   0.016903   1.508524  Topic20   -6.815   0.3203\n",
       "7         month   0.016903  17.469552  Topic20   -6.815  -2.1290\n",
       "8         phone   0.016903   4.149224  Topic20   -6.815  -0.6915\n",
       "9       problem   0.016903   9.204287  Topic20   -6.815  -1.4882\n",
       "\n",
       "[853 rows x 6 columns], token_table=      Topic      Freq        Term\n",
       "term                             \n",
       "328       7  0.310867        able\n",
       "328      13  0.621734        able\n",
       "28       16  0.774416  absolutely\n",
       "410       8  0.760696      access\n",
       "41        1  0.231285     account\n",
       "...     ...       ...         ...\n",
       "136       8  0.393595        year\n",
       "136      10  0.295197        year\n",
       "112       1  0.326635         yet\n",
       "112      10  0.326635         yet\n",
       "112      14  0.326635         yet\n",
       "\n",
       "[776 rows x 3 columns], R=30, lambda_step=0.01, plot_opts={'xlab': 'PC1', 'ylab': 'PC2'}, topic_order=[6, 8, 15, 1, 3, 20, 7, 14, 17, 16, 9, 10, 11, 12, 5, 13, 19, 18, 2, 4])"
      ]
     },
     "execution_count": 18,
     "metadata": {},
     "output_type": "execute_result"
    }
   ],
   "source": [
    "# Visualize the topics\n",
    "pyLDAvis.enable_notebook()\n",
    "vis = pyLDAvis.gensim.prepare(lda_model, corpus, dictionary=lda_model.id2word, mds='mmds')   \n",
    "vis"
   ]
  },
  {
   "cell_type": "code",
   "execution_count": 19,
   "id": "daf717be",
   "metadata": {},
   "outputs": [],
   "source": [
    "pyLDAvis.save_html(vis, 'Customer Reviews.html')"
   ]
  }
 ],
 "metadata": {
  "kernelspec": {
   "display_name": "Python 3",
   "language": "python",
   "name": "python3"
  },
  "language_info": {
   "codemirror_mode": {
    "name": "ipython",
    "version": 3
   },
   "file_extension": ".py",
   "mimetype": "text/x-python",
   "name": "python",
   "nbconvert_exporter": "python",
   "pygments_lexer": "ipython3",
   "version": "3.8.8"
  }
 },
 "nbformat": 4,
 "nbformat_minor": 5
}

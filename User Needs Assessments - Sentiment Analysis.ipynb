{
 "cells": [
  {
   "cell_type": "markdown",
   "id": "542d6d18",
   "metadata": {},
   "source": [
    "# All PPTs"
   ]
  },
  {
   "cell_type": "code",
   "execution_count": 1,
   "id": "4675da57",
   "metadata": {},
   "outputs": [],
   "source": [
    "import pandas as pd\n",
    "import numpy as np"
   ]
  },
  {
   "cell_type": "code",
   "execution_count": 2,
   "id": "9ec6a79f",
   "metadata": {},
   "outputs": [],
   "source": [
    "all = pd.read_csv('User Needs Assessments Data.csv')"
   ]
  },
  {
   "cell_type": "code",
   "execution_count": 3,
   "id": "ddd4c576",
   "metadata": {},
   "outputs": [],
   "source": [
    "# Calculate word count\n",
    "all['word_count'] = all['Question/Answer'].apply(lambda x: len(str(x).split(\" \")))"
   ]
  },
  {
   "cell_type": "code",
   "execution_count": 4,
   "id": "6e1d9a6c",
   "metadata": {},
   "outputs": [],
   "source": [
    "def avg_word(review):\n",
    "  words = review.split()\n",
    "  return (sum(len(word) for word in words) / len(words))\n",
    "\n",
    "# Calculate average words\n",
    "all['avg_word'] = all['Question/Answer'].apply(lambda x: avg_word(x))"
   ]
  },
  {
   "cell_type": "code",
   "execution_count": 5,
   "id": "fe8c8fc9",
   "metadata": {},
   "outputs": [],
   "source": [
    "# Import stopwords\n",
    "from nltk.corpus import stopwords"
   ]
  },
  {
   "cell_type": "code",
   "execution_count": 6,
   "id": "883022af",
   "metadata": {},
   "outputs": [],
   "source": [
    "stop_words = stopwords.words('english')\n",
    "all['stopword_coun'] = all['Question/Answer'].apply(lambda x: len([x for x in x.split() if x in stop_words]))"
   ]
  },
  {
   "cell_type": "code",
   "execution_count": 7,
   "id": "b320b601",
   "metadata": {},
   "outputs": [],
   "source": [
    "# Lower case all words\n",
    "all['review_lower'] = all['Question/Answer'].apply(lambda x: \" \".join(x.lower() for x in x.split()))"
   ]
  },
  {
   "cell_type": "code",
   "execution_count": 8,
   "id": "b48a7925",
   "metadata": {},
   "outputs": [
    {
     "name": "stderr",
     "output_type": "stream",
     "text": [
      "<ipython-input-8-c74c7d2feed1>:2: FutureWarning: The default value of regex will change from True to False in a future version.\n",
      "  all['review_nopunc'] = all['review_lower'].str.replace('[^\\w\\s]', '')\n"
     ]
    }
   ],
   "source": [
    "# Remove Punctuation\n",
    "all['review_nopunc'] = all['review_lower'].str.replace('[^\\w\\s]', '')"
   ]
  },
  {
   "cell_type": "code",
   "execution_count": 9,
   "id": "66a27976",
   "metadata": {},
   "outputs": [],
   "source": [
    "# Import stopwords\n",
    "from nltk.corpus import stopwords\n",
    "stop_words = stopwords.words('english')"
   ]
  },
  {
   "cell_type": "code",
   "execution_count": 10,
   "id": "aaec2648",
   "metadata": {},
   "outputs": [],
   "source": [
    "# Remove Stopwords\n",
    "all['review_nopunc_nostop'] = all['review_nopunc'].apply(lambda x: \" \".join(x for x in x.split() if x not in stop_words))"
   ]
  },
  {
   "cell_type": "code",
   "execution_count": 11,
   "id": "cc90f10e",
   "metadata": {},
   "outputs": [],
   "source": [
    "# Return frequency of values\n",
    "freq= pd.Series(\" \".join(all['review_nopunc_nostop']).split()).value_counts()[:30]"
   ]
  },
  {
   "cell_type": "code",
   "execution_count": 12,
   "id": "497e10bd",
   "metadata": {},
   "outputs": [],
   "source": [
    "other_stopwords = ['get', 'us', 'see', 'use', 'said', 'asked', 'day', 'go' \\\n",
    "  'even', 'ive', 'right', 'left', 'always', 'would', 'told', \\\n",
    "  'get', 'us', 'would', 'get', 'one', 'ive', 'go', 'even', \\\n",
    "  'also', 'ever', 'x', 'take', 'let' ]"
   ]
  },
  {
   "cell_type": "code",
   "execution_count": 13,
   "id": "22c1e7ee",
   "metadata": {},
   "outputs": [],
   "source": [
    "all['review_nopunc_nostop_nocommon'] = all['review_nopunc_nostop'].apply(lambda x: \"\".join(\" \".join(x for x in x.split() if x not in other_stopwords)))"
   ]
  },
  {
   "cell_type": "code",
   "execution_count": 14,
   "id": "1b299fb3",
   "metadata": {},
   "outputs": [
    {
     "name": "stdout",
     "output_type": "stream",
     "text": [
      "Requirement already satisfied: textblob in /Users/Owner/anaconda3/lib/python3.8/site-packages (0.17.1)\n",
      "Requirement already satisfied: nltk>=3.1 in /Users/Owner/anaconda3/lib/python3.8/site-packages (from textblob) (3.6.1)\n",
      "Requirement already satisfied: regex in /Users/Owner/anaconda3/lib/python3.8/site-packages (from nltk>=3.1->textblob) (2021.4.4)\n",
      "Requirement already satisfied: joblib in /Users/Owner/anaconda3/lib/python3.8/site-packages (from nltk>=3.1->textblob) (1.0.1)\n",
      "Requirement already satisfied: tqdm in /Users/Owner/anaconda3/lib/python3.8/site-packages (from nltk>=3.1->textblob) (4.59.0)\n",
      "Requirement already satisfied: click in /Users/Owner/anaconda3/lib/python3.8/site-packages (from nltk>=3.1->textblob) (7.1.2)\n"
     ]
    }
   ],
   "source": [
    "!pip install -U textblob"
   ]
  },
  {
   "cell_type": "code",
   "execution_count": 15,
   "id": "8e987ea8",
   "metadata": {},
   "outputs": [],
   "source": [
    "# Import textblob\n",
    "from textblob import Word\n",
    "\n",
    "# Lemmatize final review format\n",
    "all['cleaned_review'] = all['review_nopunc_nostop_nocommon']\\\n",
    ".apply(lambda x: \" \".join([Word(word).lemmatize() for word in x.split()]))"
   ]
  },
  {
   "cell_type": "code",
   "execution_count": 16,
   "id": "f554a14b",
   "metadata": {},
   "outputs": [],
   "source": [
    "# Calculate polarity\n",
    "from textblob import TextBlob\n",
    "all['polarity'] = all['cleaned_review'].apply(lambda x: TextBlob(x).sentiment[0])"
   ]
  },
  {
   "cell_type": "code",
   "execution_count": 17,
   "id": "7c034710",
   "metadata": {},
   "outputs": [],
   "source": [
    "# Calculate subjectivity\n",
    "all['subjectivity'] = all['cleaned_review'].apply(lambda x: TextBlob(x).sentiment[1])"
   ]
  },
  {
   "cell_type": "code",
   "execution_count": 18,
   "id": "1d97ec79",
   "metadata": {},
   "outputs": [
    {
     "name": "stdout",
     "output_type": "stream",
     "text": [
      "DataFrame is written to Excel File successfully.\n"
     ]
    }
   ],
   "source": [
    "# writing to Excel\n",
    "datatoexcel = pd.ExcelWriter('Sentiment Data.xlsx')\n",
    "  \n",
    "# write DataFrame to excel\n",
    "all.to_excel(datatoexcel)\n",
    "  \n",
    "# save the excel\n",
    "datatoexcel.save()\n",
    "print('DataFrame is written to Excel File successfully.')"
   ]
  },
  {
   "cell_type": "code",
   "execution_count": null,
   "id": "c145f9e9",
   "metadata": {},
   "outputs": [],
   "source": []
  }
 ],
 "metadata": {
  "kernelspec": {
   "display_name": "Python 3",
   "language": "python",
   "name": "python3"
  },
  "language_info": {
   "codemirror_mode": {
    "name": "ipython",
    "version": 3
   },
   "file_extension": ".py",
   "mimetype": "text/x-python",
   "name": "python",
   "nbconvert_exporter": "python",
   "pygments_lexer": "ipython3",
   "version": "3.8.8"
  }
 },
 "nbformat": 4,
 "nbformat_minor": 5
}

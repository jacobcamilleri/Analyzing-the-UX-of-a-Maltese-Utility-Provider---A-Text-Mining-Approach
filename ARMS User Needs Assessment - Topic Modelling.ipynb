{
 "cells": [
  {
   "cell_type": "markdown",
   "id": "2a821cbf",
   "metadata": {},
   "source": [
    "# PPT02"
   ]
  },
  {
   "cell_type": "code",
   "execution_count": 1,
   "id": "f5ae5ab3",
   "metadata": {},
   "outputs": [
    {
     "name": "stderr",
     "output_type": "stream",
     "text": [
      "[nltk_data] Downloading package stopwords to /Users/Owner/nltk_data...\n",
      "[nltk_data]   Package stopwords is already up-to-date!\n"
     ]
    },
    {
     "data": {
      "text/plain": [
       "True"
      ]
     },
     "execution_count": 1,
     "metadata": {},
     "output_type": "execute_result"
    }
   ],
   "source": [
    "import nltk; nltk.download('stopwords')"
   ]
  },
  {
   "cell_type": "code",
   "execution_count": 2,
   "id": "c2bd5812",
   "metadata": {},
   "outputs": [
    {
     "name": "stdout",
     "output_type": "stream",
     "text": [
      "Requirement already satisfied: gensim in /Users/Owner/anaconda3/lib/python3.8/site-packages (4.1.2)\n",
      "Requirement already satisfied: scipy>=0.18.1 in /Users/Owner/anaconda3/lib/python3.8/site-packages (from gensim) (1.6.2)\n",
      "Requirement already satisfied: smart-open>=1.8.1 in /Users/Owner/anaconda3/lib/python3.8/site-packages (from gensim) (5.2.1)\n",
      "Requirement already satisfied: numpy>=1.17.0 in /Users/Owner/anaconda3/lib/python3.8/site-packages (from gensim) (1.20.1)\n",
      "Requirement already satisfied: spacy in /Users/Owner/anaconda3/lib/python3.8/site-packages (3.1.3)\n",
      "Requirement already satisfied: cymem<2.1.0,>=2.0.2 in /Users/Owner/anaconda3/lib/python3.8/site-packages (from spacy) (2.0.5)\n",
      "Requirement already satisfied: numpy>=1.15.0 in /Users/Owner/anaconda3/lib/python3.8/site-packages (from spacy) (1.20.1)\n",
      "Requirement already satisfied: catalogue<2.1.0,>=2.0.6 in /Users/Owner/anaconda3/lib/python3.8/site-packages (from spacy) (2.0.6)\n",
      "Requirement already satisfied: requests<3.0.0,>=2.13.0 in /Users/Owner/anaconda3/lib/python3.8/site-packages (from spacy) (2.25.1)\n",
      "Requirement already satisfied: murmurhash<1.1.0,>=0.28.0 in /Users/Owner/anaconda3/lib/python3.8/site-packages (from spacy) (1.0.5)\n",
      "Requirement already satisfied: pydantic!=1.8,!=1.8.1,<1.9.0,>=1.7.4 in /Users/Owner/anaconda3/lib/python3.8/site-packages (from spacy) (1.8.2)\n",
      "Requirement already satisfied: spacy-legacy<3.1.0,>=3.0.8 in /Users/Owner/anaconda3/lib/python3.8/site-packages (from spacy) (3.0.8)\n",
      "Requirement already satisfied: srsly<3.0.0,>=2.4.1 in /Users/Owner/anaconda3/lib/python3.8/site-packages (from spacy) (2.4.1)\n",
      "Requirement already satisfied: setuptools in /Users/Owner/anaconda3/lib/python3.8/site-packages (from spacy) (58.2.0)\n",
      "Requirement already satisfied: jinja2 in /Users/Owner/anaconda3/lib/python3.8/site-packages (from spacy) (2.11.3)\n",
      "Requirement already satisfied: typer<0.5.0,>=0.3.0 in /Users/Owner/anaconda3/lib/python3.8/site-packages (from spacy) (0.4.0)\n",
      "Requirement already satisfied: wasabi<1.1.0,>=0.8.1 in /Users/Owner/anaconda3/lib/python3.8/site-packages (from spacy) (0.8.2)\n",
      "Requirement already satisfied: blis<0.8.0,>=0.4.0 in /Users/Owner/anaconda3/lib/python3.8/site-packages (from spacy) (0.7.4)\n",
      "Requirement already satisfied: pathy>=0.3.5 in /Users/Owner/anaconda3/lib/python3.8/site-packages (from spacy) (0.6.0)\n",
      "Requirement already satisfied: packaging>=20.0 in /Users/Owner/anaconda3/lib/python3.8/site-packages (from spacy) (20.9)\n",
      "Requirement already satisfied: thinc<8.1.0,>=8.0.9 in /Users/Owner/anaconda3/lib/python3.8/site-packages (from spacy) (8.0.10)\n",
      "Requirement already satisfied: tqdm<5.0.0,>=4.38.0 in /Users/Owner/anaconda3/lib/python3.8/site-packages (from spacy) (4.59.0)\n",
      "Requirement already satisfied: preshed<3.1.0,>=3.0.2 in /Users/Owner/anaconda3/lib/python3.8/site-packages (from spacy) (3.0.5)\n",
      "Requirement already satisfied: pyparsing>=2.0.2 in /Users/Owner/anaconda3/lib/python3.8/site-packages (from packaging>=20.0->spacy) (2.4.7)\n",
      "Requirement already satisfied: smart-open<6.0.0,>=5.0.0 in /Users/Owner/anaconda3/lib/python3.8/site-packages (from pathy>=0.3.5->spacy) (5.2.1)\n",
      "Requirement already satisfied: typing-extensions>=3.7.4.3 in /Users/Owner/anaconda3/lib/python3.8/site-packages (from pydantic!=1.8,!=1.8.1,<1.9.0,>=1.7.4->spacy) (3.7.4.3)\n",
      "Requirement already satisfied: chardet<5,>=3.0.2 in /Users/Owner/anaconda3/lib/python3.8/site-packages (from requests<3.0.0,>=2.13.0->spacy) (4.0.0)\n",
      "Requirement already satisfied: urllib3<1.27,>=1.21.1 in /Users/Owner/anaconda3/lib/python3.8/site-packages (from requests<3.0.0,>=2.13.0->spacy) (1.26.4)\n",
      "Requirement already satisfied: certifi>=2017.4.17 in /Users/Owner/anaconda3/lib/python3.8/site-packages (from requests<3.0.0,>=2.13.0->spacy) (2020.12.5)\n",
      "Requirement already satisfied: idna<3,>=2.5 in /Users/Owner/anaconda3/lib/python3.8/site-packages (from requests<3.0.0,>=2.13.0->spacy) (2.10)\n",
      "Requirement already satisfied: click<9.0.0,>=7.1.1 in /Users/Owner/anaconda3/lib/python3.8/site-packages (from typer<0.5.0,>=0.3.0->spacy) (7.1.2)\n",
      "Requirement already satisfied: MarkupSafe>=0.23 in /Users/Owner/anaconda3/lib/python3.8/site-packages (from jinja2->spacy) (1.1.1)\n",
      "Requirement already satisfied: pip in /Users/Owner/anaconda3/lib/python3.8/site-packages (21.2.4)\n",
      "Requirement already satisfied: setuptools in /Users/Owner/anaconda3/lib/python3.8/site-packages (58.2.0)\n",
      "Requirement already satisfied: wheel in /Users/Owner/anaconda3/lib/python3.8/site-packages (0.37.0)\n",
      "Requirement already satisfied: pyldavis in /Users/Owner/anaconda3/lib/python3.8/site-packages (3.2.1)\n",
      "Requirement already satisfied: scipy>=0.18.0 in /Users/Owner/anaconda3/lib/python3.8/site-packages (from pyldavis) (1.6.2)\n",
      "Requirement already satisfied: numpy>=1.9.2 in /Users/Owner/anaconda3/lib/python3.8/site-packages (from pyldavis) (1.20.1)\n",
      "Requirement already satisfied: pandas>=0.17.0 in /Users/Owner/anaconda3/lib/python3.8/site-packages (from pyldavis) (1.2.4)\n",
      "Requirement already satisfied: funcy in /Users/Owner/anaconda3/lib/python3.8/site-packages (from pyldavis) (1.16)\n",
      "Requirement already satisfied: future in /Users/Owner/anaconda3/lib/python3.8/site-packages (from pyldavis) (0.18.2)\n",
      "Requirement already satisfied: joblib>=0.8.4 in /Users/Owner/anaconda3/lib/python3.8/site-packages (from pyldavis) (1.0.1)\n",
      "Requirement already satisfied: jinja2>=2.7.2 in /Users/Owner/anaconda3/lib/python3.8/site-packages (from pyldavis) (2.11.3)\n",
      "Requirement already satisfied: numexpr in /Users/Owner/anaconda3/lib/python3.8/site-packages (from pyldavis) (2.7.3)\n",
      "Requirement already satisfied: wheel>=0.23.0 in /Users/Owner/anaconda3/lib/python3.8/site-packages (from pyldavis) (0.37.0)\n",
      "Requirement already satisfied: MarkupSafe>=0.23 in /Users/Owner/anaconda3/lib/python3.8/site-packages (from jinja2>=2.7.2->pyldavis) (1.1.1)\n",
      "Requirement already satisfied: python-dateutil>=2.7.3 in /Users/Owner/anaconda3/lib/python3.8/site-packages (from pandas>=0.17.0->pyldavis) (2.8.1)\n",
      "Requirement already satisfied: pytz>=2017.3 in /Users/Owner/anaconda3/lib/python3.8/site-packages (from pandas>=0.17.0->pyldavis) (2021.1)\n",
      "Requirement already satisfied: six>=1.5 in /Users/Owner/anaconda3/lib/python3.8/site-packages (from python-dateutil>=2.7.3->pandas>=0.17.0->pyldavis) (1.15.0)\n"
     ]
    }
   ],
   "source": [
    "!pip install --upgrade gensim\n",
    "!pip install -U spacy\n",
    "!pip install -U pip setuptools wheel\n",
    "!pip install pyldavis"
   ]
  },
  {
   "cell_type": "code",
   "execution_count": 3,
   "id": "1e391bae",
   "metadata": {},
   "outputs": [
    {
     "name": "stdout",
     "output_type": "stream",
     "text": [
      "Collecting en-core-web-sm==3.1.0\n",
      "  Downloading https://github.com/explosion/spacy-models/releases/download/en_core_web_sm-3.1.0/en_core_web_sm-3.1.0-py3-none-any.whl (13.6 MB)\n",
      "\u001b[K     |████████████████████████████████| 13.6 MB 327 kB/s eta 0:00:01\n",
      "\u001b[?25hRequirement already satisfied: spacy<3.2.0,>=3.1.0 in /Users/Owner/anaconda3/lib/python3.8/site-packages (from en-core-web-sm==3.1.0) (3.1.3)\n",
      "Requirement already satisfied: setuptools in /Users/Owner/anaconda3/lib/python3.8/site-packages (from spacy<3.2.0,>=3.1.0->en-core-web-sm==3.1.0) (58.2.0)\n",
      "Requirement already satisfied: preshed<3.1.0,>=3.0.2 in /Users/Owner/anaconda3/lib/python3.8/site-packages (from spacy<3.2.0,>=3.1.0->en-core-web-sm==3.1.0) (3.0.5)\n",
      "Requirement already satisfied: thinc<8.1.0,>=8.0.9 in /Users/Owner/anaconda3/lib/python3.8/site-packages (from spacy<3.2.0,>=3.1.0->en-core-web-sm==3.1.0) (8.0.10)\n",
      "Requirement already satisfied: jinja2 in /Users/Owner/anaconda3/lib/python3.8/site-packages (from spacy<3.2.0,>=3.1.0->en-core-web-sm==3.1.0) (2.11.3)\n",
      "Requirement already satisfied: murmurhash<1.1.0,>=0.28.0 in /Users/Owner/anaconda3/lib/python3.8/site-packages (from spacy<3.2.0,>=3.1.0->en-core-web-sm==3.1.0) (1.0.5)\n",
      "Requirement already satisfied: blis<0.8.0,>=0.4.0 in /Users/Owner/anaconda3/lib/python3.8/site-packages (from spacy<3.2.0,>=3.1.0->en-core-web-sm==3.1.0) (0.7.4)\n",
      "Requirement already satisfied: wasabi<1.1.0,>=0.8.1 in /Users/Owner/anaconda3/lib/python3.8/site-packages (from spacy<3.2.0,>=3.1.0->en-core-web-sm==3.1.0) (0.8.2)\n",
      "Requirement already satisfied: catalogue<2.1.0,>=2.0.6 in /Users/Owner/anaconda3/lib/python3.8/site-packages (from spacy<3.2.0,>=3.1.0->en-core-web-sm==3.1.0) (2.0.6)\n",
      "Requirement already satisfied: numpy>=1.15.0 in /Users/Owner/anaconda3/lib/python3.8/site-packages (from spacy<3.2.0,>=3.1.0->en-core-web-sm==3.1.0) (1.20.1)\n",
      "Requirement already satisfied: requests<3.0.0,>=2.13.0 in /Users/Owner/anaconda3/lib/python3.8/site-packages (from spacy<3.2.0,>=3.1.0->en-core-web-sm==3.1.0) (2.25.1)\n",
      "Requirement already satisfied: spacy-legacy<3.1.0,>=3.0.8 in /Users/Owner/anaconda3/lib/python3.8/site-packages (from spacy<3.2.0,>=3.1.0->en-core-web-sm==3.1.0) (3.0.8)\n",
      "Requirement already satisfied: typer<0.5.0,>=0.3.0 in /Users/Owner/anaconda3/lib/python3.8/site-packages (from spacy<3.2.0,>=3.1.0->en-core-web-sm==3.1.0) (0.4.0)\n",
      "Requirement already satisfied: cymem<2.1.0,>=2.0.2 in /Users/Owner/anaconda3/lib/python3.8/site-packages (from spacy<3.2.0,>=3.1.0->en-core-web-sm==3.1.0) (2.0.5)\n",
      "Requirement already satisfied: pathy>=0.3.5 in /Users/Owner/anaconda3/lib/python3.8/site-packages (from spacy<3.2.0,>=3.1.0->en-core-web-sm==3.1.0) (0.6.0)\n",
      "Requirement already satisfied: pydantic!=1.8,!=1.8.1,<1.9.0,>=1.7.4 in /Users/Owner/anaconda3/lib/python3.8/site-packages (from spacy<3.2.0,>=3.1.0->en-core-web-sm==3.1.0) (1.8.2)\n",
      "Requirement already satisfied: packaging>=20.0 in /Users/Owner/anaconda3/lib/python3.8/site-packages (from spacy<3.2.0,>=3.1.0->en-core-web-sm==3.1.0) (20.9)\n",
      "Requirement already satisfied: srsly<3.0.0,>=2.4.1 in /Users/Owner/anaconda3/lib/python3.8/site-packages (from spacy<3.2.0,>=3.1.0->en-core-web-sm==3.1.0) (2.4.1)\n",
      "Requirement already satisfied: tqdm<5.0.0,>=4.38.0 in /Users/Owner/anaconda3/lib/python3.8/site-packages (from spacy<3.2.0,>=3.1.0->en-core-web-sm==3.1.0) (4.59.0)\n",
      "Requirement already satisfied: pyparsing>=2.0.2 in /Users/Owner/anaconda3/lib/python3.8/site-packages (from packaging>=20.0->spacy<3.2.0,>=3.1.0->en-core-web-sm==3.1.0) (2.4.7)\n",
      "Requirement already satisfied: smart-open<6.0.0,>=5.0.0 in /Users/Owner/anaconda3/lib/python3.8/site-packages (from pathy>=0.3.5->spacy<3.2.0,>=3.1.0->en-core-web-sm==3.1.0) (5.2.1)\n",
      "Requirement already satisfied: typing-extensions>=3.7.4.3 in /Users/Owner/anaconda3/lib/python3.8/site-packages (from pydantic!=1.8,!=1.8.1,<1.9.0,>=1.7.4->spacy<3.2.0,>=3.1.0->en-core-web-sm==3.1.0) (3.7.4.3)\n",
      "Requirement already satisfied: urllib3<1.27,>=1.21.1 in /Users/Owner/anaconda3/lib/python3.8/site-packages (from requests<3.0.0,>=2.13.0->spacy<3.2.0,>=3.1.0->en-core-web-sm==3.1.0) (1.26.4)\n",
      "Requirement already satisfied: certifi>=2017.4.17 in /Users/Owner/anaconda3/lib/python3.8/site-packages (from requests<3.0.0,>=2.13.0->spacy<3.2.0,>=3.1.0->en-core-web-sm==3.1.0) (2020.12.5)\n",
      "Requirement already satisfied: idna<3,>=2.5 in /Users/Owner/anaconda3/lib/python3.8/site-packages (from requests<3.0.0,>=2.13.0->spacy<3.2.0,>=3.1.0->en-core-web-sm==3.1.0) (2.10)\n",
      "Requirement already satisfied: chardet<5,>=3.0.2 in /Users/Owner/anaconda3/lib/python3.8/site-packages (from requests<3.0.0,>=2.13.0->spacy<3.2.0,>=3.1.0->en-core-web-sm==3.1.0) (4.0.0)\n",
      "Requirement already satisfied: click<9.0.0,>=7.1.1 in /Users/Owner/anaconda3/lib/python3.8/site-packages (from typer<0.5.0,>=0.3.0->spacy<3.2.0,>=3.1.0->en-core-web-sm==3.1.0) (7.1.2)\n",
      "Requirement already satisfied: MarkupSafe>=0.23 in /Users/Owner/anaconda3/lib/python3.8/site-packages (from jinja2->spacy<3.2.0,>=3.1.0->en-core-web-sm==3.1.0) (1.1.1)\n",
      "\u001b[38;5;2m✔ Download and installation successful\u001b[0m\n",
      "You can now load the package via spacy.load('en_core_web_sm')\n"
     ]
    }
   ],
   "source": [
    "!python3 -m spacy download en_core_web_sm"
   ]
  },
  {
   "cell_type": "code",
   "execution_count": 4,
   "id": "9a08111a",
   "metadata": {},
   "outputs": [
    {
     "name": "stdout",
     "output_type": "stream",
     "text": [
      "Requirement already satisfied: pyLDAvis==3.2.1 in /Users/Owner/anaconda3/lib/python3.8/site-packages (3.2.1)\n",
      "Requirement already satisfied: scipy>=0.18.0 in /Users/Owner/anaconda3/lib/python3.8/site-packages (from pyLDAvis==3.2.1) (1.6.2)\n",
      "Requirement already satisfied: future in /Users/Owner/anaconda3/lib/python3.8/site-packages (from pyLDAvis==3.2.1) (0.18.2)\n",
      "Requirement already satisfied: pandas>=0.17.0 in /Users/Owner/anaconda3/lib/python3.8/site-packages (from pyLDAvis==3.2.1) (1.2.4)\n",
      "Requirement already satisfied: numpy>=1.9.2 in /Users/Owner/anaconda3/lib/python3.8/site-packages (from pyLDAvis==3.2.1) (1.20.1)\n",
      "Requirement already satisfied: funcy in /Users/Owner/anaconda3/lib/python3.8/site-packages (from pyLDAvis==3.2.1) (1.16)\n",
      "Requirement already satisfied: joblib>=0.8.4 in /Users/Owner/anaconda3/lib/python3.8/site-packages (from pyLDAvis==3.2.1) (1.0.1)\n",
      "Requirement already satisfied: jinja2>=2.7.2 in /Users/Owner/anaconda3/lib/python3.8/site-packages (from pyLDAvis==3.2.1) (2.11.3)\n",
      "Requirement already satisfied: wheel>=0.23.0 in /Users/Owner/anaconda3/lib/python3.8/site-packages (from pyLDAvis==3.2.1) (0.37.0)\n",
      "Requirement already satisfied: numexpr in /Users/Owner/anaconda3/lib/python3.8/site-packages (from pyLDAvis==3.2.1) (2.7.3)\n",
      "Requirement already satisfied: MarkupSafe>=0.23 in /Users/Owner/anaconda3/lib/python3.8/site-packages (from jinja2>=2.7.2->pyLDAvis==3.2.1) (1.1.1)\n",
      "Requirement already satisfied: python-dateutil>=2.7.3 in /Users/Owner/anaconda3/lib/python3.8/site-packages (from pandas>=0.17.0->pyLDAvis==3.2.1) (2.8.1)\n",
      "Requirement already satisfied: pytz>=2017.3 in /Users/Owner/anaconda3/lib/python3.8/site-packages (from pandas>=0.17.0->pyLDAvis==3.2.1) (2021.1)\n",
      "Requirement already satisfied: six>=1.5 in /Users/Owner/anaconda3/lib/python3.8/site-packages (from python-dateutil>=2.7.3->pandas>=0.17.0->pyLDAvis==3.2.1) (1.15.0)\n"
     ]
    }
   ],
   "source": [
    "!pip install pyLDAvis==3.2.1"
   ]
  },
  {
   "cell_type": "code",
   "execution_count": 5,
   "id": "12447b83",
   "metadata": {},
   "outputs": [],
   "source": [
    "import re\n",
    "import numpy as np\n",
    "import pandas as pd\n",
    "from pprint import pprint\n",
    "\n",
    "import gensim\n",
    "import gensim.models\n",
    "import gensim.corpora as corpora\n",
    "from gensim.utils import simple_preprocess\n",
    "from gensim.models import CoherenceModel\n",
    "\n",
    "import spacy\n",
    "\n",
    "import pyLDAvis\n",
    "import pyLDAvis.gensim  # don't skip this\n",
    "import matplotlib.pyplot as plt\n",
    "%matplotlib inline\n",
    "\n",
    "import logging\n",
    "logging.basicConfig(format='%(asctime)s : %(levelname)s : %(message)s', level=logging.ERROR)\n",
    "\n",
    "import warnings\n",
    "warnings.filterwarnings(\"ignore\",category=DeprecationWarning)"
   ]
  },
  {
   "cell_type": "code",
   "execution_count": 6,
   "id": "860a9e84",
   "metadata": {},
   "outputs": [],
   "source": [
    "# NLTK Stop words\n",
    "from nltk.corpus import stopwords\n",
    "stop_words = stopwords.words('english')\n",
    "stop_words.extend(['from', 'subject', 're', 'edu', 'use'])"
   ]
  },
  {
   "cell_type": "code",
   "execution_count": 8,
   "id": "df882c6d",
   "metadata": {},
   "outputs": [],
   "source": [
    "PPT01 = pd.read_csv('PPT01.csv')\n",
    "PPT01 = PPT01.loc[PPT01['Person'] != 'Interviewer']"
   ]
  },
  {
   "cell_type": "code",
   "execution_count": 9,
   "id": "19f760c8",
   "metadata": {},
   "outputs": [
    {
     "name": "stdout",
     "output_type": "stream",
     "text": [
      "[['to', 'pay', 'monthly', 'utility', 'both', 'electricity', 'and', 'water']]\n"
     ]
    }
   ],
   "source": [
    "#tokenize words and clean text\n",
    "def sent_to_words(sentences):\n",
    "    for sentence in sentences:\n",
    "        yield(gensim.utils.simple_preprocess(str(sentence), deacc=True))  # deacc=True removes punctuations\n",
    "\n",
    "data_words = list(sent_to_words(PPT01['Question/Answer']))\n",
    "\n",
    "print(data_words[:1])"
   ]
  },
  {
   "cell_type": "code",
   "execution_count": 10,
   "id": "8a3fe987",
   "metadata": {},
   "outputs": [
    {
     "name": "stdout",
     "output_type": "stream",
     "text": [
      "['to', 'pay', 'monthly', 'utility', 'both', 'electricity', 'and', 'water']\n"
     ]
    }
   ],
   "source": [
    "# Build the bigram and trigram models\n",
    "bigram = gensim.models.Phrases(data_words, min_count=5, threshold=100) # higher threshold fewer phrases.\n",
    "trigram = gensim.models.Phrases(bigram[data_words], threshold=100)  \n",
    "\n",
    "# Faster way to get a sentence clubbed as a trigram/bigram\n",
    "bigram_mod = gensim.models.phrases.Phraser(bigram)\n",
    "trigram_mod = gensim.models.phrases.Phraser(trigram)\n",
    "\n",
    "# See trigram example\n",
    "print(trigram_mod[bigram_mod[data_words[0]]])"
   ]
  },
  {
   "cell_type": "code",
   "execution_count": 11,
   "id": "6e4b6767",
   "metadata": {},
   "outputs": [],
   "source": [
    "# Define functions for stopwords, bigrams, trigrams and lemmatization\n",
    "def remove_stopwords(texts):\n",
    "    return [[word for word in simple_preprocess(str(doc)) if word not in stop_words] for doc in texts]\n",
    "\n",
    "def make_bigrams(texts):\n",
    "    return [bigram_mod[doc] for doc in texts]\n",
    "\n",
    "def make_trigrams(texts):\n",
    "    return [trigram_mod[bigram_mod[doc]] for doc in texts]\n",
    "\n",
    "def lemmatization(texts, allowed_postags=['NOUN', 'ADJ', 'VERB', 'ADV']):\n",
    "    \"\"\"https://spacy.io/api/annotation\"\"\"\n",
    "    texts_out = []\n",
    "    for sent in texts:\n",
    "        doc = nlp(\" \".join(sent)) \n",
    "        texts_out.append([token.lemma_ for token in doc if token.pos_ in allowed_postags])\n",
    "    return texts_out"
   ]
  },
  {
   "cell_type": "code",
   "execution_count": 12,
   "id": "5935a5bc",
   "metadata": {},
   "outputs": [
    {
     "name": "stdout",
     "output_type": "stream",
     "text": [
      "[['pay', 'monthly', 'utility', 'electricity', 'water']]\n"
     ]
    }
   ],
   "source": [
    "# Remove Stop Words\n",
    "data_words_nostops = remove_stopwords(data_words)\n",
    "\n",
    "# Form Bigrams\n",
    "data_words_bigrams = make_bigrams(data_words_nostops)\n",
    "\n",
    "# Initialize spacy 'en' model, keeping only tagger component (for efficiency)\n",
    "# python3 -m spacy download en\n",
    "nlp = spacy.load('en_core_web_sm', disable=['parser', 'ner'])\n",
    "\n",
    "# Do lemmatization keeping only noun, adj, vb, adv\n",
    "data_lemmatized = lemmatization(data_words_bigrams, allowed_postags=['NOUN', 'ADJ', 'VERB', 'ADV'])\n",
    "\n",
    "print(data_lemmatized[:1])"
   ]
  },
  {
   "cell_type": "code",
   "execution_count": 13,
   "id": "e71fcf74",
   "metadata": {},
   "outputs": [
    {
     "name": "stdout",
     "output_type": "stream",
     "text": [
      "[[(0, 1), (1, 1), (2, 1), (3, 1), (4, 1)]]\n"
     ]
    }
   ],
   "source": [
    "# Create Dictionary\n",
    "id2word = corpora.Dictionary(data_lemmatized)\n",
    "\n",
    "# Create Corpus\n",
    "texts = data_lemmatized\n",
    "\n",
    "# Term Document Frequency\n",
    "corpus = [id2word.doc2bow(text) for text in texts]\n",
    "\n",
    "# View\n",
    "print(corpus[:1])"
   ]
  },
  {
   "cell_type": "code",
   "execution_count": 14,
   "id": "5e22a6c1",
   "metadata": {},
   "outputs": [
    {
     "data": {
      "text/plain": [
       "'electricity'"
      ]
     },
     "execution_count": 14,
     "metadata": {},
     "output_type": "execute_result"
    }
   ],
   "source": [
    "id2word[0]"
   ]
  },
  {
   "cell_type": "code",
   "execution_count": 15,
   "id": "1453700a",
   "metadata": {},
   "outputs": [
    {
     "data": {
      "text/plain": [
       "[[('electricity', 1),\n",
       "  ('monthly', 1),\n",
       "  ('pay', 1),\n",
       "  ('utility', 1),\n",
       "  ('water', 1)]]"
      ]
     },
     "execution_count": 15,
     "metadata": {},
     "output_type": "execute_result"
    }
   ],
   "source": [
    "[[(id2word[id], freq) for id, freq in cp] for cp in corpus[:1]]"
   ]
  },
  {
   "cell_type": "code",
   "execution_count": 16,
   "id": "cc53cbfc",
   "metadata": {},
   "outputs": [],
   "source": [
    "# Build LDA model\n",
    "lda_model = gensim.models.ldamodel.LdaModel(corpus=corpus,\n",
    "                                           id2word=id2word,\n",
    "                                           num_topics=20, \n",
    "                                           random_state=100,\n",
    "                                           update_every=1,\n",
    "                                           chunksize=100,\n",
    "                                           passes=10,\n",
    "                                           alpha='auto',\n",
    "                                           per_word_topics=True)"
   ]
  },
  {
   "cell_type": "code",
   "execution_count": 17,
   "id": "e7c92f23",
   "metadata": {},
   "outputs": [
    {
     "name": "stdout",
     "output_type": "stream",
     "text": [
      "[(0,\n",
      "  '0.054*\"user\" + 0.054*\"really\" + 0.036*\"question\" + 0.036*\"process\" + '\n",
      "  '0.036*\"agent\" + 0.036*\"function\" + 0.036*\"exactly\" + 0.019*\"take\" + '\n",
      "  '0.019*\"pay\" + 0.019*\"time\"'),\n",
      " (1,\n",
      "  '0.061*\"mobile\" + 0.041*\"try\" + 0.041*\"also\" + 0.041*\"website\" + '\n",
      "  '0.021*\"good\" + 0.021*\"correctly\" + 0.021*\"help\" + 0.021*\"verify\" + '\n",
      "  '0.021*\"call\" + 0.021*\"customer\"'),\n",
      " (2,\n",
      "  '0.061*\"go\" + 0.031*\"take\" + 0.031*\"want\" + 0.031*\"people\" + 0.031*\"suggest\" '\n",
      "  '+ 0.031*\"apply\" + 0.031*\"reach\" + 0.031*\"office\" + 0.031*\"service\" + '\n",
      "  '0.031*\"day\"'),\n",
      " (3,\n",
      "  '0.098*\"website\" + 0.066*\"issue\" + 0.034*\"service\" + 0.034*\"happen\" + '\n",
      "  '0.034*\"know\" + 0.034*\"day\" + 0.034*\"desirable\" + 0.034*\"end\" + '\n",
      "  '0.034*\"often\" + 0.034*\"unfortunately\"'),\n",
      " (4,\n",
      "  '0.005*\"agent\" + 0.005*\"exactly\" + 0.005*\"available\" + 0.005*\"amount\" + '\n",
      "  '0.005*\"along\" + 0.005*\"bubble\" + 0.005*\"actually\" + 0.005*\"science\" + '\n",
      "  '0.005*\"suggest\" + 0.005*\"clearly\"'),\n",
      " (5,\n",
      "  '0.006*\"customer\" + 0.005*\"form\" + 0.005*\"people\" + 0.005*\"website\" + '\n",
      "  '0.005*\"ideally\" + 0.005*\"user\" + 0.005*\"fill\" + 0.005*\"available\" + '\n",
      "  '0.005*\"help\" + 0.005*\"chat\"'),\n",
      " (6,\n",
      "  '0.109*\"form\" + 0.056*\"tell\" + 0.056*\"even\" + 0.056*\"properly\" + '\n",
      "  '0.056*\"apply\" + 0.056*\"explain\" + 0.056*\"thoroughly\" + 0.003*\"chat\" + '\n",
      "  '0.003*\"clearly\" + 0.003*\"create\"'),\n",
      " (7,\n",
      "  '0.052*\"customer\" + 0.039*\"ideally\" + 0.039*\"website\" + 0.039*\"form\" + '\n",
      "  '0.039*\"people\" + 0.026*\"care\" + 0.026*\"touchpoint\" + 0.026*\"need\" + '\n",
      "  '0.026*\"chat\" + 0.026*\"help\"'),\n",
      " (8,\n",
      "  '0.059*\"pay\" + 0.059*\"water\" + 0.059*\"utility\" + 0.059*\"electricity\" + '\n",
      "  '0.059*\"monthly\" + 0.059*\"rd\" + 0.059*\"time\" + 0.003*\"bubble\" + '\n",
      "  '0.003*\"amount\" + 0.003*\"bot\"'),\n",
      " (9,\n",
      "  '0.034*\"separate\" + 0.034*\"utility\" + 0.034*\"fund\" + 0.034*\"use\" + '\n",
      "  '0.034*\"think\" + 0.034*\"kind\" + 0.034*\"require\" + 0.034*\"bit\" + '\n",
      "  '0.034*\"service\" + 0.034*\"portal\"'),\n",
      " (10,\n",
      "  '0.078*\"service\" + 0.078*\"pay\" + 0.040*\"form\" + 0.039*\"email\" + 0.039*\"fee\" '\n",
      "  '+ 0.039*\"even\" + 0.039*\"update\" + 0.039*\"payment\" + 0.039*\"receive\" + '\n",
      "  '0.039*\"ask\"'),\n",
      " (11,\n",
      "  '0.111*\"form\" + 0.037*\"fill\" + 0.037*\"customer\" + 0.037*\"fail\" + '\n",
      "  '0.037*\"process\" + 0.037*\"support\" + 0.037*\"apply\" + 0.037*\"take\" + '\n",
      "  '0.037*\"end\" + 0.019*\"service\"'),\n",
      " (12,\n",
      "  '0.082*\"form\" + 0.041*\"send\" + 0.041*\"take\" + 0.041*\"fill\" + 0.041*\"tell\" + '\n",
      "  '0.041*\"reply\" + 0.028*\"pay\" + 0.028*\"print\" + 0.028*\"service\" + '\n",
      "  '0.028*\"well\"'),\n",
      " (13,\n",
      "  '0.005*\"agent\" + 0.005*\"exactly\" + 0.005*\"available\" + 0.005*\"amount\" + '\n",
      "  '0.005*\"along\" + 0.005*\"bubble\" + 0.005*\"actually\" + 0.005*\"science\" + '\n",
      "  '0.005*\"suggest\" + 0.005*\"clearly\"'),\n",
      " (14,\n",
      "  '0.005*\"agent\" + 0.005*\"exactly\" + 0.005*\"available\" + 0.005*\"amount\" + '\n",
      "  '0.005*\"along\" + 0.005*\"bubble\" + 0.005*\"actually\" + 0.005*\"science\" + '\n",
      "  '0.005*\"suggest\" + 0.005*\"clearly\"'),\n",
      " (15,\n",
      "  '0.006*\"pay\" + 0.005*\"bill\" + 0.005*\"service\" + 0.005*\"new\" + 0.005*\"money\" '\n",
      "  '+ 0.005*\"use\" + 0.005*\"account\" + 0.005*\"misconstrue\" + 0.005*\"fund\" + '\n",
      "  '0.005*\"take\"'),\n",
      " (16,\n",
      "  '0.005*\"really\" + 0.005*\"function\" + 0.005*\"user\" + 0.005*\"agent\" + '\n",
      "  '0.005*\"move\" + 0.005*\"use\" + 0.005*\"care\" + 0.005*\"good\" + 0.005*\"pause\" + '\n",
      "  '0.005*\"also\"'),\n",
      " (17,\n",
      "  '0.124*\"pay\" + 0.069*\"service\" + 0.069*\"bill\" + 0.042*\"part\" + '\n",
      "  '0.028*\"payment\" + 0.028*\"utility\" + 0.028*\"add\" + 0.028*\"receive\" + '\n",
      "  '0.028*\"new\" + 0.028*\"money\"'),\n",
      " (18,\n",
      "  '0.071*\"monthly\" + 0.071*\"time\" + 0.070*\"basis\" + 0.070*\"thing\" + '\n",
      "  '0.004*\"pay\" + 0.004*\"service\" + 0.004*\"bill\" + 0.004*\"money\" + 0.004*\"bit\" '\n",
      "  '+ 0.004*\"new\"'),\n",
      " (19,\n",
      "  '0.052*\"login\" + 0.052*\"provide\" + 0.052*\"d\" + 0.051*\"government\" + '\n",
      "  '0.026*\"service\" + 0.026*\"website\" + 0.026*\"ease\" + 0.026*\"safeguard\" + '\n",
      "  '0.026*\"i\" + 0.026*\"authentication\"')]\n"
     ]
    }
   ],
   "source": [
    "# Print the Keyword in the 10 topics\n",
    "pprint(lda_model.print_topics())\n",
    "doc_lda = lda_model[corpus]"
   ]
  },
  {
   "cell_type": "code",
   "execution_count": 18,
   "id": "290a196e",
   "metadata": {},
   "outputs": [
    {
     "name": "stdout",
     "output_type": "stream",
     "text": [
      "\n",
      "Perplexity:  -5.815941920366146\n",
      "\n",
      "Coherence Score:  0.6297991418087121\n"
     ]
    }
   ],
   "source": [
    "# Compute Perplexity\n",
    "print('\\nPerplexity: ', lda_model.log_perplexity(corpus))  # a measure of how good the model is. lower the better.\n",
    "\n",
    "# Compute Coherence Score\n",
    "coherence_model_lda = CoherenceModel(model=lda_model, texts=data_lemmatized, dictionary=id2word, coherence='c_v')\n",
    "coherence_lda = coherence_model_lda.get_coherence()\n",
    "print('\\nCoherence Score: ', coherence_lda)"
   ]
  },
  {
   "cell_type": "code",
   "execution_count": 19,
   "id": "ba71012d",
   "metadata": {},
   "outputs": [
    {
     "data": {
      "text/html": [
       "\n",
       "<link rel=\"stylesheet\" type=\"text/css\" href=\"https://cdn.jsdelivr.net/gh/bmabey/pyLDAvis/pyLDAvis/js/ldavis.v1.0.0.css\">\n",
       "\n",
       "\n",
       "<div id=\"ldavis_el360901402603999632644564813800\"></div>\n",
       "<script type=\"text/javascript\">\n",
       "\n",
       "var ldavis_el360901402603999632644564813800_data = {\"mdsDat\": {\"x\": [0.12458673823495868, 0.07520344654707159, -0.23624269307663825, -0.17913404168684288, 0.19881181472154208, 0.24865381844058715, -0.02821397596338625, -0.11891875405913842, -0.21519904398426504, 0.19208892844454356, 0.013983092359327246, 0.10350410656352614, -0.09525804715780493, -0.056136298028896164, -0.003992503510260418, -0.004938192947841072, -0.004931041673555613, -0.004622451074308482, -0.0046224510743095235, -0.004622451074309439], \"y\": [0.24846324627780045, -0.25892573695924187, -0.16500542334773782, 0.20809247683925014, -0.16136928742446807, -0.058285719387249295, 0.25098603625657134, -0.2066398392633956, 0.04198816356698132, 0.1118159274098069, -0.15930742421980404, 0.010989295671711075, -0.011357886406108596, 0.04856274841180195, 0.017617696247289906, 0.017088805155092177, 0.01572097433483347, 0.01652198227895822, 0.016521982278954014, 0.016521982278954277], \"topics\": [1, 2, 3, 4, 5, 6, 7, 8, 9, 10, 11, 12, 13, 14, 15, 16, 17, 18, 19, 20], \"cluster\": [1, 1, 1, 1, 1, 1, 1, 1, 1, 1, 1, 1, 1, 1, 1, 1, 1, 1, 1, 1], \"Freq\": [14.19076941897278, 13.225017214927071, 13.005320748010565, 9.403043778933434, 9.206414963843883, 8.701043819311268, 8.059654889234004, 6.042852081683823, 4.884279941161237, 4.2673811416253065, 4.078252855989552, 1.720199239609355, 1.4253831652212892, 0.8931101037460731, 0.15168581548517635, 0.15157606727523043, 0.15151290294081515, 0.14750061734304587, 0.14750061734304587, 0.14750061734304587]}, \"tinfo\": {\"Term\": [\"form\", \"pay\", \"website\", \"time\", \"bill\", \"service\", \"tell\", \"apply\", \"even\", \"utility\", \"fill\", \"user\", \"really\", \"customer\", \"people\", \"monthly\", \"mobile\", \"payment\", \"receive\", \"part\", \"support\", \"send\", \"reply\", \"email\", \"go\", \"ideally\", \"process\", \"end\", \"usually\", \"provide\", \"ideally\", \"touchpoint\", \"available\", \"people\", \"actually\", \"frustrated\", \"create\", \"clearly\", \"long\", \"pop\", \"bubble\", \"proper\", \"maybe\", \"close\", \"hesitation\", \"drop\", \"along\", \"prompt\", \"one\", \"guide\", \"example\", \"instantly\", \"bot\", \"amount\", \"chat\", \"explain\", \"need\", \"leave\", \"phone\", \"customer\", \"website\", \"help\", \"care\", \"user\", \"fill\", \"form\", \"function\", \"even\", \"pause\", \"print\", \"well\", \"tell\", \"send\", \"reply\", \"viable\", \"check\", \"option\", \"solution\", \"physical\", \"scan\", \"reapply\", \"rather\", \"back\", \"minute\", \"let\", \"immediately\", \"roughly\", \"follow\", \"week\", \"usually\", \"kind\", \"happen\", \"online\", \"half\", \"work\", \"wrong\", \"fill\", \"month\", \"provide\", \"form\", \"take\", \"service\", \"pay\", \"bill\", \"customer\", \"need\", \"apply\", \"really\", \"reach\", \"add\", \"new\", \"money\", \"bill\", \"part\", \"gateway\", \"processing\", \"still\", \"stretch\", \"successfully\", \"yet\", \"cred\", \"meantime\", \"account\", \"topping\", \"misconstrue\", \"area\", \"utility\", \"pay\", \"receive\", \"additional\", \"continue\", \"fund\", \"problem\", \"monthly\", \"confirmation\", \"different\", \"payment\", \"service\", \"bit\", \"fee\", \"user\", \"form\", \"process\", \"even\", \"need\", \"question\", \"exactly\", \"clunky\", \"friendly\", \"hope\", \"satisfactory\", \"trigger\", \"actual\", \"amazon\", \"experience\", \"overall\", \"smooth\", \"certain\", \"move\", \"agent\", \"function\", \"really\", \"user\", \"mean\", \"always\", \"answer\", \"good\", \"work\", \"start\", \"easily\", \"think\", \"also\", \"pause\", \"chat\", \"process\", \"take\", \"pay\", \"time\", \"customer\", \"fail\", \"filling\", \"straightforward\", \"automate\", \"fine\", \"whole\", \"right\", \"guess\", \"second\", \"around\", \"identify\", \"wait\", \"end\", \"wrong\", \"support\", \"apply\", \"day\", \"month\", \"form\", \"try\", \"process\", \"fill\", \"part\", \"reply\", \"customer\", \"take\", \"get\", \"payment\", \"care\", \"use\", \"service\", \"update\", \"application\", \"spamme\", \"thank\", \"never\", \"keep\", \"reminder\", \"sir\", \"hear\", \"ask\", \"fee\", \"email\", \"require\", \"receive\", \"confirmation\", \"even\", \"payment\", \"service\", \"reach\", \"end\", \"send\", \"pay\", \"help\", \"apply\", \"time\", \"process\", \"form\", \"basis\", \"rd\", \"electricity\", \"inaubible\", \"governmental\", \"wait\", \"identify\", \"issue\", \"reply\", \"take\", \"website\", \"mobile\", \"call\", \"correctly\", \"verify\", \"lengthy\", \"credential\", \"copy\", \"app\", \"least\", \"slow\", \"information\", \"convert\", \"native\", \"also\", \"try\", \"know\", \"factor\", \"safeguard\", \"operate\", \"authentication\", \"good\", \"answer\", \"bit\", \"ask\", \"website\", \"support\", \"get\", \"help\", \"care\", \"time\", \"process\", \"customer\", \"take\", \"use\", \"d\", \"login\", \"government\", \"ease\", \"i\", \"access\", \"datum\", \"mostly\", \"interact\", \"other\", \"arm\", \"sure\", \"provide\", \"portal\", \"safeguard\", \"authentication\", \"factor\", \"operate\", \"think\", \"pause\", \"usually\", \"really\", \"use\", \"website\", \"service\", \"basis\", \"rd\", \"electricity\", \"water\", \"thoroughly\", \"hear\", \"sir\", \"reminder\", \"keep\", \"ask\", \"pay\", \"update\", \"receive\", \"form\", \"email\", \"want\", \"suggest\", \"office\", \"science\", \"physically\", \"easy\", \"rocket\", \"go\", \"thing\", \"always\", \"mean\", \"half\", \"online\", \"phone\", \"day\", \"reach\", \"usually\", \"people\", \"apply\", \"time\", \"take\", \"service\", \"basis\", \"rd\", \"electricity\", \"water\", \"thoroughly\", \"properly\", \"stupid\", \"separate\", \"monthly\", \"pay\", \"utility\", \"clunky\", \"friendly\", \"issue\", \"desirable\", \"often\", \"unfortunately\", \"eventually\", \"sometimes\", \"resolve\", \"governmental\", \"inaubible\", \"know\", \"happen\", \"problem\", \"leave\", \"website\", \"day\", \"end\", \"service\", \"basis\", \"rd\", \"electricity\", \"water\", \"thoroughly\", \"properly\", \"stupid\", \"separate\", \"rocket\", \"easy\", \"physically\", \"science\", \"sure\", \"arm\", \"office\", \"other\", \"native\", \"convert\", \"information\", \"slow\", \"least\", \"copy\", \"mobile\", \"app\", \"operate\", \"usually\", \"half\", \"let\", \"print\", \"well\", \"form\", \"tell\", \"use\", \"reply\", \"fill\", \"take\", \"time\", \"separate\", \"stupid\", \"portal\", \"require\", \"fund\", \"continue\", \"additional\", \"kind\", \"think\", \"bit\", \"month\", \"utility\", \"reach\", \"email\", \"support\", \"get\", \"use\", \"bill\", \"service\", \"pay\", \"basis\", \"rd\", \"electricity\", \"water\", \"thoroughly\", \"properly\", \"desirable\", \"often\", \"unfortunately\", \"eventually\", \"monthly\", \"thing\", \"time\", \"clunky\", \"friendly\", \"hope\", \"process\", \"properly\", \"thoroughly\", \"explain\", \"tell\", \"even\", \"apply\", \"form\", \"basis\", \"rd\", \"electricity\", \"water\", \"stupid\", \"separate\", \"desirable\", \"often\", \"unfortunately\", \"eventually\", \"sometimes\", \"resolve\", \"governmental\", \"inaubible\", \"rocket\", \"easy\", \"physically\", \"science\", \"office\", \"suggest\", \"want\", \"sure\", \"arm\", \"monthly\", \"pay\", \"utility\", \"thing\", \"time\", \"clunky\", \"friendly\", \"hope\", \"process\", \"take\", \"user\", \"automate\", \"customer\", \"fail\", \"fill\", \"filling\", \"fine\", \"payment\", \"service\", \"straightforward\", \"water\", \"electricity\", \"rd\", \"monthly\", \"utility\", \"time\", \"pay\", \"basis\", \"thoroughly\", \"properly\", \"stupid\", \"separate\", \"desirable\", \"often\", \"unfortunately\", \"eventually\", \"sometimes\", \"resolve\", \"governmental\", \"inaubible\", \"rocket\", \"easy\", \"physically\", \"science\", \"office\", \"suggest\", \"want\", \"sure\", \"arm\", \"other\", \"thing\", \"clunky\", \"friendly\", \"hope\", \"process\", \"take\", \"user\", \"apply\", \"automate\", \"customer\", \"fail\", \"fill\", \"filling\", \"fine\", \"form\", \"payment\", \"service\", \"straightforward\", \"support\", \"use\", \"around\", \"care\", \"basis\", \"thing\", \"monthly\", \"time\", \"rd\", \"electricity\", \"water\", \"thoroughly\", \"properly\", \"stupid\", \"separate\", \"desirable\", \"often\", \"unfortunately\", \"eventually\", \"sometimes\", \"resolve\", \"governmental\", \"inaubible\", \"rocket\", \"easy\", \"physically\", \"science\", \"office\", \"suggest\", \"want\", \"sure\", \"arm\", \"other\", \"interact\", \"app\", \"native\", \"area\", \"convert\", \"topping\", \"misconstrue\", \"meantime\", \"information\", \"account\", \"least\", \"copy\", \"cred\", \"credential\", \"slow\", \"money\", \"problem\", \"bill\", \"new\", \"continue\", \"fund\", \"additional\", \"pay\", \"bit\", \"service\", \"different\", \"mobile\", \"add\", \"receive\", \"use\", \"part\", \"utility\", \"need\", \"take\", \"website\", \"basis\", \"rd\", \"electricity\", \"water\", \"thoroughly\", \"properly\", \"stupid\", \"separate\", \"desirable\", \"often\", \"unfortunately\", \"eventually\", \"sometimes\", \"resolve\", \"governmental\", \"inaubible\", \"rocket\", \"easy\", \"physically\", \"science\", \"office\", \"suggest\", \"want\", \"sure\", \"arm\", \"other\", \"interact\", \"mostly\", \"datum\", \"access\", \"guide\", \"bot\", \"instantly\", \"amount\", \"prompt\", \"along\", \"close\", \"maybe\", \"example\", \"proper\", \"create\", \"one\", \"pop\", \"drop\", \"clearly\", \"bubble\", \"hesitation\", \"frustrated\", \"long\", \"actually\", \"available\", \"ideally\", \"people\", \"touchpoint\", \"phone\", \"customer\", \"website\", \"chat\", \"explain\", \"user\", \"form\", \"need\", \"help\", \"fill\", \"care\", \"support\", \"agent\", \"start\", \"different\", \"time\", \"get\", \"easily\", \"take\", \"even\", \"basis\", \"rd\", \"electricity\", \"water\", \"thoroughly\", \"properly\", \"stupid\", \"separate\", \"desirable\", \"often\", \"unfortunately\", \"eventually\", \"sometimes\", \"resolve\", \"governmental\", \"inaubible\", \"move\", \"rocket\", \"easy\", \"physically\", \"science\", \"office\", \"suggest\", \"want\", \"certain\", \"smooth\", \"overall\", \"experience\", \"amazon\", \"sure\", \"actual\", \"trigger\", \"good\", \"function\", \"always\", \"really\", \"mean\", \"agent\", \"easily\", \"question\", \"work\", \"pause\", \"think\", \"also\", \"start\", \"user\", \"care\", \"chat\", \"use\", \"help\", \"customer\", \"process\", \"monthly\", \"basis\", \"rd\", \"electricity\", \"water\", \"thoroughly\", \"properly\", \"stupid\", \"separate\", \"desirable\", \"often\", \"unfortunately\", \"eventually\", \"sometimes\", \"resolve\", \"governmental\", \"inaubible\", \"rocket\", \"easy\", \"physically\", \"science\", \"office\", \"suggest\", \"want\", \"sure\", \"arm\", \"other\", \"interact\", \"mostly\", \"datum\", \"access\", \"account\", \"misconstrue\", \"area\", \"cred\", \"meantime\", \"topping\", \"new\", \"money\", \"pay\", \"bill\", \"fund\", \"problem\", \"continue\", \"additional\", \"service\", \"add\", \"different\", \"monthly\", \"utility\", \"bit\", \"use\", \"need\", \"receive\", \"part\", \"take\", \"thing\", \"time\", \"basis\", \"rd\", \"electricity\", \"water\", \"thoroughly\", \"properly\", \"stupid\", \"separate\", \"desirable\", \"often\", \"unfortunately\", \"eventually\", \"sometimes\", \"resolve\", \"governmental\", \"inaubible\", \"rocket\", \"easy\", \"physically\", \"science\", \"office\", \"suggest\", \"want\", \"sure\", \"arm\", \"other\", \"interact\", \"mostly\", \"datum\", \"access\", \"monthly\", \"pay\", \"utility\", \"thing\", \"time\", \"clunky\", \"friendly\", \"hope\", \"process\", \"take\", \"user\", \"apply\", \"automate\", \"customer\", \"fail\", \"fill\", \"filling\", \"fine\", \"form\", \"payment\", \"service\", \"straightforward\", \"support\", \"use\", \"around\", \"care\", \"day\", \"basis\", \"rd\", \"electricity\", \"water\", \"thoroughly\", \"properly\", \"stupid\", \"separate\", \"desirable\", \"often\", \"unfortunately\", \"eventually\", \"sometimes\", \"resolve\", \"governmental\", \"inaubible\", \"rocket\", \"easy\", \"physically\", \"science\", \"office\", \"suggest\", \"want\", \"sure\", \"arm\", \"other\", \"interact\", \"mostly\", \"datum\", \"access\", \"monthly\", \"pay\", \"utility\", \"thing\", \"time\", \"clunky\", \"friendly\", \"hope\", \"process\", \"take\", \"user\", \"apply\", \"automate\", \"customer\", \"fail\", \"fill\", \"filling\", \"fine\", \"form\", \"payment\", \"service\", \"straightforward\", \"support\", \"use\", \"around\", \"care\", \"day\", \"basis\", \"rd\", \"electricity\", \"water\", \"thoroughly\", \"properly\", \"stupid\", \"separate\", \"desirable\", \"often\", \"unfortunately\", \"eventually\", \"sometimes\", \"resolve\", \"governmental\", \"inaubible\", \"rocket\", \"easy\", \"physically\", \"science\", \"office\", \"suggest\", \"want\", \"sure\", \"arm\", \"other\", \"interact\", \"mostly\", \"datum\", \"access\", \"monthly\", \"pay\", \"utility\", \"thing\", \"time\", \"clunky\", \"friendly\", \"hope\", \"process\", \"take\", \"user\", \"apply\", \"automate\", \"customer\", \"fail\", \"fill\", \"filling\", \"fine\", \"form\", \"payment\", \"service\", \"straightforward\", \"support\", \"use\", \"around\", \"care\", \"day\"], \"Freq\": [16.0, 14.0, 7.0, 5.0, 6.0, 13.0, 3.0, 4.0, 4.0, 3.0, 6.0, 5.0, 4.0, 7.0, 3.0, 2.0, 2.0, 4.0, 3.0, 3.0, 4.0, 3.0, 3.0, 3.0, 2.0, 3.0, 6.0, 3.0, 3.0, 2.0, 2.6324629055764976, 1.769415418907608, 1.768440598235077, 2.6304114938033942, 0.9064148791622187, 0.9063433648073788, 0.9061637037446075, 0.906235780712379, 0.9062787268328119, 0.9061675170100317, 0.9061177570218738, 0.9059541616839224, 0.9059243431985564, 0.9058849602933561, 0.90608181230681, 0.9060259260889543, 0.9057460574118399, 0.9057369305798411, 0.9059003383801486, 0.9055268259062245, 0.9057140509872961, 0.9054502480350015, 0.9054274934675525, 0.9054143658324857, 1.7691781212756388, 0.9059592252003054, 1.7693214000355106, 0.9063618060090202, 0.9047905531166215, 3.4949930383986603, 2.6308373292799416, 1.7690518459288058, 1.7697593629463577, 1.7675269148344284, 1.768693023903647, 2.6305107637295184, 0.9060824374322893, 0.9059781039897823, 0.9059006509428883, 1.735797025331388, 1.7355295034052842, 2.582507766494713, 2.586147509494551, 2.5820372727936647, 0.893135932279413, 0.8931358157628947, 0.8931358157628947, 0.8931358157628947, 0.8931357575046355, 0.8895002673577171, 0.889186371857315, 0.8891767009862929, 0.8889719814635733, 0.8889395316132161, 0.8888365310110056, 0.8888615820624481, 0.8887048673452838, 0.8886751556331076, 0.8885529880636304, 1.735469031332267, 0.893135932279413, 0.8883034679396099, 0.893135932279413, 0.8880743964645577, 0.8898480109066964, 0.8891035868710359, 2.5834284800226186, 0.8884563376116691, 0.8893411057936675, 5.122678556952258, 2.5837801268749625, 1.7355371934954944, 1.7437563852155646, 0.8931358157628947, 0.8908009412519226, 0.8900149208192154, 0.8895682547461672, 0.8893334739617165, 0.889072243927603, 1.7340290912151843, 1.730729733506377, 1.7295940073869223, 4.263854095320754, 2.5816333418317634, 0.8901030601328742, 0.8901030601328742, 0.8901030601328742, 0.8901030601328742, 0.8901030601328742, 0.8901030601328742, 0.8868044472000735, 0.8864983442614008, 0.8861894340900883, 0.8860420830217248, 0.8857952757112623, 0.8855641659873982, 1.7340309245099694, 7.647448032920112, 1.733453665814468, 0.8859779177042415, 0.8856746219982088, 0.8856226022586777, 0.8851142639890085, 0.886237844530511, 0.8901030601328742, 0.8858694668596023, 1.7378346674465652, 4.2642519202891505, 0.8857116316366858, 0.8901029455519501, 0.8901030601328742, 0.8901030601328742, 0.8901029455519501, 0.8901029455519501, 0.8862439746099492, 1.6080948007529308, 1.5935931692868273, 0.824653207333388, 0.8246531244896453, 0.8246531244896453, 0.824651467614792, 0.8229055357381174, 0.8225858417351715, 0.8223494885373469, 0.8223062441036755, 0.8222337558288433, 0.8221546400545977, 0.8220637604688937, 0.8211753441725493, 1.6062555039782722, 1.605290540063705, 2.389158198851776, 2.3914170163392927, 0.8222715325754987, 0.822087950841752, 0.824651467614792, 0.8217423267473517, 0.8226181507948109, 0.8228653565229247, 0.8224469956224641, 0.822069393843395, 0.8219794255388603, 0.8217917844617231, 0.8226203047321203, 1.607805013341087, 0.8246532901771307, 0.824653207333388, 0.824653207333388, 0.8221721200843002, 1.630283127712786, 0.836058161385987, 0.836058161385987, 0.8360579991632238, 0.8360579991632238, 0.8346857568093482, 0.8344035703127687, 0.8340076656591886, 0.8338700196446167, 0.8338417928838207, 0.833338658983768, 0.8333067822108, 1.6279766444656643, 0.8341360649762583, 1.6299914511845595, 1.6295917342960442, 0.8337630337322889, 0.8345816909067579, 4.8142609344009895, 0.833792071606901, 1.6301272316373545, 1.6310669881045494, 0.8337459192307718, 0.8337374025357039, 1.6306661356566918, 1.629350833492698, 0.8335601741669122, 0.8360579991632238, 0.8336678089702928, 0.8362791087894601, 0.8364634749598324, 1.6241648504527766, 0.831962455590087, 0.8319356249735108, 0.8319130105966824, 0.8318087544865582, 0.8317647522753734, 0.831731175675201, 0.8317163038477274, 0.8315202870289129, 1.6236500092501336, 1.624447261856966, 1.6253197935080206, 0.8318937692116521, 1.6236906384695202, 0.8317748712507678, 1.6244371428815716, 1.6241564179732813, 3.213487922173267, 0.8331262910782533, 0.8375192296008046, 0.834272035064957, 3.2080058905944395, 0.8319026616445745, 0.8360780421961459, 0.8317777076302344, 0.834103232157241, 1.635822830013993, 0.039644741779117004, 0.039644741779117004, 0.039644741779117004, 0.04160676894569599, 0.041592146259662024, 0.04238434896116033, 0.04235234865971181, 0.04355237673316672, 0.046468773722538825, 0.046993820141843765, 0.04473078699555175, 2.3302747623007045, 0.8064344430932601, 0.8064344430932601, 0.8064344430932601, 0.8064314607543882, 0.8030712879506714, 0.8029296268542573, 0.8027545919657054, 0.8027430176505598, 0.8026653348237542, 0.802244541010546, 0.8022003029839465, 0.8019418336150504, 1.5707670663160918, 1.5744763857920234, 0.8024234103347903, 0.8031086381946383, 0.8028273042277245, 0.8024600504980733, 0.802579628085222, 0.8064344430932601, 0.8064343010771233, 0.8028922056022221, 0.8064344430932601, 1.5676667120345702, 0.8029769892358654, 0.8064343720851918, 0.8064344430932601, 0.8064343720851918, 0.8021576271348513, 0.8064314607543882, 0.8064344430932601, 0.8064343720851918, 0.8026014985702824, 1.47433964904932, 1.47433964904932, 1.4720028649597698, 0.7551461105867355, 0.7551461105867355, 0.7551460041079198, 0.7551458443896962, 0.7531784885512485, 0.7531183812597808, 0.7528971182807374, 0.7524561895048864, 0.7524216903685966, 1.47433964904932, 0.7525887023910363, 0.7551461105867355, 0.7551460041079198, 0.7551460041079198, 0.7526797950178753, 0.7533399104358633, 0.7525594207167162, 0.7522197000551967, 0.752780523977536, 0.7524502799306145, 0.7552834682590002, 0.7554607554871556, 0.03595962634569176, 0.03595962634569176, 0.03595962634569176, 0.03595962634569176, 0.03595962634569176, 0.036876192663852024, 0.0366985028126746, 0.03668496336576461, 0.036654547026564725, 0.03757176220000821, 0.03887225119805932, 0.03710470951221555, 0.03753482403334616, 0.037386901666085395, 0.037121360137022046, 0.718689366749017, 0.7185717171881368, 0.7184263119700629, 0.7181670009774281, 0.7181539192413243, 0.7181430321385802, 0.7181052069871487, 1.4029469155606267, 0.7182784539264696, 0.7182828862252153, 0.7182593477066339, 0.7179625988508075, 0.7177875445663671, 0.7179393615564128, 0.7183825053669262, 0.7184506680971507, 0.7180373885131374, 0.7186583406577972, 0.7184529487945636, 0.7180545152597468, 0.7187571421910016, 0.7184167588601451, 0.03427838186735838, 0.03427838186735838, 0.03427838186735838, 0.03427838186735838, 0.03427838186735838, 0.03427838186735838, 0.03427838186735838, 0.03427838186735838, 0.03427838186735838, 0.03427838186735838, 0.03427838186735838, 0.03427838186735838, 0.03427838186735838, 1.3293008425408253, 0.6813936993590166, 0.6812800813573645, 0.6811033004692876, 0.6810929989032873, 0.6810017886875335, 0.6809034350501006, 0.680903134274451, 0.6808910280545529, 0.6837316284836815, 0.6837402005896963, 0.681049160852352, 0.6810560034983814, 1.9826998483094413, 0.6828380240285961, 0.6813933233894546, 0.6876547204758705, 0.03250020003116428, 0.03250020003116428, 0.03250020003116428, 0.03250020003116428, 0.03250020003116428, 0.03250020003116428, 0.03250020003116428, 0.03250020003116428, 0.034145889298559266, 0.03411009229663238, 0.034099769582344286, 0.03408746362861637, 0.034962102769106065, 0.03493100773651459, 0.033841553687126893, 0.03453251054826627, 0.03537527921894276, 0.03521761168347668, 0.03518177238497407, 0.034962788913556815, 0.03476870637619622, 0.03466926712665296, 0.040110641700896524, 0.03465427299055637, 0.037344993153772835, 0.04095912510891621, 0.037069527305086544, 0.034949176465600765, 0.03679127223221177, 0.03676485567085808, 0.044473040027484825, 0.03828473377374162, 0.039692408460450225, 0.03822824434704329, 0.0386924751135969, 0.03846141127018896, 0.03716629952054899, 0.6586864910163701, 0.6586864191550158, 0.6586864191550158, 0.6586864191550158, 0.6586864910163701, 0.6586860598482445, 0.6586864191550158, 0.6586864191550158, 0.6586864191550158, 0.6586864191550158, 0.6586821074737593, 0.6586864910163701, 0.6586859879868902, 0.6586860598482445, 0.6586860598482445, 0.6586859879868902, 0.6586864910163701, 0.6586862754323073, 0.6586864191550158, 0.6586864191550158, 0.03136622132126578, 0.03136622132126578, 0.03136622132126578, 0.03136622132126578, 0.03136622132126578, 0.03136622132126578, 0.03136622132126578, 0.03136622132126578, 0.03136622132126578, 0.03136622132126578, 0.03136622132126578, 0.03136622132126578, 0.03136622132126578, 0.03136622132126578, 0.03136622132126578, 0.03136622132126578, 0.03136622132126578, 0.45564522253257755, 0.4556451619106145, 0.4556451619106145, 0.45564522253257755, 0.45564522253257755, 0.45564522253257755, 0.8895950569275257, 0.02169748148979114, 0.02169748148979114, 0.02169748148979114, 0.02169748148979114, 0.02169748148979114, 0.02169748148979114, 0.02169748148979114, 0.02169748148979114, 0.02169748148979114, 0.02169748148979114, 0.02169748148979114, 0.02169748148979114, 0.02169748148979114, 0.02169748148979114, 0.02169748148979114, 0.02169748148979114, 0.02169748148979114, 0.02169748148979114, 0.02169748148979114, 0.02169748148979114, 0.02169748148979114, 0.02169748148979114, 0.02169748148979114, 0.02169748148979114, 0.02169748148979114, 0.02169748148979114, 0.02169748148979114, 0.02169748148979114, 0.02169748148979114, 0.02169748148979114, 0.02169748148979114, 0.02169748148979114, 0.02169748148979114, 0.02169748148979114, 0.02169748148979114, 0.02169748148979114, 0.02169748148979114, 0.02169748148979114, 0.02169748148979114, 0.02169748148979114, 0.02169748148979114, 0.02169748148979114, 0.02169748148979114, 0.3988253458734645, 0.398825295641187, 0.3988249188991057, 0.398825295641187, 0.398825295641187, 0.3988248937829669, 0.3988253458734645, 0.018991761400514017, 0.018991761400514017, 0.018991761400514017, 0.018991761400514017, 0.018991761400514017, 0.018991761400514017, 0.018991761400514017, 0.018991761400514017, 0.018991761400514017, 0.018991761400514017, 0.018991761400514017, 0.018991761400514017, 0.018991761400514017, 0.018991761400514017, 0.018991761400514017, 0.018991761400514017, 0.018991761400514017, 0.018991761400514017, 0.018991761400514017, 0.018991761400514017, 0.018991761400514017, 0.018991761400514017, 0.018991761400514017, 0.018991761400514017, 0.018991761400514017, 0.018991761400514017, 0.018991761400514017, 0.018991761400514017, 0.018991761400514017, 0.018991761400514017, 0.018991761400514017, 0.018991761400514017, 0.018991761400514017, 0.018991761400514017, 0.018991761400514017, 0.018991761400514017, 0.018991761400514017, 0.018991761400514017, 0.018991761400514017, 0.018991761400514017, 0.018991761400514017, 0.018991761400514017, 0.018991761400514017, 0.018991761400514017, 0.018991761400514017, 0.29778375430006954, 0.29778375430006954, 0.2987166529102046, 0.2980658270849559, 0.014180232966341228, 0.014180232966341228, 0.014180232966341228, 0.014180232966341228, 0.014180232966341228, 0.014180232966341228, 0.014180232966341228, 0.014180232966341228, 0.014180232966341228, 0.014180232966341228, 0.014180232966341228, 0.014180232966341228, 0.014180232966341228, 0.014180232966341228, 0.014180232966341228, 0.014180232966341228, 0.014180232966341228, 0.014180232966341228, 0.014180232966341228, 0.014180232966341228, 0.014180232966341228, 0.014180232966341228, 0.014180232966341228, 0.014180232966341228, 0.014180232966341228, 0.014180232966341228, 0.01459904786721589, 0.01458446050713775, 0.015177457201795544, 0.014557883401300561, 0.015114311863179368, 0.015032377343821998, 0.01493610234102189, 0.014557186048573475, 0.014889132831671783, 0.014553389459678484, 0.014527911004047435, 0.014767098071576385, 0.014516928436275032, 0.014497416329928185, 0.016010049146467108, 0.015360576716637944, 0.017825515990999977, 0.015516811267528094, 0.015184709080013877, 0.015116119668979626, 0.015102040815756076, 0.018827949225103998, 0.015613376424142717, 0.01787599095185831, 0.015180749218124956, 0.015380150788036706, 0.014949773995332868, 0.015185401514879699, 0.015396449563834349, 0.015125073127194938, 0.014916726951218151, 0.01496615244048297, 0.015064091647534458, 0.014791822127289697, 0.0032799854880955766, 0.0032799854880955766, 0.0032799854880955766, 0.0032799854880955766, 0.0032799854880955766, 0.0032799854880955766, 0.0032799854880955766, 0.0032799854880955766, 0.0032799854880955766, 0.0032799854880955766, 0.0032799854880955766, 0.0032799854880955766, 0.0032799854880955766, 0.0032799854880955766, 0.0032799854880955766, 0.0032799854880955766, 0.0032799854880955766, 0.0032799854880955766, 0.0032799854880955766, 0.0032799854880955766, 0.0032799854880955766, 0.0032799854880955766, 0.0032799854880955766, 0.0032799854880955766, 0.0032799854880955766, 0.0032799854880955766, 0.0032799854880955766, 0.0032799854880955766, 0.0032799854880955766, 0.0032799854880955766, 0.0034998275081960712, 0.003493973077176895, 0.0034923620478797164, 0.0034905662613860756, 0.0034765076753645093, 0.003475785017469487, 0.003464581314348044, 0.003464180060472907, 0.0034639859484816874, 0.0034612282886270804, 0.003459846451801462, 0.0034551533517314763, 0.0034496460504177687, 0.0034458055730699727, 0.003444759172456376, 0.003442480277633469, 0.0034393641286797594, 0.0034378940895035694, 0.0034375021904231896, 0.0034334609190879188, 0.003656895514475134, 0.003783239367872017, 0.0038750179228392995, 0.0035930597314487176, 0.003543073722060886, 0.003949171376283691, 0.003858501698594994, 0.0036148106315595095, 0.0034682975065654896, 0.003702643467737973, 0.003893807696309507, 0.0036055844652298544, 0.0036197265762046133, 0.0036586612319856253, 0.0035521909718515773, 0.003499637071302792, 0.003485433485962484, 0.003474552523260177, 0.00347538376359435, 0.0034856259274546396, 0.0034745531914598025, 0.003469971680727282, 0.0034697157602706996, 0.0034654132228818424, 0.003304198797072361, 0.003304198797072361, 0.003304198797072361, 0.003304198797072361, 0.003304198797072361, 0.003304198797072361, 0.003304198797072361, 0.003304198797072361, 0.003304198797072361, 0.003304198797072361, 0.003304198797072361, 0.003304198797072361, 0.003304198797072361, 0.003304198797072361, 0.003304198797072361, 0.003304198797072361, 0.0035968377602698964, 0.003304198797072361, 0.003304198797072361, 0.003304198797072361, 0.003304198797072361, 0.003304198797072361, 0.003304198797072361, 0.003304198797072361, 0.003522098620340588, 0.0035144479284922865, 0.0035077941368822038, 0.0035017089055888284, 0.003498062507597593, 0.003304198797072361, 0.003478184597288295, 0.0034512966687935027, 0.0035491414589862626, 0.0037045544001424622, 0.003520058413590502, 0.0038329421971314286, 0.003504618478789123, 0.0036233444228329923, 0.0034898716333697072, 0.003468541774253974, 0.0034754683279185194, 0.003544981253404063, 0.0035216325544556067, 0.0035292051235123, 0.0034546652968590183, 0.0036428858041938224, 0.003551275813715979, 0.0034752900477017716, 0.003578982696090327, 0.003525638183745008, 0.003512986965517589, 0.003492934113572381, 0.003304198797072361, 0.0033122047232992686, 0.0033122047232992686, 0.0033122047232992686, 0.0033122047232992686, 0.0033122047232992686, 0.0033122047232992686, 0.0033122047232992686, 0.0033122047232992686, 0.0033122047232992686, 0.0033122047232992686, 0.0033122047232992686, 0.0033122047232992686, 0.0033122047232992686, 0.0033122047232992686, 0.0033122047232992686, 0.0033122047232992686, 0.0033122047232992686, 0.0033122047232992686, 0.0033122047232992686, 0.0033122047232992686, 0.0033122047232992686, 0.0033122047232992686, 0.0033122047232992686, 0.0033122047232992686, 0.0033122047232992686, 0.0033122047232992686, 0.0033122047232992686, 0.0033122047232992686, 0.0033122047232992686, 0.0033122047232992686, 0.0034523907140272276, 0.0034497232983844604, 0.0034338816593800607, 0.0034328491329195672, 0.0034172871504031745, 0.003411300232270903, 0.003555185831383163, 0.003528699892448611, 0.004140264580817031, 0.00380228569886441, 0.003443648612165857, 0.0034262358243004353, 0.0034235593982457633, 0.003419181672935889, 0.0037593907986944175, 0.003429817963611015, 0.0034092682175269006, 0.0033962995650442802, 0.003437397054898753, 0.0034168089311343033, 0.003461011675906323, 0.003430145008191262, 0.0034197373150033493, 0.0033986662999045962, 0.0034419146084526306, 0.0033122047232992686, 0.0033122047232992686, 0.0032450128178384686, 0.0032450128178384686, 0.0032450128178384686, 0.0032450128178384686, 0.0032450128178384686, 0.0032450128178384686, 0.0032450128178384686, 0.0032450128178384686, 0.0032450128178384686, 0.0032450128178384686, 0.0032450128178384686, 0.0032450128178384686, 0.0032450128178384686, 0.0032450128178384686, 0.0032450128178384686, 0.0032450128178384686, 0.0032450128178384686, 0.0032450128178384686, 0.0032450128178384686, 0.0032450128178384686, 0.0032450128178384686, 0.0032450128178384686, 0.0032450128178384686, 0.0032450128178384686, 0.0032450128178384686, 0.0032450128178384686, 0.0032450128178384686, 0.0032450128178384686, 0.0032450128178384686, 0.0032450128178384686, 0.0032450128178384686, 0.0032450128178384686, 0.0032450128178384686, 0.0032450128178384686, 0.0032450128178384686, 0.0032450128178384686, 0.0032450128178384686, 0.0032450128178384686, 0.0032450128178384686, 0.0032450128178384686, 0.0032450128178384686, 0.0032450128178384686, 0.0032450128178384686, 0.0032450128178384686, 0.0032450128178384686, 0.0032450128178384686, 0.0032450128178384686, 0.0032450128178384686, 0.0032450128178384686, 0.0032450128178384686, 0.0032450128178384686, 0.0032450128178384686, 0.0032450128178384686, 0.0032450128178384686, 0.0032450128178384686, 0.0032450128178384686, 0.0032450128178384686, 0.0032450128178384686, 0.0032450128178384686, 0.0032450128178384686, 0.0032450128178384686, 0.0032450128178384686, 0.0032450128178384686, 0.0032450128178384686, 0.0032450128178384686, 0.0032450128178384686, 0.0032450128178384686, 0.0032450128178384686, 0.0032450128178384686, 0.0032450128178384686, 0.0032450128178384686, 0.0032450128178384686, 0.0032450128178384686, 0.0032450128178384686, 0.0032450128178384686, 0.0032450128178384686, 0.0032450128178384686, 0.0032450128178384686, 0.0032450128178384686, 0.0032450128178384686, 0.0032450128178384686, 0.0032450128178384686, 0.0032450128178384686, 0.0032450128178384686, 0.0032450128178384686, 0.0032450128178384686, 0.0032450128178384686, 0.0032450128178384686, 0.0032450128178384686, 0.0032450128178384686, 0.0032450128178384686, 0.0032450128178384686, 0.0032450128178384686, 0.0032450128178384686, 0.0032450128178384686, 0.0032450128178384686, 0.0032450128178384686, 0.0032450128178384686, 0.0032450128178384686, 0.0032450128178384686, 0.0032450128178384686, 0.0032450128178384686, 0.0032450128178384686, 0.0032450128178384686, 0.0032450128178384686, 0.0032450128178384686, 0.0032450128178384686, 0.0032450128178384686, 0.0032450128178384686, 0.0032450128178384686, 0.0032450128178384686, 0.0032450128178384686, 0.0032450128178384686, 0.0032450128178384686, 0.0032450128178384686, 0.0032450128178384686, 0.0032450128178384686, 0.0032450128178384686, 0.0032450128178384686, 0.0032450128178384686, 0.0032450128178384686, 0.0032450128178384686, 0.0032450128178384686, 0.0032450128178384686, 0.0032450128178384686, 0.0032450128178384686, 0.0032450128178384686, 0.0032450128178384686, 0.0032450128178384686, 0.0032450128178384686, 0.0032450128178384686, 0.0032450128178384686, 0.0032450128178384686, 0.0032450128178384686, 0.0032450128178384686, 0.0032450128178384686, 0.0032450128178384686, 0.0032450128178384686, 0.0032450128178384686, 0.0032450128178384686, 0.0032450128178384686, 0.0032450128178384686, 0.0032450128178384686, 0.0032450128178384686, 0.0032450128178384686, 0.0032450128178384686, 0.0032450128178384686, 0.0032450128178384686, 0.0032450128178384686, 0.0032450128178384686, 0.0032450128178384686, 0.0032450128178384686, 0.0032450128178384686, 0.0032450128178384686, 0.0032450128178384686, 0.0032450128178384686, 0.0032450128178384686, 0.0032450128178384686, 0.0032450128178384686, 0.0032450128178384686, 0.0032450128178384686, 0.0032450128178384686, 0.0032450128178384686, 0.0032450128178384686, 0.0032450128178384686, 0.0032450128178384686, 0.0032450128178384686, 0.0032450128178384686, 0.0032450128178384686, 0.0032450128178384686, 0.0032450128178384686], \"Total\": [16.0, 14.0, 7.0, 5.0, 6.0, 13.0, 3.0, 4.0, 4.0, 3.0, 6.0, 5.0, 4.0, 7.0, 3.0, 2.0, 2.0, 4.0, 3.0, 3.0, 4.0, 3.0, 3.0, 3.0, 2.0, 3.0, 6.0, 3.0, 3.0, 2.0, 3.084789262172307, 2.2214339108286736, 2.2206529084493196, 3.7691597254988283, 1.3577161179339974, 1.3576643710480045, 1.35739558373764, 1.3575770621804648, 1.3576644054401574, 1.357517642476728, 1.3576036325449938, 1.3573735726660634, 1.3573376426972221, 1.3573337454741705, 1.3576396559621686, 1.3575621304669203, 1.3571955377809433, 1.3571879095673727, 1.3574462459391021, 1.3569044798974994, 1.357336824852436, 1.3569920615234083, 1.3569720119520228, 1.3570110785604768, 3.0046920555293375, 1.7912371468975532, 3.9159448675482955, 2.0079519477341345, 2.0418382989385937, 7.941864311755035, 7.288204950262236, 4.5649458748509995, 4.5688927075567936, 5.420288463300339, 6.362817571301075, 16.261564676225763, 2.923894887992301, 4.2246804824881465, 2.8590518038685118, 2.19367983827812, 2.193667070734644, 3.4776539464041063, 3.8371678262649365, 3.839919034334147, 1.3445409382421238, 1.3445408217256054, 1.3445408217256054, 1.3445408217256054, 1.3445407634673463, 1.3438581328661934, 1.3438584994544236, 1.3438672802373475, 1.3438087465785855, 1.3438041928009454, 1.343711535849473, 1.3437559093103288, 1.3437252896994212, 1.3437135372914817, 1.3437788183678683, 3.5980720319253456, 1.971861136075874, 1.9939400794494588, 2.029997087515937, 2.0290496248635854, 2.1275445696387663, 2.140043073942887, 6.362817571301075, 2.76721377093224, 2.7822117334951564, 16.261564676225763, 8.583113670337537, 13.069558764598797, 14.76950984696583, 6.197463879398694, 7.941864311755035, 3.9159448675482955, 4.84871210831226, 4.413216880416452, 3.4494768725931118, 2.1864656989056455, 2.1838587463368055, 2.183189772157355, 6.197463879398694, 3.8304494078179623, 1.3416525135540316, 1.3416525135540316, 1.3416525135540316, 1.3416525135540316, 1.3416525135540316, 1.3416525135540316, 1.3390614101360865, 1.338908749484343, 1.3385879733673043, 1.3386247108486922, 1.3383343920849857, 1.3382325205800907, 3.193595868183381, 14.76950984696583, 3.771736914753926, 1.9658763537582007, 1.9656597447349642, 1.9655596559664446, 1.9882762639396794, 2.00224134697795, 2.1344684531128872, 2.2017825302688694, 4.571293879215999, 13.069558764598797, 2.732662308742048, 2.9273439805600345, 5.420288463300339, 16.261564676225763, 6.063728073216136, 4.2246804824881465, 3.9159448675482955, 2.0629253921125104, 2.0663865640838996, 1.2793194557157856, 1.279319372872043, 1.279319372872043, 1.2793177159971896, 1.277718881992236, 1.277426075917785, 1.2772096006302698, 1.2771700025945896, 1.2771035995510507, 1.2770311375684154, 1.2769479086745597, 1.2761342315181445, 2.924388014537658, 2.923894887992301, 4.413216880416452, 5.420288463300339, 1.9626186975790358, 1.9624518956458425, 2.0473499927226455, 2.0446859365332557, 2.1275445696387663, 2.140956819710285, 2.14062603874099, 2.623285789813981, 2.8118581356641563, 2.8590518038685118, 3.0046920555293375, 6.063728073216136, 8.583113670337537, 14.76950984696583, 5.051191272924387, 7.941864311755035, 2.086428963662136, 1.2901813473488397, 1.2901813473488397, 1.2901811851260765, 1.2901811851260765, 1.2901754021185137, 1.2901743286159286, 1.2901725178080359, 1.2901718852117188, 1.2901718928836876, 1.2901694518272155, 1.290169575355696, 3.5294849089333296, 2.140043073942887, 4.343714042873841, 4.84871210831226, 2.6258875503253973, 2.76721377093224, 16.261564676225763, 2.82624592054635, 6.063728073216136, 6.362817571301075, 3.8304494078179623, 3.839919034334147, 7.941864311755035, 8.583113670337537, 4.398533563343052, 4.571293879215999, 4.5688927075567936, 5.8798412043103365, 13.069558764598797, 2.079601101020271, 1.28676922669135, 1.286766796360886, 1.2867646225892109, 1.2867548930477322, 1.2867508403572163, 1.2867476800962439, 1.2867463477156802, 1.2867280207480432, 2.8475857312470128, 2.9273439805600345, 3.55673736760006, 1.9140830814932628, 3.771736914753926, 2.1344684531128872, 4.2246804824881465, 4.571293879215999, 13.069558764598797, 3.4494768725931118, 3.5294849089333296, 3.8371678262649365, 14.76950984696583, 4.5649458748509995, 4.84871210831226, 5.051191272924387, 6.063728073216136, 16.261564676225763, 0.7775394305138154, 0.8737690666786787, 0.87376944342076, 1.1442887643700546, 1.1442862479039186, 1.290169575355696, 1.2901694518272155, 1.7946441866437977, 3.839919034334147, 8.583113670337537, 7.288204950262236, 2.7946190066205516, 1.261968327921679, 1.261968327921679, 1.261968327921679, 1.261965345582807, 1.2610163014559346, 1.2609802568158712, 1.2608613646543911, 1.260918565317348, 1.2609789918981529, 1.2608369512750068, 1.2608292498996372, 1.2607550251720443, 2.8118581356641563, 2.82624592054635, 1.9111601040511215, 1.9803245125829154, 1.9800278815421588, 1.979884984764474, 1.980197207940756, 2.0446859365332557, 2.0473499927226455, 2.732662308742048, 2.8475857312470128, 7.288204950262236, 4.343714042873841, 4.398533563343052, 4.5649458748509995, 4.5688927075567936, 5.051191272924387, 6.063728073216136, 7.941864311755035, 8.583113670337537, 5.8798412043103365, 1.932315931883715, 1.932315931883715, 1.9320908325352455, 1.2131223934211308, 1.2131223934211308, 1.2131222869423148, 1.2131221272240913, 1.2129327901898321, 1.2129269752529346, 1.2129057116322346, 1.212863280044632, 1.2128598759409335, 2.7822117334951564, 1.8401962632574962, 1.9800278815421588, 1.980197207940756, 1.9803245125829154, 1.979884984764474, 2.623285789813981, 2.8590518038685118, 3.5980720319253456, 4.413216880416452, 5.8798412043103365, 7.288204950262236, 13.069558764598797, 0.7775394305138154, 0.8737690666786787, 0.87376944342076, 0.8737694936530375, 0.9278835896009103, 1.2867280207480432, 1.2867463477156802, 1.2867476800962439, 1.2867508403572163, 2.8475857312470128, 14.76950984696583, 2.079601101020271, 3.771736914753926, 16.261564676225763, 3.55673736760006, 1.1794388600577697, 1.1794327771146187, 1.179425192938754, 1.1794117918876088, 1.1794110161052327, 1.179410451716777, 1.1794084235672724, 2.7284289683375307, 1.4630209612861877, 1.9624518956458425, 1.9626186975790358, 2.0290496248635854, 2.029997087515937, 2.0418382989385937, 2.6258875503253973, 3.4494768725931118, 3.5980720319253456, 3.7691597254988283, 4.84871210831226, 5.051191272924387, 8.583113670337537, 13.069558764598797, 0.7775394305138154, 0.8737690666786787, 0.87376944342076, 0.8737694936530375, 0.9278835896009103, 0.9278836502228734, 1.121256107013837, 1.1212561788751911, 2.00224134697795, 14.76950984696583, 3.193595868183381, 1.2793194557157856, 1.279319372872043, 1.7946441866437977, 1.144178423162296, 1.144203346965807, 1.144242221949642, 1.144244497235162, 1.1442643801455776, 1.1442860887261412, 1.1442862479039186, 1.1442887643700546, 1.9111601040511215, 1.9939400794494588, 1.9882762639396794, 2.0079519477341345, 7.288204950262236, 2.6258875503253973, 3.5294849089333296, 13.069558764598797, 0.7775394305138154, 0.8737690666786787, 0.87376944342076, 0.8737694936530375, 0.9278835896009103, 0.9278836502228734, 1.121256107013837, 1.1212561788751911, 1.1794084235672724, 1.179410451716777, 1.1794110161052327, 1.1794117918876088, 1.2128598759409335, 1.212863280044632, 1.179425192938754, 1.2129057116322346, 1.2607550251720443, 1.2608292498996372, 1.2608369512750068, 1.2609789918981529, 1.260918565317348, 1.2609802568158712, 2.7946190066205516, 1.2608613646543911, 1.979884984764474, 3.5980720319253456, 2.0290496248635854, 1.343711535849473, 2.19367983827812, 2.193667070734644, 16.261564676225763, 3.4776539464041063, 5.8798412043103365, 3.839919034334147, 6.362817571301075, 8.583113670337537, 5.051191272924387, 1.1212561788751911, 1.121256107013837, 1.8401962632574962, 1.9140830814932628, 1.9655596559664446, 1.9656597447349642, 1.9658763537582007, 1.971861136075874, 2.623285789813981, 2.732662308742048, 2.76721377093224, 3.193595868183381, 3.4494768725931118, 3.55673736760006, 4.343714042873841, 4.398533563343052, 5.8798412043103365, 6.197463879398694, 13.069558764598797, 14.76950984696583, 0.7775394305138154, 0.8737690666786787, 0.87376944342076, 0.8737694936530375, 0.9278835896009103, 0.9278836502228734, 1.144178423162296, 1.144203346965807, 1.144242221949642, 1.144244497235162, 2.00224134697795, 1.4630209612861877, 5.051191272924387, 1.2793194557157856, 1.279319372872043, 1.279319372872043, 6.063728073216136, 0.9278836502228734, 0.9278835896009103, 1.7912371468975532, 3.4776539464041063, 4.2246804824881465, 4.84871210831226, 16.261564676225763, 0.7775394305138154, 0.8737690666786787, 0.87376944342076, 0.8737694936530375, 1.121256107013837, 1.1212561788751911, 1.144178423162296, 1.144203346965807, 1.144242221949642, 1.144244497235162, 1.1442643801455776, 1.1442860887261412, 1.1442862479039186, 1.1442887643700546, 1.1794084235672724, 1.179410451716777, 1.1794110161052327, 1.1794117918876088, 1.179425192938754, 1.1794327771146187, 1.1794388600577697, 1.2128598759409335, 1.212863280044632, 2.00224134697795, 14.76950984696583, 3.193595868183381, 1.4630209612861877, 5.051191272924387, 1.2793194557157856, 1.279319372872043, 1.279319372872043, 6.063728073216136, 8.583113670337537, 5.420288463300339, 1.2901811851260765, 7.941864311755035, 2.086428963662136, 6.362817571301075, 1.2901813473488397, 1.2901811851260765, 4.571293879215999, 13.069558764598797, 1.2901813473488397, 0.8737694936530375, 0.87376944342076, 0.8737690666786787, 2.00224134697795, 3.193595868183381, 5.051191272924387, 14.76950984696583, 0.7775394305138154, 0.9278835896009103, 0.9278836502228734, 1.121256107013837, 1.1212561788751911, 1.144178423162296, 1.144203346965807, 1.144242221949642, 1.144244497235162, 1.1442643801455776, 1.1442860887261412, 1.1442862479039186, 1.1442887643700546, 1.1794084235672724, 1.179410451716777, 1.1794110161052327, 1.1794117918876088, 1.179425192938754, 1.1794327771146187, 1.1794388600577697, 1.2128598759409335, 1.212863280044632, 1.2129057116322346, 1.4630209612861877, 1.2793194557157856, 1.279319372872043, 1.279319372872043, 6.063728073216136, 8.583113670337537, 5.420288463300339, 4.84871210831226, 1.2901811851260765, 7.941864311755035, 2.086428963662136, 6.362817571301075, 1.2901813473488397, 1.2901811851260765, 16.261564676225763, 4.571293879215999, 13.069558764598797, 1.2901813473488397, 4.343714042873841, 5.8798412043103365, 1.2901718928836876, 4.5688927075567936, 0.7775394305138154, 1.4630209612861877, 2.00224134697795, 5.051191272924387, 0.8737690666786787, 0.87376944342076, 0.8737694936530375, 0.9278835896009103, 0.9278836502228734, 1.121256107013837, 1.1212561788751911, 1.144178423162296, 1.144203346965807, 1.144242221949642, 1.144244497235162, 1.1442643801455776, 1.1442860887261412, 1.1442862479039186, 1.1442887643700546, 1.1794084235672724, 1.179410451716777, 1.1794110161052327, 1.1794117918876088, 1.179425192938754, 1.1794327771146187, 1.1794388600577697, 1.2128598759409335, 1.212863280044632, 1.2129057116322346, 1.2129269752529346, 1.2608613646543911, 1.2607550251720443, 1.3382325205800907, 1.2608292498996372, 1.3386247108486922, 1.3383343920849857, 1.338908749484343, 1.2608369512750068, 1.3385879733673043, 1.260918565317348, 1.2609802568158712, 1.3390614101360865, 1.2610163014559346, 1.2609789918981529, 2.183189772157355, 1.9882762639396794, 6.197463879398694, 2.1838587463368055, 1.9656597447349642, 1.9655596559664446, 1.9658763537582007, 14.76950984696583, 2.732662308742048, 13.069558764598797, 2.2017825302688694, 2.7946190066205516, 2.1864656989056455, 3.771736914753926, 5.8798412043103365, 3.8304494078179623, 3.193595868183381, 3.9159448675482955, 8.583113670337537, 7.288204950262236, 0.7775394305138154, 0.8737690666786787, 0.87376944342076, 0.8737694936530375, 0.9278835896009103, 0.9278836502228734, 1.121256107013837, 1.1212561788751911, 1.144178423162296, 1.144203346965807, 1.144242221949642, 1.144244497235162, 1.1442643801455776, 1.1442860887261412, 1.1442862479039186, 1.1442887643700546, 1.1794084235672724, 1.179410451716777, 1.1794110161052327, 1.1794117918876088, 1.179425192938754, 1.1794327771146187, 1.1794388600577697, 1.2128598759409335, 1.212863280044632, 1.2129057116322346, 1.2129269752529346, 1.2129327901898321, 1.2131221272240913, 1.2131222869423148, 1.3569044798974994, 1.3569720119520228, 1.3569920615234083, 1.3570110785604768, 1.3571879095673727, 1.3571955377809433, 1.3573337454741705, 1.3573376426972221, 1.357336824852436, 1.3573735726660634, 1.35739558373764, 1.3574462459391021, 1.357517642476728, 1.3575621304669203, 1.3575770621804648, 1.3576036325449938, 1.3576396559621686, 1.3576643710480045, 1.3576644054401574, 1.3577161179339974, 2.2206529084493196, 3.084789262172307, 3.7691597254988283, 2.2214339108286736, 2.0418382989385937, 7.941864311755035, 7.288204950262236, 3.0046920555293375, 1.7912371468975532, 5.420288463300339, 16.261564676225763, 3.9159448675482955, 4.5649458748509995, 6.362817571301075, 4.5688927075567936, 4.343714042873841, 2.924388014537658, 2.140956819710285, 2.2017825302688694, 5.051191272924387, 4.398533563343052, 2.14062603874099, 8.583113670337537, 4.2246804824881465, 0.7775394305138154, 0.8737690666786787, 0.87376944342076, 0.8737694936530375, 0.9278835896009103, 0.9278836502228734, 1.121256107013837, 1.1212561788751911, 1.144178423162296, 1.144203346965807, 1.144242221949642, 1.144244497235162, 1.1442643801455776, 1.1442860887261412, 1.1442862479039186, 1.1442887643700546, 1.2761342315181445, 1.1794084235672724, 1.179410451716777, 1.1794110161052327, 1.1794117918876088, 1.179425192938754, 1.1794327771146187, 1.1794388600577697, 1.2769479086745597, 1.2770311375684154, 1.2771035995510507, 1.2771700025945896, 1.2772096006302698, 1.2128598759409335, 1.277426075917785, 1.277718881992236, 2.0446859365332557, 2.923894887992301, 1.9624518956458425, 4.413216880416452, 1.9626186975790358, 2.924388014537658, 2.14062603874099, 2.0629253921125104, 2.1275445696387663, 2.8590518038685118, 2.623285789813981, 2.8118581356641563, 2.140956819710285, 5.420288463300339, 4.5688927075567936, 3.0046920555293375, 5.8798412043103365, 4.5649458748509995, 7.941864311755035, 6.063728073216136, 2.00224134697795, 0.7775394305138154, 0.8737690666786787, 0.87376944342076, 0.8737694936530375, 0.9278835896009103, 0.9278836502228734, 1.121256107013837, 1.1212561788751911, 1.144178423162296, 1.144203346965807, 1.144242221949642, 1.144244497235162, 1.1442643801455776, 1.1442860887261412, 1.1442862479039186, 1.1442887643700546, 1.1794084235672724, 1.179410451716777, 1.1794110161052327, 1.1794117918876088, 1.179425192938754, 1.1794327771146187, 1.1794388600577697, 1.2128598759409335, 1.212863280044632, 1.2129057116322346, 1.2129269752529346, 1.2129327901898321, 1.2131221272240913, 1.2131222869423148, 1.3385879733673043, 1.3383343920849857, 1.3382325205800907, 1.3390614101360865, 1.338908749484343, 1.3386247108486922, 2.1838587463368055, 2.183189772157355, 14.76950984696583, 6.197463879398694, 1.9655596559664446, 1.9882762639396794, 1.9656597447349642, 1.9658763537582007, 13.069558764598797, 2.1864656989056455, 2.2017825302688694, 2.00224134697795, 3.193595868183381, 2.732662308742048, 5.8798412043103365, 3.9159448675482955, 3.771736914753926, 3.8304494078179623, 8.583113670337537, 1.4630209612861877, 5.051191272924387, 0.7775394305138154, 0.8737690666786787, 0.87376944342076, 0.8737694936530375, 0.9278835896009103, 0.9278836502228734, 1.121256107013837, 1.1212561788751911, 1.144178423162296, 1.144203346965807, 1.144242221949642, 1.144244497235162, 1.1442643801455776, 1.1442860887261412, 1.1442862479039186, 1.1442887643700546, 1.1794084235672724, 1.179410451716777, 1.1794110161052327, 1.1794117918876088, 1.179425192938754, 1.1794327771146187, 1.1794388600577697, 1.2128598759409335, 1.212863280044632, 1.2129057116322346, 1.2129269752529346, 1.2129327901898321, 1.2131221272240913, 1.2131222869423148, 2.00224134697795, 14.76950984696583, 3.193595868183381, 1.4630209612861877, 5.051191272924387, 1.2793194557157856, 1.279319372872043, 1.279319372872043, 6.063728073216136, 8.583113670337537, 5.420288463300339, 4.84871210831226, 1.2901811851260765, 7.941864311755035, 2.086428963662136, 6.362817571301075, 1.2901813473488397, 1.2901811851260765, 16.261564676225763, 4.571293879215999, 13.069558764598797, 1.2901813473488397, 4.343714042873841, 5.8798412043103365, 1.2901718928836876, 4.5688927075567936, 2.6258875503253973, 0.7775394305138154, 0.8737690666786787, 0.87376944342076, 0.8737694936530375, 0.9278835896009103, 0.9278836502228734, 1.121256107013837, 1.1212561788751911, 1.144178423162296, 1.144203346965807, 1.144242221949642, 1.144244497235162, 1.1442643801455776, 1.1442860887261412, 1.1442862479039186, 1.1442887643700546, 1.1794084235672724, 1.179410451716777, 1.1794110161052327, 1.1794117918876088, 1.179425192938754, 1.1794327771146187, 1.1794388600577697, 1.2128598759409335, 1.212863280044632, 1.2129057116322346, 1.2129269752529346, 1.2129327901898321, 1.2131221272240913, 1.2131222869423148, 2.00224134697795, 14.76950984696583, 3.193595868183381, 1.4630209612861877, 5.051191272924387, 1.2793194557157856, 1.279319372872043, 1.279319372872043, 6.063728073216136, 8.583113670337537, 5.420288463300339, 4.84871210831226, 1.2901811851260765, 7.941864311755035, 2.086428963662136, 6.362817571301075, 1.2901813473488397, 1.2901811851260765, 16.261564676225763, 4.571293879215999, 13.069558764598797, 1.2901813473488397, 4.343714042873841, 5.8798412043103365, 1.2901718928836876, 4.5688927075567936, 2.6258875503253973, 0.7775394305138154, 0.8737690666786787, 0.87376944342076, 0.8737694936530375, 0.9278835896009103, 0.9278836502228734, 1.121256107013837, 1.1212561788751911, 1.144178423162296, 1.144203346965807, 1.144242221949642, 1.144244497235162, 1.1442643801455776, 1.1442860887261412, 1.1442862479039186, 1.1442887643700546, 1.1794084235672724, 1.179410451716777, 1.1794110161052327, 1.1794117918876088, 1.179425192938754, 1.1794327771146187, 1.1794388600577697, 1.2128598759409335, 1.212863280044632, 1.2129057116322346, 1.2129269752529346, 1.2129327901898321, 1.2131221272240913, 1.2131222869423148, 2.00224134697795, 14.76950984696583, 3.193595868183381, 1.4630209612861877, 5.051191272924387, 1.2793194557157856, 1.279319372872043, 1.279319372872043, 6.063728073216136, 8.583113670337537, 5.420288463300339, 4.84871210831226, 1.2901811851260765, 7.941864311755035, 2.086428963662136, 6.362817571301075, 1.2901813473488397, 1.2901811851260765, 16.261564676225763, 4.571293879215999, 13.069558764598797, 1.2901813473488397, 4.343714042873841, 5.8798412043103365, 1.2901718928836876, 4.5688927075567936, 2.6258875503253973], \"Category\": [\"Default\", \"Default\", \"Default\", \"Default\", \"Default\", \"Default\", \"Default\", \"Default\", \"Default\", \"Default\", \"Default\", \"Default\", \"Default\", \"Default\", \"Default\", \"Default\", \"Default\", \"Default\", \"Default\", \"Default\", \"Default\", \"Default\", \"Default\", \"Default\", \"Default\", \"Default\", \"Default\", \"Default\", \"Default\", \"Default\", \"Topic1\", \"Topic1\", \"Topic1\", \"Topic1\", \"Topic1\", \"Topic1\", \"Topic1\", \"Topic1\", \"Topic1\", \"Topic1\", \"Topic1\", \"Topic1\", \"Topic1\", \"Topic1\", \"Topic1\", \"Topic1\", \"Topic1\", \"Topic1\", \"Topic1\", \"Topic1\", \"Topic1\", \"Topic1\", \"Topic1\", \"Topic1\", \"Topic1\", \"Topic1\", \"Topic1\", \"Topic1\", \"Topic1\", \"Topic1\", \"Topic1\", \"Topic1\", \"Topic1\", \"Topic1\", \"Topic1\", \"Topic1\", \"Topic1\", \"Topic1\", \"Topic1\", \"Topic2\", \"Topic2\", \"Topic2\", \"Topic2\", \"Topic2\", \"Topic2\", \"Topic2\", \"Topic2\", \"Topic2\", \"Topic2\", \"Topic2\", \"Topic2\", \"Topic2\", \"Topic2\", \"Topic2\", \"Topic2\", \"Topic2\", \"Topic2\", \"Topic2\", \"Topic2\", \"Topic2\", \"Topic2\", \"Topic2\", \"Topic2\", \"Topic2\", \"Topic2\", \"Topic2\", \"Topic2\", \"Topic2\", \"Topic2\", \"Topic2\", \"Topic2\", \"Topic2\", \"Topic2\", \"Topic2\", \"Topic2\", \"Topic2\", \"Topic2\", \"Topic2\", \"Topic2\", \"Topic3\", \"Topic3\", \"Topic3\", \"Topic3\", \"Topic3\", \"Topic3\", \"Topic3\", \"Topic3\", \"Topic3\", \"Topic3\", \"Topic3\", \"Topic3\", \"Topic3\", \"Topic3\", \"Topic3\", \"Topic3\", \"Topic3\", \"Topic3\", \"Topic3\", \"Topic3\", \"Topic3\", \"Topic3\", \"Topic3\", \"Topic3\", \"Topic3\", \"Topic3\", \"Topic3\", \"Topic3\", \"Topic3\", \"Topic3\", \"Topic3\", \"Topic3\", \"Topic3\", \"Topic3\", \"Topic3\", \"Topic3\", \"Topic4\", \"Topic4\", \"Topic4\", \"Topic4\", \"Topic4\", \"Topic4\", \"Topic4\", \"Topic4\", \"Topic4\", \"Topic4\", \"Topic4\", \"Topic4\", \"Topic4\", \"Topic4\", \"Topic4\", \"Topic4\", \"Topic4\", \"Topic4\", \"Topic4\", \"Topic4\", \"Topic4\", \"Topic4\", \"Topic4\", \"Topic4\", \"Topic4\", \"Topic4\", \"Topic4\", \"Topic4\", \"Topic4\", \"Topic4\", \"Topic4\", \"Topic4\", \"Topic4\", \"Topic4\", \"Topic5\", \"Topic5\", \"Topic5\", \"Topic5\", \"Topic5\", \"Topic5\", \"Topic5\", \"Topic5\", \"Topic5\", \"Topic5\", \"Topic5\", \"Topic5\", \"Topic5\", \"Topic5\", \"Topic5\", \"Topic5\", \"Topic5\", \"Topic5\", \"Topic5\", \"Topic5\", \"Topic5\", \"Topic5\", \"Topic5\", \"Topic5\", \"Topic5\", \"Topic5\", \"Topic5\", \"Topic5\", \"Topic5\", \"Topic5\", \"Topic5\", \"Topic6\", \"Topic6\", \"Topic6\", \"Topic6\", \"Topic6\", \"Topic6\", \"Topic6\", \"Topic6\", \"Topic6\", \"Topic6\", \"Topic6\", \"Topic6\", \"Topic6\", \"Topic6\", \"Topic6\", \"Topic6\", \"Topic6\", \"Topic6\", \"Topic6\", \"Topic6\", \"Topic6\", \"Topic6\", \"Topic6\", \"Topic6\", \"Topic6\", \"Topic6\", \"Topic6\", \"Topic6\", \"Topic6\", \"Topic6\", \"Topic6\", \"Topic6\", \"Topic6\", \"Topic6\", \"Topic6\", \"Topic6\", \"Topic6\", \"Topic6\", \"Topic7\", \"Topic7\", \"Topic7\", \"Topic7\", \"Topic7\", \"Topic7\", \"Topic7\", \"Topic7\", \"Topic7\", \"Topic7\", \"Topic7\", \"Topic7\", \"Topic7\", \"Topic7\", \"Topic7\", \"Topic7\", \"Topic7\", \"Topic7\", \"Topic7\", \"Topic7\", \"Topic7\", \"Topic7\", \"Topic7\", \"Topic7\", \"Topic7\", \"Topic7\", \"Topic7\", \"Topic7\", \"Topic7\", \"Topic7\", \"Topic7\", \"Topic7\", \"Topic7\", \"Topic7\", \"Topic8\", \"Topic8\", \"Topic8\", \"Topic8\", \"Topic8\", \"Topic8\", \"Topic8\", \"Topic8\", \"Topic8\", \"Topic8\", \"Topic8\", \"Topic8\", \"Topic8\", \"Topic8\", \"Topic8\", \"Topic8\", \"Topic8\", \"Topic8\", \"Topic8\", \"Topic8\", \"Topic8\", \"Topic8\", \"Topic8\", \"Topic8\", \"Topic8\", \"Topic8\", \"Topic8\", \"Topic8\", \"Topic8\", \"Topic8\", \"Topic8\", \"Topic8\", \"Topic8\", \"Topic8\", \"Topic8\", \"Topic8\", \"Topic8\", \"Topic8\", \"Topic8\", \"Topic8\", \"Topic9\", \"Topic9\", \"Topic9\", \"Topic9\", \"Topic9\", \"Topic9\", \"Topic9\", \"Topic9\", \"Topic9\", \"Topic9\", \"Topic9\", \"Topic9\", \"Topic9\", \"Topic9\", \"Topic9\", \"Topic9\", \"Topic9\", \"Topic9\", \"Topic9\", \"Topic9\", \"Topic9\", \"Topic9\", \"Topic9\", \"Topic9\", \"Topic9\", \"Topic9\", \"Topic9\", \"Topic9\", \"Topic9\", \"Topic9\", \"Topic9\", \"Topic9\", \"Topic9\", \"Topic9\", \"Topic9\", \"Topic10\", \"Topic10\", \"Topic10\", \"Topic10\", \"Topic10\", \"Topic10\", \"Topic10\", \"Topic10\", \"Topic10\", \"Topic10\", \"Topic10\", \"Topic10\", \"Topic10\", \"Topic10\", \"Topic10\", \"Topic10\", \"Topic10\", \"Topic10\", \"Topic10\", \"Topic10\", \"Topic10\", \"Topic10\", \"Topic10\", \"Topic10\", \"Topic10\", \"Topic10\", \"Topic10\", \"Topic10\", \"Topic10\", \"Topic10\", \"Topic10\", \"Topic10\", \"Topic10\", \"Topic10\", \"Topic10\", \"Topic10\", \"Topic10\", \"Topic10\", \"Topic10\", \"Topic10\", \"Topic10\", \"Topic10\", \"Topic10\", \"Topic10\", \"Topic10\", \"Topic10\", \"Topic10\", \"Topic10\", \"Topic10\", \"Topic10\", \"Topic10\", \"Topic10\", \"Topic10\", \"Topic10\", \"Topic11\", \"Topic11\", \"Topic11\", \"Topic11\", \"Topic11\", \"Topic11\", \"Topic11\", \"Topic11\", \"Topic11\", \"Topic11\", \"Topic11\", \"Topic11\", \"Topic11\", \"Topic11\", \"Topic11\", \"Topic11\", \"Topic11\", \"Topic11\", \"Topic11\", \"Topic11\", \"Topic11\", \"Topic11\", \"Topic11\", \"Topic11\", \"Topic11\", \"Topic11\", \"Topic11\", \"Topic11\", \"Topic11\", \"Topic11\", \"Topic11\", \"Topic11\", \"Topic11\", \"Topic11\", \"Topic11\", \"Topic11\", \"Topic11\", \"Topic12\", \"Topic12\", \"Topic12\", \"Topic12\", \"Topic12\", \"Topic12\", \"Topic12\", \"Topic12\", \"Topic12\", \"Topic12\", \"Topic12\", \"Topic12\", \"Topic12\", \"Topic12\", \"Topic12\", \"Topic12\", \"Topic12\", \"Topic12\", \"Topic12\", \"Topic12\", \"Topic12\", \"Topic12\", \"Topic12\", \"Topic12\", \"Topic12\", \"Topic12\", \"Topic12\", \"Topic12\", \"Topic12\", \"Topic12\", \"Topic12\", \"Topic12\", \"Topic12\", \"Topic12\", \"Topic12\", \"Topic12\", \"Topic12\", \"Topic12\", \"Topic12\", \"Topic12\", \"Topic12\", \"Topic12\", \"Topic12\", \"Topic12\", \"Topic12\", \"Topic12\", \"Topic12\", \"Topic12\", \"Topic12\", \"Topic12\", \"Topic13\", \"Topic13\", \"Topic13\", \"Topic13\", \"Topic13\", \"Topic13\", \"Topic13\", \"Topic13\", \"Topic13\", \"Topic13\", \"Topic13\", \"Topic13\", \"Topic13\", \"Topic13\", \"Topic13\", \"Topic13\", \"Topic13\", \"Topic13\", \"Topic13\", \"Topic13\", \"Topic13\", \"Topic13\", \"Topic13\", \"Topic13\", \"Topic13\", \"Topic13\", \"Topic13\", \"Topic13\", \"Topic13\", \"Topic13\", \"Topic13\", \"Topic13\", \"Topic13\", \"Topic13\", \"Topic13\", \"Topic13\", \"Topic13\", \"Topic13\", \"Topic13\", \"Topic13\", \"Topic13\", \"Topic13\", \"Topic13\", \"Topic13\", \"Topic13\", \"Topic13\", \"Topic13\", \"Topic13\", \"Topic13\", \"Topic13\", \"Topic13\", \"Topic13\", \"Topic14\", \"Topic14\", \"Topic14\", \"Topic14\", \"Topic14\", \"Topic14\", \"Topic14\", \"Topic14\", \"Topic14\", \"Topic14\", \"Topic14\", \"Topic14\", \"Topic14\", \"Topic14\", \"Topic14\", \"Topic14\", \"Topic14\", \"Topic14\", \"Topic14\", \"Topic14\", \"Topic14\", \"Topic14\", \"Topic14\", \"Topic14\", \"Topic14\", \"Topic14\", \"Topic14\", \"Topic14\", \"Topic14\", \"Topic14\", \"Topic14\", \"Topic14\", \"Topic14\", \"Topic14\", \"Topic14\", \"Topic14\", \"Topic14\", \"Topic14\", \"Topic14\", \"Topic14\", \"Topic14\", \"Topic14\", \"Topic14\", \"Topic14\", \"Topic14\", \"Topic14\", \"Topic14\", \"Topic14\", \"Topic14\", \"Topic14\", \"Topic14\", \"Topic14\", \"Topic14\", \"Topic14\", \"Topic14\", \"Topic14\", \"Topic14\", \"Topic14\", \"Topic14\", \"Topic14\", \"Topic14\", \"Topic14\", \"Topic14\", \"Topic14\", \"Topic15\", \"Topic15\", \"Topic15\", \"Topic15\", \"Topic15\", \"Topic15\", \"Topic15\", \"Topic15\", \"Topic15\", \"Topic15\", \"Topic15\", \"Topic15\", \"Topic15\", \"Topic15\", \"Topic15\", \"Topic15\", \"Topic15\", \"Topic15\", \"Topic15\", \"Topic15\", \"Topic15\", \"Topic15\", \"Topic15\", \"Topic15\", \"Topic15\", \"Topic15\", \"Topic15\", \"Topic15\", \"Topic15\", \"Topic15\", \"Topic15\", \"Topic15\", \"Topic15\", \"Topic15\", \"Topic15\", \"Topic15\", \"Topic15\", \"Topic15\", \"Topic15\", \"Topic15\", \"Topic15\", \"Topic15\", \"Topic15\", \"Topic15\", \"Topic15\", \"Topic15\", \"Topic15\", \"Topic15\", \"Topic15\", \"Topic15\", \"Topic15\", \"Topic15\", \"Topic15\", \"Topic15\", \"Topic15\", \"Topic15\", \"Topic15\", \"Topic15\", \"Topic15\", \"Topic15\", \"Topic15\", \"Topic15\", \"Topic15\", \"Topic15\", \"Topic15\", \"Topic15\", \"Topic15\", \"Topic15\", \"Topic15\", \"Topic15\", \"Topic15\", \"Topic15\", \"Topic15\", \"Topic15\", \"Topic16\", \"Topic16\", \"Topic16\", \"Topic16\", \"Topic16\", \"Topic16\", \"Topic16\", \"Topic16\", \"Topic16\", \"Topic16\", \"Topic16\", \"Topic16\", \"Topic16\", \"Topic16\", \"Topic16\", \"Topic16\", \"Topic16\", \"Topic16\", \"Topic16\", \"Topic16\", \"Topic16\", \"Topic16\", \"Topic16\", \"Topic16\", \"Topic16\", \"Topic16\", \"Topic16\", \"Topic16\", \"Topic16\", \"Topic16\", \"Topic16\", \"Topic16\", \"Topic16\", \"Topic16\", \"Topic16\", \"Topic16\", \"Topic16\", \"Topic16\", \"Topic16\", \"Topic16\", \"Topic16\", \"Topic16\", \"Topic16\", \"Topic16\", \"Topic16\", \"Topic16\", \"Topic16\", \"Topic16\", \"Topic16\", \"Topic16\", \"Topic16\", \"Topic16\", \"Topic16\", \"Topic17\", \"Topic17\", \"Topic17\", \"Topic17\", \"Topic17\", \"Topic17\", \"Topic17\", \"Topic17\", \"Topic17\", \"Topic17\", \"Topic17\", \"Topic17\", \"Topic17\", \"Topic17\", \"Topic17\", \"Topic17\", \"Topic17\", \"Topic17\", \"Topic17\", \"Topic17\", \"Topic17\", \"Topic17\", \"Topic17\", \"Topic17\", \"Topic17\", \"Topic17\", \"Topic17\", \"Topic17\", \"Topic17\", \"Topic17\", \"Topic17\", \"Topic17\", \"Topic17\", \"Topic17\", \"Topic17\", \"Topic17\", \"Topic17\", \"Topic17\", \"Topic17\", \"Topic17\", \"Topic17\", \"Topic17\", \"Topic17\", \"Topic17\", \"Topic17\", \"Topic17\", \"Topic17\", \"Topic17\", \"Topic17\", \"Topic17\", \"Topic17\", \"Topic17\", \"Topic17\", \"Topic17\", \"Topic17\", \"Topic17\", \"Topic17\", \"Topic18\", \"Topic18\", \"Topic18\", \"Topic18\", \"Topic18\", \"Topic18\", \"Topic18\", \"Topic18\", \"Topic18\", \"Topic18\", \"Topic18\", \"Topic18\", \"Topic18\", \"Topic18\", \"Topic18\", \"Topic18\", \"Topic18\", \"Topic18\", \"Topic18\", \"Topic18\", \"Topic18\", \"Topic18\", \"Topic18\", \"Topic18\", \"Topic18\", \"Topic18\", \"Topic18\", \"Topic18\", \"Topic18\", \"Topic18\", \"Topic18\", \"Topic18\", \"Topic18\", \"Topic18\", \"Topic18\", \"Topic18\", \"Topic18\", \"Topic18\", \"Topic18\", \"Topic18\", \"Topic18\", \"Topic18\", \"Topic18\", \"Topic18\", \"Topic18\", \"Topic18\", \"Topic18\", \"Topic18\", \"Topic18\", \"Topic18\", \"Topic18\", \"Topic18\", \"Topic18\", \"Topic18\", \"Topic18\", \"Topic18\", \"Topic18\", \"Topic19\", \"Topic19\", \"Topic19\", \"Topic19\", \"Topic19\", \"Topic19\", \"Topic19\", \"Topic19\", \"Topic19\", \"Topic19\", \"Topic19\", \"Topic19\", \"Topic19\", \"Topic19\", \"Topic19\", \"Topic19\", \"Topic19\", \"Topic19\", \"Topic19\", \"Topic19\", \"Topic19\", \"Topic19\", \"Topic19\", \"Topic19\", \"Topic19\", \"Topic19\", \"Topic19\", \"Topic19\", \"Topic19\", \"Topic19\", \"Topic19\", \"Topic19\", \"Topic19\", \"Topic19\", \"Topic19\", \"Topic19\", \"Topic19\", \"Topic19\", \"Topic19\", \"Topic19\", \"Topic19\", \"Topic19\", \"Topic19\", \"Topic19\", \"Topic19\", \"Topic19\", \"Topic19\", \"Topic19\", \"Topic19\", \"Topic19\", \"Topic19\", \"Topic19\", \"Topic19\", \"Topic19\", \"Topic19\", \"Topic19\", \"Topic19\", \"Topic20\", \"Topic20\", \"Topic20\", \"Topic20\", \"Topic20\", \"Topic20\", \"Topic20\", \"Topic20\", \"Topic20\", \"Topic20\", \"Topic20\", \"Topic20\", \"Topic20\", \"Topic20\", \"Topic20\", \"Topic20\", \"Topic20\", \"Topic20\", \"Topic20\", \"Topic20\", \"Topic20\", \"Topic20\", \"Topic20\", \"Topic20\", \"Topic20\", \"Topic20\", \"Topic20\", \"Topic20\", \"Topic20\", \"Topic20\", \"Topic20\", \"Topic20\", \"Topic20\", \"Topic20\", \"Topic20\", \"Topic20\", \"Topic20\", \"Topic20\", \"Topic20\", \"Topic20\", \"Topic20\", \"Topic20\", \"Topic20\", \"Topic20\", \"Topic20\", \"Topic20\", \"Topic20\", \"Topic20\", \"Topic20\", \"Topic20\", \"Topic20\", \"Topic20\", \"Topic20\", \"Topic20\", \"Topic20\", \"Topic20\", \"Topic20\"], \"logprob\": [30.0, 29.0, 28.0, 27.0, 26.0, 25.0, 24.0, 23.0, 22.0, 21.0, 20.0, 19.0, 18.0, 17.0, 16.0, 15.0, 14.0, 13.0, 12.0, 11.0, 10.0, 9.0, 8.0, 7.0, 6.0, 5.0, 4.0, 3.0, 2.0, 1.0, -3.2386, -3.6359, -3.6364, -3.2394, -4.3048, -4.3049, -4.3051, -4.305, -4.3049, -4.305, -4.3051, -4.3053, -4.3053, -4.3054, -4.3051, -4.3052, -4.3055, -4.3055, -4.3053, -4.3058, -4.3055, -4.3058, -4.3059, -4.3059, -3.636, -4.3053, -3.6359, -4.3048, -4.3066, -2.9552, -3.2392, -3.6361, -3.6357, -3.6369, -3.6363, -3.2393, -4.3051, -4.3053, -4.3053, -3.5846, -3.5847, -3.1873, -3.1859, -3.1875, -4.2491, -4.2491, -4.2491, -4.2491, -4.2491, -4.2531, -4.2535, -4.2535, -4.2537, -4.2538, -4.2539, -4.2538, -4.254, -4.2541, -4.2542, -3.5848, -4.2491, -4.2545, -4.2491, -4.2547, -4.2527, -4.2536, -3.1869, -4.2543, -4.2533, -2.5024, -3.1868, -3.5847, -3.58, -4.2491, -4.2517, -4.2526, -4.2531, -4.2533, -4.2536, -3.5688, -3.5707, -3.5714, -2.6691, -3.1709, -4.2357, -4.2357, -4.2357, -4.2357, -4.2357, -4.2357, -4.2394, -4.2398, -4.2401, -4.2403, -4.2406, -4.2408, -3.5688, -2.0849, -3.5692, -4.2403, -4.2407, -4.2407, -4.2413, -4.2401, -4.2357, -4.2405, -3.5666, -2.669, -4.2406, -4.2357, -4.2357, -4.2357, -4.2357, -4.2357, -4.24, -3.3199, -3.329, -3.9878, -3.9878, -3.9878, -3.9878, -3.9899, -3.9903, -3.9905, -3.9906, -3.9907, -3.9908, -3.9909, -3.992, -3.3211, -3.3217, -2.924, -2.9231, -3.9906, -3.9909, -3.9878, -3.9913, -3.9902, -3.9899, -3.9904, -3.9909, -3.991, -3.9912, -3.9902, -3.3201, -3.9878, -3.9878, -3.9878, -3.9908, -3.2851, -3.9529, -3.9529, -3.9529, -3.9529, -3.9545, -3.9549, -3.9553, -3.9555, -3.9555, -3.9561, -3.9562, -3.2865, -3.9552, -3.2853, -3.2855, -3.9556, -3.9547, -2.2022, -3.9556, -3.2852, -3.2846, -3.9557, -3.9557, -3.2848, -3.2856, -3.9559, -3.9529, -3.9557, -3.9526, -3.9524, -3.2324, -3.9013, -3.9014, -3.9014, -3.9015, -3.9016, -3.9016, -3.9016, -3.9019, -3.2327, -3.2322, -3.2317, -3.9014, -3.2327, -3.9016, -3.2322, -3.2324, -2.55, -3.8999, -3.8947, -3.8986, -2.5517, -3.9014, -3.8964, -3.9016, -3.8988, -3.2252, -6.9452, -6.9452, -6.9452, -6.8969, -6.8972, -6.8783, -6.8791, -6.8512, -6.7863, -6.7751, -6.8245, -2.7948, -3.8559, -3.8559, -3.8559, -3.8559, -3.8601, -3.8603, -3.8605, -3.8605, -3.8606, -3.8611, -3.8612, -3.8615, -3.1892, -3.1869, -3.8609, -3.8601, -3.8604, -3.8609, -3.8607, -3.8559, -3.8559, -3.8603, -3.8559, -3.1912, -3.8602, -3.8559, -3.8559, -3.8559, -3.8612, -3.8559, -3.8559, -3.8559, -3.8607, -2.9646, -2.9646, -2.9662, -3.6336, -3.6336, -3.6336, -3.6336, -3.6363, -3.6363, -3.6366, -3.6372, -3.6373, -2.9646, -3.637, -3.6336, -3.6336, -3.6336, -3.6369, -3.636, -3.6371, -3.6375, -3.6368, -3.6372, -3.6335, -3.6332, -6.6782, -6.6782, -6.6782, -6.6782, -6.6782, -6.653, -6.6578, -6.6582, -6.659, -6.6343, -6.6003, -6.6468, -6.6353, -6.6392, -6.6464, -3.4703, -3.4704, -3.4706, -3.471, -3.471, -3.471, -3.4711, -2.8014, -3.4708, -3.4708, -3.4709, -3.4713, -3.4715, -3.4713, -3.4707, -3.4706, -3.4712, -3.4703, -3.4706, -3.4712, -3.4702, -3.4707, -6.5132, -6.5132, -6.5132, -6.5132, -6.5132, -6.5132, -6.5132, -6.5132, -6.5132, -6.5132, -6.5132, -6.5132, -6.5132, -2.7203, -3.3885, -3.3887, -3.389, -3.389, -3.3891, -3.3893, -3.3893, -3.3893, -3.3851, -3.3851, -3.389, -3.389, -2.3205, -3.3864, -3.3885, -3.3794, -6.4314, -6.4314, -6.4314, -6.4314, -6.4314, -6.4314, -6.4314, -6.4314, -6.382, -6.3831, -6.3834, -6.3838, -6.3584, -6.3593, -6.391, -6.3708, -6.3467, -6.3511, -6.3522, -6.3584, -6.364, -6.3668, -6.221, -6.3673, -6.2925, -6.2001, -6.2999, -6.3588, -6.3074, -6.3081, -6.1178, -6.2676, -6.2315, -6.2691, -6.257, -6.263, -6.2973, -3.3771, -3.3771, -3.3771, -3.3771, -3.3771, -3.3771, -3.3771, -3.3771, -3.3771, -3.3771, -3.3771, -3.3771, -3.3771, -3.3771, -3.3771, -3.3771, -3.3771, -3.3771, -3.3771, -3.3771, -6.4216, -6.4216, -6.4216, -6.4216, -6.4216, -6.4216, -6.4216, -6.4216, -6.4216, -6.4216, -6.4216, -6.4216, -6.4216, -6.4216, -6.4216, -6.4216, -6.4216, -2.8824, -2.8824, -2.8824, -2.8824, -2.8824, -2.8824, -2.2134, -5.9269, -5.9269, -5.9269, -5.9269, -5.9269, -5.9269, -5.9269, -5.9269, -5.9269, -5.9269, -5.9269, -5.9269, -5.9269, -5.9269, -5.9269, -5.9269, -5.9269, -5.9269, -5.9269, -5.9269, -5.9269, -5.9269, -5.9269, -5.9269, -5.9269, -5.9269, -5.9269, -5.9269, -5.9269, -5.9269, -5.9269, -5.9269, -5.9269, -5.9269, -5.9269, -5.9269, -5.9269, -5.9269, -5.9269, -5.9269, -5.9269, -5.9269, -5.9269, -2.8276, -2.8276, -2.8276, -2.8276, -2.8276, -2.8276, -2.8276, -5.8721, -5.8721, -5.8721, -5.8721, -5.8721, -5.8721, -5.8721, -5.8721, -5.8721, -5.8721, -5.8721, -5.8721, -5.8721, -5.8721, -5.8721, -5.8721, -5.8721, -5.8721, -5.8721, -5.8721, -5.8721, -5.8721, -5.8721, -5.8721, -5.8721, -5.8721, -5.8721, -5.8721, -5.8721, -5.8721, -5.8721, -5.8721, -5.8721, -5.8721, -5.8721, -5.8721, -5.8721, -5.8721, -5.8721, -5.8721, -5.8721, -5.8721, -5.8721, -5.8721, -5.8721, -2.6523, -2.6523, -2.6491, -2.6513, -5.6968, -5.6968, -5.6968, -5.6968, -5.6968, -5.6968, -5.6968, -5.6968, -5.6968, -5.6968, -5.6968, -5.6968, -5.6968, -5.6968, -5.6968, -5.6968, -5.6968, -5.6968, -5.6968, -5.6968, -5.6968, -5.6968, -5.6968, -5.6968, -5.6968, -5.6968, -5.6677, -5.6687, -5.6288, -5.6705, -5.633, -5.6384, -5.6449, -5.6706, -5.648, -5.6708, -5.6726, -5.6562, -5.6733, -5.6747, -5.5754, -5.6168, -5.468, -5.6067, -5.6283, -5.6329, -5.6338, -5.4133, -5.6005, -5.4652, -5.6286, -5.6156, -5.6439, -5.6283, -5.6145, -5.6323, -5.6462, -5.6428, -5.6363, -5.6546, -5.3879, -5.3879, -5.3879, -5.3879, -5.3879, -5.3879, -5.3879, -5.3879, -5.3879, -5.3879, -5.3879, -5.3879, -5.3879, -5.3879, -5.3879, -5.3879, -5.3879, -5.3879, -5.3879, -5.3879, -5.3879, -5.3879, -5.3879, -5.3879, -5.3879, -5.3879, -5.3879, -5.3879, -5.3879, -5.3879, -5.323, -5.3247, -5.3252, -5.3257, -5.3297, -5.3299, -5.3331, -5.3333, -5.3333, -5.3341, -5.3345, -5.3359, -5.3375, -5.3386, -5.3389, -5.3395, -5.3404, -5.3409, -5.341, -5.3422, -5.2791, -5.2452, -5.2212, -5.2967, -5.3107, -5.2022, -5.2255, -5.2907, -5.3321, -5.2667, -5.2163, -5.2933, -5.2893, -5.2786, -5.3082, -5.3231, -5.3271, -5.3303, -5.33, -5.3271, -5.3303, -5.3316, -5.3317, -5.3329, -5.3798, -5.3798, -5.3798, -5.3798, -5.3798, -5.3798, -5.3798, -5.3798, -5.3798, -5.3798, -5.3798, -5.3798, -5.3798, -5.3798, -5.3798, -5.3798, -5.295, -5.3798, -5.3798, -5.3798, -5.3798, -5.3798, -5.3798, -5.3798, -5.316, -5.3181, -5.32, -5.3218, -5.3228, -5.3798, -5.3285, -5.3363, -5.3083, -5.2654, -5.3165, -5.2314, -5.3209, -5.2876, -5.3251, -5.3313, -5.3293, -5.3095, -5.3161, -5.3139, -5.3353, -5.2822, -5.3077, -5.3293, -5.2999, -5.315, -5.3185, -5.3243, -5.3798, -5.377, -5.377, -5.377, -5.377, -5.377, -5.377, -5.377, -5.377, -5.377, -5.377, -5.377, -5.377, -5.377, -5.377, -5.377, -5.377, -5.377, -5.377, -5.377, -5.377, -5.377, -5.377, -5.377, -5.377, -5.377, -5.377, -5.377, -5.377, -5.377, -5.377, -5.3355, -5.3363, -5.3409, -5.3412, -5.3457, -5.3475, -5.3062, -5.3137, -5.1538, -5.239, -5.3381, -5.3431, -5.3439, -5.3452, -5.2503, -5.3421, -5.3481, -5.3519, -5.3399, -5.3459, -5.333, -5.342, -5.345, -5.3512, -5.3386, -5.377, -5.377, -5.3706, -5.3706, -5.3706, -5.3706, -5.3706, -5.3706, -5.3706, -5.3706, -5.3706, -5.3706, -5.3706, -5.3706, -5.3706, -5.3706, -5.3706, -5.3706, -5.3706, -5.3706, -5.3706, -5.3706, -5.3706, -5.3706, -5.3706, -5.3706, -5.3706, -5.3706, -5.3706, -5.3706, -5.3706, -5.3706, -5.3706, -5.3706, -5.3706, -5.3706, -5.3706, -5.3706, -5.3706, -5.3706, -5.3706, -5.3706, -5.3706, -5.3706, -5.3706, -5.3706, -5.3706, -5.3706, -5.3706, -5.3706, -5.3706, -5.3706, -5.3706, -5.3706, -5.3706, -5.3706, -5.3706, -5.3706, -5.3706, -5.3706, -5.3706, -5.3706, -5.3706, -5.3706, -5.3706, -5.3706, -5.3706, -5.3706, -5.3706, -5.3706, -5.3706, -5.3706, -5.3706, -5.3706, -5.3706, -5.3706, -5.3706, -5.3706, -5.3706, -5.3706, -5.3706, -5.3706, -5.3706, -5.3706, -5.3706, -5.3706, -5.3706, -5.3706, -5.3706, -5.3706, -5.3706, -5.3706, -5.3706, -5.3706, -5.3706, -5.3706, -5.3706, -5.3706, -5.3706, -5.3706, -5.3706, -5.3706, -5.3706, -5.3706, -5.3706, -5.3706, -5.3706, -5.3706, -5.3706, -5.3706, -5.3706, -5.3706, -5.3706, -5.3706, -5.3706, -5.3706, -5.3706, -5.3706, -5.3706, -5.3706, -5.3706, -5.3706, -5.3706, -5.3706, -5.3706, -5.3706, -5.3706, -5.3706, -5.3706, -5.3706, -5.3706, -5.3706, -5.3706, -5.3706, -5.3706, -5.3706, -5.3706, -5.3706, -5.3706, -5.3706, -5.3706, -5.3706, -5.3706, -5.3706, -5.3706, -5.3706, -5.3706, -5.3706, -5.3706, -5.3706, -5.3706, -5.3706, -5.3706, -5.3706, -5.3706, -5.3706, -5.3706, -5.3706, -5.3706, -5.3706, -5.3706, -5.3706, -5.3706, -5.3706, -5.3706, -5.3706, -5.3706, -5.3706, -5.3706, -5.3706, -5.3706, -5.3706, -5.3706], \"loglift\": [30.0, 29.0, 28.0, 27.0, 26.0, 25.0, 24.0, 23.0, 22.0, 21.0, 20.0, 19.0, 18.0, 17.0, 16.0, 15.0, 14.0, 13.0, 12.0, 11.0, 10.0, 9.0, 8.0, 7.0, 6.0, 5.0, 4.0, 3.0, 2.0, 1.0, 1.794, 1.7251, 1.7249, 1.5929, 1.5485, 1.5485, 1.5485, 1.5484, 1.5484, 1.5484, 1.5483, 1.5483, 1.5483, 1.5482, 1.5482, 1.5482, 1.5482, 1.5482, 1.5481, 1.5481, 1.548, 1.548, 1.548, 1.5479, 1.4229, 1.2709, 1.1581, 1.1571, 1.1387, 1.1318, 0.9336, 1.0046, 1.0042, 0.832, 0.6723, 0.131, 0.781, 0.4129, 0.8033, 1.7889, 1.7888, 1.7255, 1.6285, 1.6262, 1.614, 1.614, 1.614, 1.614, 1.614, 1.6104, 1.6101, 1.61, 1.6099, 1.6098, 1.6098, 1.6098, 1.6096, 1.6096, 1.6094, 1.2939, 1.2311, 1.2145, 1.202, 1.1968, 1.1514, 1.1447, 1.1217, 0.8869, 0.8825, 0.8679, 0.8225, 0.0041, -0.1135, 0.0859, -0.1647, 0.5415, 0.3273, 0.4212, 0.6673, 1.808, 1.8073, 1.8069, 1.6658, 1.6453, 1.6295, 1.6295, 1.6295, 1.6295, 1.6295, 1.6295, 1.6277, 1.6275, 1.6274, 1.6272, 1.6271, 1.6269, 1.4291, 1.3816, 1.2624, 1.2428, 1.2426, 1.2426, 1.2305, 1.2248, 1.1652, 1.1294, 1.0727, 0.9198, 0.9132, 0.8493, 0.2332, -0.8654, 0.1211, 0.4824, 0.554, 2.1151, 2.1043, 1.925, 1.925, 1.925, 1.925, 1.9241, 1.924, 1.9239, 1.9238, 1.9238, 1.9238, 1.9237, 1.9233, 1.765, 1.7645, 1.7505, 1.5459, 1.4942, 1.494, 1.4548, 1.4526, 1.4139, 1.4079, 1.4076, 1.2038, 1.1343, 1.1174, 1.0687, 1.0367, 0.0215, -0.5212, 0.5517, 0.0962, 2.1386, 1.9514, 1.9514, 1.9514, 1.9514, 1.9498, 1.9495, 1.949, 1.9488, 1.9488, 1.9482, 1.9481, 1.6115, 1.4431, 1.4051, 1.2949, 1.238, 1.1866, 1.168, 1.1645, 1.0716, 1.024, 0.8605, 0.858, 0.8021, 0.7237, 0.7219, 0.6864, 0.6841, 0.4349, -0.3636, 2.1945, 2.0056, 2.0056, 2.0056, 2.0055, 2.0054, 2.0054, 2.0053, 2.0051, 1.8799, 1.8528, 1.6586, 1.6084, 1.5989, 1.4993, 1.4859, 1.4069, 1.0388, 1.0209, 1.0033, 0.9158, 0.9148, 0.7393, 0.684, 0.6379, 0.458, 0.1451, -0.5344, -0.6511, -0.6511, -0.8725, -0.8729, -0.974, -0.9748, -1.2769, -1.9727, -2.7658, -2.6516, 2.3366, 2.0705, 2.0705, 2.0705, 2.0705, 2.0671, 2.0669, 2.0668, 2.0667, 2.0666, 2.0662, 2.0661, 2.0659, 1.936, 1.9333, 1.6505, 1.6158, 1.6156, 1.6152, 1.6152, 1.5879, 1.5866, 1.2935, 1.2567, 0.9816, 0.8301, 0.8219, 0.7848, 0.7839, 0.6782, 0.5008, 0.231, 0.1534, 0.5269, 2.5358, 2.5358, 2.5343, 2.3323, 2.3323, 2.3323, 2.3323, 2.3298, 2.3297, 2.3294, 2.3289, 2.3289, 2.1713, 1.9122, 1.8423, 1.8423, 1.8422, 1.8391, 1.5586, 1.4715, 1.2412, 1.0377, 0.7503, 0.5394, -0.0444, -0.2674, -0.3841, -0.3841, -0.3841, -0.4442, -0.746, -0.7508, -0.7512, -0.752, -1.5217, -3.1337, -1.2199, -1.8037, -3.2689, -1.7561, 2.5238, 2.5236, 2.5234, 2.5231, 2.5231, 2.523, 2.523, 2.354, 2.3077, 2.0141, 2.0139, 1.9802, 1.9795, 1.9739, 1.723, 1.4503, 1.4075, 1.3619, 1.1098, 1.0683, 0.5391, 0.1182, -0.1025, -0.2192, -0.2192, -0.2192, -0.2792, -0.2792, -0.4685, -0.4685, -1.0484, -3.0467, -1.5152, -0.6004, -0.6004, 2.854, 2.6359, 2.6357, 2.6354, 2.6354, 2.6352, 2.6351, 2.6351, 2.635, 2.1263, 2.0839, 2.0828, 2.0729, 1.8524, 1.8073, 1.5094, 0.2094, -0.0207, -0.1374, -0.1374, -0.1374, -0.1975, -0.1975, -0.3868, -0.3868, -0.388, -0.389, -0.3893, -0.3897, -0.3923, -0.3932, -0.3969, -0.4047, -0.4193, -0.4238, -0.4248, -0.4312, -0.4367, -0.4396, -1.0896, -0.44, -0.8164, -1.3214, -0.8484, -0.4951, -0.9339, -0.9346, -2.7475, -1.3549, -1.844, -1.4555, -1.9484, -2.2537, -1.7578, 2.6675, 2.6675, 2.1721, 2.1328, 2.1062, 2.1062, 2.1061, 2.103, 1.8176, 1.7767, 1.7641, 1.6208, 1.5438, 1.5131, 1.3133, 1.3007, 1.0105, 0.9579, 0.2117, 0.0894, -0.0109, -0.1276, -0.1276, -0.1276, -0.1877, -0.1877, -0.3972, -0.3972, -0.3973, -0.3973, -0.9568, -0.643, -1.8821, -0.5089, -0.5089, -0.5089, -2.0648, 3.3515, 3.3515, 2.6938, 2.0303, 1.8357, 1.698, 1.1569, 0.4838, 0.3671, 0.3671, 0.3671, 0.1177, 0.1177, 0.0975, 0.0975, 0.0974, 0.0974, 0.0974, 0.0974, 0.0974, 0.0974, 0.0672, 0.0672, 0.0672, 0.0672, 0.0671, 0.0671, 0.0671, 0.0392, 0.0392, -0.4621, -2.4604, -0.929, -0.1483, -1.3875, -0.0142, -0.0142, -0.0142, -1.5702, -1.9176, -1.458, -0.0226, -1.84, -0.5033, -1.6183, -0.0226, -0.0226, -1.2876, -2.3381, -0.0226, 3.4664, 3.4664, 3.4664, 2.6372, 2.1704, 1.7119, 0.6389, 0.5386, 0.3618, 0.3618, 0.1725, 0.1725, 0.1523, 0.1523, 0.1522, 0.1522, 0.1522, 0.1522, 0.1522, 0.1522, 0.122, 0.122, 0.122, 0.122, 0.122, 0.1219, 0.1219, 0.094, 0.094, 0.094, -0.0935, 0.0407, 0.0407, 0.0407, -1.5153, -1.8628, -1.4032, -1.2917, 0.0322, -1.7852, -0.4485, -1.5635, 0.0322, 0.0322, -2.5018, -1.2328, -2.2833, 0.0322, -1.1818, -1.4846, 0.0322, -1.2323, 3.7584, 3.1263, 2.8157, 1.8882, 0.5972, 0.5972, 0.5972, 0.5372, 0.5372, 0.3479, 0.3479, 0.3276, 0.3276, 0.3276, 0.3276, 0.3275, 0.3275, 0.3275, 0.3275, 0.2973, 0.2973, 0.2973, 0.2973, 0.2973, 0.2973, 0.2973, 0.2693, 0.2693, 0.2693, 0.2693, 0.2596, 0.2587, 0.2389, 0.2568, 0.2345, 0.2292, 0.2224, 0.2568, 0.2195, 0.2564, 0.2546, 0.2109, 0.2539, 0.2525, -0.1971, -0.145, -1.133, -0.2287, -0.1451, -0.1496, -0.1506, -1.9468, -0.4467, -1.8764, -0.2588, -0.4842, -0.2671, -0.7967, -1.2269, -0.8162, -0.6482, -0.8488, -1.627, -1.4817, 1.0228, 0.9061, 0.9061, 0.9061, 0.846, 0.846, 0.6567, 0.6567, 0.6365, 0.6365, 0.6365, 0.6365, 0.6364, 0.6364, 0.6364, 0.6364, 0.6062, 0.6062, 0.6062, 0.6062, 0.6062, 0.6062, 0.6062, 0.5782, 0.5782, 0.5782, 0.5782, 0.5782, 0.578, 0.578, 0.5309, 0.5291, 0.5287, 0.5281, 0.524, 0.5238, 0.5204, 0.5203, 0.5203, 0.5194, 0.519, 0.5176, 0.516, 0.5148, 0.5145, 0.5138, 0.5129, 0.5125, 0.5123, 0.5111, 0.0822, -0.2125, -0.3889, 0.0642, 0.1345, -1.1153, -1.0526, -0.2318, 0.2441, -0.7977, -1.8461, -0.4992, -0.6486, -0.97, -0.6683, -0.6327, -0.2411, 0.0676, 0.0398, -0.7876, -0.6524, 0.0664, -1.3224, -0.6148, 1.0309, 0.9142, 0.9142, 0.9142, 0.8541, 0.8541, 0.6648, 0.6648, 0.6446, 0.6446, 0.6445, 0.6445, 0.6445, 0.6445, 0.6445, 0.6445, 0.6203, 0.6143, 0.6143, 0.6143, 0.6143, 0.6142, 0.6142, 0.6142, 0.5987, 0.5964, 0.5945, 0.5927, 0.5916, 0.5863, 0.5857, 0.5778, 0.1355, -0.1793, 0.1684, -0.5569, 0.1639, -0.2016, 0.0728, 0.1037, 0.0748, -0.2009, -0.1214, -0.1887, 0.0626, -0.8133, -0.6679, -0.2704, -0.9124, -0.6743, -1.2316, -0.9675, 0.085, 1.0337, 0.9171, 0.9171, 0.9171, 0.857, 0.857, 0.6677, 0.6677, 0.6474, 0.6474, 0.6474, 0.6474, 0.6474, 0.6473, 0.6473, 0.6473, 0.6171, 0.6171, 0.6171, 0.6171, 0.6171, 0.6171, 0.6171, 0.5891, 0.5891, 0.5891, 0.5891, 0.5891, 0.5889, 0.5889, 0.532, 0.5314, 0.5268, 0.5259, 0.5215, 0.52, 0.0718, 0.0646, -1.6873, -0.904, 0.1453, 0.1287, 0.1394, 0.138, -1.6615, 0.0347, 0.0217, 0.1129, -0.3419, -0.1921, -0.9455, -0.548, -0.5135, -0.5351, -1.3293, 0.4016, -0.8375, 1.0401, 0.9234, 0.9234, 0.9234, 0.8633, 0.8633, 0.674, 0.674, 0.6538, 0.6537, 0.6537, 0.6537, 0.6537, 0.6537, 0.6537, 0.6537, 0.6234, 0.6234, 0.6234, 0.6234, 0.6234, 0.6234, 0.6234, 0.5955, 0.5955, 0.5954, 0.5954, 0.5954, 0.5953, 0.5953, 0.0942, -1.9041, -0.3727, 0.408, -0.8312, 0.5421, 0.5421, 0.5421, -1.0139, -1.3613, -0.9017, -0.7903, 0.5337, -1.2837, 0.053, -1.062, 0.5337, 0.5337, -2.0003, -0.7313, -1.7818, 0.5337, -0.6803, -0.9831, 0.5337, -0.7308, -0.177, 1.0401, 0.9234, 0.9234, 0.9234, 0.8633, 0.8633, 0.674, 0.674, 0.6538, 0.6537, 0.6537, 0.6537, 0.6537, 0.6537, 0.6537, 0.6537, 0.6234, 0.6234, 0.6234, 0.6234, 0.6234, 0.6234, 0.6234, 0.5955, 0.5955, 0.5954, 0.5954, 0.5954, 0.5953, 0.5953, 0.0942, -1.9041, -0.3727, 0.408, -0.8312, 0.5421, 0.5421, 0.5421, -1.0139, -1.3613, -0.9017, -0.7903, 0.5337, -1.2837, 0.053, -1.062, 0.5337, 0.5337, -2.0003, -0.7313, -1.7818, 0.5337, -0.6803, -0.9831, 0.5337, -0.7308, -0.177, 1.0401, 0.9234, 0.9234, 0.9234, 0.8633, 0.8633, 0.674, 0.674, 0.6538, 0.6537, 0.6537, 0.6537, 0.6537, 0.6537, 0.6537, 0.6537, 0.6234, 0.6234, 0.6234, 0.6234, 0.6234, 0.6234, 0.6234, 0.5955, 0.5955, 0.5954, 0.5954, 0.5954, 0.5953, 0.5953, 0.0942, -1.9041, -0.3727, 0.408, -0.8312, 0.5421, 0.5421, 0.5421, -1.0139, -1.3613, -0.9017, -0.7903, 0.5337, -1.2837, 0.053, -1.062, 0.5337, 0.5337, -2.0003, -0.7313, -1.7818, 0.5337, -0.6803, -0.9831, 0.5337, -0.7308, -0.177]}, \"token.table\": {\"Topic\": [8, 3, 4, 1, 3, 3, 11, 1, 4, 1, 4, 7, 4, 9, 4, 1, 4, 7, 7, 6, 2, 5, 6, 9, 3, 8, 5, 6, 7, 7, 8, 5, 1, 2, 2, 3, 11, 3, 7, 11, 1, 1, 7, 1, 4, 5, 7, 4, 1, 4, 2, 1, 1, 4, 3, 6, 3, 11, 7, 7, 7, 1, 3, 7, 1, 2, 4, 5, 7, 8, 8, 5, 9, 10, 10, 1, 3, 1, 8, 1, 4, 9, 2, 6, 11, 5, 6, 10, 1, 3, 6, 10, 4, 1, 4, 1, 7, 8, 5, 3, 6, 1, 2, 5, 5, 5, 2, 1, 2, 3, 5, 6, 12, 4, 1, 1, 4, 3, 11, 3, 1, 2, 5, 7, 11, 1, 9, 4, 7, 8, 10, 5, 1, 2, 9, 2, 10, 6, 1, 4, 6, 7, 1, 4, 8, 1, 5, 2, 10, 7, 1, 8, 10, 6, 2, 11, 7, 10, 7, 1, 10, 7, 2, 8, 1, 1, 4, 9, 3, 2, 3, 7, 3, 2, 5, 11, 3, 8, 4, 7, 1, 2, 3, 6, 3, 9, 10, 1, 2, 9, 7, 8, 2, 8, 4, 3, 5, 1, 4, 8, 2, 3, 4, 6, 11, 3, 5, 6, 1, 9, 1, 9, 2, 9, 1, 8, 11, 2, 3, 10, 3, 4, 5, 6, 7, 3, 1, 1, 2, 8, 4, 2, 2, 6, 9, 11, 2, 4, 8, 2, 3, 6, 6, 2, 5, 6, 11, 10, 5, 9, 2, 7, 8, 4, 2, 9, 5, 2, 6, 11, 2, 3, 5, 6, 8, 9, 10, 11, 6, 7, 4, 2, 10, 6, 1, 4, 3, 5, 3, 11, 3, 9, 1, 5, 7, 11, 8, 1, 2, 3, 4, 5, 7, 9, 2, 6, 9, 4, 8, 11, 1, 4, 6, 7, 9, 3, 1, 4, 5, 7, 10, 6, 2, 3, 4, 5, 7, 8, 11, 1, 3, 4, 2, 8, 9, 3, 11, 7, 2, 5, 9, 1, 7, 8, 10, 2, 2, 5, 2, 4, 2, 5, 3], \"Freq\": [0.8243192057088561, 0.7470558677472916, 0.7828241640374656, 0.7365309925919381, 0.9147182144229502, 0.5086789909692347, 0.5086789909692347, 0.34195188703715795, 0.6839037740743159, 0.7368135041432798, 0.35563671840926697, 0.7112734368185339, 0.5095666305088717, 0.5095666305088717, 0.7829568455377457, 0.7369136595854504, 0.4884362730136635, 0.4884362730136635, 0.7931086065707988, 0.7771401268052428, 0.20624033303311134, 0.4124806660662227, 0.20624033303311134, 0.20624033303311134, 0.7472542959623525, 0.8244952390373309, 0.7750905174076309, 0.7023493544210735, 0.35117467721053675, 0.5050002070449936, 0.5050002070449936, 0.7750849349909563, 0.9006360212306203, 0.7441535133225302, 0.16135632566155828, 0.6454253026462331, 0.16135632566155828, 0.36594349649457397, 0.36594349649457397, 0.36594349649457397, 0.7369348749953113, 0.7365920184858211, 0.7924129139174899, 0.437742824796929, 0.2188714123984645, 0.2188714123984645, 0.2188714123984645, 0.7831173011888757, 0.6656256158828427, 0.3328128079414214, 0.7437483368608949, 0.7366064349922469, 0.736738479636532, 0.7816655922273104, 0.4685007166733292, 0.4685007166733292, 0.5087350456652064, 0.5087350456652064, 0.7931288079488961, 0.7930338279245718, 0.7924129139174899, 0.7367049163711453, 0.7467917396696331, 0.7930111600027911, 0.3777450586205047, 0.12591501954016823, 0.12591501954016823, 0.25183003908033647, 0.12591501954016823, 0.5175137168305348, 0.8243193142377472, 0.38082361899925266, 0.38082361899925266, 0.38082361899925266, 0.8739895629531156, 0.45417746133079073, 0.45417746133079073, 0.7366145368654764, 0.8243191333562778, 0.4671530579849203, 0.4671530579849203, 0.8478812431621044, 0.28115654788274647, 0.5623130957654929, 0.28115654788274647, 0.5666549231979672, 0.2833274615989836, 0.2833274615989836, 0.2367042914002919, 0.2367042914002919, 0.4734085828005838, 0.8739390946745211, 0.9678731147222054, 0.7367368082043422, 0.7829811207345031, 0.5582733708554523, 0.5049677432390669, 0.5049677432390669, 0.958575649989811, 0.34160659172301594, 0.6832131834460319, 0.3143261578048101, 0.4714892367072151, 0.3143261578048101, 0.7750848375345638, 0.7750849349909563, 0.7442062405769136, 0.18448409238171087, 0.30747348730285146, 0.06149469746057029, 0.30747348730285146, 0.12298939492114058, 0.06149469746057029, 0.7816656428449315, 0.7365590652040774, 0.3420095585880149, 0.6840191171760298, 0.5087609510932452, 0.5087609510932452, 0.7453494775267885, 0.22734849822083936, 0.22734849822083936, 0.22734849822083936, 0.22734849822083936, 0.22734849822083936, 0.36651128235503005, 0.36651128235503005, 0.48907266496657664, 0.48907266496657664, 0.5175740100623648, 0.8739072079488682, 0.7750901419749429, 0.7369715516567091, 0.49284156865667134, 0.49284156865667134, 0.5015195844180569, 0.5015195844180569, 0.7771650137988345, 0.4381212953735799, 0.21906064768678996, 0.21906064768678996, 0.21906064768678996, 0.7365724738581632, 0.7816656428449315, 0.8243191333562778, 0.9725137586505347, 0.7750919839124542, 0.7441827738738961, 0.8739052860931591, 0.7931239634028504, 0.736923986775106, 0.8244519417926769, 0.5572135175553218, 0.7771512313311479, 0.5071351028247669, 0.5071351028247669, 0.5232424001946678, 0.5232424001946678, 0.7930726277698353, 0.4980198859481902, 0.4980198859481902, 0.7924147865868496, 0.7442073490630681, 0.5175137168305348, 0.7365590465456727, 0.736736364293897, 0.5095233227083477, 0.5095233227083477, 0.7468768879022804, 0.7441560350512522, 0.7471974163662521, 0.7156610597945298, 0.9160907702602816, 0.36137432189169555, 0.36137432189169555, 0.36137432189169555, 0.4994402905071027, 0.8244479892768777, 0.7836166253532411, 0.7931755020080437, 0.5107324203091156, 0.2553662101545578, 0.2553662101545578, 0.7771487836595349, 0.9158101472243984, 0.8478706457917154, 0.8739705251271945, 0.7366774212913195, 0.49261154419865605, 0.49261154419865605, 0.5050798443824551, 0.5050798443824551, 0.7437483368608949, 0.824466395375678, 0.7830218318635521, 0.7831979176847992, 0.2610659725615997, 0.3497663101616154, 0.3497663101616154, 0.3497663101616154, 0.13541410789680805, 0.5416564315872322, 0.06770705394840403, 0.2031211618452121, 0.06770705394840403, 0.4375128908454712, 0.2187564454227356, 0.4375128908454712, 0.7959333693673504, 0.26531112312245014, 0.48975474723920537, 0.48975474723920537, 0.7437483690871275, 0.847880837421969, 0.7366386768834521, 0.543420297044735, 0.543420297044735, 0.9117100704949976, 0.5029482160685986, 0.5029482160685986, 0.16491504696872247, 0.32983009393744495, 0.32983009393744495, 0.16491504696872247, 0.16491504696872247, 0.7453494775267885, 0.7368176454790019, 0.7367168627247296, 0.3594262751324641, 0.3594262751324641, 0.96949701023939, 0.7441211008749202, 0.28989903018200536, 0.28989903018200536, 0.28989903018200536, 0.28989903018200536, 0.22659208171650863, 0.45318416343301726, 0.22659208171650863, 0.7441259629685548, 0.5302596774914464, 0.5302596774914464, 0.7771531400198085, 0.7812664728542144, 0.26042215761807147, 0.5224433618732238, 0.5224433618732238, 0.8739073295151517, 0.7750890541069583, 0.8478827012065688, 0.7441997316458119, 0.5050433932380503, 0.5050433932380503, 0.7816666551987285, 0.7441261659571092, 0.8478802797109004, 0.7750905220166837, 0.7818266325140572, 0.2606088775046857, 0.8918568466692139, 0.15302735432946307, 0.30605470865892614, 0.07651367716473154, 0.22954103149419464, 0.07651367716473154, 0.07651367716473154, 0.07651367716473154, 0.07651367716473154, 0.7771539447345377, 0.7930346234354777, 0.7830662625064037, 0.7437483368608949, 0.8739239089770288, 0.7771415945982652, 0.4670808821521773, 0.4670808821521773, 0.7453494775267885, 0.7750848375345638, 0.7453494775267885, 0.8918569038283592, 0.7453494775267885, 0.8478651936792992, 0.2302177330573978, 0.4604354661147956, 0.2302177330573978, 0.2302177330573978, 0.824497553127646, 0.11650783601479138, 0.34952350804437415, 0.11650783601479138, 0.11650783601479138, 0.23301567202958276, 0.11650783601479138, 0.11650783601479138, 0.8626505242426434, 0.7771429074478385, 0.6835172061518986, 0.3812013177835689, 0.3812013177835689, 0.3812013177835689, 0.1979731009910955, 0.1979731009910955, 0.1979731009910955, 0.1979731009910955, 0.1979731009910955, 0.7470353653982653, 0.9003193794110801, 0.7826447695918737, 0.3538262515410149, 0.7076525030820298, 0.8739408324717544, 0.9617228991746455, 0.17007262020391464, 0.17007262020391464, 0.17007262020391464, 0.17007262020391464, 0.17007262020391464, 0.17007262020391464, 0.17007262020391464, 0.36898405196357903, 0.18449202598178951, 0.36898405196357903, 0.5558532409174116, 0.2779266204587058, 0.2779266204587058, 0.6262533152441933, 0.3131266576220966, 0.7924129139174899, 0.743748272408438, 0.7750919097005545, 0.8478608208237427, 0.41162398978531156, 0.2744159931902077, 0.13720799659510385, 0.2744159931902077, 0.7441700868708316, 0.9117153768143194, 0.7750884091868164, 0.47002540594004527, 0.47002540594004527, 0.4672803142030065, 0.4672803142030065, 0.7453494775267885], \"Term\": [\"access\", \"account\", \"actual\", \"actually\", \"add\", \"additional\", \"additional\", \"agent\", \"agent\", \"along\", \"also\", \"also\", \"always\", \"always\", \"amazon\", \"amount\", \"answer\", \"answer\", \"app\", \"application\", \"apply\", \"apply\", \"apply\", \"apply\", \"area\", \"arm\", \"around\", \"ask\", \"ask\", \"authentication\", \"authentication\", \"automate\", \"available\", \"back\", \"bill\", \"bill\", \"bill\", \"bit\", \"bit\", \"bit\", \"bot\", \"bubble\", \"call\", \"care\", \"care\", \"care\", \"care\", \"certain\", \"chat\", \"chat\", \"check\", \"clearly\", \"close\", \"clunky\", \"confirmation\", \"confirmation\", \"continue\", \"continue\", \"convert\", \"copy\", \"correctly\", \"create\", \"cred\", \"credential\", \"customer\", \"customer\", \"customer\", \"customer\", \"customer\", \"d\", \"datum\", \"day\", \"day\", \"day\", \"desirable\", \"different\", \"different\", \"drop\", \"ease\", \"easily\", \"easily\", \"easy\", \"email\", \"email\", \"email\", \"end\", \"end\", \"end\", \"even\", \"even\", \"even\", \"eventually\", \"exactly\", \"example\", \"experience\", \"explain\", \"factor\", \"factor\", \"fail\", \"fee\", \"fee\", \"fill\", \"fill\", \"fill\", \"filling\", \"fine\", \"follow\", \"form\", \"form\", \"form\", \"form\", \"form\", \"form\", \"friendly\", \"frustrated\", \"function\", \"function\", \"fund\", \"fund\", \"gateway\", \"get\", \"get\", \"get\", \"get\", \"get\", \"go\", \"go\", \"good\", \"good\", \"government\", \"governmental\", \"guess\", \"guide\", \"half\", \"half\", \"happen\", \"happen\", \"hear\", \"help\", \"help\", \"help\", \"help\", \"hesitation\", \"hope\", \"i\", \"ideally\", \"identify\", \"immediately\", \"inaubible\", \"information\", \"instantly\", \"interact\", \"issue\", \"keep\", \"kind\", \"kind\", \"know\", \"know\", \"least\", \"leave\", \"leave\", \"lengthy\", \"let\", \"login\", \"long\", \"maybe\", \"mean\", \"mean\", \"meantime\", \"minute\", \"misconstrue\", \"mobile\", \"money\", \"month\", \"month\", \"month\", \"monthly\", \"mostly\", \"move\", \"native\", \"need\", \"need\", \"need\", \"never\", \"new\", \"office\", \"often\", \"one\", \"online\", \"online\", \"operate\", \"operate\", \"option\", \"other\", \"overall\", \"part\", \"part\", \"pause\", \"pause\", \"pause\", \"pay\", \"pay\", \"pay\", \"pay\", \"pay\", \"payment\", \"payment\", \"payment\", \"people\", \"people\", \"phone\", \"phone\", \"physical\", \"physically\", \"pop\", \"portal\", \"portal\", \"print\", \"problem\", \"problem\", \"process\", \"process\", \"process\", \"process\", \"process\", \"processing\", \"prompt\", \"proper\", \"provide\", \"provide\", \"question\", \"rather\", \"reach\", \"reach\", \"reach\", \"reach\", \"really\", \"really\", \"really\", \"reapply\", \"receive\", \"receive\", \"reminder\", \"reply\", \"reply\", \"require\", \"require\", \"resolve\", \"right\", \"rocket\", \"roughly\", \"safeguard\", \"safeguard\", \"satisfactory\", \"scan\", \"science\", \"second\", \"send\", \"send\", \"separate\", \"service\", \"service\", \"service\", \"service\", \"service\", \"service\", \"service\", \"service\", \"sir\", \"slow\", \"smooth\", \"solution\", \"sometimes\", \"spamme\", \"start\", \"start\", \"still\", \"straightforward\", \"stretch\", \"stupid\", \"successfully\", \"suggest\", \"support\", \"support\", \"support\", \"support\", \"sure\", \"take\", \"take\", \"take\", \"take\", \"take\", \"take\", \"take\", \"tell\", \"thank\", \"thing\", \"think\", \"think\", \"think\", \"time\", \"time\", \"time\", \"time\", \"time\", \"topping\", \"touchpoint\", \"trigger\", \"try\", \"try\", \"unfortunately\", \"update\", \"use\", \"use\", \"use\", \"use\", \"use\", \"use\", \"use\", \"user\", \"user\", \"user\", \"usually\", \"usually\", \"usually\", \"utility\", \"utility\", \"verify\", \"viable\", \"wait\", \"want\", \"website\", \"website\", \"website\", \"website\", \"week\", \"well\", \"whole\", \"work\", \"work\", \"wrong\", \"wrong\", \"yet\"]}, \"R\": 30, \"lambda.step\": 0.01, \"plot.opts\": {\"xlab\": \"PC1\", \"ylab\": \"PC2\"}, \"topic.order\": [8, 13, 18, 1, 12, 11, 2, 20, 3, 4, 10, 7, 9, 19, 6, 17, 16, 5, 14, 15]};\n",
       "\n",
       "function LDAvis_load_lib(url, callback){\n",
       "  var s = document.createElement('script');\n",
       "  s.src = url;\n",
       "  s.async = true;\n",
       "  s.onreadystatechange = s.onload = callback;\n",
       "  s.onerror = function(){console.warn(\"failed to load library \" + url);};\n",
       "  document.getElementsByTagName(\"head\")[0].appendChild(s);\n",
       "}\n",
       "\n",
       "if(typeof(LDAvis) !== \"undefined\"){\n",
       "   // already loaded: just create the visualization\n",
       "   !function(LDAvis){\n",
       "       new LDAvis(\"#\" + \"ldavis_el360901402603999632644564813800\", ldavis_el360901402603999632644564813800_data);\n",
       "   }(LDAvis);\n",
       "}else if(typeof define === \"function\" && define.amd){\n",
       "   // require.js is available: use it to load d3/LDAvis\n",
       "   require.config({paths: {d3: \"https://d3js.org/d3.v5\"}});\n",
       "   require([\"d3\"], function(d3){\n",
       "      window.d3 = d3;\n",
       "      LDAvis_load_lib(\"https://cdn.jsdelivr.net/gh/bmabey/pyLDAvis/pyLDAvis/js/ldavis.v3.0.0.js\", function(){\n",
       "        new LDAvis(\"#\" + \"ldavis_el360901402603999632644564813800\", ldavis_el360901402603999632644564813800_data);\n",
       "      });\n",
       "    });\n",
       "}else{\n",
       "    // require.js not available: dynamically load d3 & LDAvis\n",
       "    LDAvis_load_lib(\"https://d3js.org/d3.v5.js\", function(){\n",
       "         LDAvis_load_lib(\"https://cdn.jsdelivr.net/gh/bmabey/pyLDAvis/pyLDAvis/js/ldavis.v3.0.0.js\", function(){\n",
       "                 new LDAvis(\"#\" + \"ldavis_el360901402603999632644564813800\", ldavis_el360901402603999632644564813800_data);\n",
       "            })\n",
       "         });\n",
       "}\n",
       "</script>"
      ],
      "text/plain": [
       "PreparedData(topic_coordinates=              x         y  topics  cluster       Freq\n",
       "topic                                                \n",
       "7      0.124587  0.248463       1        1  14.190769\n",
       "12     0.075203 -0.258926       2        1  13.225017\n",
       "17    -0.236243 -0.165005       3        1  13.005321\n",
       "0     -0.179134  0.208092       4        1   9.403044\n",
       "11     0.198812 -0.161369       5        1   9.206415\n",
       "10     0.248654 -0.058286       6        1   8.701044\n",
       "1     -0.028214  0.250986       7        1   8.059655\n",
       "19    -0.118919 -0.206640       8        1   6.042852\n",
       "2     -0.215199  0.041988       9        1   4.884280\n",
       "3      0.192089  0.111816      10        1   4.267381\n",
       "9      0.013983 -0.159307      11        1   4.078253\n",
       "6      0.103504  0.010989      12        1   1.720199\n",
       "8     -0.095258 -0.011358      13        1   1.425383\n",
       "18    -0.056136  0.048563      14        1   0.893110\n",
       "5     -0.003993  0.017618      15        1   0.151686\n",
       "16    -0.004938  0.017089      16        1   0.151576\n",
       "15    -0.004931  0.015721      17        1   0.151513\n",
       "4     -0.004622  0.016522      18        1   0.147501\n",
       "13    -0.004622  0.016522      19        1   0.147501\n",
       "14    -0.004622  0.016522      20        1   0.147501, topic_info=        Term       Freq      Total Category  logprob  loglift\n",
       "21      form  16.000000  16.000000  Default  30.0000  30.0000\n",
       "2        pay  14.000000  14.000000  Default  29.0000  29.0000\n",
       "170  website   7.000000   7.000000  Default  28.0000  28.0000\n",
       "7       time   5.000000   5.000000  Default  27.0000  27.0000\n",
       "105     bill   6.000000   6.000000  Default  26.0000  26.0000\n",
       "..       ...        ...        ...      ...      ...      ...\n",
       "25   support   0.003245   4.343714  Topic20  -5.3706  -0.6803\n",
       "26       use   0.003245   5.879841  Topic20  -5.3706  -0.9831\n",
       "27    around   0.003245   1.290172  Topic20  -5.3706   0.5337\n",
       "28      care   0.003245   4.568893  Topic20  -5.3706  -0.7308\n",
       "29       day   0.003245   2.625888  Topic20  -5.3706  -0.1770\n",
       "\n",
       "[969 rows x 6 columns], token_table=      Topic      Freq      Term\n",
       "term                           \n",
       "196       8  0.824319    access\n",
       "112       3  0.747056   account\n",
       "202       4  0.782824    actual\n",
       "141       1  0.736531  actually\n",
       "104       3  0.914718       add\n",
       "...     ...       ...       ...\n",
       "80        2  0.470025      work\n",
       "80        4  0.470025      work\n",
       "42        2  0.467280     wrong\n",
       "42        5  0.467280     wrong\n",
       "111       3  0.745349       yet\n",
       "\n",
       "[343 rows x 3 columns], R=30, lambda_step=0.01, plot_opts={'xlab': 'PC1', 'ylab': 'PC2'}, topic_order=[8, 13, 18, 1, 12, 11, 2, 20, 3, 4, 10, 7, 9, 19, 6, 17, 16, 5, 14, 15])"
      ]
     },
     "execution_count": 19,
     "metadata": {},
     "output_type": "execute_result"
    }
   ],
   "source": [
    "# Visualize the topics\n",
    "pyLDAvis.enable_notebook()\n",
    "vis = pyLDAvis.gensim.prepare(lda_model, corpus, dictionary=lda_model.id2word, mds='mmds')   \n",
    "vis"
   ]
  },
  {
   "cell_type": "code",
   "execution_count": 21,
   "id": "42cbf4a8",
   "metadata": {},
   "outputs": [],
   "source": [
    "pyLDAvis.save_html(vis, 'lda.html')"
   ]
  },
  {
   "cell_type": "markdown",
   "id": "0e119b63",
   "metadata": {},
   "source": [
    "# PPT02"
   ]
  },
  {
   "cell_type": "code",
   "execution_count": 22,
   "id": "e56439ed",
   "metadata": {},
   "outputs": [],
   "source": [
    "PPT02 = pd.read_csv('PPT02.csv')\n",
    "PPT02 = PPT02.loc[PPT02['Person'] != 'Interviewer']"
   ]
  },
  {
   "cell_type": "code",
   "execution_count": 23,
   "id": "462f32a7",
   "metadata": {},
   "outputs": [
    {
     "name": "stdout",
     "output_type": "stream",
     "text": [
      "[['to', 'pay', 'my', 'bills', 'and', 'to', 'get', 'an', 'estimate', 'of', 'my', 'upcoming', 'bills', 'so', 'that', 'can', 'put', 'in', 'the', 'inaudible', 'meter', 'readings', 'and', 'get', 'an', 'estimate', 'of', 'my', 'monthly', 'bills', 'that', 'and', 'to', 'check', 'whether', 'there', 'are', 'any', 'interruptions', 'in', 'the', 'services']]\n"
     ]
    }
   ],
   "source": [
    "#tokenize words and clean text\n",
    "def sent_to_words(sentences):\n",
    "    for sentence in sentences:\n",
    "        yield(gensim.utils.simple_preprocess(str(sentence), deacc=True))  # deacc=True removes punctuations\n",
    "\n",
    "data_words = list(sent_to_words(PPT02['Question/Answer']))\n",
    "\n",
    "print(data_words[:1])"
   ]
  },
  {
   "cell_type": "code",
   "execution_count": 24,
   "id": "160d7caf",
   "metadata": {},
   "outputs": [
    {
     "name": "stdout",
     "output_type": "stream",
     "text": [
      "['to', 'pay', 'my', 'bills', 'and', 'to', 'get', 'an', 'estimate', 'of', 'my', 'upcoming', 'bills', 'so', 'that', 'can', 'put', 'in', 'the', 'inaudible', 'meter', 'readings', 'and', 'get', 'an', 'estimate', 'of', 'my', 'monthly', 'bills', 'that', 'and', 'to', 'check', 'whether', 'there', 'are', 'any', 'interruptions', 'in', 'the', 'services']\n"
     ]
    }
   ],
   "source": [
    "# Build the bigram and trigram models\n",
    "bigram = gensim.models.Phrases(data_words, min_count=5, threshold=100) # higher threshold fewer phrases.\n",
    "trigram = gensim.models.Phrases(bigram[data_words], threshold=100)  \n",
    "\n",
    "# Faster way to get a sentence clubbed as a trigram/bigram\n",
    "bigram_mod = gensim.models.phrases.Phraser(bigram)\n",
    "trigram_mod = gensim.models.phrases.Phraser(trigram)\n",
    "\n",
    "# See trigram example\n",
    "print(trigram_mod[bigram_mod[data_words[0]]])"
   ]
  },
  {
   "cell_type": "code",
   "execution_count": 25,
   "id": "563d21e9",
   "metadata": {},
   "outputs": [],
   "source": [
    "# Define functions for stopwords, bigrams, trigrams and lemmatization\n",
    "def remove_stopwords(texts):\n",
    "    return [[word for word in simple_preprocess(str(doc)) if word not in stop_words] for doc in texts]\n",
    "\n",
    "def make_bigrams(texts):\n",
    "    return [bigram_mod[doc] for doc in texts]\n",
    "\n",
    "def make_trigrams(texts):\n",
    "    return [trigram_mod[bigram_mod[doc]] for doc in texts]\n",
    "\n",
    "def lemmatization(texts, allowed_postags=['NOUN', 'ADJ', 'VERB', 'ADV']):\n",
    "    \"\"\"https://spacy.io/api/annotation\"\"\"\n",
    "    texts_out = []\n",
    "    for sent in texts:\n",
    "        doc = nlp(\" \".join(sent)) \n",
    "        texts_out.append([token.lemma_ for token in doc if token.pos_ in allowed_postags])\n",
    "    return texts_out"
   ]
  },
  {
   "cell_type": "code",
   "execution_count": 26,
   "id": "c14471ef",
   "metadata": {},
   "outputs": [
    {
     "name": "stdout",
     "output_type": "stream",
     "text": [
      "[['pay', 'bill', 'get', 'estimate', 'upcoming', 'bill', 'put', 'inaudible', 'meter', 'reading', 'get', 'estimate', 'monthly', 'bill', 'check', 'interruption', 'service']]\n"
     ]
    }
   ],
   "source": [
    "# Remove Stop Words\n",
    "data_words_nostops = remove_stopwords(data_words)\n",
    "\n",
    "# Form Bigrams\n",
    "data_words_bigrams = make_bigrams(data_words_nostops)\n",
    "\n",
    "# Initialize spacy 'en' model, keeping only tagger component (for efficiency)\n",
    "# python3 -m spacy download en\n",
    "nlp = spacy.load('en_core_web_sm', disable=['parser', 'ner'])\n",
    "\n",
    "# Do lemmatization keeping only noun, adj, vb, adv\n",
    "data_lemmatized = lemmatization(data_words_bigrams, allowed_postags=['NOUN', 'ADJ', 'VERB', 'ADV'])\n",
    "\n",
    "print(data_lemmatized[:1])"
   ]
  },
  {
   "cell_type": "code",
   "execution_count": 27,
   "id": "57d223e7",
   "metadata": {},
   "outputs": [
    {
     "name": "stdout",
     "output_type": "stream",
     "text": [
      "[[(0, 3), (1, 1), (2, 2), (3, 2), (4, 1), (5, 1), (6, 1), (7, 1), (8, 1), (9, 1), (10, 1), (11, 1), (12, 1)]]\n"
     ]
    }
   ],
   "source": [
    "# Create Dictionary\n",
    "id2word = corpora.Dictionary(data_lemmatized)\n",
    "\n",
    "# Create Corpus\n",
    "texts = data_lemmatized\n",
    "\n",
    "# Term Document Frequency\n",
    "corpus = [id2word.doc2bow(text) for text in texts]\n",
    "\n",
    "# View\n",
    "print(corpus[:1])"
   ]
  },
  {
   "cell_type": "code",
   "execution_count": 28,
   "id": "ba7d4ae8",
   "metadata": {},
   "outputs": [
    {
     "data": {
      "text/plain": [
       "'bill'"
      ]
     },
     "execution_count": 28,
     "metadata": {},
     "output_type": "execute_result"
    }
   ],
   "source": [
    "id2word[0]"
   ]
  },
  {
   "cell_type": "code",
   "execution_count": 29,
   "id": "0f085449",
   "metadata": {},
   "outputs": [
    {
     "data": {
      "text/plain": [
       "[[('bill', 3),\n",
       "  ('check', 1),\n",
       "  ('estimate', 2),\n",
       "  ('get', 2),\n",
       "  ('inaudible', 1),\n",
       "  ('interruption', 1),\n",
       "  ('meter', 1),\n",
       "  ('monthly', 1),\n",
       "  ('pay', 1),\n",
       "  ('put', 1),\n",
       "  ('reading', 1),\n",
       "  ('service', 1),\n",
       "  ('upcoming', 1)]]"
      ]
     },
     "execution_count": 29,
     "metadata": {},
     "output_type": "execute_result"
    }
   ],
   "source": [
    "[[(id2word[id], freq) for id, freq in cp] for cp in corpus[:1]]"
   ]
  },
  {
   "cell_type": "code",
   "execution_count": 30,
   "id": "89f06f42",
   "metadata": {},
   "outputs": [],
   "source": [
    "lda_model = gensim.models.ldamodel.LdaModel(corpus=corpus,\n",
    "                                           id2word=id2word,\n",
    "                                           num_topics=20, \n",
    "                                           random_state=100,\n",
    "                                           update_every=1,\n",
    "                                           chunksize=100,\n",
    "                                           passes=10,\n",
    "                                           alpha='auto',\n",
    "                                           per_word_topics=True)"
   ]
  },
  {
   "cell_type": "code",
   "execution_count": 31,
   "id": "5015e01b",
   "metadata": {},
   "outputs": [
    {
     "name": "stdout",
     "output_type": "stream",
     "text": [
      "[(0,\n",
      "  '0.082*\"definitely\" + 0.082*\"bill\" + 0.042*\"respect\" + 0.042*\"provider\" + '\n",
      "  '0.042*\"think\" + 0.042*\"facility\" + 0.042*\"choose\" + 0.042*\"kinda\" + '\n",
      "  '0.042*\"payment\" + 0.042*\"point\"'),\n",
      " (1,\n",
      "  '0.052*\"customer\" + 0.039*\"account\" + 0.026*\"number\" + 0.026*\"quite\" + '\n",
      "  '0.026*\"login\" + 0.026*\"really\" + 0.026*\"advise\" + 0.026*\"know\" + '\n",
      "  '0.026*\"say\" + 0.026*\"call\"'),\n",
      " (2,\n",
      "  '0.006*\"least\" + 0.006*\"phonecall\" + 0.006*\"acknowledge\" + 0.006*\"come\" + '\n",
      "  '0.006*\"expect\" + 0.006*\"good\" + 0.006*\"government\" + 0.006*\"happen\" + '\n",
      "  '0.006*\"inform\" + 0.006*\"installation\"'),\n",
      " (3,\n",
      "  '0.006*\"least\" + 0.006*\"phonecall\" + 0.006*\"acknowledge\" + 0.006*\"come\" + '\n",
      "  '0.006*\"expect\" + 0.006*\"good\" + 0.006*\"government\" + 0.006*\"happen\" + '\n",
      "  '0.006*\"inform\" + 0.006*\"installation\"'),\n",
      " (4,\n",
      "  '0.006*\"least\" + 0.006*\"phonecall\" + 0.006*\"acknowledge\" + 0.006*\"come\" + '\n",
      "  '0.006*\"expect\" + 0.006*\"good\" + 0.006*\"government\" + 0.006*\"happen\" + '\n",
      "  '0.006*\"inform\" + 0.006*\"installation\"'),\n",
      " (5,\n",
      "  '0.085*\"say\" + 0.085*\"long\" + 0.085*\"mean\" + 0.044*\"ideally\" + 0.044*\"think\" '\n",
      "  '+ 0.044*\"month\" + 0.044*\"meter\" + 0.044*\"slightly\" + 0.044*\"take\" + '\n",
      "  '0.044*\"install\"'),\n",
      " (6,\n",
      "  '0.095*\"month\" + 0.095*\"think\" + 0.005*\"happen\" + 0.005*\"installation\" + '\n",
      "  '0.005*\"inform\" + 0.005*\"least\" + 0.005*\"come\" + 0.005*\"expect\" + '\n",
      "  '0.005*\"phonecall\" + 0.005*\"good\"'),\n",
      " (7,\n",
      "  '0.006*\"bill\" + 0.006*\"estimate\" + 0.006*\"get\" + 0.006*\"upcoming\" + '\n",
      "  '0.006*\"put\" + 0.006*\"service\" + 0.006*\"interruption\" + 0.006*\"inaudible\" + '\n",
      "  '0.006*\"pay\" + 0.006*\"monthly\"'),\n",
      " (8,\n",
      "  '0.052*\"form\" + 0.051*\"inaudible\" + 0.051*\"fill\" + 0.051*\"think\" + '\n",
      "  '0.026*\"online\" + 0.026*\"definitely\" + 0.026*\"manually\" + 0.026*\"anyway\" + '\n",
      "  '0.026*\"knowledge\" + 0.026*\"arm\"'),\n",
      " (9,\n",
      "  '0.080*\"service\" + 0.048*\"still\" + 0.048*\"internet\" + 0.048*\"go\" + '\n",
      "  '0.048*\"mobile\" + 0.048*\"provide\" + 0.033*\"connect\" + 0.033*\"install\" + '\n",
      "  '0.033*\"inaudible\" + 0.033*\"actually\"'),\n",
      " (10,\n",
      "  '0.113*\"meter\" + 0.076*\"actually\" + 0.039*\"make\" + 0.039*\"guy\" + '\n",
      "  '0.039*\"bill\" + 0.039*\"definitely\" + 0.039*\"easy\" + 0.039*\"reading\" + '\n",
      "  '0.039*\"much\" + 0.039*\"estimate\"'),\n",
      " (11,\n",
      "  '0.060*\"login\" + 0.060*\"account\" + 0.060*\"think\" + 0.040*\"actually\" + '\n",
      "  '0.040*\"roughly\" + 0.040*\"month\" + 0.040*\"take\" + 0.040*\"get\" + 0.040*\"open\" '\n",
      "  '+ 0.021*\"find\"'),\n",
      " (12,\n",
      "  '0.117*\"bill\" + 0.079*\"get\" + 0.079*\"estimate\" + 0.040*\"check\" + '\n",
      "  '0.040*\"meter\" + 0.040*\"reading\" + 0.040*\"monthly\" + 0.040*\"pay\" + '\n",
      "  '0.040*\"inaudible\" + 0.040*\"interruption\"'),\n",
      " (13,\n",
      "  '0.100*\"form\" + 0.045*\"fill\" + 0.035*\"obviously\" + 0.035*\"service\" + '\n",
      "  '0.034*\"send\" + 0.034*\"download\" + 0.023*\"take\" + 0.023*\"email\" + '\n",
      "  '0.023*\"offer\" + 0.023*\"online\"'),\n",
      " (14,\n",
      "  '0.006*\"least\" + 0.006*\"phonecall\" + 0.006*\"acknowledge\" + 0.006*\"come\" + '\n",
      "  '0.006*\"expect\" + 0.006*\"good\" + 0.006*\"government\" + 0.006*\"happen\" + '\n",
      "  '0.006*\"inform\" + 0.006*\"installation\"'),\n",
      " (15,\n",
      "  '0.053*\"form\" + 0.052*\"fill\" + 0.052*\"print\" + 0.052*\"online\" + '\n",
      "  '0.052*\"encounter\" + 0.052*\"far\" + 0.052*\"definitely\" + 0.052*\"ideally\" + '\n",
      "  '0.052*\"issue\" + 0.052*\"website\"'),\n",
      " (16,\n",
      "  '0.145*\"service\" + 0.097*\"government\" + 0.050*\"definitely\" + '\n",
      "  '0.050*\"smoother\" + 0.050*\"tend\" + 0.050*\"come\" + 0.050*\"think\" + '\n",
      "  '0.050*\"entity\" + 0.050*\"usually\" + 0.002*\"form\"'),\n",
      " (17,\n",
      "  '0.046*\"come\" + 0.046*\"inform\" + 0.046*\"call\" + 0.031*\"mean\" + 0.031*\"time\" '\n",
      "  '+ 0.031*\"meter\" + 0.031*\"install\" + 0.031*\"expect\" + 0.031*\"inaudible\" + '\n",
      "  '0.031*\"know\"'),\n",
      " (18,\n",
      "  '0.006*\"think\" + 0.006*\"d\" + 0.006*\"partly\" + 0.006*\"fault\" + '\n",
      "  '0.006*\"different\" + 0.006*\"remember\" + 0.006*\"use\" + 0.006*\"credential\" + '\n",
      "  '0.006*\"suppose\" + 0.006*\"customer\"'),\n",
      " (19,\n",
      "  '0.070*\"initially\" + 0.070*\"pay\" + 0.070*\"bill\" + 0.070*\"fill\" + '\n",
      "  '0.070*\"form\" + 0.070*\"find\" + 0.003*\"happen\" + 0.003*\"installation\" + '\n",
      "  '0.003*\"phonecall\" + 0.003*\"inform\"')]\n"
     ]
    }
   ],
   "source": [
    "# Print the Keyword in the 10 topics\n",
    "pprint(lda_model.print_topics())\n",
    "doc_lda = lda_model[corpus]"
   ]
  },
  {
   "cell_type": "code",
   "execution_count": 32,
   "id": "e9b54804",
   "metadata": {},
   "outputs": [
    {
     "name": "stdout",
     "output_type": "stream",
     "text": [
      "\n",
      "Perplexity:  -5.7116120012684\n",
      "\n",
      "Coherence Score:  0.5775797967788939\n"
     ]
    }
   ],
   "source": [
    "# Compute Perplexity\n",
    "print('\\nPerplexity: ', lda_model.log_perplexity(corpus))  # a measure of how good the model is. lower the better.\n",
    "\n",
    "# Compute Coherence Score\n",
    "coherence_model_lda = CoherenceModel(model=lda_model, texts=data_lemmatized, dictionary=id2word, coherence='c_v')\n",
    "coherence_lda = coherence_model_lda.get_coherence()\n",
    "print('\\nCoherence Score: ', coherence_lda)"
   ]
  },
  {
   "cell_type": "code",
   "execution_count": 33,
   "id": "62f31816",
   "metadata": {},
   "outputs": [
    {
     "data": {
      "text/html": [
       "\n",
       "<link rel=\"stylesheet\" type=\"text/css\" href=\"https://cdn.jsdelivr.net/gh/bmabey/pyLDAvis/pyLDAvis/js/ldavis.v1.0.0.css\">\n",
       "\n",
       "\n",
       "<div id=\"ldavis_el360901402609141568167358423599\"></div>\n",
       "<script type=\"text/javascript\">\n",
       "\n",
       "var ldavis_el360901402609141568167358423599_data = {\"mdsDat\": {\"x\": [0.15741861126832754, 0.0014722816524961255, -0.25746858800144595, -0.1997988225819324, 0.1830521091956787, 0.21758231584686635, -0.06406314723395527, -0.1376411823144856, -0.18074038157835987, 0.1689559304393315, 0.14685924815396967, 0.05349593738874001, -0.08248965233594135, 0.03075570277991979, -0.005803777722861497, -0.006660555551486791, -0.00623150722170133, -0.00623150813015464, -0.006231507150817132, -0.006231506902187634], \"y\": [0.23531520466265807, -0.2804072448558727, -0.11631491318961383, 0.2147874094122515, -0.1913170457296763, -0.07755717398116616, 0.1936456474178474, -0.15403075244343922, 0.04230091490721853, 0.0892130238799417, 0.00425012965432075, 0.14154436056679462, -0.01452060409170637, -0.021363267011769705, -0.011076882029805033, -0.010986544181259826, -0.010870567088887395, -0.01087055969682138, -0.010870567355019201, -0.010870568845995496], \"topics\": [1, 2, 3, 4, 5, 6, 7, 8, 9, 10, 11, 12, 13, 14, 15, 16, 17, 18, 19, 20], \"cluster\": [1, 1, 1, 1, 1, 1, 1, 1, 1, 1, 1, 1, 1, 1, 1, 1, 1, 1, 1, 1], \"Freq\": [18.681467382615292, 15.964320785802885, 13.255681029745084, 12.492297134408686, 9.598212204922275, 7.003990417578415, 4.161691388305587, 3.9304075044983455, 3.6993065564704017, 3.362359251635336, 2.7796048265552225, 2.4441397303672976, 1.393228276698502, 0.49029356734727164, 0.1267130024883905, 0.12664837902463938, 0.1224096403840925, 0.1224096403840925, 0.1224096403840925, 0.1224096403840925]}, \"tinfo\": {\"Term\": [\"form\", \"service\", \"think\", \"fill\", \"bill\", \"meter\", \"month\", \"mean\", \"actually\", \"definitely\", \"account\", \"come\", \"say\", \"get\", \"online\", \"inaudible\", \"login\", \"go\", \"install\", \"take\", \"call\", \"customer\", \"government\", \"pay\", \"website\", \"provide\", \"print\", \"find\", \"long\", \"payment\", \"download\", \"picture\", \"send\", \"form\", \"year\", \"physically\", \"aware\", \"office\", \"datum\", \"solution\", \"smooth\", \"telephone\", \"arise\", \"maybe\", \"able\", \"protection\", \"sure\", \"sign\", \"new\", \"proof\", \"upload\", \"electricity\", \"together\", \"generally\", \"water\", \"print\", \"email\", \"offer\", \"well\", \"fill\", \"obviously\", \"payment\", \"arm\", \"go\", \"online\", \"service\", \"take\", \"actually\", \"website\", \"ago\", \"house\", \"definitely\", \"far\", \"number\", \"advise\", \"figure\", \"care\", \"scale\", \"helpful\", \"grant\", \"recall\", \"sometime\", \"honest\", \"end\", \"reception\", \"mother\", \"gon\", \"experience\", \"certain\", \"do\", \"helpfulness\", \"rating\", \"rude\", \"kind\", \"really\", \"tell\", \"support\", \"customer\", \"say\", \"kinda\", \"quite\", \"know\", \"d\", \"account\", \"login\", \"call\", \"mean\", \"apply\", \"well\", \"service\", \"time\", \"first\", \"roughly\", \"inform\", \"expect\", \"today\", \"round\", \"available\", \"give\", \"uhm\", \"specify\", \"timeframe\", \"phonecall\", \"installation\", \"happen\", \"acknowledge\", \"receipt\", \"receive\", \"least\", \"week\", \"time\", \"call\", \"come\", \"know\", \"instal\", \"submeter\", \"good\", \"ask\", \"first\", \"install\", \"government\", \"long\", \"anyway\", \"mean\", \"inaudible\", \"meter\", \"actually\", \"quite\", \"tell\", \"day\", \"still\", \"internet\", \"mobile\", \"connect\", \"provide\", \"thing\", \"example\", \"bundle\", \"melita\", \"sort\", \"temporarily\", \"course\", \"actual\", \"similar\", \"go\", \"respect\", \"provider\", \"good\", \"submeter\", \"house\", \"term\", \"install\", \"service\", \"find\", \"knowledge\", \"day\", \"offer\", \"inaudible\", \"quite\", \"actually\", \"online\", \"meter\", \"arm\", \"come\", \"obviously\", \"open\", \"back\", \"eventually\", \"pretty\", \"straightforward\", \"try\", \"roughly\", \"login\", \"initially\", \"month\", \"way\", \"get\", \"instal\", \"account\", \"i\", \"create\", \"manage\", \"think\", \"find\", \"knowledge\", \"take\", \"website\", \"payment\", \"actually\", \"send\", \"arm\", \"obviously\", \"meter\", \"fill\", \"form\", \"apart\", \"perspective\", \"suppose\", \"use\", \"remember\", \"different\", \"fault\", \"partly\", \"make\", \"way\", \"credential\", \"d\", \"manually\", \"easy\", \"knowledge\", \"pay\", \"anyway\", \"think\", \"inaudible\", \"fill\", \"provide\", \"arm\", \"online\", \"definitely\", \"form\", \"account\", \"customer\", \"ok\", \"encounter\", \"week\", \"least\", \"receive\", \"round\", \"today\", \"actually\", \"guy\", \"input\", \"read\", \"reading\", \"make\", \"much\", \"estimate\", \"meter\", \"easy\", \"actually\", \"get\", \"bill\", \"online\", \"come\", \"definitely\", \"ok\", \"encounter\", \"entity\", \"usually\", \"smoother\", \"tend\", \"slightly\", \"choose\", \"facility\", \"point\", \"upcoming\", \"put\", \"interruption\", \"monthly\", \"check\", \"inaudible\", \"pay\", \"service\", \"month\", \"think\", \"far\", \"mean\", \"say\", \"website\", \"check\", \"monthly\", \"interruption\", \"put\", \"upcoming\", \"estimate\", \"bill\", \"reading\", \"get\", \"pay\", \"inaudible\", \"meter\", \"service\", \"ok\", \"encounter\", \"entity\", \"usually\", \"smoother\", \"tend\", \"slightly\", \"choose\", \"facility\", \"point\", \"guy\", \"input\", \"read\", \"partly\", \"fault\", \"different\", \"remember\", \"month\", \"think\", \"far\", \"mean\", \"say\", \"website\", \"issue\", \"apply\", \"arm\", \"customer\", \"download\", \"electricity\", \"email\", \"fill\", \"form\", \"choose\", \"facility\", \"point\", \"provider\", \"respect\", \"kinda\", \"bill\", \"definitely\", \"really\", \"pay\", \"payment\", \"mean\", \"think\", \"service\", \"ok\", \"encounter\", \"entity\", \"usually\", \"smoother\", \"tend\", \"slightly\", \"upcoming\", \"put\", \"interruption\", \"monthly\", \"check\", \"guy\", \"input\", \"read\", \"partly\", \"estimate\", \"get\", \"inaudible\", \"meter\", \"reading\", \"month\", \"far\", \"say\", \"website\", \"issue\", \"slightly\", \"long\", \"ideally\", \"say\", \"far\", \"mean\", \"website\", \"month\", \"install\", \"take\", \"think\", \"meter\", \"ok\", \"encounter\", \"entity\", \"usually\", \"smoother\", \"tend\", \"choose\", \"facility\", \"point\", \"upcoming\", \"put\", \"interruption\", \"monthly\", \"check\", \"guy\", \"input\", \"read\", \"partly\", \"bill\", \"estimate\", \"get\", \"inaudible\", \"pay\", \"reading\", \"service\", \"issue\", \"apply\", \"arm\", \"customer\", \"smoother\", \"tend\", \"entity\", \"usually\", \"government\", \"service\", \"come\", \"definitely\", \"think\", \"ok\", \"encounter\", \"slightly\", \"choose\", \"facility\", \"point\", \"upcoming\", \"put\", \"interruption\", \"monthly\", \"check\", \"guy\", \"input\", \"read\", \"partly\", \"fault\", \"different\", \"remember\", \"use\", \"suppose\", \"perspective\", \"able\", \"sign\", \"sure\", \"protection\", \"arise\", \"physically\", \"datum\", \"maybe\", \"telephone\", \"smooth\", \"office\", \"solution\", \"aware\", \"year\", \"form\", \"offer\", \"much\", \"obviously\", \"online\", \"fill\", \"go\", \"print\", \"well\", \"arm\", \"term\", \"easy\", \"encounter\", \"ok\", \"ideally\", \"issue\", \"far\", \"print\", \"website\", \"online\", \"definitely\", \"fill\", \"form\", \"entity\", \"usually\", \"smoother\", \"tend\", \"slightly\", \"choose\", \"facility\", \"point\", \"upcoming\", \"put\", \"interruption\", \"monthly\", \"check\", \"guy\", \"input\", \"read\", \"partly\", \"fault\", \"different\", \"water\", \"generally\", \"together\", \"electricity\", \"upload\", \"proof\", \"new\", \"download\", \"email\", \"send\", \"payment\", \"manually\", \"need\", \"picture\", \"well\", \"apply\", \"support\", \"take\", \"arm\", \"obviously\", \"initially\", \"find\", \"pay\", \"bill\", \"fill\", \"form\", \"ok\", \"encounter\", \"entity\", \"usually\", \"smoother\", \"tend\", \"slightly\", \"choose\", \"facility\", \"point\", \"upcoming\", \"put\", \"interruption\", \"monthly\", \"check\", \"guy\", \"input\", \"read\", \"partly\", \"fault\", \"different\", \"remember\", \"use\", \"suppose\", \"estimate\", \"get\", \"inaudible\", \"meter\", \"reading\", \"service\", \"month\", \"think\", \"far\", \"mean\", \"say\", \"website\", \"issue\", \"apply\", \"arm\", \"customer\", \"download\", \"month\", \"think\", \"ok\", \"encounter\", \"entity\", \"usually\", \"smoother\", \"tend\", \"slightly\", \"choose\", \"facility\", \"point\", \"upcoming\", \"put\", \"interruption\", \"monthly\", \"check\", \"guy\", \"input\", \"read\", \"partly\", \"fault\", \"different\", \"remember\", \"use\", \"suppose\", \"perspective\", \"apart\", \"back\", \"eventually\", \"bill\", \"estimate\", \"get\", \"inaudible\", \"meter\", \"pay\", \"reading\", \"service\", \"far\", \"mean\", \"say\", \"website\", \"issue\", \"apply\", \"arm\", \"customer\", \"download\", \"electricity\", \"email\", \"fill\", \"form\", \"ok\", \"encounter\", \"entity\", \"usually\", \"smoother\", \"tend\", \"slightly\", \"choose\", \"facility\", \"point\", \"upcoming\", \"put\", \"interruption\", \"monthly\", \"check\", \"guy\", \"input\", \"read\", \"partly\", \"fault\", \"different\", \"remember\", \"use\", \"suppose\", \"perspective\", \"apart\", \"back\", \"eventually\", \"pretty\", \"straightforward\", \"d\", \"make\", \"way\", \"credential\", \"think\", \"easy\", \"pay\", \"provide\", \"arm\", \"customer\", \"account\", \"bill\", \"estimate\", \"get\", \"inaudible\", \"meter\", \"reading\", \"service\", \"ok\", \"encounter\", \"entity\", \"usually\", \"smoother\", \"tend\", \"upcoming\", \"put\", \"interruption\", \"slightly\", \"monthly\", \"check\", \"choose\", \"facility\", \"point\", \"guy\", \"input\", \"read\", \"partly\", \"fault\", \"different\", \"remember\", \"use\", \"suppose\", \"perspective\", \"apart\", \"back\", \"eventually\", \"pretty\", \"straightforward\", \"estimate\", \"bill\", \"reading\", \"get\", \"pay\", \"inaudible\", \"service\", \"meter\", \"month\", \"think\", \"far\", \"mean\", \"say\", \"website\", \"issue\", \"apply\", \"arm\", \"customer\", \"download\", \"electricity\", \"email\", \"fill\", \"form\", \"ok\", \"encounter\", \"entity\", \"usually\", \"smoother\", \"tend\", \"slightly\", \"choose\", \"facility\", \"point\", \"upcoming\", \"put\", \"interruption\", \"monthly\", \"check\", \"guy\", \"input\", \"read\", \"partly\", \"fault\", \"different\", \"remember\", \"use\", \"suppose\", \"perspective\", \"apart\", \"back\", \"eventually\", \"pretty\", \"straightforward\", \"bill\", \"estimate\", \"get\", \"inaudible\", \"meter\", \"pay\", \"reading\", \"service\", \"month\", \"think\", \"far\", \"mean\", \"say\", \"website\", \"issue\", \"apply\", \"arm\", \"customer\", \"download\", \"electricity\", \"email\", \"fill\", \"form\", \"ok\", \"encounter\", \"entity\", \"usually\", \"smoother\", \"tend\", \"slightly\", \"choose\", \"facility\", \"point\", \"upcoming\", \"put\", \"interruption\", \"monthly\", \"check\", \"guy\", \"input\", \"read\", \"partly\", \"fault\", \"different\", \"remember\", \"use\", \"suppose\", \"perspective\", \"apart\", \"back\", \"eventually\", \"pretty\", \"straightforward\", \"bill\", \"estimate\", \"get\", \"inaudible\", \"meter\", \"pay\", \"reading\", \"service\", \"month\", \"think\", \"far\", \"mean\", \"say\", \"website\", \"issue\", \"apply\", \"arm\", \"customer\", \"download\", \"electricity\", \"email\", \"fill\", \"form\", \"ok\", \"encounter\", \"entity\", \"usually\", \"smoother\", \"tend\", \"slightly\", \"choose\", \"facility\", \"point\", \"upcoming\", \"put\", \"interruption\", \"monthly\", \"check\", \"guy\", \"input\", \"read\", \"partly\", \"fault\", \"different\", \"remember\", \"use\", \"suppose\", \"perspective\", \"apart\", \"back\", \"eventually\", \"pretty\", \"straightforward\", \"bill\", \"estimate\", \"get\", \"inaudible\", \"meter\", \"pay\", \"reading\", \"service\", \"month\", \"think\", \"far\", \"mean\", \"say\", \"website\", \"issue\", \"apply\", \"arm\", \"customer\", \"download\", \"electricity\", \"email\", \"fill\", \"form\", \"ok\", \"encounter\", \"entity\", \"usually\", \"smoother\", \"tend\", \"slightly\", \"choose\", \"facility\", \"point\", \"upcoming\", \"put\", \"interruption\", \"monthly\", \"check\", \"guy\", \"input\", \"read\", \"partly\", \"fault\", \"different\", \"remember\", \"use\", \"suppose\", \"perspective\", \"apart\", \"back\", \"eventually\", \"pretty\", \"straightforward\", \"bill\", \"estimate\", \"get\", \"inaudible\", \"meter\", \"pay\", \"reading\", \"service\", \"month\", \"think\", \"far\", \"mean\", \"say\", \"website\", \"issue\", \"apply\", \"arm\", \"customer\", \"download\", \"electricity\", \"email\", \"fill\", \"form\"], \"Freq\": [11.0, 12.0, 6.0, 7.0, 4.0, 7.0, 3.0, 5.0, 7.0, 5.0, 6.0, 5.0, 3.0, 4.0, 5.0, 6.0, 4.0, 4.0, 4.0, 6.0, 4.0, 6.0, 2.0, 2.0, 3.0, 3.0, 2.0, 2.0, 2.0, 3.0, 2.724619780764753, 1.8335547471653029, 2.7264350789575778, 8.054067399658834, 0.9401278416541552, 0.9399594049511857, 0.9399439968636762, 0.9399370068532451, 0.9399191184394536, 0.9399055893870063, 0.9398770280540619, 0.9398689106225935, 0.9397573711013053, 0.9395811927738799, 0.9395439127182471, 0.9395276778553103, 0.9394773948770476, 0.9393658553557594, 0.9385102179498671, 0.9382994653772984, 0.9382140820240751, 0.9381354631970755, 0.9379023876879686, 0.9376991512556485, 0.9376544302211697, 1.8323871899390967, 1.865370719160126, 1.8354464093430525, 1.8321782412401875, 3.622543893632205, 2.7857915417282513, 1.83109411317074, 1.8327087304189287, 1.835172070223981, 1.8354211551118174, 2.7855717697873845, 1.865957579390731, 0.9496861172082081, 0.9402302866457427, 0.9401512168503282, 0.9400212627854311, 0.9399393368567222, 0.9398882271030322, 1.811731694438721, 1.811459104570045, 1.8111439947925416, 1.810885150030345, 0.9279077954245548, 0.9278777360328158, 0.9278426667424536, 0.9278075974520914, 0.9277982199495404, 0.9277972565074974, 0.9277894205122151, 0.9277586545963112, 0.9277448452603628, 0.9277359173640984, 0.9277287236635113, 0.927701426138962, 0.9276875525735441, 0.9276528686599991, 0.9275886391904713, 0.9275282634891151, 0.9274639697901178, 1.8114684820725961, 1.8112553686927029, 1.811066020216535, 3.5784133527864164, 1.811362246529997, 0.9277656556084898, 1.8116060615963245, 1.8113646872498392, 0.9278478051000159, 2.6949655173163354, 1.8114711797103162, 1.8113012285339458, 1.811299173190921, 0.927943121632795, 0.9279421581907521, 0.9278622567306596, 0.9278311054379386, 0.927788071693355, 0.9277877505460074, 2.61557308242839, 1.7595356866875034, 1.7510267106826536, 1.7495523007832499, 0.9036673526329767, 0.9036673526329767, 0.8982075668035054, 0.8974106836118361, 0.8973998039323353, 0.8957272132043783, 0.8954204489078663, 0.8954169290115572, 0.8948764649328276, 0.8940512092436367, 0.8939558520527181, 0.893310964383486, 0.8896388058931638, 1.760715278605141, 2.6150246185853216, 2.6156272674988448, 1.754886116990266, 0.8946636712014154, 0.9036673526329767, 0.8958071041842418, 0.8993200673642218, 0.8955769242983332, 1.7601235093711187, 0.8980599444855735, 0.8972305289189263, 0.9043053071731152, 1.7654462325715852, 1.755642681369668, 1.7601330024248008, 1.7409944728841713, 0.9044986881430652, 0.8999057567773467, 0.8981007966154636, 2.610837313637082, 2.6107261375672004, 2.610379943729341, 1.754497302559498, 2.610336920801756, 0.898763130698168, 0.8987493593405065, 0.89874383069327, 0.8986891473460588, 0.8986798994270451, 0.8986617051515943, 0.8986617051515943, 0.8986594936926997, 0.8985385670995102, 2.6104107031121475, 0.8987125687061694, 0.898564501481092, 0.898717393707394, 0.8986327551442472, 0.8987595119472497, 0.8986743707798087, 1.7544868483901783, 4.322641799111717, 0.8986789947393155, 0.898749660903083, 0.898700003598814, 0.8986306442062114, 1.7544410108785453, 0.8986333582694003, 1.75425102645533, 0.8988167083159321, 0.8987914775803622, 0.8987762989306767, 0.8987681567411103, 0.8987407145466458, 1.6644085217828777, 0.8524969847478561, 0.8524969847478561, 0.8524969847478561, 0.8524969847478561, 0.8524969847478561, 1.6644085217828777, 2.4763189003193578, 0.8524969847478561, 1.6644085217828777, 0.8524969847478561, 1.6644085217828777, 0.8524968302813839, 2.4763189003193578, 0.8524969847478561, 0.8524969847478561, 0.8524969847478561, 2.476318591386413, 0.8528178888439162, 0.8527506959284957, 1.6644085217828777, 0.8524968302813839, 0.8524969847478561, 1.6653435073392926, 0.8524969847478561, 0.8527255951267582, 0.8527592688177045, 0.8527110752783684, 0.8524969847478561, 0.8524969847478561, 0.7840702209969594, 0.7838772494918461, 0.7837853851363162, 0.7836327099589354, 0.7835937098767104, 0.7835147516177549, 0.7833542426088288, 0.7833170459986143, 0.7839803291889409, 0.7838538607142113, 0.783715162444911, 0.7829141390797898, 0.7858599415332848, 0.7846969275205751, 0.7858597724577837, 0.7839626326198388, 0.7858599415332848, 1.5298867717472258, 1.5424045582544434, 1.5357082666798112, 0.7839554187317972, 0.7849245595033884, 0.7870445972101192, 0.7865586178618155, 1.5659892380365081, 0.7838811945868689, 0.7838261323320512, 0.037422223858615114, 0.037422223858615114, 0.04961884792932365, 0.046426603843531956, 0.04586599527357894, 0.05026087339780888, 0.04897867172413035, 0.05034568589598568, 0.6978702384457368, 0.6978702384457368, 0.6978702384457368, 0.6978702384457368, 0.6978702384457368, 0.6978702384457368, 0.6978702384457368, 2.0271542790753982, 0.6978702384457368, 1.3625127610742591, 0.6978702384457368, 0.6978702384457368, 0.6978702384457368, 0.6978702384457368, 0.6978702384457368, 0.03323209641119936, 0.03323209641119936, 0.03323209641119936, 0.03323209641119936, 0.03323209641119936, 0.03323209641119936, 0.03323209641119936, 0.03323209641119936, 0.03323209641119936, 0.03323209641119936, 0.03323209641119936, 0.03323209641119936, 0.03323209641119936, 0.03323209641119936, 0.03323209641119936, 0.03323209641119936, 0.03323209641119936, 0.03323209641119936, 0.03323209641119936, 0.03323209641119936, 0.03323209641119936, 0.03323209641119936, 0.03323209641119936, 0.03323209641119936, 0.6845344843292028, 0.6840940533528316, 0.6839632460486329, 0.683827251994461, 0.6837899326958744, 1.3345390030023618, 1.9859673477961755, 0.6841983576297289, 1.3346372982396562, 0.684024981023922, 0.6839952520911495, 0.6842451648855834, 0.6838475562230142, 0.032641059636699436, 0.032641059636699436, 0.032641059636699436, 0.032641059636699436, 0.032641059636699436, 0.032641059636699436, 0.032641059636699436, 0.032641059636699436, 0.032641059636699436, 0.032641059636699436, 0.032641059636699436, 0.032641059636699436, 0.032641059636699436, 0.032641059636699436, 0.032641059636699436, 0.032641059636699436, 0.032641059636699436, 0.032641059636699436, 0.032641059636699436, 0.032641059636699436, 0.032641059636699436, 0.032641059636699436, 0.032641059636699436, 0.032641059636699436, 0.032641059636699436, 0.032641059636699436, 0.032641059636699436, 0.032641059636699436, 0.032641059636699436, 0.032641059636699436, 0.032641059636699436, 0.032641059636699436, 0.6698610124405917, 0.6698610124405917, 0.6698610124405917, 0.6698611315083558, 0.6698611315083558, 0.6698610124405917, 1.307827461969396, 1.307827700104924, 0.6698609529067097, 0.6698610124405917, 0.6698610124405917, 0.6698609529067097, 0.6698610124405917, 0.6698609529067097, 0.031898309825490266, 0.031898309825490266, 0.031898309825490266, 0.031898309825490266, 0.031898309825490266, 0.031898309825490266, 0.031898309825490266, 0.031898309825490266, 0.031898309825490266, 0.031898309825490266, 0.031898309825490266, 0.031898309825490266, 0.031898309825490266, 0.031898309825490266, 0.031898309825490266, 0.031898309825490266, 0.031898309825490266, 0.031898309825490266, 0.031898309825490266, 0.031898309825490266, 0.031898309825490266, 0.031898309825490266, 0.031898309825490266, 0.031898309825490266, 0.031898309825490266, 0.031898309825490266, 0.6341632633081452, 1.2381317700267267, 0.6341632633081452, 1.2381317700267267, 0.6341629386403252, 1.2381314453589067, 0.6341628304177186, 0.6341632633081452, 0.6341632091968419, 0.6341632633081452, 0.6341632633081452, 0.6341632633081452, 0.03019840233862516, 0.03019840233862516, 0.03019840233862516, 0.03019840233862516, 0.03019840233862516, 0.03019840233862516, 0.03019840233862516, 0.03019840233862516, 0.03019840233862516, 0.03019840233862516, 0.03019840233862516, 0.03019840233862516, 0.03019840233862516, 0.03019840233862516, 0.03019840233862516, 0.03019840233862516, 0.03019840233862516, 0.03019840233862516, 0.03019840233862516, 0.03019840233862516, 0.03019840233862516, 0.03019840233862516, 0.03019840233862516, 0.03019840233862516, 0.03019840233862516, 0.03019840233862516, 0.03019840233862516, 0.03019840233862516, 0.03019840233862516, 0.5985603965649843, 0.5985603965649843, 0.5985603070992082, 0.5985603070992082, 1.1686206649804713, 1.7390534688873889, 0.5985603965649843, 0.5987629023490506, 0.5985603070992082, 0.028502999441746852, 0.028502999441746852, 0.028502999441746852, 0.028502999441746852, 0.028502999441746852, 0.028502999441746852, 0.028502999441746852, 0.028502999441746852, 0.028502999441746852, 0.028502999441746852, 0.028502999441746852, 0.028502999441746852, 0.028502999441746852, 0.028502999441746852, 0.028502999441746852, 0.028502999441746852, 0.028502999441746852, 0.028502999441746852, 0.028502999441746852, 0.028502999441746852, 0.028502999441746852, 0.028791143544121885, 0.028755832520641133, 0.0287277346753536, 0.028718659490696553, 0.02871497461904591, 0.02869767417460419, 0.02869166319277651, 0.028689278370683947, 0.028681928198021168, 0.028676481968904738, 0.028666089959856603, 0.028658759357832332, 0.028648996405021977, 0.028647609685493357, 0.02925219982933255, 0.028845329050541556, 0.02869065390699056, 0.02890967451415276, 0.028855550515454114, 0.02884561422270268, 0.028789776395231774, 0.028730564030520864, 0.028717907419016718, 0.028693760046902446, 0.028692009872658665, 0.028681246021478864, 0.5497420479410018, 0.5497419299385132, 0.5497420479410018, 0.5497420479410018, 0.5497420479410018, 0.5518616086395085, 0.549741969272676, 0.5497420479410018, 0.5497420479410018, 0.5527942216403176, 0.5576752372406294, 0.026178316146618023, 0.026178316146618023, 0.026178316146618023, 0.026178316146618023, 0.026178316146618023, 0.026178316146618023, 0.026178316146618023, 0.026178316146618023, 0.026178316146618023, 0.026178316146618023, 0.026178316146618023, 0.026178316146618023, 0.026178316146618023, 0.026178316146618023, 0.026178316146618023, 0.026178316146618023, 0.026178316146618023, 0.026178316146618023, 0.026178316146618023, 0.028187576477380957, 0.02816140942555522, 0.028042814466223642, 0.02790657813486073, 0.02786077841901016, 0.02781093711792833, 0.02768781627148559, 0.03147693517858956, 0.030019538069166806, 0.03041672707031535, 0.029858363878566743, 0.02785076541618357, 0.027863573602956597, 0.027658111603389917, 0.028282418519130777, 0.027525693144207143, 0.02787267454488246, 0.028428916150223173, 0.02810444372422997, 0.02796781650962389, 0.4199117033013753, 0.41991165845822065, 0.41991165845822065, 0.41991165845822065, 0.41991165845822065, 0.41991165845822065, 0.019995862526573722, 0.019995862526573722, 0.019995862526573722, 0.019995862526573722, 0.019995862526573722, 0.019995862526573722, 0.019995862526573722, 0.019995862526573722, 0.019995862526573722, 0.019995862526573722, 0.019995862526573722, 0.019995862526573722, 0.019995862526573722, 0.019995862526573722, 0.019995862526573722, 0.019995862526573722, 0.019995862526573722, 0.019995862526573722, 0.019995862526573722, 0.019995862526573722, 0.019995862526573722, 0.019995862526573722, 0.019995862526573722, 0.019995862526573722, 0.019995862526573722, 0.019995862526573722, 0.019995862526573722, 0.019995862526573722, 0.019995862526573722, 0.019995862526573722, 0.019995862526573722, 0.019995862526573722, 0.019995862526573722, 0.019995862526573722, 0.019995862526573722, 0.019995862526573722, 0.019995862526573722, 0.019995862526573722, 0.019995862526573722, 0.019995862526573722, 0.019995862526573722, 0.2012638573407417, 0.2012638573407417, 0.009584024674445158, 0.009584024674445158, 0.009584024674445158, 0.009584024674445158, 0.009584024674445158, 0.009584024674445158, 0.009584024674445158, 0.009584024674445158, 0.009584024674445158, 0.009584024674445158, 0.009584024674445158, 0.009584024674445158, 0.009584024674445158, 0.009584024674445158, 0.009584024674445158, 0.009584024674445158, 0.009584024674445158, 0.009584024674445158, 0.009584024674445158, 0.009584024674445158, 0.009584024674445158, 0.009584024674445158, 0.009584024674445158, 0.009584024674445158, 0.009584024674445158, 0.009584024674445158, 0.009584024674445158, 0.009584024674445158, 0.009584024674445158, 0.009584024674445158, 0.009584024674445158, 0.009584024674445158, 0.009584024674445158, 0.009584024674445158, 0.009584024674445158, 0.009584024674445158, 0.009584024674445158, 0.009584024674445158, 0.009584024674445158, 0.009584024674445158, 0.009584024674445158, 0.009584024674445158, 0.009584024674445158, 0.009584024674445158, 0.009584024674445158, 0.009584024674445158, 0.009584024674445158, 0.009584024674445158, 0.009584024674445158, 0.003005323573558371, 0.003005323573558371, 0.003005323573558371, 0.003005323573558371, 0.003005323573558371, 0.003005323573558371, 0.003005323573558371, 0.003005323573558371, 0.003005323573558371, 0.003005323573558371, 0.003005323573558371, 0.003005323573558371, 0.003005323573558371, 0.003005323573558371, 0.003005323573558371, 0.003005323573558371, 0.003005323573558371, 0.003005323573558371, 0.0032095177606108, 0.00320653768875551, 0.0031936500441629495, 0.0031873126439006774, 0.003184166885046333, 0.003171915733433215, 0.0031645385835261113, 0.0031490468491145755, 0.003005323573558371, 0.003005323573558371, 0.003005323573558371, 0.003005323573558371, 0.003241877706041396, 0.003156269527757946, 0.003166411101518495, 0.0031775608169425183, 0.0033601830665242857, 0.0031664098270031177, 0.003157680161377583, 0.0031582659286450076, 0.00315342531924188, 0.003168645072071892, 0.0031642230135186826, 0.003005323573558371, 0.003005323573558371, 0.003005323573558371, 0.003005323573558371, 0.003005323573558371, 0.003005323573558371, 0.003005323573558371, 0.003009227210388359, 0.003009227210388359, 0.003009227210388359, 0.003009227210388359, 0.003009227210388359, 0.003009227210388359, 0.003163048237973606, 0.0031596217948847575, 0.003147078042525514, 0.003009227210388359, 0.003135014792186166, 0.0030944240910664948, 0.003009227210388359, 0.003009227210388359, 0.003009227210388359, 0.003009227210388359, 0.003009227210388359, 0.003009227210388359, 0.003009227210388359, 0.003009227210388359, 0.003009227210388359, 0.003009227210388359, 0.003009227210388359, 0.003009227210388359, 0.003009227210388359, 0.003009227210388359, 0.003009227210388359, 0.003009227210388359, 0.003009227210388359, 0.003009227210388359, 0.0033541275348544374, 0.003482551763207862, 0.003125404751788265, 0.003345068823391347, 0.0031413813165632374, 0.0031441290441796576, 0.003157745391185644, 0.003121101634547529, 0.003009227210388359, 0.003009227210388359, 0.003009227210388359, 0.003009227210388359, 0.003009227210388359, 0.003009227210388359, 0.003009227210388359, 0.003009227210388359, 0.003009227210388359, 0.003009227210388359, 0.003009227210388359, 0.003009227210388359, 0.003009227210388359, 0.003009227210388359, 0.003009227210388359, 0.0029215997143441606, 0.0029215997143441606, 0.0029215997143441606, 0.0029215997143441606, 0.0029215997143441606, 0.0029215997143441606, 0.0029215997143441606, 0.0029215997143441606, 0.0029215997143441606, 0.0029215997143441606, 0.0029215997143441606, 0.0029215997143441606, 0.0029215997143441606, 0.0029215997143441606, 0.0029215997143441606, 0.0029215997143441606, 0.0029215997143441606, 0.0029215997143441606, 0.0029215997143441606, 0.0029215997143441606, 0.0029215997143441606, 0.0029215997143441606, 0.0029215997143441606, 0.0029215997143441606, 0.0029215997143441606, 0.0029215997143441606, 0.0029215997143441606, 0.0029215997143441606, 0.0029215997143441606, 0.0029215997143441606, 0.0029215997143441606, 0.0029215997143441606, 0.0029215997143441606, 0.0029215997143441606, 0.0029215997143441606, 0.0029215997143441606, 0.0029215997143441606, 0.0029215997143441606, 0.0029215997143441606, 0.0029215997143441606, 0.0029215997143441606, 0.0029215997143441606, 0.0029215997143441606, 0.0029215997143441606, 0.0029215997143441606, 0.0029215997143441606, 0.0029215997143441606, 0.0029215997143441606, 0.0029215997143441606, 0.0029215997143441606, 0.0029215997143441606, 0.0029215997143441606, 0.0029215997143441606, 0.0029215997143441606, 0.0029215997143441606, 0.0029215997143441606, 0.0029215997143441606, 0.0029215997143441606, 0.0029215997143441606, 0.0029215997143441606, 0.0029215997143441606, 0.0029215997143441606, 0.0029215997143441606, 0.0029215997143441606, 0.0029215997143441606, 0.0029215997143441606, 0.0029215997143441606, 0.0029215997143441606, 0.0029215997143441606, 0.0029215997143441606, 0.0029215997143441606, 0.0029215997143441606, 0.0029215997143441606, 0.0029215997143441606, 0.0029215997143441606, 0.0029215997143441606, 0.0029215997143441606, 0.0029215997143441606, 0.0029215997143441606, 0.0029215997143441606, 0.0029215997143441606, 0.0029215997143441606, 0.0029215997143441606, 0.0029215997143441606, 0.0029215997143441606, 0.0029215997143441606, 0.0029215997143441606, 0.0029215997143441606, 0.0029215997143441606, 0.0029215997143441606, 0.0029215997143441606, 0.0029215997143441606, 0.0029215997143441606, 0.0029215997143441606, 0.0029215997143441606, 0.0029215997143441606, 0.0029215997143441606, 0.0029215997143441606, 0.0029215997143441606, 0.0029215997143441606, 0.0029215997143441606, 0.0029215997143441606, 0.0029215997143441606, 0.0029215997143441606, 0.0029215997143441606, 0.0029215997143441606, 0.0029215997143441606, 0.0029215997143441606, 0.0029215997143441606, 0.0029215997143441606, 0.0029215997143441606, 0.0029215997143441606, 0.0029215997143441606, 0.0029215997143441606, 0.0029215997143441606, 0.0029215997143441606, 0.0029215997143441606, 0.0029215997143441606, 0.0029215997143441606, 0.0029215997143441606, 0.0029215997143441606, 0.0029215997143441606, 0.0029215997143441606, 0.0029215997143441606, 0.0029215997143441606, 0.0029215997143441606, 0.0029215997143441606, 0.0029215997143441606, 0.0029215997143441606, 0.0029215997143441606, 0.0029215997143441606, 0.0029215997143441606, 0.0029215997143441606, 0.0029215997143441606, 0.0029215997143441606, 0.0029215997143441606, 0.0029215997143441606, 0.0029215997143441606, 0.0029215997143441606, 0.0029215997143441606, 0.0029215997143441606, 0.0029215997143441606, 0.0029215997143441606, 0.0029215997143441606, 0.0029215997143441606, 0.0029215997143441606, 0.0029215997143441606, 0.0029215997143441606, 0.0029215997143441606, 0.0029215997143441606, 0.0029215997143441606, 0.0029215997143441606, 0.0029215997143441606, 0.0029215997143441606, 0.0029215997143441606, 0.0029215997143441606, 0.0029215997143441606, 0.0029215997143441606, 0.0029215997143441606, 0.0029215997143441606, 0.0029215997143441606, 0.0029215997143441606, 0.0029215997143441606, 0.0029215997143441606, 0.0029215997143441606, 0.0029215997143441606, 0.0029215997143441606, 0.0029215997143441606, 0.0029215997143441606, 0.0029215997143441606, 0.0029215997143441606, 0.0029215997143441606, 0.0029215997143441606, 0.0029215997143441606, 0.0029215997143441606, 0.0029215997143441606, 0.0029215997143441606, 0.0029215997143441606, 0.0029215997143441606, 0.0029215997143441606, 0.0029215997143441606, 0.0029215997143441606, 0.0029215997143441606, 0.0029215997143441606, 0.0029215997143441606, 0.0029215997143441606, 0.0029215997143441606, 0.0029215997143441606, 0.0029215997143441606, 0.0029215997143441606, 0.0029215997143441606, 0.0029215997143441606, 0.0029215997143441606, 0.0029215997143441606, 0.0029215997143441606, 0.0029215997143441606, 0.0029215997143441606, 0.0029215997143441606, 0.0029215997143441606, 0.0029215997143441606, 0.0029215997143441606, 0.0029215997143441606, 0.0029215997143441606, 0.0029215997143441606, 0.0029215997143441606, 0.0029215997143441606, 0.0029215997143441606, 0.0029215997143441606, 0.0029215997143441606, 0.0029215997143441606, 0.0029215997143441606, 0.0029215997143441606], \"Total\": [11.0, 12.0, 6.0, 7.0, 4.0, 7.0, 3.0, 5.0, 7.0, 5.0, 6.0, 5.0, 3.0, 4.0, 5.0, 6.0, 4.0, 4.0, 4.0, 6.0, 4.0, 6.0, 2.0, 2.0, 3.0, 3.0, 2.0, 2.0, 2.0, 3.0, 3.167917963394465, 2.2740701103548733, 3.98057453571211, 11.769151515868485, 1.3788896800023622, 1.3788460779064036, 1.378858791073224, 1.3788524273683136, 1.3788412743587084, 1.3788494634253508, 1.3788392199901385, 1.3788361472334716, 1.3788073130168073, 1.3787862963909696, 1.3787482209780262, 1.378768305668948, 1.378757062985484, 1.3787299093616832, 1.3780192816724757, 1.3779316499463496, 1.3778961078942082, 1.377863288783059, 1.3777664496053152, 1.3776818081323265, 1.3776632541496736, 2.797150082249608, 3.133433506464001, 3.1311518569928856, 3.157670601032099, 7.297605298490539, 5.699659761008367, 3.722637909348626, 4.688571141722823, 4.843527319323346, 5.067793639255358, 12.196745295398507, 6.246440083410891, 7.764179679335802, 3.3183368141457845, 2.263001574461861, 2.2350596107473355, 5.161466461473323, 2.5063746389939507, 2.2510488400218214, 2.251041212347752, 2.25103285353382, 2.251025941350063, 1.3669218066042124, 1.3669209096867234, 1.3669200760544962, 1.366919149091685, 1.3669188613213639, 1.3669188945166282, 1.3669184349707133, 1.3669178048337207, 1.3669174517680371, 1.366917240281667, 1.3669169897098787, 1.36691626806911, 1.3669158774398382, 1.366914889200335, 1.3669132412205829, 1.366911527124476, 1.3669097482505514, 2.88900430986105, 3.1110269179495975, 3.1461041725071275, 6.517419204706464, 3.458972182546471, 2.0048807253274883, 3.967866798148379, 3.970953808056091, 2.1126485805827144, 6.317498821765925, 4.686765188964619, 4.831524936067148, 5.818216516013367, 2.2622431706037514, 3.157670601032099, 12.196745295398507, 3.0876711326914776, 2.2264294785605028, 2.990731560886952, 3.0635208798736198, 2.203474679347762, 2.2023651975381324, 2.2021729893124076, 1.3434493916229409, 1.3434493916229409, 1.3427368126048886, 1.3426326070838717, 1.3426312907373947, 1.3424130592895784, 1.3423729411477296, 1.3423724434760005, 1.342301935319451, 1.3421941127721801, 1.3421816624576461, 1.3420973833583671, 1.3416174689538365, 3.0876711326914776, 4.831524936067148, 5.1544171263901815, 3.970953808056091, 2.1541754943112283, 2.199635895465144, 2.198614296517596, 2.226865435624329, 2.2264294785605028, 4.5199033837542375, 2.4828351559516713, 2.5505426023821554, 2.9759881457781585, 5.818216516013367, 6.947739282858415, 7.121251986074582, 7.764179679335802, 3.967866798148379, 3.1110269179495975, 3.0829364818355782, 3.0514261421097273, 3.051420707994242, 3.051402388552002, 2.1952022270672567, 3.7980862530388917, 1.339007720983292, 1.3390069730800704, 1.339006773526126, 1.339003850928344, 1.3390033882899384, 1.339002465296914, 1.3390025039135318, 1.3390023584437034, 1.338995925295978, 4.843527319323346, 1.9769680487094863, 1.976960130845495, 2.198614296517596, 2.199635895465144, 2.2350596107473355, 2.234985747372559, 4.5199033837542375, 12.196745295398507, 2.550820678911629, 2.8993459048274977, 3.0829364818355782, 3.1311518569928856, 6.947739282858415, 3.967866798148379, 7.764179679335802, 5.067793639255358, 7.121251986074582, 4.688571141722823, 5.1544171263901815, 5.699659761008367, 2.1066273905893733, 1.294715853554352, 1.294715853554352, 1.294715853554352, 1.294715853554352, 1.294715853554352, 2.990731560886952, 4.686765188964619, 1.6946316943291535, 3.761712391861689, 2.041308577937908, 4.07359761283987, 2.1541754943112283, 6.317498821765925, 2.178816514443691, 2.1788184937537896, 2.1788190350640786, 6.415021571482866, 2.550820678911629, 2.8993459048274977, 6.246440083410891, 3.3183368141457845, 3.722637909348626, 7.764179679335802, 3.98057453571211, 4.688571141722823, 5.699659761008367, 7.121251986074582, 7.297605298490539, 11.769151515868485, 1.229606091735158, 1.229428611964456, 1.229344124758833, 1.2292037007330654, 1.2291678464096947, 1.2290952255510015, 1.228947604186668, 1.228913387648309, 1.89416156464032, 2.041308577937908, 2.113373145175503, 2.1126485805827144, 2.1263410245272203, 2.7900568407192985, 2.8993459048274977, 2.918901710710445, 2.9759881457781585, 6.415021571482866, 6.947739282858415, 7.297605298490539, 3.7980862530388917, 4.688571141722823, 5.067793639255358, 5.161466461473323, 11.769151515868485, 6.317498821765925, 6.517419204706464, 1.006377985113152, 1.0063781031156405, 1.3416174689538365, 1.3420973833583671, 1.3421816624576461, 2.2021729893124076, 2.2023651975381324, 7.764179679335802, 1.1474525133557945, 1.1474525133557945, 1.1474525133557945, 1.799125988890224, 1.89416156464032, 2.043446834807358, 2.449695357045923, 7.121251986074582, 2.7900568407192985, 7.764179679335802, 4.07359761283987, 4.777097074143643, 5.067793639255358, 5.1544171263901815, 5.161466461473323, 1.006377985113152, 1.0063781031156405, 1.052871678978718, 1.052871678978718, 1.0528717684444941, 1.0528717684444941, 1.0867792322907768, 1.1207770739363583, 1.1207770739363583, 1.1207770739363583, 1.1341170654080173, 1.1341509582635152, 1.1342744085653278, 1.134393152619187, 1.1347929928944385, 6.947739282858415, 2.918901710710445, 12.196745295398507, 3.761712391861689, 6.415021571482866, 2.5063746389939507, 5.818216516013367, 3.458972182546471, 3.3183368141457845, 1.1347929928944385, 1.134393152619187, 1.1342744085653278, 1.1341509582635152, 1.1341170654080173, 2.449695357045923, 4.777097074143643, 1.799125988890224, 4.07359761283987, 2.918901710710445, 6.947739282858415, 7.121251986074582, 12.196745295398507, 1.006377985113152, 1.0063781031156405, 1.052871678978718, 1.052871678978718, 1.0528717684444941, 1.0528717684444941, 1.0867792322907768, 1.1207770739363583, 1.1207770739363583, 1.1207770739363583, 1.1474525133557945, 1.1474525133557945, 1.1474525133557945, 1.228913387648309, 1.228947604186668, 1.2290952255510015, 1.2291678464096947, 3.761712391861689, 6.415021571482866, 2.5063746389939507, 5.818216516013367, 3.458972182546471, 3.3183368141457845, 1.9024048808575411, 2.2622431706037514, 4.688571141722823, 6.517419204706464, 3.167917963394465, 1.377863288783059, 3.133433506464001, 7.297605298490539, 11.769151515868485, 1.1207770739363583, 1.1207770739363583, 1.1207770739363583, 1.976960130845495, 1.9769680487094863, 2.0048807253274883, 4.777097074143643, 5.161466461473323, 2.88900430986105, 2.918901710710445, 3.722637909348626, 5.818216516013367, 6.415021571482866, 12.196745295398507, 1.006377985113152, 1.0063781031156405, 1.052871678978718, 1.052871678978718, 1.0528717684444941, 1.0528717684444941, 1.0867792322907768, 1.1341170654080173, 1.1341509582635152, 1.1342744085653278, 1.134393152619187, 1.1347929928944385, 1.1474525133557945, 1.1474525133557945, 1.1474525133557945, 1.228913387648309, 2.449695357045923, 4.07359761283987, 6.947739282858415, 7.121251986074582, 1.799125988890224, 3.761712391861689, 2.5063746389939507, 3.458972182546471, 3.3183368141457845, 1.9024048808575411, 1.0867792322907768, 2.5505426023821554, 1.6103429640851605, 3.458972182546471, 2.5063746389939507, 5.818216516013367, 3.3183368141457845, 3.761712391861689, 4.5199033837542375, 6.246440083410891, 6.415021571482866, 7.121251986074582, 1.006377985113152, 1.0063781031156405, 1.052871678978718, 1.052871678978718, 1.0528717684444941, 1.0528717684444941, 1.1207770739363583, 1.1207770739363583, 1.1207770739363583, 1.1341170654080173, 1.1341509582635152, 1.1342744085653278, 1.134393152619187, 1.1347929928944385, 1.1474525133557945, 1.1474525133557945, 1.1474525133557945, 1.228913387648309, 4.777097074143643, 2.449695357045923, 4.07359761283987, 6.947739282858415, 2.918901710710445, 1.799125988890224, 12.196745295398507, 1.9024048808575411, 2.2622431706037514, 4.688571141722823, 6.517419204706464, 1.0528717684444941, 1.0528717684444941, 1.052871678978718, 1.052871678978718, 2.4828351559516713, 12.196745295398507, 5.1544171263901815, 5.161466461473323, 6.415021571482866, 1.006377985113152, 1.0063781031156405, 1.0867792322907768, 1.1207770739363583, 1.1207770739363583, 1.1207770739363583, 1.1341170654080173, 1.1341509582635152, 1.1342744085653278, 1.134393152619187, 1.1347929928944385, 1.1474525133557945, 1.1474525133557945, 1.1474525133557945, 1.228913387648309, 1.228947604186668, 1.2290952255510015, 1.2291678464096947, 1.2292037007330654, 1.229344124758833, 1.229428611964456, 1.3787482209780262, 1.3787299093616832, 1.378757062985484, 1.378768305668948, 1.3788073130168073, 1.3788460779064036, 1.3788412743587084, 1.3787862963909696, 1.3788361472334716, 1.3788392199901385, 1.3788524273683136, 1.3788494634253508, 1.378858791073224, 1.3788896800023622, 11.769151515868485, 3.1311518569928856, 2.043446834807358, 5.699659761008367, 5.067793639255358, 7.297605298490539, 4.843527319323346, 2.797150082249608, 3.157670601032099, 4.688571141722823, 2.234985747372559, 2.7900568407192985, 1.0063781031156405, 1.006377985113152, 1.6103429640851605, 1.9024048808575411, 2.5063746389939507, 2.797150082249608, 3.3183368141457845, 5.067793639255358, 5.161466461473323, 7.297605298490539, 11.769151515868485, 1.052871678978718, 1.052871678978718, 1.0528717684444941, 1.0528717684444941, 1.0867792322907768, 1.1207770739363583, 1.1207770739363583, 1.1207770739363583, 1.1341170654080173, 1.1341509582635152, 1.1342744085653278, 1.134393152619187, 1.1347929928944385, 1.1474525133557945, 1.1474525133557945, 1.1474525133557945, 1.228913387648309, 1.228947604186668, 1.2290952255510015, 1.3776632541496736, 1.3776818081323265, 1.3777664496053152, 1.377863288783059, 1.3778961078942082, 1.3779316499463496, 1.3780192816724757, 3.167917963394465, 3.133433506464001, 3.98057453571211, 3.722637909348626, 2.1263410245272203, 2.2619953415070326, 2.2740701103548733, 3.157670601032099, 2.2622431706037514, 3.1461041725071275, 6.246440083410891, 4.688571141722823, 5.699659761008367, 1.6946316943291535, 2.550820678911629, 2.918901710710445, 4.777097074143643, 7.297605298490539, 11.769151515868485, 1.006377985113152, 1.0063781031156405, 1.052871678978718, 1.052871678978718, 1.0528717684444941, 1.0528717684444941, 1.0867792322907768, 1.1207770739363583, 1.1207770739363583, 1.1207770739363583, 1.1341170654080173, 1.1341509582635152, 1.1342744085653278, 1.134393152619187, 1.1347929928944385, 1.1474525133557945, 1.1474525133557945, 1.1474525133557945, 1.228913387648309, 1.228947604186668, 1.2290952255510015, 1.2291678464096947, 1.2292037007330654, 1.229344124758833, 2.449695357045923, 4.07359761283987, 6.947739282858415, 7.121251986074582, 1.799125988890224, 12.196745295398507, 3.761712391861689, 6.415021571482866, 2.5063746389939507, 5.818216516013367, 3.458972182546471, 3.3183368141457845, 1.9024048808575411, 2.2622431706037514, 4.688571141722823, 6.517419204706464, 3.167917963394465, 3.761712391861689, 6.415021571482866, 1.006377985113152, 1.0063781031156405, 1.052871678978718, 1.052871678978718, 1.0528717684444941, 1.0528717684444941, 1.0867792322907768, 1.1207770739363583, 1.1207770739363583, 1.1207770739363583, 1.1341170654080173, 1.1341509582635152, 1.1342744085653278, 1.134393152619187, 1.1347929928944385, 1.1474525133557945, 1.1474525133557945, 1.1474525133557945, 1.228913387648309, 1.228947604186668, 1.2290952255510015, 1.2291678464096947, 1.2292037007330654, 1.229344124758833, 1.229428611964456, 1.229606091735158, 1.294715853554352, 1.294715853554352, 4.777097074143643, 2.449695357045923, 4.07359761283987, 6.947739282858415, 7.121251986074582, 2.918901710710445, 1.799125988890224, 12.196745295398507, 2.5063746389939507, 5.818216516013367, 3.458972182546471, 3.3183368141457845, 1.9024048808575411, 2.2622431706037514, 4.688571141722823, 6.517419204706464, 3.167917963394465, 1.377863288783059, 3.133433506464001, 7.297605298490539, 11.769151515868485, 1.006377985113152, 1.0063781031156405, 1.052871678978718, 1.052871678978718, 1.0528717684444941, 1.0528717684444941, 1.0867792322907768, 1.1207770739363583, 1.1207770739363583, 1.1207770739363583, 1.1341170654080173, 1.1341509582635152, 1.1342744085653278, 1.134393152619187, 1.1347929928944385, 1.1474525133557945, 1.1474525133557945, 1.1474525133557945, 1.228913387648309, 1.228947604186668, 1.2290952255510015, 1.2291678464096947, 1.2292037007330654, 1.229344124758833, 1.229428611964456, 1.229606091735158, 1.294715853554352, 1.294715853554352, 1.294715853554352, 1.294715853554352, 2.1126485805827144, 1.89416156464032, 2.041308577937908, 2.113373145175503, 6.415021571482866, 2.7900568407192985, 2.918901710710445, 3.7980862530388917, 4.688571141722823, 6.517419204706464, 6.317498821765925, 4.777097074143643, 2.449695357045923, 4.07359761283987, 6.947739282858415, 7.121251986074582, 1.799125988890224, 12.196745295398507, 1.006377985113152, 1.0063781031156405, 1.052871678978718, 1.052871678978718, 1.0528717684444941, 1.0528717684444941, 1.1341170654080173, 1.1341509582635152, 1.1342744085653278, 1.0867792322907768, 1.134393152619187, 1.1347929928944385, 1.1207770739363583, 1.1207770739363583, 1.1207770739363583, 1.1474525133557945, 1.1474525133557945, 1.1474525133557945, 1.228913387648309, 1.228947604186668, 1.2290952255510015, 1.2291678464096947, 1.2292037007330654, 1.229344124758833, 1.229428611964456, 1.229606091735158, 1.294715853554352, 1.294715853554352, 1.294715853554352, 1.294715853554352, 2.449695357045923, 4.777097074143643, 1.799125988890224, 4.07359761283987, 2.918901710710445, 6.947739282858415, 12.196745295398507, 7.121251986074582, 3.761712391861689, 6.415021571482866, 2.5063746389939507, 5.818216516013367, 3.458972182546471, 3.3183368141457845, 1.9024048808575411, 2.2622431706037514, 4.688571141722823, 6.517419204706464, 3.167917963394465, 1.377863288783059, 3.133433506464001, 7.297605298490539, 11.769151515868485, 1.006377985113152, 1.0063781031156405, 1.052871678978718, 1.052871678978718, 1.0528717684444941, 1.0528717684444941, 1.0867792322907768, 1.1207770739363583, 1.1207770739363583, 1.1207770739363583, 1.1341170654080173, 1.1341509582635152, 1.1342744085653278, 1.134393152619187, 1.1347929928944385, 1.1474525133557945, 1.1474525133557945, 1.1474525133557945, 1.228913387648309, 1.228947604186668, 1.2290952255510015, 1.2291678464096947, 1.2292037007330654, 1.229344124758833, 1.229428611964456, 1.229606091735158, 1.294715853554352, 1.294715853554352, 1.294715853554352, 1.294715853554352, 4.777097074143643, 2.449695357045923, 4.07359761283987, 6.947739282858415, 7.121251986074582, 2.918901710710445, 1.799125988890224, 12.196745295398507, 3.761712391861689, 6.415021571482866, 2.5063746389939507, 5.818216516013367, 3.458972182546471, 3.3183368141457845, 1.9024048808575411, 2.2622431706037514, 4.688571141722823, 6.517419204706464, 3.167917963394465, 1.377863288783059, 3.133433506464001, 7.297605298490539, 11.769151515868485, 1.006377985113152, 1.0063781031156405, 1.052871678978718, 1.052871678978718, 1.0528717684444941, 1.0528717684444941, 1.0867792322907768, 1.1207770739363583, 1.1207770739363583, 1.1207770739363583, 1.1341170654080173, 1.1341509582635152, 1.1342744085653278, 1.134393152619187, 1.1347929928944385, 1.1474525133557945, 1.1474525133557945, 1.1474525133557945, 1.228913387648309, 1.228947604186668, 1.2290952255510015, 1.2291678464096947, 1.2292037007330654, 1.229344124758833, 1.229428611964456, 1.229606091735158, 1.294715853554352, 1.294715853554352, 1.294715853554352, 1.294715853554352, 4.777097074143643, 2.449695357045923, 4.07359761283987, 6.947739282858415, 7.121251986074582, 2.918901710710445, 1.799125988890224, 12.196745295398507, 3.761712391861689, 6.415021571482866, 2.5063746389939507, 5.818216516013367, 3.458972182546471, 3.3183368141457845, 1.9024048808575411, 2.2622431706037514, 4.688571141722823, 6.517419204706464, 3.167917963394465, 1.377863288783059, 3.133433506464001, 7.297605298490539, 11.769151515868485, 1.006377985113152, 1.0063781031156405, 1.052871678978718, 1.052871678978718, 1.0528717684444941, 1.0528717684444941, 1.0867792322907768, 1.1207770739363583, 1.1207770739363583, 1.1207770739363583, 1.1341170654080173, 1.1341509582635152, 1.1342744085653278, 1.134393152619187, 1.1347929928944385, 1.1474525133557945, 1.1474525133557945, 1.1474525133557945, 1.228913387648309, 1.228947604186668, 1.2290952255510015, 1.2291678464096947, 1.2292037007330654, 1.229344124758833, 1.229428611964456, 1.229606091735158, 1.294715853554352, 1.294715853554352, 1.294715853554352, 1.294715853554352, 4.777097074143643, 2.449695357045923, 4.07359761283987, 6.947739282858415, 7.121251986074582, 2.918901710710445, 1.799125988890224, 12.196745295398507, 3.761712391861689, 6.415021571482866, 2.5063746389939507, 5.818216516013367, 3.458972182546471, 3.3183368141457845, 1.9024048808575411, 2.2622431706037514, 4.688571141722823, 6.517419204706464, 3.167917963394465, 1.377863288783059, 3.133433506464001, 7.297605298490539, 11.769151515868485, 1.006377985113152, 1.0063781031156405, 1.052871678978718, 1.052871678978718, 1.0528717684444941, 1.0528717684444941, 1.0867792322907768, 1.1207770739363583, 1.1207770739363583, 1.1207770739363583, 1.1341170654080173, 1.1341509582635152, 1.1342744085653278, 1.134393152619187, 1.1347929928944385, 1.1474525133557945, 1.1474525133557945, 1.1474525133557945, 1.228913387648309, 1.228947604186668, 1.2290952255510015, 1.2291678464096947, 1.2292037007330654, 1.229344124758833, 1.229428611964456, 1.229606091735158, 1.294715853554352, 1.294715853554352, 1.294715853554352, 1.294715853554352, 4.777097074143643, 2.449695357045923, 4.07359761283987, 6.947739282858415, 7.121251986074582, 2.918901710710445, 1.799125988890224, 12.196745295398507, 3.761712391861689, 6.415021571482866, 2.5063746389939507, 5.818216516013367, 3.458972182546471, 3.3183368141457845, 1.9024048808575411, 2.2622431706037514, 4.688571141722823, 6.517419204706464, 3.167917963394465, 1.377863288783059, 3.133433506464001, 7.297605298490539, 11.769151515868485], \"Category\": [\"Default\", \"Default\", \"Default\", \"Default\", \"Default\", \"Default\", \"Default\", \"Default\", \"Default\", \"Default\", \"Default\", \"Default\", \"Default\", \"Default\", \"Default\", \"Default\", \"Default\", \"Default\", \"Default\", \"Default\", \"Default\", \"Default\", \"Default\", \"Default\", \"Default\", \"Default\", \"Default\", \"Default\", \"Default\", \"Default\", \"Topic1\", \"Topic1\", \"Topic1\", \"Topic1\", \"Topic1\", \"Topic1\", \"Topic1\", \"Topic1\", \"Topic1\", \"Topic1\", \"Topic1\", \"Topic1\", \"Topic1\", \"Topic1\", \"Topic1\", \"Topic1\", \"Topic1\", \"Topic1\", \"Topic1\", \"Topic1\", \"Topic1\", \"Topic1\", \"Topic1\", \"Topic1\", \"Topic1\", \"Topic1\", \"Topic1\", \"Topic1\", \"Topic1\", \"Topic1\", \"Topic1\", \"Topic1\", \"Topic1\", \"Topic1\", \"Topic1\", \"Topic1\", \"Topic1\", \"Topic1\", \"Topic1\", \"Topic1\", \"Topic1\", \"Topic1\", \"Topic1\", \"Topic2\", \"Topic2\", \"Topic2\", \"Topic2\", \"Topic2\", \"Topic2\", \"Topic2\", \"Topic2\", \"Topic2\", \"Topic2\", \"Topic2\", \"Topic2\", \"Topic2\", \"Topic2\", \"Topic2\", \"Topic2\", \"Topic2\", \"Topic2\", \"Topic2\", \"Topic2\", \"Topic2\", \"Topic2\", \"Topic2\", \"Topic2\", \"Topic2\", \"Topic2\", \"Topic2\", \"Topic2\", \"Topic2\", \"Topic2\", \"Topic2\", \"Topic2\", \"Topic2\", \"Topic2\", \"Topic2\", \"Topic2\", \"Topic2\", \"Topic2\", \"Topic2\", \"Topic2\", \"Topic3\", \"Topic3\", \"Topic3\", \"Topic3\", \"Topic3\", \"Topic3\", \"Topic3\", \"Topic3\", \"Topic3\", \"Topic3\", \"Topic3\", \"Topic3\", \"Topic3\", \"Topic3\", \"Topic3\", \"Topic3\", \"Topic3\", \"Topic3\", \"Topic3\", \"Topic3\", \"Topic3\", \"Topic3\", \"Topic3\", \"Topic3\", \"Topic3\", \"Topic3\", \"Topic3\", \"Topic3\", \"Topic3\", \"Topic3\", \"Topic3\", \"Topic3\", \"Topic3\", \"Topic3\", \"Topic3\", \"Topic3\", \"Topic3\", \"Topic4\", \"Topic4\", \"Topic4\", \"Topic4\", \"Topic4\", \"Topic4\", \"Topic4\", \"Topic4\", \"Topic4\", \"Topic4\", \"Topic4\", \"Topic4\", \"Topic4\", \"Topic4\", \"Topic4\", \"Topic4\", \"Topic4\", \"Topic4\", \"Topic4\", \"Topic4\", \"Topic4\", \"Topic4\", \"Topic4\", \"Topic4\", \"Topic4\", \"Topic4\", \"Topic4\", \"Topic4\", \"Topic4\", \"Topic4\", \"Topic4\", \"Topic4\", \"Topic4\", \"Topic4\", \"Topic4\", \"Topic5\", \"Topic5\", \"Topic5\", \"Topic5\", \"Topic5\", \"Topic5\", \"Topic5\", \"Topic5\", \"Topic5\", \"Topic5\", \"Topic5\", \"Topic5\", \"Topic5\", \"Topic5\", \"Topic5\", \"Topic5\", \"Topic5\", \"Topic5\", \"Topic5\", \"Topic5\", \"Topic5\", \"Topic5\", \"Topic5\", \"Topic5\", \"Topic5\", \"Topic5\", \"Topic5\", \"Topic5\", \"Topic5\", \"Topic5\", \"Topic6\", \"Topic6\", \"Topic6\", \"Topic6\", \"Topic6\", \"Topic6\", \"Topic6\", \"Topic6\", \"Topic6\", \"Topic6\", \"Topic6\", \"Topic6\", \"Topic6\", \"Topic6\", \"Topic6\", \"Topic6\", \"Topic6\", \"Topic6\", \"Topic6\", \"Topic6\", \"Topic6\", \"Topic6\", \"Topic6\", \"Topic6\", \"Topic6\", \"Topic6\", \"Topic6\", \"Topic6\", \"Topic6\", \"Topic6\", \"Topic6\", \"Topic6\", \"Topic6\", \"Topic6\", \"Topic6\", \"Topic7\", \"Topic7\", \"Topic7\", \"Topic7\", \"Topic7\", \"Topic7\", \"Topic7\", \"Topic7\", \"Topic7\", \"Topic7\", \"Topic7\", \"Topic7\", \"Topic7\", \"Topic7\", \"Topic7\", \"Topic7\", \"Topic7\", \"Topic7\", \"Topic7\", \"Topic7\", \"Topic7\", \"Topic7\", \"Topic7\", \"Topic7\", \"Topic7\", \"Topic7\", \"Topic7\", \"Topic7\", \"Topic7\", \"Topic7\", \"Topic7\", \"Topic7\", \"Topic7\", \"Topic7\", \"Topic7\", \"Topic7\", \"Topic7\", \"Topic7\", \"Topic7\", \"Topic8\", \"Topic8\", \"Topic8\", \"Topic8\", \"Topic8\", \"Topic8\", \"Topic8\", \"Topic8\", \"Topic8\", \"Topic8\", \"Topic8\", \"Topic8\", \"Topic8\", \"Topic8\", \"Topic8\", \"Topic8\", \"Topic8\", \"Topic8\", \"Topic8\", \"Topic8\", \"Topic8\", \"Topic8\", \"Topic8\", \"Topic8\", \"Topic8\", \"Topic8\", \"Topic8\", \"Topic8\", \"Topic8\", \"Topic8\", \"Topic8\", \"Topic8\", \"Topic8\", \"Topic8\", \"Topic8\", \"Topic8\", \"Topic8\", \"Topic8\", \"Topic8\", \"Topic8\", \"Topic8\", \"Topic8\", \"Topic8\", \"Topic8\", \"Topic8\", \"Topic9\", \"Topic9\", \"Topic9\", \"Topic9\", \"Topic9\", \"Topic9\", \"Topic9\", \"Topic9\", \"Topic9\", \"Topic9\", \"Topic9\", \"Topic9\", \"Topic9\", \"Topic9\", \"Topic9\", \"Topic9\", \"Topic9\", \"Topic9\", \"Topic9\", \"Topic9\", \"Topic9\", \"Topic9\", \"Topic9\", \"Topic9\", \"Topic9\", \"Topic9\", \"Topic9\", \"Topic9\", \"Topic9\", \"Topic9\", \"Topic9\", \"Topic9\", \"Topic9\", \"Topic9\", \"Topic9\", \"Topic9\", \"Topic9\", \"Topic9\", \"Topic9\", \"Topic9\", \"Topic10\", \"Topic10\", \"Topic10\", \"Topic10\", \"Topic10\", \"Topic10\", \"Topic10\", \"Topic10\", \"Topic10\", \"Topic10\", \"Topic10\", \"Topic10\", \"Topic10\", \"Topic10\", \"Topic10\", \"Topic10\", \"Topic10\", \"Topic10\", \"Topic10\", \"Topic10\", \"Topic10\", \"Topic10\", \"Topic10\", \"Topic10\", \"Topic10\", \"Topic10\", \"Topic10\", \"Topic10\", \"Topic10\", \"Topic10\", \"Topic10\", \"Topic10\", \"Topic10\", \"Topic10\", \"Topic10\", \"Topic10\", \"Topic10\", \"Topic10\", \"Topic10\", \"Topic10\", \"Topic10\", \"Topic11\", \"Topic11\", \"Topic11\", \"Topic11\", \"Topic11\", \"Topic11\", \"Topic11\", \"Topic11\", \"Topic11\", \"Topic11\", \"Topic11\", \"Topic11\", \"Topic11\", \"Topic11\", \"Topic11\", \"Topic11\", \"Topic11\", \"Topic11\", \"Topic11\", \"Topic11\", \"Topic11\", \"Topic11\", \"Topic11\", \"Topic11\", \"Topic11\", \"Topic11\", \"Topic11\", \"Topic11\", \"Topic11\", \"Topic11\", \"Topic11\", \"Topic11\", \"Topic11\", \"Topic11\", \"Topic11\", \"Topic11\", \"Topic11\", \"Topic11\", \"Topic11\", \"Topic11\", \"Topic11\", \"Topic11\", \"Topic11\", \"Topic11\", \"Topic11\", \"Topic11\", \"Topic11\", \"Topic11\", \"Topic11\", \"Topic11\", \"Topic11\", \"Topic11\", \"Topic11\", \"Topic11\", \"Topic11\", \"Topic11\", \"Topic12\", \"Topic12\", \"Topic12\", \"Topic12\", \"Topic12\", \"Topic12\", \"Topic12\", \"Topic12\", \"Topic12\", \"Topic12\", \"Topic12\", \"Topic12\", \"Topic12\", \"Topic12\", \"Topic12\", \"Topic12\", \"Topic12\", \"Topic12\", \"Topic12\", \"Topic12\", \"Topic12\", \"Topic12\", \"Topic12\", \"Topic12\", \"Topic12\", \"Topic12\", \"Topic12\", \"Topic12\", \"Topic12\", \"Topic12\", \"Topic12\", \"Topic12\", \"Topic12\", \"Topic12\", \"Topic12\", \"Topic12\", \"Topic12\", \"Topic12\", \"Topic12\", \"Topic12\", \"Topic12\", \"Topic12\", \"Topic12\", \"Topic12\", \"Topic12\", \"Topic12\", \"Topic12\", \"Topic12\", \"Topic12\", \"Topic12\", \"Topic13\", \"Topic13\", \"Topic13\", \"Topic13\", \"Topic13\", \"Topic13\", \"Topic13\", \"Topic13\", \"Topic13\", \"Topic13\", \"Topic13\", \"Topic13\", \"Topic13\", \"Topic13\", \"Topic13\", \"Topic13\", \"Topic13\", \"Topic13\", \"Topic13\", \"Topic13\", \"Topic13\", \"Topic13\", \"Topic13\", \"Topic13\", \"Topic13\", \"Topic13\", \"Topic13\", \"Topic13\", \"Topic13\", \"Topic13\", \"Topic13\", \"Topic13\", \"Topic13\", \"Topic13\", \"Topic13\", \"Topic13\", \"Topic13\", \"Topic13\", \"Topic13\", \"Topic13\", \"Topic13\", \"Topic13\", \"Topic13\", \"Topic13\", \"Topic13\", \"Topic13\", \"Topic13\", \"Topic14\", \"Topic14\", \"Topic14\", \"Topic14\", \"Topic14\", \"Topic14\", \"Topic14\", \"Topic14\", \"Topic14\", \"Topic14\", \"Topic14\", \"Topic14\", \"Topic14\", \"Topic14\", \"Topic14\", \"Topic14\", \"Topic14\", \"Topic14\", \"Topic14\", \"Topic14\", \"Topic14\", \"Topic14\", \"Topic14\", \"Topic14\", \"Topic14\", \"Topic14\", \"Topic14\", \"Topic14\", \"Topic14\", \"Topic14\", \"Topic14\", \"Topic14\", \"Topic14\", \"Topic14\", \"Topic14\", \"Topic14\", \"Topic14\", \"Topic14\", \"Topic14\", \"Topic14\", \"Topic14\", \"Topic14\", \"Topic14\", \"Topic14\", \"Topic14\", \"Topic14\", \"Topic14\", \"Topic14\", \"Topic14\", \"Topic14\", \"Topic14\", \"Topic15\", \"Topic15\", \"Topic15\", \"Topic15\", \"Topic15\", \"Topic15\", \"Topic15\", \"Topic15\", \"Topic15\", \"Topic15\", \"Topic15\", \"Topic15\", \"Topic15\", \"Topic15\", \"Topic15\", \"Topic15\", \"Topic15\", \"Topic15\", \"Topic15\", \"Topic15\", \"Topic15\", \"Topic15\", \"Topic15\", \"Topic15\", \"Topic15\", \"Topic15\", \"Topic15\", \"Topic15\", \"Topic15\", \"Topic15\", \"Topic15\", \"Topic15\", \"Topic15\", \"Topic15\", \"Topic15\", \"Topic15\", \"Topic15\", \"Topic15\", \"Topic15\", \"Topic15\", \"Topic15\", \"Topic15\", \"Topic15\", \"Topic15\", \"Topic15\", \"Topic15\", \"Topic15\", \"Topic15\", \"Topic16\", \"Topic16\", \"Topic16\", \"Topic16\", \"Topic16\", \"Topic16\", \"Topic16\", \"Topic16\", \"Topic16\", \"Topic16\", \"Topic16\", \"Topic16\", \"Topic16\", \"Topic16\", \"Topic16\", \"Topic16\", \"Topic16\", \"Topic16\", \"Topic16\", \"Topic16\", \"Topic16\", \"Topic16\", \"Topic16\", \"Topic16\", \"Topic16\", \"Topic16\", \"Topic16\", \"Topic16\", \"Topic16\", \"Topic16\", \"Topic16\", \"Topic16\", \"Topic16\", \"Topic16\", \"Topic16\", \"Topic16\", \"Topic16\", \"Topic16\", \"Topic16\", \"Topic16\", \"Topic16\", \"Topic16\", \"Topic16\", \"Topic16\", \"Topic16\", \"Topic16\", \"Topic16\", \"Topic16\", \"Topic16\", \"Topic16\", \"Topic16\", \"Topic16\", \"Topic16\", \"Topic17\", \"Topic17\", \"Topic17\", \"Topic17\", \"Topic17\", \"Topic17\", \"Topic17\", \"Topic17\", \"Topic17\", \"Topic17\", \"Topic17\", \"Topic17\", \"Topic17\", \"Topic17\", \"Topic17\", \"Topic17\", \"Topic17\", \"Topic17\", \"Topic17\", \"Topic17\", \"Topic17\", \"Topic17\", \"Topic17\", \"Topic17\", \"Topic17\", \"Topic17\", \"Topic17\", \"Topic17\", \"Topic17\", \"Topic17\", \"Topic17\", \"Topic17\", \"Topic17\", \"Topic17\", \"Topic17\", \"Topic17\", \"Topic17\", \"Topic17\", \"Topic17\", \"Topic17\", \"Topic17\", \"Topic17\", \"Topic17\", \"Topic17\", \"Topic17\", \"Topic17\", \"Topic17\", \"Topic17\", \"Topic17\", \"Topic17\", \"Topic17\", \"Topic17\", \"Topic17\", \"Topic18\", \"Topic18\", \"Topic18\", \"Topic18\", \"Topic18\", \"Topic18\", \"Topic18\", \"Topic18\", \"Topic18\", \"Topic18\", \"Topic18\", \"Topic18\", \"Topic18\", \"Topic18\", \"Topic18\", \"Topic18\", \"Topic18\", \"Topic18\", \"Topic18\", \"Topic18\", \"Topic18\", \"Topic18\", \"Topic18\", \"Topic18\", \"Topic18\", \"Topic18\", \"Topic18\", \"Topic18\", \"Topic18\", \"Topic18\", \"Topic18\", \"Topic18\", \"Topic18\", \"Topic18\", \"Topic18\", \"Topic18\", \"Topic18\", \"Topic18\", \"Topic18\", \"Topic18\", \"Topic18\", \"Topic18\", \"Topic18\", \"Topic18\", \"Topic18\", \"Topic18\", \"Topic18\", \"Topic18\", \"Topic18\", \"Topic18\", \"Topic18\", \"Topic18\", \"Topic18\", \"Topic19\", \"Topic19\", \"Topic19\", \"Topic19\", \"Topic19\", \"Topic19\", \"Topic19\", \"Topic19\", \"Topic19\", \"Topic19\", \"Topic19\", \"Topic19\", \"Topic19\", \"Topic19\", \"Topic19\", \"Topic19\", \"Topic19\", \"Topic19\", \"Topic19\", \"Topic19\", \"Topic19\", \"Topic19\", \"Topic19\", \"Topic19\", \"Topic19\", \"Topic19\", \"Topic19\", \"Topic19\", \"Topic19\", \"Topic19\", \"Topic19\", \"Topic19\", \"Topic19\", \"Topic19\", \"Topic19\", \"Topic19\", \"Topic19\", \"Topic19\", \"Topic19\", \"Topic19\", \"Topic19\", \"Topic19\", \"Topic19\", \"Topic19\", \"Topic19\", \"Topic19\", \"Topic19\", \"Topic19\", \"Topic19\", \"Topic19\", \"Topic19\", \"Topic19\", \"Topic19\", \"Topic20\", \"Topic20\", \"Topic20\", \"Topic20\", \"Topic20\", \"Topic20\", \"Topic20\", \"Topic20\", \"Topic20\", \"Topic20\", \"Topic20\", \"Topic20\", \"Topic20\", \"Topic20\", \"Topic20\", \"Topic20\", \"Topic20\", \"Topic20\", \"Topic20\", \"Topic20\", \"Topic20\", \"Topic20\", \"Topic20\", \"Topic20\", \"Topic20\", \"Topic20\", \"Topic20\", \"Topic20\", \"Topic20\", \"Topic20\", \"Topic20\", \"Topic20\", \"Topic20\", \"Topic20\", \"Topic20\", \"Topic20\", \"Topic20\", \"Topic20\", \"Topic20\", \"Topic20\", \"Topic20\", \"Topic20\", \"Topic20\", \"Topic20\", \"Topic20\", \"Topic20\", \"Topic20\", \"Topic20\", \"Topic20\", \"Topic20\", \"Topic20\", \"Topic20\", \"Topic20\"], \"logprob\": [30.0, 29.0, 28.0, 27.0, 26.0, 25.0, 24.0, 23.0, 22.0, 21.0, 20.0, 19.0, 18.0, 17.0, 16.0, 15.0, 14.0, 13.0, 12.0, 11.0, 10.0, 9.0, 8.0, 7.0, 6.0, 5.0, 4.0, 3.0, 2.0, 1.0, -3.3885, -3.7845, -3.3878, -2.3046, -4.4525, -4.4527, -4.4527, -4.4527, -4.4527, -4.4528, -4.4528, -4.4528, -4.4529, -4.4531, -4.4531, -4.4532, -4.4532, -4.4533, -4.4542, -4.4545, -4.4546, -4.4546, -4.4549, -4.4551, -4.4552, -3.7852, -3.7673, -3.7835, -3.7853, -3.1036, -3.3663, -3.7859, -3.785, -3.7836, -3.7835, -3.3663, -3.767, -4.4424, -4.4524, -4.4525, -4.4526, -4.4527, -4.4528, -3.6393, -3.6395, -3.6397, -3.6398, -4.3084, -4.3085, -4.3085, -4.3085, -4.3086, -4.3086, -4.3086, -4.3086, -4.3086, -4.3086, -4.3086, -4.3087, -4.3087, -4.3087, -4.3088, -4.3088, -4.3089, -3.6395, -3.6396, -3.6397, -2.9587, -3.6395, -4.3086, -3.6394, -3.6395, -4.3085, -3.2422, -3.6395, -3.6396, -3.6396, -4.3084, -4.3084, -4.3085, -4.3085, -4.3086, -4.3086, -3.0862, -3.4826, -3.4875, -3.4883, -4.149, -4.149, -4.155, -4.1559, -4.1559, -4.1578, -4.1581, -4.1581, -4.1588, -4.1597, -4.1598, -4.1605, -4.1646, -3.482, -3.0864, -3.0862, -3.4853, -4.159, -4.149, -4.1577, -4.1538, -4.158, -3.4823, -4.1552, -4.1561, -4.1483, -3.4793, -3.4848, -3.4823, -3.4932, -4.1481, -4.1531, -4.1552, -3.0287, -3.0287, -3.0289, -3.4262, -3.0289, -4.0951, -4.0951, -4.0951, -4.0952, -4.0952, -4.0952, -4.0952, -4.0952, -4.0954, -3.0289, -4.0952, -4.0953, -4.0952, -4.0952, -4.0951, -4.0952, -3.4262, -2.5245, -4.0952, -4.0951, -4.0952, -4.0953, -3.4262, -4.0952, -3.4263, -4.095, -4.0951, -4.0951, -4.0951, -4.0951, -3.2154, -3.8844, -3.8844, -3.8844, -3.8844, -3.8844, -3.2154, -2.8181, -3.8844, -3.2154, -3.8844, -3.2154, -3.8844, -2.8181, -3.8844, -3.8844, -3.8844, -2.8181, -3.884, -3.8841, -3.2154, -3.8844, -3.8844, -3.2148, -3.8844, -3.8841, -3.8841, -3.8842, -3.8844, -3.8844, -3.653, -3.6532, -3.6534, -3.6536, -3.6536, -3.6537, -3.6539, -3.654, -3.6531, -3.6533, -3.6534, -3.6545, -3.6507, -3.6522, -3.6507, -3.6531, -3.6507, -2.9845, -2.9764, -2.9807, -3.6531, -3.6519, -3.6492, -3.6498, -2.9612, -3.6532, -3.6533, -6.6952, -6.6952, -6.4131, -6.4796, -6.4918, -6.4003, -6.4261, -6.3986, -3.2489, -3.2489, -3.2489, -3.2489, -3.2489, -3.2489, -3.2489, -2.1825, -3.2489, -2.5798, -3.2489, -3.2489, -3.2489, -3.2489, -3.2489, -6.2934, -6.2934, -6.2934, -6.2934, -6.2934, -6.2934, -6.2934, -6.2934, -6.2934, -6.2934, -6.2934, -6.2934, -6.2934, -6.2934, -6.2934, -6.2934, -6.2934, -6.2934, -6.2934, -6.2934, -6.2934, -6.2934, -6.2934, -6.2934, -3.211, -3.2117, -3.2118, -3.212, -3.2121, -2.5434, -2.1459, -3.2115, -2.5433, -3.2118, -3.2118, -3.2114, -3.212, -6.2542, -6.2542, -6.2542, -6.2542, -6.2542, -6.2542, -6.2542, -6.2542, -6.2542, -6.2542, -6.2542, -6.2542, -6.2542, -6.2542, -6.2542, -6.2542, -6.2542, -6.2542, -6.2542, -6.2542, -6.2542, -6.2542, -6.2542, -6.2542, -6.2542, -6.2542, -6.2542, -6.2542, -6.2542, -6.2542, -6.2542, -6.2542, -3.1721, -3.1721, -3.1721, -3.1721, -3.1721, -3.1721, -2.503, -2.503, -3.1721, -3.1721, -3.1721, -3.1721, -3.1721, -3.1721, -6.2166, -6.2166, -6.2166, -6.2166, -6.2166, -6.2166, -6.2166, -6.2166, -6.2166, -6.2166, -6.2166, -6.2166, -6.2166, -6.2166, -6.2166, -6.2166, -6.2166, -6.2166, -6.2166, -6.2166, -6.2166, -6.2166, -6.2166, -6.2166, -6.2166, -6.2166, -3.1313, -2.4623, -3.1313, -2.4623, -3.1313, -2.4623, -3.1313, -3.1313, -3.1313, -3.1313, -3.1313, -3.1313, -6.1759, -6.1759, -6.1759, -6.1759, -6.1759, -6.1759, -6.1759, -6.1759, -6.1759, -6.1759, -6.1759, -6.1759, -6.1759, -6.1759, -6.1759, -6.1759, -6.1759, -6.1759, -6.1759, -6.1759, -6.1759, -6.1759, -6.1759, -6.1759, -6.1759, -6.1759, -6.1759, -6.1759, -6.1759, -2.9988, -2.9988, -2.9988, -2.9988, -2.3297, -1.9322, -2.9988, -2.9985, -2.9988, -6.0433, -6.0433, -6.0433, -6.0433, -6.0433, -6.0433, -6.0433, -6.0433, -6.0433, -6.0433, -6.0433, -6.0433, -6.0433, -6.0433, -6.0433, -6.0433, -6.0433, -6.0433, -6.0433, -6.0433, -6.0433, -6.0333, -6.0345, -6.0355, -6.0358, -6.0359, -6.0365, -6.0367, -6.0368, -6.0371, -6.0372, -6.0376, -6.0379, -6.0382, -6.0382, -6.0174, -6.0314, -6.0367, -6.0291, -6.031, -6.0314, -6.0333, -6.0354, -6.0358, -6.0366, -6.0367, -6.0371, -2.9553, -2.9553, -2.9553, -2.9553, -2.9553, -2.9514, -2.9553, -2.9553, -2.9553, -2.9497, -2.9409, -5.9998, -5.9998, -5.9998, -5.9998, -5.9998, -5.9998, -5.9998, -5.9998, -5.9998, -5.9998, -5.9998, -5.9998, -5.9998, -5.9998, -5.9998, -5.9998, -5.9998, -5.9998, -5.9998, -5.9258, -5.9268, -5.931, -5.9358, -5.9375, -5.9393, -5.9437, -5.8154, -5.8629, -5.8497, -5.8682, -5.9378, -5.9374, -5.9448, -5.9225, -5.9496, -5.9371, -5.9173, -5.9288, -5.9336, -2.6626, -2.6626, -2.6626, -2.6626, -2.6626, -2.6626, -5.7071, -5.7071, -5.7071, -5.7071, -5.7071, -5.7071, -5.7071, -5.7071, -5.7071, -5.7071, -5.7071, -5.7071, -5.7071, -5.7071, -5.7071, -5.7071, -5.7071, -5.7071, -5.7071, -5.7071, -5.7071, -5.7071, -5.7071, -5.7071, -5.7071, -5.7071, -5.7071, -5.7071, -5.7071, -5.7071, -5.7071, -5.7071, -5.7071, -5.7071, -5.7071, -5.7071, -5.7071, -5.7071, -5.7071, -5.7071, -5.7071, -2.3536, -2.3536, -5.3982, -5.3982, -5.3982, -5.3982, -5.3982, -5.3982, -5.3982, -5.3982, -5.3982, -5.3982, -5.3982, -5.3982, -5.3982, -5.3982, -5.3982, -5.3982, -5.3982, -5.3982, -5.3982, -5.3982, -5.3982, -5.3982, -5.3982, -5.3982, -5.3982, -5.3982, -5.3982, -5.3982, -5.3982, -5.3982, -5.3982, -5.3982, -5.3982, -5.3982, -5.3982, -5.3982, -5.3982, -5.3982, -5.3982, -5.3982, -5.3982, -5.3982, -5.3982, -5.3982, -5.3982, -5.3982, -5.3982, -5.3982, -5.3982, -5.2048, -5.2048, -5.2048, -5.2048, -5.2048, -5.2048, -5.2048, -5.2048, -5.2048, -5.2048, -5.2048, -5.2048, -5.2048, -5.2048, -5.2048, -5.2048, -5.2048, -5.2048, -5.1391, -5.14, -5.144, -5.146, -5.147, -5.1508, -5.1532, -5.1581, -5.2048, -5.2048, -5.2048, -5.2048, -5.129, -5.1558, -5.1526, -5.1491, -5.0932, -5.1526, -5.1553, -5.1552, -5.1567, -5.1519, -5.1533, -5.2048, -5.2048, -5.2048, -5.2048, -5.2048, -5.2048, -5.2048, -5.203, -5.203, -5.203, -5.203, -5.203, -5.203, -5.1531, -5.1542, -5.1582, -5.203, -5.162, -5.1751, -5.203, -5.203, -5.203, -5.203, -5.203, -5.203, -5.203, -5.203, -5.203, -5.203, -5.203, -5.203, -5.203, -5.203, -5.203, -5.203, -5.203, -5.203, -5.0945, -5.0569, -5.1651, -5.0972, -5.16, -5.1591, -5.1548, -5.1665, -5.203, -5.203, -5.203, -5.203, -5.203, -5.203, -5.203, -5.203, -5.203, -5.203, -5.203, -5.203, -5.203, -5.203, -5.203, -5.1985, -5.1985, -5.1985, -5.1985, -5.1985, -5.1985, -5.1985, -5.1985, -5.1985, -5.1985, -5.1985, -5.1985, -5.1985, -5.1985, -5.1985, -5.1985, -5.1985, -5.1985, -5.1985, -5.1985, -5.1985, -5.1985, -5.1985, -5.1985, -5.1985, -5.1985, -5.1985, -5.1985, -5.1985, -5.1985, -5.1985, -5.1985, -5.1985, -5.1985, -5.1985, -5.1985, -5.1985, -5.1985, -5.1985, -5.1985, -5.1985, -5.1985, -5.1985, -5.1985, -5.1985, -5.1985, -5.1985, -5.1985, -5.1985, -5.1985, -5.1985, -5.1985, -5.1985, -5.1985, -5.1985, -5.1985, -5.1985, -5.1985, -5.1985, -5.1985, -5.1985, -5.1985, -5.1985, -5.1985, -5.1985, -5.1985, -5.1985, -5.1985, -5.1985, -5.1985, -5.1985, -5.1985, -5.1985, -5.1985, -5.1985, -5.1985, -5.1985, -5.1985, -5.1985, -5.1985, -5.1985, -5.1985, -5.1985, -5.1985, -5.1985, -5.1985, -5.1985, -5.1985, -5.1985, -5.1985, -5.1985, -5.1985, -5.1985, -5.1985, -5.1985, -5.1985, -5.1985, -5.1985, -5.1985, -5.1985, -5.1985, -5.1985, -5.1985, -5.1985, -5.1985, -5.1985, -5.1985, -5.1985, -5.1985, -5.1985, -5.1985, -5.1985, -5.1985, -5.1985, -5.1985, -5.1985, -5.1985, -5.1985, -5.1985, -5.1985, -5.1985, -5.1985, -5.1985, -5.1985, -5.1985, -5.1985, -5.1985, -5.1985, -5.1985, -5.1985, -5.1985, -5.1985, -5.1985, -5.1985, -5.1985, -5.1985, -5.1985, -5.1985, -5.1985, -5.1985, -5.1985, -5.1985, -5.1985, -5.1985, -5.1985, -5.1985, -5.1985, -5.1985, -5.1985, -5.1985, -5.1985, -5.1985, -5.1985, -5.1985, -5.1985, -5.1985, -5.1985, -5.1985, -5.1985, -5.1985, -5.1985, -5.1985, -5.1985, -5.1985, -5.1985, -5.1985, -5.1985, -5.1985, -5.1985, -5.1985, -5.1985, -5.1985, -5.1985, -5.1985, -5.1985, -5.1985, -5.1985, -5.1985, -5.1985, -5.1985, -5.1985, -5.1985, -5.1985, -5.1985, -5.1985, -5.1985, -5.1985, -5.1985, -5.1985, -5.1985, -5.1985, -5.1985, -5.1985, -5.1985, -5.1985, -5.1985, -5.1985, -5.1985, -5.1985, -5.1985, -5.1985, -5.1985, -5.1985, -5.1985, -5.1985, -5.1985, -5.1985, -5.1985, -5.1985, -5.1985, -5.1985, -5.1985], \"loglift\": [30.0, 29.0, 28.0, 27.0, 26.0, 25.0, 24.0, 23.0, 22.0, 21.0, 20.0, 19.0, 18.0, 17.0, 16.0, 15.0, 14.0, 13.0, 12.0, 11.0, 10.0, 9.0, 8.0, 7.0, 6.0, 5.0, 4.0, 3.0, 2.0, 1.0, 1.5269, 1.4623, 1.2992, 1.2983, 1.2946, 1.2945, 1.2944, 1.2944, 1.2944, 1.2944, 1.2944, 1.2944, 1.2943, 1.2941, 1.2941, 1.2941, 1.294, 1.2939, 1.2935, 1.2934, 1.2933, 1.2932, 1.2931, 1.2929, 1.2929, 1.2547, 1.159, 1.1435, 1.1333, 0.9773, 0.9618, 0.9681, 0.7383, 0.7071, 0.662, 0.2009, 0.4694, -0.4235, 0.4165, 0.7992, 0.8115, -0.0255, 0.6968, 1.6177, 1.6176, 1.6174, 1.6172, 1.4474, 1.4474, 1.4474, 1.4473, 1.4473, 1.4473, 1.4473, 1.4473, 1.4473, 1.4472, 1.4472, 1.4472, 1.4472, 1.4472, 1.4471, 1.447, 1.447, 1.368, 1.2939, 1.2826, 1.2353, 1.1879, 1.0643, 1.0508, 1.0499, 1.012, 0.9829, 0.8842, 0.8537, 0.6679, 0.9437, 0.6102, -0.7412, 0.6325, 0.9595, 0.6643, 1.8627, 1.7958, 1.7914, 1.7907, 1.6242, 1.6242, 1.6187, 1.6179, 1.6179, 1.6162, 1.6158, 1.6158, 1.6153, 1.6144, 1.6143, 1.6137, 1.6099, 1.459, 1.4069, 1.3424, 1.2041, 1.142, 1.1312, 1.1229, 1.114, 1.1101, 1.0776, 1.0038, 0.976, 0.8296, 0.8282, 0.6452, 0.623, 0.5257, 0.5421, 0.7803, 0.7874, 1.9241, 1.9241, 1.924, 1.856, 1.705, 1.6814, 1.6814, 1.6814, 1.6813, 1.6813, 1.6813, 1.6813, 1.6813, 1.6812, 1.4619, 1.2917, 1.2915, 1.1854, 1.1849, 1.1691, 1.169, 1.1337, 1.0428, 1.0368, 0.9088, 0.8474, 0.8318, 0.7038, 0.5949, 0.5926, 0.3505, 0.0103, 0.4282, 0.3335, 0.2329, 2.108, 1.9257, 1.9257, 1.9257, 1.9257, 1.9257, 1.7575, 1.7056, 1.6565, 1.5282, 1.4704, 1.4485, 1.4166, 1.407, 1.4052, 1.4052, 1.4052, 1.3917, 1.248, 1.1198, 1.0211, 0.9845, 0.8696, 0.8041, 0.8026, 0.6391, 0.4439, 0.2212, 0.1965, -0.2815, 2.2087, 2.2086, 2.2086, 2.2085, 2.2085, 2.2084, 2.2084, 2.2083, 1.7765, 1.7016, 1.6667, 1.666, 1.6633, 1.3902, 1.3532, 1.3441, 1.3271, 1.2252, 1.1536, 1.1001, 1.0808, 0.8714, 0.7963, 0.7774, 0.6417, 0.5719, 0.5406, -0.6332, -0.6332, -0.6386, -0.7054, -0.7176, -1.1213, -1.1472, -2.3797, 2.682, 2.682, 2.682, 2.2322, 2.1808, 2.1049, 1.9236, 1.9228, 1.7935, 1.4391, 1.415, 1.2557, 1.1966, 1.1797, 1.1783, -0.2313, -0.2313, -0.2765, -0.2765, -0.2765, -0.2765, -0.3082, -0.339, -0.339, -0.339, -0.3508, -0.3509, -0.351, -0.3511, -0.3514, -2.1634, -1.2962, -2.7262, -1.5499, -2.0836, -1.1438, -1.986, -1.466, -1.4245, 2.731, 2.7307, 2.7306, 2.7305, 2.7305, 2.629, 2.3587, 2.2696, 2.1206, 1.7855, 0.9182, 0.8939, 0.3552, -0.1921, -0.1921, -0.2373, -0.2373, -0.2373, -0.2373, -0.269, -0.2998, -0.2998, -0.2998, -0.3233, -0.3233, -0.3233, -0.3919, -0.3919, -0.392, -0.3921, -1.5106, -2.0444, -1.1046, -1.9468, -1.4267, -1.3852, -0.8289, -1.0021, -1.7309, -2.0602, -1.3388, -0.5063, -1.3279, -2.1733, -2.6512, 2.7823, 2.7823, 2.7823, 2.2148, 2.2148, 2.2008, 2.0016, 1.9242, 1.8354, 1.8251, 1.5819, 1.1353, 1.0377, 0.3952, -0.1545, -0.1545, -0.1997, -0.1997, -0.1997, -0.1997, -0.2314, -0.274, -0.2741, -0.2742, -0.2743, -0.2746, -0.2857, -0.2857, -0.2857, -0.3543, -1.0441, -1.5527, -2.0866, -2.1113, -0.7355, -1.4731, -1.067, -1.3891, -1.3476, -0.7913, 2.8539, 2.6698, 2.4606, 2.3652, 2.0182, 1.8451, 1.7376, 1.6122, 1.4286, 1.1051, 1.0784, 0.974, -0.1138, -0.1138, -0.159, -0.159, -0.159, -0.159, -0.2215, -0.2215, -0.2215, -0.2333, -0.2333, -0.2334, -0.2335, -0.2339, -0.245, -0.245, -0.245, -0.3136, -1.6713, -1.0034, -1.512, -2.0459, -1.1786, -0.6947, -2.6086, -0.7506, -0.9238, -1.6526, -1.9819, 3.0181, 3.0181, 3.0181, 3.0181, 2.8293, 1.635, 1.4298, 1.4288, 1.211, 0.0188, 0.0188, -0.0581, -0.0889, -0.0889, -0.0889, -0.1007, -0.1008, -0.1009, -0.101, -0.1013, -0.1124, -0.1124, -0.1124, -0.181, -0.181, -0.1812, -0.1812, -0.1813, -0.1814, -0.1814, -0.286, -0.2872, -0.2882, -0.2885, -0.2887, -0.2893, -0.2895, -0.2896, -0.2899, -0.2901, -0.2904, -0.2907, -0.291, -0.2911, -2.4144, -1.1043, -0.683, -1.7011, -1.5855, -1.9505, -1.5425, -0.9955, -1.1172, -1.5133, -0.7725, -0.9947, 3.1068, 3.1068, 2.6367, 2.4701, 2.1943, 2.0884, 1.9137, 1.4903, 1.472, 1.1312, 0.662, 0.0171, 0.0171, 0.0171, 0.0171, -0.0146, -0.0454, -0.0454, -0.0454, -0.0572, -0.0572, -0.0573, -0.0574, -0.0578, -0.0689, -0.0689, -0.0689, -0.1375, -0.1375, -0.1376, -0.1778, -0.1787, -0.183, -0.1879, -0.1896, -0.1914, -0.1959, -0.9001, -0.9366, -1.1627, -1.1142, -0.6238, -0.6852, -0.6979, -1.0039, -0.6975, -1.0148, -1.6809, -1.4055, -1.6056, 2.8784, 2.4694, 2.3346, 1.842, 1.4183, 0.9404, 0.355, 0.355, 0.3098, 0.3098, 0.3098, 0.3098, 0.2781, 0.2473, 0.2473, 0.2473, 0.2355, 0.2354, 0.2353, 0.2352, 0.2349, 0.2238, 0.2238, 0.2238, 0.1552, 0.1552, 0.155, 0.155, 0.155, 0.1548, -0.5346, -1.0432, -1.5771, -1.6018, -0.226, -2.1399, -0.9636, -1.4973, -0.5575, -1.3997, -0.8797, -0.8381, -0.2818, -0.455, -1.1838, -1.5132, -0.7918, 2.3899, 1.8561, 0.6639, 0.6639, 0.6187, 0.6187, 0.6187, 0.6187, 0.587, 0.5562, 0.5562, 0.5562, 0.5444, 0.5444, 0.5443, 0.5442, 0.5438, 0.5327, 0.5327, 0.5327, 0.4641, 0.4641, 0.464, 0.4639, 0.4639, 0.4638, 0.4637, 0.4636, 0.412, 0.412, -0.8936, -0.2257, -0.7343, -1.2682, -1.2928, -0.4009, 0.083, -1.8309, -0.2486, -1.0907, -0.5707, -0.5292, 0.0271, -0.1461, -0.8749, -1.2042, -0.4828, 0.3497, -0.4719, -1.3173, -1.7952, 0.8573, 0.8573, 0.8121, 0.8121, 0.8121, 0.8121, 0.7804, 0.7496, 0.7496, 0.7496, 0.7378, 0.7377, 0.7376, 0.7375, 0.7372, 0.7261, 0.7261, 0.7261, 0.7232, 0.7223, 0.7181, 0.7161, 0.7151, 0.7111, 0.7087, 0.7037, 0.6053, 0.6053, 0.6053, 0.6053, 0.1915, 0.2739, 0.2023, 0.1711, -0.8834, -0.1102, -0.1581, -0.4212, -0.6334, -0.9579, -0.9282, -0.7002, -0.0323, -0.5409, -1.0748, -1.0995, 0.2763, -1.6375, 0.8591, 0.8591, 0.8139, 0.8139, 0.8139, 0.8139, 0.7894, 0.7883, 0.7842, 0.7822, 0.7803, 0.7669, 0.7514, 0.7514, 0.7514, 0.7279, 0.7279, 0.7279, 0.6593, 0.6593, 0.6592, 0.6591, 0.6591, 0.659, 0.6589, 0.6587, 0.6071, 0.6071, 0.6071, 0.6071, 0.078, -0.5523, 0.316, -0.4333, -0.1628, -1.0291, -1.5876, -1.0611, -0.4594, -0.9932, -0.0534, -0.8956, -0.3755, -0.334, 0.2223, 0.0491, -0.6797, -1.009, -0.2876, 0.5449, -0.2767, -1.1221, -1.6, 0.8636, 0.8636, 0.8184, 0.8184, 0.8184, 0.8184, 0.7867, 0.7559, 0.7559, 0.7559, 0.7441, 0.744, 0.7439, 0.7438, 0.7435, 0.7324, 0.7324, 0.7324, 0.6638, 0.6638, 0.6637, 0.6636, 0.6636, 0.6634, 0.6634, 0.6632, 0.6116, 0.6116, 0.6116, 0.6116, -0.6939, -0.026, -0.5346, -1.0685, -1.0932, -0.2013, 0.2826, -1.6312, -0.4549, -0.9887, -0.0489, -0.8911, -0.371, -0.3295, 0.2268, 0.0536, -0.6752, -1.0046, -0.2831, 0.5494, -0.2722, -1.1176, -1.5956, 0.8636, 0.8636, 0.8184, 0.8184, 0.8184, 0.8184, 0.7867, 0.7559, 0.7559, 0.7559, 0.7441, 0.744, 0.7439, 0.7438, 0.7435, 0.7324, 0.7324, 0.7324, 0.6638, 0.6638, 0.6637, 0.6636, 0.6636, 0.6634, 0.6634, 0.6632, 0.6116, 0.6116, 0.6116, 0.6116, -0.6939, -0.026, -0.5346, -1.0685, -1.0932, -0.2013, 0.2826, -1.6312, -0.4549, -0.9887, -0.0489, -0.8911, -0.371, -0.3295, 0.2268, 0.0536, -0.6752, -1.0046, -0.2831, 0.5494, -0.2722, -1.1176, -1.5956, 0.8636, 0.8636, 0.8184, 0.8184, 0.8184, 0.8184, 0.7867, 0.7559, 0.7559, 0.7559, 0.7441, 0.744, 0.7439, 0.7438, 0.7435, 0.7324, 0.7324, 0.7324, 0.6638, 0.6638, 0.6637, 0.6636, 0.6636, 0.6634, 0.6634, 0.6632, 0.6116, 0.6116, 0.6116, 0.6116, -0.6939, -0.026, -0.5346, -1.0685, -1.0932, -0.2013, 0.2826, -1.6312, -0.4549, -0.9887, -0.0489, -0.8911, -0.371, -0.3295, 0.2268, 0.0536, -0.6752, -1.0046, -0.2831, 0.5494, -0.2722, -1.1176, -1.5956, 0.8636, 0.8636, 0.8184, 0.8184, 0.8184, 0.8184, 0.7867, 0.7559, 0.7559, 0.7559, 0.7441, 0.744, 0.7439, 0.7438, 0.7435, 0.7324, 0.7324, 0.7324, 0.6638, 0.6638, 0.6637, 0.6636, 0.6636, 0.6634, 0.6634, 0.6632, 0.6116, 0.6116, 0.6116, 0.6116, -0.6939, -0.026, -0.5346, -1.0685, -1.0932, -0.2013, 0.2826, -1.6312, -0.4549, -0.9887, -0.0489, -0.8911, -0.371, -0.3295, 0.2268, 0.0536, -0.6752, -1.0046, -0.2831, 0.5494, -0.2722, -1.1176, -1.5956]}, \"token.table\": {\"Topic\": [1, 2, 5, 6, 3, 4, 1, 3, 4, 5, 7, 2, 1, 2, 2, 3, 6, 6, 1, 2, 1, 1, 4, 5, 6, 2, 3, 3, 1, 5, 7, 8, 9, 4, 2, 3, 2, 2, 8, 9, 3, 4, 7, 11, 4, 4, 2, 5, 2, 6, 1, 2, 4, 6, 2, 6, 1, 2, 3, 4, 1, 6, 7, 9, 11, 12, 6, 2, 1, 1, 6, 7, 1, 1, 3, 12, 2, 11, 7, 8, 5, 4, 3, 2, 9, 1, 10, 12, 6, 2, 1, 5, 6, 12, 4, 5, 2, 3, 1, 5, 6, 12, 1, 5, 7, 8, 3, 1, 4, 2, 3, 4, 3, 11, 2, 7, 3, 2, 2, 2, 1, 4, 2, 5, 10, 12, 2, 3, 4, 6, 8, 3, 5, 7, 3, 5, 3, 4, 10, 3, 4, 8, 1, 12, 2, 2, 9, 2, 3, 4, 5, 6, 3, 2, 5, 3, 10, 6, 7, 2, 5, 1, 6, 1, 2, 3, 9, 10, 4, 3, 4, 5, 7, 8, 10, 4, 3, 5, 10, 8, 2, 1, 7, 1, 2, 1, 2, 1, 3, 4, 5, 1, 4, 1, 12, 1, 4, 6, 7, 12, 5, 6, 6, 8, 9, 1, 5, 9, 6, 3, 1, 1, 9, 5, 1, 12, 1, 1, 4, 6, 4, 9, 8, 2, 3, 4, 2, 7, 7, 8, 2, 9, 2, 3, 3, 2, 6, 4, 9, 2, 5, 3, 2, 2, 10, 2, 1, 5, 1, 2, 3, 4, 8, 9, 11, 1, 4, 10, 1, 11, 1, 2, 4, 3, 4, 5, 3, 4, 1, 2, 6, 1, 1, 2, 3, 5, 10, 1, 2, 3, 4, 11, 1, 4, 4, 5, 6, 9, 10, 11, 2, 3, 3, 3, 1, 5, 3, 8, 1, 6, 11, 1, 5, 6, 1, 5, 10, 12, 3, 1, 2, 1], \"Freq\": [0.7252955868118125, 0.47487147756387116, 0.31658098504258075, 0.15829049252129038, 0.7449888685156463, 0.7468246741269976, 0.1287966071498163, 0.2575932142996326, 0.2575932142996326, 0.2575932142996326, 0.1287966071498163, 0.8884777360046974, 0.4418909872998205, 0.4418909872998205, 0.3360228438472227, 0.3360228438472227, 0.3360228438472227, 0.8132685798497067, 0.4420391286817846, 0.4420391286817846, 0.7252645025591116, 0.4265691912408727, 0.21328459562043636, 0.21328459562043636, 0.21328459562043636, 0.4490617097928226, 0.4490617097928226, 0.7443525645517318, 0.7252374256697147, 0.7723702442159215, 0.20933214973012937, 0.41866429946025874, 0.20933214973012937, 0.7468222116357267, 0.41394798256552023, 0.6209219738482803, 0.8884837634525398, 0.7315737059831677, 0.881217989766899, 0.8922380937788379, 0.5820250721735835, 0.19400835739119449, 0.19400835739119449, 0.19400835739119449, 0.9110777928974486, 0.7468245929916324, 0.458964343687548, 0.458964343687548, 0.47317720596707785, 0.47317720596707785, 0.15343496690804603, 0.6137398676321841, 0.15343496690804603, 0.15343496690804603, 0.47333948920372654, 0.47333948920372654, 0.7252466390412446, 0.3243660730254814, 0.3243660730254814, 0.3243660730254814, 0.19374338813674152, 0.19374338813674152, 0.19374338813674152, 0.19374338813674152, 0.19374338813674152, 0.19374338813674152, 0.8136066101401553, 0.7315739150480478, 0.946994219757339, 0.3584156370599934, 0.3584156370599934, 0.3584156370599934, 0.7257614076380602, 0.6382774665153014, 0.3191387332576507, 0.9936623192655976, 0.731572546259079, 0.9497833591364112, 0.4082140242964316, 0.4082140242964316, 0.7723702442159215, 0.7468221003358446, 0.907657355332991, 0.7315733197611692, 0.8922380937788379, 0.3989826518518382, 0.3989826518518382, 0.3989826518518382, 0.8137043406840861, 0.8884810352102449, 0.5481250131227806, 0.13703125328069515, 0.2740625065613903, 0.13703125328069515, 0.39203069359884396, 0.39203069359884396, 0.4491496405475864, 0.4491496405475864, 0.6797431394449724, 0.08496789243062156, 0.1699357848612431, 0.08496789243062156, 0.7258570114645441, 0.4909665092340132, 0.2454832546170066, 0.2454832546170066, 0.7443525645517318, 0.41292220899032844, 0.6193833134854926, 0.7315731856552925, 0.45483193736341504, 0.45483193736341504, 0.4027653618496874, 0.4027653618496874, 0.7315716679547343, 0.8714957598336156, 0.7449497379509329, 0.7315712217974514, 0.7315744439546009, 0.7315723003109277, 0.4474153598371502, 0.4474153598371502, 0.4589647606261724, 0.4589647606261724, 0.6209857293151849, 0.6209857293151849, 0.14393171063099872, 0.28786342126199743, 0.28786342126199743, 0.28786342126199743, 0.14393171063099872, 0.9792654000529482, 0.5900987237205343, 0.8714957598336156, 0.46421473210553715, 0.46421473210553715, 0.4424873343949218, 0.4424873343949218, 0.2212436671974609, 0.7449494617680534, 0.9831486009583903, 0.8816208780244253, 0.5256504596167947, 0.5256504596167947, 0.731577195407273, 0.4987827891041521, 0.4987827891041521, 0.5036573318839647, 0.5036573318839647, 0.3449053796357896, 0.3449053796357896, 0.3449053796357896, 0.7451024138782482, 0.4267335612864001, 0.4267335612864001, 0.3920734353019707, 0.3920734353019707, 0.5279380696281253, 0.5279380696281253, 0.45896422966150113, 0.45896422966150113, 0.47029144829783087, 0.47029144829783087, 0.7252755576535258, 0.3437479499938577, 0.3437479499938577, 0.17187397499692886, 0.17187397499692886, 0.7468238416989544, 0.2808494916218309, 0.14042474581091546, 0.14042474581091546, 0.2808494916218309, 0.14042474581091546, 0.14042474581091546, 0.9831545034031404, 0.2658363787097225, 0.531672757419445, 0.2658363787097225, 0.8815285932316426, 0.7315730724679472, 0.4893692279957326, 0.4893692279957326, 0.44208755944376066, 0.44208755944376066, 0.7256792508638334, 0.8884747253998329, 0.5263472076917884, 0.17544906923059614, 0.17544906923059614, 0.17544906923059614, 0.6387425750473732, 0.3193712875236866, 0.7252407727987297, 0.9936624357771152, 0.39464906078809325, 0.19732453039404663, 0.19732453039404663, 0.19732453039404663, 0.19732453039404663, 0.9493847886599718, 0.8137269965897552, 0.3425946123264991, 0.3425946123264991, 0.3425946123264991, 0.5372534339097065, 0.26862671695485324, 0.26862671695485324, 0.8133859829422214, 0.7449271988825945, 0.7252441124671207, 0.8794803602989602, 0.8922380937788379, 0.7723702442159215, 0.7150134748549138, 0.3575067374274569, 0.7257254015748426, 0.7252850213399865, 0.7898714774051449, 0.2632904924683816, 0.5058270950422888, 0.5058270950422888, 0.8817168408790025, 0.5040491784989628, 0.2520245892494814, 0.2520245892494814, 0.7315753259563509, 0.8714957598336156, 0.5558254431179896, 0.5558254431179896, 0.692280033357303, 0.3461400166786515, 0.7315721640628841, 0.7450487157439476, 0.7450556269476346, 0.7315728835075387, 0.8135585411877829, 0.5058250691774074, 0.5058250691774074, 0.3343663513897694, 0.6687327027795388, 0.9081938656528828, 0.7315762433459502, 0.5782064423911076, 0.2891032211955538, 0.731570741770708, 0.7536600490922125, 0.2512200163640708, 0.24596725825961263, 0.08198908608653754, 0.08198908608653754, 0.3279563443461502, 0.08198908608653754, 0.08198908608653754, 0.1639781721730751, 0.725305219833067, 0.7468282622136847, 0.920150082268449, 0.725247719605156, 0.9497832784303766, 0.7252423317595459, 0.7315723180769682, 0.7468240997336947, 0.7448053881038597, 0.9831468501236043, 0.7723702442159215, 0.4546206952076202, 0.4546206952076202, 0.3178534292470999, 0.6357068584941998, 0.8134418832449989, 0.7252909354710072, 0.32018237160579516, 0.16009118580289758, 0.16009118580289758, 0.32018237160579516, 0.16009118580289758, 0.7252493358303834, 0.6428745403842895, 0.32143727019214474, 0.7468246145299346, 0.9497832784303766, 0.4474301463334146, 0.4474301463334146, 0.7468216831981045, 0.31176824235334405, 0.31176824235334405, 0.15588412117667202, 0.15588412117667202, 0.15588412117667202, 0.3238686884144668, 0.6477373768289336, 0.7448061183281256, 0.9081146043515662, 0.7258124192866411, 0.7723702442159215, 0.74474758613344, 0.8817431908056454, 0.7257441212518309, 0.8135348107100766, 0.9497833591364112, 0.7258667871033722, 0.4898818389379333, 0.4898818389379333, 0.3013557863496816, 0.3013557863496816, 0.3013557863496816, 0.3013557863496816, 0.745368946917319, 0.6333782882059613, 0.31668914410298066, 0.7252211794044952], \"Term\": [\"able\", \"account\", \"account\", \"account\", \"acknowledge\", \"actual\", \"actually\", \"actually\", \"actually\", \"actually\", \"actually\", \"advise\", \"ago\", \"ago\", \"anyway\", \"anyway\", \"anyway\", \"apart\", \"apply\", \"apply\", \"arise\", \"arm\", \"arm\", \"arm\", \"arm\", \"ask\", \"ask\", \"available\", \"aware\", \"back\", \"bill\", \"bill\", \"bill\", \"bundle\", \"call\", \"call\", \"care\", \"certain\", \"check\", \"choose\", \"come\", \"come\", \"come\", \"come\", \"connect\", \"course\", \"create\", \"create\", \"credential\", \"credential\", \"customer\", \"customer\", \"customer\", \"customer\", \"d\", \"d\", \"datum\", \"day\", \"day\", \"day\", \"definitely\", \"definitely\", \"definitely\", \"definitely\", \"definitely\", \"definitely\", \"different\", \"do\", \"download\", \"easy\", \"easy\", \"easy\", \"electricity\", \"email\", \"email\", \"encounter\", \"end\", \"entity\", \"estimate\", \"estimate\", \"eventually\", \"example\", \"expect\", \"experience\", \"facility\", \"far\", \"far\", \"far\", \"fault\", \"figure\", \"fill\", \"fill\", \"fill\", \"fill\", \"find\", \"find\", \"first\", \"first\", \"form\", \"form\", \"form\", \"form\", \"generally\", \"get\", \"get\", \"get\", \"give\", \"go\", \"go\", \"gon\", \"good\", \"good\", \"government\", \"government\", \"grant\", \"guy\", \"happen\", \"helpful\", \"helpfulness\", \"honest\", \"house\", \"house\", \"i\", \"i\", \"ideally\", \"ideally\", \"inaudible\", \"inaudible\", \"inaudible\", \"inaudible\", \"inaudible\", \"inform\", \"initially\", \"input\", \"instal\", \"instal\", \"install\", \"install\", \"install\", \"installation\", \"internet\", \"interruption\", \"issue\", \"issue\", \"kind\", \"kinda\", \"kinda\", \"know\", \"know\", \"knowledge\", \"knowledge\", \"knowledge\", \"least\", \"login\", \"login\", \"long\", \"long\", \"make\", \"make\", \"manage\", \"manage\", \"manually\", \"manually\", \"maybe\", \"mean\", \"mean\", \"mean\", \"mean\", \"melita\", \"meter\", \"meter\", \"meter\", \"meter\", \"meter\", \"meter\", \"mobile\", \"month\", \"month\", \"month\", \"monthly\", \"mother\", \"much\", \"much\", \"need\", \"need\", \"new\", \"number\", \"obviously\", \"obviously\", \"obviously\", \"obviously\", \"offer\", \"offer\", \"office\", \"ok\", \"online\", \"online\", \"online\", \"online\", \"online\", \"open\", \"partly\", \"pay\", \"pay\", \"pay\", \"payment\", \"payment\", \"payment\", \"perspective\", \"phonecall\", \"physically\", \"picture\", \"point\", \"pretty\", \"print\", \"print\", \"proof\", \"protection\", \"provide\", \"provide\", \"provider\", \"provider\", \"put\", \"quite\", \"quite\", \"quite\", \"rating\", \"read\", \"reading\", \"reading\", \"really\", \"really\", \"recall\", \"receipt\", \"receive\", \"reception\", \"remember\", \"respect\", \"respect\", \"roughly\", \"roughly\", \"round\", \"rude\", \"say\", \"say\", \"scale\", \"send\", \"send\", \"service\", \"service\", \"service\", \"service\", \"service\", \"service\", \"service\", \"sign\", \"similar\", \"slightly\", \"smooth\", \"smoother\", \"solution\", \"sometime\", \"sort\", \"specify\", \"still\", \"straightforward\", \"submeter\", \"submeter\", \"support\", \"support\", \"suppose\", \"sure\", \"take\", \"take\", \"take\", \"take\", \"take\", \"telephone\", \"tell\", \"tell\", \"temporarily\", \"tend\", \"term\", \"term\", \"thing\", \"think\", \"think\", \"think\", \"think\", \"think\", \"time\", \"time\", \"timeframe\", \"today\", \"together\", \"try\", \"uhm\", \"upcoming\", \"upload\", \"use\", \"usually\", \"water\", \"way\", \"way\", \"website\", \"website\", \"website\", \"website\", \"week\", \"well\", \"well\", \"year\"]}, \"R\": 30, \"lambda.step\": 0.01, \"plot.opts\": {\"xlab\": \"PC1\", \"ylab\": \"PC2\"}, \"topic.order\": [14, 2, 18, 10, 12, 9, 11, 13, 1, 6, 17, 16, 20, 7, 19, 8, 5, 4, 15, 3]};\n",
       "\n",
       "function LDAvis_load_lib(url, callback){\n",
       "  var s = document.createElement('script');\n",
       "  s.src = url;\n",
       "  s.async = true;\n",
       "  s.onreadystatechange = s.onload = callback;\n",
       "  s.onerror = function(){console.warn(\"failed to load library \" + url);};\n",
       "  document.getElementsByTagName(\"head\")[0].appendChild(s);\n",
       "}\n",
       "\n",
       "if(typeof(LDAvis) !== \"undefined\"){\n",
       "   // already loaded: just create the visualization\n",
       "   !function(LDAvis){\n",
       "       new LDAvis(\"#\" + \"ldavis_el360901402609141568167358423599\", ldavis_el360901402609141568167358423599_data);\n",
       "   }(LDAvis);\n",
       "}else if(typeof define === \"function\" && define.amd){\n",
       "   // require.js is available: use it to load d3/LDAvis\n",
       "   require.config({paths: {d3: \"https://d3js.org/d3.v5\"}});\n",
       "   require([\"d3\"], function(d3){\n",
       "      window.d3 = d3;\n",
       "      LDAvis_load_lib(\"https://cdn.jsdelivr.net/gh/bmabey/pyLDAvis/pyLDAvis/js/ldavis.v3.0.0.js\", function(){\n",
       "        new LDAvis(\"#\" + \"ldavis_el360901402609141568167358423599\", ldavis_el360901402609141568167358423599_data);\n",
       "      });\n",
       "    });\n",
       "}else{\n",
       "    // require.js not available: dynamically load d3 & LDAvis\n",
       "    LDAvis_load_lib(\"https://d3js.org/d3.v5.js\", function(){\n",
       "         LDAvis_load_lib(\"https://cdn.jsdelivr.net/gh/bmabey/pyLDAvis/pyLDAvis/js/ldavis.v3.0.0.js\", function(){\n",
       "                 new LDAvis(\"#\" + \"ldavis_el360901402609141568167358423599\", ldavis_el360901402609141568167358423599_data);\n",
       "            })\n",
       "         });\n",
       "}\n",
       "</script>"
      ],
      "text/plain": [
       "PreparedData(topic_coordinates=              x         y  topics  cluster       Freq\n",
       "topic                                                \n",
       "13     0.157419  0.235315       1        1  18.681467\n",
       "1      0.001472 -0.280407       2        1  15.964321\n",
       "17    -0.257469 -0.116315       3        1  13.255681\n",
       "9     -0.199799  0.214787       4        1  12.492297\n",
       "11     0.183052 -0.191317       5        1   9.598212\n",
       "8      0.217582 -0.077557       6        1   7.003990\n",
       "10    -0.064063  0.193646       7        1   4.161691\n",
       "12    -0.137641 -0.154031       8        1   3.930408\n",
       "0     -0.180740  0.042301       9        1   3.699307\n",
       "5      0.168956  0.089213      10        1   3.362359\n",
       "16     0.146859  0.004250      11        1   2.779605\n",
       "15     0.053496  0.141544      12        1   2.444140\n",
       "19    -0.082490 -0.014521      13        1   1.393228\n",
       "6      0.030756 -0.021363      14        1   0.490294\n",
       "18    -0.005804 -0.011077      15        1   0.126713\n",
       "7     -0.006661 -0.010987      16        1   0.126648\n",
       "4     -0.006232 -0.010871      17        1   0.122410\n",
       "3     -0.006232 -0.010871      18        1   0.122410\n",
       "14    -0.006232 -0.010871      19        1   0.122410\n",
       "2     -0.006232 -0.010871      20        1   0.122410, topic_info=           Term       Freq      Total Category  logprob  loglift\n",
       "29         form  11.000000  11.000000  Default  30.0000  30.0000\n",
       "11      service  12.000000  12.000000  Default  29.0000  29.0000\n",
       "14        think   6.000000   6.000000  Default  28.0000  28.0000\n",
       "28         fill   7.000000   7.000000  Default  27.0000  27.0000\n",
       "0          bill   4.000000   4.000000  Default  26.0000  26.0000\n",
       "..          ...        ...        ...      ...      ...      ...\n",
       "25     download   0.002922   3.167918  Topic20  -5.1985  -0.2831\n",
       "26  electricity   0.002922   1.377863  Topic20  -5.1985   0.5494\n",
       "27        email   0.002922   3.133434  Topic20  -5.1985  -0.2722\n",
       "28         fill   0.002922   7.297605  Topic20  -5.1985  -1.1176\n",
       "29         form   0.002922  11.769152  Topic20  -5.1985  -1.5956\n",
       "\n",
       "[932 rows x 6 columns], token_table=      Topic      Freq         Term\n",
       "term                              \n",
       "141       1  0.725296         able\n",
       "50        2  0.474871      account\n",
       "50        5  0.316581      account\n",
       "50        6  0.158290      account\n",
       "116       3  0.744989  acknowledge\n",
       "...     ...       ...          ...\n",
       "18       12  0.301356      website\n",
       "133       3  0.745369         week\n",
       "45        1  0.633378         well\n",
       "45        2  0.316689         well\n",
       "159       1  0.725221         year\n",
       "\n",
       "[312 rows x 3 columns], R=30, lambda_step=0.01, plot_opts={'xlab': 'PC1', 'ylab': 'PC2'}, topic_order=[14, 2, 18, 10, 12, 9, 11, 13, 1, 6, 17, 16, 20, 7, 19, 8, 5, 4, 15, 3])"
      ]
     },
     "execution_count": 33,
     "metadata": {},
     "output_type": "execute_result"
    }
   ],
   "source": [
    "# Visualize the topics\n",
    "pyLDAvis.enable_notebook()\n",
    "vis = pyLDAvis.gensim.prepare(lda_model, corpus, dictionary=lda_model.id2word, mds='mmds')   \n",
    "vis"
   ]
  },
  {
   "cell_type": "code",
   "execution_count": 34,
   "id": "e4df8837",
   "metadata": {},
   "outputs": [],
   "source": [
    "pyLDAvis.save_html(vis, 'lda.html')"
   ]
  },
  {
   "cell_type": "markdown",
   "id": "12a8450e",
   "metadata": {},
   "source": [
    "# All"
   ]
  },
  {
   "cell_type": "code",
   "execution_count": 34,
   "id": "97ac8e38",
   "metadata": {},
   "outputs": [
    {
     "name": "stderr",
     "output_type": "stream",
     "text": [
      "[nltk_data] Downloading package stopwords to /Users/Owner/nltk_data...\n",
      "[nltk_data]   Package stopwords is already up-to-date!\n"
     ]
    },
    {
     "data": {
      "text/plain": [
       "True"
      ]
     },
     "execution_count": 34,
     "metadata": {},
     "output_type": "execute_result"
    }
   ],
   "source": [
    "import nltk; nltk.download('stopwords')"
   ]
  },
  {
   "cell_type": "code",
   "execution_count": 35,
   "id": "e906b536",
   "metadata": {},
   "outputs": [
    {
     "name": "stdout",
     "output_type": "stream",
     "text": [
      "Requirement already satisfied: gensim in /Users/Owner/anaconda3/lib/python3.8/site-packages (4.1.2)\n",
      "Requirement already satisfied: smart-open>=1.8.1 in /Users/Owner/anaconda3/lib/python3.8/site-packages (from gensim) (5.2.1)\n",
      "Requirement already satisfied: scipy>=0.18.1 in /Users/Owner/anaconda3/lib/python3.8/site-packages (from gensim) (1.6.2)\n",
      "Requirement already satisfied: numpy>=1.17.0 in /Users/Owner/anaconda3/lib/python3.8/site-packages (from gensim) (1.20.1)\n",
      "Requirement already satisfied: spacy in /Users/Owner/anaconda3/lib/python3.8/site-packages (3.1.3)\n",
      "Requirement already satisfied: murmurhash<1.1.0,>=0.28.0 in /Users/Owner/anaconda3/lib/python3.8/site-packages (from spacy) (1.0.5)\n",
      "Requirement already satisfied: pathy>=0.3.5 in /Users/Owner/anaconda3/lib/python3.8/site-packages (from spacy) (0.6.0)\n",
      "Requirement already satisfied: tqdm<5.0.0,>=4.38.0 in /Users/Owner/anaconda3/lib/python3.8/site-packages (from spacy) (4.59.0)\n",
      "Requirement already satisfied: numpy>=1.15.0 in /Users/Owner/anaconda3/lib/python3.8/site-packages (from spacy) (1.20.1)\n",
      "Requirement already satisfied: packaging>=20.0 in /Users/Owner/anaconda3/lib/python3.8/site-packages (from spacy) (20.9)\n",
      "Requirement already satisfied: spacy-legacy<3.1.0,>=3.0.8 in /Users/Owner/anaconda3/lib/python3.8/site-packages (from spacy) (3.0.8)\n",
      "Requirement already satisfied: typer<0.5.0,>=0.3.0 in /Users/Owner/anaconda3/lib/python3.8/site-packages (from spacy) (0.4.0)\n",
      "Requirement already satisfied: cymem<2.1.0,>=2.0.2 in /Users/Owner/anaconda3/lib/python3.8/site-packages (from spacy) (2.0.5)\n",
      "Requirement already satisfied: requests<3.0.0,>=2.13.0 in /Users/Owner/anaconda3/lib/python3.8/site-packages (from spacy) (2.25.1)\n",
      "Requirement already satisfied: thinc<8.1.0,>=8.0.9 in /Users/Owner/anaconda3/lib/python3.8/site-packages (from spacy) (8.0.10)\n",
      "Requirement already satisfied: jinja2 in /Users/Owner/anaconda3/lib/python3.8/site-packages (from spacy) (2.11.3)\n",
      "Requirement already satisfied: blis<0.8.0,>=0.4.0 in /Users/Owner/anaconda3/lib/python3.8/site-packages (from spacy) (0.7.4)\n",
      "Requirement already satisfied: pydantic!=1.8,!=1.8.1,<1.9.0,>=1.7.4 in /Users/Owner/anaconda3/lib/python3.8/site-packages (from spacy) (1.8.2)\n",
      "Requirement already satisfied: preshed<3.1.0,>=3.0.2 in /Users/Owner/anaconda3/lib/python3.8/site-packages (from spacy) (3.0.5)\n",
      "Requirement already satisfied: srsly<3.0.0,>=2.4.1 in /Users/Owner/anaconda3/lib/python3.8/site-packages (from spacy) (2.4.1)\n",
      "Requirement already satisfied: setuptools in /Users/Owner/anaconda3/lib/python3.8/site-packages (from spacy) (58.2.0)\n",
      "Requirement already satisfied: catalogue<2.1.0,>=2.0.6 in /Users/Owner/anaconda3/lib/python3.8/site-packages (from spacy) (2.0.6)\n",
      "Requirement already satisfied: wasabi<1.1.0,>=0.8.1 in /Users/Owner/anaconda3/lib/python3.8/site-packages (from spacy) (0.8.2)\n",
      "Requirement already satisfied: pyparsing>=2.0.2 in /Users/Owner/anaconda3/lib/python3.8/site-packages (from packaging>=20.0->spacy) (2.4.7)\n",
      "Requirement already satisfied: smart-open<6.0.0,>=5.0.0 in /Users/Owner/anaconda3/lib/python3.8/site-packages (from pathy>=0.3.5->spacy) (5.2.1)\n",
      "Requirement already satisfied: typing-extensions>=3.7.4.3 in /Users/Owner/anaconda3/lib/python3.8/site-packages (from pydantic!=1.8,!=1.8.1,<1.9.0,>=1.7.4->spacy) (3.7.4.3)\n",
      "Requirement already satisfied: urllib3<1.27,>=1.21.1 in /Users/Owner/anaconda3/lib/python3.8/site-packages (from requests<3.0.0,>=2.13.0->spacy) (1.26.4)\n",
      "Requirement already satisfied: idna<3,>=2.5 in /Users/Owner/anaconda3/lib/python3.8/site-packages (from requests<3.0.0,>=2.13.0->spacy) (2.10)\n",
      "Requirement already satisfied: chardet<5,>=3.0.2 in /Users/Owner/anaconda3/lib/python3.8/site-packages (from requests<3.0.0,>=2.13.0->spacy) (4.0.0)\n",
      "Requirement already satisfied: certifi>=2017.4.17 in /Users/Owner/anaconda3/lib/python3.8/site-packages (from requests<3.0.0,>=2.13.0->spacy) (2020.12.5)\n",
      "Requirement already satisfied: click<9.0.0,>=7.1.1 in /Users/Owner/anaconda3/lib/python3.8/site-packages (from typer<0.5.0,>=0.3.0->spacy) (7.1.2)\n",
      "Requirement already satisfied: MarkupSafe>=0.23 in /Users/Owner/anaconda3/lib/python3.8/site-packages (from jinja2->spacy) (1.1.1)\n",
      "Requirement already satisfied: pip in /Users/Owner/anaconda3/lib/python3.8/site-packages (21.2.4)\n",
      "Requirement already satisfied: setuptools in /Users/Owner/anaconda3/lib/python3.8/site-packages (58.2.0)\n",
      "Requirement already satisfied: wheel in /Users/Owner/anaconda3/lib/python3.8/site-packages (0.37.0)\n",
      "Requirement already satisfied: pyldavis in /Users/Owner/anaconda3/lib/python3.8/site-packages (3.2.1)\n",
      "Requirement already satisfied: wheel>=0.23.0 in /Users/Owner/anaconda3/lib/python3.8/site-packages (from pyldavis) (0.37.0)\n",
      "Requirement already satisfied: numpy>=1.9.2 in /Users/Owner/anaconda3/lib/python3.8/site-packages (from pyldavis) (1.20.1)\n",
      "Requirement already satisfied: future in /Users/Owner/anaconda3/lib/python3.8/site-packages (from pyldavis) (0.18.2)\n",
      "Requirement already satisfied: scipy>=0.18.0 in /Users/Owner/anaconda3/lib/python3.8/site-packages (from pyldavis) (1.6.2)\n",
      "Requirement already satisfied: numexpr in /Users/Owner/anaconda3/lib/python3.8/site-packages (from pyldavis) (2.7.3)\n",
      "Requirement already satisfied: jinja2>=2.7.2 in /Users/Owner/anaconda3/lib/python3.8/site-packages (from pyldavis) (2.11.3)\n",
      "Requirement already satisfied: pandas>=0.17.0 in /Users/Owner/anaconda3/lib/python3.8/site-packages (from pyldavis) (1.2.4)\n",
      "Requirement already satisfied: funcy in /Users/Owner/anaconda3/lib/python3.8/site-packages (from pyldavis) (1.16)\n",
      "Requirement already satisfied: joblib>=0.8.4 in /Users/Owner/anaconda3/lib/python3.8/site-packages (from pyldavis) (1.0.1)\n",
      "Requirement already satisfied: MarkupSafe>=0.23 in /Users/Owner/anaconda3/lib/python3.8/site-packages (from jinja2>=2.7.2->pyldavis) (1.1.1)\n",
      "Requirement already satisfied: python-dateutil>=2.7.3 in /Users/Owner/anaconda3/lib/python3.8/site-packages (from pandas>=0.17.0->pyldavis) (2.8.1)\n",
      "Requirement already satisfied: pytz>=2017.3 in /Users/Owner/anaconda3/lib/python3.8/site-packages (from pandas>=0.17.0->pyldavis) (2021.1)\n",
      "Requirement already satisfied: six>=1.5 in /Users/Owner/anaconda3/lib/python3.8/site-packages (from python-dateutil>=2.7.3->pandas>=0.17.0->pyldavis) (1.15.0)\n"
     ]
    }
   ],
   "source": [
    "!pip install --upgrade gensim\n",
    "!pip install -U spacy\n",
    "!pip install -U pip setuptools wheel\n",
    "!pip install pyldavis"
   ]
  },
  {
   "cell_type": "code",
   "execution_count": 36,
   "id": "f9010886",
   "metadata": {},
   "outputs": [
    {
     "name": "stdout",
     "output_type": "stream",
     "text": [
      "Collecting en-core-web-sm==3.1.0\n",
      "  Downloading https://github.com/explosion/spacy-models/releases/download/en_core_web_sm-3.1.0/en_core_web_sm-3.1.0-py3-none-any.whl (13.6 MB)\n",
      "\u001b[K     |████████████████████████████████| 13.6 MB 246 kB/s eta 0:00:01\n",
      "\u001b[?25hRequirement already satisfied: spacy<3.2.0,>=3.1.0 in /Users/Owner/anaconda3/lib/python3.8/site-packages (from en-core-web-sm==3.1.0) (3.1.3)\n",
      "Requirement already satisfied: thinc<8.1.0,>=8.0.9 in /Users/Owner/anaconda3/lib/python3.8/site-packages (from spacy<3.2.0,>=3.1.0->en-core-web-sm==3.1.0) (8.0.10)\n",
      "Requirement already satisfied: pathy>=0.3.5 in /Users/Owner/anaconda3/lib/python3.8/site-packages (from spacy<3.2.0,>=3.1.0->en-core-web-sm==3.1.0) (0.6.0)\n",
      "Requirement already satisfied: preshed<3.1.0,>=3.0.2 in /Users/Owner/anaconda3/lib/python3.8/site-packages (from spacy<3.2.0,>=3.1.0->en-core-web-sm==3.1.0) (3.0.5)\n",
      "Requirement already satisfied: jinja2 in /Users/Owner/anaconda3/lib/python3.8/site-packages (from spacy<3.2.0,>=3.1.0->en-core-web-sm==3.1.0) (2.11.3)\n",
      "Requirement already satisfied: tqdm<5.0.0,>=4.38.0 in /Users/Owner/anaconda3/lib/python3.8/site-packages (from spacy<3.2.0,>=3.1.0->en-core-web-sm==3.1.0) (4.59.0)\n",
      "Requirement already satisfied: catalogue<2.1.0,>=2.0.6 in /Users/Owner/anaconda3/lib/python3.8/site-packages (from spacy<3.2.0,>=3.1.0->en-core-web-sm==3.1.0) (2.0.6)\n",
      "Requirement already satisfied: setuptools in /Users/Owner/anaconda3/lib/python3.8/site-packages (from spacy<3.2.0,>=3.1.0->en-core-web-sm==3.1.0) (58.2.0)\n",
      "Requirement already satisfied: pydantic!=1.8,!=1.8.1,<1.9.0,>=1.7.4 in /Users/Owner/anaconda3/lib/python3.8/site-packages (from spacy<3.2.0,>=3.1.0->en-core-web-sm==3.1.0) (1.8.2)\n",
      "Requirement already satisfied: wasabi<1.1.0,>=0.8.1 in /Users/Owner/anaconda3/lib/python3.8/site-packages (from spacy<3.2.0,>=3.1.0->en-core-web-sm==3.1.0) (0.8.2)\n",
      "Requirement already satisfied: murmurhash<1.1.0,>=0.28.0 in /Users/Owner/anaconda3/lib/python3.8/site-packages (from spacy<3.2.0,>=3.1.0->en-core-web-sm==3.1.0) (1.0.5)\n",
      "Requirement already satisfied: numpy>=1.15.0 in /Users/Owner/anaconda3/lib/python3.8/site-packages (from spacy<3.2.0,>=3.1.0->en-core-web-sm==3.1.0) (1.20.1)\n",
      "Requirement already satisfied: typer<0.5.0,>=0.3.0 in /Users/Owner/anaconda3/lib/python3.8/site-packages (from spacy<3.2.0,>=3.1.0->en-core-web-sm==3.1.0) (0.4.0)\n",
      "Requirement already satisfied: srsly<3.0.0,>=2.4.1 in /Users/Owner/anaconda3/lib/python3.8/site-packages (from spacy<3.2.0,>=3.1.0->en-core-web-sm==3.1.0) (2.4.1)\n",
      "Requirement already satisfied: spacy-legacy<3.1.0,>=3.0.8 in /Users/Owner/anaconda3/lib/python3.8/site-packages (from spacy<3.2.0,>=3.1.0->en-core-web-sm==3.1.0) (3.0.8)\n",
      "Requirement already satisfied: packaging>=20.0 in /Users/Owner/anaconda3/lib/python3.8/site-packages (from spacy<3.2.0,>=3.1.0->en-core-web-sm==3.1.0) (20.9)\n",
      "Requirement already satisfied: requests<3.0.0,>=2.13.0 in /Users/Owner/anaconda3/lib/python3.8/site-packages (from spacy<3.2.0,>=3.1.0->en-core-web-sm==3.1.0) (2.25.1)\n",
      "Requirement already satisfied: blis<0.8.0,>=0.4.0 in /Users/Owner/anaconda3/lib/python3.8/site-packages (from spacy<3.2.0,>=3.1.0->en-core-web-sm==3.1.0) (0.7.4)\n",
      "Requirement already satisfied: cymem<2.1.0,>=2.0.2 in /Users/Owner/anaconda3/lib/python3.8/site-packages (from spacy<3.2.0,>=3.1.0->en-core-web-sm==3.1.0) (2.0.5)\n",
      "Requirement already satisfied: pyparsing>=2.0.2 in /Users/Owner/anaconda3/lib/python3.8/site-packages (from packaging>=20.0->spacy<3.2.0,>=3.1.0->en-core-web-sm==3.1.0) (2.4.7)\n",
      "Requirement already satisfied: smart-open<6.0.0,>=5.0.0 in /Users/Owner/anaconda3/lib/python3.8/site-packages (from pathy>=0.3.5->spacy<3.2.0,>=3.1.0->en-core-web-sm==3.1.0) (5.2.1)\n",
      "Requirement already satisfied: typing-extensions>=3.7.4.3 in /Users/Owner/anaconda3/lib/python3.8/site-packages (from pydantic!=1.8,!=1.8.1,<1.9.0,>=1.7.4->spacy<3.2.0,>=3.1.0->en-core-web-sm==3.1.0) (3.7.4.3)\n",
      "Requirement already satisfied: certifi>=2017.4.17 in /Users/Owner/anaconda3/lib/python3.8/site-packages (from requests<3.0.0,>=2.13.0->spacy<3.2.0,>=3.1.0->en-core-web-sm==3.1.0) (2020.12.5)\n",
      "Requirement already satisfied: chardet<5,>=3.0.2 in /Users/Owner/anaconda3/lib/python3.8/site-packages (from requests<3.0.0,>=2.13.0->spacy<3.2.0,>=3.1.0->en-core-web-sm==3.1.0) (4.0.0)\n",
      "Requirement already satisfied: urllib3<1.27,>=1.21.1 in /Users/Owner/anaconda3/lib/python3.8/site-packages (from requests<3.0.0,>=2.13.0->spacy<3.2.0,>=3.1.0->en-core-web-sm==3.1.0) (1.26.4)\n",
      "Requirement already satisfied: idna<3,>=2.5 in /Users/Owner/anaconda3/lib/python3.8/site-packages (from requests<3.0.0,>=2.13.0->spacy<3.2.0,>=3.1.0->en-core-web-sm==3.1.0) (2.10)\n",
      "Requirement already satisfied: click<9.0.0,>=7.1.1 in /Users/Owner/anaconda3/lib/python3.8/site-packages (from typer<0.5.0,>=0.3.0->spacy<3.2.0,>=3.1.0->en-core-web-sm==3.1.0) (7.1.2)\n",
      "Requirement already satisfied: MarkupSafe>=0.23 in /Users/Owner/anaconda3/lib/python3.8/site-packages (from jinja2->spacy<3.2.0,>=3.1.0->en-core-web-sm==3.1.0) (1.1.1)\n",
      "\u001b[38;5;2m✔ Download and installation successful\u001b[0m\n",
      "You can now load the package via spacy.load('en_core_web_sm')\n"
     ]
    }
   ],
   "source": [
    "!python3 -m spacy download en_core_web_sm"
   ]
  },
  {
   "cell_type": "code",
   "execution_count": 37,
   "id": "4254465f",
   "metadata": {},
   "outputs": [
    {
     "name": "stdout",
     "output_type": "stream",
     "text": [
      "Requirement already satisfied: pyLDAvis==3.2.1 in /Users/Owner/anaconda3/lib/python3.8/site-packages (3.2.1)\n",
      "Requirement already satisfied: future in /Users/Owner/anaconda3/lib/python3.8/site-packages (from pyLDAvis==3.2.1) (0.18.2)\n",
      "Requirement already satisfied: funcy in /Users/Owner/anaconda3/lib/python3.8/site-packages (from pyLDAvis==3.2.1) (1.16)\n",
      "Requirement already satisfied: joblib>=0.8.4 in /Users/Owner/anaconda3/lib/python3.8/site-packages (from pyLDAvis==3.2.1) (1.0.1)\n",
      "Requirement already satisfied: numexpr in /Users/Owner/anaconda3/lib/python3.8/site-packages (from pyLDAvis==3.2.1) (2.7.3)\n",
      "Requirement already satisfied: numpy>=1.9.2 in /Users/Owner/anaconda3/lib/python3.8/site-packages (from pyLDAvis==3.2.1) (1.20.1)\n",
      "Requirement already satisfied: wheel>=0.23.0 in /Users/Owner/anaconda3/lib/python3.8/site-packages (from pyLDAvis==3.2.1) (0.37.0)\n",
      "Requirement already satisfied: scipy>=0.18.0 in /Users/Owner/anaconda3/lib/python3.8/site-packages (from pyLDAvis==3.2.1) (1.6.2)\n",
      "Requirement already satisfied: pandas>=0.17.0 in /Users/Owner/anaconda3/lib/python3.8/site-packages (from pyLDAvis==3.2.1) (1.2.4)\n",
      "Requirement already satisfied: jinja2>=2.7.2 in /Users/Owner/anaconda3/lib/python3.8/site-packages (from pyLDAvis==3.2.1) (2.11.3)\n",
      "Requirement already satisfied: MarkupSafe>=0.23 in /Users/Owner/anaconda3/lib/python3.8/site-packages (from jinja2>=2.7.2->pyLDAvis==3.2.1) (1.1.1)\n",
      "Requirement already satisfied: python-dateutil>=2.7.3 in /Users/Owner/anaconda3/lib/python3.8/site-packages (from pandas>=0.17.0->pyLDAvis==3.2.1) (2.8.1)\n",
      "Requirement already satisfied: pytz>=2017.3 in /Users/Owner/anaconda3/lib/python3.8/site-packages (from pandas>=0.17.0->pyLDAvis==3.2.1) (2021.1)\n",
      "Requirement already satisfied: six>=1.5 in /Users/Owner/anaconda3/lib/python3.8/site-packages (from python-dateutil>=2.7.3->pandas>=0.17.0->pyLDAvis==3.2.1) (1.15.0)\n"
     ]
    }
   ],
   "source": [
    "!pip install pyLDAvis==3.2.1"
   ]
  },
  {
   "cell_type": "code",
   "execution_count": 38,
   "id": "64b16454",
   "metadata": {},
   "outputs": [],
   "source": [
    "import re\n",
    "import numpy as np\n",
    "import pandas as pd\n",
    "from pprint import pprint\n",
    "\n",
    "import gensim\n",
    "import gensim.models\n",
    "import gensim.corpora as corpora\n",
    "from gensim.utils import simple_preprocess\n",
    "from gensim.models import CoherenceModel\n",
    "\n",
    "import spacy\n",
    "\n",
    "import pyLDAvis\n",
    "import pyLDAvis.gensim  # don't skip this\n",
    "import matplotlib.pyplot as plt\n",
    "%matplotlib inline\n",
    "\n",
    "import logging\n",
    "logging.basicConfig(format='%(asctime)s : %(levelname)s : %(message)s', level=logging.ERROR)\n",
    "\n",
    "import warnings\n",
    "warnings.filterwarnings(\"ignore\",category=DeprecationWarning)"
   ]
  },
  {
   "cell_type": "code",
   "execution_count": 39,
   "id": "c706445a",
   "metadata": {},
   "outputs": [],
   "source": [
    "# NLTK Stop words\n",
    "from nltk.corpus import stopwords\n",
    "stop_words = stopwords.words('english')\n",
    "stop_words.extend(['from', 'subject', 're', 'edu', 'use'])"
   ]
  },
  {
   "cell_type": "code",
   "execution_count": 35,
   "id": "32ccf903",
   "metadata": {},
   "outputs": [],
   "source": [
    "df = pd.read_csv('All.csv')\n",
    "df = df.loc[df['Person'] != 'Interviewer']"
   ]
  },
  {
   "cell_type": "code",
   "execution_count": 36,
   "id": "ffd33382",
   "metadata": {},
   "outputs": [
    {
     "name": "stdout",
     "output_type": "stream",
     "text": [
      "[['to', 'pay', 'monthly', 'utility', 'both', 'electricity', 'and', 'water']]\n"
     ]
    }
   ],
   "source": [
    "#tokenize words and clean text\n",
    "def sent_to_words(sentences):\n",
    "    for sentence in sentences:\n",
    "        yield(gensim.utils.simple_preprocess(str(sentence), deacc=True))  # deacc=True removes punctuations\n",
    "\n",
    "data_words = list(sent_to_words(df['Question/Answer']))\n",
    "\n",
    "print(data_words[:1])"
   ]
  },
  {
   "cell_type": "code",
   "execution_count": 37,
   "id": "a84e5873",
   "metadata": {},
   "outputs": [
    {
     "name": "stdout",
     "output_type": "stream",
     "text": [
      "['to', 'pay', 'monthly', 'utility', 'both', 'electricity', 'and', 'water']\n"
     ]
    }
   ],
   "source": [
    "# Build the bigram and trigram models\n",
    "bigram = gensim.models.Phrases(data_words, min_count=5, threshold=100) # higher threshold fewer phrases.\n",
    "trigram = gensim.models.Phrases(bigram[data_words], threshold=100)  \n",
    "\n",
    "# Faster way to get a sentence clubbed as a trigram/bigram\n",
    "bigram_mod = gensim.models.phrases.Phraser(bigram)\n",
    "trigram_mod = gensim.models.phrases.Phraser(trigram)\n",
    "\n",
    "# See trigram example\n",
    "print(trigram_mod[bigram_mod[data_words[0]]])"
   ]
  },
  {
   "cell_type": "code",
   "execution_count": 38,
   "id": "a7766956",
   "metadata": {},
   "outputs": [],
   "source": [
    "# Define functions for stopwords, bigrams, trigrams and lemmatization\n",
    "def remove_stopwords(texts):\n",
    "    return [[word for word in simple_preprocess(str(doc)) if word not in stop_words] for doc in texts]\n",
    "\n",
    "def make_bigrams(texts):\n",
    "    return [bigram_mod[doc] for doc in texts]\n",
    "\n",
    "def make_trigrams(texts):\n",
    "    return [trigram_mod[bigram_mod[doc]] for doc in texts]\n",
    "\n",
    "def lemmatization(texts, allowed_postags=['NOUN', 'ADJ', 'VERB', 'ADV']):\n",
    "    \"\"\"https://spacy.io/api/annotation\"\"\"\n",
    "    texts_out = []\n",
    "    for sent in texts:\n",
    "        doc = nlp(\" \".join(sent)) \n",
    "        texts_out.append([token.lemma_ for token in doc if token.pos_ in allowed_postags])\n",
    "    return texts_out"
   ]
  },
  {
   "cell_type": "code",
   "execution_count": 39,
   "id": "3267f562",
   "metadata": {},
   "outputs": [
    {
     "name": "stdout",
     "output_type": "stream",
     "text": [
      "[['pay', 'monthly', 'utility', 'electricity', 'water']]\n"
     ]
    }
   ],
   "source": [
    "# Remove Stop Words\n",
    "data_words_nostops = remove_stopwords(data_words)\n",
    "\n",
    "# Form Bigrams\n",
    "data_words_bigrams = make_bigrams(data_words_nostops)\n",
    "\n",
    "# Initialize spacy 'en' model, keeping only tagger component (for efficiency)\n",
    "# python3 -m spacy download en\n",
    "nlp = spacy.load('en_core_web_sm', disable=['parser', 'ner'])\n",
    "\n",
    "# Do lemmatization keeping only noun, adj, vb, adv\n",
    "data_lemmatized = lemmatization(data_words_bigrams, allowed_postags=['NOUN', 'ADJ', 'VERB', 'ADV'])\n",
    "\n",
    "print(data_lemmatized[:1])"
   ]
  },
  {
   "cell_type": "code",
   "execution_count": 40,
   "id": "22163207",
   "metadata": {},
   "outputs": [
    {
     "name": "stdout",
     "output_type": "stream",
     "text": [
      "[[(0, 1), (1, 1), (2, 1), (3, 1), (4, 1)]]\n"
     ]
    }
   ],
   "source": [
    "# Create Dictionary\n",
    "id2word = corpora.Dictionary(data_lemmatized)\n",
    "\n",
    "# Create Corpus\n",
    "texts = data_lemmatized\n",
    "\n",
    "# Term Document Frequency\n",
    "corpus = [id2word.doc2bow(text) for text in texts]\n",
    "\n",
    "# View\n",
    "print(corpus[:1])"
   ]
  },
  {
   "cell_type": "code",
   "execution_count": 41,
   "id": "402ad5fd",
   "metadata": {},
   "outputs": [
    {
     "data": {
      "text/plain": [
       "'electricity'"
      ]
     },
     "execution_count": 41,
     "metadata": {},
     "output_type": "execute_result"
    }
   ],
   "source": [
    "id2word[0]"
   ]
  },
  {
   "cell_type": "code",
   "execution_count": 42,
   "id": "d598b932",
   "metadata": {},
   "outputs": [
    {
     "data": {
      "text/plain": [
       "[[('electricity', 1),\n",
       "  ('monthly', 1),\n",
       "  ('pay', 1),\n",
       "  ('utility', 1),\n",
       "  ('water', 1)]]"
      ]
     },
     "execution_count": 42,
     "metadata": {},
     "output_type": "execute_result"
    }
   ],
   "source": [
    "[[(id2word[id], freq) for id, freq in cp] for cp in corpus[:1]]"
   ]
  },
  {
   "cell_type": "code",
   "execution_count": 43,
   "id": "e722d830",
   "metadata": {},
   "outputs": [],
   "source": [
    "# Build LDA model\n",
    "lda_model = gensim.models.ldamodel.LdaModel(corpus=corpus,\n",
    "                                           id2word=id2word,\n",
    "                                           num_topics=20, \n",
    "                                           random_state=100,\n",
    "                                           update_every=1,\n",
    "                                           chunksize=100,\n",
    "                                           passes=10,\n",
    "                                           alpha='auto',\n",
    "                                           per_word_topics=True)"
   ]
  },
  {
   "cell_type": "code",
   "execution_count": 44,
   "id": "98c8a938",
   "metadata": {
    "scrolled": true
   },
   "outputs": [
    {
     "name": "stdout",
     "output_type": "stream",
     "text": [
      "[(0,\n",
      "  '0.051*\"really\" + 0.034*\"long\" + 0.034*\"think\" + 0.034*\"mean\" + '\n",
      "  '0.034*\"function\" + 0.034*\"user\" + 0.034*\"agent\" + 0.018*\"take\" + '\n",
      "  '0.018*\"month\" + 0.018*\"install\"'),\n",
      " (1,\n",
      "  '0.064*\"bill\" + 0.064*\"definitely\" + 0.033*\"point\" + 0.033*\"kinda\" + '\n",
      "  '0.033*\"mean\" + 0.033*\"really\" + 0.033*\"choose\" + 0.033*\"facility\" + '\n",
      "  '0.033*\"pay\" + 0.033*\"provider\"'),\n",
      " (2,\n",
      "  '0.061*\"think\" + 0.049*\"month\" + 0.037*\"account\" + 0.037*\"login\" + '\n",
      "  '0.025*\"take\" + 0.025*\"roughly\" + 0.025*\"pay\" + 0.025*\"utility\" + '\n",
      "  '0.025*\"get\" + 0.025*\"actually\"'),\n",
      " (3,\n",
      "  '0.049*\"find\" + 0.049*\"initially\" + 0.048*\"bill\" + 0.048*\"fill\" + '\n",
      "  '0.048*\"form\" + 0.048*\"pay\" + 0.003*\"login\" + 0.003*\"account\" + 0.003*\"open\" '\n",
      "  '+ 0.003*\"knowledge\"'),\n",
      " (4,\n",
      "  '0.062*\"inaudible\" + 0.003*\"trigger\" + 0.003*\"estimate\" + 0.003*\"viable\" + '\n",
      "  '0.003*\"solution\" + 0.003*\"physical\" + 0.003*\"option\" + 0.003*\"check\" + '\n",
      "  '0.003*\"interruption\" + 0.003*\"smooth\"'),\n",
      " (5,\n",
      "  '0.161*\"form\" + 0.052*\"apply\" + 0.030*\"service\" + 0.030*\"fill\" + 0.030*\"use\" '\n",
      "  '+ 0.030*\"customer\" + 0.030*\"fail\" + 0.030*\"process\" + 0.029*\"support\" + '\n",
      "  '0.029*\"filling\"'),\n",
      " (6,\n",
      "  '0.044*\"customer\" + 0.044*\"form\" + 0.027*\"take\" + 0.027*\"ideally\" + '\n",
      "  '0.027*\"people\" + 0.027*\"care\" + 0.027*\"fill\" + 0.027*\"website\" + '\n",
      "  '0.018*\"time\" + 0.018*\"support\"'),\n",
      " (7,\n",
      "  '0.081*\"pay\" + 0.038*\"bill\" + 0.035*\"service\" + 0.025*\"mobile\" + '\n",
      "  '0.025*\"time\" + 0.025*\"use\" + 0.018*\"part\" + 0.017*\"credential\" + '\n",
      "  '0.017*\"think\" + 0.017*\"website\"'),\n",
      " (8,\n",
      "  '0.080*\"form\" + 0.060*\"send\" + 0.060*\"download\" + 0.040*\"email\" + '\n",
      "  '0.040*\"payment\" + 0.040*\"fill\" + 0.021*\"well\" + 0.021*\"upload\" + '\n",
      "  '0.021*\"new\" + 0.021*\"arm\"'),\n",
      " (9,\n",
      "  '0.048*\"customer\" + 0.036*\"account\" + 0.024*\"call\" + 0.024*\"know\" + '\n",
      "  '0.024*\"tell\" + 0.024*\"number\" + 0.024*\"support\" + 0.024*\"say\" + '\n",
      "  '0.024*\"mean\" + 0.024*\"login\"'),\n",
      " (10,\n",
      "  '0.048*\"form\" + 0.048*\"service\" + 0.035*\"fill\" + 0.035*\"online\" + '\n",
      "  '0.035*\"provide\" + 0.035*\"go\" + 0.021*\"definitely\" + 0.021*\"offer\" + '\n",
      "  '0.021*\"obviously\" + 0.021*\"inaudible\"'),\n",
      " (11,\n",
      "  '0.074*\"website\" + 0.056*\"issue\" + 0.037*\"service\" + 0.019*\"often\" + '\n",
      "  '0.019*\"inaubible\" + 0.019*\"know\" + 0.019*\"day\" + 0.019*\"eventually\" + '\n",
      "  '0.019*\"governmental\" + 0.019*\"desirable\"'),\n",
      " (12,\n",
      "  '0.073*\"service\" + 0.048*\"try\" + 0.048*\"government\" + 0.025*\"customer\" + '\n",
      "  '0.025*\"care\" + 0.025*\"call\" + 0.025*\"ask\" + 0.025*\"take\" + 0.025*\"good\" + '\n",
      "  '0.025*\"come\"'),\n",
      " (13,\n",
      "  '0.083*\"bill\" + 0.056*\"estimate\" + 0.056*\"get\" + 0.028*\"website\" + '\n",
      "  '0.028*\"far\" + 0.028*\"mean\" + 0.028*\"say\" + 0.028*\"upcoming\" + '\n",
      "  '0.028*\"inaudible\" + 0.028*\"interruption\"'),\n",
      " (14,\n",
      "  '0.003*\"trigger\" + 0.003*\"overall\" + 0.003*\"estimate\" + 0.003*\"viable\" + '\n",
      "  '0.003*\"solution\" + 0.003*\"physical\" + 0.003*\"option\" + 0.003*\"check\" + '\n",
      "  '0.003*\"interruption\" + 0.003*\"smooth\"'),\n",
      " (15,\n",
      "  '0.003*\"trigger\" + 0.003*\"overall\" + 0.003*\"estimate\" + 0.003*\"viable\" + '\n",
      "  '0.003*\"solution\" + 0.003*\"physical\" + 0.003*\"option\" + 0.003*\"check\" + '\n",
      "  '0.003*\"interruption\" + 0.003*\"smooth\"'),\n",
      " (16,\n",
      "  '0.058*\"pay\" + 0.053*\"service\" + 0.045*\"payment\" + 0.034*\"meter\" + '\n",
      "  '0.034*\"fee\" + 0.033*\"form\" + 0.033*\"receive\" + 0.033*\"even\" + '\n",
      "  '0.023*\"actually\" + 0.023*\"update\"'),\n",
      " (17,\n",
      "  '0.003*\"form\" + 0.003*\"customer\" + 0.003*\"fill\" + 0.003*\"need\" + '\n",
      "  '0.003*\"people\" + 0.003*\"download\" + 0.003*\"send\" + 0.003*\"touchpoint\" + '\n",
      "  '0.003*\"chat\" + 0.003*\"website\"'),\n",
      " (18,\n",
      "  '0.044*\"form\" + 0.031*\"take\" + 0.025*\"service\" + 0.025*\"tell\" + 0.019*\"mean\" '\n",
      "  '+ 0.019*\"time\" + 0.019*\"usually\" + 0.019*\"send\" + 0.019*\"come\" + '\n",
      "  '0.019*\"fill\"'),\n",
      " (19,\n",
      "  '0.082*\"exactly\" + 0.042*\"support\" + 0.042*\"email\" + 0.042*\"continue\" + '\n",
      "  '0.042*\"get\" + 0.042*\"reach\" + 0.042*\"process\" + 0.042*\"lengthy\" + '\n",
      "  '0.002*\"physical\" + 0.002*\"knowledge\"')]\n"
     ]
    }
   ],
   "source": [
    "# Print the Keyword in the 10 topics\n",
    "pprint(lda_model.print_topics())\n",
    "doc_lda = lda_model[corpus]"
   ]
  },
  {
   "cell_type": "code",
   "execution_count": 45,
   "id": "ccafa1d2",
   "metadata": {},
   "outputs": [
    {
     "name": "stdout",
     "output_type": "stream",
     "text": [
      "\n",
      "Perplexity:  -6.109806486355007\n",
      "\n",
      "Coherence Score:  0.477350908821094\n"
     ]
    }
   ],
   "source": [
    "# Compute Perplexity\n",
    "print('\\nPerplexity: ', lda_model.log_perplexity(corpus))  # a measure of how good the model is. lower the better.\n",
    "\n",
    "# Compute Coherence Score\n",
    "coherence_model_lda = CoherenceModel(model=lda_model, texts=data_lemmatized, dictionary=id2word, coherence='c_v')\n",
    "coherence_lda = coherence_model_lda.get_coherence()\n",
    "print('\\nCoherence Score: ', coherence_lda)"
   ]
  },
  {
   "cell_type": "code",
   "execution_count": 46,
   "id": "6291a3c6",
   "metadata": {},
   "outputs": [],
   "source": [
    "#import pyLDAvis.gensim AS gensimvis"
   ]
  },
  {
   "cell_type": "code",
   "execution_count": 47,
   "id": "39d68b8f",
   "metadata": {},
   "outputs": [
    {
     "data": {
      "text/html": [
       "\n",
       "<link rel=\"stylesheet\" type=\"text/css\" href=\"https://cdn.jsdelivr.net/gh/bmabey/pyLDAvis/pyLDAvis/js/ldavis.v1.0.0.css\">\n",
       "\n",
       "\n",
       "<div id=\"ldavis_el360901402604016128327255526317\"></div>\n",
       "<script type=\"text/javascript\">\n",
       "\n",
       "var ldavis_el360901402604016128327255526317_data = {\"mdsDat\": {\"x\": [-0.08728450884167059, 0.03968156259237729, 0.18730880303006167, -0.20075688552879778, -0.22032052684379055, 0.04318394389818332, 0.24587042659798605, -0.23302323177687365, 0.24788543808956584, -0.16608367369306598, -0.05763849326623121, 0.10289591880704481, -0.1235453823775903, 0.11196449185865616, 0.06892201859079822, 0.007690361511576666, 0.012512310306638866, 0.0065169248583111, 0.007110251467507447, 0.007110250719312649], \"y\": [0.21616290934111473, -0.2877484865211017, 0.18793480291412973, -0.18513973871086906, 0.15890404357074364, 0.2622380394576009, -0.08346830423543955, -0.0902636324528683, 0.05480679712651613, 0.08968093053074376, -0.16058111083949594, -0.13867178352060702, 0.017735754763695124, -0.06645374231324208, 0.040936173438348815, 0.03336165535036494, -0.017685162112779058, -0.010605068213438845, -0.010572036916851707, -0.010572040656564616], \"topics\": [1, 2, 3, 4, 5, 6, 7, 8, 9, 10, 11, 12, 13, 14, 15, 16, 17, 18, 19, 20], \"cluster\": [1, 1, 1, 1, 1, 1, 1, 1, 1, 1, 1, 1, 1, 1, 1, 1, 1, 1, 1, 1], \"Freq\": [15.852691603763546, 14.202920372327593, 11.284526639795233, 10.786511896883592, 8.282087560828595, 7.69964815253487, 7.1730503491672355, 4.873438144750544, 4.265790696679274, 3.936863267329764, 2.8883976975849186, 2.3372271497335437, 2.263717776452382, 1.8388155600774017, 0.955895597098966, 0.7444269807097087, 0.20855401507251065, 0.13905705734934462, 0.13318974093048824, 0.13318974093048824]}, \"tinfo\": {\"Term\": [\"form\", \"pay\", \"bill\", \"inaudible\", \"fill\", \"service\", \"website\", \"get\", \"think\", \"definitely\", \"payment\", \"email\", \"customer\", \"mean\", \"support\", \"send\", \"really\", \"process\", \"apply\", \"account\", \"month\", \"reach\", \"meter\", \"use\", \"care\", \"login\", \"government\", \"call\", \"issue\", \"user\", \"inform\", \"half\", \"expect\", \"week\", \"today\", \"round\", \"reply\", \"suggest\", \"want\", \"science\", \"rocket\", \"give\", \"option\", \"physical\", \"viable\", \"let\", \"reapply\", \"follow\", \"immediately\", \"rather\", \"minute\", \"scan\", \"timeframe\", \"acknowledge\", \"installation\", \"specify\", \"uhm\", \"receipt\", \"phonecall\", \"happen\", \"usually\", \"tell\", \"call\", \"come\", \"reach\", \"send\", \"take\", \"mean\", \"form\", \"time\", \"well\", \"print\", \"install\", \"know\", \"day\", \"email\", \"fill\", \"service\", \"inaudible\", \"apply\", \"month\", \"online\", \"go\", \"pay\", \"meter\", \"offer\", \"internet\", \"datum\", \"house\", \"term\", \"connect\", \"still\", \"provide\", \"access\", \"ease\", \"sign\", \"telephone\", \"protection\", \"year\", \"aware\", \"able\", \"arise\", \"temporarily\", \"bundle\", \"similar\", \"melita\", \"sort\", \"course\", \"online\", \"go\", \"knowledge\", \"obviously\", \"definitely\", \"respect\", \"provider\", \"mobile\", \"d\", \"inaudible\", \"fill\", \"service\", \"form\", \"actually\", \"print\", \"install\", \"arm\", \"login\", \"website\", \"ideally\", \"customer\", \"anyway\", \"i\", \"take\", \"add\", \"money\", \"app\", \"copy\", \"native\", \"slow\", \"perspective\", \"convert\", \"information\", \"suppose\", \"fault\", \"remember\", \"apart\", \"partly\", \"friendly\", \"clunky\", \"hope\", \"rd\", \"properly\", \"thoroughly\", \"misconstrue\", \"cred\", \"topping\", \"area\", \"meantime\", \"stretch\", \"new\", \"bit\", \"credential\", \"different\", \"pay\", \"mobile\", \"bill\", \"part\", \"use\", \"utility\", \"time\", \"service\", \"user\", \"account\", \"think\", \"website\", \"take\", \"process\", \"even\", \"receive\", \"also\", \"easy\", \"make\", \"touchpoint\", \"people\", \"basis\", \"guess\", \"around\", \"prompt\", \"close\", \"instantly\", \"drop\", \"whole\", \"right\", \"clearly\", \"proper\", \"identify\", \"wait\", \"second\", \"bot\", \"one\", \"bubble\", \"amount\", \"guide\", \"frustrated\", \"hesitation\", \"along\", \"pop\", \"chat\", \"available\", \"ideally\", \"fail\", \"care\", \"help\", \"customer\", \"end\", \"form\", \"website\", \"user\", \"need\", \"fill\", \"take\", \"support\", \"get\", \"time\", \"thing\", \"monthly\", \"apply\", \"explain\", \"day\", \"fee\", \"update\", \"confirmation\", \"hear\", \"keep\", \"sir\", \"spamme\", \"thank\", \"application\", \"never\", \"reminder\", \"guy\", \"read\", \"input\", \"processing\", \"yet\", \"successfully\", \"gateway\", \"even\", \"receive\", \"payment\", \"reading\", \"require\", \"make\", \"much\", \"ask\", \"estimate\", \"meter\", \"email\", \"process\", \"pay\", \"service\", \"actually\", \"form\", \"bill\", \"help\", \"online\", \"definitely\", \"end\", \"time\", \"apply\", \"number\", \"advise\", \"figure\", \"gon\", \"scale\", \"rating\", \"grant\", \"recall\", \"reception\", \"mother\", \"rude\", \"sometime\", \"honest\", \"helpfulness\", \"helpful\", \"do\", \"say\", \"kinda\", \"quite\", \"experience\", \"certain\", \"manage\", \"ago\", \"first\", \"account\", \"call\", \"know\", \"create\", \"i\", \"kind\", \"care\", \"login\", \"customer\", \"support\", \"really\", \"tell\", \"mean\", \"service\", \"inaudible\", \"day\", \"take\", \"time\", \"ask\", \"apply\", \"d\", \"need\", \"credential\", \"anyway\", \"open\", \"separate\", \"stupid\", \"satisfactory\", \"pretty\", \"initially\", \"month\", \"straightforward\", \"utility\", \"answer\", \"roughly\", \"think\", \"water\", \"electricity\", \"portal\", \"eventually\", \"question\", \"require\", \"manage\", \"login\", \"fund\", \"additional\", \"way\", \"instal\", \"back\", \"account\", \"find\", \"create\", \"bit\", \"i\", \"kind\", \"get\", \"actually\", \"take\", \"pay\", \"form\", \"fill\", \"website\", \"send\", \"meter\", \"obviously\", \"payment\", \"bill\", \"use\", \"service\", \"slightly\", \"amazon\", \"trigger\", \"overall\", \"move\", \"function\", \"agent\", \"long\", \"question\", \"experience\", \"certain\", \"start\", \"easily\", \"smooth\", \"actual\", \"work\", \"always\", \"really\", \"also\", \"user\", \"pause\", \"chat\", \"say\", \"good\", \"mean\", \"help\", \"ideally\", \"install\", \"think\", \"process\", \"month\", \"take\", \"meter\", \"use\", \"care\", \"customer\", \"issue\", \"often\", \"desirable\", \"governmental\", \"inaubible\", \"unfortunately\", \"interact\", \"mostly\", \"resolve\", \"sometimes\", \"other\", \"encounter\", \"ok\", \"eventually\", \"portal\", \"problem\", \"operate\", \"leave\", \"sure\", \"far\", \"website\", \"pause\", \"happen\", \"government\", \"usually\", \"end\", \"arm\", \"know\", \"day\", \"really\", \"service\", \"use\", \"think\", \"download\", \"upload\", \"proof\", \"generally\", \"together\", \"electricity\", \"water\", \"manually\", \"picture\", \"send\", \"email\", \"new\", \"payment\", \"well\", \"print\", \"arm\", \"need\", \"obviously\", \"support\", \"apply\", \"fill\", \"form\", \"customer\", \"take\", \"lengthy\", \"choose\", \"facility\", \"point\", \"put\", \"interruption\", \"service\", \"monthly\", \"pay\", \"utility\", \"basis\", \"thing\", \"correctly\", \"verify\", \"entity\", \"smoother\", \"tend\", \"try\", \"answer\", \"government\", \"also\", \"good\", \"help\", \"ask\", \"usually\", \"call\", \"come\", \"definitely\", \"care\", \"get\", \"service\", \"think\", \"customer\", \"take\", \"lengthy\", \"choose\", \"facility\", \"point\", \"put\", \"interruption\", \"upcoming\", \"automate\", \"do\", \"helpful\", \"helpfulness\", \"honest\", \"sometime\", \"rude\", \"mother\", \"figure\", \"advise\", \"internet\", \"quite\", \"account\", \"still\", \"number\", \"know\", \"inaudible\", \"upcoming\", \"interruption\", \"put\", \"estimate\", \"reading\", \"check\", \"far\", \"say\", \"bill\", \"monthly\", \"get\", \"inaudible\", \"mean\", \"meter\", \"website\", \"pay\", \"lengthy\", \"choose\", \"facility\", \"point\", \"automate\", \"filling\", \"fine\", \"tend\", \"verify\", \"entity\", \"smoother\", \"correctly\", \"service\", \"together\", \"electricity\", \"utility\", \"water\", \"basis\", \"thing\", \"time\", \"clunky\", \"friendly\", \"hope\", \"process\", \"take\", \"user\", \"apply\", \"automate\", \"filling\", \"fine\", \"straightforward\", \"fail\", \"apply\", \"form\", \"process\", \"support\", \"use\", \"payment\", \"fill\", \"customer\", \"lengthy\", \"choose\", \"facility\", \"point\", \"put\", \"interruption\", \"upcoming\", \"service\", \"tend\", \"verify\", \"entity\", \"smoother\", \"correctly\", \"together\", \"proof\", \"generally\", \"upload\", \"meantime\", \"area\", \"topping\", \"cred\", \"misconstrue\", \"second\", \"wait\", \"identify\", \"money\", \"scan\", \"right\", \"whole\", \"minute\", \"rather\", \"new\", \"pay\", \"reply\", \"part\", \"bill\", \"continue\", \"take\", \"need\", \"wrong\", \"well\", \"end\", \"tell\", \"month\", \"monthly\", \"bit\", \"get\", \"utility\", \"point\", \"choose\", \"facility\", \"kinda\", \"provider\", \"respect\", \"definitely\", \"bill\", \"really\", \"payment\", \"mean\", \"think\", \"pay\", \"lengthy\", \"put\", \"interruption\", \"upcoming\", \"automate\", \"filling\", \"fine\", \"tend\", \"verify\", \"entity\", \"smoother\", \"correctly\", \"service\", \"together\", \"proof\", \"generally\", \"upload\", \"electricity\", \"monthly\", \"utility\", \"water\", \"basis\", \"thing\", \"time\", \"clunky\", \"friendly\", \"hope\", \"process\", \"take\", \"user\", \"apply\", \"customer\", \"exactly\", \"lengthy\", \"continue\", \"reach\", \"process\", \"email\", \"support\", \"get\", \"choose\", \"facility\", \"point\", \"put\", \"interruption\", \"upcoming\", \"automate\", \"filling\", \"fine\", \"tend\", \"verify\", \"entity\", \"smoother\", \"correctly\", \"together\", \"proof\", \"generally\", \"upload\", \"ok\", \"encounter\", \"other\", \"interact\", \"electricity\", \"monthly\", \"pay\", \"utility\", \"water\", \"basis\", \"thing\", \"time\", \"clunky\", \"friendly\", \"hope\", \"take\", \"user\", \"apply\", \"customer\", \"fail\", \"fill\", \"form\", \"payment\", \"initially\", \"find\", \"bill\", \"fill\", \"pay\", \"lengthy\", \"choose\", \"facility\", \"point\", \"put\", \"interruption\", \"upcoming\", \"automate\", \"filling\", \"fine\", \"tend\", \"verify\", \"entity\", \"smoother\", \"correctly\", \"pretty\", \"together\", \"proof\", \"generally\", \"upload\", \"exactly\", \"ok\", \"encounter\", \"other\", \"interact\", \"form\", \"open\", \"straightforward\", \"way\", \"login\", \"eventually\", \"account\", \"knowledge\", \"back\", \"manage\", \"i\", \"create\", \"try\", \"actually\", \"arm\", \"website\", \"get\", \"think\", \"meter\", \"come\", \"read\", \"definitely\", \"much\", \"reading\", \"inaudible\", \"lengthy\", \"choose\", \"facility\", \"point\", \"put\", \"interruption\", \"upcoming\", \"automate\", \"filling\", \"fine\", \"tend\", \"verify\", \"entity\", \"smoother\", \"correctly\", \"together\", \"proof\", \"generally\", \"upload\", \"exactly\", \"ok\", \"encounter\", \"other\", \"interact\", \"mostly\", \"resolve\", \"sometimes\", \"desirable\", \"governmental\", \"electricity\", \"monthly\", \"pay\", \"utility\", \"water\", \"basis\", \"thing\", \"time\", \"clunky\", \"friendly\", \"hope\", \"process\", \"take\", \"user\", \"apply\", \"customer\", \"fail\", \"fill\", \"form\", \"payment\", \"service\", \"straightforward\", \"support\", \"use\", \"around\", \"care\", \"lengthy\", \"choose\", \"facility\", \"point\", \"put\", \"interruption\", \"upcoming\", \"automate\", \"filling\", \"fine\", \"tend\", \"verify\", \"entity\", \"smoother\", \"correctly\", \"together\", \"proof\", \"generally\", \"upload\", \"exactly\", \"ok\", \"encounter\", \"other\", \"interact\", \"mostly\", \"resolve\", \"sometimes\", \"desirable\", \"governmental\", \"inaubible\", \"pop\", \"bot\", \"guide\", \"one\", \"along\", \"clearly\", \"prompt\", \"hesitation\", \"frustrated\", \"bubble\", \"instantly\", \"touchpoint\", \"close\", \"amount\", \"proper\", \"download\", \"drop\", \"chat\", \"people\", \"leave\", \"need\", \"form\", \"available\", \"picture\", \"water\", \"customer\", \"fill\", \"send\", \"user\", \"ideally\", \"function\", \"care\", \"website\", \"pause\", \"help\", \"take\", \"payment\", \"support\", \"get\", \"email\", \"print\", \"go\", \"lengthy\", \"choose\", \"facility\", \"point\", \"put\", \"interruption\", \"upcoming\", \"automate\", \"filling\", \"fine\", \"tend\", \"verify\", \"entity\", \"smoother\", \"correctly\", \"together\", \"proof\", \"generally\", \"upload\", \"exactly\", \"ok\", \"encounter\", \"other\", \"interact\", \"mostly\", \"resolve\", \"sometimes\", \"desirable\", \"governmental\", \"inaubible\", \"electricity\", \"monthly\", \"pay\", \"utility\", \"water\", \"basis\", \"thing\", \"time\", \"clunky\", \"friendly\", \"hope\", \"process\", \"take\", \"user\", \"apply\", \"customer\", \"fail\", \"fill\", \"form\", \"payment\", \"service\", \"straightforward\", \"support\", \"use\", \"around\", \"care\", \"day\", \"lengthy\", \"choose\", \"facility\", \"point\", \"put\", \"interruption\", \"upcoming\", \"automate\", \"filling\", \"fine\", \"tend\", \"verify\", \"entity\", \"smoother\", \"correctly\", \"together\", \"proof\", \"generally\", \"upload\", \"exactly\", \"ok\", \"encounter\", \"other\", \"interact\", \"mostly\", \"resolve\", \"sometimes\", \"desirable\", \"governmental\", \"inaubible\", \"electricity\", \"monthly\", \"pay\", \"utility\", \"water\", \"basis\", \"thing\", \"time\", \"clunky\", \"friendly\", \"hope\", \"process\", \"take\", \"user\", \"apply\", \"customer\", \"fail\", \"fill\", \"form\", \"payment\", \"service\", \"straightforward\", \"support\", \"use\", \"around\", \"care\", \"day\"], \"Freq\": [27.0, 17.0, 10.0, 6.0, 13.0, 25.0, 10.0, 7.0, 9.0, 5.0, 7.0, 5.0, 13.0, 7.0, 6.0, 6.0, 6.0, 5.0, 6.0, 7.0, 7.0, 3.0, 7.0, 6.0, 6.0, 6.0, 4.0, 5.0, 3.0, 5.0, 2.7184575488759637, 1.8296926130931075, 1.8281519109587465, 1.826126323901517, 1.8251001689807043, 1.8237139245401532, 2.7181112215901897, 0.9380110190073315, 0.9380110190073315, 0.9380108853934096, 0.9380108185864485, 0.9380104845516436, 0.9380099500959557, 0.9380099500959557, 0.9380095492541898, 0.936481674056339, 0.9362735035658928, 0.9361923331082894, 0.9359355939572033, 0.9355523892289622, 0.9354066164400812, 0.9352904391349188, 0.9350422512748394, 0.934801813022235, 0.9346708045717327, 0.9346319229204363, 0.9346128829365541, 0.93459912070259, 0.9344965720174697, 1.826517812692921, 2.7217372362049055, 3.609865234421679, 2.7181269880329832, 2.718461824521467, 1.8298200807746772, 2.721696350344779, 4.504125309973841, 2.7247601175757996, 6.282327794022805, 2.721927235201962, 1.826009678947628, 1.8275857887713136, 1.8281809051798164, 1.8247442214925473, 1.8277683053887395, 1.827577771935995, 2.7184615572936233, 3.6118900197953767, 1.8281676774015403, 1.8298663111916826, 1.8339292433312757, 1.8313877729212782, 1.8313884409908883, 1.8313873720795124, 1.8276034258090152, 2.6867666043812894, 2.681152736929237, 1.8073032002107567, 1.805227927135254, 1.8047073132332372, 1.8025606936675984, 2.681874581451923, 4.449671338674071, 0.926283460942473, 0.926283460942473, 0.9254701588384717, 0.9252006343040062, 0.9251874064732007, 0.9251071416717976, 0.9250480653414584, 0.9249509814429678, 0.9248619180391737, 0.924140253079802, 0.9241388764277273, 0.9238657606269797, 0.923724085172154, 0.9235273436343374, 0.9229369394575735, 4.4502789809289895, 4.445669710364894, 1.8060201604770674, 2.6863179355137894, 2.689659489080332, 0.9237195960893015, 0.9230679608224291, 2.6843247827272685, 1.8085166890874511, 2.6860591249237316, 4.454808764799376, 6.2021503875323996, 6.218407810573349, 2.684791168508427, 1.8070531283686522, 1.8017388922333963, 1.804288930711382, 1.8085545170922883, 1.81054946551195, 0.9282131081702399, 0.926331524056214, 0.9263230845804513, 0.9263124903449194, 0.9263071034454963, 1.7292720974264668, 1.727575502332629, 0.8893602271325187, 0.8893602271325187, 0.8893602271325187, 0.8893602271325187, 0.8893602271325187, 0.8893601320212341, 0.8893601320212341, 0.8893601320212341, 0.8893600369099496, 0.8893600369099496, 0.8893599417986651, 0.8893599417986651, 0.8893590857971041, 0.889358895574535, 0.889358895574535, 0.8893517622281936, 0.8893475773316732, 0.8893474822203887, 0.8865139268310164, 0.886132530579963, 0.8860435064176223, 0.8856652488389591, 0.8853096277460193, 0.8773478621161737, 1.7289083918743402, 1.7325728394455586, 1.7363942206362877, 1.7330573363290662, 8.31655811327442, 2.5834246950225284, 3.9170182504621236, 1.8041874518166736, 2.580038733292478, 1.7218927933032175, 2.58342222212913, 3.6093804201336304, 1.7002943521394485, 1.7329024951578158, 1.7363940304137186, 1.7363940304137186, 1.7335992804284435, 1.0394695168653847, 0.9744169173493639, 0.9670418932339194, 0.8893602271325187, 0.8893602271325187, 0.8893602271325187, 1.7551422132737042, 2.614154180318409, 0.9023672953745844, 0.9005229274657673, 0.9004077397031376, 0.9002743691839757, 0.9002735509599319, 0.9002118205015059, 0.9002544590655733, 0.9000928143600044, 0.9000813592233893, 0.9000335385737103, 0.9001396349580741, 0.8998968042445902, 0.8998373466307307, 0.8998158909780231, 0.8996352452918782, 0.8996937028541284, 0.8996593374442831, 0.8997229770921448, 0.8994502357441658, 0.8995756967642361, 0.8994442354345102, 0.8993624130301165, 0.8990431238254157, 1.755780973510671, 1.7561900855326398, 2.61536733383422, 0.9000054462148684, 2.6140947227045497, 1.7560517147554318, 4.328587747303022, 1.756877939212243, 4.327365502408946, 2.6128055652664353, 1.7565382853202263, 1.7556862413491399, 2.6137472502272243, 2.615562252984242, 1.7581709150292288, 1.757309052369615, 1.7591655118115257, 0.9023677499434977, 0.9023675681159323, 0.9004593787316882, 0.9003176441445218, 0.9001484535949922, 2.5170335066166114, 1.6958325600169732, 1.69147782496979, 0.8685882178878743, 0.8685882178878743, 0.8685882178878743, 0.8685882178878743, 0.8685882178878743, 0.8685881480825549, 0.8685881480825549, 0.8685881480825549, 0.8676794224342439, 0.867569618666784, 0.8674819431855827, 0.8539445975889512, 0.84445616993509, 0.8375358799829771, 0.7807514165933715, 2.4399960768748237, 2.4442642533259167, 3.3389073764955333, 0.8678082830539076, 0.8685884273038326, 0.867624764869132, 0.8691368178932574, 1.6958324204063344, 0.8676562470681939, 2.5201356550119822, 1.6958324204063344, 1.5514151268655942, 4.345809180598701, 3.99258700454086, 1.6958727678809637, 2.4452610732873454, 1.2087699924180906, 0.8708827885427852, 0.8698687266674577, 0.8687848594727025, 0.8685883574985132, 0.8685881480825549, 0.8685881480825549, 1.6810976879025399, 1.6791428831549662, 1.6770185694106239, 0.8612795606295758, 0.8607186623680633, 0.8606482499402326, 0.8605457787664585, 0.8605183276540417, 0.8603245474609517, 0.8600600303587967, 0.8600159009109397, 0.8599693054057024, 0.8598655363069915, 0.859851194236438, 0.8597964867003446, 0.8592755645268908, 1.680273245982575, 0.8601887196162976, 1.6794780073736923, 0.8604069007982026, 0.8603255858009012, 0.8601450444421684, 0.860584586722074, 0.8616996989316736, 2.497290645930294, 1.685361890490468, 1.6838446162391476, 0.8596681868203249, 0.860278536021936, 0.8602745124546314, 1.6793005810348083, 1.6799686229998678, 3.3185240954507793, 1.6809989158148362, 1.679743043645822, 1.6820588013183677, 1.6800792062044978, 0.863221710609014, 0.8630766674973074, 0.8630149511665544, 0.8626617857912042, 0.862092191432614, 0.8616592036736401, 0.8607711634317637, 0.8607392993745612, 0.8607337182973321, 0.8606067812384963, 0.8606058726910404, 1.5997721933667315, 0.8236847182675457, 0.8236847182675457, 0.823681816291537, 0.8196101021200826, 0.8090239354719017, 3.1632225295153353, 0.8201190361625976, 1.6081614432607056, 0.823681816291537, 1.6081624105860417, 3.952635213410023, 0.8236833277373748, 0.8236835091108754, 0.8236847182675457, 0.8202070023103595, 0.82368169537587, 0.8236847787253793, 0.8208832231782058, 2.3792878089996226, 0.8236847182675457, 0.8236847787253793, 0.8193759489308855, 0.8236845973518787, 0.8205531234072232, 2.380140022620826, 0.8040900925945473, 0.8213037678681244, 0.8236847182675457, 0.8204392813067176, 0.8236847182675457, 1.6067622071618735, 1.6059542486748015, 1.6089813723988131, 1.6081614432607056, 0.8259985000139337, 0.8257772243432749, 0.8244109377637077, 0.8236848996410463, 0.8236848996410463, 0.8236848996410463, 0.8236847787253793, 0.8236847787253793, 0.8236847182675457, 0.8236845368940452, 0.7741293467207221, 0.7727698257502513, 0.7726150528027398, 0.7723212799469538, 0.7719234214624537, 1.508282254100667, 1.507454005238241, 1.5124264558576537, 0.7728647104394104, 0.7727584067270538, 0.7715367355474132, 0.7727457554351659, 0.7726393695715633, 0.7726858671768135, 0.77221119727728, 0.7723592338226174, 0.7716004027630827, 2.2430893318527105, 0.7720019580536539, 1.5081375036051707, 0.7721304426024372, 0.7727783694798379, 0.7741292645694761, 0.7729478475003879, 1.5096341350052576, 0.7720846843584012, 0.7741293467207221, 0.7750059005158109, 1.5097943299350067, 0.7721829372486473, 0.7750210163450795, 0.7750558484733941, 0.7748647646751397, 0.7724545292680066, 0.7723442822958408, 0.7722546552864273, 2.146361669461704, 0.7389057808522604, 0.7389057089440899, 0.7389057089440899, 0.7389057089440899, 0.7389057089440899, 0.738905565127749, 0.738905565127749, 0.738905565127749, 0.738905565127749, 0.7389054213114079, 0.738904846046044, 0.7389047741378735, 0.7389057089440899, 0.7389054932195784, 0.738905565127749, 0.7389054932195784, 0.738905565127749, 0.7389054213114079, 0.738904702229703, 2.8500892542255736, 0.7389054932195784, 0.738905565127749, 0.7389054932195784, 0.738905565127749, 0.738905565127749, 0.7389054932195784, 0.7389057089440899, 0.7389057089440899, 0.7389054932195784, 1.4426345161468577, 0.7389054932195784, 0.7389054932195784, 2.136345995004179, 0.7355867384759769, 0.7355027886976595, 0.7354930996323359, 0.7352533284473078, 0.7354206307327924, 0.7353705926831077, 0.7354994041611423, 0.7352882356278572, 2.136499692780134, 1.436336376217555, 0.7355816948529317, 1.4360354842848349, 0.7356562210197699, 0.7352434402916009, 0.7355222995552289, 0.7354127334809191, 0.7354061634982682, 0.7354526842845136, 0.7354897814592799, 1.4359356736393096, 2.8372009515585552, 0.7353924262618162, 0.7353154446469166, 0.03505777998120584, 0.03505777998120584, 0.03505777998120584, 0.03505777998120584, 0.03505777998120584, 0.03505777998120584, 0.7354979441649977, 0.03505777998120584, 0.03505777998120584, 0.03505777998120584, 0.03505777998120584, 0.03505777998120584, 0.649058126939368, 0.6490580782498263, 0.6490580782498263, 0.6490580782498263, 0.6490579808707428, 1.2672152414674223, 0.649058126939368, 1.2672151440883388, 0.649058126939368, 0.6509728918570827, 0.649058126939368, 0.6520545787159535, 0.6490579808707428, 0.653478893879914, 0.6508972769987903, 0.6490579808707428, 0.654434572204811, 0.649058126939368, 1.897678978492217, 0.6490579808707428, 0.6611772460109416, 0.6513729738214031, 0.030907813731672975, 0.030907813731672975, 0.030907813731672975, 0.030907813731672975, 0.030907813731672975, 0.030907813731672975, 0.030907813731672975, 0.030907813731672975, 0.034297467031714365, 0.03390236357303498, 0.0338673253615741, 0.03385292542961015, 0.0337726972372396, 0.033741545059827315, 0.0336991182104103, 0.03800188908969208, 0.03641620765517959, 0.03701730743559089, 0.037823177169901995, 0.03980830760469246, 0.03658589375117317, 0.03493527568348684, 0.03606600812635227, 0.03620475810477495, 0.6026946768505866, 0.6026805327913077, 0.6026774991072842, 1.1766338114127644, 0.6026797842199253, 0.6026642218148691, 0.6027273776004516, 0.6027271806079825, 1.750593433191725, 0.602675647378075, 1.1766099359255136, 0.6026838028662943, 0.6027272594049701, 0.6026469258760851, 0.6027273776004516, 0.6026267932457466, 0.028701554039855703, 0.028701554039855703, 0.028701554039855703, 0.028701554039855703, 0.028701554039855703, 0.028701554039855703, 0.028701554039855703, 0.028701554039855703, 0.028701554039855703, 0.028701554039855703, 0.028701554039855703, 0.028701554039855703, 0.6026628822660794, 0.028701554039855703, 0.028701554039855703, 0.028701554039855703, 0.028701554039855703, 0.028701554039855703, 0.028701554039855703, 0.028701554039855703, 0.028701554039855703, 0.028701554039855703, 0.028701554039855703, 0.028701554039855703, 0.028701554039855703, 0.028701554039855703, 0.028701554039855703, 0.6029750586894528, 0.6029750586894528, 0.6029750586894528, 0.6029750205301019, 0.6045554282046813, 1.0733504944038548, 3.296015760850095, 0.6044997155524483, 0.604183031099789, 0.6062351646695092, 0.6029749442114002, 0.6084217336322549, 0.6060493667902469, 0.028713315972694983, 0.028713315972694983, 0.028713315972694983, 0.028713315972694983, 0.028713315972694983, 0.028713315972694983, 0.028713315972694983, 0.6138327677413683, 0.028713315972694983, 0.028713315972694983, 0.028713315972694983, 0.028713315972694983, 0.028713315972694983, 0.028713315972694983, 0.028713315972694983, 0.028713315972694983, 0.028713315972694983, 0.031458535446846035, 0.03121759730561331, 0.03096138349924561, 0.03090104641068203, 0.030642526348547663, 0.03042010503231227, 0.030405726111922146, 0.030366128630542603, 0.034691514898370884, 0.030461729729205432, 0.030242788068775183, 0.03023520866771368, 0.03038705664952143, 0.03029341360254881, 0.03378825444436636, 0.044846433645943984, 0.034527703960073354, 0.03343106145582617, 0.03635426091223523, 0.030820449091779407, 0.035564984824162926, 0.03261616374862115, 0.031189896001859566, 0.03217059847344375, 0.03199791548607485, 0.031876263475582305, 0.03167008373305014, 0.031443529282126396, 0.03130382551372494, 0.031371586980987215, 0.03132179618301331, 0.5486117504753668, 0.548611688481766, 0.548611688481766, 0.548611688481766, 0.5486116264881652, 0.5486116264881652, 1.071102993196186, 1.0711032411705892, 0.548611688481766, 0.5486116264881652, 0.548611688481766, 0.5486116264881652, 0.5486116264881652, 0.026124543150500706, 0.026124543150500706, 0.026124543150500706, 0.026124543150500706, 0.026124543150500706, 0.026124543150500706, 0.026124543150500706, 0.026124543150500706, 0.026124543150500706, 0.026124543150500706, 0.026124543150500706, 0.026124543150500706, 0.5486116264881652, 0.026124543150500706, 0.026124543150500706, 0.026124543150500706, 0.026124543150500706, 0.026124543150500706, 0.026124543150500706, 0.026124543150500706, 0.026124543150500706, 0.026124543150500706, 0.026124543150500706, 0.026124543150500706, 0.026124543150500706, 0.026124543150500706, 0.026124543150500706, 0.026124543150500706, 0.026124543150500706, 0.026124543150500706, 0.026124543150500706, 0.026124543150500706, 0.7108224038810868, 0.36565737275126514, 0.36565795283629615, 0.36565795283629615, 0.3656574372051575, 0.36565795283629615, 0.3656579850632423, 0.36565795283629615, 0.017412386191785964, 0.017412386191785964, 0.017412386191785964, 0.017412386191785964, 0.017412386191785964, 0.017412386191785964, 0.017412386191785964, 0.017412386191785964, 0.017412386191785964, 0.017412386191785964, 0.017412386191785964, 0.017412386191785964, 0.017412386191785964, 0.017412386191785964, 0.017412386191785964, 0.017412386191785964, 0.017412386191785964, 0.017412386191785964, 0.017412386191785964, 0.017412386191785964, 0.017412386191785964, 0.017412386191785964, 0.017412386191785964, 0.017412386191785964, 0.017412386191785964, 0.017412386191785964, 0.017412386191785964, 0.017412386191785964, 0.017412386191785964, 0.017412386191785964, 0.017412386191785964, 0.017412386191785964, 0.017412386191785964, 0.017412386191785964, 0.017412386191785964, 0.017412386191785964, 0.017412386191785964, 0.017412386191785964, 0.017412386191785964, 0.017412386191785964, 0.017412386191785964, 0.3272748897467636, 0.32920012045517716, 0.32155564194251396, 0.32155227887492266, 0.32155220358236464, 0.015312096938156015, 0.015312096938156015, 0.015312096938156015, 0.015312096938156015, 0.015312096938156015, 0.015312096938156015, 0.015312096938156015, 0.015312096938156015, 0.015312096938156015, 0.015312096938156015, 0.015312096938156015, 0.015312096938156015, 0.015312096938156015, 0.015312096938156015, 0.015312096938156015, 0.016902526738601424, 0.015312096938156015, 0.015312096938156015, 0.015312096938156015, 0.015312096938156015, 0.015312096938156015, 0.015312096938156015, 0.015312096938156015, 0.015312096938156015, 0.015312096938156015, 0.32155227887492266, 0.01858716321507172, 0.01670392379370045, 0.016993872297421785, 0.020523267423738445, 0.01666957783848648, 0.02019056686441989, 0.017563430695492172, 0.0165344716175105, 0.01640566957967322, 0.01657886912921932, 0.016515000648289133, 0.016405812321814456, 0.01650378519433499, 0.016163506752771332, 0.01636881700971537, 0.016197206446862355, 0.016095677569570626, 0.01531936267000435, 0.01531458316116543, 0.015314575318190637, 0.015314498457037664, 0.01531425375622412, 0.01531416277771652, 0.11761243010095715, 0.0056006361473115735, 0.0056006361473115735, 0.0056006361473115735, 0.0056006361473115735, 0.0056006361473115735, 0.0056006361473115735, 0.0056006361473115735, 0.0056006361473115735, 0.0056006361473115735, 0.0056006361473115735, 0.0056006361473115735, 0.0056006361473115735, 0.0056006361473115735, 0.0056006361473115735, 0.0056006361473115735, 0.0056006361473115735, 0.0056006361473115735, 0.0056006361473115735, 0.0056006361473115735, 0.0056006361473115735, 0.0056006361473115735, 0.0056006361473115735, 0.0056006361473115735, 0.0056006361473115735, 0.0056006361473115735, 0.0056006361473115735, 0.0056006361473115735, 0.0056006361473115735, 0.0056006361473115735, 0.0056006361473115735, 0.0056006361473115735, 0.0056006361473115735, 0.0056006361473115735, 0.0056006361473115735, 0.0056006361473115735, 0.0056006361473115735, 0.0056006361473115735, 0.0056006361473115735, 0.0056006361473115735, 0.0056006361473115735, 0.0056006361473115735, 0.0056006361473115735, 0.0056006361473115735, 0.0056006361473115735, 0.0056006361473115735, 0.0056006361473115735, 0.0056006361473115735, 0.0056006361473115735, 0.0056006361473115735, 0.0056006361473115735, 0.0056006361473115735, 0.0056006361473115735, 0.0056006361473115735, 0.0056006361473115735, 0.0056006361473115735, 0.0039466060013580665, 0.0039466060013580665, 0.0039466060013580665, 0.0039466060013580665, 0.003953545053027862, 0.003953137769782316, 0.003951196581651567, 0.0039466060013580665, 0.0039466060013580665, 0.0039466060013580665, 0.0039466060013580665, 0.0039466060013580665, 0.0039466060013580665, 0.0039466060013580665, 0.0039466060013580665, 0.0040404162252265395, 0.00401706746788513, 0.004017017363255642, 0.0040064233107189855, 0.0039466060013580665, 0.0039466060013580665, 0.0039466060013580665, 0.0039466060013580665, 0.0039466060013580665, 0.0039466060013580665, 0.0039466060013580665, 0.0039466060013580665, 0.0039466060013580665, 0.0039466060013580665, 0.0039466060013580665, 0.004060233338712868, 0.004046566788253339, 0.004038613630603088, 0.004023058340718532, 0.004021542895433667, 0.004018640343037712, 0.004015395848521217, 0.0040141517300603625, 0.004013727452262125, 0.004010773037179508, 0.00400637584317526, 0.004143154156439281, 0.0040022748818050015, 0.004001700876137358, 0.004000496020953413, 0.0041610968879675116, 0.003994026370549348, 0.004129034613247656, 0.004162242555226565, 0.004054825261832985, 0.004198830069114917, 0.004382437458340355, 0.004097371710516058, 0.004037996552534657, 0.004030757459106992, 0.004263764496893253, 0.00423054366249506, 0.004143901623748193, 0.004097897369611389, 0.004092324035357054, 0.00405202526277224, 0.004082497374777292, 0.00410369456314601, 0.004043697052924651, 0.004060543635804259, 0.00410085031964636, 0.0040759875820677305, 0.0040667715533467584, 0.004050564610269329, 0.004040821164395852, 0.004040425601531473, 0.004037426942009951, 0.0038024194906593834, 0.0038024194906593834, 0.0038024194906593834, 0.0038024194906593834, 0.0038024194906593834, 0.0038024194906593834, 0.0038024194906593834, 0.0038024194906593834, 0.0038024194906593834, 0.0038024194906593834, 0.0038024194906593834, 0.0038024194906593834, 0.0038024194906593834, 0.0038024194906593834, 0.0038024194906593834, 0.0038024194906593834, 0.0038024194906593834, 0.0038024194906593834, 0.0038024194906593834, 0.0038024194906593834, 0.0038024194906593834, 0.0038024194906593834, 0.0038024194906593834, 0.0038024194906593834, 0.0038024194906593834, 0.0038024194906593834, 0.0038024194906593834, 0.0038024194906593834, 0.0038024194906593834, 0.0038024194906593834, 0.0038024194906593834, 0.0038024194906593834, 0.0038024194906593834, 0.0038024194906593834, 0.0038024194906593834, 0.0038024194906593834, 0.0038024194906593834, 0.0038024194906593834, 0.0038024194906593834, 0.0038024194906593834, 0.0038024194906593834, 0.0038024194906593834, 0.0038024194906593834, 0.0038024194906593834, 0.0038024194906593834, 0.0038024194906593834, 0.0038024194906593834, 0.0038024194906593834, 0.0038024194906593834, 0.0038024194906593834, 0.0038024194906593834, 0.0038024194906593834, 0.0038024194906593834, 0.0038024194906593834, 0.0038024194906593834, 0.0038024194906593834, 0.0038024194906593834, 0.0038024194906593834, 0.0038024194906593834, 0.0038024194906593834, 0.0038024194906593834, 0.0038024194906593834, 0.0038024194906593834, 0.0038024194906593834, 0.0038024194906593834, 0.0038024194906593834, 0.0038024194906593834, 0.0038024194906593834, 0.0038024194906593834, 0.0038024194906593834, 0.0038024194906593834, 0.0038024194906593834, 0.0038024194906593834, 0.0038024194906593834, 0.0038024194906593834, 0.0038024194906593834, 0.0038024194906593834, 0.0038024194906593834, 0.0038024194906593834, 0.0038024194906593834, 0.0038024194906593834, 0.0038024194906593834, 0.0038024194906593834, 0.0038024194906593834, 0.0038024194906593834, 0.0038024194906593834, 0.0038024194906593834, 0.0038024194906593834, 0.0038024194906593834, 0.0038024194906593834, 0.0038024194906593834, 0.0038024194906593834, 0.0038024194906593834, 0.0038024194906593834, 0.0038024194906593834, 0.0038024194906593834, 0.0038024194906593834, 0.0038024194906593834, 0.0038024194906593834, 0.0038024194906593834, 0.0038024194906593834, 0.0038024194906593834, 0.0038024194906593834, 0.0038024194906593834, 0.0038024194906593834, 0.0038024194906593834, 0.0038024194906593834, 0.0038024194906593834, 0.0038024194906593834, 0.0038024194906593834, 0.0038024194906593834, 0.0038024194906593834, 0.0038024194906593834, 0.0038024194906593834], \"Total\": [27.0, 17.0, 10.0, 6.0, 13.0, 25.0, 10.0, 7.0, 9.0, 5.0, 7.0, 5.0, 13.0, 7.0, 6.0, 6.0, 6.0, 5.0, 6.0, 7.0, 7.0, 3.0, 7.0, 6.0, 6.0, 6.0, 4.0, 5.0, 3.0, 5.0, 3.2467254621177917, 2.353367541637837, 2.353615602630038, 2.3528542347261, 2.3533001941277853, 2.35300336061282, 4.103605177538691, 1.4605959376199815, 1.4605959376199815, 1.4605958040060596, 1.4605957371990985, 1.4605954031642936, 1.4605948687086057, 1.4605948687086057, 1.4605944678668397, 1.4600494988430845, 1.459975129346456, 1.4599461489560108, 1.459854351213991, 1.4597174054714661, 1.4596652757295576, 1.4596237715040792, 1.4602779064109253, 1.460236995855852, 1.460223924068025, 1.4602287797830693, 1.460207003598374, 1.4602239274572677, 1.4601992379705009, 3.056689874913491, 4.568135265162206, 6.629335242547928, 5.508761010951505, 5.573443103706265, 3.528884730636984, 6.959903628452192, 14.630659408501987, 7.462424176207511, 27.197343035113366, 9.15520799910635, 4.756732658518527, 4.817340990908413, 4.853352070588047, 5.547665490390632, 5.619477475563699, 5.757572390723522, 13.29812578487361, 25.07438243832587, 6.506815810558787, 6.760897043363686, 7.08685732106163, 7.591325913758465, 7.621050923098631, 17.920363177091918, 7.812525628263355, 3.213090390954226, 3.2111681195074433, 2.3315583816240966, 2.330985755261786, 2.3308115063932044, 2.329942313773515, 4.039551176894204, 6.71620893662457, 1.4494269446527674, 1.4494269446527674, 1.4493767412122533, 1.449360003553598, 1.4493591967068182, 1.4493541165972712, 1.4493503478940812, 1.4493442421409672, 1.4493387575186907, 1.448816832394883, 1.4488313698252444, 1.4487464832196038, 1.448720893824341, 1.4486606198477607, 1.448487616285582, 7.591325913758465, 7.621050923098631, 3.111899113930696, 5.591080484940935, 5.704114758191961, 1.9712169552081087, 1.971022378809137, 5.75316017665247, 4.000567754055174, 6.506815810558787, 13.29812578487361, 25.07438243832587, 27.197343035113366, 9.078353120535171, 4.817340990908413, 4.853352070588047, 5.3651787420242485, 6.32068431963152, 10.773795663013507, 4.763336421206422, 13.399659868098729, 3.1646654735084963, 3.053721727684242, 14.630659408501987, 2.2602199708294313, 2.2584556975163483, 1.4142622233905613, 1.4142622233905613, 1.4142622233905613, 1.4142622233905613, 1.4142622233905613, 1.4142621282792767, 1.4142621282792767, 1.4142621282792767, 1.414262033167992, 1.414262033167992, 1.4142619380567076, 1.4142619380567076, 1.4142610820551467, 1.4142608918325774, 1.4142608918325774, 1.414253758486236, 1.4142495759746754, 1.4142494808633908, 1.4133451334649116, 1.4132222572759927, 1.4131935702022156, 1.41307152642992, 1.412956843478213, 1.413929016907507, 2.9595838131708967, 3.044526328529391, 3.083194411731867, 3.1187591571292637, 17.920363177091918, 5.75316017665247, 10.368756081598479, 3.9473276363631298, 6.799954868572117, 3.828726081208404, 9.15520799910635, 25.07438243832587, 5.452584689248382, 7.071112537272226, 9.50249259338266, 10.773795663013507, 14.630659408501987, 5.5908930371225445, 4.756538569476643, 4.789927986025404, 2.769937785602586, 4.016933203721084, 2.241480418414056, 2.284003129934336, 4.036549336013173, 1.426649798489134, 1.4260400239077864, 1.4260017844761348, 1.425921043404955, 1.4260479142068017, 1.4260195502870068, 1.4261153878184945, 1.425897210169573, 1.4258933344340192, 1.4258880882136296, 1.4260709700830654, 1.4258321200169874, 1.4258122598845075, 1.42580518315219, 1.4256029284373666, 1.4258271873400765, 1.4259386570519252, 1.4260533314561257, 1.4256756317786679, 1.4259222726457965, 1.4259191128201998, 1.4258339025119469, 1.4254465777424064, 3.0215366726613255, 3.1777785327780226, 4.763336421206422, 2.0001300615614044, 6.142553625297727, 4.467671563608594, 13.399659868098729, 4.637149458755203, 27.197343035113366, 10.773795663013507, 5.452584689248382, 5.545034457739781, 13.29812578487361, 14.630659408501987, 6.399113725802516, 7.686232767572201, 9.15520799910635, 3.2015496039076856, 3.63080153739521, 6.760897043363686, 2.273009664586597, 5.619477475563699, 3.0491082975828223, 2.221723976151891, 2.2218248689242444, 1.3944796340227914, 1.3944796340227914, 1.3944796340227914, 1.3944796340227914, 1.3944796340227914, 1.394479564217472, 1.394479564217472, 1.394479564217472, 1.3944713954647203, 1.3944691251428247, 1.3944698410511767, 1.3948183801839584, 1.395043329187439, 1.3952074745986431, 1.3965562112738048, 4.756538569476643, 4.789927986025404, 7.159012576514435, 1.968456319976171, 2.1789408871813425, 2.241480418414056, 2.276565224497998, 4.554552113052152, 2.5424209369698887, 7.812525628263355, 5.757572390723522, 5.5908930371225445, 17.920363177091918, 25.07438243832587, 9.078353120535171, 27.197343035113366, 10.368756081598479, 4.467671563608594, 7.591325913758465, 5.704114758191961, 4.637149458755203, 9.15520799910635, 6.760897043363686, 2.211311539111104, 2.210820042944125, 2.2102959777081517, 1.3893189997015074, 1.389177746422547, 1.3891573666370043, 1.3891315769495869, 1.38912930551335, 1.3890758189552994, 1.389016999495115, 1.3890021513657218, 1.3889921136418317, 1.3889652807413995, 1.3889601462303103, 1.3889490697584381, 1.3888175499084412, 3.5224024781233623, 1.9115289558819775, 3.9857101305645397, 2.1265340566496027, 2.1266599293512503, 2.1717879098898427, 2.2712692220936277, 2.281930168398927, 7.071112537272226, 5.508761010951505, 5.547665490390632, 3.030196508149213, 3.053721727684242, 3.0668671555406304, 6.142553625297727, 6.32068431963152, 13.399659868098729, 6.399113725802516, 6.542356077590587, 6.629335242547928, 7.462424176207511, 25.07438243832587, 6.506815810558787, 5.619477475563699, 14.630659408501987, 9.15520799910635, 4.554552113052152, 6.760897043363686, 4.000567754055174, 5.545034457739781, 3.083194411731867, 3.1646654735084963, 2.1310770095659293, 1.3517144681898272, 1.3517144681898272, 1.3517115662138184, 1.3492302818428095, 1.6490164782027907, 7.08685732106163, 1.9238023174978307, 3.828726081208404, 1.9698618794215135, 3.850422549716103, 9.50249259338266, 2.052217521797801, 2.0522453595734946, 2.0554335880137513, 2.053313568681407, 2.089131731182178, 2.1789408871813425, 2.1717879098898427, 6.32068431963152, 2.197735319107056, 2.1977621937397642, 2.196096022475357, 2.244641676082168, 2.2423254697020694, 7.071112537272226, 2.5274956275087717, 3.030196508149213, 3.044526328529391, 3.053721727684242, 3.0668671555406304, 7.686232767572201, 9.078353120535171, 14.630659408501987, 17.920363177091918, 27.197343035113366, 13.29812578487361, 10.773795663013507, 6.959903628452192, 7.812525628263355, 5.591080484940935, 7.159012576514435, 10.368756081598479, 6.799954868572117, 25.07438243832587, 1.3045190773246431, 1.3046851865129265, 1.3047041284656435, 1.3047398236290593, 1.3047880996666872, 2.900493312630615, 2.9010168427932213, 3.793301519218324, 2.089131731182178, 2.1265340566496027, 2.1266599293512503, 2.1633174781954922, 2.1632467914990805, 2.1868246669228655, 2.1861145791974446, 2.1973798398592086, 2.1981701461396623, 6.542356077590587, 2.769937785602586, 5.452584689248382, 2.866862324612748, 3.0215366726613255, 3.5224024781233623, 3.6972481801075574, 7.462424176207511, 4.467671563608594, 4.763336421206422, 4.853352070588047, 9.50249259338266, 5.5908930371225445, 7.08685732106163, 14.630659408501987, 7.812525628263355, 6.799954868572117, 6.142553625297727, 13.399659868098729, 3.560549512062004, 1.270972892361674, 1.2709728204535036, 1.2709728204535036, 1.2709728204535036, 1.2709728204535036, 1.2709726766371627, 1.2709726766371627, 1.2709726766371627, 1.2709726766371627, 1.2709725328208217, 1.2709719575554577, 1.2709718856472871, 2.053313568681407, 2.0554335880137513, 2.1169227093084197, 2.117981248103201, 2.1292452155933788, 2.1530643725662597, 2.7271097144989374, 10.773795663013507, 2.866862324612748, 3.056689874913491, 4.282434067277448, 4.568135265162206, 4.637149458755203, 5.3651787420242485, 5.547665490390632, 5.619477475563699, 6.542356077590587, 25.07438243832587, 6.799954868572117, 9.50249259338266, 2.6690835969155104, 1.2679499225152595, 1.2678635736073525, 1.2678662612150664, 1.2676889505669402, 2.0522453595734946, 2.052217521797801, 2.150074337057996, 2.1497963637905926, 6.959903628452192, 5.757572390723522, 2.9595838131708967, 7.159012576514435, 4.756732658518527, 4.817340990908413, 5.3651787420242485, 5.545034457739781, 5.591080484940935, 6.399113725802516, 6.760897043363686, 13.29812578487361, 27.197343035113366, 13.399659868098729, 14.630659408501987, 0.9154984714645482, 1.089740630236334, 1.089740630236334, 1.0897406922299349, 1.141236369024167, 1.141238995424945, 25.07438243832587, 3.63080153739521, 17.920363177091918, 3.828726081208404, 1.426649798489134, 3.2015496039076856, 1.1854037981127636, 1.185403749423222, 1.185403749423222, 1.185403749423222, 1.1854036520441384, 3.444682882044816, 1.9698618794215135, 4.282434067277448, 2.769937785602586, 3.6972481801075574, 4.467671563608594, 4.554552113052152, 4.568135265162206, 5.508761010951505, 5.573443103706265, 5.704114758191961, 6.142553625297727, 7.686232767572201, 25.07438243832587, 9.50249259338266, 13.399659868098729, 14.630659408501987, 0.9154984714645482, 1.089740630236334, 1.089740630236334, 1.0897406922299349, 1.141236369024167, 1.141238995424945, 1.1412511982960931, 1.1415152276218263, 1.3888175499084412, 1.3889490697584381, 1.3889601462303103, 1.3889652807413995, 1.3889921136418317, 1.3890021513657218, 1.389016999495115, 2.2102959777081517, 2.210820042944125, 3.2111681195074433, 3.9857101305645397, 7.071112537272226, 4.039551176894204, 2.211311539111104, 5.547665490390632, 6.506815810558787, 1.1412511982960931, 1.141238995424945, 1.141236369024167, 2.5424209369698887, 1.968456319976171, 2.034566301570675, 2.7271097144989374, 3.5224024781233623, 10.368756081598479, 3.63080153739521, 7.686232767572201, 6.506815810558787, 7.462424176207511, 7.812525628263355, 10.773795663013507, 17.920363177091918, 0.9154984714645482, 1.089740630236334, 1.089740630236334, 1.0897406922299349, 1.1415152276218263, 1.1415152276218263, 1.1415152276218263, 1.1854036520441384, 1.185403749423222, 1.185403749423222, 1.185403749423222, 1.1854037981127636, 25.07438243832587, 1.2676889505669402, 2.0522453595734946, 3.828726081208404, 2.052217521797801, 1.426649798489134, 3.2015496039076856, 9.15520799910635, 1.4142608918325774, 1.4142610820551467, 1.4142608918325774, 5.5908930371225445, 14.630659408501987, 5.452584689248382, 6.760897043363686, 1.1415152276218263, 1.1415152276218263, 1.1415152276218263, 1.9238023174978307, 2.0001300615614044, 6.760897043363686, 27.197343035113366, 5.5908930371225445, 6.399113725802516, 6.799954868572117, 7.159012576514435, 13.29812578487361, 13.399659868098729, 0.9154984714645482, 1.089740630236334, 1.089740630236334, 1.0897406922299349, 1.141236369024167, 1.141238995424945, 1.1412511982960931, 25.07438243832587, 1.1854036520441384, 1.185403749423222, 1.185403749423222, 1.185403749423222, 1.1854037981127636, 1.2676889505669402, 1.2678635736073525, 1.2678662612150664, 1.2679499225152595, 1.412956843478213, 1.41307152642992, 1.4131935702022156, 1.4132222572759927, 1.4133451334649116, 1.42580518315219, 1.4258122598845075, 1.4258321200169874, 2.2584556975163483, 1.4596237715040792, 1.4258933344340192, 1.425897210169573, 1.4596652757295576, 1.4597174054714661, 2.9595838131708967, 17.920363177091918, 4.103605177538691, 3.9473276363631298, 10.368756081598479, 1.7615061157072902, 14.630659408501987, 5.545034457739781, 2.3187077475891695, 4.756732658518527, 4.637149458755203, 6.629335242547928, 7.08685732106163, 3.63080153739521, 3.044526328529391, 7.686232767572201, 3.828726081208404, 1.0897406922299349, 1.089740630236334, 1.089740630236334, 1.9115289558819775, 1.971022378809137, 1.9712169552081087, 5.704114758191961, 10.368756081598479, 6.542356077590587, 7.159012576514435, 7.462424176207511, 9.50249259338266, 17.920363177091918, 0.9154984714645482, 1.141236369024167, 1.141238995424945, 1.1412511982960931, 1.1415152276218263, 1.1415152276218263, 1.1415152276218263, 1.1854036520441384, 1.185403749423222, 1.185403749423222, 1.185403749423222, 1.1854037981127636, 25.07438243832587, 1.2676889505669402, 1.2678635736073525, 1.2678662612150664, 1.2679499225152595, 2.0522453595734946, 3.63080153739521, 3.828726081208404, 2.052217521797801, 1.426649798489134, 3.2015496039076856, 9.15520799910635, 1.4142608918325774, 1.4142610820551467, 1.4142608918325774, 5.5908930371225445, 14.630659408501987, 5.452584689248382, 6.760897043363686, 13.399659868098729, 1.2682689774733809, 0.9154984714645482, 1.7615061157072902, 3.528884730636984, 5.5908930371225445, 5.757572390723522, 6.399113725802516, 7.686232767572201, 1.089740630236334, 1.089740630236334, 1.0897406922299349, 1.141236369024167, 1.141238995424945, 1.1412511982960931, 1.1415152276218263, 1.1415152276218263, 1.1415152276218263, 1.1854036520441384, 1.185403749423222, 1.185403749423222, 1.185403749423222, 1.1854037981127636, 1.2676889505669402, 1.2678635736073525, 1.2678662612150664, 1.2679499225152595, 1.2709718856472871, 1.2709719575554577, 1.2709725328208217, 1.2709726766371627, 2.0522453595734946, 3.63080153739521, 17.920363177091918, 3.828726081208404, 2.052217521797801, 1.426649798489134, 3.2015496039076856, 9.15520799910635, 1.4142608918325774, 1.4142610820551467, 1.4142608918325774, 14.630659408501987, 5.452584689248382, 6.760897043363686, 13.399659868098729, 2.0001300615614044, 13.29812578487361, 27.197343035113366, 7.159012576514435, 1.6490164782027907, 2.5274956275087717, 10.368756081598479, 13.29812578487361, 17.920363177091918, 0.9154984714645482, 1.089740630236334, 1.089740630236334, 1.0897406922299349, 1.141236369024167, 1.141238995424945, 1.1412511982960931, 1.1415152276218263, 1.1415152276218263, 1.1415152276218263, 1.1854036520441384, 1.185403749423222, 1.185403749423222, 1.185403749423222, 1.1854037981127636, 1.3492302818428095, 1.2676889505669402, 1.2678635736073525, 1.2678662612150664, 1.2679499225152595, 1.2682689774733809, 1.2709718856472871, 1.2709719575554577, 1.2709725328208217, 1.2709726766371627, 27.197343035113366, 2.1310770095659293, 1.9238023174978307, 2.196096022475357, 6.32068431963152, 2.053313568681407, 7.071112537272226, 3.111899113930696, 2.2423254697020694, 2.1717879098898427, 3.053721727684242, 3.030196508149213, 3.444682882044816, 9.078353120535171, 5.3651787420242485, 10.773795663013507, 7.686232767572201, 9.50249259338266, 7.812525628263355, 5.573443103706265, 1.3944691251428247, 5.704114758191961, 2.276565224497998, 1.968456319976171, 6.506815810558787, 0.9154984714645482, 1.089740630236334, 1.089740630236334, 1.0897406922299349, 1.141236369024167, 1.141238995424945, 1.1412511982960931, 1.1415152276218263, 1.1415152276218263, 1.1415152276218263, 1.1854036520441384, 1.185403749423222, 1.185403749423222, 1.185403749423222, 1.1854037981127636, 1.2676889505669402, 1.2678635736073525, 1.2678662612150664, 1.2679499225152595, 1.2682689774733809, 1.2709718856472871, 1.2709719575554577, 1.2709725328208217, 1.2709726766371627, 1.2709726766371627, 1.2709726766371627, 1.2709726766371627, 1.2709728204535036, 1.2709728204535036, 2.0522453595734946, 3.63080153739521, 17.920363177091918, 3.828726081208404, 2.052217521797801, 1.426649798489134, 3.2015496039076856, 9.15520799910635, 1.4142608918325774, 1.4142610820551467, 1.4142608918325774, 5.5908930371225445, 14.630659408501987, 5.452584689248382, 6.760897043363686, 13.399659868098729, 2.0001300615614044, 13.29812578487361, 27.197343035113366, 7.159012576514435, 25.07438243832587, 1.9238023174978307, 6.399113725802516, 6.799954868572117, 1.4260017844761348, 6.142553625297727, 0.9154984714645482, 1.089740630236334, 1.089740630236334, 1.0897406922299349, 1.141236369024167, 1.141238995424945, 1.1412511982960931, 1.1415152276218263, 1.1415152276218263, 1.1415152276218263, 1.1854036520441384, 1.185403749423222, 1.185403749423222, 1.185403749423222, 1.1854037981127636, 1.2676889505669402, 1.2678635736073525, 1.2678662612150664, 1.2679499225152595, 1.2682689774733809, 1.2709718856472871, 1.2709719575554577, 1.2709725328208217, 1.2709726766371627, 1.2709726766371627, 1.2709726766371627, 1.2709726766371627, 1.2709728204535036, 1.2709728204535036, 1.2709728204535036, 1.4254465777424064, 1.4256029284373666, 1.4256756317786679, 1.4258271873400765, 1.4258339025119469, 1.4258880882136296, 1.425921043404955, 1.4259191128201998, 1.4259222726457965, 1.4259386570519252, 1.4260195502870068, 2.284003129934336, 1.4260479142068017, 1.4260533314561257, 1.4260709700830654, 2.6690835969155104, 1.4261153878184945, 3.0215366726613255, 4.036549336013173, 2.1292452155933788, 5.545034457739781, 27.197343035113366, 3.1777785327780226, 2.1497963637905926, 2.052217521797801, 13.399659868098729, 13.29812578487361, 6.959903628452192, 5.452584689248382, 4.763336421206422, 2.900493312630615, 6.142553625297727, 10.773795663013507, 2.866862324612748, 4.467671563608594, 14.630659408501987, 7.159012576514435, 6.399113725802516, 7.686232767572201, 5.757572390723522, 4.817340990908413, 7.621050923098631, 0.9154984714645482, 1.089740630236334, 1.089740630236334, 1.0897406922299349, 1.141236369024167, 1.141238995424945, 1.1412511982960931, 1.1415152276218263, 1.1415152276218263, 1.1415152276218263, 1.1854036520441384, 1.185403749423222, 1.185403749423222, 1.185403749423222, 1.1854037981127636, 1.2676889505669402, 1.2678635736073525, 1.2678662612150664, 1.2679499225152595, 1.2682689774733809, 1.2709718856472871, 1.2709719575554577, 1.2709725328208217, 1.2709726766371627, 1.2709726766371627, 1.2709726766371627, 1.2709726766371627, 1.2709728204535036, 1.2709728204535036, 1.2709728204535036, 2.0522453595734946, 3.63080153739521, 17.920363177091918, 3.828726081208404, 2.052217521797801, 1.426649798489134, 3.2015496039076856, 9.15520799910635, 1.4142608918325774, 1.4142610820551467, 1.4142608918325774, 5.5908930371225445, 14.630659408501987, 5.452584689248382, 6.760897043363686, 13.399659868098729, 2.0001300615614044, 13.29812578487361, 27.197343035113366, 7.159012576514435, 25.07438243832587, 1.9238023174978307, 6.399113725802516, 6.799954868572117, 1.4260017844761348, 6.142553625297727, 5.619477475563699, 0.9154984714645482, 1.089740630236334, 1.089740630236334, 1.0897406922299349, 1.141236369024167, 1.141238995424945, 1.1412511982960931, 1.1415152276218263, 1.1415152276218263, 1.1415152276218263, 1.1854036520441384, 1.185403749423222, 1.185403749423222, 1.185403749423222, 1.1854037981127636, 1.2676889505669402, 1.2678635736073525, 1.2678662612150664, 1.2679499225152595, 1.2682689774733809, 1.2709718856472871, 1.2709719575554577, 1.2709725328208217, 1.2709726766371627, 1.2709726766371627, 1.2709726766371627, 1.2709726766371627, 1.2709728204535036, 1.2709728204535036, 1.2709728204535036, 2.0522453595734946, 3.63080153739521, 17.920363177091918, 3.828726081208404, 2.052217521797801, 1.426649798489134, 3.2015496039076856, 9.15520799910635, 1.4142608918325774, 1.4142610820551467, 1.4142608918325774, 5.5908930371225445, 14.630659408501987, 5.452584689248382, 6.760897043363686, 13.399659868098729, 2.0001300615614044, 13.29812578487361, 27.197343035113366, 7.159012576514435, 25.07438243832587, 1.9238023174978307, 6.399113725802516, 6.799954868572117, 1.4260017844761348, 6.142553625297727, 5.619477475563699], \"Category\": [\"Default\", \"Default\", \"Default\", \"Default\", \"Default\", \"Default\", \"Default\", \"Default\", \"Default\", \"Default\", \"Default\", \"Default\", \"Default\", \"Default\", \"Default\", \"Default\", \"Default\", \"Default\", \"Default\", \"Default\", \"Default\", \"Default\", \"Default\", \"Default\", \"Default\", \"Default\", \"Default\", \"Default\", \"Default\", \"Default\", \"Topic1\", \"Topic1\", \"Topic1\", \"Topic1\", \"Topic1\", \"Topic1\", \"Topic1\", \"Topic1\", \"Topic1\", \"Topic1\", \"Topic1\", \"Topic1\", \"Topic1\", \"Topic1\", \"Topic1\", \"Topic1\", \"Topic1\", \"Topic1\", \"Topic1\", \"Topic1\", \"Topic1\", \"Topic1\", \"Topic1\", \"Topic1\", \"Topic1\", \"Topic1\", \"Topic1\", \"Topic1\", \"Topic1\", \"Topic1\", \"Topic1\", \"Topic1\", \"Topic1\", \"Topic1\", \"Topic1\", \"Topic1\", \"Topic1\", \"Topic1\", \"Topic1\", \"Topic1\", \"Topic1\", \"Topic1\", \"Topic1\", \"Topic1\", \"Topic1\", \"Topic1\", \"Topic1\", \"Topic1\", \"Topic1\", \"Topic1\", \"Topic1\", \"Topic1\", \"Topic1\", \"Topic1\", \"Topic1\", \"Topic2\", \"Topic2\", \"Topic2\", \"Topic2\", \"Topic2\", \"Topic2\", \"Topic2\", \"Topic2\", \"Topic2\", \"Topic2\", \"Topic2\", \"Topic2\", \"Topic2\", \"Topic2\", \"Topic2\", \"Topic2\", \"Topic2\", \"Topic2\", \"Topic2\", \"Topic2\", \"Topic2\", \"Topic2\", \"Topic2\", \"Topic2\", \"Topic2\", \"Topic2\", \"Topic2\", \"Topic2\", \"Topic2\", \"Topic2\", \"Topic2\", \"Topic2\", \"Topic2\", \"Topic2\", \"Topic2\", \"Topic2\", \"Topic2\", \"Topic2\", \"Topic2\", \"Topic2\", \"Topic2\", \"Topic2\", \"Topic2\", \"Topic2\", \"Topic2\", \"Topic2\", \"Topic2\", \"Topic3\", \"Topic3\", \"Topic3\", \"Topic3\", \"Topic3\", \"Topic3\", \"Topic3\", \"Topic3\", \"Topic3\", \"Topic3\", \"Topic3\", \"Topic3\", \"Topic3\", \"Topic3\", \"Topic3\", \"Topic3\", \"Topic3\", \"Topic3\", \"Topic3\", \"Topic3\", \"Topic3\", \"Topic3\", \"Topic3\", \"Topic3\", \"Topic3\", \"Topic3\", \"Topic3\", \"Topic3\", \"Topic3\", \"Topic3\", \"Topic3\", \"Topic3\", \"Topic3\", \"Topic3\", \"Topic3\", \"Topic3\", \"Topic3\", \"Topic3\", \"Topic3\", \"Topic3\", \"Topic3\", \"Topic3\", \"Topic3\", \"Topic3\", \"Topic3\", \"Topic3\", \"Topic3\", \"Topic3\", \"Topic3\", \"Topic4\", \"Topic4\", \"Topic4\", \"Topic4\", \"Topic4\", \"Topic4\", \"Topic4\", \"Topic4\", \"Topic4\", \"Topic4\", \"Topic4\", \"Topic4\", \"Topic4\", \"Topic4\", \"Topic4\", \"Topic4\", \"Topic4\", \"Topic4\", \"Topic4\", \"Topic4\", \"Topic4\", \"Topic4\", \"Topic4\", \"Topic4\", \"Topic4\", \"Topic4\", \"Topic4\", \"Topic4\", \"Topic4\", \"Topic4\", \"Topic4\", \"Topic4\", \"Topic4\", \"Topic4\", \"Topic4\", \"Topic4\", \"Topic4\", \"Topic4\", \"Topic4\", \"Topic4\", \"Topic4\", \"Topic4\", \"Topic4\", \"Topic4\", \"Topic4\", \"Topic4\", \"Topic4\", \"Topic5\", \"Topic5\", \"Topic5\", \"Topic5\", \"Topic5\", \"Topic5\", \"Topic5\", \"Topic5\", \"Topic5\", \"Topic5\", \"Topic5\", \"Topic5\", \"Topic5\", \"Topic5\", \"Topic5\", \"Topic5\", \"Topic5\", \"Topic5\", \"Topic5\", \"Topic5\", \"Topic5\", \"Topic5\", \"Topic5\", \"Topic5\", \"Topic5\", \"Topic5\", \"Topic5\", \"Topic5\", \"Topic5\", \"Topic5\", \"Topic5\", \"Topic5\", \"Topic5\", \"Topic5\", \"Topic5\", \"Topic5\", \"Topic5\", \"Topic5\", \"Topic5\", \"Topic5\", \"Topic5\", \"Topic6\", \"Topic6\", \"Topic6\", \"Topic6\", \"Topic6\", \"Topic6\", \"Topic6\", \"Topic6\", \"Topic6\", \"Topic6\", \"Topic6\", \"Topic6\", \"Topic6\", \"Topic6\", \"Topic6\", \"Topic6\", \"Topic6\", \"Topic6\", \"Topic6\", \"Topic6\", \"Topic6\", \"Topic6\", \"Topic6\", \"Topic6\", \"Topic6\", \"Topic6\", \"Topic6\", \"Topic6\", \"Topic6\", \"Topic6\", \"Topic6\", \"Topic6\", \"Topic6\", \"Topic6\", \"Topic6\", \"Topic6\", \"Topic6\", \"Topic6\", \"Topic6\", \"Topic6\", \"Topic6\", \"Topic6\", \"Topic6\", \"Topic6\", \"Topic6\", \"Topic6\", \"Topic6\", \"Topic6\", \"Topic7\", \"Topic7\", \"Topic7\", \"Topic7\", \"Topic7\", \"Topic7\", \"Topic7\", \"Topic7\", \"Topic7\", \"Topic7\", \"Topic7\", \"Topic7\", \"Topic7\", \"Topic7\", \"Topic7\", \"Topic7\", \"Topic7\", \"Topic7\", \"Topic7\", \"Topic7\", \"Topic7\", \"Topic7\", \"Topic7\", \"Topic7\", \"Topic7\", \"Topic7\", \"Topic7\", \"Topic7\", \"Topic7\", \"Topic7\", \"Topic7\", \"Topic7\", \"Topic7\", \"Topic7\", \"Topic7\", \"Topic7\", \"Topic7\", \"Topic7\", \"Topic7\", \"Topic7\", \"Topic7\", \"Topic7\", \"Topic7\", \"Topic7\", \"Topic7\", \"Topic8\", \"Topic8\", \"Topic8\", \"Topic8\", \"Topic8\", \"Topic8\", \"Topic8\", \"Topic8\", \"Topic8\", \"Topic8\", \"Topic8\", \"Topic8\", \"Topic8\", \"Topic8\", \"Topic8\", \"Topic8\", \"Topic8\", \"Topic8\", \"Topic8\", \"Topic8\", \"Topic8\", \"Topic8\", \"Topic8\", \"Topic8\", \"Topic8\", \"Topic8\", \"Topic8\", \"Topic8\", \"Topic8\", \"Topic8\", \"Topic8\", \"Topic8\", \"Topic8\", \"Topic8\", \"Topic8\", \"Topic8\", \"Topic9\", \"Topic9\", \"Topic9\", \"Topic9\", \"Topic9\", \"Topic9\", \"Topic9\", \"Topic9\", \"Topic9\", \"Topic9\", \"Topic9\", \"Topic9\", \"Topic9\", \"Topic9\", \"Topic9\", \"Topic9\", \"Topic9\", \"Topic9\", \"Topic9\", \"Topic9\", \"Topic9\", \"Topic9\", \"Topic9\", \"Topic9\", \"Topic9\", \"Topic9\", \"Topic9\", \"Topic9\", \"Topic9\", \"Topic9\", \"Topic9\", \"Topic9\", \"Topic9\", \"Topic10\", \"Topic10\", \"Topic10\", \"Topic10\", \"Topic10\", \"Topic10\", \"Topic10\", \"Topic10\", \"Topic10\", \"Topic10\", \"Topic10\", \"Topic10\", \"Topic10\", \"Topic10\", \"Topic10\", \"Topic10\", \"Topic10\", \"Topic10\", \"Topic10\", \"Topic10\", \"Topic10\", \"Topic10\", \"Topic10\", \"Topic10\", \"Topic10\", \"Topic10\", \"Topic10\", \"Topic10\", \"Topic10\", \"Topic10\", \"Topic10\", \"Topic10\", \"Topic10\", \"Topic10\", \"Topic10\", \"Topic10\", \"Topic11\", \"Topic11\", \"Topic11\", \"Topic11\", \"Topic11\", \"Topic11\", \"Topic11\", \"Topic11\", \"Topic11\", \"Topic11\", \"Topic11\", \"Topic11\", \"Topic11\", \"Topic11\", \"Topic11\", \"Topic11\", \"Topic11\", \"Topic11\", \"Topic11\", \"Topic11\", \"Topic11\", \"Topic11\", \"Topic11\", \"Topic11\", \"Topic11\", \"Topic11\", \"Topic11\", \"Topic11\", \"Topic11\", \"Topic11\", \"Topic11\", \"Topic11\", \"Topic11\", \"Topic11\", \"Topic11\", \"Topic11\", \"Topic11\", \"Topic11\", \"Topic11\", \"Topic11\", \"Topic11\", \"Topic11\", \"Topic11\", \"Topic11\", \"Topic11\", \"Topic11\", \"Topic12\", \"Topic12\", \"Topic12\", \"Topic12\", \"Topic12\", \"Topic12\", \"Topic12\", \"Topic12\", \"Topic12\", \"Topic12\", \"Topic12\", \"Topic12\", \"Topic12\", \"Topic12\", \"Topic12\", \"Topic12\", \"Topic12\", \"Topic12\", \"Topic12\", \"Topic12\", \"Topic12\", \"Topic12\", \"Topic12\", \"Topic12\", \"Topic12\", \"Topic12\", \"Topic12\", \"Topic12\", \"Topic12\", \"Topic12\", \"Topic12\", \"Topic12\", \"Topic12\", \"Topic12\", \"Topic12\", \"Topic12\", \"Topic12\", \"Topic12\", \"Topic12\", \"Topic12\", \"Topic12\", \"Topic12\", \"Topic12\", \"Topic13\", \"Topic13\", \"Topic13\", \"Topic13\", \"Topic13\", \"Topic13\", \"Topic13\", \"Topic13\", \"Topic13\", \"Topic13\", \"Topic13\", \"Topic13\", \"Topic13\", \"Topic13\", \"Topic13\", \"Topic13\", \"Topic13\", \"Topic13\", \"Topic13\", \"Topic13\", \"Topic13\", \"Topic13\", \"Topic13\", \"Topic13\", \"Topic13\", \"Topic13\", \"Topic13\", \"Topic13\", \"Topic13\", \"Topic13\", \"Topic13\", \"Topic13\", \"Topic13\", \"Topic13\", \"Topic13\", \"Topic13\", \"Topic13\", \"Topic13\", \"Topic13\", \"Topic13\", \"Topic13\", \"Topic13\", \"Topic13\", \"Topic13\", \"Topic13\", \"Topic13\", \"Topic13\", \"Topic13\", \"Topic13\", \"Topic13\", \"Topic13\", \"Topic13\", \"Topic13\", \"Topic13\", \"Topic13\", \"Topic13\", \"Topic13\", \"Topic13\", \"Topic13\", \"Topic13\", \"Topic13\", \"Topic14\", \"Topic14\", \"Topic14\", \"Topic14\", \"Topic14\", \"Topic14\", \"Topic14\", \"Topic14\", \"Topic14\", \"Topic14\", \"Topic14\", \"Topic14\", \"Topic14\", \"Topic14\", \"Topic14\", \"Topic14\", \"Topic14\", \"Topic14\", \"Topic14\", \"Topic14\", \"Topic14\", \"Topic14\", \"Topic14\", \"Topic14\", \"Topic14\", \"Topic14\", \"Topic14\", \"Topic14\", \"Topic14\", \"Topic14\", \"Topic14\", \"Topic14\", \"Topic14\", \"Topic14\", \"Topic14\", \"Topic14\", \"Topic14\", \"Topic14\", \"Topic14\", \"Topic14\", \"Topic14\", \"Topic14\", \"Topic14\", \"Topic14\", \"Topic14\", \"Topic15\", \"Topic15\", \"Topic15\", \"Topic15\", \"Topic15\", \"Topic15\", \"Topic15\", \"Topic15\", \"Topic15\", \"Topic15\", \"Topic15\", \"Topic15\", \"Topic15\", \"Topic15\", \"Topic15\", \"Topic15\", \"Topic15\", \"Topic15\", \"Topic15\", \"Topic15\", \"Topic15\", \"Topic15\", \"Topic15\", \"Topic15\", \"Topic15\", \"Topic15\", \"Topic15\", \"Topic15\", \"Topic15\", \"Topic15\", \"Topic15\", \"Topic15\", \"Topic15\", \"Topic15\", \"Topic15\", \"Topic15\", \"Topic15\", \"Topic15\", \"Topic15\", \"Topic15\", \"Topic15\", \"Topic15\", \"Topic15\", \"Topic15\", \"Topic15\", \"Topic15\", \"Topic15\", \"Topic15\", \"Topic15\", \"Topic16\", \"Topic16\", \"Topic16\", \"Topic16\", \"Topic16\", \"Topic16\", \"Topic16\", \"Topic16\", \"Topic16\", \"Topic16\", \"Topic16\", \"Topic16\", \"Topic16\", \"Topic16\", \"Topic16\", \"Topic16\", \"Topic16\", \"Topic16\", \"Topic16\", \"Topic16\", \"Topic16\", \"Topic16\", \"Topic16\", \"Topic16\", \"Topic16\", \"Topic16\", \"Topic16\", \"Topic16\", \"Topic16\", \"Topic16\", \"Topic16\", \"Topic16\", \"Topic16\", \"Topic16\", \"Topic16\", \"Topic16\", \"Topic16\", \"Topic16\", \"Topic16\", \"Topic16\", \"Topic16\", \"Topic16\", \"Topic16\", \"Topic16\", \"Topic16\", \"Topic16\", \"Topic16\", \"Topic16\", \"Topic16\", \"Topic16\", \"Topic16\", \"Topic16\", \"Topic16\", \"Topic16\", \"Topic17\", \"Topic17\", \"Topic17\", \"Topic17\", \"Topic17\", \"Topic17\", \"Topic17\", \"Topic17\", \"Topic17\", \"Topic17\", \"Topic17\", \"Topic17\", \"Topic17\", \"Topic17\", \"Topic17\", \"Topic17\", \"Topic17\", \"Topic17\", \"Topic17\", \"Topic17\", \"Topic17\", \"Topic17\", \"Topic17\", \"Topic17\", \"Topic17\", \"Topic17\", \"Topic17\", \"Topic17\", \"Topic17\", \"Topic17\", \"Topic17\", \"Topic17\", \"Topic17\", \"Topic17\", \"Topic17\", \"Topic17\", \"Topic17\", \"Topic17\", \"Topic17\", \"Topic17\", \"Topic17\", \"Topic17\", \"Topic17\", \"Topic17\", \"Topic17\", \"Topic17\", \"Topic17\", \"Topic17\", \"Topic17\", \"Topic17\", \"Topic17\", \"Topic17\", \"Topic17\", \"Topic17\", \"Topic17\", \"Topic17\", \"Topic18\", \"Topic18\", \"Topic18\", \"Topic18\", \"Topic18\", \"Topic18\", \"Topic18\", \"Topic18\", \"Topic18\", \"Topic18\", \"Topic18\", \"Topic18\", \"Topic18\", \"Topic18\", \"Topic18\", \"Topic18\", \"Topic18\", \"Topic18\", \"Topic18\", \"Topic18\", \"Topic18\", \"Topic18\", \"Topic18\", \"Topic18\", \"Topic18\", \"Topic18\", \"Topic18\", \"Topic18\", \"Topic18\", \"Topic18\", \"Topic18\", \"Topic18\", \"Topic18\", \"Topic18\", \"Topic18\", \"Topic18\", \"Topic18\", \"Topic18\", \"Topic18\", \"Topic18\", \"Topic18\", \"Topic18\", \"Topic18\", \"Topic18\", \"Topic18\", \"Topic18\", \"Topic18\", \"Topic18\", \"Topic18\", \"Topic18\", \"Topic18\", \"Topic18\", \"Topic18\", \"Topic18\", \"Topic18\", \"Topic18\", \"Topic18\", \"Topic18\", \"Topic18\", \"Topic18\", \"Topic18\", \"Topic18\", \"Topic18\", \"Topic18\", \"Topic18\", \"Topic18\", \"Topic18\", \"Topic18\", \"Topic18\", \"Topic18\", \"Topic18\", \"Topic18\", \"Topic19\", \"Topic19\", \"Topic19\", \"Topic19\", \"Topic19\", \"Topic19\", \"Topic19\", \"Topic19\", \"Topic19\", \"Topic19\", \"Topic19\", \"Topic19\", \"Topic19\", \"Topic19\", \"Topic19\", \"Topic19\", \"Topic19\", \"Topic19\", \"Topic19\", \"Topic19\", \"Topic19\", \"Topic19\", \"Topic19\", \"Topic19\", \"Topic19\", \"Topic19\", \"Topic19\", \"Topic19\", \"Topic19\", \"Topic19\", \"Topic19\", \"Topic19\", \"Topic19\", \"Topic19\", \"Topic19\", \"Topic19\", \"Topic19\", \"Topic19\", \"Topic19\", \"Topic19\", \"Topic19\", \"Topic19\", \"Topic19\", \"Topic19\", \"Topic19\", \"Topic19\", \"Topic19\", \"Topic19\", \"Topic19\", \"Topic19\", \"Topic19\", \"Topic19\", \"Topic19\", \"Topic19\", \"Topic19\", \"Topic19\", \"Topic19\", \"Topic20\", \"Topic20\", \"Topic20\", \"Topic20\", \"Topic20\", \"Topic20\", \"Topic20\", \"Topic20\", \"Topic20\", \"Topic20\", \"Topic20\", \"Topic20\", \"Topic20\", \"Topic20\", \"Topic20\", \"Topic20\", \"Topic20\", \"Topic20\", \"Topic20\", \"Topic20\", \"Topic20\", \"Topic20\", \"Topic20\", \"Topic20\", \"Topic20\", \"Topic20\", \"Topic20\", \"Topic20\", \"Topic20\", \"Topic20\", \"Topic20\", \"Topic20\", \"Topic20\", \"Topic20\", \"Topic20\", \"Topic20\", \"Topic20\", \"Topic20\", \"Topic20\", \"Topic20\", \"Topic20\", \"Topic20\", \"Topic20\", \"Topic20\", \"Topic20\", \"Topic20\", \"Topic20\", \"Topic20\", \"Topic20\", \"Topic20\", \"Topic20\", \"Topic20\", \"Topic20\", \"Topic20\", \"Topic20\", \"Topic20\", \"Topic20\"], \"logprob\": [30.0, 29.0, 28.0, 27.0, 26.0, 25.0, 24.0, 23.0, 22.0, 21.0, 20.0, 19.0, 18.0, 17.0, 16.0, 15.0, 14.0, 13.0, 12.0, 11.0, 10.0, 9.0, 8.0, 7.0, 6.0, 5.0, 4.0, 3.0, 2.0, 1.0, -3.966, -4.362, -4.3628, -4.3639, -4.3645, -4.3652, -3.9662, -5.0301, -5.0301, -5.0301, -5.0301, -5.0301, -5.0301, -5.0301, -5.0301, -5.0317, -5.032, -5.032, -5.0323, -5.0327, -5.0329, -5.033, -5.0333, -5.0335, -5.0337, -5.0337, -5.0337, -5.0337, -5.0339, -4.3637, -3.9648, -3.6824, -3.9662, -3.966, -4.3619, -3.9648, -3.4611, -3.9637, -3.1284, -3.9648, -4.364, -4.3631, -4.3628, -4.3647, -4.363, -4.3631, -3.966, -3.6819, -4.3628, -4.3619, -4.3596, -4.361, -4.361, -4.361, -4.3631, -3.8679, -3.87, -4.2644, -4.2655, -4.2658, -4.267, -3.8697, -3.3634, -4.9328, -4.9328, -4.9337, -4.934, -4.934, -4.9341, -4.9341, -4.9342, -4.9343, -4.9351, -4.9351, -4.9354, -4.9356, -4.9358, -4.9364, -3.3632, -3.3643, -4.2651, -3.868, -3.8668, -4.9356, -4.9363, -3.8688, -4.2637, -3.8681, -3.3622, -3.0313, -3.0287, -3.8686, -4.2645, -4.2675, -4.266, -4.2637, -4.2626, -4.9307, -4.9327, -4.9327, -4.9328, -4.9328, -4.0785, -4.0795, -4.7435, -4.7435, -4.7435, -4.7435, -4.7435, -4.7435, -4.7435, -4.7435, -4.7435, -4.7435, -4.7435, -4.7435, -4.7435, -4.7435, -4.7435, -4.7435, -4.7435, -4.7435, -4.7467, -4.7471, -4.7472, -4.7476, -4.748, -4.757, -4.0787, -4.0766, -4.0744, -4.0763, -2.5079, -3.6771, -3.2609, -4.0361, -3.6784, -4.0828, -3.6771, -3.3427, -4.0954, -4.0764, -4.0744, -4.0744, -4.076, -4.5875, -4.6521, -4.6597, -4.7435, -4.7435, -4.7435, -4.0185, -3.6201, -4.6838, -4.6858, -4.686, -4.6861, -4.6861, -4.6862, -4.6861, -4.6863, -4.6863, -4.6864, -4.6863, -4.6865, -4.6866, -4.6866, -4.6868, -4.6868, -4.6868, -4.6867, -4.687, -4.6869, -4.687, -4.6871, -4.6875, -4.0181, -4.0179, -3.6197, -4.6864, -3.6201, -4.018, -3.1158, -4.0175, -3.1161, -3.6206, -4.0177, -4.0182, -3.6203, -3.6196, -4.0168, -4.0173, -4.0162, -4.6838, -4.6838, -4.6859, -4.6861, -4.6863, -3.3938, -3.7887, -3.7913, -4.4577, -4.4577, -4.4577, -4.4577, -4.4577, -4.4577, -4.4577, -4.4577, -4.4588, -4.4589, -4.459, -4.4747, -4.4859, -4.4942, -4.5644, -3.4249, -3.4231, -3.1112, -4.4586, -4.4577, -4.4589, -4.4571, -3.7887, -4.4588, -3.3925, -3.7887, -3.8777, -2.8476, -2.9324, -3.7887, -3.4227, -4.1273, -4.4551, -4.4563, -4.4575, -4.4577, -4.4577, -4.4577, -3.7245, -3.7257, -3.7269, -4.3933, -4.3939, -4.394, -4.3941, -4.3942, -4.3944, -4.3947, -4.3947, -4.3948, -4.3949, -4.3949, -4.395, -4.3956, -3.725, -4.3945, -3.7255, -4.3943, -4.3944, -4.3946, -4.3941, -4.3928, -3.3287, -3.722, -3.7229, -4.3951, -4.3944, -4.3944, -3.7256, -3.7252, -3.0444, -3.7246, -3.7253, -3.7239, -3.7251, -4.391, -4.3912, -4.3913, -4.3917, -4.3923, -4.3928, -4.3939, -4.3939, -4.3939, -4.3941, -4.3941, -3.7032, -4.3671, -4.3671, -4.3671, -4.372, -4.385, -3.0215, -4.3714, -3.698, -4.3671, -3.698, -2.7987, -4.3671, -4.3671, -4.3671, -4.3713, -4.3671, -4.3671, -4.3705, -3.3063, -4.3671, -4.3671, -4.3723, -4.3671, -4.3709, -3.3059, -4.3911, -4.37, -4.3671, -4.371, -4.3671, -3.6989, -3.6994, -3.6975, -3.698, -4.3643, -4.3645, -4.3662, -4.3671, -4.3671, -4.3671, -4.3671, -4.3671, -4.3671, -4.3671, -4.0426, -4.0443, -4.0445, -4.0449, -4.0454, -3.3756, -3.3761, -3.3728, -4.0442, -4.0444, -4.0459, -4.0444, -4.0445, -4.0444, -4.0451, -4.0449, -4.0459, -2.9787, -4.0453, -3.3757, -4.0452, -4.0443, -4.0426, -4.0441, -3.3747, -4.0452, -4.0426, -4.0414, -3.3746, -4.0451, -4.0414, -4.0414, -4.0416, -4.0447, -4.0449, -4.045, -2.8896, -3.956, -3.956, -3.956, -3.956, -3.956, -3.956, -3.956, -3.956, -3.956, -3.956, -3.956, -3.956, -3.956, -3.956, -3.956, -3.956, -3.956, -3.956, -3.956, -2.606, -3.956, -3.956, -3.956, -3.956, -3.956, -3.956, -3.956, -3.956, -3.956, -3.2869, -3.956, -3.956, -2.8141, -3.8802, -3.8803, -3.8804, -3.8807, -3.8805, -3.8805, -3.8804, -3.8806, -2.814, -3.2111, -3.8802, -3.2113, -3.8801, -3.8807, -3.8803, -3.8805, -3.8805, -3.8804, -3.8804, -3.2113, -2.5303, -3.8805, -3.8806, -6.9239, -6.9239, -6.9239, -6.9239, -6.9239, -6.9239, -3.8804, -6.9239, -6.9239, -6.9239, -6.9239, -6.9239, -3.6957, -3.6957, -3.6957, -3.6957, -3.6957, -3.0266, -3.6957, -3.0266, -3.6957, -3.6928, -3.6957, -3.6911, -3.6957, -3.6889, -3.6929, -3.6957, -3.6875, -3.6957, -2.6228, -3.6957, -3.6772, -3.6921, -6.7402, -6.7402, -6.7402, -6.7402, -6.7402, -6.7402, -6.7402, -6.7402, -6.6362, -6.6477, -6.6488, -6.6492, -6.6516, -6.6525, -6.6538, -6.5336, -6.5762, -6.5598, -6.5383, -6.4871, -6.5716, -6.6177, -6.5859, -6.582, -3.5581, -3.5581, -3.5581, -2.8891, -3.5581, -3.5581, -3.558, -3.558, -2.4918, -3.5581, -2.8891, -3.5581, -3.558, -3.5582, -3.558, -3.5582, -6.6025, -6.6025, -6.6025, -6.6025, -6.6025, -6.6025, -6.6025, -6.6025, -6.6025, -6.6025, -6.6025, -6.6025, -3.5581, -6.6025, -6.6025, -6.6025, -6.6025, -6.6025, -6.6025, -6.6025, -6.6025, -6.6025, -6.6025, -6.6025, -6.6025, -6.6025, -6.6025, -3.5257, -3.5257, -3.5257, -3.5257, -3.523, -2.949, -1.8271, -3.5231, -3.5237, -3.5203, -3.5257, -3.5167, -3.5206, -6.5702, -6.5702, -6.5702, -6.5702, -6.5702, -6.5702, -6.5702, -3.5078, -6.5702, -6.5702, -6.5702, -6.5702, -6.5702, -6.5702, -6.5702, -6.5702, -6.5702, -6.4789, -6.4865, -6.4948, -6.4967, -6.5051, -6.5124, -6.5129, -6.5142, -6.381, -6.5111, -6.5183, -6.5185, -6.5135, -6.5166, -6.4074, -6.1243, -6.3858, -6.418, -6.3342, -6.4994, -6.3562, -6.4427, -6.4874, -6.4565, -6.4619, -6.4657, -6.4722, -6.4793, -6.4838, -6.4816, -6.4832, -3.4123, -3.4123, -3.4123, -3.4123, -3.4123, -3.4123, -2.7432, -2.7432, -3.4123, -3.4123, -3.4123, -3.4123, -3.4123, -6.4568, -6.4568, -6.4568, -6.4568, -6.4568, -6.4568, -6.4568, -6.4568, -6.4568, -6.4568, -6.4568, -6.4568, -3.4123, -6.4568, -6.4568, -6.4568, -6.4568, -6.4568, -6.4568, -6.4568, -6.4568, -6.4568, -6.4568, -6.4568, -6.4568, -6.4568, -6.4568, -6.4568, -6.4568, -6.4568, -6.4568, -6.4568, -2.499, -3.1637, -3.1637, -3.1637, -3.1637, -3.1637, -3.1637, -3.1637, -6.2082, -6.2082, -6.2082, -6.2082, -6.2082, -6.2082, -6.2082, -6.2082, -6.2082, -6.2082, -6.2082, -6.2082, -6.2082, -6.2082, -6.2082, -6.2082, -6.2082, -6.2082, -6.2082, -6.2082, -6.2082, -6.2082, -6.2082, -6.2082, -6.2082, -6.2082, -6.2082, -6.2082, -6.2082, -6.2082, -6.2082, -6.2082, -6.2082, -6.2082, -6.2082, -6.2082, -6.2082, -6.2082, -6.2082, -6.2082, -6.2082, -3.0246, -3.0187, -3.0422, -3.0422, -3.0422, -6.0867, -6.0867, -6.0867, -6.0867, -6.0867, -6.0867, -6.0867, -6.0867, -6.0867, -6.0867, -6.0867, -6.0867, -6.0867, -6.0867, -6.0867, -5.9879, -6.0867, -6.0867, -6.0867, -6.0867, -6.0867, -6.0867, -6.0867, -6.0867, -6.0867, -3.0422, -5.8929, -5.9997, -5.9825, -5.7938, -6.0018, -5.8102, -5.9496, -6.0099, -6.0178, -6.0073, -6.0111, -6.0177, -6.0118, -6.0326, -6.02, -6.0305, -6.0368, -6.0863, -6.0866, -6.0866, -6.0866, -6.0866, -6.0866, -2.7756, -5.8201, -5.8201, -5.8201, -5.8201, -5.8201, -5.8201, -5.8201, -5.8201, -5.8201, -5.8201, -5.8201, -5.8201, -5.8201, -5.8201, -5.8201, -5.8201, -5.8201, -5.8201, -5.8201, -5.8201, -5.8201, -5.8201, -5.8201, -5.8201, -5.8201, -5.8201, -5.8201, -5.8201, -5.8201, -5.8201, -5.8201, -5.8201, -5.8201, -5.8201, -5.8201, -5.8201, -5.8201, -5.8201, -5.8201, -5.8201, -5.8201, -5.8201, -5.8201, -5.8201, -5.8201, -5.8201, -5.8201, -5.8201, -5.8201, -5.8201, -5.8201, -5.8201, -5.8201, -5.8201, -5.8201, -5.7648, -5.7648, -5.7648, -5.7648, -5.763, -5.7631, -5.7636, -5.7648, -5.7648, -5.7648, -5.7648, -5.7648, -5.7648, -5.7648, -5.7648, -5.7413, -5.7471, -5.7471, -5.7498, -5.7648, -5.7648, -5.7648, -5.7648, -5.7648, -5.7648, -5.7648, -5.7648, -5.7648, -5.7648, -5.7648, -5.7364, -5.7398, -5.7417, -5.7456, -5.746, -5.7467, -5.7475, -5.7478, -5.7479, -5.7487, -5.7498, -5.7162, -5.7508, -5.7509, -5.7512, -5.7119, -5.7528, -5.7196, -5.7116, -5.7377, -5.7028, -5.66, -5.7273, -5.7419, -5.7437, -5.6875, -5.6953, -5.716, -5.7272, -5.7285, -5.7384, -5.7309, -5.7258, -5.7405, -5.7363, -5.7265, -5.7325, -5.7348, -5.7388, -5.7412, -5.7413, -5.742, -5.7589, -5.7589, -5.7589, -5.7589, -5.7589, -5.7589, -5.7589, -5.7589, -5.7589, -5.7589, -5.7589, -5.7589, -5.7589, -5.7589, -5.7589, -5.7589, -5.7589, -5.7589, -5.7589, -5.7589, -5.7589, -5.7589, -5.7589, -5.7589, -5.7589, -5.7589, -5.7589, -5.7589, -5.7589, -5.7589, -5.7589, -5.7589, -5.7589, -5.7589, -5.7589, -5.7589, -5.7589, -5.7589, -5.7589, -5.7589, -5.7589, -5.7589, -5.7589, -5.7589, -5.7589, -5.7589, -5.7589, -5.7589, -5.7589, -5.7589, -5.7589, -5.7589, -5.7589, -5.7589, -5.7589, -5.7589, -5.7589, -5.7589, -5.7589, -5.7589, -5.7589, -5.7589, -5.7589, -5.7589, -5.7589, -5.7589, -5.7589, -5.7589, -5.7589, -5.7589, -5.7589, -5.7589, -5.7589, -5.7589, -5.7589, -5.7589, -5.7589, -5.7589, -5.7589, -5.7589, -5.7589, -5.7589, -5.7589, -5.7589, -5.7589, -5.7589, -5.7589, -5.7589, -5.7589, -5.7589, -5.7589, -5.7589, -5.7589, -5.7589, -5.7589, -5.7589, -5.7589, -5.7589, -5.7589, -5.7589, -5.7589, -5.7589, -5.7589, -5.7589, -5.7589, -5.7589, -5.7589, -5.7589, -5.7589, -5.7589, -5.7589, -5.7589, -5.7589, -5.7589], \"loglift\": [30.0, 29.0, 28.0, 27.0, 26.0, 25.0, 24.0, 23.0, 22.0, 21.0, 20.0, 19.0, 18.0, 17.0, 16.0, 15.0, 14.0, 13.0, 12.0, 11.0, 10.0, 9.0, 8.0, 7.0, 6.0, 5.0, 4.0, 3.0, 2.0, 1.0, 1.6642, 1.5901, 1.5892, 1.5884, 1.5876, 1.587, 1.4299, 1.399, 1.399, 1.399, 1.399, 1.399, 1.399, 1.399, 1.399, 1.3977, 1.3976, 1.3975, 1.3973, 1.397, 1.3968, 1.3968, 1.396, 1.3958, 1.3957, 1.3956, 1.3956, 1.3956, 1.3955, 1.3269, 1.324, 1.234, 1.1354, 1.1239, 1.1851, 0.9029, 0.6637, 0.8343, 0.3765, 0.6288, 0.8844, 0.8726, 0.8655, 0.7299, 0.7187, 0.6943, 0.2543, -0.0958, 0.5723, 0.5349, 0.49, 0.4199, 0.416, -0.439, 0.3891, 1.7728, 1.7713, 1.697, 1.6961, 1.6959, 1.6951, 1.5421, 1.54, 1.504, 1.504, 1.5031, 1.5029, 1.5028, 1.5028, 1.5027, 1.5026, 1.5025, 1.5021, 1.5021, 1.5018, 1.5017, 1.5015, 1.501, 1.4177, 1.4127, 1.4076, 1.2187, 1.1999, 1.1937, 1.1931, 1.1894, 1.1578, 1.0669, 0.8581, 0.5548, 0.4761, 0.7334, 0.9712, 0.9608, 0.862, 0.7004, 0.1682, 0.3163, -0.72, 0.7231, 0.7588, -0.8079, 1.914, 1.9138, 1.7179, 1.7179, 1.7179, 1.7179, 1.7179, 1.7179, 1.7179, 1.7179, 1.7179, 1.7179, 1.7179, 1.7179, 1.7179, 1.7179, 1.7179, 1.7179, 1.7179, 1.7179, 1.7153, 1.715, 1.7149, 1.7146, 1.7142, 1.7045, 1.6442, 1.618, 1.6076, 1.5942, 1.414, 1.3811, 1.2083, 1.3988, 1.2126, 1.3826, 0.9165, 0.2434, 1.0164, 0.7755, 0.482, 0.3564, 0.0488, 0.4993, 0.5963, 0.5817, 1.0457, 0.674, 1.2573, 1.9635, 1.7924, 1.7688, 1.7672, 1.7671, 1.767, 1.7669, 1.7669, 1.7668, 1.7668, 1.7668, 1.7668, 1.7667, 1.7666, 1.7666, 1.7666, 1.7665, 1.7664, 1.7663, 1.7663, 1.7663, 1.7662, 1.7661, 1.766, 1.766, 1.684, 1.6338, 1.6273, 1.4283, 1.3726, 1.2931, 1.0969, 1.2563, 0.3887, 0.8102, 1.0941, 1.0768, 0.6, 0.5052, 0.935, 0.7512, 0.5774, 0.9605, 0.8347, 0.2109, 1.3008, 0.3954, 2.2993, 2.221, 2.2183, 2.0177, 2.0177, 2.0177, 2.0177, 2.0177, 2.0177, 2.0177, 2.0177, 2.0166, 2.0165, 2.0164, 2.0004, 1.9891, 1.9807, 1.9096, 1.8236, 1.8183, 1.7283, 1.672, 1.5714, 1.5419, 1.5282, 1.5031, 1.416, 1.3597, 1.2687, 1.2091, 1.0743, 0.6537, 0.8134, 0.0821, 0.3419, 0.856, 0.3247, 0.6092, 0.8161, 0.1359, 0.439, 2.2899, 2.2889, 2.2879, 2.0858, 2.0853, 2.0852, 2.0851, 2.0851, 2.0849, 2.0846, 2.0846, 2.0846, 2.0845, 2.0844, 2.0844, 2.0839, 1.8238, 1.7655, 1.6998, 1.6592, 1.659, 1.6378, 1.5935, 1.5901, 1.5232, 1.3796, 1.3717, 1.3042, 1.2971, 1.2928, 1.2671, 1.2389, 1.1683, 1.2272, 1.2043, 1.1925, 1.073, -0.8049, 0.5439, 0.6904, -0.2669, 0.2013, 0.899, 0.5029, 1.0276, 0.7011, 1.2879, 1.2618, 2.3481, 2.1395, 2.1395, 2.1395, 2.1364, 1.9227, 1.8282, 1.7822, 1.7674, 1.7629, 1.7617, 1.7577, 1.7219, 1.7219, 1.7204, 1.7172, 1.7041, 1.662, 1.6619, 1.6578, 1.6534, 1.6534, 1.6489, 1.6323, 1.6295, 1.546, 1.4896, 1.3293, 1.3275, 1.3206, 1.3202, 1.0696, 0.9027, 0.4273, 0.224, -0.8594, -0.1442, 0.0646, 0.5007, 0.3851, 0.7197, 0.4725, 0.1021, 0.524, -0.781, 2.4995, 2.4976, 2.4974, 2.497, 2.4965, 2.3675, 2.3667, 2.1018, 2.027, 2.0091, 2.0074, 1.9919, 1.9918, 1.981, 1.9807, 1.9758, 1.9745, 1.9509, 1.7438, 1.7362, 1.7096, 1.6578, 1.5062, 1.4562, 1.4234, 1.2658, 1.2044, 1.1868, 1.1818, 1.0417, 0.8083, 0.0834, 0.7106, 0.8463, 0.9478, 0.1677, 2.6484, 2.6122, 2.6122, 2.6122, 2.6122, 2.6122, 2.6122, 2.6122, 2.6122, 2.6122, 2.6122, 2.6122, 2.6122, 2.1325, 2.1315, 2.102, 2.1015, 2.0962, 2.0851, 1.8487, 1.8248, 1.7987, 1.7346, 1.3974, 1.3329, 1.3179, 1.172, 1.1386, 1.1257, 0.9737, 0.2992, 0.935, 0.6004, 3.0121, 2.6903, 2.6903, 2.6902, 2.6901, 2.2085, 2.2085, 2.1621, 2.1619, 2.0538, 1.8464, 1.8426, 1.6283, 1.3682, 1.355, 1.2477, 1.2146, 1.2063, 1.0714, 1.0164, 1.009, 0.9745, 0.3322, 0.2442, -0.0277, -0.2019, -0.2019, -0.2019, -0.2481, -0.2481, -0.2943, -1.4054, -3.0019, -1.4585, -0.4713, -1.2796, 2.9422, 2.9422, 2.9422, 2.9422, 2.9422, 2.5445, 2.4343, 2.3268, 2.0934, 1.8076, 1.6154, 1.6007, 1.5931, 1.4127, 1.3971, 1.371, 1.3052, 1.0728, 0.9633, 0.8607, 0.5355, 0.4327, 0.156, -0.0182, -0.0182, -0.0182, -0.0644, -0.0644, -0.0644, -0.0646, -0.1567, -0.1683, -0.1694, -0.1698, -0.1722, -0.1731, -0.1744, -0.5188, -0.5616, -0.9185, -1.1131, -1.6352, -1.1598, -0.6034, -1.4913, -1.6469, 3.1177, 3.1177, 3.1177, 2.9857, 2.5726, 2.5395, 2.2467, 1.9908, 1.9774, 1.9604, 1.8794, 1.377, 1.24, 1.1941, 0.8728, 0.3638, 0.2937, 0.1195, 0.1195, 0.1195, 0.073, 0.073, 0.073, 0.0353, 0.0353, 0.0353, 0.0353, 0.0353, 0.028, -0.0318, -0.5135, -1.1371, -0.5135, -0.1499, -0.9582, -2.0089, -0.1412, -0.1412, -0.1412, -1.5157, -2.4777, -1.4907, -1.7058, 3.1499, 3.1499, 3.1499, 2.628, 2.5917, 1.9478, 1.6778, 1.5637, 1.4281, 1.3708, 1.3139, 0.7037, 0.6921, 0.3261, 0.1518, 0.1518, 0.1518, 0.1057, 0.1057, 0.1056, 0.0783, 0.0677, 0.0677, 0.0677, 0.0677, 0.0677, 0.0006, 0.0004, 0.0004, 0.0004, -0.0166, -0.0244, -0.0327, -0.0347, -0.0432, -0.0592, -0.0597, -0.061, -0.3878, -0.0813, -0.0651, -0.0654, -0.0838, -0.0869, -0.6845, -2.2023, -0.9897, -0.9831, -1.8651, -0.2576, -2.2314, -1.3477, -0.5205, -1.2081, -1.188, -1.5492, -1.6225, -0.9609, -0.7892, -1.7131, -1.0178, 3.3097, 3.3097, 3.3097, 2.7478, 2.7171, 2.717, 2.3235, 1.7259, 1.5174, 1.4273, 1.3858, 1.1441, 0.5097, 0.4395, 0.2191, 0.2191, 0.219, 0.2188, 0.2188, 0.2188, 0.1811, 0.1811, 0.1811, 0.1811, 0.1811, 0.1738, 0.114, 0.1138, 0.1138, 0.1138, -0.3678, -0.9383, -0.9914, -0.3678, -0.0042, -0.8125, -1.8632, 0.0046, 0.0046, 0.0046, -1.37, -2.332, -1.3449, -1.56, -2.2441, 4.0713, 3.7325, 3.0781, 2.3832, 1.9231, 1.8937, 1.7881, 1.6048, 0.5138, 0.5138, 0.5138, 0.4676, 0.4676, 0.4676, 0.4673, 0.4673, 0.4673, 0.4296, 0.4296, 0.4296, 0.4296, 0.4296, 0.3625, 0.3624, 0.3624, 0.3623, 0.3599, 0.3599, 0.3599, 0.3599, -0.1192, -0.6898, -2.2862, -0.7428, -0.1192, 0.2444, -0.5639, -1.6146, 0.2531, 0.2531, 0.2531, -2.0834, -1.0964, -1.3115, -1.9955, -0.0935, -1.9879, -2.7034, -1.3687, 3.2832, 2.862, 1.4269, 1.1781, 0.8798, 0.8095, 0.6353, 0.6353, 0.6353, 0.5891, 0.5891, 0.5891, 0.5888, 0.5888, 0.5888, 0.5511, 0.5511, 0.5511, 0.5511, 0.5511, 0.5205, 0.484, 0.4839, 0.4839, 0.4838, 0.4835, 0.4814, 0.4814, 0.4814, 0.4814, 0.4626, 0.1584, 0.1539, 0.0387, -0.8297, 0.0867, -0.9582, -0.2769, -0.0095, 0.0146, -0.3157, -0.3118, -0.4466, -1.4097, -0.9046, -1.5892, -1.262, -1.4804, -1.3341, -0.9967, 0.3888, -1.0198, -0.1013, 0.0441, 2.1595, 1.0761, 0.9019, 0.9019, 0.9019, 0.8557, 0.8557, 0.8557, 0.8555, 0.8555, 0.8555, 0.8178, 0.8178, 0.8178, 0.8178, 0.8178, 0.7507, 0.7505, 0.7505, 0.7505, 0.7502, 0.7481, 0.7481, 0.7481, 0.7481, 0.7481, 0.7481, 0.7481, 0.7481, 0.7481, 0.2689, -0.3016, -1.8981, -0.3547, 0.2689, 0.6325, -0.1758, -1.2265, 0.6412, 0.6412, 0.6412, -0.7333, -1.6953, -0.7082, -0.9233, -1.6074, 0.2946, -1.5998, -2.3153, -0.9805, -2.234, 0.3335, -0.8683, -0.9291, 0.633, -0.8274, 1.1314, 0.9572, 0.9572, 0.9572, 0.9128, 0.9127, 0.9122, 0.9108, 0.9108, 0.9108, 0.8731, 0.8731, 0.8731, 0.8731, 0.8731, 0.8294, 0.8235, 0.8235, 0.8208, 0.8055, 0.8034, 0.8034, 0.8034, 0.8034, 0.8034, 0.8034, 0.8034, 0.8034, 0.8034, 0.8034, 0.717, 0.7136, 0.7115, 0.7076, 0.7072, 0.7064, 0.7056, 0.7053, 0.7052, 0.7044, 0.7033, 0.2658, 0.7022, 0.7021, 0.7018, 0.1143, 0.7001, -0.0174, -0.2991, 0.3144, -0.6078, -2.1552, -0.0756, 0.3007, 0.3453, -1.4748, -1.475, -0.8482, -0.6153, -0.4815, 0.0046, -0.7382, -1.2949, 0.0142, -0.4253, -1.6016, -0.893, -0.783, -0.9703, -0.6838, -0.5056, -0.965, 1.1373, 0.9631, 0.9631, 0.9631, 0.9169, 0.9169, 0.9169, 0.9167, 0.9167, 0.9167, 0.8789, 0.8789, 0.8789, 0.8789, 0.8789, 0.8118, 0.8117, 0.8117, 0.8116, 0.8114, 0.8093, 0.8093, 0.8093, 0.8093, 0.8093, 0.8093, 0.8093, 0.8093, 0.8093, 0.8093, 0.3301, -0.2404, -1.8369, -0.2935, 0.3301, 0.6937, -0.1146, -1.1653, 0.7024, 0.7024, 0.7024, -0.6721, -1.6341, -0.6471, -0.8621, -1.5462, 0.3558, -1.5386, -2.2541, -0.9193, -2.1728, 0.3947, -0.8071, -0.8679, 0.6942, -0.7662, -0.6772, 1.1373, 0.9631, 0.9631, 0.9631, 0.9169, 0.9169, 0.9169, 0.9167, 0.9167, 0.9167, 0.8789, 0.8789, 0.8789, 0.8789, 0.8789, 0.8118, 0.8117, 0.8117, 0.8116, 0.8114, 0.8093, 0.8093, 0.8093, 0.8093, 0.8093, 0.8093, 0.8093, 0.8093, 0.8093, 0.8093, 0.3301, -0.2404, -1.8369, -0.2935, 0.3301, 0.6937, -0.1146, -1.1653, 0.7024, 0.7024, 0.7024, -0.6721, -1.6341, -0.6471, -0.8621, -1.5462, 0.3558, -1.5386, -2.2541, -0.9193, -2.1728, 0.3947, -0.8071, -0.8679, 0.6942, -0.7662, -0.6772]}, \"token.table\": {\"Topic\": [2, 2, 3, 6, 7, 1, 2, 8, 1, 2, 4, 5, 7, 3, 3, 7, 6, 4, 8, 2, 6, 4, 3, 8, 11, 1, 8, 8, 4, 7, 11, 1, 2, 6, 3, 3, 5, 1, 4, 5, 6, 10, 13, 3, 2, 2, 3, 7, 9, 10, 4, 1, 5, 6, 11, 13, 1, 4, 2, 1, 7, 4, 1, 3, 5, 7, 12, 14, 3, 7, 4, 4, 2, 1, 6, 11, 4, 6, 8, 11, 6, 8, 4, 8, 1, 12, 14, 4, 4, 3, 1, 2, 5, 11, 5, 2, 3, 3, 3, 11, 2, 4, 6, 7, 3, 3, 6, 1, 2, 3, 4, 6, 8, 10, 11, 13, 2, 3, 6, 2, 1, 2, 4, 6, 9, 2, 5, 11, 14, 9, 3, 4, 6, 10, 4, 2, 4, 8, 1, 2, 3, 5, 7, 10, 1, 5, 10, 9, 4, 5, 6, 9, 11, 5, 12, 3, 4, 5, 7, 9, 15, 1, 6, 8, 3, 4, 14, 4, 13, 2, 9, 12, 3, 5, 6, 1, 2, 4, 7, 10, 13, 13, 2, 7, 13, 1, 6, 1, 1, 2, 4, 5, 7, 10, 13, 3, 4, 4, 8, 3, 7, 5, 10, 1, 4, 5, 7, 11, 12, 1, 1, 2, 4, 6, 1, 2, 8, 11, 1, 2, 9, 11, 9, 6, 4, 4, 5, 1, 1, 9, 5, 4, 5, 8, 11, 6, 6, 4, 6, 3, 2, 2, 6, 7, 2, 4, 8, 4, 1, 9, 1, 2, 6, 12, 1, 3, 7, 5, 1, 7, 1, 2, 8, 1, 4, 9, 2, 12, 2, 9, 5, 1, 6, 7, 6, 14, 1, 3, 6, 9, 2, 7, 4, 9, 1, 2, 6, 7, 1, 4, 8, 3, 5, 6, 7, 2, 10, 1, 6, 8, 12, 14, 3, 2, 1, 2, 5, 7, 8, 12, 1, 3, 2, 3, 3, 1, 4, 7, 8, 3, 4, 7, 12, 9, 6, 8, 2, 5, 3, 1, 3, 4, 6, 10, 5, 3, 10, 6, 1, 2, 7, 10, 2, 9, 9, 4, 1, 2, 5, 7, 3, 9, 1, 9, 8, 3, 4, 5, 3, 4, 8, 9, 1, 3, 5, 7, 12, 14, 5, 7, 10, 13, 14, 1, 4, 3, 1, 1, 2, 10, 14, 4, 7, 9, 7, 1, 2, 10, 3, 9, 3, 4, 5, 8, 13, 5, 4, 10, 4, 3, 2, 1, 2, 3, 2, 14, 12, 7, 8, 1, 2, 6, 1, 6, 3, 1, 5, 5, 5, 12, 1, 6, 8, 9, 14, 1, 6, 1, 1, 3, 5, 6, 3, 5, 1, 4, 5, 7, 9, 2, 14, 4, 1, 1, 6, 7, 1, 6, 7, 6, 8, 12, 6, 1, 1, 4, 1, 5, 7, 10, 7, 1, 2, 3, 5, 6, 7, 9, 10, 11, 12, 13, 14, 2, 2, 5, 8, 3, 2, 8, 11, 6, 9, 2, 5, 1, 4, 8, 2, 5, 7, 13, 3, 7, 5, 1, 3, 4, 6, 10, 13, 3, 2, 9, 1, 2, 3, 4, 6, 7, 8, 10, 11, 2, 1, 3, 6, 2, 11, 2, 5, 1, 2, 4, 3, 7, 8, 9, 11, 14, 3, 1, 3, 4, 5, 6, 1, 1, 10, 3, 4, 8, 4, 7, 11, 1, 9, 12, 5, 10, 1, 3, 7, 8, 9, 13, 3, 4, 8, 1, 9, 11, 3, 7, 11, 1, 4, 1, 7, 10, 3, 7, 2, 3, 4, 7, 9, 12, 1, 1, 2, 6, 10, 4, 1, 8, 1, 4, 2, 5], \"Freq\": [0.6899672078751994, 0.6899278391982463, 0.28284092346966466, 0.28284092346966466, 0.28284092346966466, 0.6848203427512087, 0.45743256529907733, 0.45743256529907733, 0.2203042747341491, 0.3304564121012236, 0.11015213736707455, 0.2203042747341491, 0.2203042747341491, 0.8848696258825027, 0.45500828199177284, 0.45500828199177284, 0.9046416990758875, 0.34470671981247714, 0.6894134396249543, 0.4402824598125855, 0.4402824598125855, 0.7013439631630733, 0.3610189388360053, 0.3610189388360053, 0.3610189388360053, 0.45492383824617016, 0.45492383824617016, 0.7664684249790034, 0.7012360463257795, 0.5076498055252832, 0.5076498055252832, 0.3159891648488689, 0.3159891648488689, 0.3159891648488689, 0.707082594172101, 0.7070824515149627, 0.7171134132475876, 0.29581873339768516, 0.14790936669884258, 0.14790936669884258, 0.14790936669884258, 0.14790936669884258, 0.14790936669884258, 0.7076782606514391, 0.6899698188655553, 0.37277416022218346, 0.18638708011109173, 0.18638708011109173, 0.18638708011109173, 0.18638708011109173, 0.7012613945412183, 0.21956055725748802, 0.43912111451497604, 0.21956055725748802, 0.21956055725748802, 0.8760286116229462, 0.3146852399200385, 0.629370479840077, 0.6899643012146848, 0.44596558952383786, 0.44596558952383786, 0.7009428670294776, 0.09644358418023824, 0.38577433672095296, 0.09644358418023824, 0.09644358418023824, 0.19288716836047648, 0.09644358418023824, 0.6569166379868581, 0.32845831899342903, 0.7014575938730157, 0.7012924399338907, 0.6902114496048068, 0.5445870666808657, 0.3630580444539104, 0.1815290222269552, 0.4883962246002519, 0.32559748306683456, 0.16279874153341728, 0.16279874153341728, 0.47022092540439964, 0.47022092540439964, 0.6619148521664074, 0.3309574260832037, 0.4915052408112751, 0.4915052408112751, 0.9176495509606981, 0.701317311131207, 0.7012387101707037, 0.7070831172487669, 0.5382669104498511, 0.17942230348328367, 0.17942230348328367, 0.17942230348328367, 0.9001609568662148, 0.8583903507726125, 0.5676960137027252, 0.7070824990673358, 0.7070824515149627, 0.8435943950846639, 0.690375249851526, 0.3300116006703411, 0.3300116006703411, 0.3300116006703411, 0.7076027814106998, 0.6486778752548972, 0.3243389376274486, 0.07462875997179244, 0.07462875997179244, 0.07462875997179244, 0.29851503988716976, 0.22388627991537732, 0.07462875997179244, 0.07462875997179244, 0.07462875997179244, 0.07462875997179244, 0.4999290408149445, 0.24996452040747225, 0.24996452040747225, 0.8577953765870779, 0.3559049766988125, 0.17795248834940625, 0.17795248834940625, 0.17795248834940625, 0.17795248834940625, 0.5259361228123175, 0.17531204093743916, 0.17531204093743916, 0.17531204093743916, 0.7867988865750756, 0.6412806822316308, 0.3206403411158154, 0.7200369840271141, 0.7493208539107851, 0.7012055325548964, 0.6899278391982463, 0.4622681073327851, 0.4622681073327851, 0.2489461360905007, 0.2489461360905007, 0.2489461360905007, 0.2489461360905007, 0.4872711712247817, 0.4872711712247817, 0.34736862418305975, 0.34736862418305975, 0.17368431209152987, 0.7867994207546204, 0.43129944760005223, 0.21564972380002612, 0.21564972380002612, 0.21564972380002612, 0.843594429734651, 0.3933258987364308, 0.3933258987364308, 0.21023691606689296, 0.21023691606689296, 0.4204738321337859, 0.48701767487085673, 0.48701767487085673, 0.7884762757441085, 0.849756433363676, 0.4702487584776894, 0.4702487584776894, 0.43994533572820277, 0.43994533572820277, 0.9176495509606981, 0.49996748672401264, 0.49996748672401264, 0.3666885841385131, 0.3666885841385131, 0.3666885841385131, 0.7070825466197153, 0.9838942101132476, 0.9048561912842972, 0.22559570036647184, 0.3007942671552958, 0.22559570036647184, 0.07519856678882395, 0.07519856678882395, 0.07519856678882395, 0.8760286116229462, 0.3956485578515722, 0.3956485578515722, 0.8760286116229462, 0.4382255048153516, 0.4382255048153516, 0.684956770984387, 0.22060978501663372, 0.22060978501663372, 0.14707319001108915, 0.07353659500554457, 0.03676829750277229, 0.11030489250831686, 0.11030489250831686, 0.707083022143861, 0.7013004980590573, 0.3447689383200286, 0.6895378766400572, 0.4550138459831923, 0.4550138459831923, 0.7160470820489895, 0.788726721887563, 0.13010274737176133, 0.26020549474352267, 0.13010274737176133, 0.26020549474352267, 0.13010274737176133, 0.13010274737176133, 0.6846522985308314, 0.2624309980580504, 0.5248619961161008, 0.1312154990290252, 0.7197770995824919, 0.2704714293674786, 0.2704714293674786, 0.2704714293674786, 0.2704714293674786, 0.23351205979821396, 0.23351205979821396, 0.23351205979821396, 0.23351205979821396, 0.7867988865750756, 0.7198742124888657, 0.701242590134107, 0.7014218225448685, 0.717117614066756, 0.8498460034882995, 0.6543025566362382, 0.3271512783181191, 0.717113377350089, 0.4476604807504192, 0.2238302403752096, 0.2238302403752096, 0.2238302403752096, 0.7199688035889732, 0.7199630620893173, 0.7013020521354736, 0.7199604006417077, 0.7070831172487669, 0.8580061012751173, 0.3274692618303304, 0.3274692618303304, 0.3274692618303304, 0.20993688280088507, 0.6298106484026552, 0.20993688280088507, 0.7013448399437697, 0.6849998420516515, 0.7867988865750756, 0.3073700037358589, 0.4610550056037883, 0.15368500186792944, 0.15368500186792944, 0.9240079073526419, 0.7070824990673358, 0.606422078383272, 0.717118413436738, 0.4455054054531391, 0.4455054054531391, 0.4120863211470405, 0.4120863211470405, 0.20604316057352026, 0.6848264731987878, 0.7012526580008919, 0.7867989756049492, 0.9342394693617493, 0.8762406507391084, 0.2808555242982353, 0.5617110485964706, 0.717113377350089, 0.3260656393914522, 0.3260656393914522, 0.3260656393914522, 0.523141434464225, 0.523141434464225, 0.36051200337588707, 0.18025600168794353, 0.36051200337588707, 0.18025600168794353, 0.6426943569753981, 0.32134717848769906, 0.4696499927188141, 0.4696499927188141, 0.6849082861864485, 0.3164214345886831, 0.3164214345886831, 0.3164214345886831, 0.2636225976062318, 0.2636225976062318, 0.5272451952124636, 0.44613372117144934, 0.44613372117144934, 0.4604501182855935, 0.4604501182855935, 0.46510019805562935, 0.46510019805562935, 0.40201413497304495, 0.26800942331536326, 0.26800942331536326, 0.13400471165768163, 0.13400471165768163, 0.7077356995124809, 0.6902640834841518, 0.2559991602158212, 0.1279995801079106, 0.3839987403237318, 0.1279995801079106, 0.1279995801079106, 0.1279995801079106, 0.6850885724469868, 0.7075412624434005, 0.5214525422348971, 0.5214525422348971, 0.885560873387698, 0.2822125392670379, 0.14110626963351894, 0.4233188089005568, 0.14110626963351894, 0.27542127811188893, 0.27542127811188893, 0.27542127811188893, 0.27542127811188893, 0.7867989756049492, 0.7199335935870358, 0.7664079709613029, 0.4392582251714349, 0.4392582251714349, 0.7070824515149627, 0.18034153035860687, 0.18034153035860687, 0.36068306071721373, 0.18034153035860687, 0.18034153035860687, 0.7171134132475876, 0.6757706915071957, 0.33788534575359785, 0.904440629294574, 0.1788563056270445, 0.5365689168811335, 0.1788563056270445, 0.1788563056270445, 0.9336805489337814, 0.7867988420601462, 0.7867994652696152, 0.7013472662598965, 0.26345858717186865, 0.5269171743437373, 0.13172929358593433, 0.9384925983539995, 0.4721477118343561, 0.4721477118343561, 0.6846525490563694, 0.7867990646348432, 0.7664363284463542, 0.5066719016622344, 0.2533359508311172, 0.2533359508311172, 0.707082594172101, 0.34881340182077936, 0.34881340182077936, 0.34881340182077936, 0.11160488100802855, 0.4464195240321142, 0.2232097620160571, 0.11160488100802855, 0.055802440504014277, 0.055802440504014277, 0.4190522041882812, 0.1396840680627604, 0.1396840680627604, 0.1396840680627604, 0.1396840680627604, 0.24773635022325333, 0.74320905066976, 0.7070824515149627, 0.6848380508607018, 0.6846525490563694, 0.4651603365059036, 0.4651603365059036, 0.9176494987570863, 0.7015345335381, 0.4865153541479005, 0.4865153541479005, 0.7411633236056466, 0.41516679092771824, 0.41516679092771824, 0.20758339546385912, 0.47238380296212673, 0.47238380296212673, 0.17886230220470617, 0.17886230220470617, 0.35772460440941234, 0.17886230220470617, 0.17886230220470617, 0.7169392189025449, 0.7013011026277454, 0.7887283938245648, 0.7012273729558861, 0.7070887748442972, 0.6899600887565788, 0.14889352154410188, 0.5955740861764075, 0.14889352154410188, 0.5073509112586461, 0.5073509112586461, 0.876242667288168, 0.4786677570753901, 0.4786677570753901, 0.25089631890976455, 0.25089631890976455, 0.5017926378195291, 0.6850641064165536, 0.7198608480340056, 0.7070866837012068, 0.566751297552014, 0.283375648776007, 0.7171187815991105, 0.5080122885389224, 0.5080122885389224, 0.15285013352074825, 0.3057002670414965, 0.3057002670414965, 0.15285013352074825, 0.15285013352074825, 0.6849431746468452, 0.7198753895919372, 0.684826471609276, 0.20877140594127847, 0.20877140594127847, 0.41754281188255693, 0.7199031084941664, 0.7070825466197153, 0.7171134132475876, 0.7310644835961961, 0.24368816119873205, 0.4589385631721247, 0.4589385631721247, 0.7867989756049492, 0.5073008312747728, 0.5073008312747728, 0.7013147308083396, 0.6846521419524633, 0.25971175555101905, 0.25971175555101905, 0.5194235111020381, 0.8499775365722881, 0.7199412895197898, 0.7398027989070388, 0.5677942859799328, 0.2838971429899664, 0.2838971429899664, 0.7198502873913943, 0.6851080528577191, 0.6846521106367982, 0.7013580900226397, 0.43104045115451806, 0.14368015038483933, 0.14368015038483933, 0.28736030076967867, 0.7398012106352372, 0.1595253645763196, 0.2392880468644794, 0.1595253645763196, 0.1595253645763196, 0.0398813411440799, 0.0398813411440799, 0.0398813411440799, 0.0398813411440799, 0.0797626822881598, 0.0398813411440799, 0.0398813411440799, 0.0398813411440799, 0.6899517368849204, 0.6902518912609626, 0.717113377350089, 0.7665660222086117, 0.7070824515149627, 0.45728403155755715, 0.45728403155755715, 0.843594429734651, 0.7199464922648668, 0.7867989756049492, 0.6902928030894425, 0.717113377350089, 0.68482419593768, 0.4622530026587402, 0.4622530026587402, 0.7426567627511877, 0.24755225425039593, 0.5198039273082057, 0.5198039273082057, 0.7072490825509493, 0.7398012106352372, 0.7167392794305867, 0.6846520480054769, 0.15627164055044038, 0.31254328110088075, 0.31254328110088075, 0.15627164055044038, 0.15627164055044038, 0.7070824990673358, 0.4644542972062139, 0.4644542972062139, 0.34174809626792774, 0.06834961925358556, 0.1366992385071711, 0.20504885776075665, 0.06834961925358556, 0.1366992385071711, 0.06834961925358556, 0.06834961925358556, 0.06834961925358556, 0.6899597046614785, 0.6033787481929538, 0.15084468704823845, 0.3016893740964769, 0.6902183751875713, 0.8435944990346336, 0.8580702448542842, 0.717113377350089, 0.312348744738935, 0.312348744738935, 0.312348744738935, 0.21047109275231202, 0.42094218550462403, 0.21047109275231202, 0.10523554637615601, 0.10523554637615601, 0.10523554637615601, 0.7070888223975207, 0.32768234214807934, 0.32768234214807934, 0.21845489476538624, 0.10922744738269312, 0.10922744738269312, 0.6848011571015291, 0.8498703246575261, 0.7888370404686232, 0.7076171453687755, 0.8756555425812832, 0.7664572972387377, 0.290302484798364, 0.290302484798364, 0.290302484798364, 0.684834408776091, 0.7867988865750756, 0.8762312815031577, 0.9002018349120373, 0.788674680476559, 0.1470597995615792, 0.44117939868473754, 0.1470597995615792, 0.1470597995615792, 0.1470597995615792, 0.1470597995615792, 0.3667985210653725, 0.3667985210653725, 0.3667985210653725, 0.6567231103857157, 0.21890770346190525, 0.21890770346190525, 0.5223669590300828, 0.5223669590300828, 0.843594429734651, 0.6846527369506432, 0.701354608972854, 0.6846520480054769, 0.4872777809264446, 0.4872777809264446, 0.4553534953689491, 0.4553534953689491, 0.18563559794121673, 0.18563559794121673, 0.2784533969118251, 0.09281779897060836, 0.2784533969118251, 0.09281779897060836, 0.8500314088657615, 0.42045667553301075, 0.21022833776650537, 0.21022833776650537, 0.21022833776650537, 0.7013128245626319, 0.4550874554597135, 0.4550874554597135, 0.43127470507645055, 0.43127470507645055, 0.689962507125419, 0.7168236133442988], \"Term\": [\"able\", \"access\", \"account\", \"account\", \"account\", \"acknowledge\", \"actual\", \"actual\", \"actually\", \"actually\", \"actually\", \"actually\", \"actually\", \"add\", \"additional\", \"additional\", \"advise\", \"agent\", \"agent\", \"ago\", \"ago\", \"along\", \"also\", \"also\", \"also\", \"always\", \"always\", \"amazon\", \"amount\", \"answer\", \"answer\", \"anyway\", \"anyway\", \"anyway\", \"apart\", \"app\", \"application\", \"apply\", \"apply\", \"apply\", \"apply\", \"apply\", \"apply\", \"area\", \"arise\", \"arm\", \"arm\", \"arm\", \"arm\", \"arm\", \"around\", \"ask\", \"ask\", \"ask\", \"ask\", \"automate\", \"available\", \"available\", \"aware\", \"back\", \"back\", \"basis\", \"bill\", \"bill\", \"bill\", \"bill\", \"bill\", \"bill\", \"bit\", \"bit\", \"bot\", \"bubble\", \"bundle\", \"call\", \"call\", \"call\", \"care\", \"care\", \"care\", \"care\", \"certain\", \"certain\", \"chat\", \"chat\", \"check\", \"check\", \"choose\", \"clearly\", \"close\", \"clunky\", \"come\", \"come\", \"come\", \"come\", \"confirmation\", \"connect\", \"continue\", \"convert\", \"copy\", \"correctly\", \"course\", \"create\", \"create\", \"create\", \"cred\", \"credential\", \"credential\", \"customer\", \"customer\", \"customer\", \"customer\", \"customer\", \"customer\", \"customer\", \"customer\", \"customer\", \"d\", \"d\", \"d\", \"datum\", \"day\", \"day\", \"day\", \"day\", \"day\", \"definitely\", \"definitely\", \"definitely\", \"definitely\", \"desirable\", \"different\", \"different\", \"do\", \"download\", \"drop\", \"ease\", \"easily\", \"easily\", \"easy\", \"easy\", \"easy\", \"easy\", \"electricity\", \"electricity\", \"email\", \"email\", \"email\", \"encounter\", \"end\", \"end\", \"end\", \"end\", \"entity\", \"estimate\", \"estimate\", \"even\", \"even\", \"even\", \"eventually\", \"eventually\", \"exactly\", \"expect\", \"experience\", \"experience\", \"explain\", \"explain\", \"facility\", \"fail\", \"fail\", \"far\", \"far\", \"far\", \"fault\", \"fee\", \"figure\", \"fill\", \"fill\", \"fill\", \"fill\", \"fill\", \"fill\", \"filling\", \"find\", \"find\", \"fine\", \"first\", \"first\", \"follow\", \"form\", \"form\", \"form\", \"form\", \"form\", \"form\", \"form\", \"friendly\", \"frustrated\", \"function\", \"function\", \"fund\", \"fund\", \"gateway\", \"generally\", \"get\", \"get\", \"get\", \"get\", \"get\", \"get\", \"give\", \"go\", \"go\", \"go\", \"gon\", \"good\", \"good\", \"good\", \"good\", \"government\", \"government\", \"government\", \"government\", \"governmental\", \"grant\", \"guess\", \"guide\", \"guy\", \"half\", \"happen\", \"happen\", \"hear\", \"help\", \"help\", \"help\", \"help\", \"helpful\", \"helpfulness\", \"hesitation\", \"honest\", \"hope\", \"house\", \"i\", \"i\", \"i\", \"ideally\", \"ideally\", \"ideally\", \"identify\", \"immediately\", \"inaubible\", \"inaudible\", \"inaudible\", \"inaudible\", \"inaudible\", \"inform\", \"information\", \"initially\", \"input\", \"instal\", \"instal\", \"install\", \"install\", \"install\", \"installation\", \"instantly\", \"interact\", \"internet\", \"interruption\", \"issue\", \"issue\", \"keep\", \"kind\", \"kind\", \"kind\", \"kinda\", \"kinda\", \"know\", \"know\", \"know\", \"know\", \"knowledge\", \"knowledge\", \"leave\", \"leave\", \"let\", \"login\", \"login\", \"login\", \"long\", \"long\", \"long\", \"make\", \"make\", \"manage\", \"manage\", \"manually\", \"manually\", \"mean\", \"mean\", \"mean\", \"mean\", \"mean\", \"meantime\", \"melita\", \"meter\", \"meter\", \"meter\", \"meter\", \"meter\", \"meter\", \"minute\", \"misconstrue\", \"mobile\", \"mobile\", \"money\", \"month\", \"month\", \"month\", \"month\", \"monthly\", \"monthly\", \"monthly\", \"monthly\", \"mostly\", \"mother\", \"move\", \"much\", \"much\", \"native\", \"need\", \"need\", \"need\", \"need\", \"need\", \"never\", \"new\", \"new\", \"number\", \"obviously\", \"obviously\", \"obviously\", \"obviously\", \"offer\", \"often\", \"ok\", \"one\", \"online\", \"online\", \"online\", \"open\", \"operate\", \"operate\", \"option\", \"other\", \"overall\", \"part\", \"part\", \"part\", \"partly\", \"pause\", \"pause\", \"pause\", \"pay\", \"pay\", \"pay\", \"pay\", \"pay\", \"pay\", \"payment\", \"payment\", \"payment\", \"payment\", \"payment\", \"people\", \"people\", \"perspective\", \"phonecall\", \"physical\", \"picture\", \"picture\", \"point\", \"pop\", \"portal\", \"portal\", \"pretty\", \"print\", \"print\", \"print\", \"problem\", \"problem\", \"process\", \"process\", \"process\", \"process\", \"process\", \"processing\", \"prompt\", \"proof\", \"proper\", \"properly\", \"protection\", \"provide\", \"provide\", \"provide\", \"provider\", \"provider\", \"put\", \"question\", \"question\", \"quite\", \"quite\", \"quite\", \"rather\", \"rating\", \"rd\", \"reach\", \"reach\", \"read\", \"reading\", \"reading\", \"really\", \"really\", \"really\", \"really\", \"really\", \"reapply\", \"recall\", \"receipt\", \"receive\", \"receive\", \"receive\", \"reception\", \"remember\", \"reminder\", \"reply\", \"reply\", \"require\", \"require\", \"resolve\", \"respect\", \"respect\", \"right\", \"rocket\", \"roughly\", \"roughly\", \"roughly\", \"round\", \"rude\", \"satisfactory\", \"say\", \"say\", \"say\", \"scale\", \"scan\", \"science\", \"second\", \"send\", \"send\", \"send\", \"send\", \"separate\", \"service\", \"service\", \"service\", \"service\", \"service\", \"service\", \"service\", \"service\", \"service\", \"service\", \"service\", \"service\", \"sign\", \"similar\", \"sir\", \"slightly\", \"slow\", \"smooth\", \"smooth\", \"smoother\", \"sometime\", \"sometimes\", \"sort\", \"spamme\", \"specify\", \"start\", \"start\", \"still\", \"still\", \"straightforward\", \"straightforward\", \"stretch\", \"stupid\", \"successfully\", \"suggest\", \"support\", \"support\", \"support\", \"support\", \"support\", \"suppose\", \"sure\", \"sure\", \"take\", \"take\", \"take\", \"take\", \"take\", \"take\", \"take\", \"take\", \"take\", \"telephone\", \"tell\", \"tell\", \"tell\", \"temporarily\", \"tend\", \"term\", \"thank\", \"thing\", \"thing\", \"thing\", \"think\", \"think\", \"think\", \"think\", \"think\", \"think\", \"thoroughly\", \"time\", \"time\", \"time\", \"time\", \"time\", \"timeframe\", \"today\", \"together\", \"topping\", \"touchpoint\", \"trigger\", \"try\", \"try\", \"try\", \"uhm\", \"unfortunately\", \"upcoming\", \"update\", \"upload\", \"use\", \"use\", \"use\", \"use\", \"use\", \"use\", \"user\", \"user\", \"user\", \"usually\", \"usually\", \"usually\", \"utility\", \"utility\", \"verify\", \"viable\", \"wait\", \"want\", \"water\", \"water\", \"way\", \"way\", \"website\", \"website\", \"website\", \"website\", \"website\", \"website\", \"week\", \"well\", \"well\", \"well\", \"well\", \"whole\", \"work\", \"work\", \"wrong\", \"wrong\", \"year\", \"yet\"]}, \"R\": 30, \"lambda.step\": 0.01, \"plot.opts\": {\"xlab\": \"PC1\", \"ylab\": \"PC2\"}, \"topic.order\": [19, 11, 8, 7, 17, 10, 3, 1, 12, 9, 13, 14, 6, 2, 20, 4, 5, 18, 15, 16]};\n",
       "\n",
       "function LDAvis_load_lib(url, callback){\n",
       "  var s = document.createElement('script');\n",
       "  s.src = url;\n",
       "  s.async = true;\n",
       "  s.onreadystatechange = s.onload = callback;\n",
       "  s.onerror = function(){console.warn(\"failed to load library \" + url);};\n",
       "  document.getElementsByTagName(\"head\")[0].appendChild(s);\n",
       "}\n",
       "\n",
       "if(typeof(LDAvis) !== \"undefined\"){\n",
       "   // already loaded: just create the visualization\n",
       "   !function(LDAvis){\n",
       "       new LDAvis(\"#\" + \"ldavis_el360901402604016128327255526317\", ldavis_el360901402604016128327255526317_data);\n",
       "   }(LDAvis);\n",
       "}else if(typeof define === \"function\" && define.amd){\n",
       "   // require.js is available: use it to load d3/LDAvis\n",
       "   require.config({paths: {d3: \"https://d3js.org/d3.v5\"}});\n",
       "   require([\"d3\"], function(d3){\n",
       "      window.d3 = d3;\n",
       "      LDAvis_load_lib(\"https://cdn.jsdelivr.net/gh/bmabey/pyLDAvis/pyLDAvis/js/ldavis.v3.0.0.js\", function(){\n",
       "        new LDAvis(\"#\" + \"ldavis_el360901402604016128327255526317\", ldavis_el360901402604016128327255526317_data);\n",
       "      });\n",
       "    });\n",
       "}else{\n",
       "    // require.js not available: dynamically load d3 & LDAvis\n",
       "    LDAvis_load_lib(\"https://d3js.org/d3.v5.js\", function(){\n",
       "         LDAvis_load_lib(\"https://cdn.jsdelivr.net/gh/bmabey/pyLDAvis/pyLDAvis/js/ldavis.v3.0.0.js\", function(){\n",
       "                 new LDAvis(\"#\" + \"ldavis_el360901402604016128327255526317\", ldavis_el360901402604016128327255526317_data);\n",
       "            })\n",
       "         });\n",
       "}\n",
       "</script>"
      ],
      "text/plain": [
       "PreparedData(topic_coordinates=              x         y  topics  cluster       Freq\n",
       "topic                                                \n",
       "18    -0.087285  0.216163       1        1  15.852692\n",
       "10     0.039682 -0.287748       2        1  14.202920\n",
       "7      0.187309  0.187935       3        1  11.284527\n",
       "6     -0.200757 -0.185140       4        1  10.786512\n",
       "16    -0.220321  0.158904       5        1   8.282088\n",
       "9      0.043184  0.262238       6        1   7.699648\n",
       "2      0.245870 -0.083468       7        1   7.173050\n",
       "0     -0.233023 -0.090264       8        1   4.873438\n",
       "11     0.247885  0.054807       9        1   4.265791\n",
       "8     -0.166084  0.089681      10        1   3.936863\n",
       "12    -0.057638 -0.160581      11        1   2.888398\n",
       "13     0.102896 -0.138672      12        1   2.337227\n",
       "5     -0.123545  0.017736      13        1   2.263718\n",
       "1      0.111964 -0.066454      14        1   1.838816\n",
       "19     0.068922  0.040936      15        1   0.955896\n",
       "3      0.007690  0.033362      16        1   0.744427\n",
       "4      0.012512 -0.017685      17        1   0.208554\n",
       "17     0.006517 -0.010605      18        1   0.139057\n",
       "14     0.007110 -0.010572      19        1   0.133190\n",
       "15     0.007110 -0.010572      20        1   0.133190, topic_info=          Term       Freq      Total Category  logprob  loglift\n",
       "21        form  27.000000  27.000000  Default  30.0000  30.0000\n",
       "2          pay  17.000000  17.000000  Default  29.0000  29.0000\n",
       "105       bill  10.000000  10.000000  Default  28.0000  28.0000\n",
       "216  inaudible   6.000000   6.000000  Default  27.0000  27.0000\n",
       "18        fill  13.000000  13.000000  Default  26.0000  26.0000\n",
       "..         ...        ...        ...      ...      ...      ...\n",
       "25     support   0.003802   6.399114  Topic20  -5.7589  -0.8071\n",
       "26         use   0.003802   6.799955  Topic20  -5.7589  -0.8679\n",
       "27      around   0.003802   1.426002  Topic20  -5.7589   0.6942\n",
       "28        care   0.003802   6.142554  Topic20  -5.7589  -0.7662\n",
       "29         day   0.003802   5.619477  Topic20  -5.7589  -0.6772\n",
       "\n",
       "[1007 rows x 6 columns], token_table=      Topic      Freq     Term\n",
       "term                          \n",
       "290       2  0.689967     able\n",
       "196       2  0.689928   access\n",
       "112       3  0.282841  account\n",
       "112       6  0.282841  account\n",
       "112       7  0.282841  account\n",
       "...     ...       ...      ...\n",
       "80        8  0.455087     work\n",
       "42        1  0.431275    wrong\n",
       "42        4  0.431275    wrong\n",
       "300       2  0.689963     year\n",
       "111       5  0.716824      yet\n",
       "\n",
       "[590 rows x 3 columns], R=30, lambda_step=0.01, plot_opts={'xlab': 'PC1', 'ylab': 'PC2'}, topic_order=[19, 11, 8, 7, 17, 10, 3, 1, 12, 9, 13, 14, 6, 2, 20, 4, 5, 18, 15, 16])"
      ]
     },
     "execution_count": 47,
     "metadata": {},
     "output_type": "execute_result"
    }
   ],
   "source": [
    "# Visualize the topics\n",
    "pyLDAvis.enable_notebook()\n",
    "vis = pyLDAvis.gensim.prepare(lda_model, corpus, dictionary=lda_model.id2word, mds='mmds')   \n",
    "vis"
   ]
  },
  {
   "cell_type": "code",
   "execution_count": 49,
   "id": "98718d95",
   "metadata": {},
   "outputs": [],
   "source": [
    "pyLDAvis.save_html(vis, 'lda.html')"
   ]
  }
 ],
 "metadata": {
  "kernelspec": {
   "display_name": "Python 3",
   "language": "python",
   "name": "python3"
  },
  "language_info": {
   "codemirror_mode": {
    "name": "ipython",
    "version": 3
   },
   "file_extension": ".py",
   "mimetype": "text/x-python",
   "name": "python",
   "nbconvert_exporter": "python",
   "pygments_lexer": "ipython3",
   "version": "3.8.8"
  }
 },
 "nbformat": 4,
 "nbformat_minor": 5
}

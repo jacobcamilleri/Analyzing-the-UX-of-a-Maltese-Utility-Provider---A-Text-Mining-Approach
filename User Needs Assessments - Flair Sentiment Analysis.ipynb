{
 "cells": [
  {
   "cell_type": "code",
   "execution_count": 27,
   "id": "ec15af1b",
   "metadata": {},
   "outputs": [
    {
     "name": "stdout",
     "output_type": "stream",
     "text": [
      "Requirement already satisfied: flair in /Users/Owner/anaconda3/lib/python3.8/site-packages (0.10)\n",
      "Requirement already satisfied: sentencepiece==0.1.95 in /Users/Owner/anaconda3/lib/python3.8/site-packages (from flair) (0.1.95)\n",
      "Requirement already satisfied: sqlitedict>=1.6.0 in /Users/Owner/anaconda3/lib/python3.8/site-packages (from flair) (1.7.0)\n",
      "Requirement already satisfied: gensim>=3.4.0 in /Users/Owner/anaconda3/lib/python3.8/site-packages (from flair) (4.1.2)\n",
      "Requirement already satisfied: bpemb>=0.3.2 in /Users/Owner/anaconda3/lib/python3.8/site-packages (from flair) (0.3.3)\n",
      "Requirement already satisfied: deprecated>=1.2.4 in /Users/Owner/anaconda3/lib/python3.8/site-packages (from flair) (1.2.13)\n",
      "Requirement already satisfied: segtok>=1.5.7 in /Users/Owner/anaconda3/lib/python3.8/site-packages (from flair) (1.5.10)\n",
      "Requirement already satisfied: ftfy in /Users/Owner/anaconda3/lib/python3.8/site-packages (from flair) (6.0.3)\n",
      "Requirement already satisfied: tqdm>=4.26.0 in /Users/Owner/anaconda3/lib/python3.8/site-packages (from flair) (4.59.0)\n",
      "Requirement already satisfied: mpld3==0.3 in /Users/Owner/anaconda3/lib/python3.8/site-packages (from flair) (0.3)\n",
      "Requirement already satisfied: transformers>=4.0.0 in /Users/Owner/anaconda3/lib/python3.8/site-packages (from flair) (4.10.0)\n",
      "Requirement already satisfied: wikipedia-api in /Users/Owner/anaconda3/lib/python3.8/site-packages (from flair) (0.5.4)\n",
      "Requirement already satisfied: scikit-learn>=0.21.3 in /Users/Owner/anaconda3/lib/python3.8/site-packages (from flair) (0.24.1)\n",
      "Requirement already satisfied: regex in /Users/Owner/anaconda3/lib/python3.8/site-packages (from flair) (2021.4.4)\n",
      "Requirement already satisfied: konoha<5.0.0,>=4.0.0 in /Users/Owner/anaconda3/lib/python3.8/site-packages (from flair) (4.6.5)\n",
      "Requirement already satisfied: matplotlib>=2.2.3 in /Users/Owner/anaconda3/lib/python3.8/site-packages (from flair) (3.3.4)\n",
      "Requirement already satisfied: lxml in /Users/Owner/anaconda3/lib/python3.8/site-packages (from flair) (4.6.3)\n",
      "Requirement already satisfied: more-itertools~=8.8.0 in /Users/Owner/anaconda3/lib/python3.8/site-packages (from flair) (8.8.0)\n",
      "Requirement already satisfied: tabulate in /Users/Owner/anaconda3/lib/python3.8/site-packages (from flair) (0.8.9)\n",
      "Requirement already satisfied: python-dateutil>=2.6.1 in /Users/Owner/anaconda3/lib/python3.8/site-packages (from flair) (2.8.1)\n",
      "Requirement already satisfied: langdetect in /Users/Owner/anaconda3/lib/python3.8/site-packages (from flair) (1.0.9)\n",
      "Requirement already satisfied: janome in /Users/Owner/anaconda3/lib/python3.8/site-packages (from flair) (0.4.1)\n",
      "Requirement already satisfied: gdown==3.12.2 in /Users/Owner/anaconda3/lib/python3.8/site-packages (from flair) (3.12.2)\n",
      "Requirement already satisfied: conllu>=4.0 in /Users/Owner/anaconda3/lib/python3.8/site-packages (from flair) (4.4.1)\n",
      "Requirement already satisfied: huggingface-hub in /Users/Owner/anaconda3/lib/python3.8/site-packages (from flair) (0.0.16)\n",
      "Requirement already satisfied: torch!=1.8,>=1.5.0 in /Users/Owner/anaconda3/lib/python3.8/site-packages (from flair) (1.9.0)\n",
      "Requirement already satisfied: filelock in /Users/Owner/anaconda3/lib/python3.8/site-packages (from gdown==3.12.2->flair) (3.0.12)\n",
      "Requirement already satisfied: six in /Users/Owner/anaconda3/lib/python3.8/site-packages (from gdown==3.12.2->flair) (1.15.0)\n",
      "Requirement already satisfied: requests[socks] in /Users/Owner/anaconda3/lib/python3.8/site-packages (from gdown==3.12.2->flair) (2.25.1)\n",
      "Requirement already satisfied: numpy in /Users/Owner/anaconda3/lib/python3.8/site-packages (from bpemb>=0.3.2->flair) (1.20.1)\n",
      "Requirement already satisfied: wrapt<2,>=1.10 in /Users/Owner/anaconda3/lib/python3.8/site-packages (from deprecated>=1.2.4->flair) (1.12.1)\n",
      "Requirement already satisfied: scipy>=0.18.1 in /Users/Owner/anaconda3/lib/python3.8/site-packages (from gensim>=3.4.0->flair) (1.6.2)\n",
      "Requirement already satisfied: smart-open>=1.8.1 in /Users/Owner/anaconda3/lib/python3.8/site-packages (from gensim>=3.4.0->flair) (5.2.1)\n",
      "Requirement already satisfied: overrides<4.0.0,>=3.0.0 in /Users/Owner/anaconda3/lib/python3.8/site-packages (from konoha<5.0.0,>=4.0.0->flair) (3.1.0)\n",
      "Requirement already satisfied: importlib-metadata<4.0.0,>=3.7.0 in /Users/Owner/anaconda3/lib/python3.8/site-packages (from konoha<5.0.0,>=4.0.0->flair) (3.10.0)\n",
      "Requirement already satisfied: pillow>=6.2.0 in /Users/Owner/anaconda3/lib/python3.8/site-packages (from matplotlib>=2.2.3->flair) (8.2.0)\n",
      "Requirement already satisfied: pyparsing!=2.0.4,!=2.1.2,!=2.1.6,>=2.0.3 in /Users/Owner/anaconda3/lib/python3.8/site-packages (from matplotlib>=2.2.3->flair) (2.4.7)\n",
      "Requirement already satisfied: cycler>=0.10 in /Users/Owner/anaconda3/lib/python3.8/site-packages (from matplotlib>=2.2.3->flair) (0.10.0)\n",
      "Requirement already satisfied: kiwisolver>=1.0.1 in /Users/Owner/anaconda3/lib/python3.8/site-packages (from matplotlib>=2.2.3->flair) (1.3.1)\n",
      "Requirement already satisfied: threadpoolctl>=2.0.0 in /Users/Owner/anaconda3/lib/python3.8/site-packages (from scikit-learn>=0.21.3->flair) (2.1.0)\n",
      "Requirement already satisfied: joblib>=0.11 in /Users/Owner/anaconda3/lib/python3.8/site-packages (from scikit-learn>=0.21.3->flair) (1.0.1)\n",
      "Requirement already satisfied: typing-extensions in /Users/Owner/anaconda3/lib/python3.8/site-packages (from torch!=1.8,>=1.5.0->flair) (3.7.4.3)\n",
      "Requirement already satisfied: sacremoses in /Users/Owner/anaconda3/lib/python3.8/site-packages (from transformers>=4.0.0->flair) (0.0.45)\n",
      "Requirement already satisfied: tokenizers<0.11,>=0.10.1 in /Users/Owner/anaconda3/lib/python3.8/site-packages (from transformers>=4.0.0->flair) (0.10.3)\n",
      "Requirement already satisfied: packaging in /Users/Owner/anaconda3/lib/python3.8/site-packages (from transformers>=4.0.0->flair) (20.9)\n",
      "Requirement already satisfied: pyyaml>=5.1 in /Users/Owner/anaconda3/lib/python3.8/site-packages (from transformers>=4.0.0->flair) (5.4.1)\n",
      "Requirement already satisfied: wcwidth in /Users/Owner/anaconda3/lib/python3.8/site-packages (from ftfy->flair) (0.2.5)\n",
      "Requirement already satisfied: zipp>=0.5 in /Users/Owner/anaconda3/lib/python3.8/site-packages (from importlib-metadata<4.0.0,>=3.7.0->konoha<5.0.0,>=4.0.0->flair) (3.4.1)\n",
      "Requirement already satisfied: chardet<5,>=3.0.2 in /Users/Owner/anaconda3/lib/python3.8/site-packages (from requests[socks]->gdown==3.12.2->flair) (4.0.0)\n",
      "Requirement already satisfied: certifi>=2017.4.17 in /Users/Owner/anaconda3/lib/python3.8/site-packages (from requests[socks]->gdown==3.12.2->flair) (2020.12.5)\n",
      "Requirement already satisfied: urllib3<1.27,>=1.21.1 in /Users/Owner/anaconda3/lib/python3.8/site-packages (from requests[socks]->gdown==3.12.2->flair) (1.26.4)\n",
      "Requirement already satisfied: idna<3,>=2.5 in /Users/Owner/anaconda3/lib/python3.8/site-packages (from requests[socks]->gdown==3.12.2->flair) (2.10)\n",
      "Requirement already satisfied: PySocks!=1.5.7,>=1.5.6 in /Users/Owner/anaconda3/lib/python3.8/site-packages (from requests[socks]->gdown==3.12.2->flair) (1.7.1)\n",
      "Requirement already satisfied: click in /Users/Owner/anaconda3/lib/python3.8/site-packages (from sacremoses->transformers>=4.0.0->flair) (7.1.2)\n",
      "Requirement already satisfied: torch in /Users/Owner/anaconda3/lib/python3.8/site-packages (1.9.0)\n",
      "Requirement already satisfied: torchvision in /Users/Owner/anaconda3/lib/python3.8/site-packages (0.10.0)\n",
      "Requirement already satisfied: torchaudio in /Users/Owner/anaconda3/lib/python3.8/site-packages (0.9.0)\n",
      "Requirement already satisfied: typing-extensions in /Users/Owner/anaconda3/lib/python3.8/site-packages (from torch) (3.7.4.3)\n",
      "Requirement already satisfied: pillow>=5.3.0 in /Users/Owner/anaconda3/lib/python3.8/site-packages (from torchvision) (8.2.0)\n",
      "Requirement already satisfied: numpy in /Users/Owner/anaconda3/lib/python3.8/site-packages (from torchvision) (1.20.1)\n"
     ]
    }
   ],
   "source": [
    "!pip install flair\n",
    "!pip3 install torch torchvision torchaudio"
   ]
  },
  {
   "cell_type": "code",
   "execution_count": 28,
   "id": "3e26edea",
   "metadata": {},
   "outputs": [],
   "source": [
    "import pandas as pd\n",
    "#import sentiment model\n",
    "import flair"
   ]
  },
  {
   "cell_type": "code",
   "execution_count": 29,
   "id": "5510157b",
   "metadata": {},
   "outputs": [
    {
     "name": "stdout",
     "output_type": "stream",
     "text": [
      "2021-12-22 16:10:48,824 loading file /Users/Owner/.flair/models/sentiment-en-mix-distillbert_4.pt\n"
     ]
    }
   ],
   "source": [
    "#pass english sentiment model to a variable\n",
    "sentiment_model = flair.models.TextClassifier.load('en-sentiment')"
   ]
  },
  {
   "cell_type": "code",
   "execution_count": 30,
   "id": "f940aad4",
   "metadata": {},
   "outputs": [],
   "source": [
    "#upload user needs assessments dataset\n",
    "df = pd.read_csv('User Needs Assessments Data.csv')"
   ]
  },
  {
   "cell_type": "code",
   "execution_count": 31,
   "id": "a4cea4f9",
   "metadata": {},
   "outputs": [],
   "source": [
    "#create a for loop that assigns a sentiment probability for each sample of our dataset\n",
    "sentiment = []\n",
    "confidence = []\n",
    "\n",
    "for sentence in df['Question/Answer']:\n",
    "    if sentence.strip() == \"\":\n",
    "        sentiment.append(\"\")\n",
    "        confidence.append(\"\")\n",
    "        \n",
    "    else:\n",
    "        sample = flair.data.Sentence(sentence)\n",
    "        sentiment_model.predict(sample)\n",
    "    \n",
    "        sentiment.append(sample.labels[0].value)\n",
    "        confidence.append(sample.labels[0].score)"
   ]
  },
  {
   "cell_type": "code",
   "execution_count": 32,
   "id": "7b085929",
   "metadata": {},
   "outputs": [
    {
     "data": {
      "text/plain": [
       "Sentence: \"I mean , it 's the only service provider in Malta , so yes .\"   [− Tokens: 15  − Sentence-Labels: {'label': [POSITIVE (0.9953)]}]"
      ]
     },
     "execution_count": 32,
     "metadata": {},
     "output_type": "execute_result"
    }
   ],
   "source": [
    "sample"
   ]
  },
  {
   "cell_type": "code",
   "execution_count": 33,
   "id": "01d0ce74",
   "metadata": {},
   "outputs": [],
   "source": [
    "#create new sentiment and confidence columns\n",
    "df['sentiment'] = sentiment\n",
    "df['confidence'] = confidence"
   ]
  },
  {
   "cell_type": "code",
   "execution_count": 46,
   "id": "e7dcac16",
   "metadata": {},
   "outputs": [
    {
     "name": "stdout",
     "output_type": "stream",
     "text": [
      "DataFrame is written to Excel File successfully.\n"
     ]
    }
   ],
   "source": [
    "# writing to Excel\n",
    "datatoexcel = pd.ExcelWriter('UNAs Sentiment Data.xlsx')\n",
    "  \n",
    "# write DataFrame to excel\n",
    "df.to_excel(datatoexcel)\n",
    "  \n",
    "# save the excel\n",
    "datatoexcel.save()\n",
    "print('DataFrame is written to Excel File successfully.')"
   ]
  },
  {
   "cell_type": "code",
   "execution_count": 45,
   "id": "4099a710",
   "metadata": {},
   "outputs": [
    {
     "data": {
      "text/html": [
       "<div>\n",
       "<style scoped>\n",
       "    .dataframe tbody tr th:only-of-type {\n",
       "        vertical-align: middle;\n",
       "    }\n",
       "\n",
       "    .dataframe tbody tr th {\n",
       "        vertical-align: top;\n",
       "    }\n",
       "\n",
       "    .dataframe thead th {\n",
       "        text-align: right;\n",
       "    }\n",
       "</style>\n",
       "<table border=\"1\" class=\"dataframe\">\n",
       "  <thead>\n",
       "    <tr style=\"text-align: right;\">\n",
       "      <th></th>\n",
       "      <th>Person</th>\n",
       "      <th>Section</th>\n",
       "      <th>Topic</th>\n",
       "      <th>Question/Answer</th>\n",
       "      <th>sentiment</th>\n",
       "      <th>confidence</th>\n",
       "    </tr>\n",
       "  </thead>\n",
       "  <tbody>\n",
       "    <tr>\n",
       "      <th>30</th>\n",
       "      <td>PPT01</td>\n",
       "      <td>FTUE</td>\n",
       "      <td>Initial Application Process Duration</td>\n",
       "      <td>....and then after paying the required fees for the service, they keep on asking me.....for me to pay they were spamming me with reminder emails, so they were reaching out to ...me to pay for the service. I did so, and then I never heard from them again. So each time I send them an email asking for any form of updates from their end, whether they received a payment, they're applied for the service after I paid, and there weren't any updated....I don't receive any form of confirmation, not even help, not even \"Hey Sir, thank you for your payment. We will now process your service....application fee.\"</td>\n",
       "      <td>NEGATIVE</td>\n",
       "      <td>0.999996</td>\n",
       "    </tr>\n",
       "    <tr>\n",
       "      <th>187</th>\n",
       "      <td>PPT05</td>\n",
       "      <td>Intro</td>\n",
       "      <td>Frequency</td>\n",
       "      <td>Ehm, not that much to be honest. To be completely honest, ehm, I think I've used the website about two or three times.</td>\n",
       "      <td>NEGATIVE</td>\n",
       "      <td>0.999992</td>\n",
       "    </tr>\n",
       "    <tr>\n",
       "      <th>171</th>\n",
       "      <td>PPT04</td>\n",
       "      <td>Conclusion</td>\n",
       "      <td>Billing</td>\n",
       "      <td>Ehm..yes and no. They're not...example, there's eco-contribution. Last month, with 1 unit, I missed out on eco-contribution and I had to pay..because of 1 unit. You know? I don't think the eco-contribution is totally fair...because, for example, they should have done it band by band, If you go over all the way you get nothing, and if you go over just a little bit, for example, they could reduce it by half....</td>\n",
       "      <td>NEGATIVE</td>\n",
       "      <td>0.999990</td>\n",
       "    </tr>\n",
       "    <tr>\n",
       "      <th>42</th>\n",
       "      <td>PPT01</td>\n",
       "      <td>Conclusion</td>\n",
       "      <td>Spillover Effects</td>\n",
       "      <td>At the end of the day, it leaves the..../inaubible/..../service?/..not as desirable because now I know that eventually I have the same problems if isn't resolved. Unfortunately, sometimes...this often happens with governmental websites, and if one website is having this issue, then you have the same issues with other websites.</td>\n",
       "      <td>NEGATIVE</td>\n",
       "      <td>0.999985</td>\n",
       "    </tr>\n",
       "    <tr>\n",
       "      <th>79</th>\n",
       "      <td>PPT02</td>\n",
       "      <td>FTUE</td>\n",
       "      <td>Previous Experience w/ Online Government Applications</td>\n",
       "      <td>I expected it to be round about two months just because government services take long. They..they did acknowledge the receipt of my form, which was good at least, uhm...and via email yes they did specify that I would receive a phonecall before the meters would actually be installed, and it happen twice. First time round they did call, you know, without actually informing that they would be calling and obviously I couldn't...they told me that they can come and install it but I couldn't do it on the day.../inaudible: from today till today?/...and I asked for, you know, a timeframe of when I....around the week to inform me when they would be coming for installation.</td>\n",
       "      <td>NEGATIVE</td>\n",
       "      <td>0.999985</td>\n",
       "    </tr>\n",
       "    <tr>\n",
       "      <th>...</th>\n",
       "      <td>...</td>\n",
       "      <td>...</td>\n",
       "      <td>...</td>\n",
       "      <td>...</td>\n",
       "      <td>...</td>\n",
       "      <td>...</td>\n",
       "    </tr>\n",
       "    <tr>\n",
       "      <th>40</th>\n",
       "      <td>PPT01</td>\n",
       "      <td>FTUE</td>\n",
       "      <td>Alternative Method</td>\n",
       "      <td>I would start by creating user guides on their website where it actually explains what..how the e-forms need to be filled...and which ones./sml pause/ Ideally they'll have their customer care function clearly available on the website, not just by phoning but even by chatting...maybe they'll have customer care agents available...within a..and they'll help you instantly. Because people can easily get frustrated and close the website and leave. Ideally, if people take long...for example..on an e-form...a chat bubble (bot?) can pop up after x amount of time and prompt the user if they need help filling out the e-form...and where they...because the customer touchpoints..../hesitation/....people can drop out at different customer touchpoints. Ideally they'll have proper support as they go along.</td>\n",
       "      <td>NEGATIVE</td>\n",
       "      <td>0.743134</td>\n",
       "    </tr>\n",
       "    <tr>\n",
       "      <th>1</th>\n",
       "      <td>PPT01</td>\n",
       "      <td>Intro</td>\n",
       "      <td>First-Time Homeowner</td>\n",
       "      <td>I bought the place 3 years ago but it's still under renovation</td>\n",
       "      <td>NEGATIVE</td>\n",
       "      <td>0.705367</td>\n",
       "    </tr>\n",
       "    <tr>\n",
       "      <th>34</th>\n",
       "      <td>PPT01</td>\n",
       "      <td>FTUE</td>\n",
       "      <td>Previous Experience w/ Online Government Applications</td>\n",
       "      <td>Yes....well..successfully is stretching it because I didn't receive any form of confirmation yet. From my part, I did my part... To add on the.....user process, even paying the .....service fee, you still use one payment processing, which is the same payment gateway were you pay for your utility bills.</td>\n",
       "      <td>NEGATIVE</td>\n",
       "      <td>0.702674</td>\n",
       "    </tr>\n",
       "    <tr>\n",
       "      <th>217</th>\n",
       "      <td>PPT05</td>\n",
       "      <td>FTUE</td>\n",
       "      <td>Alternative Method</td>\n",
       "      <td>Good websites and services..Well, ehm, they should, I think it's time to start sending the bills online or via text message, you know, to avoid...to start being paperless and avoid, you know, unnecessary posts. Ehm, for instance, another service which I use for my internet and mobile is Go Mobile and they, whenever I need to pay a bill, I receive a message or an email, and it's very easy because I log in to my account and I just, I have my card saved on their website and i just, it's literally a push of a button, and I pay my bill, that's it.</td>\n",
       "      <td>NEGATIVE</td>\n",
       "      <td>0.643515</td>\n",
       "    </tr>\n",
       "    <tr>\n",
       "      <th>107</th>\n",
       "      <td>PPT03</td>\n",
       "      <td>FTUE</td>\n",
       "      <td>UI</td>\n",
       "      <td>Ehm..yeah it was quite straightforward in the sense that I had to download the form and then send it via email, so I had to basically attach it as an email to their sales team.</td>\n",
       "      <td>NEGATIVE</td>\n",
       "      <td>0.525206</td>\n",
       "    </tr>\n",
       "  </tbody>\n",
       "</table>\n",
       "<p>73 rows × 6 columns</p>\n",
       "</div>"
      ],
      "text/plain": [
       "    Person     Section                                                  Topic  \\\n",
       "30   PPT01        FTUE                   Initial Application Process Duration   \n",
       "187  PPT05       Intro                                              Frequency   \n",
       "171  PPT04  Conclusion                                                Billing   \n",
       "42   PPT01  Conclusion                                      Spillover Effects   \n",
       "79   PPT02        FTUE  Previous Experience w/ Online Government Applications   \n",
       "..     ...         ...                                                    ...   \n",
       "40   PPT01        FTUE                                     Alternative Method   \n",
       "1    PPT01       Intro                                   First-Time Homeowner   \n",
       "34   PPT01        FTUE  Previous Experience w/ Online Government Applications   \n",
       "217  PPT05        FTUE                                     Alternative Method   \n",
       "107  PPT03        FTUE                                                     UI   \n",
       "\n",
       "                                                                                                                                                                                                                                                                                                                                                                                                                                                                                                                                                                                                                                                                                                                                                                                                                       Question/Answer  \\\n",
       "30                                                                                                                                                                                                       ....and then after paying the required fees for the service, they keep on asking me.....for me to pay they were spamming me with reminder emails, so they were reaching out to ...me to pay for the service. I did so, and then I never heard from them again. So each time I send them an email asking for any form of updates from their end, whether they received a payment, they're applied for the service after I paid, and there weren't any updated....I don't receive any form of confirmation, not even help, not even \"Hey Sir, thank you for your payment. We will now process your service....application fee.\"   \n",
       "187                                                                                                                                                                                                                                                                                                                                                                                                                                                                                                                                                                                                                                                                                                             Ehm, not that much to be honest. To be completely honest, ehm, I think I've used the website about two or three times.   \n",
       "171                                                                                                                                                                                                                                                                                                                                                                                                       Ehm..yes and no. They're not...example, there's eco-contribution. Last month, with 1 unit, I missed out on eco-contribution and I had to pay..because of 1 unit. You know? I don't think the eco-contribution is totally fair...because, for example, they should have done it band by band, If you go over all the way you get nothing, and if you go over just a little bit, for example, they could reduce it by half....   \n",
       "42                                                                                                                                                                                                                                                                                                                                                                                                                                                                                           At the end of the day, it leaves the..../inaubible/..../service?/..not as desirable because now I know that eventually I have the same problems if isn't resolved. Unfortunately, sometimes...this often happens with governmental websites, and if one website is having this issue, then you have the same issues with other websites.    \n",
       "79                                                                                                                                    I expected it to be round about two months just because government services take long. They..they did acknowledge the receipt of my form, which was good at least, uhm...and via email yes they did specify that I would receive a phonecall before the meters would actually be installed, and it happen twice. First time round they did call, you know, without actually informing that they would be calling and obviously I couldn't...they told me that they can come and install it but I couldn't do it on the day.../inaudible: from today till today?/...and I asked for, you know, a timeframe of when I....around the week to inform me when they would be coming for installation.    \n",
       "..                                                                                                                                                                                                                                                                                                                                                                                                                                                                                                                                                                                                                                                                                                                                                                                                                                 ...   \n",
       "40   I would start by creating user guides on their website where it actually explains what..how the e-forms need to be filled...and which ones./sml pause/ Ideally they'll have their customer care function clearly available on the website, not just by phoning but even by chatting...maybe they'll have customer care agents available...within a..and they'll help you instantly. Because people can easily get frustrated and close the website and leave. Ideally, if people take long...for example..on an e-form...a chat bubble (bot?) can pop up after x amount of time and prompt the user if they need help filling out the e-form...and where they...because the customer touchpoints..../hesitation/....people can drop out at different customer touchpoints. Ideally they'll have proper support as they go along.    \n",
       "1                                                                                                                                                                                                                                                                                                                                                                                                                                                                                                                                                                                                                                                                                                                                                                       I bought the place 3 years ago but it's still under renovation   \n",
       "34                                                                                                                                                                                                                                                                                                                                                                                                                                                                                                                    Yes....well..successfully is stretching it because I didn't receive any form of confirmation yet. From my part, I did my part... To add on the.....user process, even paying the .....service fee, you still use one payment processing, which is the same payment gateway were you pay for your utility bills.    \n",
       "217                                                                                                                                                                                                                                                               Good websites and services..Well, ehm, they should, I think it's time to start sending the bills online or via text message, you know, to avoid...to start being paperless and avoid, you know, unnecessary posts. Ehm, for instance, another service which I use for my internet and mobile is Go Mobile and they, whenever I need to pay a bill, I receive a message or an email, and it's very easy because I log in to my account and I just, I have my card saved on their website and i just, it's literally a push of a button, and I pay my bill, that's it.   \n",
       "107                                                                                                                                                                                                                                                                                                                                                                                                                                                                                                                                                                                                                                                   Ehm..yeah it was quite straightforward in the sense that I had to download the form and then send it via email, so I had to basically attach it as an email to their sales team.   \n",
       "\n",
       "    sentiment  confidence  \n",
       "30   NEGATIVE    0.999996  \n",
       "187  NEGATIVE    0.999992  \n",
       "171  NEGATIVE    0.999990  \n",
       "42   NEGATIVE    0.999985  \n",
       "79   NEGATIVE    0.999985  \n",
       "..        ...         ...  \n",
       "40   NEGATIVE    0.743134  \n",
       "1    NEGATIVE    0.705367  \n",
       "34   NEGATIVE    0.702674  \n",
       "217  NEGATIVE    0.643515  \n",
       "107  NEGATIVE    0.525206  \n",
       "\n",
       "[73 rows x 6 columns]"
      ]
     },
     "execution_count": 45,
     "metadata": {},
     "output_type": "execute_result"
    }
   ],
   "source": [
    "#Filter out moderator questions and select the top 5 responses with the worst sentiment scores\n",
    "df = df.loc[df['Person'] != 'Interviewer']\n",
    "df = df.loc[df['sentiment'] == 'NEGATIVE']\n",
    "df = df.sort_values(by=['confidence'], ascending=False)\n",
    "df"
   ]
  }
 ],
 "metadata": {
  "kernelspec": {
   "display_name": "Python 3",
   "language": "python",
   "name": "python3"
  },
  "language_info": {
   "codemirror_mode": {
    "name": "ipython",
    "version": 3
   },
   "file_extension": ".py",
   "mimetype": "text/x-python",
   "name": "python",
   "nbconvert_exporter": "python",
   "pygments_lexer": "ipython3",
   "version": "3.8.8"
  }
 },
 "nbformat": 4,
 "nbformat_minor": 5
}

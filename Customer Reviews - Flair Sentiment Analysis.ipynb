{
 "cells": [
  {
   "cell_type": "code",
   "execution_count": 94,
   "id": "ec15af1b",
   "metadata": {},
   "outputs": [
    {
     "name": "stdout",
     "output_type": "stream",
     "text": [
      "Requirement already satisfied: flair in /Users/Owner/anaconda3/lib/python3.8/site-packages (0.10)\n",
      "Requirement already satisfied: segtok>=1.5.7 in /Users/Owner/anaconda3/lib/python3.8/site-packages (from flair) (1.5.10)\n",
      "Requirement already satisfied: mpld3==0.3 in /Users/Owner/anaconda3/lib/python3.8/site-packages (from flair) (0.3)\n",
      "Requirement already satisfied: conllu>=4.0 in /Users/Owner/anaconda3/lib/python3.8/site-packages (from flair) (4.4.1)\n",
      "Requirement already satisfied: gensim>=3.4.0 in /Users/Owner/anaconda3/lib/python3.8/site-packages (from flair) (4.1.2)\n",
      "Requirement already satisfied: janome in /Users/Owner/anaconda3/lib/python3.8/site-packages (from flair) (0.4.1)\n",
      "Requirement already satisfied: tabulate in /Users/Owner/anaconda3/lib/python3.8/site-packages (from flair) (0.8.9)\n",
      "Requirement already satisfied: wikipedia-api in /Users/Owner/anaconda3/lib/python3.8/site-packages (from flair) (0.5.4)\n",
      "Requirement already satisfied: transformers>=4.0.0 in /Users/Owner/anaconda3/lib/python3.8/site-packages (from flair) (4.10.0)\n",
      "Requirement already satisfied: regex in /Users/Owner/anaconda3/lib/python3.8/site-packages (from flair) (2021.4.4)\n",
      "Requirement already satisfied: more-itertools~=8.8.0 in /Users/Owner/anaconda3/lib/python3.8/site-packages (from flair) (8.8.0)\n",
      "Requirement already satisfied: huggingface-hub in /Users/Owner/anaconda3/lib/python3.8/site-packages (from flair) (0.0.16)\n",
      "Requirement already satisfied: langdetect in /Users/Owner/anaconda3/lib/python3.8/site-packages (from flair) (1.0.9)\n",
      "Requirement already satisfied: scikit-learn>=0.21.3 in /Users/Owner/anaconda3/lib/python3.8/site-packages (from flair) (0.24.1)\n",
      "Requirement already satisfied: ftfy in /Users/Owner/anaconda3/lib/python3.8/site-packages (from flair) (6.0.3)\n",
      "Requirement already satisfied: lxml in /Users/Owner/anaconda3/lib/python3.8/site-packages (from flair) (4.6.3)\n",
      "Requirement already satisfied: konoha<5.0.0,>=4.0.0 in /Users/Owner/anaconda3/lib/python3.8/site-packages (from flair) (4.6.5)\n",
      "Requirement already satisfied: deprecated>=1.2.4 in /Users/Owner/anaconda3/lib/python3.8/site-packages (from flair) (1.2.13)\n",
      "Requirement already satisfied: sentencepiece==0.1.95 in /Users/Owner/anaconda3/lib/python3.8/site-packages (from flair) (0.1.95)\n",
      "Requirement already satisfied: bpemb>=0.3.2 in /Users/Owner/anaconda3/lib/python3.8/site-packages (from flair) (0.3.3)\n",
      "Requirement already satisfied: matplotlib>=2.2.3 in /Users/Owner/anaconda3/lib/python3.8/site-packages (from flair) (3.3.4)\n",
      "Requirement already satisfied: torch!=1.8,>=1.5.0 in /Users/Owner/anaconda3/lib/python3.8/site-packages (from flair) (1.9.0)\n",
      "Requirement already satisfied: sqlitedict>=1.6.0 in /Users/Owner/anaconda3/lib/python3.8/site-packages (from flair) (1.7.0)\n",
      "Requirement already satisfied: tqdm>=4.26.0 in /Users/Owner/anaconda3/lib/python3.8/site-packages (from flair) (4.59.0)\n",
      "Requirement already satisfied: python-dateutil>=2.6.1 in /Users/Owner/anaconda3/lib/python3.8/site-packages (from flair) (2.8.1)\n",
      "Requirement already satisfied: gdown==3.12.2 in /Users/Owner/anaconda3/lib/python3.8/site-packages (from flair) (3.12.2)\n",
      "Requirement already satisfied: filelock in /Users/Owner/anaconda3/lib/python3.8/site-packages (from gdown==3.12.2->flair) (3.0.12)\n",
      "Requirement already satisfied: six in /Users/Owner/anaconda3/lib/python3.8/site-packages (from gdown==3.12.2->flair) (1.15.0)\n",
      "Requirement already satisfied: requests[socks] in /Users/Owner/anaconda3/lib/python3.8/site-packages (from gdown==3.12.2->flair) (2.25.1)\n",
      "Requirement already satisfied: numpy in /Users/Owner/anaconda3/lib/python3.8/site-packages (from bpemb>=0.3.2->flair) (1.20.1)\n",
      "Requirement already satisfied: wrapt<2,>=1.10 in /Users/Owner/anaconda3/lib/python3.8/site-packages (from deprecated>=1.2.4->flair) (1.12.1)\n",
      "Requirement already satisfied: smart-open>=1.8.1 in /Users/Owner/anaconda3/lib/python3.8/site-packages (from gensim>=3.4.0->flair) (5.2.1)\n",
      "Requirement already satisfied: scipy>=0.18.1 in /Users/Owner/anaconda3/lib/python3.8/site-packages (from gensim>=3.4.0->flair) (1.6.2)\n",
      "Requirement already satisfied: importlib-metadata<4.0.0,>=3.7.0 in /Users/Owner/anaconda3/lib/python3.8/site-packages (from konoha<5.0.0,>=4.0.0->flair) (3.10.0)\n",
      "Requirement already satisfied: overrides<4.0.0,>=3.0.0 in /Users/Owner/anaconda3/lib/python3.8/site-packages (from konoha<5.0.0,>=4.0.0->flair) (3.1.0)\n",
      "Requirement already satisfied: pillow>=6.2.0 in /Users/Owner/anaconda3/lib/python3.8/site-packages (from matplotlib>=2.2.3->flair) (8.2.0)\n",
      "Requirement already satisfied: cycler>=0.10 in /Users/Owner/anaconda3/lib/python3.8/site-packages (from matplotlib>=2.2.3->flair) (0.10.0)\n",
      "Requirement already satisfied: kiwisolver>=1.0.1 in /Users/Owner/anaconda3/lib/python3.8/site-packages (from matplotlib>=2.2.3->flair) (1.3.1)\n",
      "Requirement already satisfied: pyparsing!=2.0.4,!=2.1.2,!=2.1.6,>=2.0.3 in /Users/Owner/anaconda3/lib/python3.8/site-packages (from matplotlib>=2.2.3->flair) (2.4.7)\n",
      "Requirement already satisfied: joblib>=0.11 in /Users/Owner/anaconda3/lib/python3.8/site-packages (from scikit-learn>=0.21.3->flair) (1.0.1)\n",
      "Requirement already satisfied: threadpoolctl>=2.0.0 in /Users/Owner/anaconda3/lib/python3.8/site-packages (from scikit-learn>=0.21.3->flair) (2.1.0)\n",
      "Requirement already satisfied: typing-extensions in /Users/Owner/anaconda3/lib/python3.8/site-packages (from torch!=1.8,>=1.5.0->flair) (3.7.4.3)\n",
      "Requirement already satisfied: tokenizers<0.11,>=0.10.1 in /Users/Owner/anaconda3/lib/python3.8/site-packages (from transformers>=4.0.0->flair) (0.10.3)\n",
      "Requirement already satisfied: sacremoses in /Users/Owner/anaconda3/lib/python3.8/site-packages (from transformers>=4.0.0->flair) (0.0.45)\n",
      "Requirement already satisfied: pyyaml>=5.1 in /Users/Owner/anaconda3/lib/python3.8/site-packages (from transformers>=4.0.0->flair) (5.4.1)\n",
      "Requirement already satisfied: packaging in /Users/Owner/anaconda3/lib/python3.8/site-packages (from transformers>=4.0.0->flair) (20.9)\n",
      "Requirement already satisfied: wcwidth in /Users/Owner/anaconda3/lib/python3.8/site-packages (from ftfy->flair) (0.2.5)\n",
      "Requirement already satisfied: zipp>=0.5 in /Users/Owner/anaconda3/lib/python3.8/site-packages (from importlib-metadata<4.0.0,>=3.7.0->konoha<5.0.0,>=4.0.0->flair) (3.4.1)\n",
      "Requirement already satisfied: chardet<5,>=3.0.2 in /Users/Owner/anaconda3/lib/python3.8/site-packages (from requests[socks]->gdown==3.12.2->flair) (4.0.0)\n",
      "Requirement already satisfied: urllib3<1.27,>=1.21.1 in /Users/Owner/anaconda3/lib/python3.8/site-packages (from requests[socks]->gdown==3.12.2->flair) (1.26.4)\n",
      "Requirement already satisfied: certifi>=2017.4.17 in /Users/Owner/anaconda3/lib/python3.8/site-packages (from requests[socks]->gdown==3.12.2->flair) (2020.12.5)\n",
      "Requirement already satisfied: idna<3,>=2.5 in /Users/Owner/anaconda3/lib/python3.8/site-packages (from requests[socks]->gdown==3.12.2->flair) (2.10)\n",
      "Requirement already satisfied: PySocks!=1.5.7,>=1.5.6 in /Users/Owner/anaconda3/lib/python3.8/site-packages (from requests[socks]->gdown==3.12.2->flair) (1.7.1)\n",
      "Requirement already satisfied: click in /Users/Owner/anaconda3/lib/python3.8/site-packages (from sacremoses->transformers>=4.0.0->flair) (7.1.2)\n",
      "Requirement already satisfied: torch in /Users/Owner/anaconda3/lib/python3.8/site-packages (1.9.0)\n",
      "Requirement already satisfied: torchvision in /Users/Owner/anaconda3/lib/python3.8/site-packages (0.10.0)\n",
      "Requirement already satisfied: torchaudio in /Users/Owner/anaconda3/lib/python3.8/site-packages (0.9.0)\n",
      "Requirement already satisfied: typing-extensions in /Users/Owner/anaconda3/lib/python3.8/site-packages (from torch) (3.7.4.3)\n",
      "Requirement already satisfied: numpy in /Users/Owner/anaconda3/lib/python3.8/site-packages (from torchvision) (1.20.1)\n",
      "Requirement already satisfied: pillow>=5.3.0 in /Users/Owner/anaconda3/lib/python3.8/site-packages (from torchvision) (8.2.0)\n"
     ]
    }
   ],
   "source": [
    "!pip install flair\n",
    "!pip3 install torch torchvision torchaudio"
   ]
  },
  {
   "cell_type": "code",
   "execution_count": 95,
   "id": "3e26edea",
   "metadata": {},
   "outputs": [],
   "source": [
    "import pandas as pd\n",
    "#import sentiment model\n",
    "import flair"
   ]
  },
  {
   "cell_type": "code",
   "execution_count": 96,
   "id": "5510157b",
   "metadata": {},
   "outputs": [
    {
     "name": "stdout",
     "output_type": "stream",
     "text": [
      "2021-12-22 17:02:35,188 loading file /Users/Owner/.flair/models/sentiment-en-mix-distillbert_4.pt\n"
     ]
    }
   ],
   "source": [
    "#pass english sentiment model to a variable\n",
    "sentiment_model = flair.models.TextClassifier.load('en-sentiment')"
   ]
  },
  {
   "cell_type": "code",
   "execution_count": 111,
   "id": "f940aad4",
   "metadata": {},
   "outputs": [],
   "source": [
    "#upload UGC dataset\n",
    "df = pd.read_csv('Customer Reviews Data.csv')"
   ]
  },
  {
   "cell_type": "code",
   "execution_count": 112,
   "id": "a4cea4f9",
   "metadata": {},
   "outputs": [],
   "source": [
    "#Assign a sentiment probability for each sample of our dataset\n",
    "sentiment = []\n",
    "confidence = []\n",
    "\n",
    "for sentence in df['Statement']:\n",
    "    if sentence.strip() == \"\":\n",
    "        sentiment.append(\"\")\n",
    "        confidence.append(\"\")\n",
    "        \n",
    "    else:\n",
    "        sample = flair.data.Sentence(sentence)\n",
    "        sentiment_model.predict(sample)\n",
    "    \n",
    "        sentiment.append(sample.labels[0].value)\n",
    "        confidence.append(sample.labels[0].score)"
   ]
  },
  {
   "cell_type": "code",
   "execution_count": 113,
   "id": "7b085929",
   "metadata": {},
   "outputs": [
    {
     "data": {
      "text/plain": [
       "Sentence: \"I have just returned from ARMS Ltd.at Blata l-Bajda . Arrived there at 12.02 pm and was told that the establishment closes at 12.00pm . The attached screenshot shows that the closing time is at 13.30 and not 12.00 . I was told by the arrogant receptionist that the information had just been revised .\"   [− Tokens: 55  − Sentence-Labels: {'label': [NEGATIVE (0.9999)]}]"
      ]
     },
     "execution_count": 113,
     "metadata": {},
     "output_type": "execute_result"
    }
   ],
   "source": [
    "sample"
   ]
  },
  {
   "cell_type": "code",
   "execution_count": 114,
   "id": "01d0ce74",
   "metadata": {},
   "outputs": [],
   "source": [
    "#create new sentiment and confidence columns\n",
    "df['sentiment'] = sentiment\n",
    "df['confidence'] = confidence"
   ]
  },
  {
   "cell_type": "code",
   "execution_count": 117,
   "id": "957d9cf0",
   "metadata": {},
   "outputs": [
    {
     "name": "stdout",
     "output_type": "stream",
     "text": [
      "DataFrame is written to Excel File successfully.\n"
     ]
    }
   ],
   "source": [
    "# writing to Excel\n",
    "datatoexcel = pd.ExcelWriter('UGC Sentiment Data.xlsx')\n",
    "  \n",
    "# write DataFrame to excel\n",
    "df.to_excel(datatoexcel)\n",
    "  \n",
    "# save the excel\n",
    "datatoexcel.save()\n",
    "print('DataFrame is written to Excel File successfully.')"
   ]
  },
  {
   "cell_type": "code",
   "execution_count": 118,
   "id": "e7dcac16",
   "metadata": {},
   "outputs": [
    {
     "data": {
      "text/html": [
       "<div>\n",
       "<style scoped>\n",
       "    .dataframe tbody tr th:only-of-type {\n",
       "        vertical-align: middle;\n",
       "    }\n",
       "\n",
       "    .dataframe tbody tr th {\n",
       "        vertical-align: top;\n",
       "    }\n",
       "\n",
       "    .dataframe thead th {\n",
       "        text-align: right;\n",
       "    }\n",
       "</style>\n",
       "<table border=\"1\" class=\"dataframe\">\n",
       "  <thead>\n",
       "    <tr style=\"text-align: right;\">\n",
       "      <th></th>\n",
       "      <th>Source</th>\n",
       "      <th>Date</th>\n",
       "      <th>Statement</th>\n",
       "      <th>Language</th>\n",
       "      <th>Review/Comment</th>\n",
       "      <th>sentiment</th>\n",
       "      <th>confidence</th>\n",
       "    </tr>\n",
       "  </thead>\n",
       "  <tbody>\n",
       "    <tr>\n",
       "      <th>7</th>\n",
       "      <td>FB Page</td>\n",
       "      <td>30/09/2019</td>\n",
       "      <td>Nothing. A total disgrace, nobody knows what's...</td>\n",
       "      <td>English</td>\n",
       "      <td>Review</td>\n",
       "      <td>NEGATIVE</td>\n",
       "      <td>0.999998</td>\n",
       "    </tr>\n",
       "    <tr>\n",
       "      <th>10</th>\n",
       "      <td>FB Page</td>\n",
       "      <td>02/11/2019</td>\n",
       "      <td>Meter readers a total disgrace. How come do I ...</td>\n",
       "      <td>English</td>\n",
       "      <td>Review</td>\n",
       "      <td>NEGATIVE</td>\n",
       "      <td>0.999997</td>\n",
       "    </tr>\n",
       "    <tr>\n",
       "      <th>39</th>\n",
       "      <td>FB Page</td>\n",
       "      <td>08/09/2020</td>\n",
       "      <td>Arms are a total disgrace. About 2 years ago t...</td>\n",
       "      <td>English</td>\n",
       "      <td>Comment</td>\n",
       "      <td>NEGATIVE</td>\n",
       "      <td>0.999996</td>\n",
       "    </tr>\n",
       "    <tr>\n",
       "      <th>145</th>\n",
       "      <td>Google Play</td>\n",
       "      <td>27/12/2020</td>\n",
       "      <td>Is it possible to give no stars? Terrible app....</td>\n",
       "      <td>English</td>\n",
       "      <td>Review</td>\n",
       "      <td>NEGATIVE</td>\n",
       "      <td>0.999996</td>\n",
       "    </tr>\n",
       "    <tr>\n",
       "      <th>27</th>\n",
       "      <td>Google Reviews Valletta</td>\n",
       "      <td>06/09/2019</td>\n",
       "      <td>Worst customer service ever. No reply to email...</td>\n",
       "      <td>English</td>\n",
       "      <td>Review</td>\n",
       "      <td>NEGATIVE</td>\n",
       "      <td>0.999995</td>\n",
       "    </tr>\n",
       "    <tr>\n",
       "      <th>...</th>\n",
       "      <td>...</td>\n",
       "      <td>...</td>\n",
       "      <td>...</td>\n",
       "      <td>...</td>\n",
       "      <td>...</td>\n",
       "      <td>...</td>\n",
       "      <td>...</td>\n",
       "    </tr>\n",
       "    <tr>\n",
       "      <th>82</th>\n",
       "      <td>FB Page</td>\n",
       "      <td>22/07/2020</td>\n",
       "      <td>It's best if you send a good bill</td>\n",
       "      <td>Maltese</td>\n",
       "      <td>Comment</td>\n",
       "      <td>NEGATIVE</td>\n",
       "      <td>0.629159</td>\n",
       "    </tr>\n",
       "    <tr>\n",
       "      <th>107</th>\n",
       "      <td>FB Page</td>\n",
       "      <td>27/03/2020</td>\n",
       "      <td>Help us by suspending bills for now!!!!PLEASE</td>\n",
       "      <td>English</td>\n",
       "      <td>Comment</td>\n",
       "      <td>NEGATIVE</td>\n",
       "      <td>0.612130</td>\n",
       "    </tr>\n",
       "    <tr>\n",
       "      <th>159</th>\n",
       "      <td>revieweuro.com</td>\n",
       "      <td>07/02/2019</td>\n",
       "      <td>Organized although long wait depending on time...</td>\n",
       "      <td>English</td>\n",
       "      <td>Review</td>\n",
       "      <td>NEGATIVE</td>\n",
       "      <td>0.588481</td>\n",
       "    </tr>\n",
       "    <tr>\n",
       "      <th>35</th>\n",
       "      <td>Google Reviews Hamrun</td>\n",
       "      <td>06/09/2019</td>\n",
       "      <td>LONG waiting time. Sometimes you wait for hour...</td>\n",
       "      <td>Italian</td>\n",
       "      <td>Review</td>\n",
       "      <td>NEGATIVE</td>\n",
       "      <td>0.527446</td>\n",
       "    </tr>\n",
       "    <tr>\n",
       "      <th>161</th>\n",
       "      <td>revieweuro.com</td>\n",
       "      <td>22/07/2019</td>\n",
       "      <td>LONG waiting time. Sometimes you wait for hour...</td>\n",
       "      <td>English</td>\n",
       "      <td>Review</td>\n",
       "      <td>NEGATIVE</td>\n",
       "      <td>0.527446</td>\n",
       "    </tr>\n",
       "  </tbody>\n",
       "</table>\n",
       "<p>126 rows × 7 columns</p>\n",
       "</div>"
      ],
      "text/plain": [
       "                      Source        Date  \\\n",
       "7                    FB Page  30/09/2019   \n",
       "10                   FB Page  02/11/2019   \n",
       "39                   FB Page  08/09/2020   \n",
       "145              Google Play  27/12/2020   \n",
       "27   Google Reviews Valletta  06/09/2019   \n",
       "..                       ...         ...   \n",
       "82                   FB Page  22/07/2020   \n",
       "107                  FB Page  27/03/2020   \n",
       "159           revieweuro.com  07/02/2019   \n",
       "35     Google Reviews Hamrun  06/09/2019   \n",
       "161           revieweuro.com  22/07/2019   \n",
       "\n",
       "                                             Statement Language  \\\n",
       "7    Nothing. A total disgrace, nobody knows what's...  English   \n",
       "10   Meter readers a total disgrace. How come do I ...  English   \n",
       "39   Arms are a total disgrace. About 2 years ago t...  English   \n",
       "145  Is it possible to give no stars? Terrible app....  English   \n",
       "27   Worst customer service ever. No reply to email...  English   \n",
       "..                                                 ...      ...   \n",
       "82                   It's best if you send a good bill  Maltese   \n",
       "107      Help us by suspending bills for now!!!!PLEASE  English   \n",
       "159  Organized although long wait depending on time...  English   \n",
       "35   LONG waiting time. Sometimes you wait for hour...  Italian   \n",
       "161  LONG waiting time. Sometimes you wait for hour...  English   \n",
       "\n",
       "    Review/Comment sentiment  confidence  \n",
       "7           Review  NEGATIVE    0.999998  \n",
       "10          Review  NEGATIVE    0.999997  \n",
       "39         Comment  NEGATIVE    0.999996  \n",
       "145         Review  NEGATIVE    0.999996  \n",
       "27          Review  NEGATIVE    0.999995  \n",
       "..             ...       ...         ...  \n",
       "82         Comment  NEGATIVE    0.629159  \n",
       "107        Comment  NEGATIVE    0.612130  \n",
       "159         Review  NEGATIVE    0.588481  \n",
       "35          Review  NEGATIVE    0.527446  \n",
       "161         Review  NEGATIVE    0.527446  \n",
       "\n",
       "[126 rows x 7 columns]"
      ]
     },
     "execution_count": 118,
     "metadata": {},
     "output_type": "execute_result"
    }
   ],
   "source": [
    "#Select the top 5 responses with the worst sentiment scores\n",
    "df = df.loc[df['sentiment'] == 'NEGATIVE']\n",
    "df = df.sort_values(by=['confidence'], ascending=False)\n",
    "df"
   ]
  },
  {
   "cell_type": "code",
   "execution_count": 120,
   "id": "4099a710",
   "metadata": {},
   "outputs": [
    {
     "data": {
      "text/plain": [
       "7                                                                                                                                                                                                                                                                                                                                                                                                                                                                                                                                                                                                                                                                                                                                                                                                                                                                                                    Nothing. A total disgrace, nobody knows what's going on. For months I called, emailed and yet still no answer. Best thing to do is to figure things out yourself.\n",
       "10                                                                                                                                                                                                                                                                                                                                                                                                                                                                                                                                                                                                                                                                                                         Meter readers a total disgrace. How come do I need to open for readers when meqters can be read centrally or from outside my property? today meter reader came at 7:45, not even the chance to put a shirt on, when I opened the door he was gone and I looked for him around the block so I tried to search for him just in case. sparixxa in two minutes.\n",
       "39     Arms are a total disgrace. About 2 years ago they didn’t send me bills for 2 years and after going for about 7 times to their Valletta offices a certain Mr Paul Azzopardi managed to find out a mistake when they typed ‘Trejqa’ instead of Triq (their mistake) have had the same address for 40 years now and they charged me interest. A second time I found that they put 0 as persons on the bill instead of 1 and had to go several times to their Valletta offices and after a lot of hassles I was refunded with the extra money I had paid. It was well over 200 Euros. Now again, I hadn’t received a bill since January. Now a bill arrived period January to April 2020. After paying it by internet banking, (because I always pay on time) I checked the bill again and found that there was a previous invoice which was dated ‘March’ and which I never received, repeat, never received and they charged me 37c interest on this bill. I will be reporting this incident to the Consumers Authority. Arms Ltd.......shoddy service indeed!!!!\n",
       "145                                                                                                                                                                                                                                                                                                                                                                                                                                                                                                                                                                                                                                                                                                                                                                                                                                                             Is it possible to give no stars? Terrible app. Doesn't log in even though I'm using username and password from my chrome password manager. The website isn't much better either but this is ridiculous\n",
       "27                                                                                                                                                                                                                                                                                                                                                                                                                                                                                                                                                                                                                                                                                                                                                                                                                                                                                                                                                                          Worst customer service ever. No reply to emails, cannot even connect via call. Hopeless..!\n",
       "                                                                                                                                                                                                                                                                                                                                                                                                                                                                                                                                    ...                                                                                                                                                                                                                                                                                                                                                                                                                                                                                                                               \n",
       "82                                                                                                                                                                                                                                                                                                                                                                                                                                                                                                                                                                                                                                                                                                                                                                                                                                                                                                                                                                                                                                   It's best if you send a good bill\n",
       "107                                                                                                                                                                                                                                                                                                                                                                                                                                                                                                                                                                                                                                                                                                                                                                                                                                                                                                                                                                                                                      Help us by suspending bills for now!!!!PLEASE\n",
       "159                                                                                                                                                                                                                                                                                                                                                                                                                                                                                                                                                                                                                                                                                                                                                                                                                                                                                                                                                                                                             Organized although long wait depending on time of day.\n",
       "35                                                                                                                                                                                                                                                                                                                                                                                                                                                                                                                                                                                                                                                                                                                                                                                                                                                                                                                                            LONG waiting time. Sometimes you wait for hours while the customer care assistants are taking their lunch break outside.\n",
       "161                                                                                                                                                                                                                                                                                                                                                                                                                                                                                                                                                                                                                                                                                                                                                                                                                                                                                                                                           LONG waiting time. Sometimes you wait for hours while the customer care assistants are taking their lunch break outside.\n",
       "Name: Statement, Length: 126, dtype: object"
      ]
     },
     "execution_count": 120,
     "metadata": {},
     "output_type": "execute_result"
    }
   ],
   "source": [
    "#close up of top 5 worst statements with the worst sentiment scores\n",
    "pd.set_option('display.max_colwidth', None)\n",
    "df['Statement']"
   ]
  }
 ],
 "metadata": {
  "kernelspec": {
   "display_name": "Python 3",
   "language": "python",
   "name": "python3"
  },
  "language_info": {
   "codemirror_mode": {
    "name": "ipython",
    "version": 3
   },
   "file_extension": ".py",
   "mimetype": "text/x-python",
   "name": "python",
   "nbconvert_exporter": "python",
   "pygments_lexer": "ipython3",
   "version": "3.8.8"
  }
 },
 "nbformat": 4,
 "nbformat_minor": 5
}

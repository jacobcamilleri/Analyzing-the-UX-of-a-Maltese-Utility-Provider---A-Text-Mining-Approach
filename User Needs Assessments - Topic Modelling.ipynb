{
 "cells": [
  {
   "cell_type": "markdown",
   "id": "3720e365",
   "metadata": {},
   "source": [
    "# All PPTs"
   ]
  },
  {
   "cell_type": "code",
   "execution_count": 48,
   "id": "e86097b8",
   "metadata": {},
   "outputs": [
    {
     "name": "stderr",
     "output_type": "stream",
     "text": [
      "[nltk_data] Downloading package stopwords to /Users/Owner/nltk_data...\n",
      "[nltk_data]   Package stopwords is already up-to-date!\n"
     ]
    },
    {
     "data": {
      "text/plain": [
       "True"
      ]
     },
     "execution_count": 48,
     "metadata": {},
     "output_type": "execute_result"
    }
   ],
   "source": [
    "import nltk; nltk.download('stopwords')"
   ]
  },
  {
   "cell_type": "code",
   "execution_count": 49,
   "id": "25dc5964",
   "metadata": {},
   "outputs": [
    {
     "name": "stdout",
     "output_type": "stream",
     "text": [
      "Requirement already satisfied: gensim in /Users/Owner/anaconda3/lib/python3.8/site-packages (4.1.2)\n",
      "Requirement already satisfied: numpy>=1.17.0 in /Users/Owner/anaconda3/lib/python3.8/site-packages (from gensim) (1.20.1)\n",
      "Requirement already satisfied: smart-open>=1.8.1 in /Users/Owner/anaconda3/lib/python3.8/site-packages (from gensim) (5.2.1)\n",
      "Requirement already satisfied: scipy>=0.18.1 in /Users/Owner/anaconda3/lib/python3.8/site-packages (from gensim) (1.6.2)\n",
      "Requirement already satisfied: spacy in /Users/Owner/anaconda3/lib/python3.8/site-packages (3.2.0)\n",
      "Requirement already satisfied: srsly<3.0.0,>=2.4.1 in /Users/Owner/anaconda3/lib/python3.8/site-packages (from spacy) (2.4.1)\n",
      "Requirement already satisfied: pathy>=0.3.5 in /Users/Owner/anaconda3/lib/python3.8/site-packages (from spacy) (0.6.0)\n",
      "Requirement already satisfied: pydantic!=1.8,!=1.8.1,<1.9.0,>=1.7.4 in /Users/Owner/anaconda3/lib/python3.8/site-packages (from spacy) (1.8.2)\n",
      "Requirement already satisfied: requests<3.0.0,>=2.13.0 in /Users/Owner/anaconda3/lib/python3.8/site-packages (from spacy) (2.25.1)\n",
      "Requirement already satisfied: setuptools in /Users/Owner/anaconda3/lib/python3.8/site-packages (from spacy) (59.1.1)\n",
      "Requirement already satisfied: thinc<8.1.0,>=8.0.12 in /Users/Owner/anaconda3/lib/python3.8/site-packages (from spacy) (8.0.13)\n",
      "Requirement already satisfied: blis<0.8.0,>=0.4.0 in /Users/Owner/anaconda3/lib/python3.8/site-packages (from spacy) (0.7.4)\n",
      "Requirement already satisfied: murmurhash<1.1.0,>=0.28.0 in /Users/Owner/anaconda3/lib/python3.8/site-packages (from spacy) (1.0.5)\n",
      "Requirement already satisfied: catalogue<2.1.0,>=2.0.6 in /Users/Owner/anaconda3/lib/python3.8/site-packages (from spacy) (2.0.6)\n",
      "Requirement already satisfied: wasabi<1.1.0,>=0.8.1 in /Users/Owner/anaconda3/lib/python3.8/site-packages (from spacy) (0.8.2)\n",
      "Requirement already satisfied: typer<0.5.0,>=0.3.0 in /Users/Owner/anaconda3/lib/python3.8/site-packages (from spacy) (0.4.0)\n",
      "Requirement already satisfied: spacy-legacy<3.1.0,>=3.0.8 in /Users/Owner/anaconda3/lib/python3.8/site-packages (from spacy) (3.0.8)\n",
      "Requirement already satisfied: jinja2 in /Users/Owner/anaconda3/lib/python3.8/site-packages (from spacy) (2.11.3)\n",
      "Requirement already satisfied: tqdm<5.0.0,>=4.38.0 in /Users/Owner/anaconda3/lib/python3.8/site-packages (from spacy) (4.59.0)\n",
      "Requirement already satisfied: numpy>=1.15.0 in /Users/Owner/anaconda3/lib/python3.8/site-packages (from spacy) (1.20.1)\n",
      "Requirement already satisfied: preshed<3.1.0,>=3.0.2 in /Users/Owner/anaconda3/lib/python3.8/site-packages (from spacy) (3.0.5)\n",
      "Requirement already satisfied: langcodes<4.0.0,>=3.2.0 in /Users/Owner/anaconda3/lib/python3.8/site-packages (from spacy) (3.2.1)\n",
      "Requirement already satisfied: packaging>=20.0 in /Users/Owner/anaconda3/lib/python3.8/site-packages (from spacy) (20.9)\n",
      "Requirement already satisfied: spacy-loggers<2.0.0,>=1.0.0 in /Users/Owner/anaconda3/lib/python3.8/site-packages (from spacy) (1.0.1)\n",
      "Requirement already satisfied: cymem<2.1.0,>=2.0.2 in /Users/Owner/anaconda3/lib/python3.8/site-packages (from spacy) (2.0.5)\n",
      "Requirement already satisfied: pyparsing>=2.0.2 in /Users/Owner/anaconda3/lib/python3.8/site-packages (from packaging>=20.0->spacy) (2.4.7)\n",
      "Requirement already satisfied: smart-open<6.0.0,>=5.0.0 in /Users/Owner/anaconda3/lib/python3.8/site-packages (from pathy>=0.3.5->spacy) (5.2.1)\n",
      "Requirement already satisfied: typing-extensions>=3.7.4.3 in /Users/Owner/anaconda3/lib/python3.8/site-packages (from pydantic!=1.8,!=1.8.1,<1.9.0,>=1.7.4->spacy) (3.7.4.3)\n",
      "Requirement already satisfied: urllib3<1.27,>=1.21.1 in /Users/Owner/anaconda3/lib/python3.8/site-packages (from requests<3.0.0,>=2.13.0->spacy) (1.26.4)\n",
      "Requirement already satisfied: idna<3,>=2.5 in /Users/Owner/anaconda3/lib/python3.8/site-packages (from requests<3.0.0,>=2.13.0->spacy) (2.10)\n",
      "Requirement already satisfied: certifi>=2017.4.17 in /Users/Owner/anaconda3/lib/python3.8/site-packages (from requests<3.0.0,>=2.13.0->spacy) (2020.12.5)\n",
      "Requirement already satisfied: chardet<5,>=3.0.2 in /Users/Owner/anaconda3/lib/python3.8/site-packages (from requests<3.0.0,>=2.13.0->spacy) (4.0.0)\n",
      "Requirement already satisfied: click<9.0.0,>=7.1.1 in /Users/Owner/anaconda3/lib/python3.8/site-packages (from typer<0.5.0,>=0.3.0->spacy) (7.1.2)\n",
      "Requirement already satisfied: MarkupSafe>=0.23 in /Users/Owner/anaconda3/lib/python3.8/site-packages (from jinja2->spacy) (1.1.1)\n",
      "Requirement already satisfied: pip in /Users/Owner/anaconda3/lib/python3.8/site-packages (21.3.1)\n",
      "Requirement already satisfied: setuptools in /Users/Owner/anaconda3/lib/python3.8/site-packages (59.1.1)\n",
      "Requirement already satisfied: wheel in /Users/Owner/anaconda3/lib/python3.8/site-packages (0.37.0)\n",
      "Requirement already satisfied: pyldavis in /Users/Owner/anaconda3/lib/python3.8/site-packages (3.2.1)\n",
      "Requirement already satisfied: funcy in /Users/Owner/anaconda3/lib/python3.8/site-packages (from pyldavis) (1.16)\n",
      "Requirement already satisfied: scipy>=0.18.0 in /Users/Owner/anaconda3/lib/python3.8/site-packages (from pyldavis) (1.6.2)\n",
      "Requirement already satisfied: jinja2>=2.7.2 in /Users/Owner/anaconda3/lib/python3.8/site-packages (from pyldavis) (2.11.3)\n",
      "Requirement already satisfied: pandas>=0.17.0 in /Users/Owner/anaconda3/lib/python3.8/site-packages (from pyldavis) (1.2.4)\n",
      "Requirement already satisfied: joblib>=0.8.4 in /Users/Owner/anaconda3/lib/python3.8/site-packages (from pyldavis) (1.0.1)\n",
      "Requirement already satisfied: wheel>=0.23.0 in /Users/Owner/anaconda3/lib/python3.8/site-packages (from pyldavis) (0.37.0)\n",
      "Requirement already satisfied: future in /Users/Owner/anaconda3/lib/python3.8/site-packages (from pyldavis) (0.18.2)\n",
      "Requirement already satisfied: numpy>=1.9.2 in /Users/Owner/anaconda3/lib/python3.8/site-packages (from pyldavis) (1.20.1)\n",
      "Requirement already satisfied: numexpr in /Users/Owner/anaconda3/lib/python3.8/site-packages (from pyldavis) (2.7.3)\n",
      "Requirement already satisfied: MarkupSafe>=0.23 in /Users/Owner/anaconda3/lib/python3.8/site-packages (from jinja2>=2.7.2->pyldavis) (1.1.1)\n",
      "Requirement already satisfied: python-dateutil>=2.7.3 in /Users/Owner/anaconda3/lib/python3.8/site-packages (from pandas>=0.17.0->pyldavis) (2.8.1)\n",
      "Requirement already satisfied: pytz>=2017.3 in /Users/Owner/anaconda3/lib/python3.8/site-packages (from pandas>=0.17.0->pyldavis) (2021.1)\n",
      "Requirement already satisfied: six>=1.5 in /Users/Owner/anaconda3/lib/python3.8/site-packages (from python-dateutil>=2.7.3->pandas>=0.17.0->pyldavis) (1.15.0)\n"
     ]
    }
   ],
   "source": [
    "!pip install --upgrade gensim\n",
    "!pip install -U spacy\n",
    "!pip install -U pip setuptools wheel\n",
    "!pip install pyldavis"
   ]
  },
  {
   "cell_type": "code",
   "execution_count": 50,
   "id": "1882916f",
   "metadata": {},
   "outputs": [
    {
     "name": "stdout",
     "output_type": "stream",
     "text": [
      "Collecting en-core-web-sm==3.2.0\n",
      "  Downloading https://github.com/explosion/spacy-models/releases/download/en_core_web_sm-3.2.0/en_core_web_sm-3.2.0-py3-none-any.whl (13.9 MB)\n",
      "     |████████████████████████████████| 13.9 MB 6.1 MB/s            \n",
      "\u001b[?25hRequirement already satisfied: spacy<3.3.0,>=3.2.0 in /Users/Owner/anaconda3/lib/python3.8/site-packages (from en-core-web-sm==3.2.0) (3.2.0)\n",
      "Requirement already satisfied: jinja2 in /Users/Owner/anaconda3/lib/python3.8/site-packages (from spacy<3.3.0,>=3.2.0->en-core-web-sm==3.2.0) (2.11.3)\n",
      "Requirement already satisfied: blis<0.8.0,>=0.4.0 in /Users/Owner/anaconda3/lib/python3.8/site-packages (from spacy<3.3.0,>=3.2.0->en-core-web-sm==3.2.0) (0.7.4)\n",
      "Requirement already satisfied: setuptools in /Users/Owner/anaconda3/lib/python3.8/site-packages (from spacy<3.3.0,>=3.2.0->en-core-web-sm==3.2.0) (59.1.1)\n",
      "Requirement already satisfied: tqdm<5.0.0,>=4.38.0 in /Users/Owner/anaconda3/lib/python3.8/site-packages (from spacy<3.3.0,>=3.2.0->en-core-web-sm==3.2.0) (4.59.0)\n",
      "Requirement already satisfied: spacy-loggers<2.0.0,>=1.0.0 in /Users/Owner/anaconda3/lib/python3.8/site-packages (from spacy<3.3.0,>=3.2.0->en-core-web-sm==3.2.0) (1.0.1)\n",
      "Requirement already satisfied: spacy-legacy<3.1.0,>=3.0.8 in /Users/Owner/anaconda3/lib/python3.8/site-packages (from spacy<3.3.0,>=3.2.0->en-core-web-sm==3.2.0) (3.0.8)\n",
      "Requirement already satisfied: cymem<2.1.0,>=2.0.2 in /Users/Owner/anaconda3/lib/python3.8/site-packages (from spacy<3.3.0,>=3.2.0->en-core-web-sm==3.2.0) (2.0.5)\n",
      "Requirement already satisfied: pathy>=0.3.5 in /Users/Owner/anaconda3/lib/python3.8/site-packages (from spacy<3.3.0,>=3.2.0->en-core-web-sm==3.2.0) (0.6.0)\n",
      "Requirement already satisfied: srsly<3.0.0,>=2.4.1 in /Users/Owner/anaconda3/lib/python3.8/site-packages (from spacy<3.3.0,>=3.2.0->en-core-web-sm==3.2.0) (2.4.1)\n",
      "Requirement already satisfied: packaging>=20.0 in /Users/Owner/anaconda3/lib/python3.8/site-packages (from spacy<3.3.0,>=3.2.0->en-core-web-sm==3.2.0) (20.9)\n",
      "Requirement already satisfied: thinc<8.1.0,>=8.0.12 in /Users/Owner/anaconda3/lib/python3.8/site-packages (from spacy<3.3.0,>=3.2.0->en-core-web-sm==3.2.0) (8.0.13)\n",
      "Requirement already satisfied: wasabi<1.1.0,>=0.8.1 in /Users/Owner/anaconda3/lib/python3.8/site-packages (from spacy<3.3.0,>=3.2.0->en-core-web-sm==3.2.0) (0.8.2)\n",
      "Requirement already satisfied: langcodes<4.0.0,>=3.2.0 in /Users/Owner/anaconda3/lib/python3.8/site-packages (from spacy<3.3.0,>=3.2.0->en-core-web-sm==3.2.0) (3.2.1)\n",
      "Requirement already satisfied: preshed<3.1.0,>=3.0.2 in /Users/Owner/anaconda3/lib/python3.8/site-packages (from spacy<3.3.0,>=3.2.0->en-core-web-sm==3.2.0) (3.0.5)\n",
      "Requirement already satisfied: requests<3.0.0,>=2.13.0 in /Users/Owner/anaconda3/lib/python3.8/site-packages (from spacy<3.3.0,>=3.2.0->en-core-web-sm==3.2.0) (2.25.1)\n",
      "Requirement already satisfied: pydantic!=1.8,!=1.8.1,<1.9.0,>=1.7.4 in /Users/Owner/anaconda3/lib/python3.8/site-packages (from spacy<3.3.0,>=3.2.0->en-core-web-sm==3.2.0) (1.8.2)\n",
      "Requirement already satisfied: murmurhash<1.1.0,>=0.28.0 in /Users/Owner/anaconda3/lib/python3.8/site-packages (from spacy<3.3.0,>=3.2.0->en-core-web-sm==3.2.0) (1.0.5)\n",
      "Requirement already satisfied: numpy>=1.15.0 in /Users/Owner/anaconda3/lib/python3.8/site-packages (from spacy<3.3.0,>=3.2.0->en-core-web-sm==3.2.0) (1.20.1)\n",
      "Requirement already satisfied: catalogue<2.1.0,>=2.0.6 in /Users/Owner/anaconda3/lib/python3.8/site-packages (from spacy<3.3.0,>=3.2.0->en-core-web-sm==3.2.0) (2.0.6)\n",
      "Requirement already satisfied: typer<0.5.0,>=0.3.0 in /Users/Owner/anaconda3/lib/python3.8/site-packages (from spacy<3.3.0,>=3.2.0->en-core-web-sm==3.2.0) (0.4.0)\n",
      "Requirement already satisfied: pyparsing>=2.0.2 in /Users/Owner/anaconda3/lib/python3.8/site-packages (from packaging>=20.0->spacy<3.3.0,>=3.2.0->en-core-web-sm==3.2.0) (2.4.7)\n",
      "Requirement already satisfied: smart-open<6.0.0,>=5.0.0 in /Users/Owner/anaconda3/lib/python3.8/site-packages (from pathy>=0.3.5->spacy<3.3.0,>=3.2.0->en-core-web-sm==3.2.0) (5.2.1)\n",
      "Requirement already satisfied: typing-extensions>=3.7.4.3 in /Users/Owner/anaconda3/lib/python3.8/site-packages (from pydantic!=1.8,!=1.8.1,<1.9.0,>=1.7.4->spacy<3.3.0,>=3.2.0->en-core-web-sm==3.2.0) (3.7.4.3)\n",
      "Requirement already satisfied: urllib3<1.27,>=1.21.1 in /Users/Owner/anaconda3/lib/python3.8/site-packages (from requests<3.0.0,>=2.13.0->spacy<3.3.0,>=3.2.0->en-core-web-sm==3.2.0) (1.26.4)\n",
      "Requirement already satisfied: certifi>=2017.4.17 in /Users/Owner/anaconda3/lib/python3.8/site-packages (from requests<3.0.0,>=2.13.0->spacy<3.3.0,>=3.2.0->en-core-web-sm==3.2.0) (2020.12.5)\n",
      "Requirement already satisfied: idna<3,>=2.5 in /Users/Owner/anaconda3/lib/python3.8/site-packages (from requests<3.0.0,>=2.13.0->spacy<3.3.0,>=3.2.0->en-core-web-sm==3.2.0) (2.10)\n",
      "Requirement already satisfied: chardet<5,>=3.0.2 in /Users/Owner/anaconda3/lib/python3.8/site-packages (from requests<3.0.0,>=2.13.0->spacy<3.3.0,>=3.2.0->en-core-web-sm==3.2.0) (4.0.0)\n",
      "Requirement already satisfied: click<9.0.0,>=7.1.1 in /Users/Owner/anaconda3/lib/python3.8/site-packages (from typer<0.5.0,>=0.3.0->spacy<3.3.0,>=3.2.0->en-core-web-sm==3.2.0) (7.1.2)\n",
      "Requirement already satisfied: MarkupSafe>=0.23 in /Users/Owner/anaconda3/lib/python3.8/site-packages (from jinja2->spacy<3.3.0,>=3.2.0->en-core-web-sm==3.2.0) (1.1.1)\n",
      "\u001b[38;5;2m✔ Download and installation successful\u001b[0m\n",
      "You can now load the package via spacy.load('en_core_web_sm')\n"
     ]
    }
   ],
   "source": [
    "!python3 -m spacy download en_core_web_sm"
   ]
  },
  {
   "cell_type": "code",
   "execution_count": 51,
   "id": "4292d706",
   "metadata": {},
   "outputs": [
    {
     "name": "stdout",
     "output_type": "stream",
     "text": [
      "Requirement already satisfied: pyLDAvis==3.2.1 in /Users/Owner/anaconda3/lib/python3.8/site-packages (3.2.1)\n",
      "Requirement already satisfied: numpy>=1.9.2 in /Users/Owner/anaconda3/lib/python3.8/site-packages (from pyLDAvis==3.2.1) (1.20.1)\n",
      "Requirement already satisfied: wheel>=0.23.0 in /Users/Owner/anaconda3/lib/python3.8/site-packages (from pyLDAvis==3.2.1) (0.37.0)\n",
      "Requirement already satisfied: numexpr in /Users/Owner/anaconda3/lib/python3.8/site-packages (from pyLDAvis==3.2.1) (2.7.3)\n",
      "Requirement already satisfied: pandas>=0.17.0 in /Users/Owner/anaconda3/lib/python3.8/site-packages (from pyLDAvis==3.2.1) (1.2.4)\n",
      "Requirement already satisfied: funcy in /Users/Owner/anaconda3/lib/python3.8/site-packages (from pyLDAvis==3.2.1) (1.16)\n",
      "Requirement already satisfied: scipy>=0.18.0 in /Users/Owner/anaconda3/lib/python3.8/site-packages (from pyLDAvis==3.2.1) (1.6.2)\n",
      "Requirement already satisfied: jinja2>=2.7.2 in /Users/Owner/anaconda3/lib/python3.8/site-packages (from pyLDAvis==3.2.1) (2.11.3)\n",
      "Requirement already satisfied: joblib>=0.8.4 in /Users/Owner/anaconda3/lib/python3.8/site-packages (from pyLDAvis==3.2.1) (1.0.1)\n",
      "Requirement already satisfied: future in /Users/Owner/anaconda3/lib/python3.8/site-packages (from pyLDAvis==3.2.1) (0.18.2)\n",
      "Requirement already satisfied: MarkupSafe>=0.23 in /Users/Owner/anaconda3/lib/python3.8/site-packages (from jinja2>=2.7.2->pyLDAvis==3.2.1) (1.1.1)\n",
      "Requirement already satisfied: python-dateutil>=2.7.3 in /Users/Owner/anaconda3/lib/python3.8/site-packages (from pandas>=0.17.0->pyLDAvis==3.2.1) (2.8.1)\n",
      "Requirement already satisfied: pytz>=2017.3 in /Users/Owner/anaconda3/lib/python3.8/site-packages (from pandas>=0.17.0->pyLDAvis==3.2.1) (2021.1)\n",
      "Requirement already satisfied: six>=1.5 in /Users/Owner/anaconda3/lib/python3.8/site-packages (from python-dateutil>=2.7.3->pandas>=0.17.0->pyLDAvis==3.2.1) (1.15.0)\n"
     ]
    }
   ],
   "source": [
    "!pip install pyLDAvis==3.2.1"
   ]
  },
  {
   "cell_type": "code",
   "execution_count": 52,
   "id": "5091b3da",
   "metadata": {},
   "outputs": [],
   "source": [
    "import re\n",
    "import numpy as np\n",
    "import pandas as pd\n",
    "from pprint import pprint\n",
    "\n",
    "import gensim\n",
    "import gensim.models\n",
    "import gensim.corpora as corpora\n",
    "from gensim.utils import simple_preprocess\n",
    "from gensim.models import CoherenceModel\n",
    "\n",
    "import spacy\n",
    "\n",
    "import pyLDAvis\n",
    "import pyLDAvis.gensim  # don't skip this\n",
    "import matplotlib.pyplot as plt\n",
    "%matplotlib inline\n",
    "\n",
    "import logging\n",
    "logging.basicConfig(format='%(asctime)s : %(levelname)s : %(message)s', level=logging.ERROR)\n",
    "\n",
    "import warnings\n",
    "warnings.filterwarnings(\"ignore\",category=DeprecationWarning)"
   ]
  },
  {
   "cell_type": "code",
   "execution_count": 53,
   "id": "4f073527",
   "metadata": {},
   "outputs": [],
   "source": [
    "# NLTK Stop words\n",
    "from nltk.corpus import stopwords\n",
    "stop_words = stopwords.words('english')\n",
    "stop_words.extend(['from', 'subject', 're', 'edu', 'use'])"
   ]
  },
  {
   "cell_type": "code",
   "execution_count": 54,
   "id": "6227b843",
   "metadata": {},
   "outputs": [],
   "source": [
    "all = pd.read_csv('User Needs Assessments Data.csv')\n",
    "all = all.loc[all['Person'] != 'Interviewer']"
   ]
  },
  {
   "cell_type": "code",
   "execution_count": 55,
   "id": "0d8656f4",
   "metadata": {},
   "outputs": [
    {
     "name": "stdout",
     "output_type": "stream",
     "text": [
      "[['to', 'pay', 'monthly', 'utility', 'both', 'electricity', 'and', 'water']]\n"
     ]
    }
   ],
   "source": [
    "#tokenize words and clean text\n",
    "def sent_to_words(sentences):\n",
    "    for sentence in sentences:\n",
    "        yield(gensim.utils.simple_preprocess(str(sentence), deacc=True))  # deacc=True removes punctuations\n",
    "\n",
    "data_words = list(sent_to_words(all['Question/Answer']))\n",
    "\n",
    "print(data_words[:1])"
   ]
  },
  {
   "cell_type": "code",
   "execution_count": 56,
   "id": "ac5267ef",
   "metadata": {},
   "outputs": [
    {
     "name": "stdout",
     "output_type": "stream",
     "text": [
      "['to', 'pay', 'monthly', 'utility', 'both', 'electricity', 'and', 'water']\n"
     ]
    }
   ],
   "source": [
    "# Build the bigram and trigram models\n",
    "bigram = gensim.models.Phrases(data_words, min_count=5, threshold=100) # higher threshold fewer phrases.\n",
    "trigram = gensim.models.Phrases(bigram[data_words], threshold=100)  \n",
    "\n",
    "# Faster way to get a sentence clubbed as a trigram/bigram\n",
    "bigram_mod = gensim.models.phrases.Phraser(bigram)\n",
    "trigram_mod = gensim.models.phrases.Phraser(trigram)\n",
    "\n",
    "# See trigram example\n",
    "print(trigram_mod[bigram_mod[data_words[0]]])"
   ]
  },
  {
   "cell_type": "code",
   "execution_count": 57,
   "id": "d782e3fe",
   "metadata": {},
   "outputs": [],
   "source": [
    "# Define functions for stopwords, bigrams, trigrams and lemmatization\n",
    "def remove_stopwords(texts):\n",
    "    return [[word for word in simple_preprocess(str(doc)) if word not in stop_words] for doc in texts]\n",
    "\n",
    "def make_bigrams(texts):\n",
    "    return [bigram_mod[doc] for doc in texts]\n",
    "\n",
    "def make_trigrams(texts):\n",
    "    return [trigram_mod[bigram_mod[doc]] for doc in texts]\n",
    "\n",
    "def lemmatization(texts, allowed_postags=['NOUN', 'ADJ', 'VERB', 'ADV']):\n",
    "    \"\"\"https://spacy.io/api/annotation\"\"\"\n",
    "    texts_out = []\n",
    "    for sent in texts:\n",
    "        doc = nlp(\" \".join(sent)) \n",
    "        texts_out.append([token.lemma_ for token in doc if token.pos_ in allowed_postags])\n",
    "    return texts_out"
   ]
  },
  {
   "cell_type": "code",
   "execution_count": 58,
   "id": "477567b3",
   "metadata": {},
   "outputs": [
    {
     "name": "stdout",
     "output_type": "stream",
     "text": [
      "[['pay', 'monthly', 'utility', 'electricity', 'water']]\n"
     ]
    }
   ],
   "source": [
    "# Remove Stop Words\n",
    "data_words_nostops = remove_stopwords(data_words)\n",
    "\n",
    "# Form Bigrams\n",
    "data_words_bigrams = make_bigrams(data_words_nostops)\n",
    "\n",
    "# Initialize spacy 'en' model, keeping only tagger component (for efficiency)\n",
    "# python3 -m spacy download en\n",
    "nlp = spacy.load('en_core_web_sm', disable=['parser', 'ner'])\n",
    "\n",
    "# Do lemmatization keeping only noun, adj, vb, adv\n",
    "data_lemmatized = lemmatization(data_words_bigrams, allowed_postags=['NOUN', 'ADJ', 'VERB', 'ADV'])\n",
    "\n",
    "print(data_lemmatized[:1])"
   ]
  },
  {
   "cell_type": "code",
   "execution_count": 59,
   "id": "6f2f731b",
   "metadata": {},
   "outputs": [
    {
     "name": "stdout",
     "output_type": "stream",
     "text": [
      "[[(0, 1), (1, 1), (2, 1), (3, 1), (4, 1)]]\n"
     ]
    }
   ],
   "source": [
    "# Create Dictionary\n",
    "id2word = corpora.Dictionary(data_lemmatized)\n",
    "\n",
    "# Create Corpus\n",
    "texts = data_lemmatized\n",
    "\n",
    "# Term Document Frequency\n",
    "corpus = [id2word.doc2bow(text) for text in texts]\n",
    "\n",
    "# View\n",
    "print(corpus[:1])"
   ]
  },
  {
   "cell_type": "code",
   "execution_count": 60,
   "id": "25da902c",
   "metadata": {},
   "outputs": [
    {
     "data": {
      "text/plain": [
       "'electricity'"
      ]
     },
     "execution_count": 60,
     "metadata": {},
     "output_type": "execute_result"
    }
   ],
   "source": [
    "id2word[0]"
   ]
  },
  {
   "cell_type": "code",
   "execution_count": 61,
   "id": "78080e7a",
   "metadata": {},
   "outputs": [
    {
     "data": {
      "text/plain": [
       "[[('electricity', 1),\n",
       "  ('monthly', 1),\n",
       "  ('pay', 1),\n",
       "  ('utility', 1),\n",
       "  ('water', 1)]]"
      ]
     },
     "execution_count": 61,
     "metadata": {},
     "output_type": "execute_result"
    }
   ],
   "source": [
    "[[(id2word[id], freq) for id, freq in cp] for cp in corpus[:1]]"
   ]
  },
  {
   "cell_type": "code",
   "execution_count": 62,
   "id": "1fec8372",
   "metadata": {},
   "outputs": [],
   "source": [
    "# Build LDA model\n",
    "lda_model = gensim.models.ldamodel.LdaModel(corpus=corpus,\n",
    "                                           id2word=id2word,\n",
    "                                           num_topics=20, \n",
    "                                           random_state=100,\n",
    "                                           update_every=1,\n",
    "                                           chunksize=100,\n",
    "                                           passes=10,\n",
    "                                           alpha='auto',\n",
    "                                           per_word_topics=True)"
   ]
  },
  {
   "cell_type": "code",
   "execution_count": 63,
   "id": "e46b2ade",
   "metadata": {},
   "outputs": [
    {
     "name": "stdout",
     "output_type": "stream",
     "text": [
      "[(0,\n",
      "  '0.107*\"website\" + 0.081*\"issue\" + 0.028*\"service\" + 0.028*\"happen\" + '\n",
      "  '0.028*\"governmental\" + 0.028*\"eventually\" + 0.028*\"leave\" + '\n",
      "  '0.028*\"sometimes\" + 0.028*\"unfortunately\" + 0.028*\"inaubible\"'),\n",
      " (1,\n",
      "  '0.003*\"trigger\" + 0.003*\"overall\" + 0.003*\"estimate\" + 0.003*\"viable\" + '\n",
      "  '0.003*\"solution\" + 0.003*\"physical\" + 0.003*\"option\" + 0.003*\"check\" + '\n",
      "  '0.003*\"interruption\" + 0.003*\"smooth\"'),\n",
      " (2,\n",
      "  '0.075*\"think\" + 0.046*\"form\" + 0.046*\"month\" + 0.031*\"take\" + '\n",
      "  '0.031*\"roughly\" + 0.016*\"customer\" + 0.016*\"send\" + 0.016*\"tell\" + '\n",
      "  '0.016*\"account\" + 0.016*\"apply\"'),\n",
      " (3,\n",
      "  '0.034*\"actually\" + 0.034*\"come\" + 0.034*\"call\" + 0.034*\"today\" + '\n",
      "  '0.034*\"round\" + 0.034*\"know\" + 0.034*\"inform\" + 0.018*\"form\" + '\n",
      "  '0.018*\"service\" + 0.018*\"obviously\"'),\n",
      " (4,\n",
      "  '0.045*\"user\" + 0.044*\"take\" + 0.043*\"time\" + 0.043*\"clunky\" + 0.043*\"pay\" + '\n",
      "  '0.043*\"friendly\" + 0.043*\"process\" + 0.043*\"hope\" + 0.004*\"website\" + '\n",
      "  '0.004*\"people\"'),\n",
      " (5,\n",
      "  '0.037*\"customer\" + 0.037*\"form\" + 0.030*\"pay\" + 0.030*\"service\" + '\n",
      "  '0.030*\"help\" + 0.022*\"ask\" + 0.022*\"even\" + 0.022*\"time\" + 0.022*\"care\" + '\n",
      "  '0.022*\"ideally\"'),\n",
      " (6,\n",
      "  '0.059*\"process\" + 0.059*\"lengthy\" + 0.003*\"meter\" + 0.003*\"interruption\" + '\n",
      "  '0.003*\"inaudible\" + 0.003*\"estimate\" + 0.003*\"viable\" + 0.003*\"solution\" + '\n",
      "  '0.003*\"physical\" + 0.003*\"check\"'),\n",
      " (7,\n",
      "  '0.093*\"provide\" + 0.063*\"i\" + 0.063*\"authentication\" + 0.063*\"login\" + '\n",
      "  '0.032*\"safeguard\" + 0.032*\"factor\" + 0.032*\"datum\" + 0.032*\"access\" + '\n",
      "  '0.032*\"website\" + 0.032*\"government\"'),\n",
      " (8,\n",
      "  '0.067*\"actually\" + 0.067*\"meter\" + 0.034*\"get\" + 0.034*\"much\" + '\n",
      "  '0.034*\"estimate\" + 0.034*\"easy\" + 0.034*\"bill\" + 0.034*\"definitely\" + '\n",
      "  '0.034*\"make\" + 0.034*\"guy\"'),\n",
      " (9,\n",
      "  '0.004*\"service\" + 0.004*\"provide\" + 0.004*\"go\" + 0.004*\"internet\" + '\n",
      "  '0.004*\"mobile\" + 0.004*\"still\" + 0.004*\"inaudible\" + 0.003*\"connect\" + '\n",
      "  '0.003*\"actually\" + 0.003*\"install\"'),\n",
      " (10,\n",
      "  '0.046*\"account\" + 0.046*\"login\" + 0.031*\"get\" + 0.031*\"open\" + 0.031*\"mean\" '\n",
      "  '+ 0.016*\"form\" + 0.016*\"website\" + 0.016*\"inaudible\" + 0.016*\"fill\" + '\n",
      "  '0.016*\"print\"'),\n",
      " (11,\n",
      "  '0.049*\"bill\" + 0.033*\"service\" + 0.033*\"time\" + 0.033*\"estimate\" + '\n",
      "  '0.033*\"monthly\" + 0.033*\"get\" + 0.033*\"thing\" + 0.033*\"go\" + '\n",
      "  '0.017*\"inaudible\" + 0.017*\"mean\"'),\n",
      " (12,\n",
      "  '0.095*\"form\" + 0.064*\"fill\" + 0.048*\"send\" + 0.048*\"download\" + '\n",
      "  '0.032*\"well\" + 0.032*\"manually\" + 0.032*\"payment\" + 0.032*\"email\" + '\n",
      "  '0.032*\"electricity\" + 0.032*\"water\"'),\n",
      " (13,\n",
      "  '0.111*\"pay\" + 0.045*\"service\" + 0.045*\"bill\" + 0.034*\"mobile\" + '\n",
      "  '0.023*\"money\" + 0.023*\"bit\" + 0.023*\"new\" + 0.023*\"app\" + 0.023*\"website\" + '\n",
      "  '0.023*\"use\"'),\n",
      " (14,\n",
      "  '0.053*\"pay\" + 0.053*\"part\" + 0.053*\"payment\" + 0.027*\"form\" + '\n",
      "  '0.027*\"service\" + 0.027*\"well\" + 0.027*\"stretch\" + 0.027*\"still\" + '\n",
      "  '0.027*\"even\" + 0.027*\"bill\"'),\n",
      " (15,\n",
      "  '0.058*\"form\" + 0.034*\"take\" + 0.034*\"customer\" + 0.024*\"fill\" + '\n",
      "  '0.024*\"service\" + 0.024*\"tell\" + 0.020*\"month\" + 0.020*\"reply\" + '\n",
      "  '0.020*\"support\" + 0.019*\"really\"'),\n",
      " (16,\n",
      "  '0.050*\"really\" + 0.050*\"service\" + 0.038*\"definitely\" + 0.038*\"think\" + '\n",
      "  '0.025*\"function\" + 0.025*\"user\" + 0.025*\"start\" + 0.025*\"smooth\" + '\n",
      "  '0.025*\"agent\" + 0.025*\"bill\"'),\n",
      " (17,\n",
      "  '0.071*\"service\" + 0.043*\"still\" + 0.043*\"mobile\" + 0.043*\"internet\" + '\n",
      "  '0.043*\"go\" + 0.043*\"provide\" + 0.043*\"inaudible\" + 0.029*\"install\" + '\n",
      "  '0.029*\"actually\" + 0.029*\"connect\"'),\n",
      " (18,\n",
      "  '0.062*\"form\" + 0.037*\"fill\" + 0.037*\"service\" + 0.025*\"pay\" + 0.025*\"bill\" '\n",
      "  '+ 0.025*\"obviously\" + 0.025*\"go\" + 0.025*\"online\" + 0.025*\"offer\" + '\n",
      "  '0.013*\"fund\"'),\n",
      " (19,\n",
      "  '0.056*\"satisfactory\" + 0.056*\"answer\" + 0.056*\"question\" + 0.003*\"check\" + '\n",
      "  '0.003*\"smooth\" + 0.003*\"estimate\" + 0.003*\"viable\" + 0.003*\"solution\" + '\n",
      "  '0.003*\"physical\" + 0.003*\"option\"')]\n"
     ]
    }
   ],
   "source": [
    "# Print the Keyword in the 10 topics\n",
    "pprint(lda_model.print_topics())\n",
    "doc_lda = lda_model[corpus]"
   ]
  },
  {
   "cell_type": "code",
   "execution_count": 64,
   "id": "3c39331b",
   "metadata": {},
   "outputs": [
    {
     "name": "stdout",
     "output_type": "stream",
     "text": [
      "\n",
      "Perplexity:  -6.068423655807181\n",
      "\n",
      "Coherence Score:  0.5069636103809895\n"
     ]
    }
   ],
   "source": [
    "# Compute Perplexity\n",
    "print('\\nPerplexity: ', lda_model.log_perplexity(corpus))  # a measure of how good the model is. lower the better.\n",
    "\n",
    "# Compute Coherence Score\n",
    "coherence_model_lda = CoherenceModel(model=lda_model, texts=data_lemmatized, dictionary=id2word, coherence='c_v')\n",
    "coherence_lda = coherence_model_lda.get_coherence()\n",
    "print('\\nCoherence Score: ', coherence_lda)"
   ]
  },
  {
   "cell_type": "code",
   "execution_count": 65,
   "id": "d33929bc",
   "metadata": {},
   "outputs": [
    {
     "data": {
      "text/html": [
       "\n",
       "<link rel=\"stylesheet\" type=\"text/css\" href=\"https://cdn.jsdelivr.net/gh/bmabey/pyLDAvis/pyLDAvis/js/ldavis.v1.0.0.css\">\n",
       "\n",
       "\n",
       "<div id=\"ldavis_el453831406877419777608423641916\"></div>\n",
       "<script type=\"text/javascript\">\n",
       "\n",
       "var ldavis_el453831406877419777608423641916_data = {\"mdsDat\": {\"x\": [0.1198325545046543, 0.016105265740063754, -0.2899436574139354, -0.08601638331946933, 0.16260979702669776, 0.2702289067666127, 0.031241648987198462, -0.07641115131612558, -0.1858597423676392, 0.19451477432655073, 0.2203691959516927, -0.10468532434280581, -0.16067962949324832, -0.17998836715899647, 0.10576692281817622, -0.04743656548421074, 0.006614022638533105, -0.004933485573332345, 0.004807036587098325, 0.0038641811224850477], \"y\": [0.2280382550844239, -0.25883524914883477, -0.06326496304646934, 0.22602893176527236, -0.221711261397606, -0.07906349242514053, 0.21998111980802487, -0.21004570020159674, 0.19879840444689623, 0.11483334178973502, 0.0216539685357933, 0.09023741152724454, -0.13271371253138772, -0.011678207387294227, -0.06046528468573166, -0.018327290640083954, -0.03383397067499549, 0.0018792893738079006, -0.0056833885973631565, -0.0058282015946943145], \"topics\": [1, 2, 3, 4, 5, 6, 7, 8, 9, 10, 11, 12, 13, 14, 15, 16, 17, 18, 19, 20], \"cluster\": [1, 1, 1, 1, 1, 1, 1, 1, 1, 1, 1, 1, 1, 1, 1, 1, 1, 1, 1, 1], \"Freq\": [20.985928655177393, 13.400898459343752, 8.215471016365589, 7.250023984382626, 7.139414959493403, 6.109070548838848, 5.506063463741169, 5.49128144716746, 5.2978735478245795, 5.0265905735007, 4.931694283708164, 2.6071983109078505, 2.4749001195061355, 1.9429346315758278, 1.7228609191139184, 0.9559787443497327, 0.40283623001134883, 0.29700756312301413, 0.12210245141715312, 0.11987009045133663]}, \"tinfo\": {\"Term\": [\"pay\", \"form\", \"website\", \"process\", \"provide\", \"bill\", \"think\", \"login\", \"take\", \"fill\", \"actually\", \"time\", \"service\", \"really\", \"meter\", \"get\", \"payment\", \"user\", \"month\", \"go\", \"mobile\", \"account\", \"issue\", \"well\", \"definitely\", \"i\", \"send\", \"know\", \"come\", \"mean\", \"reply\", \"fail\", \"wrong\", \"figure\", \"number\", \"advise\", \"tell\", \"half\", \"say\", \"wait\", \"guess\", \"identify\", \"right\", \"second\", \"whole\", \"automate\", \"fine\", \"interact\", \"mostly\", \"other\", \"slightly\", \"minute\", \"reapply\", \"let\", \"back\", \"follow\", \"filling\", \"rather\", \"immediately\", \"honest\", \"end\", \"usually\", \"quite\", \"month\", \"support\", \"really\", \"take\", \"customer\", \"form\", \"well\", \"apply\", \"fill\", \"care\", \"roughly\", \"first\", \"account\", \"long\", \"use\", \"mean\", \"print\", \"service\", \"process\", \"think\", \"get\", \"day\", \"update\", \"touchpoint\", \"help\", \"people\", \"application\", \"thank\", \"keep\", \"reminder\", \"required\", \"spamme\", \"hear\", \"never\", \"correctly\", \"verify\", \"third\", \"amount\", \"instantly\", \"one\", \"bubble\", \"pop\", \"guide\", \"clearly\", \"hesitation\", \"drop\", \"close\", \"along\", \"frustrated\", \"proper\", \"fee\", \"even\", \"available\", \"ask\", \"ideally\", \"chat\", \"care\", \"customer\", \"try\", \"time\", \"receive\", \"website\", \"pay\", \"user\", \"form\", \"need\", \"service\", \"email\", \"payment\", \"get\", \"fill\", \"take\", \"confirmation\", \"process\", \"money\", \"app\", \"area\", \"cred\", \"meantime\", \"misconstrue\", \"top\", \"information\", \"convert\", \"copy\", \"native\", \"slow\", \"option\", \"physical\", \"viable\", \"new\", \"bit\", \"mobile\", \"pay\", \"utility\", \"monthly\", \"factor\", \"safeguard\", \"problem\", \"add\", \"check\", \"least\", \"continue\", \"solution\", \"fund\", \"bill\", \"use\", \"service\", \"website\", \"need\", \"take\", \"receive\", \"account\", \"different\", \"part\", \"additional\", \"know\", \"credential\", \"stupid\", \"require\", \"separate\", \"smoother\", \"data\", \"able\", \"aware\", \"year\", \"telephone\", \"protection\", \"sign\", \"arise\", \"offer\", \"much\", \"physically\", \"office\", \"initially\", \"picture\", \"house\", \"term\", \"fund\", \"additional\", \"solution\", \"maybe\", \"portal\", \"ago\", \"sure\", \"obviously\", \"far\", \"find\", \"online\", \"go\", \"form\", \"fill\", \"bill\", \"service\", \"pay\", \"bit\", \"kind\", \"utility\", \"use\", \"think\", \"well\", \"arm\", \"move\", \"trigger\", \"amazon\", \"overall\", \"facility\", \"point\", \"tend\", \"choose\", \"entity\", \"smooth\", \"start\", \"function\", \"bot\", \"agent\", \"question\", \"definitely\", \"really\", \"always\", \"actual\", \"provider\", \"respect\", \"government\", \"easily\", \"kinda\", \"certain\", \"experience\", \"work\", \"user\", \"chat\", \"pause\", \"think\", \"mean\", \"service\", \"bill\", \"help\", \"process\", \"use\", \"customer\", \"also\", \"good\", \"internet\", \"connect\", \"still\", \"sort\", \"bundle\", \"course\", \"melita\", \"similar\", \"temporarily\", \"mobile\", \"install\", \"submeter\", \"provide\", \"respect\", \"provider\", \"actual\", \"house\", \"term\", \"example\", \"inaudible\", \"go\", \"thing\", \"knowledge\", \"find\", \"offer\", \"quite\", \"good\", \"actually\", \"come\", \"obviously\", \"service\", \"online\", \"meter\", \"day\", \"arm\", \"fault\", \"partly\", \"apart\", \"perspective\", \"remember\", \"suppose\", \"properly\", \"thoroughly\", \"make\", \"roughly\", \"instal\", \"way\", \"think\", \"explain\", \"month\", \"far\", \"different\", \"credential\", \"easy\", \"d\", \"say\", \"even\", \"obviously\", \"arm\", \"provide\", \"meter\", \"apply\", \"tell\", \"send\", \"account\", \"take\", \"form\", \"customer\", \"payment\", \"fill\", \"mean\", \"website\", \"get\", \"actually\", \"pay\", \"use\", \"open\", \"give\", \"pretty\", \"eventually\", \"login\", \"expect\", \"way\", \"submeter\", \"initially\", \"continue\", \"manage\", \"anyway\", \"straightforward\", \"account\", \"inform\", \"knowledge\", \"find\", \"available\", \"create\", \"i\", \"d\", \"install\", \"also\", \"reach\", \"try\", \"mean\", \"get\", \"print\", \"ideally\", \"come\", \"inaudible\", \"website\", \"form\", \"fill\", \"email\", \"actually\", \"call\", \"meter\", \"time\", \"arm\", \"download\", \"manually\", \"electricity\", \"water\", \"together\", \"upload\", \"generally\", \"proof\", \"uhm\", \"picture\", \"send\", \"knowledge\", \"new\", \"well\", \"email\", \"fill\", \"payment\", \"print\", \"form\", \"definitely\", \"obviously\", \"arm\", \"need\", \"online\", \"apply\", \"inaudible\", \"support\", \"take\", \"customer\", \"lengthy\", \"service\", \"estimate\", \"interruption\", \"put\", \"upcoming\", \"basis\", \"encounter\", \"suggest\", \"rocket\", \"science\", \"want\", \"thing\", \"reading\", \"monthly\", \"always\", \"office\", \"physically\", \"check\", \"phone\", \"far\", \"easy\", \"go\", \"bill\", \"time\", \"reach\", \"people\", \"half\", \"get\", \"usually\", \"day\", \"online\", \"service\", \"inaudible\", \"mean\", \"apply\", \"take\", \"meter\", \"pay\", \"today\", \"round\", \"twice\", \"timeframe\", \"receipt\", \"specify\", \"acknowledge\", \"phonecall\", \"installation\", \"inform\", \"instal\", \"uhm\", \"expect\", \"least\", \"week\", \"come\", \"know\", \"call\", \"happen\", \"good\", \"first\", \"actually\", \"long\", \"government\", \"receive\", \"ask\", \"obviously\", \"day\", \"email\", \"meter\", \"form\", \"service\", \"take\", \"time\", \"tell\", \"inaudible\", \"stretch\", \"processing\", \"successfully\", \"gateway\", \"part\", \"add\", \"confirmation\", \"fee\", \"still\", \"utility\", \"payment\", \"receive\", \"even\", \"user\", \"process\", \"well\", \"pay\", \"bill\", \"lengthy\", \"satisfactory\", \"hope\", \"friendly\", \"clunky\", \"guy\", \"input\", \"ease\", \"access\", \"datum\", \"governmental\", \"sometimes\", \"service\", \"form\", \"protection\", \"arise\", \"telephone\", \"year\", \"sign\", \"able\", \"aware\", \"data\", \"offer\", \"much\", \"picture\", \"online\", \"go\", \"obviously\", \"fill\", \"smooth\", \"issue\", \"governmental\", \"sometimes\", \"unfortunately\", \"inaubible\", \"desirable\", \"resolve\", \"often\", \"eventually\", \"problem\", \"leave\", \"website\", \"happen\", \"end\", \"day\", \"know\", \"lengthy\", \"satisfactory\", \"hope\", \"friendly\", \"clunky\", \"guy\", \"input\", \"ease\", \"access\", \"datum\", \"stretch\", \"processing\", \"successfully\", \"gateway\", \"service\", \"let\", \"follow\", \"rather\", \"reapply\", \"back\", \"filling\", \"minute\", \"immediately\", \"reply\", \"form\", \"applying\", \"take\", \"tell\", \"print\", \"usually\", \"well\", \"send\", \"fill\", \"provide\", \"work\", \"week\", \"datum\", \"access\", \"ease\", \"authentication\", \"i\", \"safeguard\", \"factor\", \"provide\", \"login\", \"d\", \"government\", \"website\", \"lengthy\", \"satisfactory\", \"hope\", \"friendly\", \"clunky\", \"guy\", \"input\", \"governmental\", \"sometimes\", \"unfortunately\", \"inaubible\", \"desirable\", \"resolve\", \"often\", \"stretch\", \"processing\", \"successfully\", \"gateway\", \"ideally\", \"customer\", \"people\", \"form\", \"chat\", \"need\", \"fill\", \"help\", \"touchpoint\", \"user\", \"care\", \"phone\", \"available\", \"frustrated\", \"start\", \"along\", \"create\", \"go\", \"guy\", \"input\", \"reading\", \"make\", \"much\", \"estimate\", \"meter\", \"easy\", \"actually\", \"come\", \"definitely\", \"get\", \"bill\", \"lengthy\", \"satisfactory\", \"hope\", \"friendly\", \"clunky\", \"ease\", \"access\", \"datum\", \"governmental\", \"sometimes\", \"unfortunately\", \"inaubible\", \"desirable\", \"resolve\", \"often\", \"stretch\", \"processing\", \"frustrated\", \"drop\", \"one\", \"hesitation\", \"proper\", \"clearly\", \"guide\", \"instantly\", \"along\", \"ideally\", \"customer\", \"website\", \"people\", \"touchpoint\", \"chat\", \"form\", \"fill\", \"user\", \"need\", \"help\", \"care\", \"available\", \"take\", \"clunky\", \"friendly\", \"hope\", \"user\", \"process\", \"time\", \"take\", \"lengthy\", \"satisfactory\", \"pay\", \"proper\", \"frustrated\", \"ease\", \"access\", \"datum\", \"guy\", \"input\", \"along\", \"close\", \"drop\", \"hesitation\", \"governmental\", \"sometimes\", \"unfortunately\", \"inaubible\", \"desirable\", \"resolve\", \"often\", \"clearly\", \"stretch\", \"guide\", \"pop\", \"bubble\", \"one\", \"instantly\", \"touchpoint\", \"chat\", \"people\", \"leave\", \"example\", \"available\", \"website\", \"ideally\", \"different\", \"need\", \"explain\", \"start\", \"fill\", \"customer\", \"form\", \"support\", \"care\", \"provide\", \"satisfactory\", \"question\", \"answer\", \"lengthy\", \"hope\", \"friendly\", \"clunky\", \"guy\", \"input\", \"ease\", \"access\", \"datum\", \"governmental\", \"sometimes\", \"unfortunately\", \"inaubible\", \"desirable\", \"resolve\", \"often\", \"stretch\", \"processing\", \"successfully\", \"gateway\", \"encounter\", \"basis\", \"interruption\", \"put\", \"upcoming\", \"suggest\", \"rocket\", \"electricity\", \"monthly\", \"pay\", \"utility\", \"water\", \"thing\", \"time\", \"process\", \"take\", \"user\", \"apply\", \"automate\", \"customer\", \"fail\", \"fill\", \"fine\", \"form\", \"payment\", \"service\", \"straightforward\", \"support\", \"use\", \"care\", \"lengthy\", \"process\", \"satisfactory\", \"hope\", \"friendly\", \"clunky\", \"guy\", \"input\", \"ease\", \"access\", \"datum\", \"governmental\", \"sometimes\", \"unfortunately\", \"inaubible\", \"desirable\", \"resolve\", \"often\", \"stretch\", \"processing\", \"successfully\", \"gateway\", \"encounter\", \"basis\", \"interruption\", \"put\", \"upcoming\", \"suggest\", \"rocket\", \"science\", \"electricity\", \"monthly\", \"pay\", \"utility\", \"water\", \"thing\", \"time\", \"take\", \"user\", \"apply\", \"automate\", \"customer\", \"fail\", \"fill\", \"fine\", \"form\", \"payment\", \"service\", \"straightforward\", \"support\", \"use\", \"care\", \"day\", \"end\", \"lengthy\", \"satisfactory\", \"hope\", \"friendly\", \"clunky\", \"guy\", \"input\", \"ease\", \"access\", \"datum\", \"governmental\", \"sometimes\", \"unfortunately\", \"inaubible\", \"desirable\", \"resolve\", \"often\", \"stretch\", \"processing\", \"successfully\", \"gateway\", \"temporarily\", \"similar\", \"melita\", \"course\", \"bundle\", \"sort\", \"encounter\", \"basis\", \"interruption\", \"connect\", \"internet\", \"still\", \"provide\", \"actual\", \"mobile\", \"go\", \"provider\", \"service\", \"install\", \"respect\", \"example\", \"submeter\", \"term\", \"house\", \"offer\", \"knowledge\", \"inaudible\", \"quite\", \"actually\", \"thing\", \"find\", \"good\", \"come\", \"arm\", \"customer\", \"day\", \"meter\", \"lengthy\", \"satisfactory\", \"hope\", \"friendly\", \"clunky\", \"guy\", \"input\", \"ease\", \"access\", \"datum\", \"governmental\", \"sometimes\", \"unfortunately\", \"inaubible\", \"desirable\", \"resolve\", \"often\", \"stretch\", \"processing\", \"successfully\", \"gateway\", \"encounter\", \"basis\", \"interruption\", \"put\", \"upcoming\", \"suggest\", \"rocket\", \"science\", \"want\", \"electricity\", \"monthly\", \"pay\", \"utility\", \"water\", \"thing\", \"time\", \"process\", \"take\", \"user\", \"apply\", \"automate\", \"customer\", \"fail\", \"fill\", \"fine\", \"form\", \"payment\", \"service\", \"straightforward\", \"support\", \"use\", \"care\", \"day\", \"end\", \"first\"], \"Freq\": [17.0, 28.0, 10.0, 5.0, 6.0, 10.0, 10.0, 5.0, 14.0, 13.0, 7.0, 7.0, 25.0, 7.0, 6.0, 8.0, 7.0, 4.0, 7.0, 6.0, 5.0, 7.0, 3.0, 6.0, 5.0, 3.0, 7.0, 5.0, 4.0, 7.0, 3.700113429716715, 1.87679038893063, 1.8735510679400609, 1.8693110098440817, 1.8690850312498342, 1.8680349993611598, 4.605966734849395, 2.780657944711668, 2.7850319291363728, 0.9612605531799175, 0.9612604648380121, 0.9612604648380121, 0.9612604648380121, 0.9612604648380121, 0.9612604648380121, 0.9612599347865791, 0.9612597581027682, 0.9612595814189572, 0.9612595814189572, 0.9612595814189572, 0.9612589630256188, 0.9585530504604083, 0.958391119747642, 0.9582580768379716, 0.9582203548443267, 0.9581836929535475, 0.9581628442638516, 0.9581030367938337, 0.9581039202128886, 0.9578789133796013, 2.7881042839255628, 2.785886548730099, 1.8707598170941455, 3.7048800055694247, 3.6998745532042654, 3.6969126257969402, 6.441369471108603, 6.435288721069798, 11.016514775234814, 2.7817189309966235, 2.788122482358094, 4.6169094699988396, 2.7831995413326642, 1.869362424833078, 1.8729674813123827, 2.7809250906338754, 1.8767896821953862, 2.789791084269021, 2.785623996586978, 1.8706022151347483, 4.613576859956071, 1.87679038893063, 1.8848927551347057, 1.8733010603475193, 1.8732464650499254, 1.814249932530103, 1.7933138120827326, 3.575522106889078, 2.6611868808245496, 0.9292360385260219, 0.9292360385260219, 0.9292359257017648, 0.9292359257017648, 0.9292359257017648, 0.9292359257017648, 0.9292358128775077, 0.9292357564653791, 0.9292353051683506, 0.9292351923440936, 0.9292264484641671, 0.9246301574656696, 0.9230096626607205, 0.9221107918042817, 0.9195619225996582, 0.9195326447049367, 0.9192646870942875, 0.9187645371624947, 0.9179458279407365, 0.917593477785765, 0.9171202928514228, 0.9164059460674964, 0.9072997874514518, 0.9069082872792612, 1.8142535429063305, 2.695460408002565, 1.7952538251838326, 2.6992603289822132, 2.670471640239608, 1.7823140111352624, 2.6867205897493744, 4.452359288507231, 1.8142497068815886, 2.690322842630556, 1.8142564763370155, 2.655269699835873, 3.5842765922956934, 1.7697911955409908, 4.450412844423475, 1.7868244992862237, 3.5842736588650084, 1.814249932530103, 1.8142591841191862, 1.8102848368380378, 1.7924633428325965, 1.7995335877289929, 0.9292408899690778, 0.9292407771448208, 1.6800237643170668, 1.6800232109783981, 0.8604910154581055, 0.8604910154581055, 0.8604909462907718, 0.8604909462907718, 0.8604909462907718, 0.8604908079561047, 0.860490738788771, 0.860490738788771, 0.860490738788771, 0.8604906004541039, 0.8604903237847694, 0.8604903237847694, 0.8604903237847694, 1.6800233493130652, 1.6800233493130652, 2.499553608148017, 8.229005339988708, 1.6727639609824285, 1.6727639609824285, 0.8604908079561047, 0.860490738788771, 0.8604910154581055, 0.8604910154581055, 0.8604901162827686, 0.860490738788771, 0.8604909462907718, 0.8604904621194366, 0.8604909462907718, 3.3190830369749658, 1.6800229343090638, 3.3190833136443003, 1.6800232109783981, 0.8604910154581055, 0.8604909462907718, 0.8604909462907718, 0.8604909462907718, 0.8604909462907718, 0.8604908079561047, 0.8604908079561047, 0.8604908079561047, 0.8604908079561047, 0.8452815686112805, 0.8452815075721962, 0.8452815075721962, 0.8452808361422695, 0.841380743854013, 0.8413020644744127, 0.8412603137407846, 0.8408414025055658, 0.8407311048803231, 0.8406189150434686, 0.8405623318123674, 0.8403411261710396, 1.6412455103979582, 0.8404716277331695, 0.8410720081658684, 0.8404270081625816, 0.8452808361422695, 0.8405836954918555, 0.8412331513482926, 0.8407998348891904, 0.845281690689449, 0.8452815075721962, 0.8412855228825805, 0.8406286202578647, 0.8452815075721962, 0.8412468851422492, 0.8411001471837084, 1.6430210152806688, 0.8411804746185835, 0.845280714064101, 1.6416886541496247, 1.6421700083680328, 4.047725079772459, 2.449852233549334, 1.6503265391184068, 2.446388143439887, 1.6503267832747437, 0.8452815075721962, 0.8452815686112805, 0.8452815686112805, 0.8452815075721962, 0.8452815075721962, 0.8418615487206629, 0.8415938923362196, 0.8400745188938004, 0.8400745188938004, 0.8400743385702515, 0.8400742183545523, 0.8400740380310036, 0.8400740380310036, 0.8400739178153044, 0.8400739178153044, 0.8400738577074548, 1.6401603673927625, 1.6401603673927625, 1.6401604876084617, 1.6401598865299658, 1.6401603673927625, 0.8400743385702515, 2.440244052009139, 3.2403273759784184, 0.8400743385702515, 0.8400743385702515, 0.8400739178153044, 0.8400739178153044, 1.6401598865299658, 0.8400743385702515, 0.8400740380310036, 0.8400743385702515, 0.8400743385702515, 0.8400743385702515, 1.6401603673927625, 0.8400743385702515, 0.8400743385702515, 2.4402438115777407, 1.6401598865299658, 3.2403268951156217, 1.6401601269613642, 0.8400745188938004, 0.8400743986781012, 0.8400743986781012, 0.8400743385702515, 0.8400743385702515, 0.8400743385702515, 2.3833577669975137, 1.6019623921711268, 2.3836060865792357, 0.8208004727261473, 0.8206265770124352, 0.820553181808807, 0.8203325847321695, 0.8202099679378809, 0.8201709301245986, 2.383461662100057, 1.6020137225237694, 0.8206984292194911, 2.381978122328891, 0.8205921167556511, 0.8203820634889253, 0.8201336410407651, 0.8207330437759324, 0.8206588256407988, 0.8204906904476238, 2.3782918006509344, 2.382535658423727, 0.8205402720708177, 0.8201680498643301, 0.8205562678019518, 0.8198886131850643, 0.8201192911726416, 0.8202415993676156, 1.6019871829827237, 0.8201408416914364, 0.8207416331235189, 3.944524255591717, 0.8212398152835352, 0.8206063123241174, 0.8205507644475102, 0.8201957723694147, 0.7823354072726487, 0.7823354072726487, 0.7823353145598322, 0.7823353145598322, 0.7823352218470156, 0.7823350364213827, 0.7823348509957496, 0.7823348509957496, 0.7823353145598322, 1.5285353453230228, 0.7823353145598322, 0.7823354072726487, 3.7561080825047544, 0.7823425461595195, 2.2659245989953583, 0.7823337384419516, 0.7823405064775564, 0.7838375403256517, 0.7823354072726487, 0.7833681353356903, 0.7842448277285552, 0.7823399502006574, 0.7837459400629454, 0.7838489440020817, 0.7823354072726487, 0.7823353145598322, 0.7847103387802233, 0.7850681175391135, 0.7869915376303122, 0.7849654844512433, 1.529624999055398, 2.277440272507727, 0.7887202608068518, 0.7846966172833807, 0.7846768694534653, 0.7843240971866664, 0.7823516320155369, 0.7823408773288224, 0.7823393012109419, 0.7823354999854651, 0.7823354072726487, 1.5446725302959992, 0.7911677429170981, 0.7911675579892735, 0.7929394439405225, 2.2981759307162157, 0.7916137888299941, 0.7911676504531858, 0.7911676504531858, 0.7911676504531858, 0.791166448422326, 0.7911676504531858, 0.7911676504531858, 0.7911677429170981, 2.2981761156440403, 0.7920857246383317, 0.7911677429170981, 0.7911677429170981, 0.7911675579892735, 0.7911675579892735, 0.7911676504531858, 0.7911676504531858, 0.7911675579892735, 0.7911675579892735, 0.7929528512078049, 0.7911675579892735, 1.5446725302959992, 1.5470834343450972, 0.7951769781540734, 0.7911676504531858, 0.7916214633347143, 0.798183257334419, 0.8006160753307302, 0.8015457075049127, 0.7956453078698318, 0.7938343096836833, 0.7919756925827044, 0.791713557391357, 0.7915950186557988, 0.7914975616922432, 0.7911676504531858, 2.2922263111822265, 1.54317355338022, 1.5365609767912658, 1.5365136969489415, 0.7899676628626299, 0.7899329612425087, 0.7896465167638219, 0.7895402709294663, 0.7911073746843993, 0.7891775542523127, 2.293292516230269, 0.7911074638916489, 0.7897166336620617, 1.543522888969923, 1.5420606037333513, 3.0490880932057456, 1.5421671171894558, 0.78962011141792, 4.553378169014802, 0.7911070178554006, 0.7896814860056922, 0.7895772027308293, 0.7891761269363181, 0.7911073746843993, 0.7897280521900193, 0.7911073746843993, 0.7894064600549631, 0.7898193112064306, 0.7895827335803087, 0.03767226892651161, 0.7894310812558717, 1.5061831288086045, 0.7714540610183004, 0.7714540610183004, 0.7714540610183004, 0.7714524528715584, 0.7714393337797162, 0.7706608214780082, 0.770534116442603, 0.7703815964200244, 0.770350110599603, 1.5050523477311073, 0.7714539763789982, 1.506182620972791, 0.7699442651455163, 0.7704785084210524, 0.7701848946816933, 0.7714539763789982, 0.7705446117160768, 0.771439249140414, 0.7706434704210555, 1.503813566903993, 2.2409105038128643, 1.5069509765582343, 0.7707194765144382, 0.7703077909484991, 0.7703408002763602, 1.506182620972791, 0.7705156650747217, 0.7717121262507322, 0.770122092319455, 1.5074349440882588, 0.7739217198741709, 0.7736999649023862, 0.773058991466766, 0.7722364667279099, 0.7714539763789982, 0.7714538917396959, 1.5277501670277915, 1.5277142931391736, 0.7825321629203608, 0.782517132425361, 0.7824954586176542, 0.7824253716685949, 0.782423793881827, 0.7824046943577943, 0.7823728064568005, 1.5274593560140406, 0.7825363149908026, 0.7825126481892838, 0.7823757129061099, 0.782429440697628, 0.7824078499313302, 1.5279187410877328, 1.5276855608117157, 1.527827395538011, 0.7824040300265236, 0.7824385752526002, 0.7823133488080725, 1.5294790891598, 0.7823125183939841, 0.7824126663330427, 0.782587385457238, 0.7823131827252547, 0.7863453413727957, 0.7840444300167106, 0.7823658309784581, 0.7823943141816896, 0.7925377392298499, 0.7886213403062292, 0.7857360665561508, 0.7836303025108352, 0.7825256856904713, 0.7824739508927653, 0.6386296999752661, 0.6386290853637923, 0.6386286463555967, 0.638628119545762, 1.2468521118960407, 0.6386291292646118, 0.6386278561408446, 0.6386289975621532, 0.63862930486789, 0.6386286902564162, 1.246850794871454, 0.6386269781244536, 0.63862930486789, 0.6386290853637923, 0.6386280317441229, 0.6397895157271352, 1.2468528143091535, 0.6386291292646118, 0.03041125833486009, 0.03041125833486009, 0.03041125833486009, 0.03041125833486009, 0.03041125833486009, 0.03041125833486009, 0.03041125833486009, 0.03041125833486009, 0.03041125833486009, 0.03041125833486009, 0.03041125833486009, 0.03041125833486009, 0.6414310551720002, 0.643815001376389, 0.03236915257305333, 0.03206077949748079, 0.032039973252812125, 0.03200346148994704, 0.03187967764160441, 0.03164386987695791, 0.03161090859287448, 0.03149119105794329, 0.03279374483699864, 0.03196318248800375, 0.032121027884719947, 0.033377938530442415, 0.033246225096567356, 0.03269057516723911, 0.032049271995154484, 0.03201079841441546, 1.8027812588184484, 0.6236471856638339, 0.6232645012074177, 0.6232138266676157, 0.6231867391257807, 0.6231378982041952, 0.622981457231813, 0.6228763575694932, 0.6236176810798044, 0.6226429463051584, 0.6232929639629151, 2.394434348665608, 0.6236634381889349, 0.6226785351678154, 0.6230759719162463, 0.6230105450844295, 0.02976295229629714, 0.02976295229629714, 0.02976295229629714, 0.02976295229629714, 0.02976295229629714, 0.02976295229629714, 0.02976295229629714, 0.02976295229629714, 0.02976295229629714, 0.02976295229629714, 0.02976295229629714, 0.02976295229629714, 0.02976295229629714, 0.02976295229629714, 0.6238661780212843, 0.030221414150996672, 0.030200017597518374, 0.03018018378683825, 0.030123677611827705, 0.030100358884707655, 0.03009528517975626, 0.03009427981522277, 0.030089226946842015, 0.03087882358218874, 0.031916167042472236, 0.03006600719343252, 0.031051553543670625, 0.0307375646560907, 0.030619069683419358, 0.030517543492964826, 0.030536710533384397, 0.030507914392756758, 0.030419507428092876, 0.03021812197283519, 0.030212074158206266, 0.030206492561845464, 0.5640147159536633, 0.5639153909663208, 0.5634255709035768, 1.1006922902329568, 1.1007277540953675, 0.5641954377027013, 0.5640514230142029, 1.6374963435639847, 1.100665463325967, 0.5633357334809014, 0.5635829990455701, 0.5636863153532208, 0.02695793557408176, 0.02695793557408176, 0.02695793557408176, 0.02695793557408176, 0.02695793557408176, 0.02695793557408176, 0.02695793557408176, 0.02695793557408176, 0.02695793557408176, 0.02695793557408176, 0.02695793557408176, 0.02695793557408176, 0.02695793557408176, 0.02695793557408176, 0.02695793557408176, 0.02695793557408176, 0.02695793557408176, 0.02695793557408176, 0.02695803576603622, 0.026958017363432337, 0.026958007139763516, 0.026957992826627166, 0.026957990781893402, 0.02695798669242587, 0.02695798260295834, 0.026957980558224577, 0.026957978513490813, 0.02695797646875705, 0.026957974424023284, 0.026957970334555756, 0.026957970334555756, 0.026957970334555756, 0.026957966245088227, 0.026957964200354463, 0.026957964200354463, 0.0269579621556207, 0.5334054359830165, 0.5334054359830165, 0.5334054359830165, 0.5334054359830165, 0.5334054940031571, 0.5334054940031571, 1.0414144120474784, 0.5334054940031571, 1.0414805550078026, 0.5334054359830165, 0.5334054940031571, 0.5334712888426374, 0.5334054940031571, 0.025400423419411573, 0.025400423419411573, 0.025400423419411573, 0.025400423419411573, 0.025400423419411573, 0.025400423419411573, 0.025400423419411573, 0.025400423419411573, 0.025400423419411573, 0.025400423419411573, 0.025400423419411573, 0.025400423419411573, 0.025400423419411573, 0.025400423419411573, 0.025400423419411573, 0.025400423419411573, 0.025400423419411573, 0.02548862853821222, 0.02548813899327561, 0.02548095900087201, 0.025473278584755423, 0.025470645920874103, 0.0254696251290248, 0.02546519746704258, 0.025463418787106232, 0.025460336467134987, 0.025660424361503627, 0.025628212304674727, 0.025616006317588598, 0.025603787638596706, 0.02555533900803693, 0.025544070408847937, 0.025536099892028177, 0.02553291603681082, 0.025531097468027786, 0.025524000879576344, 0.025519997489872517, 0.025517020331406175, 0.02549948374389919, 0.0254878615844782, 0.3707119188816372, 0.37071185449336236, 0.3707118222992249, 0.3883513443290384, 0.3707118222992249, 0.37422629531105456, 0.3765189686135273, 0.01765305564033284, 0.01765305564033284, 0.3707119188816372, 0.02650431057017405, 0.026335882915976154, 0.01941260207560779, 0.019091874017927554, 0.019026851921000152, 0.01765305564033284, 0.01765305564033284, 0.022725646430246913, 0.022443046291943974, 0.02223200567259898, 0.022101392044938502, 0.01765305564033284, 0.01765305564033284, 0.01765305564033284, 0.01765305564033284, 0.01765305564033284, 0.01765305564033284, 0.01765305564033284, 0.02177810857760028, 0.01765305564033284, 0.02158173842425243, 0.02148034902483808, 0.021471779347882677, 0.020435442015687845, 0.02009029872903911, 0.025891519309921972, 0.03028790443739415, 0.03268951867664061, 0.022356681494038425, 0.02266950186671403, 0.025156066373953002, 0.03663213548566379, 0.02894440887644306, 0.024460198142079743, 0.02850087024516035, 0.02174271112350321, 0.0224114417096621, 0.02624701703601952, 0.0242331751456376, 0.025078752152930615, 0.022984845454910193, 0.022567730161917772, 0.022193869704687327, 0.2050244273181667, 0.2050243730535085, 0.2050244273181667, 0.009763116700747839, 0.009763116700747839, 0.009763116700747839, 0.009763116700747839, 0.009763116700747839, 0.009763116700747839, 0.009763116700747839, 0.009763116700747839, 0.009763116700747839, 0.009763116700747839, 0.009763116700747839, 0.009763116700747839, 0.009763116700747839, 0.009763116700747839, 0.009763116700747839, 0.009763116700747839, 0.009763116700747839, 0.009763116700747839, 0.009763116700747839, 0.009763116700747839, 0.009763116700747839, 0.009763116700747839, 0.009763116700747839, 0.009763116700747839, 0.009763116700747839, 0.009763116700747839, 0.009763116700747839, 0.009763116700747839, 0.009763116700747839, 0.009763116700747839, 0.009763116700747839, 0.009763116700747839, 0.009763116700747839, 0.009763116700747839, 0.009763116700747839, 0.009763116700747839, 0.009763116700747839, 0.009763116700747839, 0.009763116700747839, 0.009763116700747839, 0.009763116700747839, 0.009763116700747839, 0.009763116700747839, 0.009763116700747839, 0.009763116700747839, 0.009763116700747839, 0.009763116700747839, 0.009763116700747839, 0.009763116700747839, 0.009763116700747839, 0.15972703772351313, 0.15972703772351313, 0.007606090406614499, 0.007606090406614499, 0.007606090406614499, 0.007606090406614499, 0.007606090406614499, 0.007606090406614499, 0.007606090406614499, 0.007606090406614499, 0.007606090406614499, 0.007606090406614499, 0.007606090406614499, 0.007606090406614499, 0.007606090406614499, 0.007606090406614499, 0.007606090406614499, 0.007606090406614499, 0.007606090406614499, 0.007606090406614499, 0.007606090406614499, 0.007606090406614499, 0.007606090406614499, 0.007606090406614499, 0.007606090406614499, 0.007606090406614499, 0.007606090406614499, 0.007606090406614499, 0.007606090406614499, 0.007606090406614499, 0.007606090406614499, 0.007606090406614499, 0.007606090406614499, 0.007606090406614499, 0.007606090406614499, 0.007606090406614499, 0.007606090406614499, 0.007606090406614499, 0.007606090406614499, 0.007606090406614499, 0.007606090406614499, 0.007606090406614499, 0.007606090406614499, 0.007606090406614499, 0.007606090406614499, 0.007606090406614499, 0.007606090406614499, 0.007606090406614499, 0.007606090406614499, 0.007606090406614499, 0.007606090406614499, 0.007606090406614499, 0.007606090406614499, 0.007606090406614499, 0.003493110031547722, 0.003493110031547722, 0.003493110031547722, 0.003493110031547722, 0.003493110031547722, 0.003493110031547722, 0.003493110031547722, 0.003493110031547722, 0.003493110031547722, 0.003493110031547722, 0.003493110031547722, 0.003493110031547722, 0.003493110031547722, 0.003493110031547722, 0.003493110031547722, 0.003493110031547722, 0.003493110031547722, 0.003493110031547722, 0.003493110031547722, 0.003493110031547722, 0.003493110031547722, 0.003710582063779448, 0.003707103570103337, 0.003696166168266033, 0.0036765005357506297, 0.003669948066244452, 0.003654453542141555, 0.003493110031547722, 0.003493110031547722, 0.003493110031547722, 0.003858579312452771, 0.004041686088763664, 0.00401958049917689, 0.0041647083439422874, 0.003713905072514735, 0.004032437947283439, 0.004114983231867304, 0.0036917516809461546, 0.004552764575250908, 0.0038539826122022417, 0.0036730346350697263, 0.0036820694666311353, 0.0036635467126807605, 0.0036670776343369176, 0.0036604496068594963, 0.0037357436392031354, 0.0037108388066817333, 0.0038748795312490265, 0.003715184161027923, 0.003856381706289164, 0.0036776624323084203, 0.00367623274185255, 0.0037042837671765337, 0.003713260259760146, 0.003708355930626698, 0.003713026389849155, 0.003676712303670032, 0.003671760943554484, 0.0034620624071448522, 0.0034620624071448522, 0.0034620624071448522, 0.0034620624071448522, 0.0034620624071448522, 0.0034620624071448522, 0.0034620624071448522, 0.0034620624071448522, 0.0034620624071448522, 0.0034620624071448522, 0.0034620624071448522, 0.0034620624071448522, 0.0034620624071448522, 0.0034620624071448522, 0.0034620624071448522, 0.0034620624071448522, 0.0034620624071448522, 0.0034620624071448522, 0.0034620624071448522, 0.0034620624071448522, 0.0034620624071448522, 0.0034620624071448522, 0.0034620624071448522, 0.0034620624071448522, 0.0034620624071448522, 0.0034620624071448522, 0.0034620624071448522, 0.0034620624071448522, 0.0034620624071448522, 0.0034620624071448522, 0.0034620624071448522, 0.0034620624071448522, 0.0034620624071448522, 0.0034620624071448522, 0.0034620624071448522, 0.0034620624071448522, 0.0034620624071448522, 0.0034620624071448522, 0.0034620624071448522, 0.0034620624071448522, 0.0034620624071448522, 0.0034620624071448522, 0.0034620624071448522, 0.0034620624071448522, 0.0034620624071448522, 0.0034620624071448522, 0.0034620624071448522, 0.0034620624071448522, 0.0034620624071448522, 0.0034620624071448522, 0.0034620624071448522, 0.0034620624071448522, 0.0034620624071448522, 0.0034620624071448522, 0.0034620624071448522, 0.0034620624071448522], \"Total\": [17.0, 28.0, 10.0, 5.0, 6.0, 10.0, 10.0, 5.0, 14.0, 13.0, 7.0, 7.0, 25.0, 7.0, 6.0, 8.0, 7.0, 4.0, 7.0, 6.0, 5.0, 7.0, 3.0, 6.0, 5.0, 3.0, 7.0, 5.0, 4.0, 7.0, 4.251955129100652, 2.4225719173626685, 2.4218879859764026, 2.4211257237719273, 2.421093302851889, 2.420881119820518, 6.656286905623142, 4.071065836132243, 4.081763217947925, 1.5070420816119565, 1.5070419932700512, 1.5070419932700512, 1.5070419932700512, 1.5070419932700512, 1.5070419932700512, 1.5070414632186182, 1.5070412865348073, 1.5070411098509962, 1.5070411098509962, 1.5070411098509962, 1.5070404914576578, 1.5064739977632788, 1.5064374481670708, 1.5063879370280435, 1.5064133738868706, 1.506380404725932, 1.5064044244495676, 1.5063713471173086, 1.5063955446444734, 1.5063863912174542, 4.8181387694249365, 4.871558332357365, 3.202577640533603, 7.234289980926869, 7.455400785919652, 7.4517559216271465, 14.459489963876678, 14.491131358618054, 28.874072441144207, 6.255564452893793, 6.45549718085387, 13.851435796000036, 6.7839217981858395, 3.911273748554342, 3.967446471645128, 7.1609794574331955, 4.048548436742401, 7.326801181093968, 7.92376986536877, 4.732578687712981, 25.678224842427824, 5.2210289394021, 10.108289015878675, 8.419025514060177, 5.2795027074494945, 2.361557099104669, 2.349025908833271, 4.926433198611762, 3.958490077293667, 1.4765432051005885, 1.4765432051005885, 1.4765430922763314, 1.4765430922763314, 1.4765430922763314, 1.4765430922763314, 1.4765429794520744, 1.4765429230399458, 1.4765424717429172, 1.4765423589186601, 1.4765336150387338, 1.4737940648955008, 1.4728216252724833, 1.4722878223742084, 1.4707465062167506, 1.470730179128927, 1.4705717976666934, 1.4702725394552392, 1.4697821644958902, 1.469574351704566, 1.469279888876035, 1.4688511441349024, 1.4633857047556038, 1.463144897254125, 2.9697784487081895, 4.597607367774656, 3.103667984923048, 4.906777322208484, 4.898331447484627, 3.1424797125372845, 6.7839217981858395, 14.491131358618054, 4.030533547230887, 7.477511265175957, 4.534835996551583, 10.085597586260604, 17.787158393599565, 4.89631441851069, 28.874072441144207, 5.747574375948722, 25.678224842427824, 6.2823137558807, 7.545496305273391, 8.419025514060177, 13.851435796000036, 14.459489963876678, 2.0847646543496285, 5.2210289394021, 2.2306049178079954, 2.2306043644693268, 1.4110721689490344, 1.4110721689490344, 1.4110720997817008, 1.4110720997817008, 1.4110720997817008, 1.4110719614470335, 1.4110718922796999, 1.4110718922796999, 1.4110718922796999, 1.4110717539450328, 1.4110714772756983, 1.4110714772756983, 1.4110714772756983, 2.984024462084396, 3.0356338587503795, 5.394963311921491, 17.787158393599565, 3.6446980088119454, 3.7008937018877788, 1.9495151961471666, 1.9495648490640853, 2.006957193875425, 2.019293251844356, 2.1457888795184648, 2.1566156130950644, 2.1645633960978987, 2.2155520477590116, 2.2161016388453394, 10.400294849551308, 7.326801181093968, 25.678224842427824, 10.085597586260604, 5.747574375948722, 14.459489963876678, 4.534835996551583, 7.1609794574331955, 3.0308419252028624, 3.5430047093123838, 2.2161013173934196, 5.327187133486671, 3.070701715093008, 1.39658705402203, 1.3965869929829458, 1.3965869929829458, 1.396586321553019, 1.396054500355624, 1.3960141128494077, 1.3960186093605076, 1.3958986633546009, 1.395882116378309, 1.3957994405577276, 1.3959058101989337, 1.3958481976514376, 2.981381938924903, 1.9038851373652694, 2.130742833815922, 2.130623702829131, 2.1500788199000764, 2.1492666032985364, 2.1776965628037486, 2.1775881933281505, 2.2161016388453394, 2.2161013173934196, 2.2155520477590116, 2.276182614916889, 2.31207011242976, 2.3105115533255836, 2.3114549961013404, 5.226359004529358, 2.875754038140098, 2.9316457410648287, 6.043691619027313, 6.89347233824608, 28.874072441144207, 13.851435796000036, 10.400294849551308, 25.678224842427824, 17.787158393599565, 3.0356338587503795, 3.1308106353244605, 3.6446980088119454, 7.326801181093968, 10.108289015878675, 6.255564452893793, 5.344762005026255, 1.3916279852238074, 1.3916279852238074, 1.3916278049002586, 1.3916276846845594, 1.3916275043610107, 1.3916275043610107, 1.3916273841453115, 1.3916273841453115, 1.391627324037462, 2.9960411513137037, 3.0694733481007175, 3.071145083605839, 3.072545936140074, 3.073304535447016, 1.5868890612530193, 5.057589251497732, 7.4517559216271465, 2.126367500809235, 2.172809801248742, 2.1730356495503864, 2.173226985771236, 4.391022192534313, 2.274887907212361, 2.3062546535770565, 2.3064047918468997, 2.3064212969448996, 2.306515844977536, 4.89631441851069, 3.1424797125372845, 3.1885018550810242, 10.108289015878675, 7.92376986536877, 25.678224842427824, 10.400294849551308, 4.926433198611762, 5.2210289394021, 7.326801181093968, 14.491131358618054, 3.8496190750843873, 3.8034364749104568, 2.9362915403580403, 2.154713058755343, 3.544738776622987, 1.3733470135400523, 1.3731886123504435, 1.3731217696163212, 1.3729208381721991, 1.372809158779748, 1.3727735994601418, 5.394963311921491, 3.823735052711979, 2.126746561550993, 6.210069472794411, 2.173226985771236, 2.1730356495503864, 2.172809801248742, 2.1776965628037486, 2.1775881933281505, 2.2504324921812606, 6.839575616788965, 6.89347233824608, 2.842572851438612, 2.879698761718883, 2.9316457410648287, 2.981381938924903, 3.202577640533603, 3.8034364749104568, 7.843138807015819, 4.925408489188607, 5.226359004529358, 25.678224842427824, 6.043691619027313, 6.283501912059853, 5.2795027074494945, 5.344762005026255, 1.3366384763434918, 1.3366384763434918, 1.3366383836306752, 1.3366383836306752, 1.3366382909178587, 1.3366381054922258, 1.3366379200665928, 1.3366379200665928, 1.84464339619428, 3.911273748554342, 2.0821810589060834, 2.0901309746905494, 10.108289015878675, 2.2154184250668627, 7.234289980926869, 2.875754038140098, 3.0308419252028624, 3.070701715093008, 3.3838045865037203, 3.5429009945913177, 4.081763217947925, 4.597607367774656, 5.226359004529358, 5.344762005026255, 6.210069472794411, 6.283501912059853, 6.45549718085387, 6.656286905623142, 7.130989364874928, 7.1609794574331955, 14.459489963876678, 28.874072441144207, 14.491131358618054, 7.545496305273391, 13.851435796000036, 7.92376986536877, 10.085597586260604, 8.419025514060177, 7.843138807015819, 17.787158393599565, 7.326801181093968, 2.0985550152264305, 1.3450502278475298, 1.3450500429197052, 1.9406766576544614, 5.758118488553142, 2.090594534751356, 2.0901309746905494, 2.126746561550993, 2.1500788199000764, 2.1645633960978987, 2.2597303155540067, 2.25978318149863, 2.260534054029588, 7.1609794574331955, 2.8361501136676246, 2.879698761718883, 2.9316457410648287, 3.103667984923048, 3.139028858597697, 3.3363867622850014, 3.5429009945913177, 3.823735052711979, 3.8496190750843873, 3.8796567633263455, 4.030533547230887, 7.92376986536877, 8.419025514060177, 4.732578687712981, 4.898331447484627, 4.925408489188607, 6.839575616788965, 10.085597586260604, 28.874072441144207, 13.851435796000036, 6.2823137558807, 7.843138807015819, 5.550470217348483, 6.283501912059853, 7.477511265175957, 5.344762005026255, 2.8518212097737843, 2.098424592866478, 2.099850942536453, 2.0998500981483654, 1.3449804246159214, 1.3449801426289274, 1.3449767996327122, 1.3449755713439762, 2.0905357803275435, 2.1492666032985364, 7.130989364874928, 2.879698761718883, 2.984024462084396, 6.255564452893793, 6.2823137558807, 13.851435796000036, 7.545496305273391, 4.732578687712981, 28.874072441144207, 5.057589251497732, 5.226359004529358, 5.344762005026255, 5.747574375948722, 6.043691619027313, 6.45549718085387, 6.839575616788965, 7.455400785919652, 14.459489963876678, 14.491131358618054, 0.7436785843534583, 25.678224842427824, 2.569009469794679, 1.3262753314206295, 1.3262753314206295, 1.3262753314206295, 1.3262737232738875, 1.3262606067866165, 1.3262869551652363, 1.3262888864622093, 1.3262908520055536, 1.3262914513094721, 2.842572851438612, 1.834280259344932, 3.7008937018877788, 2.126367500809235, 2.130623702829131, 2.130742833815922, 2.1457888795184648, 2.206820216502414, 2.875754038140098, 3.3838045865037203, 6.89347233824608, 10.400294849551308, 7.477511265175957, 3.8796567633263455, 3.958490077293667, 4.071065836132243, 8.419025514060177, 4.871558332357365, 5.2795027074494945, 6.043691619027313, 25.678224842427824, 6.839575616788965, 7.92376986536877, 6.45549718085387, 14.459489963876678, 6.283501912059853, 17.787158393599565, 2.0826544922256334, 2.0826550173339884, 1.3371003297860713, 1.3371005616155944, 1.3371007873076144, 1.3371014670359282, 1.3371015044781283, 1.3371016634533275, 1.337101929877833, 2.8361501136676246, 2.0821810589060834, 2.0905357803275435, 2.090594534751356, 2.1566156130950644, 2.251854378564779, 4.925408489188607, 5.327187133486671, 5.550470217348483, 2.84765442556637, 3.8034364749104568, 3.967446471645128, 7.843138807015819, 4.048548436742401, 4.391022192534313, 4.534835996551583, 4.906777322208484, 5.226359004529358, 5.2795027074494945, 6.2823137558807, 6.283501912059853, 28.874072441144207, 25.678224842427824, 14.459489963876678, 7.477511265175957, 6.656286905623142, 6.839575616788965, 1.1997785149757676, 1.1997787782780445, 1.199779051472972, 1.1997791028874552, 3.5430047093123838, 2.019293251844356, 2.0847646543496285, 2.9697784487081895, 3.544738776622987, 3.6446980088119454, 7.545496305273391, 4.534835996551583, 4.597607367774656, 4.89631441851069, 5.2210289394021, 6.255564452893793, 17.787158393599565, 10.400294849551308, 0.7436785843534583, 0.7868189476539786, 0.9446164036954517, 0.9446164358895893, 0.944616500277864, 1.0995626496001647, 1.0995626496001647, 1.1297848188013295, 1.1299539108063934, 1.1299882136968085, 1.1871761004270645, 1.1872777159377579, 25.678224842427824, 28.874072441144207, 1.3957994405577276, 1.3958481976514376, 1.395882116378309, 1.3958986633546009, 1.3959058101989337, 1.3960141128494077, 1.3960186093605076, 1.396054500355624, 2.981381938924903, 1.9038851373652694, 2.1492666032985364, 6.043691619027313, 6.89347233824608, 5.226359004529358, 13.851435796000036, 2.9960411513137037, 3.184789459822502, 1.1871761004270645, 1.1872777159377579, 1.1872911391156549, 1.1872984394807007, 1.1873112719886139, 1.187352891605858, 1.1873806799224853, 1.9406766576544614, 2.006957193875425, 2.065127802368234, 10.085597586260604, 2.84765442556637, 4.8181387694249365, 5.2795027074494945, 5.327187133486671, 0.7436785843534583, 0.7868189476539786, 0.9446164036954517, 0.9446164358895893, 0.944616500277864, 1.0995626496001647, 1.0995626496001647, 1.1297848188013295, 1.1299539108063934, 1.1299882136968085, 1.1997785149757676, 1.1997787782780445, 1.199779051472972, 1.1997791028874552, 25.678224842427824, 1.5063879370280435, 1.506380404725932, 1.5063713471173086, 1.5064374481670708, 1.5064133738868706, 1.5064044244495676, 1.5064739977632788, 1.5063955446444734, 4.251955129100652, 28.874072441144207, 1.5063524890701059, 14.459489963876678, 6.656286905623142, 4.732578687712981, 4.871558332357365, 6.255564452893793, 7.130989364874928, 13.851435796000036, 6.210069472794411, 2.306515844977536, 2.251854378564779, 1.1299882136968085, 1.1299539108063934, 1.1297848188013295, 2.487805080536228, 3.3363867622850014, 1.9495648490640853, 1.9495151961471666, 6.210069472794411, 5.758118488553142, 3.5429009945913177, 4.391022192534313, 10.085597586260604, 0.7436785843534583, 0.7868189476539786, 0.9446164036954517, 0.9446164358895893, 0.944616500277864, 1.0995626496001647, 1.0995626496001647, 1.1871761004270645, 1.1872777159377579, 1.1872911391156549, 1.1872984394807007, 1.1873112719886139, 1.187352891605858, 1.1873806799224853, 1.1997785149757676, 1.1997787782780445, 1.199779051472972, 1.1997791028874552, 4.898331447484627, 14.491131358618054, 3.958490077293667, 28.874072441144207, 3.1424797125372845, 5.747574375948722, 13.851435796000036, 4.926433198611762, 2.349025908833271, 4.89631441851069, 6.7839217981858395, 2.206820216502414, 3.103667984923048, 1.4633857047556038, 3.0694733481007175, 1.4688511441349024, 3.139028858597697, 6.89347233824608, 1.0995626496001647, 1.0995626496001647, 1.834280259344932, 1.84464339619428, 1.9038851373652694, 2.569009469794679, 6.283501912059853, 3.3838045865037203, 7.843138807015819, 4.925408489188607, 5.057589251497732, 8.419025514060177, 10.400294849551308, 0.7436785843534583, 0.7868189476539786, 0.9446164036954517, 0.9446164358895893, 0.944616500277864, 1.1297848188013295, 1.1299539108063934, 1.1299882136968085, 1.1871761004270645, 1.1872777159377579, 1.1872911391156549, 1.1872984394807007, 1.1873112719886139, 1.187352891605858, 1.1873806799224853, 1.1997785149757676, 1.1997787782780445, 1.4633857047556038, 1.469574351704566, 1.4722878223742084, 1.4697821644958902, 1.463144897254125, 1.4702725394552392, 1.4705717976666934, 1.4728216252724833, 1.4688511441349024, 4.898331447484627, 14.491131358618054, 10.085597586260604, 3.958490077293667, 2.349025908833271, 3.1424797125372845, 28.874072441144207, 13.851435796000036, 4.89631441851069, 5.747574375948722, 4.926433198611762, 6.7839217981858395, 3.103667984923048, 14.459489963876678, 0.944616500277864, 0.9446164358895893, 0.9446164036954517, 4.89631441851069, 5.2210289394021, 7.477511265175957, 14.459489963876678, 0.7436785843534583, 0.7868189476539786, 17.787158393599565, 1.463144897254125, 1.4633857047556038, 1.1297848188013295, 1.1299539108063934, 1.1299882136968085, 1.0995626496001647, 1.0995626496001647, 1.4688511441349024, 1.469279888876035, 1.469574351704566, 1.4697821644958902, 1.1871761004270645, 1.1872777159377579, 1.1872911391156549, 1.1872984394807007, 1.1873112719886139, 1.187352891605858, 1.1873806799224853, 1.4702725394552392, 1.1997785149757676, 1.4705717976666934, 1.470730179128927, 1.4707465062167506, 1.4722878223742084, 1.4728216252724833, 2.349025908833271, 3.1424797125372845, 3.958490077293667, 2.065127802368234, 2.2504324921812606, 3.103667984923048, 10.085597586260604, 4.898331447484627, 3.0308419252028624, 5.747574375948722, 2.2154184250668627, 3.0694733481007175, 13.851435796000036, 14.491131358618054, 28.874072441144207, 7.455400785919652, 6.7839217981858395, 6.210069472794411, 0.7868189476539786, 1.5868890612530193, 1.671803556711822, 0.7436785843534583, 0.9446164036954517, 0.9446164358895893, 0.944616500277864, 1.0995626496001647, 1.0995626496001647, 1.1297848188013295, 1.1299539108063934, 1.1299882136968085, 1.1871761004270645, 1.1872777159377579, 1.1872911391156549, 1.1872984394807007, 1.1873112719886139, 1.187352891605858, 1.1873806799224853, 1.1997785149757676, 1.1997787782780445, 1.199779051472972, 1.1997791028874552, 1.3262606067866165, 1.3262737232738875, 1.3262753314206295, 1.3262753314206295, 1.3262753314206295, 1.3262869551652363, 1.3262888864622093, 2.099850942536453, 3.7008937018877788, 17.787158393599565, 3.6446980088119454, 2.0998500981483654, 2.842572851438612, 7.477511265175957, 5.2210289394021, 14.459489963876678, 4.89631441851069, 6.45549718085387, 1.5070414632186182, 14.491131358618054, 2.4225719173626685, 13.851435796000036, 1.5070412865348073, 28.874072441144207, 7.545496305273391, 25.678224842427824, 2.260534054029588, 7.455400785919652, 7.326801181093968, 6.7839217981858395, 0.7436785843534583, 5.2210289394021, 0.7868189476539786, 0.9446164036954517, 0.9446164358895893, 0.944616500277864, 1.0995626496001647, 1.0995626496001647, 1.1297848188013295, 1.1299539108063934, 1.1299882136968085, 1.1871761004270645, 1.1872777159377579, 1.1872911391156549, 1.1872984394807007, 1.1873112719886139, 1.187352891605858, 1.1873806799224853, 1.1997785149757676, 1.1997787782780445, 1.199779051472972, 1.1997791028874552, 1.3262606067866165, 1.3262737232738875, 1.3262753314206295, 1.3262753314206295, 1.3262753314206295, 1.3262869551652363, 1.3262888864622093, 1.3262908520055536, 2.099850942536453, 3.7008937018877788, 17.787158393599565, 3.6446980088119454, 2.0998500981483654, 2.842572851438612, 7.477511265175957, 14.459489963876678, 4.89631441851069, 6.45549718085387, 1.5070414632186182, 14.491131358618054, 2.4225719173626685, 13.851435796000036, 1.5070412865348073, 28.874072441144207, 7.545496305273391, 25.678224842427824, 2.260534054029588, 7.455400785919652, 7.326801181093968, 6.7839217981858395, 5.2795027074494945, 4.8181387694249365, 0.7436785843534583, 0.7868189476539786, 0.9446164036954517, 0.9446164358895893, 0.944616500277864, 1.0995626496001647, 1.0995626496001647, 1.1297848188013295, 1.1299539108063934, 1.1299882136968085, 1.1871761004270645, 1.1872777159377579, 1.1872911391156549, 1.1872984394807007, 1.1873112719886139, 1.187352891605858, 1.1873806799224853, 1.1997785149757676, 1.1997787782780445, 1.199779051472972, 1.1997791028874552, 1.3727735994601418, 1.372809158779748, 1.3729208381721991, 1.3731217696163212, 1.3731886123504435, 1.3733470135400523, 1.3262606067866165, 1.3262737232738875, 1.3262753314206295, 2.154713058755343, 2.9362915403580403, 3.544738776622987, 6.210069472794411, 2.172809801248742, 5.394963311921491, 6.89347233824608, 2.1730356495503864, 25.678224842427824, 3.823735052711979, 2.173226985771236, 2.2504324921812606, 2.126746561550993, 2.1775881933281505, 2.1776965628037486, 2.981381938924903, 2.879698761718883, 6.839575616788965, 3.202577640533603, 7.843138807015819, 2.842572851438612, 2.9316457410648287, 3.8034364749104568, 4.925408489188607, 5.344762005026255, 14.491131358618054, 5.2795027074494945, 6.283501912059853, 0.7436785843534583, 0.7868189476539786, 0.9446164036954517, 0.9446164358895893, 0.944616500277864, 1.0995626496001647, 1.0995626496001647, 1.1297848188013295, 1.1299539108063934, 1.1299882136968085, 1.1871761004270645, 1.1872777159377579, 1.1872911391156549, 1.1872984394807007, 1.1873112719886139, 1.187352891605858, 1.1873806799224853, 1.1997785149757676, 1.1997787782780445, 1.199779051472972, 1.1997791028874552, 1.3262606067866165, 1.3262737232738875, 1.3262753314206295, 1.3262753314206295, 1.3262753314206295, 1.3262869551652363, 1.3262888864622093, 1.3262908520055536, 1.3262914513094721, 2.099850942536453, 3.7008937018877788, 17.787158393599565, 3.6446980088119454, 2.0998500981483654, 2.842572851438612, 7.477511265175957, 5.2210289394021, 14.459489963876678, 4.89631441851069, 6.45549718085387, 1.5070414632186182, 14.491131358618054, 2.4225719173626685, 13.851435796000036, 1.5070412865348073, 28.874072441144207, 7.545496305273391, 25.678224842427824, 2.260534054029588, 7.455400785919652, 7.326801181093968, 6.7839217981858395, 5.2795027074494945, 4.8181387694249365, 3.967446471645128], \"Category\": [\"Default\", \"Default\", \"Default\", \"Default\", \"Default\", \"Default\", \"Default\", \"Default\", \"Default\", \"Default\", \"Default\", \"Default\", \"Default\", \"Default\", \"Default\", \"Default\", \"Default\", \"Default\", \"Default\", \"Default\", \"Default\", \"Default\", \"Default\", \"Default\", \"Default\", \"Default\", \"Default\", \"Default\", \"Default\", \"Default\", \"Topic1\", \"Topic1\", \"Topic1\", \"Topic1\", \"Topic1\", \"Topic1\", \"Topic1\", \"Topic1\", \"Topic1\", \"Topic1\", \"Topic1\", \"Topic1\", \"Topic1\", \"Topic1\", \"Topic1\", \"Topic1\", \"Topic1\", \"Topic1\", \"Topic1\", \"Topic1\", \"Topic1\", \"Topic1\", \"Topic1\", \"Topic1\", \"Topic1\", \"Topic1\", \"Topic1\", \"Topic1\", \"Topic1\", \"Topic1\", \"Topic1\", \"Topic1\", \"Topic1\", \"Topic1\", \"Topic1\", \"Topic1\", \"Topic1\", \"Topic1\", \"Topic1\", \"Topic1\", \"Topic1\", \"Topic1\", \"Topic1\", \"Topic1\", \"Topic1\", \"Topic1\", \"Topic1\", \"Topic1\", \"Topic1\", \"Topic1\", \"Topic1\", \"Topic1\", \"Topic1\", \"Topic1\", \"Topic1\", \"Topic2\", \"Topic2\", \"Topic2\", \"Topic2\", \"Topic2\", \"Topic2\", \"Topic2\", \"Topic2\", \"Topic2\", \"Topic2\", \"Topic2\", \"Topic2\", \"Topic2\", \"Topic2\", \"Topic2\", \"Topic2\", \"Topic2\", \"Topic2\", \"Topic2\", \"Topic2\", \"Topic2\", \"Topic2\", \"Topic2\", \"Topic2\", \"Topic2\", \"Topic2\", \"Topic2\", \"Topic2\", \"Topic2\", \"Topic2\", \"Topic2\", \"Topic2\", \"Topic2\", \"Topic2\", \"Topic2\", \"Topic2\", \"Topic2\", \"Topic2\", \"Topic2\", \"Topic2\", \"Topic2\", \"Topic2\", \"Topic2\", \"Topic2\", \"Topic2\", \"Topic2\", \"Topic2\", \"Topic2\", \"Topic2\", \"Topic2\", \"Topic2\", \"Topic2\", \"Topic3\", \"Topic3\", \"Topic3\", \"Topic3\", \"Topic3\", \"Topic3\", \"Topic3\", \"Topic3\", \"Topic3\", \"Topic3\", \"Topic3\", \"Topic3\", \"Topic3\", \"Topic3\", \"Topic3\", \"Topic3\", \"Topic3\", \"Topic3\", \"Topic3\", \"Topic3\", \"Topic3\", \"Topic3\", \"Topic3\", \"Topic3\", \"Topic3\", \"Topic3\", \"Topic3\", \"Topic3\", \"Topic3\", \"Topic3\", \"Topic3\", \"Topic3\", \"Topic3\", \"Topic3\", \"Topic3\", \"Topic3\", \"Topic3\", \"Topic3\", \"Topic3\", \"Topic3\", \"Topic3\", \"Topic3\", \"Topic3\", \"Topic4\", \"Topic4\", \"Topic4\", \"Topic4\", \"Topic4\", \"Topic4\", \"Topic4\", \"Topic4\", \"Topic4\", \"Topic4\", \"Topic4\", \"Topic4\", \"Topic4\", \"Topic4\", \"Topic4\", \"Topic4\", \"Topic4\", \"Topic4\", \"Topic4\", \"Topic4\", \"Topic4\", \"Topic4\", \"Topic4\", \"Topic4\", \"Topic4\", \"Topic4\", \"Topic4\", \"Topic4\", \"Topic4\", \"Topic4\", \"Topic4\", \"Topic4\", \"Topic4\", \"Topic4\", \"Topic4\", \"Topic4\", \"Topic4\", \"Topic4\", \"Topic4\", \"Topic4\", \"Topic4\", \"Topic4\", \"Topic4\", \"Topic4\", \"Topic5\", \"Topic5\", \"Topic5\", \"Topic5\", \"Topic5\", \"Topic5\", \"Topic5\", \"Topic5\", \"Topic5\", \"Topic5\", \"Topic5\", \"Topic5\", \"Topic5\", \"Topic5\", \"Topic5\", \"Topic5\", \"Topic5\", \"Topic5\", \"Topic5\", \"Topic5\", \"Topic5\", \"Topic5\", \"Topic5\", \"Topic5\", \"Topic5\", \"Topic5\", \"Topic5\", \"Topic5\", \"Topic5\", \"Topic5\", \"Topic5\", \"Topic5\", \"Topic5\", \"Topic5\", \"Topic5\", \"Topic5\", \"Topic5\", \"Topic5\", \"Topic5\", \"Topic5\", \"Topic6\", \"Topic6\", \"Topic6\", \"Topic6\", \"Topic6\", \"Topic6\", \"Topic6\", \"Topic6\", \"Topic6\", \"Topic6\", \"Topic6\", \"Topic6\", \"Topic6\", \"Topic6\", \"Topic6\", \"Topic6\", \"Topic6\", \"Topic6\", \"Topic6\", \"Topic6\", \"Topic6\", \"Topic6\", \"Topic6\", \"Topic6\", \"Topic6\", \"Topic6\", \"Topic6\", \"Topic6\", \"Topic6\", \"Topic6\", \"Topic6\", \"Topic6\", \"Topic6\", \"Topic6\", \"Topic6\", \"Topic7\", \"Topic7\", \"Topic7\", \"Topic7\", \"Topic7\", \"Topic7\", \"Topic7\", \"Topic7\", \"Topic7\", \"Topic7\", \"Topic7\", \"Topic7\", \"Topic7\", \"Topic7\", \"Topic7\", \"Topic7\", \"Topic7\", \"Topic7\", \"Topic7\", \"Topic7\", \"Topic7\", \"Topic7\", \"Topic7\", \"Topic7\", \"Topic7\", \"Topic7\", \"Topic7\", \"Topic7\", \"Topic7\", \"Topic7\", \"Topic7\", \"Topic7\", \"Topic7\", \"Topic7\", \"Topic7\", \"Topic7\", \"Topic7\", \"Topic7\", \"Topic7\", \"Topic7\", \"Topic7\", \"Topic8\", \"Topic8\", \"Topic8\", \"Topic8\", \"Topic8\", \"Topic8\", \"Topic8\", \"Topic8\", \"Topic8\", \"Topic8\", \"Topic8\", \"Topic8\", \"Topic8\", \"Topic8\", \"Topic8\", \"Topic8\", \"Topic8\", \"Topic8\", \"Topic8\", \"Topic8\", \"Topic8\", \"Topic8\", \"Topic8\", \"Topic8\", \"Topic8\", \"Topic8\", \"Topic8\", \"Topic8\", \"Topic8\", \"Topic8\", \"Topic8\", \"Topic8\", \"Topic8\", \"Topic8\", \"Topic8\", \"Topic8\", \"Topic8\", \"Topic8\", \"Topic8\", \"Topic8\", \"Topic9\", \"Topic9\", \"Topic9\", \"Topic9\", \"Topic9\", \"Topic9\", \"Topic9\", \"Topic9\", \"Topic9\", \"Topic9\", \"Topic9\", \"Topic9\", \"Topic9\", \"Topic9\", \"Topic9\", \"Topic9\", \"Topic9\", \"Topic9\", \"Topic9\", \"Topic9\", \"Topic9\", \"Topic9\", \"Topic9\", \"Topic9\", \"Topic9\", \"Topic9\", \"Topic9\", \"Topic9\", \"Topic9\", \"Topic9\", \"Topic9\", \"Topic10\", \"Topic10\", \"Topic10\", \"Topic10\", \"Topic10\", \"Topic10\", \"Topic10\", \"Topic10\", \"Topic10\", \"Topic10\", \"Topic10\", \"Topic10\", \"Topic10\", \"Topic10\", \"Topic10\", \"Topic10\", \"Topic10\", \"Topic10\", \"Topic10\", \"Topic10\", \"Topic10\", \"Topic10\", \"Topic10\", \"Topic10\", \"Topic10\", \"Topic10\", \"Topic10\", \"Topic10\", \"Topic10\", \"Topic10\", \"Topic10\", \"Topic10\", \"Topic10\", \"Topic10\", \"Topic10\", \"Topic10\", \"Topic10\", \"Topic11\", \"Topic11\", \"Topic11\", \"Topic11\", \"Topic11\", \"Topic11\", \"Topic11\", \"Topic11\", \"Topic11\", \"Topic11\", \"Topic11\", \"Topic11\", \"Topic11\", \"Topic11\", \"Topic11\", \"Topic11\", \"Topic11\", \"Topic11\", \"Topic11\", \"Topic11\", \"Topic11\", \"Topic11\", \"Topic11\", \"Topic11\", \"Topic11\", \"Topic11\", \"Topic11\", \"Topic11\", \"Topic11\", \"Topic11\", \"Topic11\", \"Topic11\", \"Topic11\", \"Topic11\", \"Topic11\", \"Topic11\", \"Topic12\", \"Topic12\", \"Topic12\", \"Topic12\", \"Topic12\", \"Topic12\", \"Topic12\", \"Topic12\", \"Topic12\", \"Topic12\", \"Topic12\", \"Topic12\", \"Topic12\", \"Topic12\", \"Topic12\", \"Topic12\", \"Topic12\", \"Topic12\", \"Topic12\", \"Topic12\", \"Topic12\", \"Topic12\", \"Topic12\", \"Topic12\", \"Topic12\", \"Topic12\", \"Topic12\", \"Topic12\", \"Topic12\", \"Topic12\", \"Topic12\", \"Topic12\", \"Topic12\", \"Topic12\", \"Topic12\", \"Topic12\", \"Topic12\", \"Topic12\", \"Topic12\", \"Topic12\", \"Topic12\", \"Topic12\", \"Topic12\", \"Topic12\", \"Topic12\", \"Topic12\", \"Topic12\", \"Topic12\", \"Topic13\", \"Topic13\", \"Topic13\", \"Topic13\", \"Topic13\", \"Topic13\", \"Topic13\", \"Topic13\", \"Topic13\", \"Topic13\", \"Topic13\", \"Topic13\", \"Topic13\", \"Topic13\", \"Topic13\", \"Topic13\", \"Topic13\", \"Topic13\", \"Topic13\", \"Topic13\", \"Topic13\", \"Topic13\", \"Topic13\", \"Topic13\", \"Topic13\", \"Topic13\", \"Topic13\", \"Topic13\", \"Topic13\", \"Topic13\", \"Topic13\", \"Topic13\", \"Topic13\", \"Topic13\", \"Topic13\", \"Topic13\", \"Topic13\", \"Topic13\", \"Topic13\", \"Topic13\", \"Topic13\", \"Topic13\", \"Topic13\", \"Topic13\", \"Topic13\", \"Topic13\", \"Topic13\", \"Topic13\", \"Topic13\", \"Topic13\", \"Topic13\", \"Topic13\", \"Topic14\", \"Topic14\", \"Topic14\", \"Topic14\", \"Topic14\", \"Topic14\", \"Topic14\", \"Topic14\", \"Topic14\", \"Topic14\", \"Topic14\", \"Topic14\", \"Topic14\", \"Topic14\", \"Topic14\", \"Topic14\", \"Topic14\", \"Topic14\", \"Topic14\", \"Topic14\", \"Topic14\", \"Topic14\", \"Topic14\", \"Topic14\", \"Topic14\", \"Topic14\", \"Topic14\", \"Topic14\", \"Topic14\", \"Topic14\", \"Topic14\", \"Topic14\", \"Topic14\", \"Topic14\", \"Topic14\", \"Topic14\", \"Topic14\", \"Topic14\", \"Topic14\", \"Topic14\", \"Topic14\", \"Topic14\", \"Topic14\", \"Topic14\", \"Topic14\", \"Topic14\", \"Topic14\", \"Topic14\", \"Topic15\", \"Topic15\", \"Topic15\", \"Topic15\", \"Topic15\", \"Topic15\", \"Topic15\", \"Topic15\", \"Topic15\", \"Topic15\", \"Topic15\", \"Topic15\", \"Topic15\", \"Topic15\", \"Topic15\", \"Topic15\", \"Topic15\", \"Topic15\", \"Topic15\", \"Topic15\", \"Topic15\", \"Topic15\", \"Topic15\", \"Topic15\", \"Topic15\", \"Topic15\", \"Topic15\", \"Topic15\", \"Topic15\", \"Topic15\", \"Topic15\", \"Topic15\", \"Topic15\", \"Topic15\", \"Topic15\", \"Topic15\", \"Topic15\", \"Topic15\", \"Topic15\", \"Topic15\", \"Topic15\", \"Topic15\", \"Topic15\", \"Topic15\", \"Topic15\", \"Topic15\", \"Topic15\", \"Topic15\", \"Topic15\", \"Topic15\", \"Topic15\", \"Topic15\", \"Topic15\", \"Topic16\", \"Topic16\", \"Topic16\", \"Topic16\", \"Topic16\", \"Topic16\", \"Topic16\", \"Topic16\", \"Topic16\", \"Topic16\", \"Topic16\", \"Topic16\", \"Topic16\", \"Topic16\", \"Topic16\", \"Topic16\", \"Topic16\", \"Topic16\", \"Topic16\", \"Topic16\", \"Topic16\", \"Topic16\", \"Topic16\", \"Topic16\", \"Topic16\", \"Topic16\", \"Topic16\", \"Topic16\", \"Topic16\", \"Topic16\", \"Topic16\", \"Topic16\", \"Topic16\", \"Topic16\", \"Topic16\", \"Topic16\", \"Topic16\", \"Topic16\", \"Topic16\", \"Topic16\", \"Topic16\", \"Topic16\", \"Topic16\", \"Topic16\", \"Topic16\", \"Topic16\", \"Topic16\", \"Topic16\", \"Topic16\", \"Topic16\", \"Topic16\", \"Topic16\", \"Topic16\", \"Topic17\", \"Topic17\", \"Topic17\", \"Topic17\", \"Topic17\", \"Topic17\", \"Topic17\", \"Topic17\", \"Topic17\", \"Topic17\", \"Topic17\", \"Topic17\", \"Topic17\", \"Topic17\", \"Topic17\", \"Topic17\", \"Topic17\", \"Topic17\", \"Topic17\", \"Topic17\", \"Topic17\", \"Topic17\", \"Topic17\", \"Topic17\", \"Topic17\", \"Topic17\", \"Topic17\", \"Topic17\", \"Topic17\", \"Topic17\", \"Topic17\", \"Topic17\", \"Topic17\", \"Topic17\", \"Topic17\", \"Topic17\", \"Topic17\", \"Topic17\", \"Topic17\", \"Topic17\", \"Topic17\", \"Topic17\", \"Topic17\", \"Topic17\", \"Topic17\", \"Topic17\", \"Topic17\", \"Topic17\", \"Topic17\", \"Topic17\", \"Topic17\", \"Topic17\", \"Topic17\", \"Topic18\", \"Topic18\", \"Topic18\", \"Topic18\", \"Topic18\", \"Topic18\", \"Topic18\", \"Topic18\", \"Topic18\", \"Topic18\", \"Topic18\", \"Topic18\", \"Topic18\", \"Topic18\", \"Topic18\", \"Topic18\", \"Topic18\", \"Topic18\", \"Topic18\", \"Topic18\", \"Topic18\", \"Topic18\", \"Topic18\", \"Topic18\", \"Topic18\", \"Topic18\", \"Topic18\", \"Topic18\", \"Topic18\", \"Topic18\", \"Topic18\", \"Topic18\", \"Topic18\", \"Topic18\", \"Topic18\", \"Topic18\", \"Topic18\", \"Topic18\", \"Topic18\", \"Topic18\", \"Topic18\", \"Topic18\", \"Topic18\", \"Topic18\", \"Topic18\", \"Topic18\", \"Topic18\", \"Topic18\", \"Topic18\", \"Topic18\", \"Topic18\", \"Topic18\", \"Topic18\", \"Topic18\", \"Topic19\", \"Topic19\", \"Topic19\", \"Topic19\", \"Topic19\", \"Topic19\", \"Topic19\", \"Topic19\", \"Topic19\", \"Topic19\", \"Topic19\", \"Topic19\", \"Topic19\", \"Topic19\", \"Topic19\", \"Topic19\", \"Topic19\", \"Topic19\", \"Topic19\", \"Topic19\", \"Topic19\", \"Topic19\", \"Topic19\", \"Topic19\", \"Topic19\", \"Topic19\", \"Topic19\", \"Topic19\", \"Topic19\", \"Topic19\", \"Topic19\", \"Topic19\", \"Topic19\", \"Topic19\", \"Topic19\", \"Topic19\", \"Topic19\", \"Topic19\", \"Topic19\", \"Topic19\", \"Topic19\", \"Topic19\", \"Topic19\", \"Topic19\", \"Topic19\", \"Topic19\", \"Topic19\", \"Topic19\", \"Topic19\", \"Topic19\", \"Topic19\", \"Topic19\", \"Topic19\", \"Topic19\", \"Topic19\", \"Topic19\", \"Topic19\", \"Topic19\", \"Topic20\", \"Topic20\", \"Topic20\", \"Topic20\", \"Topic20\", \"Topic20\", \"Topic20\", \"Topic20\", \"Topic20\", \"Topic20\", \"Topic20\", \"Topic20\", \"Topic20\", \"Topic20\", \"Topic20\", \"Topic20\", \"Topic20\", \"Topic20\", \"Topic20\", \"Topic20\", \"Topic20\", \"Topic20\", \"Topic20\", \"Topic20\", \"Topic20\", \"Topic20\", \"Topic20\", \"Topic20\", \"Topic20\", \"Topic20\", \"Topic20\", \"Topic20\", \"Topic20\", \"Topic20\", \"Topic20\", \"Topic20\", \"Topic20\", \"Topic20\", \"Topic20\", \"Topic20\", \"Topic20\", \"Topic20\", \"Topic20\", \"Topic20\", \"Topic20\", \"Topic20\", \"Topic20\", \"Topic20\", \"Topic20\", \"Topic20\", \"Topic20\", \"Topic20\", \"Topic20\", \"Topic20\", \"Topic20\", \"Topic20\"], \"logprob\": [30.0, 29.0, 28.0, 27.0, 26.0, 25.0, 24.0, 23.0, 22.0, 21.0, 20.0, 19.0, 18.0, 17.0, 16.0, 15.0, 14.0, 13.0, 12.0, 11.0, 10.0, 9.0, 8.0, 7.0, 6.0, 5.0, 4.0, 3.0, 2.0, 1.0, -3.9371, -4.6159, -4.6177, -4.6199, -4.6201, -4.6206, -3.7182, -4.2228, -4.2213, -5.285, -5.285, -5.285, -5.285, -5.285, -5.285, -5.285, -5.285, -5.285, -5.285, -5.285, -5.285, -5.2878, -5.288, -5.2881, -5.2882, -5.2882, -5.2882, -5.2883, -5.2883, -5.2885, -4.2201, -4.2209, -4.6192, -3.9359, -3.9372, -3.938, -3.3828, -3.3837, -2.8461, -4.2224, -4.2201, -3.7158, -4.2219, -4.6199, -4.618, -4.2227, -4.6159, -4.2195, -4.221, -4.6193, -3.7165, -4.6159, -4.6116, -4.6178, -4.6178, -4.2013, -4.2129, -3.5229, -3.8182, -4.8704, -4.8704, -4.8704, -4.8704, -4.8704, -4.8704, -4.8704, -4.8704, -4.8704, -4.8704, -4.8704, -4.8753, -4.8771, -4.8781, -4.8808, -4.8809, -4.8812, -4.8817, -4.8826, -4.883, -4.8835, -4.8843, -4.8943, -4.8947, -4.2013, -3.8054, -4.2118, -3.804, -3.8147, -4.2191, -3.8087, -3.3035, -4.2013, -3.8073, -4.2013, -3.8204, -3.5204, -4.2261, -3.304, -4.2165, -3.5204, -4.2013, -4.2013, -4.2035, -4.2134, -4.2095, -4.8704, -4.8704, -3.7889, -3.7889, -4.4579, -4.4579, -4.4579, -4.4579, -4.4579, -4.4579, -4.4579, -4.4579, -4.4579, -4.4579, -4.4579, -4.4579, -4.4579, -3.7889, -3.7889, -3.3916, -2.2, -3.7932, -3.7932, -4.4579, -4.4579, -4.4579, -4.4579, -4.4579, -4.4579, -4.4579, -4.4579, -4.4579, -3.108, -3.7889, -3.108, -3.7889, -4.4579, -4.4579, -4.4579, -4.4579, -4.4579, -4.4579, -4.4579, -4.4579, -4.4579, -4.3507, -4.3507, -4.3507, -4.3508, -4.3554, -4.3555, -4.3555, -4.356, -4.3561, -4.3563, -4.3563, -4.3566, -3.6872, -4.3565, -4.3557, -4.3565, -4.3508, -4.3563, -4.3556, -4.3561, -4.3507, -4.3507, -4.3555, -4.3563, -4.3507, -4.3555, -4.3557, -3.6861, -4.3556, -4.3508, -3.6869, -3.6866, -2.7845, -3.2866, -3.6817, -3.2881, -3.6817, -4.3507, -4.3507, -4.3507, -4.3507, -4.3507, -4.3548, -4.3551, -4.3416, -4.3416, -4.3416, -4.3416, -4.3416, -4.3416, -4.3416, -4.3416, -4.3416, -3.6725, -3.6725, -3.6725, -3.6725, -3.6725, -4.3416, -3.2752, -2.9916, -4.3416, -4.3416, -4.3416, -4.3416, -3.6725, -4.3416, -4.3416, -4.3416, -4.3416, -4.3416, -3.6725, -4.3416, -4.3416, -3.2752, -3.6725, -2.9916, -3.6725, -4.3416, -4.3416, -4.3416, -4.3416, -4.3416, -4.3416, -3.1429, -3.5402, -3.1428, -4.2089, -4.2091, -4.2092, -4.2095, -4.2096, -4.2097, -3.1429, -3.5402, -4.209, -3.1435, -4.2092, -4.2094, -4.2097, -4.209, -4.2091, -4.2093, -3.1451, -3.1433, -4.2092, -4.2097, -4.2092, -4.21, -4.2097, -4.2096, -3.5402, -4.2097, -4.209, -2.6391, -4.2084, -4.2091, -4.2092, -4.2096, -4.153, -4.153, -4.153, -4.153, -4.153, -4.153, -4.153, -4.153, -4.153, -3.4832, -4.153, -4.153, -2.5841, -4.153, -3.0895, -4.153, -4.153, -4.1511, -4.153, -4.1517, -4.1505, -4.153, -4.1512, -4.151, -4.153, -4.153, -4.1499, -4.1495, -4.147, -4.1496, -3.4825, -3.0845, -4.1449, -4.15, -4.15, -4.1504, -4.153, -4.153, -4.153, -4.153, -4.153, -3.47, -4.1391, -4.1391, -4.1368, -3.0727, -4.1385, -4.1391, -4.1391, -4.1391, -4.1391, -4.1391, -4.1391, -4.1391, -3.0727, -4.1379, -4.1391, -4.1391, -4.1391, -4.1391, -4.1391, -4.1391, -4.1391, -4.1391, -4.1368, -4.1391, -3.47, -3.4684, -4.134, -4.1391, -4.1385, -4.1302, -4.1272, -4.126, -4.1334, -4.1357, -4.138, -4.1384, -4.1385, -4.1386, -4.1391, -3.0394, -3.4351, -3.4394, -3.4394, -4.1047, -4.1048, -4.1051, -4.1053, -4.1033, -4.1057, -3.039, -4.1033, -4.105, -3.4349, -3.4358, -2.7541, -3.4358, -4.1052, -2.3531, -4.1033, -4.1051, -4.1052, -4.1057, -4.1033, -4.105, -4.1033, -4.1054, -4.1049, -4.1052, -7.1478, -4.1054, -3.4068, -4.0759, -4.0759, -4.0759, -4.0759, -4.0759, -4.0769, -4.0771, -4.0773, -4.0773, -3.4076, -4.0759, -3.4068, -4.0778, -4.0771, -4.0775, -4.0759, -4.0771, -4.0759, -4.0769, -3.4084, -3.0095, -3.4063, -4.0768, -4.0774, -4.0773, -3.4068, -4.0771, -4.0755, -4.0776, -3.406, -4.0727, -4.073, -4.0738, -4.0749, -4.0759, -4.0759, -3.3735, -3.3736, -4.0426, -4.0426, -4.0426, -4.0427, -4.0427, -4.0427, -4.0428, -3.3737, -4.0426, -4.0426, -4.0428, -4.0427, -4.0427, -3.3734, -3.3736, -3.3735, -4.0427, -4.0427, -4.0428, -3.3724, -4.0428, -4.0427, -4.0425, -4.0428, -4.0377, -4.0406, -4.0428, -4.0427, -4.0299, -4.0348, -4.0385, -4.0412, -4.0426, -4.0426, -3.6084, -3.6084, -3.6084, -3.6084, -2.9393, -3.6084, -3.6084, -3.6084, -3.6084, -3.6084, -2.9393, -3.6084, -3.6084, -3.6084, -3.6084, -3.6066, -2.9393, -3.6084, -6.6529, -6.6529, -6.6529, -6.6529, -6.6529, -6.6529, -6.6529, -6.6529, -6.6529, -6.6529, -6.6529, -6.6529, -3.604, -3.6003, -6.5905, -6.6001, -6.6007, -6.6018, -6.6057, -6.6131, -6.6142, -6.618, -6.5775, -6.6031, -6.5982, -6.5598, -6.5637, -6.5806, -6.6004, -6.6016, -2.5185, -3.58, -3.5806, -3.5807, -3.5808, -3.5808, -3.5811, -3.5813, -3.5801, -3.5816, -3.5806, -2.2347, -3.58, -3.5816, -3.5809, -3.5811, -6.6224, -6.6224, -6.6224, -6.6224, -6.6224, -6.6224, -6.6224, -6.6224, -6.6224, -6.6224, -6.6224, -6.6224, -6.6224, -6.6224, -3.5797, -6.6071, -6.6078, -6.6084, -6.6103, -6.6111, -6.6112, -6.6113, -6.6114, -6.5855, -6.5525, -6.6122, -6.58, -6.5901, -6.594, -6.5973, -6.5967, -6.5976, -6.6005, -6.6072, -6.6074, -6.6076, -3.4385, -3.4387, -3.4396, -2.7699, -2.7699, -3.4382, -3.4385, -2.3727, -2.7699, -3.4397, -3.4393, -3.4391, -6.4793, -6.4793, -6.4793, -6.4793, -6.4793, -6.4793, -6.4793, -6.4793, -6.4793, -6.4793, -6.4793, -6.4793, -6.4793, -6.4793, -6.4793, -6.4793, -6.4793, -6.4793, -6.4793, -6.4793, -6.4793, -6.4793, -6.4793, -6.4793, -6.4793, -6.4793, -6.4793, -6.4793, -6.4793, -6.4793, -6.4793, -6.4793, -6.4793, -6.4793, -6.4793, -6.4793, -3.3741, -3.3741, -3.3741, -3.3741, -3.3741, -3.3741, -2.7051, -3.3741, -2.705, -3.3741, -3.3741, -3.374, -3.3741, -6.4186, -6.4186, -6.4186, -6.4186, -6.4186, -6.4186, -6.4186, -6.4186, -6.4186, -6.4186, -6.4186, -6.4186, -6.4186, -6.4186, -6.4186, -6.4186, -6.4186, -6.4152, -6.4152, -6.4155, -6.4158, -6.4159, -6.4159, -6.4161, -6.4162, -6.4163, -6.4085, -6.4097, -6.4102, -6.4107, -6.4126, -6.413, -6.4133, -6.4134, -6.4135, -6.4138, -6.4139, -6.4141, -6.4147, -6.4152, -3.149, -3.149, -3.149, -3.1025, -3.149, -3.1395, -3.1334, -6.1935, -6.1935, -3.149, -5.7871, -5.7935, -6.0985, -6.1151, -6.1185, -6.1935, -6.1935, -5.9409, -5.9534, -5.9629, -5.9688, -6.1935, -6.1935, -6.1935, -6.1935, -6.1935, -6.1935, -6.1935, -5.9835, -6.1935, -5.9925, -5.9973, -5.9977, -6.0471, -6.0642, -5.8105, -5.6536, -5.5773, -5.9573, -5.9434, -5.8393, -5.4635, -5.699, -5.8673, -5.7145, -5.9851, -5.9548, -5.7968, -5.8767, -5.8424, -5.9296, -5.9479, -5.9646, -2.8771, -2.8771, -2.8771, -5.9216, -5.9216, -5.9216, -5.9216, -5.9216, -5.9216, -5.9216, -5.9216, -5.9216, -5.9216, -5.9216, -5.9216, -5.9216, -5.9216, -5.9216, -5.9216, -5.9216, -5.9216, -5.9216, -5.9216, -5.9216, -5.9216, -5.9216, -5.9216, -5.9216, -5.9216, -5.9216, -5.9216, -5.9216, -5.9216, -5.9216, -5.9216, -5.9216, -5.9216, -5.9216, -5.9216, -5.9216, -5.9216, -5.9216, -5.9216, -5.9216, -5.9216, -5.9216, -5.9216, -5.9216, -5.9216, -5.9216, -5.9216, -5.9216, -5.9216, -2.822, -2.822, -5.8665, -5.8665, -5.8665, -5.8665, -5.8665, -5.8665, -5.8665, -5.8665, -5.8665, -5.8665, -5.8665, -5.8665, -5.8665, -5.8665, -5.8665, -5.8665, -5.8665, -5.8665, -5.8665, -5.8665, -5.8665, -5.8665, -5.8665, -5.8665, -5.8665, -5.8665, -5.8665, -5.8665, -5.8665, -5.8665, -5.8665, -5.8665, -5.8665, -5.8665, -5.8665, -5.8665, -5.8665, -5.8665, -5.8665, -5.8665, -5.8665, -5.8665, -5.8665, -5.8665, -5.8665, -5.8665, -5.8665, -5.8665, -5.8665, -5.8665, -5.8665, -5.8665, -5.7557, -5.7557, -5.7557, -5.7557, -5.7557, -5.7557, -5.7557, -5.7557, -5.7557, -5.7557, -5.7557, -5.7557, -5.7557, -5.7557, -5.7557, -5.7557, -5.7557, -5.7557, -5.7557, -5.7557, -5.7557, -5.6953, -5.6963, -5.6992, -5.7046, -5.7063, -5.7106, -5.7557, -5.7557, -5.7557, -5.6562, -5.6099, -5.6153, -5.5799, -5.6944, -5.6121, -5.5919, -5.7004, -5.4908, -5.6574, -5.7055, -5.703, -5.7081, -5.7071, -5.7089, -5.6886, -5.6953, -5.652, -5.6941, -5.6568, -5.7042, -5.7046, -5.697, -5.6946, -5.6959, -5.6947, -5.7045, -5.7058, -5.7462, -5.7462, -5.7462, -5.7462, -5.7462, -5.7462, -5.7462, -5.7462, -5.7462, -5.7462, -5.7462, -5.7462, -5.7462, -5.7462, -5.7462, -5.7462, -5.7462, -5.7462, -5.7462, -5.7462, -5.7462, -5.7462, -5.7462, -5.7462, -5.7462, -5.7462, -5.7462, -5.7462, -5.7462, -5.7462, -5.7462, -5.7462, -5.7462, -5.7462, -5.7462, -5.7462, -5.7462, -5.7462, -5.7462, -5.7462, -5.7462, -5.7462, -5.7462, -5.7462, -5.7462, -5.7462, -5.7462, -5.7462, -5.7462, -5.7462, -5.7462, -5.7462, -5.7462, -5.7462, -5.7462, -5.7462], \"loglift\": [30.0, 29.0, 28.0, 27.0, 26.0, 25.0, 24.0, 23.0, 22.0, 21.0, 20.0, 19.0, 18.0, 17.0, 16.0, 15.0, 14.0, 13.0, 12.0, 11.0, 10.0, 9.0, 8.0, 7.0, 6.0, 5.0, 4.0, 3.0, 2.0, 1.0, 1.4223, 1.3061, 1.3046, 1.3027, 1.3025, 1.3021, 1.1931, 1.1801, 1.179, 1.1117, 1.1117, 1.1117, 1.1117, 1.1117, 1.1117, 1.1117, 1.1117, 1.1117, 1.1117, 1.1117, 1.1117, 1.1092, 1.1091, 1.109, 1.1089, 1.1089, 1.1089, 1.1088, 1.1088, 1.1086, 1.0143, 1.0025, 1.0237, 0.8921, 0.8607, 0.8604, 0.7527, 0.7496, 0.5978, 0.7509, 0.7218, 0.4627, 0.6704, 0.8231, 0.8107, 0.6155, 0.7925, 0.5957, 0.5159, 0.6331, -0.1553, 0.5382, -0.1182, 0.0585, 0.5252, 1.7462, 1.7399, 1.6893, 1.6128, 1.5468, 1.5468, 1.5468, 1.5468, 1.5468, 1.5468, 1.5468, 1.5468, 1.5468, 1.5468, 1.5467, 1.5436, 1.5426, 1.5419, 1.5402, 1.5402, 1.54, 1.5397, 1.5391, 1.5389, 1.5386, 1.5381, 1.5318, 1.5315, 1.517, 1.4759, 1.4624, 1.4122, 1.4032, 1.4427, 1.0836, 0.8297, 1.2116, 0.9876, 1.0937, 0.6753, 0.4079, 0.9922, 0.1399, 0.8415, 0.0408, 0.7678, 0.5846, 0.4728, -0.0349, -0.074, 1.2018, 0.2838, 2.2157, 2.2157, 2.0045, 2.0045, 2.0045, 2.0045, 2.0045, 2.0045, 2.0045, 2.0045, 2.0045, 2.0045, 2.0045, 2.0045, 2.0045, 1.9247, 1.9075, 1.7298, 1.7283, 1.7204, 1.7051, 1.6813, 1.6813, 1.6523, 1.6462, 1.5854, 1.5804, 1.5767, 1.5534, 1.5531, 1.357, 1.0264, 0.4532, 0.7069, 0.6001, -0.3225, 0.8371, 0.3803, 1.2401, 1.0839, 1.5531, 0.6761, 1.227, 2.122, 2.122, 2.122, 2.122, 2.1178, 2.1177, 2.1177, 2.1173, 2.1172, 2.1171, 2.1169, 2.1167, 2.0272, 1.8065, 1.6946, 1.6939, 1.6906, 1.6854, 1.673, 1.6725, 1.6603, 1.6603, 1.6558, 1.6281, 1.6179, 1.6138, 1.6132, 1.467, 1.3949, 1.3805, 1.3209, 1.1896, 0.6594, 0.8918, 0.7833, 0.2731, 0.2467, 1.3457, 1.3148, 1.1628, 0.4645, 0.1427, 0.6186, 0.7756, 2.1348, 2.1348, 2.1348, 2.1348, 2.1348, 2.1348, 2.1348, 2.1348, 2.1348, 2.037, 2.0128, 2.0123, 2.0118, 2.0116, 2.0035, 1.9107, 1.8068, 1.7109, 1.6893, 1.6891, 1.6891, 1.6548, 1.6433, 1.6296, 1.6296, 1.6296, 1.6295, 1.5459, 1.3203, 1.3057, 1.2183, 1.0645, 0.5696, 0.7925, 0.8707, 0.8126, 0.4737, -0.2083, 1.1173, 1.1294, 2.5868, 2.499, 2.3985, 2.2807, 2.2806, 2.2805, 2.2804, 2.2803, 2.2803, 1.9785, 1.9254, 1.8432, 1.8372, 1.8215, 1.8213, 1.8211, 1.8196, 1.8195, 1.7864, 1.7391, 1.733, 1.5529, 1.5395, 1.5221, 1.5044, 1.4331, 1.2613, 1.207, 1.0027, 0.9441, 0.9221, 0.7994, 0.7598, 0.9338, 0.9211, 2.3637, 2.3637, 2.3637, 2.3637, 2.3637, 2.3637, 2.3637, 2.3637, 2.0416, 1.9598, 1.9204, 1.9166, 1.9093, 1.8584, 1.7385, 1.5975, 1.545, 1.5339, 1.4348, 1.3902, 1.2498, 1.1283, 1.0019, 0.9797, 0.8277, 0.8159, 0.7919, 0.7618, 0.6953, 0.6886, 0.653, 0.3594, -0.0116, 0.6359, 0.0284, 0.5865, 0.3428, 0.5234, 0.5942, -0.2246, 0.6623, 2.5956, 2.3713, 2.3713, 2.007, 1.9835, 1.9309, 1.9305, 1.9132, 1.9023, 1.8955, 1.8525, 1.8525, 1.8522, 1.7655, 1.6265, 1.6101, 1.5922, 1.5352, 1.5238, 1.4629, 1.4028, 1.3265, 1.3198, 1.3143, 1.2739, 1.267, 1.2079, 1.1183, 1.0789, 1.0739, 0.7539, 0.3685, -0.6821, 0.045, 0.8334, 0.6091, 0.9546, 0.8304, 0.6563, 0.9916, 2.7194, 2.6305, 2.6255, 2.6255, 2.4057, 2.4057, 2.4053, 2.4052, 1.9661, 1.936, 1.8034, 1.6459, 1.6085, 1.5385, 1.5332, 1.4243, 1.3501, 1.1472, 1.0908, 1.0827, 1.048, 1.0255, 0.9523, 0.9045, 0.8369, 0.7808, 0.6925, 0.0306, 0.0281, -0.0448, -0.5442, 2.4565, 2.4486, 2.4486, 2.4486, 2.4486, 2.4486, 2.4475, 2.4474, 2.4472, 2.4471, 2.3545, 2.1243, 2.0914, 1.9746, 1.9733, 1.9728, 1.9674, 1.9382, 1.6746, 1.5109, 1.4679, 1.4555, 1.3886, 1.3743, 1.3536, 1.3256, 1.2695, 1.1463, 1.0675, 0.9302, 0.1552, 0.8114, 0.664, 0.8681, 0.0606, 0.893, -0.1475, 2.6996, 2.6996, 2.4738, 2.4737, 2.4737, 2.4736, 2.4736, 2.4736, 2.4736, 2.3906, 2.0309, 2.0268, 2.0266, 1.9956, 1.9524, 1.839, 1.7604, 1.7195, 1.7176, 1.4282, 1.3859, 1.3748, 1.3656, 1.2846, 1.2525, 1.1734, 1.1154, 1.1024, 0.9263, 0.9262, -0.586, -0.4736, 0.097, 0.7538, 0.8687, 0.8415, 3.0163, 3.0163, 3.0163, 3.0163, 2.6025, 2.4957, 2.4638, 2.11, 1.933, 1.9052, 1.8466, 1.6867, 1.6729, 1.61, 1.5458, 1.3668, 0.989, 0.8566, 0.4501, 0.3937, 0.2109, 0.2109, 0.2109, 0.059, 0.059, 0.0319, 0.0318, 0.0317, -0.0176, -0.0177, -0.0428, -0.1564, -0.1171, -0.1267, -0.1274, -0.1286, -0.1324, -0.1399, -0.141, -0.1448, -0.863, -0.4402, -0.5565, -1.552, -1.6875, -1.4275, -2.422, -0.8921, 3.1299, 3.0552, 3.0545, 3.0544, 3.0544, 3.0543, 3.054, 3.0538, 2.5637, 2.5286, 2.501, 2.261, 2.1803, 1.6529, 1.5621, 1.553, 0.4806, 0.4242, 0.2415, 0.2415, 0.2415, 0.0896, 0.0896, 0.0625, 0.0623, 0.0623, 0.0023, 0.0023, 0.0023, 0.0023, -0.0185, -0.2099, -0.2107, -0.2113, -0.2132, -0.214, -0.2141, -0.2142, -0.2143, -1.2261, -3.1086, -0.2151, -2.4445, -1.6789, -1.3416, -1.3739, -1.6233, -1.7552, -2.4221, -1.6265, -0.6363, -0.6125, 3.2461, 3.2459, 3.2452, 3.1255, 2.8321, 2.701, 2.7008, 2.608, 2.2863, 2.1021, 1.888, 1.0566, 0.6236, 0.5673, 0.3845, 0.3845, 0.3845, 0.2326, 0.2326, 0.1559, 0.1558, 0.1558, 0.1558, 0.1558, 0.1558, 0.1557, 0.1454, 0.1454, 0.1454, 0.1454, -1.2614, -2.346, -1.0484, -3.0354, -0.8175, -1.4213, -2.3009, -1.2671, -0.5265, -1.261, -1.5871, -0.4641, -0.8051, -0.0533, -0.794, -0.057, -0.8164, -1.6031, 3.3378, 3.3378, 2.8261, 2.8204, 2.7888, 2.4892, 2.2638, 2.2137, 2.0422, 1.8383, 1.8118, 1.3023, 1.0909, 0.6843, 0.628, 0.4452, 0.4452, 0.4452, 0.2662, 0.266, 0.266, 0.2166, 0.2165, 0.2165, 0.2165, 0.2165, 0.2165, 0.2164, 0.2061, 0.2061, 0.0109, 0.0067, 0.0045, 0.0059, 0.0104, 0.0055, 0.0051, 0.0035, 0.0061, -1.1905, -2.2764, -1.9145, -0.9797, -0.4597, -0.7512, -2.9694, -2.235, -1.1952, -1.3557, -1.2017, -1.5218, -0.7405, -2.2797, 3.7148, 3.7148, 3.7148, 2.1159, 2.0052, 1.6554, 1.0021, 0.9095, 0.8531, 0.7794, 0.6392, 0.6326, 0.5863, 0.5695, 0.5661, 0.5184, 0.5184, 0.4814, 0.4686, 0.459, 0.453, 0.4418, 0.4417, 0.4417, 0.4417, 0.4417, 0.4416, 0.4416, 0.4379, 0.4312, 0.4286, 0.4238, 0.4234, 0.3729, 0.3555, 0.1423, 0.0082, -0.1464, 0.1244, 0.0523, -0.1651, -0.9677, -0.4811, -0.1694, -0.6564, 0.0263, -0.2695, -1.6184, -1.7434, -2.3985, -1.1317, -1.0556, -0.9839, 4.1695, 3.468, 3.4159, 1.1814, 0.9422, 0.9422, 0.9422, 0.7903, 0.7903, 0.7632, 0.7631, 0.763, 0.7137, 0.7136, 0.7136, 0.7136, 0.7136, 0.7135, 0.7135, 0.7031, 0.7031, 0.7031, 0.7031, 0.6029, 0.6029, 0.6029, 0.6029, 0.6029, 0.6029, 0.6029, 0.1434, -0.4233, -1.9932, -0.408, 0.1434, -0.1595, -1.1266, -0.7674, -1.7861, -0.7032, -0.9797, 0.4751, -1.7883, 0.0004, -1.7431, 0.4751, -2.4777, -1.1357, -2.3604, 0.0697, -1.1237, -1.1063, -1.0293, 4.281, 2.3322, 1.1801, 0.9973, 0.9973, 0.9973, 0.8454, 0.8454, 0.8183, 0.8182, 0.8182, 0.7688, 0.7687, 0.7687, 0.7687, 0.7687, 0.7686, 0.7686, 0.7582, 0.7582, 0.7582, 0.7582, 0.658, 0.658, 0.658, 0.658, 0.658, 0.658, 0.658, 0.658, 0.1985, -0.3682, -1.9381, -0.3529, 0.1985, -0.1043, -1.0715, -1.731, -0.6481, -0.9246, 0.5302, -1.7332, 0.0555, -1.688, 0.5302, -2.4226, -1.0806, -2.3053, 0.1248, -1.0686, -1.0512, -0.9742, -0.7235, -0.632, 1.3472, 1.2909, 1.1081, 1.1081, 1.1081, 0.9562, 0.9562, 0.9291, 0.9289, 0.9289, 0.8795, 0.8794, 0.8794, 0.8794, 0.8794, 0.8794, 0.8794, 0.869, 0.869, 0.869, 0.869, 0.7947, 0.7937, 0.7907, 0.7852, 0.7834, 0.779, 0.7687, 0.7687, 0.7687, 0.383, 0.1198, -0.074, -0.5992, 0.3364, -0.4908, -0.7156, 0.3303, -1.9296, -0.1918, 0.3251, 0.2927, 0.3441, 0.3215, 0.3196, 0.0259, 0.0539, -0.7679, -0.0512, -0.9096, 0.0579, 0.0266, -0.2261, -0.4822, -0.5652, -1.5614, -0.5615, -0.7369, 1.3568, 1.3004, 1.1176, 1.1176, 1.1176, 0.9657, 0.9657, 0.9386, 0.9384, 0.9384, 0.889, 0.889, 0.889, 0.8889, 0.8889, 0.8889, 0.8889, 0.8785, 0.8785, 0.8785, 0.8785, 0.7783, 0.7783, 0.7783, 0.7783, 0.7783, 0.7782, 0.7782, 0.7782, 0.7782, 0.3188, -0.2479, -1.8179, -0.2326, 0.3188, 0.0159, -0.9513, -0.5921, -1.6107, -0.5279, -0.8043, 0.6505, -1.6129, 0.1758, -1.5678, 0.6505, -2.3023, -0.9603, -2.185, 0.245, -0.9483, -0.9309, -0.8539, -0.6032, -0.5118, -0.3175]}, \"token.table\": {\"Topic\": [4, 14, 1, 3, 7, 8, 11, 5, 6, 2, 4, 6, 7, 8, 11, 15, 3, 12, 3, 4, 1, 2, 5, 1, 4, 2, 2, 3, 5, 8, 5, 10, 5, 2, 2, 1, 8, 7, 3, 2, 1, 2, 7, 9, 10, 1, 3, 4, 1, 4, 6, 7, 8, 9, 1, 2, 11, 3, 14, 1, 2, 8, 4, 1, 10, 3, 4, 5, 10, 12, 15, 3, 4, 2, 5, 2, 6, 1, 2, 8, 11, 1, 2, 5, 1, 5, 2, 5, 3, 10, 5, 2, 2, 5, 6, 8, 11, 15, 2, 12, 6, 3, 8, 3, 3, 2, 6, 1, 2, 8, 3, 1, 3, 7, 1, 2, 5, 6, 7, 9, 1, 7, 8, 14, 4, 14, 1, 6, 10, 11, 13, 4, 5, 9, 15, 13, 2, 3, 7, 9, 2, 14, 2, 5, 4, 7, 10, 15, 9, 1, 2, 8, 9, 11, 10, 1, 2, 13, 5, 10, 15, 2, 7, 12, 8, 13, 2, 6, 8, 11, 1, 5, 2, 7, 5, 3, 14, 1, 4, 7, 10, 7, 2, 12, 1, 1, 2, 4, 7, 8, 9, 1, 4, 6, 8, 1, 1, 5, 11, 1, 1, 2, 4, 7, 8, 9, 11, 12, 2, 2, 5, 3, 4, 12, 9, 1, 2, 7, 8, 10, 15, 8, 2, 4, 6, 10, 2, 5, 6, 11, 1, 5, 11, 14, 13, 1, 2, 15, 1, 10, 1, 11, 13, 2, 2, 5, 2, 1, 4, 6, 1, 8, 14, 1, 2, 8, 1, 1, 13, 1, 6, 8, 9, 10, 11, 8, 11, 3, 4, 8, 15, 7, 11, 1, 6, 8, 11, 2, 1, 6, 10, 4, 13, 2, 1, 3, 4, 1, 5, 1, 3, 11, 13, 6, 8, 9, 3, 11, 2, 13, 1, 1, 8, 14, 1, 2, 11, 7, 15, 1, 8, 9, 2, 4, 1, 5, 7, 8, 10, 3, 6, 1, 6, 7, 8, 10, 11, 15, 1, 3, 3, 6, 3, 1, 7, 11, 3, 10, 1, 5, 4, 15, 3, 1, 2, 3, 9, 2, 3, 9, 1, 4, 6, 7, 9, 11, 4, 6, 4, 10, 13, 2, 3, 4, 6, 8, 9, 10, 8, 3, 1, 5, 1, 3, 12, 7, 1, 2, 5, 2, 3, 4, 5, 7, 10, 12, 1, 2, 5, 7, 9, 12, 2, 10, 7, 2, 10, 11, 3, 4, 10, 4, 9, 5, 2, 1, 4, 8, 1, 4, 8, 9, 3, 13, 1, 2, 5, 12, 12, 9, 2, 7, 4, 1, 6, 7, 14, 5, 6, 10, 5, 1, 6, 1, 1, 2, 8, 10, 10, 15, 1, 5, 1, 11, 2, 3, 11, 12, 7, 2, 1, 4, 2, 13, 5, 6, 1, 10, 1, 7, 11, 3, 14, 1, 7, 10, 1, 1, 2, 3, 7, 9, 4, 1, 2, 3, 4, 5, 6, 9, 10, 11, 12, 13, 4, 6, 1, 3, 4, 5, 4, 3, 4, 13, 6, 2, 11, 2, 5, 6, 12, 1, 8, 12, 4, 6, 8, 12, 10, 1, 2, 3, 8, 9, 7, 1, 4, 1, 2, 3, 4, 7, 9, 10, 11, 4, 1, 7, 11, 6, 5, 4, 6, 2, 6, 10, 1, 4, 5, 7, 8, 2, 7, 1, 2, 8, 10, 11, 11, 11, 9, 3, 2, 5, 1, 2, 8, 11, 9, 11, 13, 10, 2, 9, 1, 3, 4, 5, 7, 2, 5, 12, 1, 5, 10, 3, 4, 12, 2, 3, 1, 10, 9, 7, 8, 2, 3, 4, 7, 8, 13, 14, 1, 11, 1, 4, 9, 12, 1, 1, 5, 1, 4], \"Freq\": [0.7163251365409893, 0.8849918482837486, 0.4189371046003991, 0.13964570153346637, 0.13964570153346637, 0.27929140306693273, 0.7478863771006681, 0.4602335645877918, 0.4602335645877918, 0.1274999747684541, 0.1274999747684541, 0.2549999495369082, 0.1274999747684541, 0.1274999747684541, 0.2549999495369082, 0.1274999747684541, 0.49522277117829866, 0.49522277117829866, 0.45124290669895945, 0.45124290669895945, 0.8261454821657158, 0.32538265845969894, 0.6507653169193979, 0.4328045876077409, 0.4328045876077409, 0.6808041808681451, 0.25976596138361535, 0.25976596138361535, 0.25976596138361535, 0.25976596138361535, 0.4702855925043194, 0.4702855925043194, 0.7185829404088923, 0.6785208488886844, 0.5981564018004871, 0.4425203303517047, 0.4425203303517047, 0.7481455061044459, 0.8966179892128971, 0.6772575272742363, 0.4647202091416899, 0.1549067363805633, 0.1549067363805633, 0.1549067363805633, 0.1549067363805633, 0.6638552445432709, 0.7086809746554631, 0.716410281349028, 0.18709906990425249, 0.18709906990425249, 0.18709906990425249, 0.18709906990425249, 0.18709906990425249, 0.18709906990425249, 0.20379975171767353, 0.6113992551530206, 0.20379975171767353, 0.40196075159733063, 0.40196075159733063, 0.6635517498399017, 0.644398824138268, 0.322199412069134, 0.7163228292909957, 0.6638284134585083, 0.7539921680205761, 0.2884533605438529, 0.1923022403625686, 0.1923022403625686, 0.1923022403625686, 0.0961511201812843, 0.0961511201812843, 0.6588409844734375, 0.32942049223671876, 0.32546299413712365, 0.6509259882742473, 0.6799268234009495, 0.7282320804338245, 0.36032983183097245, 0.18016491591548622, 0.18016491591548622, 0.36032983183097245, 0.4422220787984705, 0.4422220787984705, 0.14740735959949017, 0.4335752351603597, 0.4335752351603597, 0.6364400673839739, 0.3182200336919869, 0.4660290718928553, 0.4660290718928553, 0.7185831576705892, 0.6801460091001339, 0.6806055180983773, 0.20302884566732377, 0.20302884566732377, 0.20302884566732377, 0.40605769133464753, 0.20302884566732377, 0.47967045004989495, 0.47967045004989495, 0.9281978367714948, 0.4619869308529932, 0.4619869308529932, 0.7086811136067771, 0.7086811136067771, 0.677257863649256, 0.7282675303293901, 0.3185698650909286, 0.3185698650909286, 0.3185698650909286, 0.7086809746554631, 0.32565846271711585, 0.32565846271711585, 0.32565846271711585, 0.41404634679760366, 0.2760308978650691, 0.06900772446626728, 0.06900772446626728, 0.06900772446626728, 0.06900772446626728, 0.28225457090859307, 0.28225457090859307, 0.28225457090859307, 0.28225457090859307, 0.7163044134346224, 0.8849649827129205, 0.3788235579797991, 0.18941177898989955, 0.18941177898989955, 0.18941177898989955, 0.18941177898989955, 0.19772266000127717, 0.39544532000255433, 0.19772266000127717, 0.19772266000127717, 0.8422391192539692, 0.32994132477993465, 0.32994132477993465, 0.32994132477993465, 0.7013062365710669, 0.6804691432183035, 0.8851243027508303, 0.43958209845398327, 0.43958209845398327, 0.2955253397280956, 0.2955253397280956, 0.2955253397280956, 0.2955253397280956, 0.9524485569362171, 0.15917702280691215, 0.3183540456138243, 0.15917702280691215, 0.3183540456138243, 0.15917702280691215, 0.7539996248722866, 0.6226470725661689, 0.20754902418872295, 0.20754902418872295, 0.7185831887079852, 0.7785101703653293, 0.38925508518266466, 0.6525133096461142, 0.21750443654870472, 0.21750443654870472, 0.515284190210552, 0.515284190210552, 0.4443590303083196, 0.4443590303083196, 0.4783328299090453, 0.4783328299090453, 0.4335721324307083, 0.4335721324307083, 0.4513820002060421, 0.4513820002060421, 0.7185830955958052, 0.5129480406084053, 0.5129480406084053, 0.8255688863830712, 0.34773488509008676, 0.34773488509008676, 0.34773488509008676, 0.7481454542110744, 0.6734509104104958, 0.3367254552052479, 0.8260620174999233, 0.3609734090847016, 0.14438936363388064, 0.14438936363388064, 0.07219468181694032, 0.07219468181694032, 0.21658404545082094, 0.6638323572140296, 0.34110533411065597, 0.34110533411065597, 0.34110533411065597, 0.6635518276339561, 0.5041025794030907, 0.25205128970154533, 0.25205128970154533, 0.6638429422360537, 0.3809646187742299, 0.1385325886451745, 0.1385325886451745, 0.06926629432258725, 0.03463314716129363, 0.17316573580646813, 0.03463314716129363, 0.03463314716129363, 0.6833468420186648, 0.3256114487518439, 0.6512228975036878, 0.45124284124487735, 0.45124284124487735, 0.8334867623492894, 0.7435072488039058, 0.23755718481431182, 0.23755718481431182, 0.11877859240715591, 0.23755718481431182, 0.23755718481431182, 0.11877859240715591, 0.7434666596802781, 0.1450647730102348, 0.2901295460204696, 0.2901295460204696, 0.2901295460204696, 0.2629201267318505, 0.2629201267318505, 0.2629201267318505, 0.2629201267318505, 0.22773740513090918, 0.45547481026181835, 0.22773740513090918, 0.22773740513090918, 0.8423350163806942, 0.6635515164578477, 0.68000760084388, 0.9094524994675212, 0.7369077584975093, 0.24563591949916977, 0.3511662057804328, 0.3511662057804328, 0.3511662057804328, 0.6772576307742066, 0.8119464608039697, 0.20298661520099243, 0.680372931551379, 0.6638403040748428, 0.4592007982565378, 0.4592007982565378, 0.29972544289653247, 0.29972544289653247, 0.29972544289653247, 0.20415115039091858, 0.6124534511727557, 0.20415115039091858, 0.6635515164578477, 0.6638362703309849, 0.8422482223065828, 0.14620790178053164, 0.2924158035610633, 0.14620790178053164, 0.14620790178053164, 0.14620790178053164, 0.14620790178053164, 0.3525906457422417, 0.7051812914844834, 0.7086810788689435, 0.46509922833734735, 0.46509922833734735, 0.9094524994675212, 0.4802656309463167, 0.4802656309463167, 0.26152439596743277, 0.5230487919348655, 0.26152439596743277, 0.7478861391602112, 0.6789688464921829, 0.663551905428029, 0.6811312747766618, 0.7539912537835246, 0.31399249859855194, 0.6279849971971039, 0.6772575790242175, 0.31940609525122726, 0.31940609525122726, 0.31940609525122726, 0.43360346111344467, 0.43360346111344467, 0.3754326532717445, 0.18771632663587226, 0.3754326532717445, 0.18771632663587226, 0.3472585442940925, 0.3472585442940925, 0.3472585442940925, 0.46368949289245437, 0.46368949289245437, 0.4842315322340954, 0.4842315322340954, 0.6638396228616266, 0.34733567987110764, 0.34733567987110764, 0.17366783993555382, 0.4940042168815616, 0.2470021084407808, 0.2470021084407808, 0.5421101997617098, 0.5421101997617098, 0.4425306830274722, 0.4425306830274722, 0.9530959591299734, 0.43933206125314045, 0.43933206125314045, 0.37860766415133396, 0.2524051094342227, 0.12620255471711134, 0.2524051094342227, 0.12620255471711134, 0.7086810093932865, 0.7283741146585865, 0.15914692380067738, 0.15914692380067738, 0.15914692380067738, 0.15914692380067738, 0.15914692380067738, 0.15914692380067738, 0.15914692380067738, 0.6638016995213587, 0.7086810093932865, 0.3707161447382804, 0.3707161447382804, 0.8966177667918845, 0.5529222647344741, 0.2764611323672371, 0.13823056618361854, 0.5404100093390484, 0.5404100093390484, 0.663551905428029, 0.7185828472967766, 0.5252417703012644, 0.5252417703012644, 0.7086811136067771, 0.34797287850144093, 0.34797287850144093, 0.17398643925072046, 0.17398643925072046, 0.6772576566492042, 0.6702357924381637, 0.33511789621908183, 0.8260730793167415, 0.38267558701320087, 0.19133779350660043, 0.19133779350660043, 0.19133779350660043, 0.19133779350660043, 0.6708298503750939, 0.33541492518754695, 0.46934613497078737, 0.46934613497078737, 0.8421898864526599, 0.6792150181527699, 0.16546178445831136, 0.3309235689166227, 0.16546178445831136, 0.16546178445831136, 0.16546178445831136, 0.16546178445831136, 0.9530367255033356, 0.7086813220338503, 0.663551905428029, 0.7185830024836494, 0.28224630844311727, 0.28224630844311727, 0.28224630844311727, 0.7481454542110744, 0.3136269149119214, 0.3136269149119214, 0.3136269149119214, 0.22488133919352393, 0.44976267838704787, 0.11244066959676197, 0.05622033479838098, 0.05622033479838098, 0.05622033479838098, 0.05622033479838098, 0.13252938700680572, 0.26505877401361144, 0.13252938700680572, 0.13252938700680572, 0.26505877401361144, 0.13252938700680572, 0.7578647265552916, 0.25262157551843056, 0.7481455061044459, 0.45314067386282086, 0.45314067386282086, 0.7478862881804392, 0.7086813220338503, 0.4693198935739757, 0.4693198935739757, 0.4652749912296937, 0.4652749912296937, 0.7185830955958052, 0.6799343715053652, 0.43251283541271923, 0.43251283541271923, 0.7434667618977925, 0.42260258771661335, 0.21130129385830668, 0.21130129385830668, 0.21130129385830668, 0.4982667308758114, 0.4982667308758114, 0.3830662544132604, 0.1915331272066302, 0.1915331272066302, 0.1915331272066302, 0.8334869878555674, 0.7435079278062597, 0.6834593086964209, 0.7481457655714113, 0.7164353064939073, 0.16102879434455336, 0.3220575886891067, 0.16102879434455336, 0.3220575886891067, 0.46018573151660247, 0.46018573151660247, 0.7539912537835246, 0.6301637741521721, 0.6244969597885429, 0.31224847989427146, 0.6638469338345195, 0.2577547605377901, 0.2577547605377901, 0.2577547605377901, 0.2577547605377901, 0.5451729608413958, 0.5451729608413958, 0.5367862342875248, 0.40258967571564364, 0.6638178048592267, 0.7478867782387592, 0.441030282356596, 0.220515141178298, 0.220515141178298, 0.220515141178298, 0.7481455579978246, 0.6772575790242175, 0.9407436999096592, 0.716031299893548, 0.6772575790242175, 0.8422095967168876, 0.4601452156389083, 0.4601452156389083, 0.6635515164578477, 0.7539835477830444, 0.5113423729901867, 0.5113423729901867, 0.9603126698151885, 0.5129349764795273, 0.5129349764795273, 0.7349764892800976, 0.24499216309336588, 0.753982430390625, 0.6635515164578477, 0.28046599113601095, 0.14023299556800548, 0.14023299556800548, 0.14023299556800548, 0.28046599113601095, 0.716031299893548, 0.19471750990117354, 0.15577400792093882, 0.11683050594070413, 0.07788700396046941, 0.11683050594070413, 0.15577400792093882, 0.038943501980234704, 0.07788700396046941, 0.038943501980234704, 0.038943501980234704, 0.038943501980234704, 0.7163807132928889, 0.7284333686183099, 0.663552177707427, 0.7086811830824545, 0.33377378663891855, 0.6675475732778371, 0.7160316441363891, 0.4513547767977199, 0.4513547767977199, 0.842262923472931, 0.7281480864929525, 0.6772575790242175, 0.7478863980433653, 0.3257887873888089, 0.6515775747776178, 0.5642164701076694, 0.2821082350538347, 0.4423733401482794, 0.4423733401482794, 0.8334871707718465, 0.7160312685987607, 0.47020177113662304, 0.47020177113662304, 0.8334867980669418, 0.7539846457099583, 0.5365238053404777, 0.13413095133511943, 0.13413095133511943, 0.13413095133511943, 0.13413095133511943, 0.7481456617846035, 0.43262793421748164, 0.43262793421748164, 0.41495239562318303, 0.1383174652077277, 0.06915873260386385, 0.06915873260386385, 0.1383174652077277, 0.06915873260386385, 0.06915873260386385, 0.06915873260386385, 0.7163928731994601, 0.7511695440555705, 0.1502339088111141, 0.1502339088111141, 0.7284522374215683, 0.7185831576705892, 0.4592236507636619, 0.4592236507636619, 0.6772575272742363, 0.3517939740731376, 0.7035879481462752, 0.1978574214546385, 0.09892871072731925, 0.1978574214546385, 0.395714842909277, 0.09892871072731925, 0.677261926050879, 0.7481457655714113, 0.1337343354676268, 0.4012030064028804, 0.1337343354676268, 0.2674686709352536, 0.1337343354676268, 0.7478869044761436, 0.9603129119428233, 0.7435052449076086, 0.7086810093932865, 0.8514167478865198, 0.7185828472967766, 0.2481061100923062, 0.4962122201846124, 0.2481061100923062, 0.747887034146491, 0.47834627343394276, 0.47834627343394276, 0.8422534010864788, 0.7539912537835246, 0.8468988536242698, 0.7435054007900654, 0.4094556308885768, 0.2729704205923845, 0.13648521029619226, 0.13648521029619226, 0.13648521029619226, 0.4084705002683098, 0.4084705002683098, 0.2042352501341549, 0.6158193734587365, 0.20527312448624552, 0.20527312448624552, 0.5487423087357342, 0.2743711543678671, 0.2743711543678671, 0.6772579153992886, 0.7086813220338503, 0.6635514775608548, 0.7539820896927907, 0.9524489399331826, 0.4784389170387053, 0.4784389170387053, 0.297453866698671, 0.198302577799114, 0.099151288899557, 0.099151288899557, 0.099151288899557, 0.198302577799114, 0.099151288899557, 0.44407844908574895, 0.44407844908574895, 0.4795730301543316, 0.15985767671811055, 0.3197153534362211, 0.15985767671811055, 0.6635515164578477, 0.4335543595668381, 0.4335543595668381, 0.8258020237024648, 0.7163843810816584], \"Term\": [\"able\", \"access\", \"account\", \"account\", \"account\", \"account\", \"acknowledge\", \"actual\", \"actual\", \"actually\", \"actually\", \"actually\", \"actually\", \"actually\", \"actually\", \"actually\", \"add\", \"add\", \"additional\", \"additional\", \"advise\", \"agent\", \"agent\", \"ago\", \"ago\", \"along\", \"also\", \"also\", \"also\", \"also\", \"always\", \"always\", \"amazon\", \"amount\", \"answer\", \"anyway\", \"anyway\", \"apart\", \"app\", \"application\", \"apply\", \"apply\", \"apply\", \"apply\", \"apply\", \"applying\", \"area\", \"arise\", \"arm\", \"arm\", \"arm\", \"arm\", \"arm\", \"arm\", \"ask\", \"ask\", \"ask\", \"authentication\", \"authentication\", \"automate\", \"available\", \"available\", \"aware\", \"back\", \"basis\", \"bill\", \"bill\", \"bill\", \"bill\", \"bill\", \"bill\", \"bit\", \"bit\", \"bot\", \"bot\", \"bubble\", \"bundle\", \"call\", \"call\", \"call\", \"call\", \"care\", \"care\", \"care\", \"certain\", \"certain\", \"chat\", \"chat\", \"check\", \"check\", \"choose\", \"clearly\", \"close\", \"come\", \"come\", \"come\", \"come\", \"come\", \"confirmation\", \"confirmation\", \"connect\", \"continue\", \"continue\", \"convert\", \"copy\", \"correctly\", \"course\", \"create\", \"create\", \"create\", \"cred\", \"credential\", \"credential\", \"credential\", \"customer\", \"customer\", \"customer\", \"customer\", \"customer\", \"customer\", \"d\", \"d\", \"d\", \"d\", \"data\", \"datum\", \"day\", \"day\", \"day\", \"day\", \"day\", \"definitely\", \"definitely\", \"definitely\", \"definitely\", \"desirable\", \"different\", \"different\", \"different\", \"download\", \"drop\", \"ease\", \"easily\", \"easily\", \"easy\", \"easy\", \"easy\", \"easy\", \"electricity\", \"email\", \"email\", \"email\", \"email\", \"email\", \"encounter\", \"end\", \"end\", \"end\", \"entity\", \"estimate\", \"estimate\", \"even\", \"even\", \"even\", \"eventually\", \"eventually\", \"example\", \"example\", \"expect\", \"expect\", \"experience\", \"experience\", \"explain\", \"explain\", \"facility\", \"factor\", \"factor\", \"fail\", \"far\", \"far\", \"far\", \"fault\", \"fee\", \"fee\", \"figure\", \"fill\", \"fill\", \"fill\", \"fill\", \"fill\", \"fill\", \"filling\", \"find\", \"find\", \"find\", \"fine\", \"first\", \"first\", \"first\", \"follow\", \"form\", \"form\", \"form\", \"form\", \"form\", \"form\", \"form\", \"form\", \"frustrated\", \"function\", \"function\", \"fund\", \"fund\", \"gateway\", \"generally\", \"get\", \"get\", \"get\", \"get\", \"get\", \"get\", \"give\", \"go\", \"go\", \"go\", \"go\", \"good\", \"good\", \"good\", \"good\", \"government\", \"government\", \"government\", \"government\", \"governmental\", \"guess\", \"guide\", \"guy\", \"half\", \"half\", \"happen\", \"happen\", \"happen\", \"hear\", \"help\", \"help\", \"hesitation\", \"honest\", \"house\", \"house\", \"i\", \"i\", \"i\", \"ideally\", \"ideally\", \"ideally\", \"identify\", \"immediately\", \"inaubible\", \"inaudible\", \"inaudible\", \"inaudible\", \"inaudible\", \"inaudible\", \"inaudible\", \"inform\", \"inform\", \"information\", \"initially\", \"initially\", \"input\", \"instal\", \"instal\", \"install\", \"install\", \"install\", \"installation\", \"instantly\", \"interact\", \"internet\", \"interruption\", \"issue\", \"issue\", \"keep\", \"kind\", \"kind\", \"kind\", \"kinda\", \"kinda\", \"know\", \"know\", \"know\", \"know\", \"knowledge\", \"knowledge\", \"knowledge\", \"least\", \"least\", \"leave\", \"leave\", \"let\", \"login\", \"login\", \"login\", \"long\", \"long\", \"long\", \"make\", \"make\", \"manage\", \"manage\", \"manually\", \"maybe\", \"maybe\", \"mean\", \"mean\", \"mean\", \"mean\", \"mean\", \"meantime\", \"melita\", \"meter\", \"meter\", \"meter\", \"meter\", \"meter\", \"meter\", \"meter\", \"minute\", \"misconstrue\", \"mobile\", \"mobile\", \"money\", \"month\", \"month\", \"month\", \"monthly\", \"monthly\", \"mostly\", \"move\", \"much\", \"much\", \"native\", \"need\", \"need\", \"need\", \"need\", \"never\", \"new\", \"new\", \"number\", \"obviously\", \"obviously\", \"obviously\", \"obviously\", \"obviously\", \"offer\", \"offer\", \"office\", \"office\", \"often\", \"one\", \"online\", \"online\", \"online\", \"online\", \"online\", \"online\", \"open\", \"option\", \"other\", \"overall\", \"part\", \"part\", \"part\", \"partly\", \"pause\", \"pause\", \"pause\", \"pay\", \"pay\", \"pay\", \"pay\", \"pay\", \"pay\", \"pay\", \"payment\", \"payment\", \"payment\", \"payment\", \"payment\", \"payment\", \"people\", \"people\", \"perspective\", \"phone\", \"phone\", \"phonecall\", \"physical\", \"physically\", \"physically\", \"picture\", \"picture\", \"point\", \"pop\", \"portal\", \"portal\", \"pretty\", \"print\", \"print\", \"print\", \"print\", \"problem\", \"problem\", \"process\", \"process\", \"process\", \"process\", \"processing\", \"proof\", \"proper\", \"properly\", \"protection\", \"provide\", \"provide\", \"provide\", \"provide\", \"provider\", \"provider\", \"put\", \"question\", \"quite\", \"quite\", \"rather\", \"reach\", \"reach\", \"reach\", \"reach\", \"reading\", \"reading\", \"really\", \"really\", \"reapply\", \"receipt\", \"receive\", \"receive\", \"receive\", \"receive\", \"remember\", \"reminder\", \"reply\", \"require\", \"required\", \"resolve\", \"respect\", \"respect\", \"right\", \"rocket\", \"roughly\", \"roughly\", \"round\", \"safeguard\", \"safeguard\", \"say\", \"say\", \"science\", \"second\", \"send\", \"send\", \"send\", \"send\", \"send\", \"separate\", \"service\", \"service\", \"service\", \"service\", \"service\", \"service\", \"service\", \"service\", \"service\", \"service\", \"service\", \"sign\", \"similar\", \"slightly\", \"slow\", \"smooth\", \"smooth\", \"smoother\", \"solution\", \"solution\", \"sometimes\", \"sort\", \"spamme\", \"specify\", \"start\", \"start\", \"still\", \"still\", \"straightforward\", \"straightforward\", \"stretch\", \"stupid\", \"submeter\", \"submeter\", \"successfully\", \"suggest\", \"support\", \"support\", \"support\", \"support\", \"support\", \"suppose\", \"sure\", \"sure\", \"take\", \"take\", \"take\", \"take\", \"take\", \"take\", \"take\", \"take\", \"telephone\", \"tell\", \"tell\", \"tell\", \"temporarily\", \"tend\", \"term\", \"term\", \"thank\", \"thing\", \"thing\", \"think\", \"think\", \"think\", \"think\", \"think\", \"third\", \"thoroughly\", \"time\", \"time\", \"time\", \"time\", \"time\", \"timeframe\", \"today\", \"together\", \"top\", \"touchpoint\", \"trigger\", \"try\", \"try\", \"try\", \"twice\", \"uhm\", \"uhm\", \"unfortunately\", \"upcoming\", \"update\", \"upload\", \"use\", \"use\", \"use\", \"use\", \"use\", \"user\", \"user\", \"user\", \"usually\", \"usually\", \"usually\", \"utility\", \"utility\", \"utility\", \"verify\", \"viable\", \"wait\", \"want\", \"water\", \"way\", \"way\", \"website\", \"website\", \"website\", \"website\", \"website\", \"website\", \"website\", \"week\", \"week\", \"well\", \"well\", \"well\", \"well\", \"whole\", \"work\", \"work\", \"wrong\", \"year\"]}, \"R\": 30, \"lambda.step\": 0.01, \"plot.opts\": {\"xlab\": \"PC1\", \"ylab\": \"PC2\"}, \"topic.order\": [16, 6, 14, 19, 17, 18, 3, 11, 13, 12, 4, 15, 1, 8, 9, 5, 20, 7, 10, 2]};\n",
       "\n",
       "function LDAvis_load_lib(url, callback){\n",
       "  var s = document.createElement('script');\n",
       "  s.src = url;\n",
       "  s.async = true;\n",
       "  s.onreadystatechange = s.onload = callback;\n",
       "  s.onerror = function(){console.warn(\"failed to load library \" + url);};\n",
       "  document.getElementsByTagName(\"head\")[0].appendChild(s);\n",
       "}\n",
       "\n",
       "if(typeof(LDAvis) !== \"undefined\"){\n",
       "   // already loaded: just create the visualization\n",
       "   !function(LDAvis){\n",
       "       new LDAvis(\"#\" + \"ldavis_el453831406877419777608423641916\", ldavis_el453831406877419777608423641916_data);\n",
       "   }(LDAvis);\n",
       "}else if(typeof define === \"function\" && define.amd){\n",
       "   // require.js is available: use it to load d3/LDAvis\n",
       "   require.config({paths: {d3: \"https://d3js.org/d3.v5\"}});\n",
       "   require([\"d3\"], function(d3){\n",
       "      window.d3 = d3;\n",
       "      LDAvis_load_lib(\"https://cdn.jsdelivr.net/gh/bmabey/pyLDAvis/pyLDAvis/js/ldavis.v3.0.0.js\", function(){\n",
       "        new LDAvis(\"#\" + \"ldavis_el453831406877419777608423641916\", ldavis_el453831406877419777608423641916_data);\n",
       "      });\n",
       "    });\n",
       "}else{\n",
       "    // require.js not available: dynamically load d3 & LDAvis\n",
       "    LDAvis_load_lib(\"https://d3js.org/d3.v5.js\", function(){\n",
       "         LDAvis_load_lib(\"https://cdn.jsdelivr.net/gh/bmabey/pyLDAvis/pyLDAvis/js/ldavis.v3.0.0.js\", function(){\n",
       "                 new LDAvis(\"#\" + \"ldavis_el453831406877419777608423641916\", ldavis_el453831406877419777608423641916_data);\n",
       "            })\n",
       "         });\n",
       "}\n",
       "</script>"
      ],
      "text/plain": [
       "PreparedData(topic_coordinates=              x         y  topics  cluster       Freq\n",
       "topic                                                \n",
       "15     0.119833  0.228038       1        1  20.985929\n",
       "5      0.016105 -0.258835       2        1  13.400898\n",
       "13    -0.289944 -0.063265       3        1   8.215471\n",
       "18    -0.086016  0.226029       4        1   7.250024\n",
       "16     0.162610 -0.221711       5        1   7.139415\n",
       "17     0.270229 -0.079063       6        1   6.109071\n",
       "2      0.031242  0.219981       7        1   5.506063\n",
       "10    -0.076411 -0.210046       8        1   5.491281\n",
       "12    -0.185860  0.198798       9        1   5.297874\n",
       "11     0.194515  0.114833      10        1   5.026591\n",
       "3      0.220369  0.021654      11        1   4.931694\n",
       "14    -0.104685  0.090237      12        1   2.607198\n",
       "0     -0.160680 -0.132714      13        1   2.474900\n",
       "7     -0.179988 -0.011678      14        1   1.942935\n",
       "8      0.105767 -0.060465      15        1   1.722861\n",
       "4     -0.047437 -0.018327      16        1   0.955979\n",
       "19     0.006614 -0.033834      17        1   0.402836\n",
       "6     -0.004933  0.001879      18        1   0.297008\n",
       "9      0.004807 -0.005683      19        1   0.122102\n",
       "1      0.003864 -0.005828      20        1   0.119870, topic_info=        Term       Freq      Total Category  logprob  loglift\n",
       "2        pay  17.000000  17.000000  Default  30.0000  30.0000\n",
       "20      form  28.000000  28.000000  Default  29.0000  29.0000\n",
       "166  website  10.000000  10.000000  Default  28.0000  28.0000\n",
       "11   process   5.000000   5.000000  Default  27.0000  27.0000\n",
       "71   provide   6.000000   6.000000  Default  26.0000  26.0000\n",
       "..       ...        ...        ...      ...      ...      ...\n",
       "25       use   0.003462   7.326801  Topic20  -5.7462  -0.9309\n",
       "26      care   0.003462   6.783922  Topic20  -5.7462  -0.8539\n",
       "27       day   0.003462   5.279503  Topic20  -5.7462  -0.6032\n",
       "28       end   0.003462   4.818139  Topic20  -5.7462  -0.5118\n",
       "29     first   0.003462   3.967446  Topic20  -5.7462  -0.3175\n",
       "\n",
       "[959 rows x 6 columns], token_table=      Topic      Freq     Term\n",
       "term                          \n",
       "285       4  0.716325     able\n",
       "193      14  0.884992   access\n",
       "110       1  0.418937  account\n",
       "110       3  0.139646  account\n",
       "110       7  0.139646  account\n",
       "...     ...       ...      ...\n",
       "41        1  0.663552    whole\n",
       "80        1  0.433554     work\n",
       "80        5  0.433554     work\n",
       "42        1  0.825802    wrong\n",
       "296       4  0.716384     year\n",
       "\n",
       "[603 rows x 3 columns], R=30, lambda_step=0.01, plot_opts={'xlab': 'PC1', 'ylab': 'PC2'}, topic_order=[16, 6, 14, 19, 17, 18, 3, 11, 13, 12, 4, 15, 1, 8, 9, 5, 20, 7, 10, 2])"
      ]
     },
     "execution_count": 65,
     "metadata": {},
     "output_type": "execute_result"
    }
   ],
   "source": [
    "# Visualize the topics\n",
    "pyLDAvis.enable_notebook()\n",
    "vis = pyLDAvis.gensim.prepare(lda_model, corpus, dictionary=lda_model.id2word, mds='mmds')   \n",
    "vis"
   ]
  },
  {
   "cell_type": "code",
   "execution_count": 66,
   "id": "330ca58a",
   "metadata": {},
   "outputs": [],
   "source": [
    "pyLDAvis.save_html(vis, 'All PPTs.html')"
   ]
  },
  {
   "cell_type": "markdown",
   "id": "e38371bd",
   "metadata": {},
   "source": [
    "# PPT01"
   ]
  },
  {
   "cell_type": "code",
   "execution_count": 22,
   "id": "d206ee99",
   "metadata": {},
   "outputs": [],
   "source": [
    "all = pd.read_csv('User Needs Assessments Data.csv')\n",
    "PPT01 = all.loc[(all['Person'] == 'PPT01') & (all['Person'] != 'Interviewer')]"
   ]
  },
  {
   "cell_type": "code",
   "execution_count": 23,
   "id": "3730d380",
   "metadata": {},
   "outputs": [
    {
     "name": "stdout",
     "output_type": "stream",
     "text": [
      "[['to', 'pay', 'monthly', 'utility', 'both', 'electricity', 'and', 'water']]\n"
     ]
    }
   ],
   "source": [
    "#tokenize words and clean text\n",
    "def sent_to_words(sentences):\n",
    "    for sentence in sentences:\n",
    "        yield(gensim.utils.simple_preprocess(str(sentence), deacc=True))  # deacc=True removes punctuations\n",
    "\n",
    "data_words = list(sent_to_words(PPT01['Question/Answer']))\n",
    "\n",
    "print(data_words[:1])"
   ]
  },
  {
   "cell_type": "code",
   "execution_count": 24,
   "id": "828b5da2",
   "metadata": {},
   "outputs": [
    {
     "name": "stdout",
     "output_type": "stream",
     "text": [
      "['to', 'pay', 'monthly', 'utility', 'both', 'electricity', 'and', 'water']\n"
     ]
    }
   ],
   "source": [
    "# Build the bigram and trigram models\n",
    "bigram = gensim.models.Phrases(data_words, min_count=5, threshold=100) # higher threshold fewer phrases.\n",
    "trigram = gensim.models.Phrases(bigram[data_words], threshold=100)  \n",
    "\n",
    "# Faster way to get a sentence clubbed as a trigram/bigram\n",
    "bigram_mod = gensim.models.phrases.Phraser(bigram)\n",
    "trigram_mod = gensim.models.phrases.Phraser(trigram)\n",
    "\n",
    "# See trigram example\n",
    "print(trigram_mod[bigram_mod[data_words[0]]])"
   ]
  },
  {
   "cell_type": "code",
   "execution_count": 25,
   "id": "1b56f15e",
   "metadata": {},
   "outputs": [],
   "source": [
    "# Define functions for stopwords, bigrams, trigrams and lemmatization\n",
    "def remove_stopwords(texts):\n",
    "    return [[word for word in simple_preprocess(str(doc)) if word not in stop_words] for doc in texts]\n",
    "\n",
    "def make_bigrams(texts):\n",
    "    return [bigram_mod[doc] for doc in texts]\n",
    "\n",
    "def make_trigrams(texts):\n",
    "    return [trigram_mod[bigram_mod[doc]] for doc in texts]\n",
    "\n",
    "def lemmatization(texts, allowed_postags=['NOUN', 'ADJ', 'VERB', 'ADV']):\n",
    "    \"\"\"https://spacy.io/api/annotation\"\"\"\n",
    "    texts_out = []\n",
    "    for sent in texts:\n",
    "        doc = nlp(\" \".join(sent)) \n",
    "        texts_out.append([token.lemma_ for token in doc if token.pos_ in allowed_postags])\n",
    "    return texts_out"
   ]
  },
  {
   "cell_type": "code",
   "execution_count": 26,
   "id": "4235b078",
   "metadata": {},
   "outputs": [
    {
     "name": "stdout",
     "output_type": "stream",
     "text": [
      "[['pay', 'monthly', 'utility', 'electricity', 'water']]\n"
     ]
    }
   ],
   "source": [
    "# Remove Stop Words\n",
    "data_words_nostops = remove_stopwords(data_words)\n",
    "\n",
    "# Form Bigrams\n",
    "data_words_bigrams = make_bigrams(data_words_nostops)\n",
    "\n",
    "# Initialize spacy 'en' model, keeping only tagger component (for efficiency)\n",
    "# python3 -m spacy download en\n",
    "nlp = spacy.load('en_core_web_sm', disable=['parser', 'ner'])\n",
    "\n",
    "# Do lemmatization keeping only noun, adj, vb, adv\n",
    "data_lemmatized = lemmatization(data_words_bigrams, allowed_postags=['NOUN', 'ADJ', 'VERB', 'ADV'])\n",
    "\n",
    "print(data_lemmatized[:1])"
   ]
  },
  {
   "cell_type": "code",
   "execution_count": 27,
   "id": "0ef4b0ec",
   "metadata": {},
   "outputs": [
    {
     "name": "stdout",
     "output_type": "stream",
     "text": [
      "[[(0, 1), (1, 1), (2, 1), (3, 1), (4, 1)]]\n"
     ]
    }
   ],
   "source": [
    "# Create Dictionary\n",
    "id2word = corpora.Dictionary(data_lemmatized)\n",
    "\n",
    "# Create Corpus\n",
    "texts = data_lemmatized\n",
    "\n",
    "# Term Document Frequency\n",
    "corpus = [id2word.doc2bow(text) for text in texts]\n",
    "\n",
    "# View\n",
    "print(corpus[:1])"
   ]
  },
  {
   "cell_type": "code",
   "execution_count": 28,
   "id": "594113ef",
   "metadata": {},
   "outputs": [
    {
     "data": {
      "text/plain": [
       "'electricity'"
      ]
     },
     "execution_count": 28,
     "metadata": {},
     "output_type": "execute_result"
    }
   ],
   "source": [
    "id2word[0]"
   ]
  },
  {
   "cell_type": "code",
   "execution_count": 29,
   "id": "6428525d",
   "metadata": {},
   "outputs": [
    {
     "data": {
      "text/plain": [
       "[[('electricity', 1),\n",
       "  ('monthly', 1),\n",
       "  ('pay', 1),\n",
       "  ('utility', 1),\n",
       "  ('water', 1)]]"
      ]
     },
     "execution_count": 29,
     "metadata": {},
     "output_type": "execute_result"
    }
   ],
   "source": [
    "[[(id2word[id], freq) for id, freq in cp] for cp in corpus[:1]]"
   ]
  },
  {
   "cell_type": "code",
   "execution_count": 30,
   "id": "e1c254b2",
   "metadata": {},
   "outputs": [],
   "source": [
    "# Build LDA model\n",
    "lda_model = gensim.models.ldamodel.LdaModel(corpus=corpus,\n",
    "                                           id2word=id2word,\n",
    "                                           num_topics=20, \n",
    "                                           random_state=100,\n",
    "                                           update_every=1,\n",
    "                                           chunksize=100,\n",
    "                                           passes=10,\n",
    "                                           alpha='auto',\n",
    "                                           per_word_topics=True)"
   ]
  },
  {
   "cell_type": "code",
   "execution_count": 31,
   "id": "d43b7fc8",
   "metadata": {},
   "outputs": [
    {
     "name": "stdout",
     "output_type": "stream",
     "text": [
      "[(0,\n",
      "  '0.006*\"form\" + 0.005*\"take\" + 0.005*\"tell\" + 0.005*\"reply\" + '\n",
      "  '0.005*\"service\" + 0.005*\"usually\" + 0.005*\"well\" + 0.005*\"print\" + '\n",
      "  '0.005*\"fill\" + 0.005*\"send\"'),\n",
      " (1,\n",
      "  '0.077*\"answer\" + 0.077*\"question\" + 0.077*\"satisfactory\" + '\n",
      "  '0.004*\"available\" + 0.004*\"along\" + 0.004*\"bot\" + 0.004*\"chat\" + '\n",
      "  '0.004*\"amount\" + 0.004*\"want\" + 0.004*\"actually\"'),\n",
      " (2,\n",
      "  '0.083*\"time\" + 0.082*\"third\" + 0.005*\"customer\" + 0.005*\"ideally\" + '\n",
      "  '0.004*\"form\" + 0.004*\"website\" + 0.004*\"people\" + 0.004*\"touchpoint\" + '\n",
      "  '0.004*\"care\" + 0.004*\"chat\"'),\n",
      " (3,\n",
      "  '0.096*\"provide\" + 0.065*\"authentication\" + 0.065*\"i\" + 0.065*\"login\" + '\n",
      "  '0.033*\"datum\" + 0.033*\"safeguard\" + 0.033*\"factor\" + 0.033*\"d\" + '\n",
      "  '0.033*\"ease\" + 0.033*\"website\"'),\n",
      " (4,\n",
      "  '0.041*\"form\" + 0.041*\"take\" + 0.040*\"end\" + 0.038*\"month\" + 0.038*\"half\" + '\n",
      "  '0.021*\"reply\" + 0.021*\"fill\" + 0.021*\"customer\" + 0.021*\"get\" + '\n",
      "  '0.021*\"wrong\"'),\n",
      " (5,\n",
      "  '0.040*\"people\" + 0.040*\"customer\" + 0.030*\"go\" + 0.030*\"website\" + '\n",
      "  '0.030*\"form\" + 0.030*\"ideally\" + 0.020*\"take\" + 0.020*\"time\" + '\n",
      "  '0.020*\"phone\" + 0.020*\"help\"'),\n",
      " (6,\n",
      "  '0.066*\"really\" + 0.033*\"think\" + 0.033*\"use\" + 0.033*\"pause\" + '\n",
      "  '0.033*\"function\" + 0.033*\"bot\" + 0.033*\"agent\" + 0.033*\"start\" + '\n",
      "  '0.033*\"user\" + 0.017*\"interact\"'),\n",
      " (7,\n",
      "  '0.080*\"service\" + 0.080*\"pay\" + 0.041*\"form\" + 0.041*\"update\" + '\n",
      "  '0.041*\"receive\" + 0.040*\"fee\" + 0.040*\"ask\" + 0.040*\"payment\" + '\n",
      "  '0.040*\"even\" + 0.040*\"email\"'),\n",
      " (8,\n",
      "  '0.100*\"website\" + 0.067*\"issue\" + 0.034*\"unfortunately\" + 0.034*\"often\" + '\n",
      "  '0.034*\"know\" + 0.034*\"inaubible\" + 0.034*\"service\" + 0.034*\"desirable\" + '\n",
      "  '0.034*\"sometimes\" + 0.034*\"happen\"'),\n",
      " (9,\n",
      "  '0.061*\"pay\" + 0.061*\"payment\" + 0.061*\"part\" + 0.031*\"service\" + '\n",
      "  '0.031*\"even\" + 0.031*\"fee\" + 0.031*\"receive\" + 0.031*\"form\" + '\n",
      "  '0.031*\"process\" + 0.031*\"confirmation\"'),\n",
      " (10,\n",
      "  '0.098*\"form\" + 0.049*\"take\" + 0.049*\"tell\" + 0.049*\"reply\" + 0.033*\"send\" + '\n",
      "  '0.033*\"print\" + 0.033*\"fill\" + 0.033*\"service\" + 0.033*\"well\" + '\n",
      "  '0.033*\"usually\"'),\n",
      " (11,\n",
      "  '0.067*\"continue\" + 0.067*\"reach\" + 0.067*\"get\" + 0.067*\"email\" + '\n",
      "  '0.067*\"support\" + 0.003*\"really\" + 0.003*\"start\" + 0.003*\"agent\" + '\n",
      "  '0.003*\"user\" + 0.003*\"bot\"'),\n",
      " (12,\n",
      "  '0.005*\"amount\" + 0.005*\"agent\" + 0.005*\"bubble\" + 0.005*\"bot\" + '\n",
      "  '0.005*\"available\" + 0.005*\"clearly\" + 0.005*\"along\" + 0.005*\"suggest\" + '\n",
      "  '0.005*\"want\" + 0.005*\"close\"'),\n",
      " (13,\n",
      "  '0.005*\"amount\" + 0.005*\"agent\" + 0.005*\"bubble\" + 0.005*\"bot\" + '\n",
      "  '0.005*\"available\" + 0.005*\"clearly\" + 0.005*\"along\" + 0.005*\"suggest\" + '\n",
      "  '0.005*\"want\" + 0.005*\"close\"'),\n",
      " (14,\n",
      "  '0.068*\"mobile\" + 0.046*\"website\" + 0.046*\"pay\" + 0.046*\"app\" + 0.023*\"slow\" '\n",
      "  '+ 0.023*\"native\" + 0.023*\"safeguard\" + 0.023*\"least\" + 0.023*\"convert\" + '\n",
      "  '0.023*\"use\"'),\n",
      " (15,\n",
      "  '0.137*\"form\" + 0.069*\"fill\" + 0.069*\"process\" + 0.035*\"use\" + 0.035*\"fine\" '\n",
      "  '+ 0.035*\"service\" + 0.035*\"automate\" + 0.035*\"fail\" + 0.035*\"apply\" + '\n",
      "  '0.035*\"customer\"'),\n",
      " (16,\n",
      "  '0.005*\"amount\" + 0.005*\"agent\" + 0.005*\"bubble\" + 0.005*\"bot\" + '\n",
      "  '0.005*\"available\" + 0.005*\"clearly\" + 0.005*\"along\" + 0.005*\"suggest\" + '\n",
      "  '0.005*\"want\" + 0.005*\"close\"'),\n",
      " (17,\n",
      "  '0.063*\"try\" + 0.063*\"take\" + 0.032*\"user\" + 0.032*\"good\" + 0.032*\"help\" + '\n",
      "  '0.032*\"care\" + 0.032*\"customer\" + 0.032*\"also\" + 0.032*\"process\" + '\n",
      "  '0.032*\"answer\"'),\n",
      " (18,\n",
      "  '0.005*\"amount\" + 0.005*\"agent\" + 0.005*\"bubble\" + 0.005*\"bot\" + '\n",
      "  '0.005*\"available\" + 0.005*\"clearly\" + 0.005*\"along\" + 0.005*\"suggest\" + '\n",
      "  '0.005*\"want\" + 0.005*\"close\"'),\n",
      " (19,\n",
      "  '0.139*\"pay\" + 0.075*\"service\" + 0.058*\"bill\" + 0.040*\"utility\" + '\n",
      "  '0.032*\"form\" + 0.032*\"new\" + 0.032*\"money\" + 0.032*\"monthly\" + 0.022*\"fund\" '\n",
      "  '+ 0.022*\"bit\"')]\n"
     ]
    }
   ],
   "source": [
    "# Print the Keyword in the 10 topics\n",
    "pprint(lda_model.print_topics())\n",
    "doc_lda = lda_model[corpus]"
   ]
  },
  {
   "cell_type": "code",
   "execution_count": 32,
   "id": "349cd667",
   "metadata": {},
   "outputs": [
    {
     "name": "stdout",
     "output_type": "stream",
     "text": [
      "\n",
      "Perplexity:  -5.832702487707138\n",
      "\n",
      "Coherence Score:  0.6421994319274502\n"
     ]
    }
   ],
   "source": [
    "# Compute Perplexity\n",
    "print('\\nPerplexity: ', lda_model.log_perplexity(corpus))  # a measure of how good the model is. lower the better.\n",
    "\n",
    "# Compute Coherence Score\n",
    "coherence_model_lda = CoherenceModel(model=lda_model, texts=data_lemmatized, dictionary=id2word, coherence='c_v')\n",
    "coherence_lda = coherence_model_lda.get_coherence()\n",
    "print('\\nCoherence Score: ', coherence_lda)"
   ]
  },
  {
   "cell_type": "code",
   "execution_count": 67,
   "id": "d1525a35",
   "metadata": {},
   "outputs": [
    {
     "data": {
      "text/html": [
       "\n",
       "<link rel=\"stylesheet\" type=\"text/css\" href=\"https://cdn.jsdelivr.net/gh/bmabey/pyLDAvis/pyLDAvis/js/ldavis.v1.0.0.css\">\n",
       "\n",
       "\n",
       "<div id=\"ldavis_el453831406881104554887106973743\"></div>\n",
       "<script type=\"text/javascript\">\n",
       "\n",
       "var ldavis_el453831406881104554887106973743_data = {\"mdsDat\": {\"x\": [0.1198325545046543, 0.016105265740063754, -0.2899436574139354, -0.08601638331946933, 0.16260979702669776, 0.2702289067666127, 0.031241648987198462, -0.07641115131612558, -0.1858597423676392, 0.19451477432655073, 0.2203691959516927, -0.10468532434280581, -0.16067962949324832, -0.17998836715899647, 0.10576692281817622, -0.04743656548421074, 0.006614022638533105, -0.004933485573332345, 0.004807036587098325, 0.0038641811224850477], \"y\": [0.2280382550844239, -0.25883524914883477, -0.06326496304646934, 0.22602893176527236, -0.221711261397606, -0.07906349242514053, 0.21998111980802487, -0.21004570020159674, 0.19879840444689623, 0.11483334178973502, 0.0216539685357933, 0.09023741152724454, -0.13271371253138772, -0.011678207387294227, -0.06046528468573166, -0.018327290640083954, -0.03383397067499549, 0.0018792893738079006, -0.0056833885973631565, -0.0058282015946943145], \"topics\": [1, 2, 3, 4, 5, 6, 7, 8, 9, 10, 11, 12, 13, 14, 15, 16, 17, 18, 19, 20], \"cluster\": [1, 1, 1, 1, 1, 1, 1, 1, 1, 1, 1, 1, 1, 1, 1, 1, 1, 1, 1, 1], \"Freq\": [20.985928720572858, 13.400898491573694, 8.215471037766493, 7.250023910146281, 7.1394149762494585, 6.109070564357317, 5.50606347507834, 5.491281462462044, 5.2978734864381405, 5.02659057268229, 4.9316942969806234, 2.607198317937126, 2.4749001523441905, 1.9429345238624989, 1.7228609235066905, 0.9559787474538499, 0.4028362316010502, 0.29700756494716, 0.12210245230909174, 0.11987009173080687]}, \"tinfo\": {\"Term\": [\"pay\", \"form\", \"website\", \"process\", \"provide\", \"bill\", \"think\", \"login\", \"take\", \"fill\", \"actually\", \"time\", \"service\", \"really\", \"meter\", \"get\", \"payment\", \"user\", \"month\", \"go\", \"mobile\", \"account\", \"issue\", \"well\", \"definitely\", \"i\", \"send\", \"know\", \"come\", \"mean\", \"reply\", \"fail\", \"wrong\", \"figure\", \"number\", \"advise\", \"tell\", \"half\", \"say\", \"wait\", \"guess\", \"identify\", \"right\", \"second\", \"whole\", \"automate\", \"fine\", \"interact\", \"mostly\", \"other\", \"slightly\", \"minute\", \"reapply\", \"let\", \"back\", \"follow\", \"filling\", \"rather\", \"immediately\", \"honest\", \"end\", \"usually\", \"quite\", \"month\", \"support\", \"really\", \"take\", \"customer\", \"form\", \"well\", \"apply\", \"fill\", \"care\", \"roughly\", \"first\", \"account\", \"long\", \"use\", \"mean\", \"print\", \"service\", \"process\", \"think\", \"get\", \"day\", \"update\", \"touchpoint\", \"help\", \"people\", \"application\", \"thank\", \"keep\", \"reminder\", \"required\", \"spamme\", \"hear\", \"never\", \"correctly\", \"verify\", \"third\", \"amount\", \"instantly\", \"one\", \"bubble\", \"pop\", \"guide\", \"clearly\", \"hesitation\", \"drop\", \"close\", \"along\", \"frustrated\", \"proper\", \"fee\", \"even\", \"available\", \"ask\", \"ideally\", \"chat\", \"care\", \"customer\", \"try\", \"time\", \"receive\", \"website\", \"pay\", \"user\", \"form\", \"need\", \"service\", \"email\", \"payment\", \"get\", \"fill\", \"take\", \"confirmation\", \"process\", \"money\", \"app\", \"area\", \"cred\", \"meantime\", \"misconstrue\", \"top\", \"information\", \"convert\", \"copy\", \"native\", \"slow\", \"option\", \"physical\", \"viable\", \"new\", \"bit\", \"mobile\", \"pay\", \"utility\", \"monthly\", \"factor\", \"safeguard\", \"problem\", \"add\", \"check\", \"least\", \"continue\", \"solution\", \"fund\", \"bill\", \"use\", \"service\", \"website\", \"need\", \"take\", \"receive\", \"account\", \"different\", \"part\", \"additional\", \"know\", \"credential\", \"stupid\", \"require\", \"separate\", \"smoother\", \"data\", \"able\", \"aware\", \"year\", \"telephone\", \"protection\", \"sign\", \"arise\", \"offer\", \"much\", \"physically\", \"office\", \"initially\", \"picture\", \"house\", \"term\", \"fund\", \"additional\", \"solution\", \"maybe\", \"portal\", \"ago\", \"sure\", \"obviously\", \"far\", \"find\", \"online\", \"go\", \"form\", \"fill\", \"bill\", \"service\", \"pay\", \"bit\", \"kind\", \"utility\", \"use\", \"think\", \"well\", \"arm\", \"move\", \"trigger\", \"amazon\", \"overall\", \"facility\", \"point\", \"tend\", \"choose\", \"entity\", \"smooth\", \"start\", \"function\", \"bot\", \"agent\", \"question\", \"definitely\", \"really\", \"always\", \"actual\", \"provider\", \"respect\", \"government\", \"easily\", \"kinda\", \"certain\", \"experience\", \"work\", \"user\", \"chat\", \"pause\", \"think\", \"mean\", \"service\", \"bill\", \"help\", \"process\", \"use\", \"customer\", \"also\", \"good\", \"internet\", \"connect\", \"still\", \"sort\", \"bundle\", \"course\", \"melita\", \"similar\", \"temporarily\", \"mobile\", \"install\", \"submeter\", \"provide\", \"respect\", \"provider\", \"actual\", \"house\", \"term\", \"example\", \"inaudible\", \"go\", \"thing\", \"knowledge\", \"find\", \"offer\", \"quite\", \"good\", \"actually\", \"come\", \"obviously\", \"service\", \"online\", \"meter\", \"day\", \"arm\", \"fault\", \"partly\", \"apart\", \"perspective\", \"remember\", \"suppose\", \"properly\", \"thoroughly\", \"make\", \"roughly\", \"instal\", \"way\", \"think\", \"explain\", \"month\", \"far\", \"different\", \"credential\", \"easy\", \"d\", \"say\", \"even\", \"obviously\", \"arm\", \"provide\", \"meter\", \"apply\", \"tell\", \"send\", \"account\", \"take\", \"form\", \"customer\", \"payment\", \"fill\", \"mean\", \"website\", \"get\", \"actually\", \"pay\", \"use\", \"open\", \"give\", \"pretty\", \"eventually\", \"login\", \"expect\", \"way\", \"submeter\", \"initially\", \"continue\", \"manage\", \"anyway\", \"straightforward\", \"account\", \"inform\", \"knowledge\", \"find\", \"available\", \"create\", \"i\", \"d\", \"install\", \"also\", \"reach\", \"try\", \"mean\", \"get\", \"print\", \"ideally\", \"come\", \"inaudible\", \"website\", \"form\", \"fill\", \"email\", \"actually\", \"call\", \"meter\", \"time\", \"arm\", \"download\", \"manually\", \"electricity\", \"water\", \"together\", \"upload\", \"generally\", \"proof\", \"uhm\", \"picture\", \"send\", \"knowledge\", \"new\", \"well\", \"email\", \"fill\", \"payment\", \"print\", \"form\", \"definitely\", \"obviously\", \"arm\", \"need\", \"online\", \"apply\", \"inaudible\", \"support\", \"take\", \"customer\", \"lengthy\", \"service\", \"estimate\", \"interruption\", \"put\", \"upcoming\", \"basis\", \"encounter\", \"suggest\", \"rocket\", \"science\", \"want\", \"thing\", \"reading\", \"monthly\", \"always\", \"office\", \"physically\", \"check\", \"phone\", \"far\", \"easy\", \"go\", \"bill\", \"time\", \"reach\", \"people\", \"half\", \"get\", \"usually\", \"day\", \"online\", \"service\", \"inaudible\", \"mean\", \"apply\", \"take\", \"meter\", \"pay\", \"today\", \"round\", \"twice\", \"timeframe\", \"receipt\", \"specify\", \"acknowledge\", \"phonecall\", \"installation\", \"inform\", \"instal\", \"uhm\", \"expect\", \"least\", \"week\", \"come\", \"know\", \"call\", \"happen\", \"good\", \"first\", \"actually\", \"long\", \"government\", \"receive\", \"ask\", \"obviously\", \"day\", \"email\", \"meter\", \"form\", \"service\", \"take\", \"time\", \"tell\", \"inaudible\", \"stretch\", \"processing\", \"successfully\", \"gateway\", \"part\", \"add\", \"confirmation\", \"fee\", \"still\", \"utility\", \"payment\", \"receive\", \"even\", \"user\", \"process\", \"well\", \"pay\", \"bill\", \"lengthy\", \"satisfactory\", \"hope\", \"friendly\", \"clunky\", \"guy\", \"input\", \"ease\", \"access\", \"datum\", \"governmental\", \"sometimes\", \"service\", \"form\", \"protection\", \"arise\", \"telephone\", \"year\", \"sign\", \"able\", \"aware\", \"data\", \"offer\", \"much\", \"picture\", \"online\", \"go\", \"obviously\", \"fill\", \"smooth\", \"issue\", \"governmental\", \"sometimes\", \"unfortunately\", \"inaubible\", \"desirable\", \"resolve\", \"often\", \"eventually\", \"problem\", \"leave\", \"website\", \"happen\", \"end\", \"day\", \"know\", \"lengthy\", \"satisfactory\", \"hope\", \"friendly\", \"clunky\", \"guy\", \"input\", \"ease\", \"access\", \"datum\", \"stretch\", \"processing\", \"successfully\", \"gateway\", \"service\", \"let\", \"follow\", \"rather\", \"reapply\", \"back\", \"filling\", \"minute\", \"immediately\", \"reply\", \"form\", \"applying\", \"take\", \"tell\", \"print\", \"usually\", \"well\", \"send\", \"fill\", \"provide\", \"work\", \"week\", \"datum\", \"access\", \"ease\", \"authentication\", \"i\", \"safeguard\", \"factor\", \"provide\", \"login\", \"d\", \"government\", \"website\", \"lengthy\", \"satisfactory\", \"hope\", \"friendly\", \"clunky\", \"guy\", \"input\", \"governmental\", \"sometimes\", \"unfortunately\", \"inaubible\", \"desirable\", \"resolve\", \"often\", \"stretch\", \"processing\", \"successfully\", \"gateway\", \"ideally\", \"customer\", \"people\", \"form\", \"chat\", \"need\", \"fill\", \"help\", \"touchpoint\", \"user\", \"care\", \"phone\", \"available\", \"frustrated\", \"start\", \"along\", \"create\", \"go\", \"guy\", \"input\", \"reading\", \"make\", \"much\", \"estimate\", \"meter\", \"easy\", \"actually\", \"come\", \"definitely\", \"get\", \"bill\", \"lengthy\", \"satisfactory\", \"hope\", \"friendly\", \"clunky\", \"ease\", \"access\", \"datum\", \"governmental\", \"sometimes\", \"unfortunately\", \"inaubible\", \"desirable\", \"resolve\", \"often\", \"stretch\", \"processing\", \"frustrated\", \"drop\", \"one\", \"hesitation\", \"proper\", \"clearly\", \"guide\", \"instantly\", \"along\", \"ideally\", \"customer\", \"website\", \"people\", \"touchpoint\", \"chat\", \"form\", \"fill\", \"user\", \"need\", \"help\", \"care\", \"available\", \"take\", \"clunky\", \"friendly\", \"hope\", \"user\", \"process\", \"time\", \"take\", \"lengthy\", \"satisfactory\", \"pay\", \"proper\", \"frustrated\", \"ease\", \"access\", \"datum\", \"guy\", \"input\", \"along\", \"close\", \"drop\", \"hesitation\", \"governmental\", \"sometimes\", \"unfortunately\", \"inaubible\", \"desirable\", \"resolve\", \"often\", \"clearly\", \"stretch\", \"guide\", \"pop\", \"bubble\", \"one\", \"instantly\", \"touchpoint\", \"chat\", \"people\", \"leave\", \"example\", \"available\", \"website\", \"ideally\", \"different\", \"need\", \"explain\", \"start\", \"fill\", \"customer\", \"form\", \"support\", \"care\", \"provide\", \"satisfactory\", \"question\", \"answer\", \"lengthy\", \"hope\", \"friendly\", \"clunky\", \"guy\", \"input\", \"ease\", \"access\", \"datum\", \"governmental\", \"sometimes\", \"unfortunately\", \"inaubible\", \"desirable\", \"resolve\", \"often\", \"stretch\", \"processing\", \"successfully\", \"gateway\", \"encounter\", \"basis\", \"interruption\", \"put\", \"upcoming\", \"suggest\", \"rocket\", \"electricity\", \"monthly\", \"pay\", \"utility\", \"water\", \"thing\", \"time\", \"process\", \"take\", \"user\", \"apply\", \"automate\", \"customer\", \"fail\", \"fill\", \"fine\", \"form\", \"payment\", \"service\", \"straightforward\", \"support\", \"use\", \"care\", \"lengthy\", \"process\", \"satisfactory\", \"hope\", \"friendly\", \"clunky\", \"guy\", \"input\", \"ease\", \"access\", \"datum\", \"governmental\", \"sometimes\", \"unfortunately\", \"inaubible\", \"desirable\", \"resolve\", \"often\", \"stretch\", \"processing\", \"successfully\", \"gateway\", \"encounter\", \"basis\", \"interruption\", \"put\", \"upcoming\", \"suggest\", \"rocket\", \"science\", \"electricity\", \"monthly\", \"pay\", \"utility\", \"water\", \"thing\", \"time\", \"take\", \"user\", \"apply\", \"automate\", \"customer\", \"fail\", \"fill\", \"fine\", \"form\", \"payment\", \"service\", \"straightforward\", \"support\", \"use\", \"care\", \"day\", \"end\", \"lengthy\", \"satisfactory\", \"hope\", \"friendly\", \"clunky\", \"guy\", \"input\", \"ease\", \"access\", \"datum\", \"governmental\", \"sometimes\", \"unfortunately\", \"inaubible\", \"desirable\", \"resolve\", \"often\", \"stretch\", \"processing\", \"successfully\", \"gateway\", \"temporarily\", \"similar\", \"melita\", \"course\", \"bundle\", \"sort\", \"encounter\", \"basis\", \"interruption\", \"connect\", \"internet\", \"still\", \"provide\", \"actual\", \"mobile\", \"go\", \"provider\", \"service\", \"install\", \"respect\", \"example\", \"submeter\", \"term\", \"house\", \"offer\", \"knowledge\", \"inaudible\", \"quite\", \"actually\", \"thing\", \"find\", \"good\", \"come\", \"arm\", \"customer\", \"day\", \"meter\", \"lengthy\", \"satisfactory\", \"hope\", \"friendly\", \"clunky\", \"guy\", \"input\", \"ease\", \"access\", \"datum\", \"governmental\", \"sometimes\", \"unfortunately\", \"inaubible\", \"desirable\", \"resolve\", \"often\", \"stretch\", \"processing\", \"successfully\", \"gateway\", \"encounter\", \"basis\", \"interruption\", \"put\", \"upcoming\", \"suggest\", \"rocket\", \"science\", \"want\", \"electricity\", \"monthly\", \"pay\", \"utility\", \"water\", \"thing\", \"time\", \"process\", \"take\", \"user\", \"apply\", \"automate\", \"customer\", \"fail\", \"fill\", \"fine\", \"form\", \"payment\", \"service\", \"straightforward\", \"support\", \"use\", \"care\", \"day\", \"end\", \"first\"], \"Freq\": [17.0, 28.0, 10.0, 5.0, 6.0, 10.0, 10.0, 5.0, 14.0, 13.0, 7.0, 7.0, 25.0, 7.0, 6.0, 8.0, 7.0, 4.0, 7.0, 6.0, 5.0, 7.0, 3.0, 6.0, 5.0, 3.0, 7.0, 5.0, 4.0, 7.0, 3.700113432559427, 1.876790390372525, 1.873551069379467, 1.8693110112802305, 1.869085032685809, 1.8680350007963282, 4.605966738388053, 2.780657946847984, 2.7850319312760488, 0.961260553918432, 0.9612604655765264, 0.9612604655765264, 0.9612604655765264, 0.9612604655765264, 0.9612604655765264, 0.961259935525093, 0.9612597588412819, 0.9612595821574709, 0.9612595821574709, 0.9612595821574709, 0.9612589637641319, 0.9585530511968426, 0.9583911204839519, 0.9582580775741792, 0.9582203555805053, 0.9581836936896981, 0.958162844999986, 0.9581030375299222, 0.9581039209489778, 0.9578789141155176, 2.788104286067599, 2.785886550870432, 1.8707598185314072, 3.7048800084157985, 3.699874556046794, 3.696912628637193, 6.441369476057359, 6.435288726013884, 11.016514783698549, 2.7817189331337544, 2.7881224845001444, 4.616909473545905, 2.7831995434709325, 1.869362426269266, 1.8729674827513407, 2.780925092770396, 1.8767896836372806, 2.7897910864123534, 2.785623998727109, 1.870602216571889, 4.613576863500576, 1.876790390372525, 1.8848927565828255, 1.8733010617867336, 1.8732464664890978, 1.814249932633837, 1.7933138121852696, 3.575522107093517, 2.6611868809767096, 0.9292360385791533, 0.9292360385791533, 0.9292359257548961, 0.9292359257548961, 0.9292359257548961, 0.9292359257548961, 0.929235812930639, 0.9292357565185104, 0.929235305221482, 0.9292351923972249, 0.9292264485172979, 0.9246301575185376, 0.9230096627134958, 0.9221107918570056, 0.9195619226522364, 0.9195326447575132, 0.9192646871468487, 0.9187645372150274, 0.9179458279932223, 0.9175934778382306, 0.9171202929038614, 0.9164059461198941, 0.9072997875033288, 0.906908287331116, 1.8142535430100648, 2.6954604081566846, 1.7952538252864807, 2.69926032913655, 2.670471640392299, 1.7823140112371705, 2.6867205899029942, 4.452359288761806, 1.8142497069853227, 2.690322842784382, 1.81425647644075, 2.6552696999876946, 3.5842765925006335, 1.7697911956421828, 4.450412844677938, 1.7868244993883897, 3.584273659069948, 1.814249932633837, 1.814259184222921, 1.8102848369415452, 1.792463342935085, 1.7995335878318854, 0.9292408900222094, 0.9292407771979524, 1.6800237647489522, 1.6800232114102833, 0.8604910156793127, 0.8604910156793127, 0.8604909465119791, 0.8604909465119791, 0.8604909465119791, 0.8604908081773118, 0.8604907390099782, 0.8604907390099782, 0.8604907390099782, 0.860490600675311, 0.8604903240059766, 0.8604903240059766, 0.8604903240059766, 1.6800233497449506, 1.6800233497449506, 2.49955360879058, 8.229005342104147, 1.6727639614124477, 1.6727639614124477, 0.8604908081773118, 0.8604907390099782, 0.8604910156793127, 0.8604910156793127, 0.8604901165039757, 0.8604907390099782, 0.8604909465119791, 0.8604904623406437, 0.8604909465119791, 3.319083037828206, 1.6800229347409488, 3.3190833144975405, 1.6800232114102833, 0.8604910156793127, 0.8604909465119791, 0.8604909465119791, 0.8604909465119791, 0.8604909465119791, 0.8604908081773118, 0.8604908081773118, 0.8604908081773118, 0.8604908081773118, 0.8452815579714317, 0.8452814969323482, 0.8452814969323482, 0.8452808255024299, 0.8413807332632652, 0.8413020538846553, 0.8412603031515528, 0.8408413919216069, 0.8407310942977526, 0.8406189044623104, 0.8405623212319213, 0.8403411155933779, 1.6412454897390385, 0.8404716171538652, 0.8410719975790067, 0.8404269975838389, 0.8452808255024299, 0.8405836849111404, 0.8412331407594027, 0.8407998243057548, 0.8452816800495987, 0.8452814969323482, 0.8412855122930313, 0.8406286096765841, 0.8452814969323482, 0.8412468745531864, 0.8411001365964926, 1.6430209945994003, 0.8411804640303566, 0.845280703424263, 1.641688633485127, 1.6421699876974762, 4.047725028822357, 2.4498522027122047, 1.6503265183451812, 2.446388112646361, 1.650326762501515, 0.8452814969323482, 0.8452815579714317, 0.8452815579714317, 0.8452814969323482, 0.8452814969323482, 0.8418615381238631, 0.8415938817427889, 0.8400745188930426, 0.8400745188930426, 0.8400743385694939, 0.8400742183537947, 0.8400740380302459, 0.8400740380302459, 0.8400739178145468, 0.8400739178145468, 0.8400738577066972, 1.6401603673912832, 1.6401603673912832, 1.6401604876069824, 1.6401598865284865, 1.6401603673912832, 0.8400743385694939, 2.4402440520069386, 3.240327375975496, 0.8400743385694939, 0.8400743385694939, 0.8400739178145468, 0.8400739178145468, 1.6401598865284865, 0.8400743385694939, 0.8400740380302459, 0.8400743385694939, 0.8400743385694939, 0.8400743385694939, 1.6401603673912832, 0.8400743385694939, 0.8400743385694939, 2.4402438115755403, 1.6401598865284865, 3.240326895112699, 1.640160126959885, 0.8400745188930426, 0.8400743986773435, 0.8400743986773435, 0.8400743385694939, 0.8400743385694939, 0.8400743385694939, 2.3833577674559603, 1.6019623924792694, 2.38360608703773, 0.8208004728840309, 0.8206265771702854, 0.820553181966643, 0.8203325848899632, 0.8202099680956509, 0.8201709302823612, 2.3834616625585237, 1.6020137228319218, 0.820698429377355, 2.381978122787072, 0.8205921169134947, 0.8203820636467284, 0.8201336411985205, 0.8207330439338031, 0.8206588257986552, 0.8204906906054479, 2.378291801108406, 2.382535658882015, 0.8205402722286512, 0.8201680500220921, 0.8205562679597884, 0.8198886133427725, 0.8201192913303942, 0.8202415995253918, 1.601987183290871, 0.8201408418491931, 0.8207416332813912, 3.944524256350459, 0.8212398154415034, 0.8206063124819637, 0.8205507646053457, 0.820195772527182, 0.7823354070466737, 0.7823354070466737, 0.7823353143338572, 0.7823353143338572, 0.7823352216210407, 0.7823350361954078, 0.7823348507697748, 0.7823348507697748, 0.7823353143338572, 1.5285353448815104, 0.7823353143338572, 0.7823354070466737, 3.7561080814198147, 0.7823425459335425, 2.2659245983408534, 0.7823337382159771, 0.7823405062515799, 0.7838375400992428, 0.7823354070466737, 0.7833681351094169, 0.7842448275020286, 0.782339949974681, 0.7837459398365629, 0.7838489437756695, 0.7823354070466737, 0.7823353143338572, 0.7847103385535623, 0.7850681173123492, 0.7869915374029922, 0.7849654842245085, 1.5296249986135708, 2.277440271849896, 0.7887202605790324, 0.7846966170567237, 0.784676869226814, 0.784324096960117, 0.7823516317895572, 0.7823408771028458, 0.7823393009849657, 0.7823354997594901, 0.7823354070466737, 1.5446725309715892, 0.7911677432631294, 0.7911675583353047, 0.7929394442873288, 2.298175931721364, 0.7916137891762205, 0.7911676507992171, 0.7911676507992171, 0.7911676507992171, 0.7911664487683567, 0.7911676507992171, 0.7911676507992171, 0.7911677432631294, 2.2981761166491887, 0.7920857249847646, 0.7911677432631294, 0.7911677432631294, 0.7911675583353047, 0.7911675583353047, 0.7911676507992171, 0.7911676507992171, 0.7911675583353047, 0.7911675583353047, 0.7929528515546169, 0.7911675583353047, 1.5446725309715892, 1.5470834350217417, 0.7951769785018583, 0.7911676507992171, 0.791621463680944, 0.7981832576835186, 0.800616075680894, 0.801545707855483, 0.7956453082178214, 0.7938343100308809, 0.7919756929290891, 0.7917135577376271, 0.791595019002017, 0.7914975620384188, 0.7911676507992171, 2.292226279240336, 1.5431735318762871, 1.5365609553794786, 1.5365136755378128, 0.7899676518545281, 0.7899329502348905, 0.7896465057601953, 0.7895402599273202, 0.7911073636604158, 0.789177543255221, 2.293292484273521, 0.7911074528676642, 0.789716622657458, 1.5435228674611225, 1.5420605822449271, 3.04908805071708, 1.5421670956995477, 0.7896201004146614, 4.55337810556404, 0.791107006831422, 0.7896814750015783, 0.7895771917281685, 0.7891761159392463, 0.7911073636604158, 0.7897280411852565, 0.7911073636604158, 0.7894064490546816, 0.789819300200396, 0.7895827225775709, 0.0376722684015532, 0.7894310702552471, 1.5061831250270352, 0.7714540590814131, 0.7714540590814131, 0.7714540590814131, 0.7714524509346752, 0.771439331842866, 0.7706608195431125, 0.7705341145080254, 0.7703815944858298, 0.7703501086654875, 1.505052343952377, 0.7714539744421111, 1.5061826171912234, 0.7699442632124197, 0.7704785064866144, 0.7701848927479925, 0.7714539744421111, 0.7705446097814729, 0.7714392472035639, 0.7706434684862035, 1.5038135631283729, 2.2409104981866177, 1.5069509727747372, 0.7707194745793953, 0.7703077890144898, 0.770340798342268, 1.5061826171912234, 0.7705156631401905, 0.771712124313197, 0.770122090385912, 1.5074349403035467, 0.7739217179310881, 0.7736999629598602, 0.7730589895258493, 0.7722364647890583, 0.7714539744421111, 0.7714538898028092, 1.527750167552386, 1.5277142936637556, 0.7825321631890644, 0.7825171326940594, 0.7824954588863453, 0.7824253719372619, 0.7824237941504935, 0.7824046946264541, 0.7823728067254494, 1.5274593565385353, 0.7825363152595076, 0.7825126484579806, 0.7823757131747597, 0.7824294409662964, 0.782407850199991, 1.5279187416123852, 1.5276855613362879, 1.5278273960626318, 0.7824040302951832, 0.7824385755212717, 0.7823133490767009, 1.5294790896849881, 0.7823125186626122, 0.7824126666017053, 0.7825873857259606, 0.7823131829938832, 0.7863453416428087, 0.7840444302859335, 0.7823658312471046, 0.7823943144503458, 0.7925377395019891, 0.7886213405770237, 0.7857360668259545, 0.783630302779916, 0.7825256859591727, 0.7824739511614489, 0.6386297001976512, 0.6386290855861773, 0.6386286465779815, 0.6386281197681466, 1.2468521123302225, 0.6386291294869968, 0.6386278563632292, 0.6386289977845381, 0.638629305090275, 0.6386286904788011, 1.2468507953056354, 0.6386269783468378, 0.638629305090275, 0.6386290855861773, 0.6386280319665075, 0.6397895159499242, 1.2468528147433358, 0.6386291294869968, 0.030411258345449974, 0.030411258345449974, 0.030411258345449974, 0.030411258345449974, 0.030411258345449974, 0.030411258345449974, 0.030411258345449974, 0.030411258345449974, 0.030411258345449974, 0.030411258345449974, 0.030411258345449974, 0.030411258345449974, 0.6414310553953608, 0.6438150016005798, 0.032369152584324996, 0.032060779508645075, 0.032039973263969165, 0.03200346150109137, 0.03187967765270563, 0.031643869887977016, 0.031610908603882104, 0.03149119106890923, 0.032793744848418155, 0.031963182499134046, 0.032121027895905215, 0.03337793854206536, 0.033246225108144435, 0.032690575178622706, 0.03204927200631476, 0.032010798425562335, 1.8027812785058215, 0.6236471924744078, 0.6232645080138124, 0.623213833473457, 0.6231867459313263, 0.6231379050092073, 0.6229814640351167, 0.6228763643716492, 0.6236176878900561, 0.6226429531047654, 0.6232929707696206, 2.3944343748141614, 0.6236634449996863, 0.622678541967811, 0.6230759787205822, 0.6230105518880509, 0.029762952621325115, 0.029762952621325115, 0.029762952621325115, 0.029762952621325115, 0.029762952621325115, 0.029762952621325115, 0.029762952621325115, 0.029762952621325115, 0.029762952621325115, 0.029762952621325115, 0.029762952621325115, 0.029762952621325115, 0.029762952621325115, 0.029762952621325115, 0.6238661848342497, 0.03022141448103131, 0.03020001792731935, 0.03018018411642263, 0.030123677940795002, 0.030100359213420302, 0.030095285508413498, 0.03009428014386903, 0.030089227275433096, 0.030878823919402658, 0.03191616739101452, 0.030066007521770025, 0.031051553882770845, 0.03073756499176199, 0.030619070017796617, 0.03051754382623336, 0.030536710866862247, 0.030507914725920137, 0.0304195077602908, 0.030218122302833876, 0.030212074488138906, 0.03020649289171715, 0.5640146833613096, 0.5639153583797067, 0.5634255383452675, 1.100692226627963, 1.1007276904883245, 0.5641954050999043, 0.564051390419728, 1.637496248939042, 1.1006653997225235, 0.5633357009277836, 0.5635829664781637, 0.5636862827798441, 0.026957934016280966, 0.026957934016280966, 0.026957934016280966, 0.026957934016280966, 0.026957934016280966, 0.026957934016280966, 0.026957934016280966, 0.026957934016280966, 0.026957934016280966, 0.026957934016280966, 0.026957934016280966, 0.026957934016280966, 0.026957934016280966, 0.026957934016280966, 0.026957934016280966, 0.026957934016280966, 0.026957934016280966, 0.026957934016280966, 0.026958034208229637, 0.026958015805626817, 0.026958005581958586, 0.02695799126882306, 0.026957989224089415, 0.026957985134622123, 0.02695798104515483, 0.026957979000421184, 0.026957976955687538, 0.02695797491095389, 0.026957972866220245, 0.026957968776752952, 0.026957968776752952, 0.026957968776752952, 0.02695796468728566, 0.026957962642552014, 0.026957962642552014, 0.026957960597818367, 0.5334054360906662, 0.5334054360906662, 0.5334054360906662, 0.5334054360906662, 0.5334054941108067, 0.5334054941108067, 1.0414144122576523, 0.5334054941108067, 1.0414805552179898, 0.5334054360906662, 0.5334054941108067, 0.5334712889503004, 0.5334054941108067, 0.025400423424537782, 0.025400423424537782, 0.025400423424537782, 0.025400423424537782, 0.025400423424537782, 0.025400423424537782, 0.025400423424537782, 0.025400423424537782, 0.025400423424537782, 0.025400423424537782, 0.025400423424537782, 0.025400423424537782, 0.025400423424537782, 0.025400423424537782, 0.025400423424537782, 0.025400423424537782, 0.025400423424537782, 0.02548862854335623, 0.02548813899841952, 0.025480959006014468, 0.025473278589896335, 0.025470645926014484, 0.025469625134164977, 0.025465197472181858, 0.025463418792245153, 0.025460336472273287, 0.025660424366682307, 0.025628212309846906, 0.025616006322758313, 0.025603787643763955, 0.0255553390131944, 0.025544070414003136, 0.025536099897181766, 0.02553291604196377, 0.025531097473180366, 0.025524000884727494, 0.025519997495022855, 0.025517020336555913, 0.025499483749045388, 0.025487861589622053, 0.3707119192149725, 0.37071185482669755, 0.3707118226325601, 0.3883513446782346, 0.3707118226325601, 0.3742262956475499, 0.37651896895208414, 0.017653055656206045, 0.017653055656206045, 0.3707119192149725, 0.02650431059400609, 0.02633588293965675, 0.019412602093063135, 0.01909187403509451, 0.01902685193810864, 0.017653055656206045, 0.017653055656206045, 0.022725646450681272, 0.022443046312124224, 0.022232005692589468, 0.022101392064811546, 0.017653055656206045, 0.017653055656206045, 0.017653055656206045, 0.017653055656206045, 0.017653055656206045, 0.017653055656206045, 0.017653055656206045, 0.021778108597182634, 0.017653055656206045, 0.021581738443658214, 0.021480349044152695, 0.021471779367189588, 0.020435442034062903, 0.020090298747103823, 0.025891519333203005, 0.03028790446462831, 0.032689518706034246, 0.022356681514141014, 0.0226695018870979, 0.025156066396572734, 0.036632135518602525, 0.028944408902469177, 0.024460198164073767, 0.02850087027078765, 0.021742711143053737, 0.022411441729813936, 0.02624701705962021, 0.02423317516742749, 0.02507875217548083, 0.022984845475577616, 0.022567730182210134, 0.022193869724643524, 0.20502442764587603, 0.20502437338121773, 0.20502442764587603, 0.009763116716353123, 0.009763116716353123, 0.009763116716353123, 0.009763116716353123, 0.009763116716353123, 0.009763116716353123, 0.009763116716353123, 0.009763116716353123, 0.009763116716353123, 0.009763116716353123, 0.009763116716353123, 0.009763116716353123, 0.009763116716353123, 0.009763116716353123, 0.009763116716353123, 0.009763116716353123, 0.009763116716353123, 0.009763116716353123, 0.009763116716353123, 0.009763116716353123, 0.009763116716353123, 0.009763116716353123, 0.009763116716353123, 0.009763116716353123, 0.009763116716353123, 0.009763116716353123, 0.009763116716353123, 0.009763116716353123, 0.009763116716353123, 0.009763116716353123, 0.009763116716353123, 0.009763116716353123, 0.009763116716353123, 0.009763116716353123, 0.009763116716353123, 0.009763116716353123, 0.009763116716353123, 0.009763116716353123, 0.009763116716353123, 0.009763116716353123, 0.009763116716353123, 0.009763116716353123, 0.009763116716353123, 0.009763116716353123, 0.009763116716353123, 0.009763116716353123, 0.009763116716353123, 0.009763116716353123, 0.009763116716353123, 0.009763116716353123, 0.15972703832949647, 0.15972703832949647, 0.007606090435471004, 0.007606090435471004, 0.007606090435471004, 0.007606090435471004, 0.007606090435471004, 0.007606090435471004, 0.007606090435471004, 0.007606090435471004, 0.007606090435471004, 0.007606090435471004, 0.007606090435471004, 0.007606090435471004, 0.007606090435471004, 0.007606090435471004, 0.007606090435471004, 0.007606090435471004, 0.007606090435471004, 0.007606090435471004, 0.007606090435471004, 0.007606090435471004, 0.007606090435471004, 0.007606090435471004, 0.007606090435471004, 0.007606090435471004, 0.007606090435471004, 0.007606090435471004, 0.007606090435471004, 0.007606090435471004, 0.007606090435471004, 0.007606090435471004, 0.007606090435471004, 0.007606090435471004, 0.007606090435471004, 0.007606090435471004, 0.007606090435471004, 0.007606090435471004, 0.007606090435471004, 0.007606090435471004, 0.007606090435471004, 0.007606090435471004, 0.007606090435471004, 0.007606090435471004, 0.007606090435471004, 0.007606090435471004, 0.007606090435471004, 0.007606090435471004, 0.007606090435471004, 0.007606090435471004, 0.007606090435471004, 0.007606090435471004, 0.007606090435471004, 0.007606090435471004, 0.0034931100488629196, 0.0034931100488629196, 0.0034931100488629196, 0.0034931100488629196, 0.0034931100488629196, 0.0034931100488629196, 0.0034931100488629196, 0.0034931100488629196, 0.0034931100488629196, 0.0034931100488629196, 0.0034931100488629196, 0.0034931100488629196, 0.0034931100488629196, 0.0034931100488629196, 0.0034931100488629196, 0.0034931100488629196, 0.0034931100488629196, 0.0034931100488629196, 0.0034931100488629196, 0.0034931100488629196, 0.0034931100488629196, 0.003710582082172645, 0.0037071035884792916, 0.003696166186587771, 0.003676500553974886, 0.003669948084436228, 0.0036544535602565254, 0.0034931100488629196, 0.0034931100488629196, 0.0034931100488629196, 0.003858579331579584, 0.004041686108798129, 0.004019580519101779, 0.00416470836458657, 0.003713905090924404, 0.004032437967272062, 0.0041149832522651, 0.00369175169924601, 0.0045527645978187675, 0.003853982631306269, 0.0036730346532768024, 0.0036820694848829962, 0.003663546730840805, 0.0036670776525144647, 0.003660449625004189, 0.003735743657721057, 0.0037108388250762033, 0.003874879550456639, 0.0037151841794439327, 0.003856381725405084, 0.003677662450538436, 0.003676232760075479, 0.0037042837855385106, 0.0037132602781666186, 0.00370835594900886, 0.0037130264082544688, 0.0036767123218953385, 0.0036717609617552462, 0.0034620624359697296, 0.0034620624359697296, 0.0034620624359697296, 0.0034620624359697296, 0.0034620624359697296, 0.0034620624359697296, 0.0034620624359697296, 0.0034620624359697296, 0.0034620624359697296, 0.0034620624359697296, 0.0034620624359697296, 0.0034620624359697296, 0.0034620624359697296, 0.0034620624359697296, 0.0034620624359697296, 0.0034620624359697296, 0.0034620624359697296, 0.0034620624359697296, 0.0034620624359697296, 0.0034620624359697296, 0.0034620624359697296, 0.0034620624359697296, 0.0034620624359697296, 0.0034620624359697296, 0.0034620624359697296, 0.0034620624359697296, 0.0034620624359697296, 0.0034620624359697296, 0.0034620624359697296, 0.0034620624359697296, 0.0034620624359697296, 0.0034620624359697296, 0.0034620624359697296, 0.0034620624359697296, 0.0034620624359697296, 0.0034620624359697296, 0.0034620624359697296, 0.0034620624359697296, 0.0034620624359697296, 0.0034620624359697296, 0.0034620624359697296, 0.0034620624359697296, 0.0034620624359697296, 0.0034620624359697296, 0.0034620624359697296, 0.0034620624359697296, 0.0034620624359697296, 0.0034620624359697296, 0.0034620624359697296, 0.0034620624359697296, 0.0034620624359697296, 0.0034620624359697296, 0.0034620624359697296, 0.0034620624359697296, 0.0034620624359697296, 0.0034620624359697296], \"Total\": [17.0, 28.0, 10.0, 5.0, 6.0, 10.0, 10.0, 5.0, 14.0, 13.0, 7.0, 7.0, 25.0, 7.0, 6.0, 8.0, 7.0, 4.0, 7.0, 6.0, 5.0, 7.0, 3.0, 6.0, 5.0, 3.0, 7.0, 5.0, 4.0, 7.0, 4.251955129762349, 2.422571916609203, 2.4218879852259287, 2.4211257230025978, 2.421093302083814, 2.420881119048803, 6.656286907009002, 4.071065834237263, 4.081763217666532, 1.50704208015511, 1.5070419918132043, 1.5070419918132043, 1.5070419918132043, 1.5070419918132043, 1.5070419918132043, 1.507041461761771, 1.5070412850779598, 1.5070411083941486, 1.5070411083941486, 1.5070411083941486, 1.5070404900008099, 1.5064739963087608, 1.5064374467127917, 1.5063879355747234, 1.5064133724322797, 1.5063804032723596, 1.506404422994901, 1.5063713456634973, 1.50639554318972, 1.5063863897532608, 4.818138775892136, 4.871558330469781, 3.2025776399190504, 7.234289981195045, 7.455400776674827, 7.45175592226337, 14.459489944700456, 14.491131351064306, 28.874072334485444, 6.25556442197998, 6.455497168307037, 13.851435725289711, 6.783921798271634, 3.9112737473635173, 3.967446471138672, 7.160979458341288, 4.048548436297853, 7.326801171117987, 7.92376986390553, 4.732578666743008, 25.678224808081385, 5.221028939804896, 10.108289004251468, 8.41902551026851, 5.279502711735851, 2.361557097045681, 2.3490259067805184, 4.926433196655828, 3.958490073455279, 1.4765432029909973, 1.4765432029909973, 1.47654309016674, 1.47654309016674, 1.47654309016674, 1.47654309016674, 1.476542977342483, 1.4765429209303544, 1.476542469633326, 1.476542356809069, 1.4765336129291418, 1.4737940627872694, 1.472821623164738, 1.472287820266725, 1.4707465041100483, 1.4707301770222314, 1.4705717955600748, 1.4702725373487695, 1.4697821623896647, 1.4695743495984412, 1.4692798867700672, 1.4688511420291472, 1.4633857026525796, 1.4631448951512274, 2.969778446860997, 4.597607365763962, 3.1036679831992875, 4.906777321149955, 4.898331446517684, 3.142479710487132, 6.783921798271634, 14.491131351064306, 4.030533546204798, 7.477511261082421, 4.534835995171086, 10.085597569508755, 17.78715837216681, 4.896314416992856, 28.874072334485444, 5.74757436503508, 25.678224808081385, 6.2823137341479445, 7.545496283159771, 8.41902551026851, 13.851435725289711, 14.459489944700456, 2.084764652451833, 5.221028939804896, 2.230604916069155, 2.230604362730486, 1.4110721669995152, 1.4110721669995152, 1.4110720978321816, 1.4110720978321816, 1.4110720978321816, 1.4110719594975143, 1.4110718903301807, 1.4110718903301807, 1.4110718903301807, 1.4110717519955134, 1.411071475326179, 1.411071475326179, 1.411071475326179, 2.984024449865513, 3.035633846878359, 5.39496331084693, 17.78715837216681, 3.644697997156078, 3.7008936964639627, 1.949515163162187, 1.9495648160706989, 2.006957198401799, 2.019293250106632, 2.145788875724293, 2.156615611401585, 2.164563394477933, 2.2155520357278, 2.216101626762638, 10.40029482274613, 7.326801171117987, 25.678224808081385, 10.085597569508755, 5.74757436503508, 14.459489944700456, 4.534835995171086, 7.160979458341288, 3.030841923093877, 3.543004708489803, 2.21610130531072, 5.3271871399155915, 3.0707017136214634, 1.3965870417286563, 1.3965869806895728, 1.3965869806895728, 1.3965863092596544, 1.396054488112513, 1.396014100607301, 1.396018597118942, 1.395898651118413, 1.3958821041435419, 1.3957994283243842, 1.3959057979663565, 1.3958481854217015, 2.98138191676655, 1.90388512523638, 2.130742819735763, 2.1306236887564345, 2.150078807936266, 2.149266580592982, 2.177696550713684, 2.177588181243694, 2.216101626762638, 2.21610130531072, 2.2155520357278, 2.2761826027364163, 2.312070100839732, 2.3105115417774744, 2.311454984565177, 5.2263589719091526, 2.875754023839721, 2.931645729252229, 6.043691585063216, 6.8934723127489335, 28.874072334485444, 13.851435725289711, 10.40029482274613, 25.678224808081385, 17.78715837216681, 3.035633846878359, 3.130810623936254, 3.644697997156078, 7.326801171117987, 10.108289004251468, 6.25556442197998, 5.344761983271229, 1.391627983062893, 1.391627983062893, 1.3916278027393443, 1.391627682523645, 1.3916275022000963, 1.3916275022000963, 1.3916273819843972, 1.3916273819843972, 1.3916273218765476, 2.996041139078168, 3.0694733459932824, 3.0711450814975714, 3.0725459340311003, 3.073304533337668, 1.5868890594042089, 5.057589228863195, 7.45175592226337, 2.1263674968079846, 2.172809799239143, 2.173035647540725, 2.173226983761522, 4.3910221603239465, 2.2748879051028927, 2.30625465210994, 2.306404790381943, 2.3064212954794248, 2.3065158435235253, 4.896314416992856, 3.142479710487132, 3.1885018536758407, 10.108289004251468, 7.92376986390553, 25.678224808081385, 10.40029482274613, 4.926433196655828, 5.221028939804896, 7.326801171117987, 14.491131351064306, 3.849619073514302, 3.8034364732074715, 2.936291538651479, 2.1547130568975703, 3.544738775128159, 1.3733470115310082, 1.3731886103414426, 1.3731217676073388, 1.3729208361632719, 1.3728091567708511, 1.3727735974512547, 5.39496331084693, 3.823735051887091, 2.1267465598715285, 6.210069378516857, 2.173226983761522, 2.173035647540725, 2.172809799239143, 2.177696550713684, 2.177588181243694, 2.2504324902266903, 6.839575604019049, 6.8934723127489335, 2.842572845743531, 2.8796987495405237, 2.931645729252229, 2.98138191676655, 3.2025776399190504, 3.8034364732074715, 7.84313879596399, 4.925408488123132, 5.2263589719091526, 25.678224808081385, 6.043691585063216, 6.283501909484979, 5.279502711735851, 5.344761983271229, 1.3366384739680852, 1.3366384739680852, 1.3366383812552687, 1.3366383812552687, 1.3366382885424521, 1.3366381031168193, 1.3366379176911862, 1.3366379176911862, 1.844643393921397, 3.9112737473635173, 2.0821810567867063, 2.0901309726446966, 10.108289004251468, 2.2154184227451497, 7.234289981195045, 2.875754023839721, 3.030841923093877, 3.0707017136214634, 3.3838045723081067, 3.542900962244383, 4.081763217666532, 4.597607365763962, 5.2263589719091526, 5.344761983271229, 6.210069378516857, 6.283501909484979, 6.455497168307037, 6.656286907009002, 7.130989332739247, 7.160979458341288, 14.459489944700456, 28.874072334485444, 14.491131351064306, 7.545496283159771, 13.851435725289711, 7.92376986390553, 10.085597569508755, 8.41902551026851, 7.84313879596399, 17.78715837216681, 7.326801171117987, 2.098555013725351, 1.3450502260168908, 1.345050041089066, 1.940676662309821, 5.758118426726013, 2.090594533176762, 2.0901309726446966, 2.1267465598715285, 2.150078807936266, 2.164563394477933, 2.259730314417649, 2.259783180363385, 2.260534052902295, 7.160979458341288, 2.836150112349082, 2.8796987495405237, 2.931645729252229, 3.1036679831992875, 3.139028857514524, 3.3363866991008546, 3.542900962244383, 3.823735051887091, 3.849619073514302, 3.879656760409933, 4.030533546204798, 7.92376986390553, 8.41902551026851, 4.732578666743008, 4.898331446517684, 4.925408488123132, 6.839575604019049, 10.085597569508755, 28.874072334485444, 13.851435725289711, 6.2823137341479445, 7.84313879596399, 5.550470217467721, 6.283501909484979, 7.477511261082421, 5.344761983271229, 2.8518211761950107, 2.0984245697269173, 2.0998509194952812, 2.0998500751078386, 1.34498041197226, 1.3449801299857396, 1.3449767869934341, 1.3449755587061485, 2.090535767924358, 2.149266580592982, 7.130989332739247, 2.8796987495405237, 2.984024449865513, 6.25556442197998, 6.2823137341479445, 13.851435725289711, 7.545496283159771, 4.732578666743008, 28.874072334485444, 5.057589228863195, 5.2263589719091526, 5.344761983271229, 5.74757436503508, 6.043691585063216, 6.455497168307037, 6.839575604019049, 7.455400776674827, 14.459489944700456, 14.491131351064306, 0.7436785827703921, 25.678224808081385, 2.5690094640476744, 1.3262753274157837, 1.3262753274157837, 1.3262753274157837, 1.3262737192690457, 1.3262606027818076, 1.326286951162658, 1.3262888824599934, 1.3262908480037736, 1.3262914473077825, 2.842572845743531, 1.8342802554426099, 3.7008936964639627, 2.1263674968079846, 2.1306236887564345, 2.130742819735763, 2.145788875724293, 2.206820212552983, 2.875754023839721, 3.3838045723081067, 6.8934723127489335, 10.40029482274613, 7.477511261082421, 3.879656760409933, 3.958490073455279, 4.071065834237263, 8.41902551026851, 4.871558330469781, 5.279502711735851, 6.043691585063216, 25.678224808081385, 6.839575604019049, 7.92376986390553, 6.455497168307037, 14.459489944700456, 6.283501909484979, 17.78715837216681, 2.082654490577508, 2.082655015685867, 1.337100327881908, 1.3371005597114325, 1.3371007854034547, 1.3371014651317754, 1.3371015025739754, 1.3371016615491766, 1.3371019279736853, 2.836150112349082, 2.0821810567867063, 2.090535767924358, 2.090594533176762, 2.156615611401585, 2.2518543773671587, 4.925408488123132, 5.3271871399155915, 5.550470217467721, 2.8476544308507807, 3.8034364732074715, 3.967446471138672, 7.84313879596399, 4.048548436297853, 4.3910221603239465, 4.534835995171086, 4.906777321149955, 5.2263589719091526, 5.279502711735851, 6.2823137341479445, 6.283501909484979, 28.874072334485444, 25.678224808081385, 14.459489944700456, 7.477511261082421, 6.656286907009002, 6.839575604019049, 1.1997785130273704, 1.1997787763296472, 1.1997790495245746, 1.1997791009390575, 3.543004708489803, 2.019293250106632, 2.084764652451833, 2.969778446860997, 3.544738775128159, 3.644697997156078, 7.545496283159771, 4.534835995171086, 4.597607365763962, 4.896314416992856, 5.221028939804896, 6.25556442197998, 17.78715837216681, 10.40029482274613, 0.7436785827703921, 0.7868189458058896, 0.9446164018527208, 0.9446164340468582, 0.9446164984351332, 1.0995626475424956, 1.0995626475424956, 1.1297847856422107, 1.1299538776186813, 1.1299881805032983, 1.1871761047531764, 1.187277720259902, 25.678224808081385, 28.874072334485444, 1.3957994283243842, 1.3958481854217015, 1.3958821041435419, 1.395898651118413, 1.3959057979663565, 1.396014100607301, 1.396018597118942, 1.396054488112513, 2.98138191676655, 1.90388512523638, 2.149266580592982, 6.043691585063216, 6.8934723127489335, 5.2263589719091526, 13.851435725289711, 2.996041139078168, 3.184789466921337, 1.1871761047531764, 1.187277720259902, 1.187291143437274, 1.187298443802039, 1.1873112763094458, 1.187352895925068, 1.1873806842406058, 1.940676662309821, 2.006957198401799, 2.0651278067448318, 10.085597569508755, 2.8476544308507807, 4.818138775892136, 5.279502711735851, 5.3271871399155915, 0.7436785827703921, 0.7868189458058896, 0.9446164018527208, 0.9446164340468582, 0.9446164984351332, 1.0995626475424956, 1.0995626475424956, 1.1297847856422107, 1.1299538776186813, 1.1299881805032983, 1.1997785130273704, 1.1997787763296472, 1.1997790495245746, 1.1997791009390575, 25.678224808081385, 1.5063879355747234, 1.5063804032723596, 1.5063713456634973, 1.5064374467127917, 1.5064133724322797, 1.506404422994901, 1.5064739963087608, 1.50639554318972, 4.251955129762349, 28.874072334485444, 1.506352487614998, 14.459489944700456, 6.656286907009002, 4.732578666743008, 4.871558330469781, 6.25556442197998, 7.130989332739247, 13.851435725289711, 6.210069378516857, 2.3065158435235253, 2.2518543773671587, 1.1299881805032983, 1.1299538776186813, 1.1297847856422107, 2.4878050165422128, 3.3363866991008546, 1.9495648160706989, 1.949515163162187, 6.210069378516857, 5.758118426726013, 3.542900962244383, 4.3910221603239465, 10.085597569508755, 0.7436785827703921, 0.7868189458058896, 0.9446164018527208, 0.9446164340468582, 0.9446164984351332, 1.0995626475424956, 1.0995626475424956, 1.1871761047531764, 1.187277720259902, 1.187291143437274, 1.187298443802039, 1.1873112763094458, 1.187352895925068, 1.1873806842406058, 1.1997785130273704, 1.1997787763296472, 1.1997790495245746, 1.1997791009390575, 4.898331446517684, 14.491131351064306, 3.958490073455279, 28.874072334485444, 3.142479710487132, 5.74757436503508, 13.851435725289711, 4.926433196655828, 2.3490259067805184, 4.896314416992856, 6.783921798271634, 2.206820212552983, 3.1036679831992875, 1.4633857026525796, 3.0694733459932824, 1.4688511420291472, 3.139028857514524, 6.8934723127489335, 1.0995626475424956, 1.0995626475424956, 1.8342802554426099, 1.844643393921397, 1.90388512523638, 2.5690094640476744, 6.283501909484979, 3.3838045723081067, 7.84313879596399, 4.925408488123132, 5.057589228863195, 8.41902551026851, 10.40029482274613, 0.7436785827703921, 0.7868189458058896, 0.9446164018527208, 0.9446164340468582, 0.9446164984351332, 1.1297847856422107, 1.1299538776186813, 1.1299881805032983, 1.1871761047531764, 1.187277720259902, 1.187291143437274, 1.187298443802039, 1.1873112763094458, 1.187352895925068, 1.1873806842406058, 1.1997785130273704, 1.1997787763296472, 1.4633857026525796, 1.4695743495984412, 1.472287820266725, 1.4697821623896647, 1.4631448951512274, 1.4702725373487695, 1.4705717955600748, 1.472821623164738, 1.4688511420291472, 4.898331446517684, 14.491131351064306, 10.085597569508755, 3.958490073455279, 2.3490259067805184, 3.142479710487132, 28.874072334485444, 13.851435725289711, 4.896314416992856, 5.74757436503508, 4.926433196655828, 6.783921798271634, 3.1036679831992875, 14.459489944700456, 0.9446164984351332, 0.9446164340468582, 0.9446164018527208, 4.896314416992856, 5.221028939804896, 7.477511261082421, 14.459489944700456, 0.7436785827703921, 0.7868189458058896, 17.78715837216681, 1.4631448951512274, 1.4633857026525796, 1.1297847856422107, 1.1299538776186813, 1.1299881805032983, 1.0995626475424956, 1.0995626475424956, 1.4688511420291472, 1.4692798867700672, 1.4695743495984412, 1.4697821623896647, 1.1871761047531764, 1.187277720259902, 1.187291143437274, 1.187298443802039, 1.1873112763094458, 1.187352895925068, 1.1873806842406058, 1.4702725373487695, 1.1997785130273704, 1.4705717955600748, 1.4707301770222314, 1.4707465041100483, 1.472287820266725, 1.472821623164738, 2.3490259067805184, 3.142479710487132, 3.958490073455279, 2.0651278067448318, 2.2504324902266903, 3.1036679831992875, 10.085597569508755, 4.898331446517684, 3.030841923093877, 5.74757436503508, 2.2154184227451497, 3.0694733459932824, 13.851435725289711, 14.491131351064306, 28.874072334485444, 7.455400776674827, 6.783921798271634, 6.210069378516857, 0.7868189458058896, 1.5868890594042089, 1.6718035549143346, 0.7436785827703921, 0.9446164018527208, 0.9446164340468582, 0.9446164984351332, 1.0995626475424956, 1.0995626475424956, 1.1297847856422107, 1.1299538776186813, 1.1299881805032983, 1.1871761047531764, 1.187277720259902, 1.187291143437274, 1.187298443802039, 1.1873112763094458, 1.187352895925068, 1.1873806842406058, 1.1997785130273704, 1.1997787763296472, 1.1997790495245746, 1.1997791009390575, 1.3262606027818076, 1.3262737192690457, 1.3262753274157837, 1.3262753274157837, 1.3262753274157837, 1.326286951162658, 1.3262888824599934, 2.0998509194952812, 3.7008936964639627, 17.78715837216681, 3.644697997156078, 2.0998500751078386, 2.842572845743531, 7.477511261082421, 5.221028939804896, 14.459489944700456, 4.896314416992856, 6.455497168307037, 1.507041461761771, 14.491131351064306, 2.422571916609203, 13.851435725289711, 1.5070412850779598, 28.874072334485444, 7.545496283159771, 25.678224808081385, 2.260534052902295, 7.455400776674827, 7.326801171117987, 6.783921798271634, 0.7436785827703921, 5.221028939804896, 0.7868189458058896, 0.9446164018527208, 0.9446164340468582, 0.9446164984351332, 1.0995626475424956, 1.0995626475424956, 1.1297847856422107, 1.1299538776186813, 1.1299881805032983, 1.1871761047531764, 1.187277720259902, 1.187291143437274, 1.187298443802039, 1.1873112763094458, 1.187352895925068, 1.1873806842406058, 1.1997785130273704, 1.1997787763296472, 1.1997790495245746, 1.1997791009390575, 1.3262606027818076, 1.3262737192690457, 1.3262753274157837, 1.3262753274157837, 1.3262753274157837, 1.326286951162658, 1.3262888824599934, 1.3262908480037736, 2.0998509194952812, 3.7008936964639627, 17.78715837216681, 3.644697997156078, 2.0998500751078386, 2.842572845743531, 7.477511261082421, 14.459489944700456, 4.896314416992856, 6.455497168307037, 1.507041461761771, 14.491131351064306, 2.422571916609203, 13.851435725289711, 1.5070412850779598, 28.874072334485444, 7.545496283159771, 25.678224808081385, 2.260534052902295, 7.455400776674827, 7.326801171117987, 6.783921798271634, 5.279502711735851, 4.818138775892136, 0.7436785827703921, 0.7868189458058896, 0.9446164018527208, 0.9446164340468582, 0.9446164984351332, 1.0995626475424956, 1.0995626475424956, 1.1297847856422107, 1.1299538776186813, 1.1299881805032983, 1.1871761047531764, 1.187277720259902, 1.187291143437274, 1.187298443802039, 1.1873112763094458, 1.187352895925068, 1.1873806842406058, 1.1997785130273704, 1.1997787763296472, 1.1997790495245746, 1.1997791009390575, 1.3727735974512547, 1.3728091567708511, 1.3729208361632719, 1.3731217676073388, 1.3731886103414426, 1.3733470115310082, 1.3262606027818076, 1.3262737192690457, 1.3262753274157837, 2.1547130568975703, 2.936291538651479, 3.544738775128159, 6.210069378516857, 2.172809799239143, 5.39496331084693, 6.8934723127489335, 2.173035647540725, 25.678224808081385, 3.823735051887091, 2.173226983761522, 2.2504324902266903, 2.1267465598715285, 2.177588181243694, 2.177696550713684, 2.98138191676655, 2.8796987495405237, 6.839575604019049, 3.2025776399190504, 7.84313879596399, 2.842572845743531, 2.931645729252229, 3.8034364732074715, 4.925408488123132, 5.344761983271229, 14.491131351064306, 5.279502711735851, 6.283501909484979, 0.7436785827703921, 0.7868189458058896, 0.9446164018527208, 0.9446164340468582, 0.9446164984351332, 1.0995626475424956, 1.0995626475424956, 1.1297847856422107, 1.1299538776186813, 1.1299881805032983, 1.1871761047531764, 1.187277720259902, 1.187291143437274, 1.187298443802039, 1.1873112763094458, 1.187352895925068, 1.1873806842406058, 1.1997785130273704, 1.1997787763296472, 1.1997790495245746, 1.1997791009390575, 1.3262606027818076, 1.3262737192690457, 1.3262753274157837, 1.3262753274157837, 1.3262753274157837, 1.326286951162658, 1.3262888824599934, 1.3262908480037736, 1.3262914473077825, 2.0998509194952812, 3.7008936964639627, 17.78715837216681, 3.644697997156078, 2.0998500751078386, 2.842572845743531, 7.477511261082421, 5.221028939804896, 14.459489944700456, 4.896314416992856, 6.455497168307037, 1.507041461761771, 14.491131351064306, 2.422571916609203, 13.851435725289711, 1.5070412850779598, 28.874072334485444, 7.545496283159771, 25.678224808081385, 2.260534052902295, 7.455400776674827, 7.326801171117987, 6.783921798271634, 5.279502711735851, 4.818138775892136, 3.967446471138672], \"Category\": [\"Default\", \"Default\", \"Default\", \"Default\", \"Default\", \"Default\", \"Default\", \"Default\", \"Default\", \"Default\", \"Default\", \"Default\", \"Default\", \"Default\", \"Default\", \"Default\", \"Default\", \"Default\", \"Default\", \"Default\", \"Default\", \"Default\", \"Default\", \"Default\", \"Default\", \"Default\", \"Default\", \"Default\", \"Default\", \"Default\", \"Topic1\", \"Topic1\", \"Topic1\", \"Topic1\", \"Topic1\", \"Topic1\", \"Topic1\", \"Topic1\", \"Topic1\", \"Topic1\", \"Topic1\", \"Topic1\", \"Topic1\", \"Topic1\", \"Topic1\", \"Topic1\", \"Topic1\", \"Topic1\", \"Topic1\", \"Topic1\", \"Topic1\", \"Topic1\", \"Topic1\", \"Topic1\", \"Topic1\", \"Topic1\", \"Topic1\", \"Topic1\", \"Topic1\", \"Topic1\", \"Topic1\", \"Topic1\", \"Topic1\", \"Topic1\", \"Topic1\", \"Topic1\", \"Topic1\", \"Topic1\", \"Topic1\", \"Topic1\", \"Topic1\", \"Topic1\", \"Topic1\", \"Topic1\", \"Topic1\", \"Topic1\", \"Topic1\", \"Topic1\", \"Topic1\", \"Topic1\", \"Topic1\", \"Topic1\", \"Topic1\", \"Topic1\", \"Topic1\", \"Topic2\", \"Topic2\", \"Topic2\", \"Topic2\", \"Topic2\", \"Topic2\", \"Topic2\", \"Topic2\", \"Topic2\", \"Topic2\", \"Topic2\", \"Topic2\", \"Topic2\", \"Topic2\", \"Topic2\", \"Topic2\", \"Topic2\", \"Topic2\", \"Topic2\", \"Topic2\", \"Topic2\", \"Topic2\", \"Topic2\", \"Topic2\", \"Topic2\", \"Topic2\", \"Topic2\", \"Topic2\", \"Topic2\", \"Topic2\", \"Topic2\", \"Topic2\", \"Topic2\", \"Topic2\", \"Topic2\", \"Topic2\", \"Topic2\", \"Topic2\", \"Topic2\", \"Topic2\", \"Topic2\", \"Topic2\", \"Topic2\", \"Topic2\", \"Topic2\", \"Topic2\", \"Topic2\", \"Topic2\", \"Topic2\", \"Topic2\", \"Topic2\", \"Topic2\", \"Topic3\", \"Topic3\", \"Topic3\", \"Topic3\", \"Topic3\", \"Topic3\", \"Topic3\", \"Topic3\", \"Topic3\", \"Topic3\", \"Topic3\", \"Topic3\", \"Topic3\", \"Topic3\", \"Topic3\", \"Topic3\", \"Topic3\", \"Topic3\", \"Topic3\", \"Topic3\", \"Topic3\", \"Topic3\", \"Topic3\", \"Topic3\", \"Topic3\", \"Topic3\", \"Topic3\", \"Topic3\", \"Topic3\", \"Topic3\", \"Topic3\", \"Topic3\", \"Topic3\", \"Topic3\", \"Topic3\", \"Topic3\", \"Topic3\", \"Topic3\", \"Topic3\", \"Topic3\", \"Topic3\", \"Topic3\", \"Topic3\", \"Topic4\", \"Topic4\", \"Topic4\", \"Topic4\", \"Topic4\", \"Topic4\", \"Topic4\", \"Topic4\", \"Topic4\", \"Topic4\", \"Topic4\", \"Topic4\", \"Topic4\", \"Topic4\", \"Topic4\", \"Topic4\", \"Topic4\", \"Topic4\", \"Topic4\", \"Topic4\", \"Topic4\", \"Topic4\", \"Topic4\", \"Topic4\", \"Topic4\", \"Topic4\", \"Topic4\", \"Topic4\", \"Topic4\", \"Topic4\", \"Topic4\", \"Topic4\", \"Topic4\", \"Topic4\", \"Topic4\", \"Topic4\", \"Topic4\", \"Topic4\", \"Topic4\", \"Topic4\", \"Topic4\", \"Topic4\", \"Topic4\", \"Topic4\", \"Topic5\", \"Topic5\", \"Topic5\", \"Topic5\", \"Topic5\", \"Topic5\", \"Topic5\", \"Topic5\", \"Topic5\", \"Topic5\", \"Topic5\", \"Topic5\", \"Topic5\", \"Topic5\", \"Topic5\", \"Topic5\", \"Topic5\", \"Topic5\", \"Topic5\", \"Topic5\", \"Topic5\", \"Topic5\", \"Topic5\", \"Topic5\", \"Topic5\", \"Topic5\", \"Topic5\", \"Topic5\", \"Topic5\", \"Topic5\", \"Topic5\", \"Topic5\", \"Topic5\", \"Topic5\", \"Topic5\", \"Topic5\", \"Topic5\", \"Topic5\", \"Topic5\", \"Topic5\", \"Topic6\", \"Topic6\", \"Topic6\", \"Topic6\", \"Topic6\", \"Topic6\", \"Topic6\", \"Topic6\", \"Topic6\", \"Topic6\", \"Topic6\", \"Topic6\", \"Topic6\", \"Topic6\", \"Topic6\", \"Topic6\", \"Topic6\", \"Topic6\", \"Topic6\", \"Topic6\", \"Topic6\", \"Topic6\", \"Topic6\", \"Topic6\", \"Topic6\", \"Topic6\", \"Topic6\", \"Topic6\", \"Topic6\", \"Topic6\", \"Topic6\", \"Topic6\", \"Topic6\", \"Topic6\", \"Topic6\", \"Topic7\", \"Topic7\", \"Topic7\", \"Topic7\", \"Topic7\", \"Topic7\", \"Topic7\", \"Topic7\", \"Topic7\", \"Topic7\", \"Topic7\", \"Topic7\", \"Topic7\", \"Topic7\", \"Topic7\", \"Topic7\", \"Topic7\", \"Topic7\", \"Topic7\", \"Topic7\", \"Topic7\", \"Topic7\", \"Topic7\", \"Topic7\", \"Topic7\", \"Topic7\", \"Topic7\", \"Topic7\", \"Topic7\", \"Topic7\", \"Topic7\", \"Topic7\", \"Topic7\", \"Topic7\", \"Topic7\", \"Topic7\", \"Topic7\", \"Topic7\", \"Topic7\", \"Topic7\", \"Topic7\", \"Topic8\", \"Topic8\", \"Topic8\", \"Topic8\", \"Topic8\", \"Topic8\", \"Topic8\", \"Topic8\", \"Topic8\", \"Topic8\", \"Topic8\", \"Topic8\", \"Topic8\", \"Topic8\", \"Topic8\", \"Topic8\", \"Topic8\", \"Topic8\", \"Topic8\", \"Topic8\", \"Topic8\", \"Topic8\", \"Topic8\", \"Topic8\", \"Topic8\", \"Topic8\", \"Topic8\", \"Topic8\", \"Topic8\", \"Topic8\", \"Topic8\", \"Topic8\", \"Topic8\", \"Topic8\", \"Topic8\", \"Topic8\", \"Topic8\", \"Topic8\", \"Topic8\", \"Topic8\", \"Topic9\", \"Topic9\", \"Topic9\", \"Topic9\", \"Topic9\", \"Topic9\", \"Topic9\", \"Topic9\", \"Topic9\", \"Topic9\", \"Topic9\", \"Topic9\", \"Topic9\", \"Topic9\", \"Topic9\", \"Topic9\", \"Topic9\", \"Topic9\", \"Topic9\", \"Topic9\", \"Topic9\", \"Topic9\", \"Topic9\", \"Topic9\", \"Topic9\", \"Topic9\", \"Topic9\", \"Topic9\", \"Topic9\", \"Topic9\", \"Topic9\", \"Topic10\", \"Topic10\", \"Topic10\", \"Topic10\", \"Topic10\", \"Topic10\", \"Topic10\", \"Topic10\", \"Topic10\", \"Topic10\", \"Topic10\", \"Topic10\", \"Topic10\", \"Topic10\", \"Topic10\", \"Topic10\", \"Topic10\", \"Topic10\", \"Topic10\", \"Topic10\", \"Topic10\", \"Topic10\", \"Topic10\", \"Topic10\", \"Topic10\", \"Topic10\", \"Topic10\", \"Topic10\", \"Topic10\", \"Topic10\", \"Topic10\", \"Topic10\", \"Topic10\", \"Topic10\", \"Topic10\", \"Topic10\", \"Topic10\", \"Topic11\", \"Topic11\", \"Topic11\", \"Topic11\", \"Topic11\", \"Topic11\", \"Topic11\", \"Topic11\", \"Topic11\", \"Topic11\", \"Topic11\", \"Topic11\", \"Topic11\", \"Topic11\", \"Topic11\", \"Topic11\", \"Topic11\", \"Topic11\", \"Topic11\", \"Topic11\", \"Topic11\", \"Topic11\", \"Topic11\", \"Topic11\", \"Topic11\", \"Topic11\", \"Topic11\", \"Topic11\", \"Topic11\", \"Topic11\", \"Topic11\", \"Topic11\", \"Topic11\", \"Topic11\", \"Topic11\", \"Topic11\", \"Topic12\", \"Topic12\", \"Topic12\", \"Topic12\", \"Topic12\", \"Topic12\", \"Topic12\", \"Topic12\", \"Topic12\", \"Topic12\", \"Topic12\", \"Topic12\", \"Topic12\", \"Topic12\", \"Topic12\", \"Topic12\", \"Topic12\", \"Topic12\", \"Topic12\", \"Topic12\", \"Topic12\", \"Topic12\", \"Topic12\", \"Topic12\", \"Topic12\", \"Topic12\", \"Topic12\", \"Topic12\", \"Topic12\", \"Topic12\", \"Topic12\", \"Topic12\", \"Topic12\", \"Topic12\", \"Topic12\", \"Topic12\", \"Topic12\", \"Topic12\", \"Topic12\", \"Topic12\", \"Topic12\", \"Topic12\", \"Topic12\", \"Topic12\", \"Topic12\", \"Topic12\", \"Topic12\", \"Topic12\", \"Topic13\", \"Topic13\", \"Topic13\", \"Topic13\", \"Topic13\", \"Topic13\", \"Topic13\", \"Topic13\", \"Topic13\", \"Topic13\", \"Topic13\", \"Topic13\", \"Topic13\", \"Topic13\", \"Topic13\", \"Topic13\", \"Topic13\", \"Topic13\", \"Topic13\", \"Topic13\", \"Topic13\", \"Topic13\", \"Topic13\", \"Topic13\", \"Topic13\", \"Topic13\", \"Topic13\", \"Topic13\", \"Topic13\", \"Topic13\", \"Topic13\", \"Topic13\", \"Topic13\", \"Topic13\", \"Topic13\", \"Topic13\", \"Topic13\", \"Topic13\", \"Topic13\", \"Topic13\", \"Topic13\", \"Topic13\", \"Topic13\", \"Topic13\", \"Topic13\", \"Topic13\", \"Topic13\", \"Topic13\", \"Topic13\", \"Topic13\", \"Topic13\", \"Topic13\", \"Topic14\", \"Topic14\", \"Topic14\", \"Topic14\", \"Topic14\", \"Topic14\", \"Topic14\", \"Topic14\", \"Topic14\", \"Topic14\", \"Topic14\", \"Topic14\", \"Topic14\", \"Topic14\", \"Topic14\", \"Topic14\", \"Topic14\", \"Topic14\", \"Topic14\", \"Topic14\", \"Topic14\", \"Topic14\", \"Topic14\", \"Topic14\", \"Topic14\", \"Topic14\", \"Topic14\", \"Topic14\", \"Topic14\", \"Topic14\", \"Topic14\", \"Topic14\", \"Topic14\", \"Topic14\", \"Topic14\", \"Topic14\", \"Topic14\", \"Topic14\", \"Topic14\", \"Topic14\", \"Topic14\", \"Topic14\", \"Topic14\", \"Topic14\", \"Topic14\", \"Topic14\", \"Topic14\", \"Topic14\", \"Topic15\", \"Topic15\", \"Topic15\", \"Topic15\", \"Topic15\", \"Topic15\", \"Topic15\", \"Topic15\", \"Topic15\", \"Topic15\", \"Topic15\", \"Topic15\", \"Topic15\", \"Topic15\", \"Topic15\", \"Topic15\", \"Topic15\", \"Topic15\", \"Topic15\", \"Topic15\", \"Topic15\", \"Topic15\", \"Topic15\", \"Topic15\", \"Topic15\", \"Topic15\", \"Topic15\", \"Topic15\", \"Topic15\", \"Topic15\", \"Topic15\", \"Topic15\", \"Topic15\", \"Topic15\", \"Topic15\", \"Topic15\", \"Topic15\", \"Topic15\", \"Topic15\", \"Topic15\", \"Topic15\", \"Topic15\", \"Topic15\", \"Topic15\", \"Topic15\", \"Topic15\", \"Topic15\", \"Topic15\", \"Topic15\", \"Topic15\", \"Topic15\", \"Topic15\", \"Topic15\", \"Topic16\", \"Topic16\", \"Topic16\", \"Topic16\", \"Topic16\", \"Topic16\", \"Topic16\", \"Topic16\", \"Topic16\", \"Topic16\", \"Topic16\", \"Topic16\", \"Topic16\", \"Topic16\", \"Topic16\", \"Topic16\", \"Topic16\", \"Topic16\", \"Topic16\", \"Topic16\", \"Topic16\", \"Topic16\", \"Topic16\", \"Topic16\", \"Topic16\", \"Topic16\", \"Topic16\", \"Topic16\", \"Topic16\", \"Topic16\", \"Topic16\", \"Topic16\", \"Topic16\", \"Topic16\", \"Topic16\", \"Topic16\", \"Topic16\", \"Topic16\", \"Topic16\", \"Topic16\", \"Topic16\", \"Topic16\", \"Topic16\", \"Topic16\", \"Topic16\", \"Topic16\", \"Topic16\", \"Topic16\", \"Topic16\", \"Topic16\", \"Topic16\", \"Topic16\", \"Topic16\", \"Topic17\", \"Topic17\", \"Topic17\", \"Topic17\", \"Topic17\", \"Topic17\", \"Topic17\", \"Topic17\", \"Topic17\", \"Topic17\", \"Topic17\", \"Topic17\", \"Topic17\", \"Topic17\", \"Topic17\", \"Topic17\", \"Topic17\", \"Topic17\", \"Topic17\", \"Topic17\", \"Topic17\", \"Topic17\", \"Topic17\", \"Topic17\", \"Topic17\", \"Topic17\", \"Topic17\", \"Topic17\", \"Topic17\", \"Topic17\", \"Topic17\", \"Topic17\", \"Topic17\", \"Topic17\", \"Topic17\", \"Topic17\", \"Topic17\", \"Topic17\", \"Topic17\", \"Topic17\", \"Topic17\", \"Topic17\", \"Topic17\", \"Topic17\", \"Topic17\", \"Topic17\", \"Topic17\", \"Topic17\", \"Topic17\", \"Topic17\", \"Topic17\", \"Topic17\", \"Topic17\", \"Topic18\", \"Topic18\", \"Topic18\", \"Topic18\", \"Topic18\", \"Topic18\", \"Topic18\", \"Topic18\", \"Topic18\", \"Topic18\", \"Topic18\", \"Topic18\", \"Topic18\", \"Topic18\", \"Topic18\", \"Topic18\", \"Topic18\", \"Topic18\", \"Topic18\", \"Topic18\", \"Topic18\", \"Topic18\", \"Topic18\", \"Topic18\", \"Topic18\", \"Topic18\", \"Topic18\", \"Topic18\", \"Topic18\", \"Topic18\", \"Topic18\", \"Topic18\", \"Topic18\", \"Topic18\", \"Topic18\", \"Topic18\", \"Topic18\", \"Topic18\", \"Topic18\", \"Topic18\", \"Topic18\", \"Topic18\", \"Topic18\", \"Topic18\", \"Topic18\", \"Topic18\", \"Topic18\", \"Topic18\", \"Topic18\", \"Topic18\", \"Topic18\", \"Topic18\", \"Topic18\", \"Topic18\", \"Topic19\", \"Topic19\", \"Topic19\", \"Topic19\", \"Topic19\", \"Topic19\", \"Topic19\", \"Topic19\", \"Topic19\", \"Topic19\", \"Topic19\", \"Topic19\", \"Topic19\", \"Topic19\", \"Topic19\", \"Topic19\", \"Topic19\", \"Topic19\", \"Topic19\", \"Topic19\", \"Topic19\", \"Topic19\", \"Topic19\", \"Topic19\", \"Topic19\", \"Topic19\", \"Topic19\", \"Topic19\", \"Topic19\", \"Topic19\", \"Topic19\", \"Topic19\", \"Topic19\", \"Topic19\", \"Topic19\", \"Topic19\", \"Topic19\", \"Topic19\", \"Topic19\", \"Topic19\", \"Topic19\", \"Topic19\", \"Topic19\", \"Topic19\", \"Topic19\", \"Topic19\", \"Topic19\", \"Topic19\", \"Topic19\", \"Topic19\", \"Topic19\", \"Topic19\", \"Topic19\", \"Topic19\", \"Topic19\", \"Topic19\", \"Topic19\", \"Topic19\", \"Topic20\", \"Topic20\", \"Topic20\", \"Topic20\", \"Topic20\", \"Topic20\", \"Topic20\", \"Topic20\", \"Topic20\", \"Topic20\", \"Topic20\", \"Topic20\", \"Topic20\", \"Topic20\", \"Topic20\", \"Topic20\", \"Topic20\", \"Topic20\", \"Topic20\", \"Topic20\", \"Topic20\", \"Topic20\", \"Topic20\", \"Topic20\", \"Topic20\", \"Topic20\", \"Topic20\", \"Topic20\", \"Topic20\", \"Topic20\", \"Topic20\", \"Topic20\", \"Topic20\", \"Topic20\", \"Topic20\", \"Topic20\", \"Topic20\", \"Topic20\", \"Topic20\", \"Topic20\", \"Topic20\", \"Topic20\", \"Topic20\", \"Topic20\", \"Topic20\", \"Topic20\", \"Topic20\", \"Topic20\", \"Topic20\", \"Topic20\", \"Topic20\", \"Topic20\", \"Topic20\", \"Topic20\", \"Topic20\", \"Topic20\"], \"logprob\": [30.0, 29.0, 28.0, 27.0, 26.0, 25.0, 24.0, 23.0, 22.0, 21.0, 20.0, 19.0, 18.0, 17.0, 16.0, 15.0, 14.0, 13.0, 12.0, 11.0, 10.0, 9.0, 8.0, 7.0, 6.0, 5.0, 4.0, 3.0, 2.0, 1.0, -3.9371, -4.6159, -4.6177, -4.6199, -4.6201, -4.6206, -3.7182, -4.2228, -4.2213, -5.285, -5.285, -5.285, -5.285, -5.285, -5.285, -5.285, -5.285, -5.285, -5.285, -5.285, -5.285, -5.2878, -5.288, -5.2881, -5.2882, -5.2882, -5.2882, -5.2883, -5.2883, -5.2885, -4.2201, -4.2209, -4.6192, -3.9359, -3.9372, -3.938, -3.3828, -3.3837, -2.8461, -4.2224, -4.2201, -3.7158, -4.2219, -4.6199, -4.618, -4.2227, -4.6159, -4.2195, -4.221, -4.6193, -3.7165, -4.6159, -4.6116, -4.6178, -4.6178, -4.2013, -4.2129, -3.5229, -3.8182, -4.8704, -4.8704, -4.8704, -4.8704, -4.8704, -4.8704, -4.8704, -4.8704, -4.8704, -4.8704, -4.8704, -4.8753, -4.8771, -4.8781, -4.8808, -4.8809, -4.8812, -4.8817, -4.8826, -4.883, -4.8835, -4.8843, -4.8943, -4.8947, -4.2013, -3.8054, -4.2118, -3.804, -3.8147, -4.2191, -3.8087, -3.3035, -4.2013, -3.8073, -4.2013, -3.8204, -3.5204, -4.2261, -3.304, -4.2165, -3.5204, -4.2013, -4.2013, -4.2035, -4.2134, -4.2095, -4.8704, -4.8704, -3.7889, -3.7889, -4.4579, -4.4579, -4.4579, -4.4579, -4.4579, -4.4579, -4.4579, -4.4579, -4.4579, -4.4579, -4.4579, -4.4579, -4.4579, -3.7889, -3.7889, -3.3916, -2.2, -3.7932, -3.7932, -4.4579, -4.4579, -4.4579, -4.4579, -4.4579, -4.4579, -4.4579, -4.4579, -4.4579, -3.108, -3.7889, -3.108, -3.7889, -4.4579, -4.4579, -4.4579, -4.4579, -4.4579, -4.4579, -4.4579, -4.4579, -4.4579, -4.3507, -4.3507, -4.3507, -4.3508, -4.3554, -4.3555, -4.3555, -4.356, -4.3561, -4.3563, -4.3563, -4.3566, -3.6872, -4.3565, -4.3557, -4.3565, -4.3508, -4.3563, -4.3556, -4.3561, -4.3507, -4.3507, -4.3555, -4.3563, -4.3507, -4.3555, -4.3557, -3.6861, -4.3556, -4.3508, -3.6869, -3.6866, -2.7845, -3.2866, -3.6817, -3.2881, -3.6817, -4.3507, -4.3507, -4.3507, -4.3507, -4.3507, -4.3548, -4.3551, -4.3416, -4.3416, -4.3416, -4.3416, -4.3416, -4.3416, -4.3416, -4.3416, -4.3416, -3.6725, -3.6725, -3.6725, -3.6725, -3.6725, -4.3416, -3.2752, -2.9916, -4.3416, -4.3416, -4.3416, -4.3416, -3.6725, -4.3416, -4.3416, -4.3416, -4.3416, -4.3416, -3.6725, -4.3416, -4.3416, -3.2752, -3.6725, -2.9916, -3.6725, -4.3416, -4.3416, -4.3416, -4.3416, -4.3416, -4.3416, -3.1429, -3.5402, -3.1428, -4.2089, -4.2091, -4.2092, -4.2095, -4.2096, -4.2097, -3.1429, -3.5402, -4.209, -3.1435, -4.2092, -4.2094, -4.2097, -4.209, -4.2091, -4.2093, -3.1451, -3.1433, -4.2092, -4.2097, -4.2092, -4.21, -4.2097, -4.2096, -3.5402, -4.2097, -4.209, -2.6391, -4.2084, -4.2091, -4.2092, -4.2096, -4.153, -4.153, -4.153, -4.153, -4.153, -4.153, -4.153, -4.153, -4.153, -3.4832, -4.153, -4.153, -2.5841, -4.153, -3.0895, -4.153, -4.153, -4.1511, -4.153, -4.1517, -4.1505, -4.153, -4.1512, -4.151, -4.153, -4.153, -4.1499, -4.1495, -4.147, -4.1496, -3.4825, -3.0845, -4.1449, -4.15, -4.15, -4.1504, -4.153, -4.153, -4.153, -4.153, -4.153, -3.47, -4.1391, -4.1391, -4.1368, -3.0727, -4.1385, -4.1391, -4.1391, -4.1391, -4.1391, -4.1391, -4.1391, -4.1391, -3.0727, -4.1379, -4.1391, -4.1391, -4.1391, -4.1391, -4.1391, -4.1391, -4.1391, -4.1391, -4.1368, -4.1391, -3.47, -3.4684, -4.134, -4.1391, -4.1385, -4.1302, -4.1272, -4.126, -4.1334, -4.1357, -4.138, -4.1384, -4.1385, -4.1386, -4.1391, -3.0394, -3.4351, -3.4394, -3.4394, -4.1047, -4.1048, -4.1051, -4.1053, -4.1033, -4.1057, -3.039, -4.1033, -4.105, -3.4349, -3.4358, -2.7541, -3.4358, -4.1052, -2.3531, -4.1033, -4.1051, -4.1052, -4.1057, -4.1033, -4.105, -4.1033, -4.1054, -4.1049, -4.1052, -7.1478, -4.1054, -3.4068, -4.0759, -4.0759, -4.0759, -4.0759, -4.0759, -4.0769, -4.0771, -4.0773, -4.0773, -3.4076, -4.0759, -3.4068, -4.0778, -4.0771, -4.0775, -4.0759, -4.0771, -4.0759, -4.0769, -3.4084, -3.0095, -3.4063, -4.0768, -4.0774, -4.0773, -3.4068, -4.0771, -4.0755, -4.0776, -3.406, -4.0727, -4.073, -4.0738, -4.0749, -4.0759, -4.0759, -3.3735, -3.3736, -4.0426, -4.0426, -4.0426, -4.0427, -4.0427, -4.0427, -4.0428, -3.3737, -4.0426, -4.0426, -4.0428, -4.0427, -4.0427, -3.3734, -3.3736, -3.3735, -4.0427, -4.0427, -4.0428, -3.3724, -4.0428, -4.0427, -4.0425, -4.0428, -4.0377, -4.0406, -4.0428, -4.0427, -4.0299, -4.0348, -4.0385, -4.0412, -4.0426, -4.0426, -3.6084, -3.6084, -3.6084, -3.6084, -2.9393, -3.6084, -3.6084, -3.6084, -3.6084, -3.6084, -2.9393, -3.6084, -3.6084, -3.6084, -3.6084, -3.6066, -2.9393, -3.6084, -6.6529, -6.6529, -6.6529, -6.6529, -6.6529, -6.6529, -6.6529, -6.6529, -6.6529, -6.6529, -6.6529, -6.6529, -3.604, -3.6003, -6.5905, -6.6001, -6.6007, -6.6018, -6.6057, -6.6131, -6.6142, -6.618, -6.5775, -6.6031, -6.5982, -6.5598, -6.5637, -6.5806, -6.6004, -6.6016, -2.5185, -3.58, -3.5806, -3.5807, -3.5808, -3.5808, -3.5811, -3.5813, -3.5801, -3.5816, -3.5806, -2.2347, -3.58, -3.5816, -3.5809, -3.5811, -6.6224, -6.6224, -6.6224, -6.6224, -6.6224, -6.6224, -6.6224, -6.6224, -6.6224, -6.6224, -6.6224, -6.6224, -6.6224, -6.6224, -3.5797, -6.6071, -6.6078, -6.6084, -6.6103, -6.6111, -6.6112, -6.6113, -6.6114, -6.5855, -6.5525, -6.6122, -6.58, -6.5901, -6.594, -6.5973, -6.5967, -6.5976, -6.6005, -6.6072, -6.6074, -6.6076, -3.4385, -3.4387, -3.4396, -2.7699, -2.7699, -3.4382, -3.4385, -2.3727, -2.7699, -3.4397, -3.4393, -3.4391, -6.4793, -6.4793, -6.4793, -6.4793, -6.4793, -6.4793, -6.4793, -6.4793, -6.4793, -6.4793, -6.4793, -6.4793, -6.4793, -6.4793, -6.4793, -6.4793, -6.4793, -6.4793, -6.4793, -6.4793, -6.4793, -6.4793, -6.4793, -6.4793, -6.4793, -6.4793, -6.4793, -6.4793, -6.4793, -6.4793, -6.4793, -6.4793, -6.4793, -6.4793, -6.4793, -6.4793, -3.3741, -3.3741, -3.3741, -3.3741, -3.3741, -3.3741, -2.7051, -3.3741, -2.705, -3.3741, -3.3741, -3.374, -3.3741, -6.4186, -6.4186, -6.4186, -6.4186, -6.4186, -6.4186, -6.4186, -6.4186, -6.4186, -6.4186, -6.4186, -6.4186, -6.4186, -6.4186, -6.4186, -6.4186, -6.4186, -6.4152, -6.4152, -6.4155, -6.4158, -6.4159, -6.4159, -6.4161, -6.4162, -6.4163, -6.4085, -6.4097, -6.4102, -6.4107, -6.4126, -6.413, -6.4133, -6.4134, -6.4135, -6.4138, -6.4139, -6.4141, -6.4147, -6.4152, -3.149, -3.149, -3.149, -3.1025, -3.149, -3.1395, -3.1334, -6.1935, -6.1935, -3.149, -5.7871, -5.7935, -6.0985, -6.1151, -6.1185, -6.1935, -6.1935, -5.9409, -5.9534, -5.9629, -5.9688, -6.1935, -6.1935, -6.1935, -6.1935, -6.1935, -6.1935, -6.1935, -5.9835, -6.1935, -5.9925, -5.9973, -5.9977, -6.0471, -6.0642, -5.8105, -5.6536, -5.5773, -5.9573, -5.9434, -5.8393, -5.4635, -5.699, -5.8673, -5.7145, -5.9851, -5.9548, -5.7968, -5.8767, -5.8424, -5.9296, -5.9479, -5.9646, -2.8771, -2.8771, -2.8771, -5.9216, -5.9216, -5.9216, -5.9216, -5.9216, -5.9216, -5.9216, -5.9216, -5.9216, -5.9216, -5.9216, -5.9216, -5.9216, -5.9216, -5.9216, -5.9216, -5.9216, -5.9216, -5.9216, -5.9216, -5.9216, -5.9216, -5.9216, -5.9216, -5.9216, -5.9216, -5.9216, -5.9216, -5.9216, -5.9216, -5.9216, -5.9216, -5.9216, -5.9216, -5.9216, -5.9216, -5.9216, -5.9216, -5.9216, -5.9216, -5.9216, -5.9216, -5.9216, -5.9216, -5.9216, -5.9216, -5.9216, -5.9216, -5.9216, -5.9216, -2.822, -2.822, -5.8665, -5.8665, -5.8665, -5.8665, -5.8665, -5.8665, -5.8665, -5.8665, -5.8665, -5.8665, -5.8665, -5.8665, -5.8665, -5.8665, -5.8665, -5.8665, -5.8665, -5.8665, -5.8665, -5.8665, -5.8665, -5.8665, -5.8665, -5.8665, -5.8665, -5.8665, -5.8665, -5.8665, -5.8665, -5.8665, -5.8665, -5.8665, -5.8665, -5.8665, -5.8665, -5.8665, -5.8665, -5.8665, -5.8665, -5.8665, -5.8665, -5.8665, -5.8665, -5.8665, -5.8665, -5.8665, -5.8665, -5.8665, -5.8665, -5.8665, -5.8665, -5.8665, -5.7557, -5.7557, -5.7557, -5.7557, -5.7557, -5.7557, -5.7557, -5.7557, -5.7557, -5.7557, -5.7557, -5.7557, -5.7557, -5.7557, -5.7557, -5.7557, -5.7557, -5.7557, -5.7557, -5.7557, -5.7557, -5.6953, -5.6963, -5.6992, -5.7046, -5.7063, -5.7106, -5.7557, -5.7557, -5.7557, -5.6562, -5.6099, -5.6153, -5.5799, -5.6944, -5.6121, -5.5919, -5.7004, -5.4908, -5.6574, -5.7055, -5.703, -5.7081, -5.7071, -5.7089, -5.6886, -5.6953, -5.652, -5.6941, -5.6568, -5.7042, -5.7046, -5.697, -5.6946, -5.6959, -5.6947, -5.7045, -5.7058, -5.7462, -5.7462, -5.7462, -5.7462, -5.7462, -5.7462, -5.7462, -5.7462, -5.7462, -5.7462, -5.7462, -5.7462, -5.7462, -5.7462, -5.7462, -5.7462, -5.7462, -5.7462, -5.7462, -5.7462, -5.7462, -5.7462, -5.7462, -5.7462, -5.7462, -5.7462, -5.7462, -5.7462, -5.7462, -5.7462, -5.7462, -5.7462, -5.7462, -5.7462, -5.7462, -5.7462, -5.7462, -5.7462, -5.7462, -5.7462, -5.7462, -5.7462, -5.7462, -5.7462, -5.7462, -5.7462, -5.7462, -5.7462, -5.7462, -5.7462, -5.7462, -5.7462, -5.7462, -5.7462, -5.7462, -5.7462], \"loglift\": [30.0, 29.0, 28.0, 27.0, 26.0, 25.0, 24.0, 23.0, 22.0, 21.0, 20.0, 19.0, 18.0, 17.0, 16.0, 15.0, 14.0, 13.0, 12.0, 11.0, 10.0, 9.0, 8.0, 7.0, 6.0, 5.0, 4.0, 3.0, 2.0, 1.0, 1.4223, 1.3061, 1.3046, 1.3027, 1.3025, 1.3021, 1.1931, 1.1801, 1.179, 1.1117, 1.1117, 1.1117, 1.1117, 1.1117, 1.1117, 1.1117, 1.1117, 1.1117, 1.1117, 1.1117, 1.1117, 1.1092, 1.1091, 1.109, 1.1089, 1.1089, 1.1089, 1.1088, 1.1088, 1.1086, 1.0143, 1.0025, 1.0237, 0.8921, 0.8607, 0.8604, 0.7527, 0.7496, 0.5978, 0.7509, 0.7218, 0.4627, 0.6704, 0.8231, 0.8107, 0.6155, 0.7925, 0.5957, 0.5159, 0.6331, -0.1553, 0.5382, -0.1182, 0.0585, 0.5252, 1.7462, 1.7399, 1.6893, 1.6128, 1.5468, 1.5468, 1.5468, 1.5468, 1.5468, 1.5468, 1.5468, 1.5468, 1.5468, 1.5468, 1.5467, 1.5436, 1.5426, 1.5419, 1.5402, 1.5402, 1.54, 1.5397, 1.5391, 1.5389, 1.5386, 1.5381, 1.5318, 1.5315, 1.517, 1.4759, 1.4624, 1.4122, 1.4032, 1.4427, 1.0836, 0.8297, 1.2116, 0.9876, 1.0937, 0.6753, 0.4079, 0.9922, 0.1399, 0.8415, 0.0408, 0.7678, 0.5846, 0.4728, -0.0349, -0.074, 1.2018, 0.2838, 2.2157, 2.2157, 2.0045, 2.0045, 2.0045, 2.0045, 2.0045, 2.0045, 2.0045, 2.0045, 2.0045, 2.0045, 2.0045, 2.0045, 2.0045, 1.9247, 1.9075, 1.7298, 1.7283, 1.7204, 1.7051, 1.6813, 1.6813, 1.6523, 1.6462, 1.5854, 1.5804, 1.5767, 1.5534, 1.5531, 1.357, 1.0264, 0.4532, 0.7069, 0.6001, -0.3225, 0.8371, 0.3803, 1.2401, 1.0839, 1.5531, 0.6761, 1.227, 2.122, 2.122, 2.122, 2.122, 2.1178, 2.1177, 2.1177, 2.1173, 2.1172, 2.1171, 2.1169, 2.1167, 2.0272, 1.8065, 1.6946, 1.6939, 1.6906, 1.6854, 1.673, 1.6725, 1.6603, 1.6603, 1.6558, 1.6281, 1.6179, 1.6138, 1.6132, 1.467, 1.3949, 1.3805, 1.3209, 1.1896, 0.6594, 0.8918, 0.7833, 0.2731, 0.2467, 1.3457, 1.3148, 1.1628, 0.4645, 0.1427, 0.6186, 0.7756, 2.1348, 2.1348, 2.1348, 2.1348, 2.1348, 2.1348, 2.1348, 2.1348, 2.1348, 2.037, 2.0128, 2.0123, 2.0118, 2.0116, 2.0035, 1.9107, 1.8068, 1.7109, 1.6893, 1.6891, 1.6891, 1.6548, 1.6433, 1.6296, 1.6296, 1.6296, 1.6295, 1.5459, 1.3203, 1.3057, 1.2183, 1.0645, 0.5696, 0.7925, 0.8707, 0.8126, 0.4737, -0.2083, 1.1173, 1.1294, 2.5868, 2.499, 2.3985, 2.2807, 2.2806, 2.2805, 2.2804, 2.2803, 2.2803, 1.9785, 1.9254, 1.8432, 1.8372, 1.8215, 1.8213, 1.8211, 1.8196, 1.8195, 1.7864, 1.7391, 1.733, 1.5529, 1.5395, 1.5221, 1.5044, 1.4331, 1.2613, 1.207, 1.0027, 0.9441, 0.9221, 0.7994, 0.7598, 0.9338, 0.9211, 2.3637, 2.3637, 2.3637, 2.3637, 2.3637, 2.3637, 2.3637, 2.3637, 2.0416, 1.9598, 1.9204, 1.9166, 1.9093, 1.8584, 1.7385, 1.5975, 1.545, 1.5339, 1.4348, 1.3902, 1.2498, 1.1283, 1.0019, 0.9797, 0.8277, 0.8159, 0.7919, 0.7618, 0.6953, 0.6886, 0.653, 0.3594, -0.0116, 0.6359, 0.0284, 0.5865, 0.3428, 0.5234, 0.5942, -0.2246, 0.6623, 2.5956, 2.3713, 2.3713, 2.007, 1.9835, 1.9309, 1.9305, 1.9132, 1.9023, 1.8955, 1.8525, 1.8525, 1.8522, 1.7655, 1.6265, 1.6101, 1.5922, 1.5352, 1.5238, 1.4629, 1.4028, 1.3265, 1.3198, 1.3143, 1.2739, 1.267, 1.2079, 1.1183, 1.0789, 1.0739, 0.7539, 0.3685, -0.6821, 0.045, 0.8334, 0.6091, 0.9546, 0.8304, 0.6563, 0.9916, 2.7194, 2.6305, 2.6255, 2.6255, 2.4057, 2.4057, 2.4053, 2.4052, 1.9661, 1.936, 1.8034, 1.6459, 1.6085, 1.5385, 1.5332, 1.4243, 1.3501, 1.1472, 1.0908, 1.0827, 1.048, 1.0255, 0.9523, 0.9045, 0.8369, 0.7808, 0.6925, 0.0306, 0.0281, -0.0448, -0.5442, 2.4565, 2.4486, 2.4486, 2.4486, 2.4486, 2.4486, 2.4475, 2.4474, 2.4472, 2.4471, 2.3545, 2.1243, 2.0914, 1.9746, 1.9733, 1.9728, 1.9674, 1.9382, 1.6746, 1.5109, 1.4679, 1.4555, 1.3886, 1.3743, 1.3536, 1.3256, 1.2695, 1.1463, 1.0675, 0.9302, 0.1552, 0.8114, 0.664, 0.8681, 0.0606, 0.893, -0.1475, 2.6996, 2.6996, 2.4738, 2.4737, 2.4737, 2.4736, 2.4736, 2.4736, 2.4736, 2.3906, 2.0309, 2.0268, 2.0266, 1.9956, 1.9524, 1.839, 1.7604, 1.7195, 1.7176, 1.4282, 1.3859, 1.3748, 1.3656, 1.2846, 1.2525, 1.1734, 1.1154, 1.1024, 0.9263, 0.9262, -0.586, -0.4736, 0.097, 0.7538, 0.8687, 0.8415, 3.0163, 3.0163, 3.0163, 3.0163, 2.6025, 2.4957, 2.4638, 2.11, 1.933, 1.9052, 1.8466, 1.6867, 1.6729, 1.61, 1.5458, 1.3668, 0.989, 0.8566, 0.4501, 0.3937, 0.2109, 0.2109, 0.2109, 0.059, 0.059, 0.0319, 0.0318, 0.0317, -0.0176, -0.0177, -0.0428, -0.1564, -0.1171, -0.1267, -0.1274, -0.1286, -0.1324, -0.1399, -0.141, -0.1448, -0.863, -0.4402, -0.5565, -1.552, -1.6875, -1.4275, -2.422, -0.8921, 3.1299, 3.0552, 3.0545, 3.0544, 3.0544, 3.0543, 3.054, 3.0538, 2.5637, 2.5286, 2.501, 2.261, 2.1803, 1.6529, 1.5621, 1.553, 0.4806, 0.4242, 0.2415, 0.2415, 0.2415, 0.0896, 0.0896, 0.0625, 0.0623, 0.0623, 0.0023, 0.0023, 0.0023, 0.0023, -0.0185, -0.2099, -0.2107, -0.2113, -0.2132, -0.214, -0.2141, -0.2142, -0.2143, -1.2261, -3.1086, -0.2151, -2.4445, -1.6789, -1.3416, -1.3739, -1.6233, -1.7552, -2.4221, -1.6265, -0.6363, -0.6125, 3.2461, 3.2459, 3.2452, 3.1255, 2.8321, 2.701, 2.7008, 2.608, 2.2863, 2.1021, 1.888, 1.0566, 0.6236, 0.5673, 0.3845, 0.3845, 0.3845, 0.2326, 0.2326, 0.1559, 0.1558, 0.1558, 0.1558, 0.1558, 0.1558, 0.1557, 0.1454, 0.1454, 0.1454, 0.1454, -1.2614, -2.346, -1.0484, -3.0354, -0.8175, -1.4213, -2.3009, -1.2671, -0.5265, -1.261, -1.5871, -0.4641, -0.8051, -0.0533, -0.794, -0.057, -0.8164, -1.6031, 3.3378, 3.3378, 2.8261, 2.8204, 2.7888, 2.4892, 2.2638, 2.2137, 2.0422, 1.8383, 1.8118, 1.3023, 1.0909, 0.6843, 0.628, 0.4452, 0.4452, 0.4452, 0.2662, 0.266, 0.266, 0.2166, 0.2165, 0.2165, 0.2165, 0.2165, 0.2165, 0.2164, 0.2061, 0.2061, 0.0109, 0.0067, 0.0045, 0.0059, 0.0104, 0.0055, 0.0051, 0.0035, 0.0061, -1.1905, -2.2764, -1.9145, -0.9797, -0.4597, -0.7512, -2.9694, -2.235, -1.1952, -1.3557, -1.2017, -1.5218, -0.7405, -2.2797, 3.7148, 3.7148, 3.7148, 2.1159, 2.0052, 1.6554, 1.0021, 0.9095, 0.8531, 0.7794, 0.6392, 0.6326, 0.5863, 0.5695, 0.5661, 0.5184, 0.5184, 0.4814, 0.4686, 0.459, 0.453, 0.4418, 0.4417, 0.4417, 0.4417, 0.4417, 0.4416, 0.4416, 0.4379, 0.4312, 0.4286, 0.4238, 0.4234, 0.3729, 0.3555, 0.1423, 0.0082, -0.1464, 0.1244, 0.0523, -0.1651, -0.9677, -0.4811, -0.1694, -0.6564, 0.0263, -0.2695, -1.6184, -1.7434, -2.3985, -1.1317, -1.0556, -0.9839, 4.1695, 3.468, 3.4159, 1.1814, 0.9422, 0.9422, 0.9422, 0.7903, 0.7903, 0.7632, 0.7631, 0.763, 0.7137, 0.7136, 0.7136, 0.7136, 0.7136, 0.7135, 0.7135, 0.7031, 0.7031, 0.7031, 0.7031, 0.6029, 0.6029, 0.6029, 0.6029, 0.6029, 0.6029, 0.6029, 0.1434, -0.4233, -1.9932, -0.408, 0.1434, -0.1595, -1.1266, -0.7674, -1.7861, -0.7032, -0.9797, 0.4751, -1.7883, 0.0004, -1.7431, 0.4751, -2.4777, -1.1357, -2.3604, 0.0697, -1.1237, -1.1063, -1.0293, 4.281, 2.3322, 1.1801, 0.9973, 0.9973, 0.9973, 0.8454, 0.8454, 0.8183, 0.8182, 0.8182, 0.7688, 0.7687, 0.7687, 0.7687, 0.7687, 0.7686, 0.7686, 0.7582, 0.7582, 0.7582, 0.7582, 0.658, 0.658, 0.658, 0.658, 0.658, 0.658, 0.658, 0.658, 0.1985, -0.3682, -1.9381, -0.3529, 0.1985, -0.1043, -1.0715, -1.731, -0.6481, -0.9246, 0.5302, -1.7332, 0.0555, -1.688, 0.5302, -2.4226, -1.0806, -2.3053, 0.1248, -1.0686, -1.0512, -0.9742, -0.7235, -0.632, 1.3472, 1.2909, 1.1081, 1.1081, 1.1081, 0.9562, 0.9562, 0.9291, 0.9289, 0.9289, 0.8795, 0.8794, 0.8794, 0.8794, 0.8794, 0.8794, 0.8794, 0.869, 0.869, 0.869, 0.869, 0.7947, 0.7937, 0.7907, 0.7852, 0.7834, 0.779, 0.7687, 0.7687, 0.7687, 0.383, 0.1198, -0.074, -0.5992, 0.3364, -0.4908, -0.7156, 0.3303, -1.9296, -0.1918, 0.3251, 0.2927, 0.3441, 0.3215, 0.3196, 0.0259, 0.0539, -0.7679, -0.0512, -0.9096, 0.0579, 0.0266, -0.2261, -0.4822, -0.5652, -1.5614, -0.5615, -0.7369, 1.3568, 1.3004, 1.1176, 1.1176, 1.1176, 0.9657, 0.9657, 0.9386, 0.9384, 0.9384, 0.889, 0.889, 0.889, 0.8889, 0.8889, 0.8889, 0.8889, 0.8785, 0.8785, 0.8785, 0.8785, 0.7783, 0.7783, 0.7783, 0.7783, 0.7783, 0.7782, 0.7782, 0.7782, 0.7782, 0.3188, -0.2479, -1.8179, -0.2326, 0.3188, 0.0159, -0.9513, -0.5921, -1.6107, -0.5279, -0.8043, 0.6505, -1.6129, 0.1758, -1.5678, 0.6505, -2.3023, -0.9603, -2.185, 0.245, -0.9483, -0.9309, -0.8539, -0.6032, -0.5118, -0.3175]}, \"token.table\": {\"Topic\": [4, 14, 1, 3, 7, 8, 11, 5, 6, 2, 4, 6, 7, 8, 11, 15, 3, 12, 3, 4, 1, 2, 5, 1, 4, 2, 2, 3, 5, 8, 5, 10, 5, 2, 2, 1, 8, 7, 3, 2, 1, 2, 7, 9, 10, 1, 3, 4, 1, 4, 6, 7, 8, 9, 1, 2, 11, 3, 14, 1, 2, 8, 4, 1, 10, 3, 4, 5, 10, 12, 15, 3, 4, 2, 5, 2, 6, 1, 2, 8, 11, 1, 2, 5, 1, 5, 2, 5, 3, 10, 5, 2, 2, 5, 6, 8, 11, 15, 2, 12, 6, 3, 8, 3, 3, 2, 6, 1, 2, 8, 3, 1, 3, 7, 1, 2, 5, 6, 7, 9, 1, 7, 8, 14, 4, 14, 1, 6, 10, 11, 13, 4, 5, 9, 15, 13, 2, 3, 7, 9, 2, 14, 2, 5, 4, 7, 10, 15, 9, 1, 2, 8, 9, 11, 10, 1, 2, 13, 5, 10, 15, 2, 7, 12, 8, 13, 2, 6, 8, 11, 1, 5, 2, 7, 5, 3, 14, 1, 4, 7, 10, 7, 2, 12, 1, 1, 2, 4, 7, 8, 9, 1, 4, 6, 8, 1, 1, 5, 11, 1, 1, 2, 4, 7, 8, 9, 11, 12, 2, 2, 5, 3, 4, 12, 9, 1, 2, 7, 8, 10, 15, 8, 2, 4, 6, 10, 2, 5, 6, 11, 1, 5, 11, 14, 13, 1, 2, 15, 1, 10, 1, 11, 13, 2, 2, 5, 2, 1, 4, 6, 1, 8, 14, 1, 2, 8, 1, 1, 13, 1, 6, 8, 9, 10, 11, 8, 11, 3, 4, 8, 15, 7, 11, 1, 6, 8, 11, 2, 1, 6, 10, 4, 13, 2, 1, 3, 4, 1, 5, 1, 3, 11, 13, 6, 8, 9, 3, 11, 2, 13, 1, 1, 8, 14, 1, 2, 11, 7, 15, 1, 8, 9, 2, 4, 1, 5, 7, 8, 10, 3, 6, 1, 6, 7, 8, 10, 11, 15, 1, 3, 3, 6, 3, 1, 7, 11, 3, 10, 1, 5, 4, 15, 3, 1, 2, 3, 9, 2, 3, 9, 1, 4, 6, 7, 9, 11, 4, 6, 4, 10, 13, 2, 3, 4, 6, 8, 9, 10, 8, 3, 1, 5, 1, 3, 12, 7, 1, 2, 5, 2, 3, 4, 5, 7, 10, 12, 1, 2, 5, 7, 9, 12, 2, 10, 7, 2, 10, 11, 3, 4, 10, 4, 9, 5, 2, 1, 4, 8, 1, 4, 8, 9, 3, 13, 1, 2, 5, 12, 12, 9, 2, 7, 4, 1, 6, 7, 14, 5, 6, 10, 5, 1, 6, 1, 1, 2, 8, 10, 10, 15, 1, 5, 1, 11, 2, 3, 11, 12, 7, 2, 1, 4, 2, 13, 5, 6, 1, 10, 1, 7, 11, 3, 14, 1, 7, 10, 1, 1, 2, 3, 7, 9, 4, 1, 2, 3, 4, 5, 6, 9, 10, 11, 12, 13, 4, 6, 1, 3, 4, 5, 4, 3, 4, 13, 6, 2, 11, 2, 5, 6, 12, 1, 8, 12, 4, 6, 8, 12, 10, 1, 2, 3, 8, 9, 7, 1, 4, 1, 2, 3, 4, 7, 9, 10, 11, 4, 1, 7, 11, 6, 5, 4, 6, 2, 6, 10, 1, 4, 5, 7, 8, 2, 7, 1, 2, 8, 10, 11, 11, 11, 9, 3, 2, 5, 1, 2, 8, 11, 9, 11, 13, 10, 2, 9, 1, 3, 4, 5, 7, 2, 5, 12, 1, 5, 10, 3, 4, 12, 2, 3, 1, 10, 9, 7, 8, 2, 3, 4, 7, 8, 13, 14, 1, 11, 1, 4, 9, 12, 1, 1, 5, 1, 4], \"Freq\": [0.7163251428226799, 0.8849918742767162, 0.41893710454727323, 0.13964570151575773, 0.13964570151575773, 0.27929140303151545, 0.7478863781657256, 0.4602335650134549, 0.4602335650134549, 0.1274999749481153, 0.1274999749481153, 0.2549999498962306, 0.1274999749481153, 0.1274999749481153, 0.2549999498962306, 0.1274999749481153, 0.49522277160446776, 0.49522277160446776, 0.45124290915924076, 0.45124290915924076, 0.8261454824290699, 0.32538265868302374, 0.6507653173660475, 0.4328045897709305, 0.4328045897709305, 0.6808041818441507, 0.25976596148956216, 0.25976596148956216, 0.25976596148956216, 0.25976596148956216, 0.4702855933892701, 0.4702855933892701, 0.718582941524705, 0.6785208498592942, 0.598156402443612, 0.44252033057401313, 0.44252033057401313, 0.7481455074340124, 0.8966179899118448, 0.6772575282418588, 0.464720210044915, 0.15490673668163832, 0.15490673668163832, 0.15490673668163832, 0.15490673668163832, 0.6638552451845424, 0.7086809756345677, 0.7164102876258629, 0.18709907066581027, 0.18709907066581027, 0.18709907066581027, 0.18709907066581027, 0.18709907066581027, 0.18709907066581027, 0.20379975176163884, 0.6113992552849166, 0.20379975176163884, 0.40196076193700053, 0.40196076193700053, 0.663551750481353, 0.6443988244961637, 0.32219941224808185, 0.7163228355723682, 0.6638284140995002, 0.7539921702973454, 0.2884533612872976, 0.1923022408581984, 0.1923022408581984, 0.1923022408581984, 0.0961511204290992, 0.0961511204290992, 0.6588409870500901, 0.32942049352504504, 0.3254629943605191, 0.6509259887210382, 0.679926824374879, 0.7282320814992418, 0.3603298318232317, 0.18016491591161585, 0.18016491591161585, 0.3603298318232317, 0.44222207879287784, 0.44222207879287784, 0.14740735959762594, 0.4335752354357532, 0.4335752354357532, 0.636440067799187, 0.3182200338995935, 0.4660290727168852, 0.4660290727168852, 0.7185831587864028, 0.6801460100745838, 0.6806055190739119, 0.20302884571124338, 0.20302884571124338, 0.20302884571124338, 0.40605769142248677, 0.20302884571124338, 0.4796704504865469, 0.4796704504865469, 0.9281978375717779, 0.4619869311987456, 0.4619869311987456, 0.7086811145858821, 0.7086811145858821, 0.6772578646168795, 0.7282675313949013, 0.31856986520085634, 0.31856986520085634, 0.31856986520085634, 0.7086809756345677, 0.3256584628731782, 0.3256584628731782, 0.3256584628731782, 0.41404634701343235, 0.27603089800895486, 0.06900772450223872, 0.06900772450223872, 0.06900772450223872, 0.06900772450223872, 0.2822545734855971, 0.2822545734855971, 0.2822545734855971, 0.2822545734855971, 0.7163044197164649, 0.884965008708851, 0.37882355767223747, 0.18941177883611873, 0.18941177883611873, 0.18941177883611873, 0.18941177883611873, 0.19772266088615742, 0.39544532177231484, 0.19772266088615742, 0.19772266088615742, 0.8422391161889148, 0.3299413250095215, 0.3299413250095215, 0.3299413250095215, 0.7013062448285985, 0.6804691441935199, 0.885124328729178, 0.43958209886160093, 0.43958209886160093, 0.29552534096787275, 0.29552534096787275, 0.29552534096787275, 0.29552534096787275, 0.9524485673872117, 0.159177023357562, 0.318354046715124, 0.159177023357562, 0.318354046715124, 0.159177023357562, 0.7539996271490823, 0.6226470717304141, 0.20754902391013802, 0.20754902391013802, 0.7185831898237989, 0.7785101721068961, 0.38925508605344805, 0.6525133099314809, 0.217504436643827, 0.217504436643827, 0.5152841889744713, 0.5152841889744713, 0.4443590306942592, 0.4443590306942592, 0.47833283026931595, 0.47833283026931595, 0.43357213270619527, 0.43357213270619527, 0.45138200067908113, 0.45138200067908113, 0.7185830967116186, 0.5129480492872712, 0.5129480492872712, 0.8255688866398389, 0.34773488681928194, 0.34773488681928194, 0.34773488681928194, 0.7481454555406407, 0.67345091082938, 0.33672545541469, 0.8260620177624102, 0.3609734109274381, 0.14438936437097524, 0.14438936437097524, 0.07219468218548762, 0.07219468218548762, 0.21658404655646288, 0.6638323578550624, 0.3411053354850856, 0.3411053354850856, 0.3411053354850856, 0.6635518282754076, 0.5041025794674409, 0.25205128973372043, 0.25205128973372043, 0.6638429428766248, 0.380964620181486, 0.138532589156904, 0.138532589156904, 0.069266294578452, 0.034633147289226, 0.17316573644613, 0.034633147289226, 0.034633147289226, 0.683346843000699, 0.32561144897536837, 0.6512228979507367, 0.45124284370515827, 0.45124284370515827, 0.8334867637028417, 0.7435072557909371, 0.23755718492130018, 0.23755718492130018, 0.11877859246065009, 0.23755718492130018, 0.23755718492130018, 0.11877859246065009, 0.7434666606921504, 0.14506477354679134, 0.2901295470935827, 0.2901295470935827, 0.2901295470935827, 0.2629201268495727, 0.2629201268495727, 0.2629201268495727, 0.2629201268495727, 0.22773740680147814, 0.4554748136029563, 0.22773740680147814, 0.22773740680147814, 0.8423350133111954, 0.6635515170992983, 0.6800076018180022, 0.9094525011694273, 0.7369077588405216, 0.2456359196135072, 0.3511662051287714, 0.3511662051287714, 0.3511662051287714, 0.6772576317418296, 0.8119464611263355, 0.20298661528158388, 0.6803729325263662, 0.6638403047200894, 0.4592008008059138, 0.4592008008059138, 0.29972544857270195, 0.29972544857270195, 0.29972544857270195, 0.20415115043121854, 0.6124534512936556, 0.20415115043121854, 0.6635515170992983, 0.6638362709720637, 0.8422482192411028, 0.14620790205351095, 0.2924158041070219, 0.14620790205351095, 0.14620790205351095, 0.14620790205351095, 0.14620790205351095, 0.3525906459061631, 0.7051812918123262, 0.7086810798480484, 0.46509923092532646, 0.46509923092532646, 0.9094525011694273, 0.4802656314351618, 0.4802656314351618, 0.26152439602385097, 0.5230487920477019, 0.26152439602385097, 0.7478861402252651, 0.6789688474638507, 0.6635519060694806, 0.6811312751725327, 0.7539912560602907, 0.3139924978986687, 0.6279849957973374, 0.6772575799918403, 0.319406096413055, 0.319406096413055, 0.319406096413055, 0.43360346138928013, 0.43360346138928013, 0.3754326528186674, 0.1877163264093337, 0.3754326528186674, 0.1877163264093337, 0.3472585457626625, 0.3472585457626625, 0.3472585457626625, 0.46368949325656594, 0.46368949325656594, 0.48423153120786994, 0.48423153120786994, 0.66383962350208, 0.34733568360058414, 0.34733568360058414, 0.17366784180029207, 0.4940042169358053, 0.24700210846790266, 0.24700210846790266, 0.5421102004296725, 0.5421102004296725, 0.44253068325000905, 0.44253068325000905, 0.9530959696398684, 0.43933206360412586, 0.43933206360412586, 0.3786076642212494, 0.25240510948083295, 0.12620255474041647, 0.25240510948083295, 0.12620255474041647, 0.7086810103723912, 0.7283741157243804, 0.15914692386589313, 0.15914692386589313, 0.15914692386589313, 0.15914692386589313, 0.15914692386589313, 0.15914692386589313, 0.15914692386589313, 0.6638017001622669, 0.7086810103723912, 0.37071614481211906, 0.37071614481211906, 0.8966177674908319, 0.5529222647139772, 0.2764611323569886, 0.1382305661784943, 0.5404100101310421, 0.5404100101310421, 0.6635519060694806, 0.7185828484125891, 0.5252417736473692, 0.5252417736473692, 0.7086811145858821, 0.34797287916218084, 0.34797287916218084, 0.17398643958109042, 0.17398643958109042, 0.6772576576168272, 0.6702357951826226, 0.3351178975913113, 0.8260730795788074, 0.38267558940166213, 0.19133779470083107, 0.19133779470083107, 0.19133779470083107, 0.19133779470083107, 0.6708298553608639, 0.33541492768043196, 0.4693461380708025, 0.4693461380708025, 0.842189883389887, 0.6792150191250217, 0.1654617853881669, 0.3309235707763338, 0.1654617853881669, 0.1654617853881669, 0.1654617853881669, 0.1654617853881669, 0.9530367261850352, 0.7086813230129558, 0.6635519060694806, 0.7185830035994624, 0.28224630850864646, 0.28224630850864646, 0.28224630850864646, 0.7481454555406407, 0.31362691505013784, 0.31362691505013784, 0.31362691505013784, 0.22488133946449618, 0.44976267892899235, 0.11244066973224809, 0.056220334866124044, 0.056220334866124044, 0.056220334866124044, 0.056220334866124044, 0.1325293873952102, 0.2650587747904204, 0.1325293873952102, 0.1325293873952102, 0.2650587747904204, 0.1325293873952102, 0.7578647272901624, 0.25262157576338745, 0.7481455074340124, 0.453140674673783, 0.453140674673783, 0.7478862892454954, 0.7086813230129558, 0.46931989667528795, 0.46931989667528795, 0.46527499614501067, 0.46527499614501067, 0.7185830967116186, 0.6799343724793131, 0.4325128375808351, 0.4325128375808351, 0.7434667629096652, 0.42260258958915803, 0.21130129479457901, 0.21130129479457901, 0.21130129479457901, 0.4982667297520497, 0.4982667297520497, 0.38306625438370734, 0.19153312719185367, 0.19153312719185367, 0.19153312719185367, 0.8334869892091201, 0.743507934792502, 0.6834593096787193, 0.7481457669009789, 0.7164353127730324, 0.16102879678919607, 0.32205759357839214, 0.16102879678919607, 0.32205759357839214, 0.46018573194219026, 0.46018573194219026, 0.7539912560602907, 0.6301637748863465, 0.6244969599083795, 0.31224847995418975, 0.6638469344752036, 0.2577547607315493, 0.2577547607315493, 0.2577547607315493, 0.2577547607315493, 0.5451729620012189, 0.5451729620012189, 0.5367862342416946, 0.4025896756812709, 0.6638178055000608, 0.7478867793038215, 0.44103028249085463, 0.22051514124542732, 0.22051514124542732, 0.22051514124542732, 0.7481455593273914, 0.6772575799918403, 0.940743699763259, 0.7160313061963705, 0.6772575799918403, 0.8422095936531985, 0.46014521606443226, 0.46014521606443226, 0.6635515170992983, 0.7539835500582689, 0.5113423731458697, 0.5113423731458697, 0.9603126705751375, 0.5129349851601631, 0.5129349851601631, 0.7349764893307662, 0.2449921631102554, 0.753982432665595, 0.6635515170992983, 0.28046599239992615, 0.14023299619996307, 0.14023299619996307, 0.14023299619996307, 0.28046599239992615, 0.7160313061963705, 0.19471751016162195, 0.15577400812929756, 0.11683050609697317, 0.07788700406464878, 0.11683050609697317, 0.15577400812929756, 0.03894350203232439, 0.07788700406464878, 0.03894350203232439, 0.03894350203232439, 0.03894350203232439, 0.7163807195706637, 0.728433369684261, 0.6635521783488794, 0.7086811840615598, 0.3337737880020177, 0.6675475760040354, 0.7160316504392134, 0.451354779248732, 0.451354779248732, 0.8422629204067723, 0.728148087558147, 0.6772575799918403, 0.7478863991084229, 0.32578878761248853, 0.6515775752249771, 0.5642164703456013, 0.28210823517280065, 0.44237334036888415, 0.44237334036888415, 0.8334871721253997, 0.7160312749015829, 0.47020177150793535, 0.47020177150793535, 0.833486799420494, 0.7539846479853953, 0.5365238060057764, 0.1341309515014441, 0.1341309515014441, 0.1341309515014441, 0.1341309515014441, 0.7481456631141706, 0.43262793637666996, 0.43262793637666996, 0.4149523961734942, 0.13831746539116474, 0.06915873269558237, 0.06915873269558237, 0.13831746539116474, 0.06915873269558237, 0.06915873269558237, 0.06915873269558237, 0.7163928794785721, 0.7511695438991747, 0.15023390877983495, 0.15023390877983495, 0.7284522384875695, 0.7185831587864028, 0.45922365331210896, 0.45922365331210896, 0.6772575282418588, 0.3517939747779552, 0.7035879495559104, 0.1978574216822269, 0.09892871084111345, 0.1978574216822269, 0.3957148433644538, 0.09892871084111345, 0.6772619270185145, 0.7481457669009789, 0.13373433554083916, 0.4012030066225175, 0.13373433554083916, 0.2674686710816783, 0.13373433554083916, 0.7478869055412076, 0.9603129127027745, 0.7435052518970253, 0.7086810103723912, 0.8514167486305507, 0.7185828484125891, 0.24810611015546882, 0.49621222031093765, 0.24810611015546882, 0.7478870352115563, 0.4783462762719796, 0.4783462762719796, 0.842253398020762, 0.7539912560602907, 0.8468988543626615, 0.7435054077792232, 0.4094556314460808, 0.2729704209640539, 0.13648521048202694, 0.13648521048202694, 0.13648521048202694, 0.40847050039493377, 0.40847050039493377, 0.20423525019746688, 0.6158193736973483, 0.20527312456578276, 0.20527312456578276, 0.5487423104906306, 0.2743711552453153, 0.2743711552453153, 0.6772579163669122, 0.7086813230129558, 0.6635514782023051, 0.7539820919677073, 0.9524489503838931, 0.4784389175070088, 0.4784389175070088, 0.2974538671927322, 0.19830257812848814, 0.09915128906424407, 0.09915128906424407, 0.09915128906424407, 0.19830257812848814, 0.09915128906424407, 0.44407844932192647, 0.44407844932192647, 0.47957303252429057, 0.15985767750809685, 0.3197153550161937, 0.15985767750809685, 0.6635515170992983, 0.43355435984014756, 0.43355435984014756, 0.8258020239583572, 0.7163843873613506], \"Term\": [\"able\", \"access\", \"account\", \"account\", \"account\", \"account\", \"acknowledge\", \"actual\", \"actual\", \"actually\", \"actually\", \"actually\", \"actually\", \"actually\", \"actually\", \"actually\", \"add\", \"add\", \"additional\", \"additional\", \"advise\", \"agent\", \"agent\", \"ago\", \"ago\", \"along\", \"also\", \"also\", \"also\", \"also\", \"always\", \"always\", \"amazon\", \"amount\", \"answer\", \"anyway\", \"anyway\", \"apart\", \"app\", \"application\", \"apply\", \"apply\", \"apply\", \"apply\", \"apply\", \"applying\", \"area\", \"arise\", \"arm\", \"arm\", \"arm\", \"arm\", \"arm\", \"arm\", \"ask\", \"ask\", \"ask\", \"authentication\", \"authentication\", \"automate\", \"available\", \"available\", \"aware\", \"back\", \"basis\", \"bill\", \"bill\", \"bill\", \"bill\", \"bill\", \"bill\", \"bit\", \"bit\", \"bot\", \"bot\", \"bubble\", \"bundle\", \"call\", \"call\", \"call\", \"call\", \"care\", \"care\", \"care\", \"certain\", \"certain\", \"chat\", \"chat\", \"check\", \"check\", \"choose\", \"clearly\", \"close\", \"come\", \"come\", \"come\", \"come\", \"come\", \"confirmation\", \"confirmation\", \"connect\", \"continue\", \"continue\", \"convert\", \"copy\", \"correctly\", \"course\", \"create\", \"create\", \"create\", \"cred\", \"credential\", \"credential\", \"credential\", \"customer\", \"customer\", \"customer\", \"customer\", \"customer\", \"customer\", \"d\", \"d\", \"d\", \"d\", \"data\", \"datum\", \"day\", \"day\", \"day\", \"day\", \"day\", \"definitely\", \"definitely\", \"definitely\", \"definitely\", \"desirable\", \"different\", \"different\", \"different\", \"download\", \"drop\", \"ease\", \"easily\", \"easily\", \"easy\", \"easy\", \"easy\", \"easy\", \"electricity\", \"email\", \"email\", \"email\", \"email\", \"email\", \"encounter\", \"end\", \"end\", \"end\", \"entity\", \"estimate\", \"estimate\", \"even\", \"even\", \"even\", \"eventually\", \"eventually\", \"example\", \"example\", \"expect\", \"expect\", \"experience\", \"experience\", \"explain\", \"explain\", \"facility\", \"factor\", \"factor\", \"fail\", \"far\", \"far\", \"far\", \"fault\", \"fee\", \"fee\", \"figure\", \"fill\", \"fill\", \"fill\", \"fill\", \"fill\", \"fill\", \"filling\", \"find\", \"find\", \"find\", \"fine\", \"first\", \"first\", \"first\", \"follow\", \"form\", \"form\", \"form\", \"form\", \"form\", \"form\", \"form\", \"form\", \"frustrated\", \"function\", \"function\", \"fund\", \"fund\", \"gateway\", \"generally\", \"get\", \"get\", \"get\", \"get\", \"get\", \"get\", \"give\", \"go\", \"go\", \"go\", \"go\", \"good\", \"good\", \"good\", \"good\", \"government\", \"government\", \"government\", \"government\", \"governmental\", \"guess\", \"guide\", \"guy\", \"half\", \"half\", \"happen\", \"happen\", \"happen\", \"hear\", \"help\", \"help\", \"hesitation\", \"honest\", \"house\", \"house\", \"i\", \"i\", \"i\", \"ideally\", \"ideally\", \"ideally\", \"identify\", \"immediately\", \"inaubible\", \"inaudible\", \"inaudible\", \"inaudible\", \"inaudible\", \"inaudible\", \"inaudible\", \"inform\", \"inform\", \"information\", \"initially\", \"initially\", \"input\", \"instal\", \"instal\", \"install\", \"install\", \"install\", \"installation\", \"instantly\", \"interact\", \"internet\", \"interruption\", \"issue\", \"issue\", \"keep\", \"kind\", \"kind\", \"kind\", \"kinda\", \"kinda\", \"know\", \"know\", \"know\", \"know\", \"knowledge\", \"knowledge\", \"knowledge\", \"least\", \"least\", \"leave\", \"leave\", \"let\", \"login\", \"login\", \"login\", \"long\", \"long\", \"long\", \"make\", \"make\", \"manage\", \"manage\", \"manually\", \"maybe\", \"maybe\", \"mean\", \"mean\", \"mean\", \"mean\", \"mean\", \"meantime\", \"melita\", \"meter\", \"meter\", \"meter\", \"meter\", \"meter\", \"meter\", \"meter\", \"minute\", \"misconstrue\", \"mobile\", \"mobile\", \"money\", \"month\", \"month\", \"month\", \"monthly\", \"monthly\", \"mostly\", \"move\", \"much\", \"much\", \"native\", \"need\", \"need\", \"need\", \"need\", \"never\", \"new\", \"new\", \"number\", \"obviously\", \"obviously\", \"obviously\", \"obviously\", \"obviously\", \"offer\", \"offer\", \"office\", \"office\", \"often\", \"one\", \"online\", \"online\", \"online\", \"online\", \"online\", \"online\", \"open\", \"option\", \"other\", \"overall\", \"part\", \"part\", \"part\", \"partly\", \"pause\", \"pause\", \"pause\", \"pay\", \"pay\", \"pay\", \"pay\", \"pay\", \"pay\", \"pay\", \"payment\", \"payment\", \"payment\", \"payment\", \"payment\", \"payment\", \"people\", \"people\", \"perspective\", \"phone\", \"phone\", \"phonecall\", \"physical\", \"physically\", \"physically\", \"picture\", \"picture\", \"point\", \"pop\", \"portal\", \"portal\", \"pretty\", \"print\", \"print\", \"print\", \"print\", \"problem\", \"problem\", \"process\", \"process\", \"process\", \"process\", \"processing\", \"proof\", \"proper\", \"properly\", \"protection\", \"provide\", \"provide\", \"provide\", \"provide\", \"provider\", \"provider\", \"put\", \"question\", \"quite\", \"quite\", \"rather\", \"reach\", \"reach\", \"reach\", \"reach\", \"reading\", \"reading\", \"really\", \"really\", \"reapply\", \"receipt\", \"receive\", \"receive\", \"receive\", \"receive\", \"remember\", \"reminder\", \"reply\", \"require\", \"required\", \"resolve\", \"respect\", \"respect\", \"right\", \"rocket\", \"roughly\", \"roughly\", \"round\", \"safeguard\", \"safeguard\", \"say\", \"say\", \"science\", \"second\", \"send\", \"send\", \"send\", \"send\", \"send\", \"separate\", \"service\", \"service\", \"service\", \"service\", \"service\", \"service\", \"service\", \"service\", \"service\", \"service\", \"service\", \"sign\", \"similar\", \"slightly\", \"slow\", \"smooth\", \"smooth\", \"smoother\", \"solution\", \"solution\", \"sometimes\", \"sort\", \"spamme\", \"specify\", \"start\", \"start\", \"still\", \"still\", \"straightforward\", \"straightforward\", \"stretch\", \"stupid\", \"submeter\", \"submeter\", \"successfully\", \"suggest\", \"support\", \"support\", \"support\", \"support\", \"support\", \"suppose\", \"sure\", \"sure\", \"take\", \"take\", \"take\", \"take\", \"take\", \"take\", \"take\", \"take\", \"telephone\", \"tell\", \"tell\", \"tell\", \"temporarily\", \"tend\", \"term\", \"term\", \"thank\", \"thing\", \"thing\", \"think\", \"think\", \"think\", \"think\", \"think\", \"third\", \"thoroughly\", \"time\", \"time\", \"time\", \"time\", \"time\", \"timeframe\", \"today\", \"together\", \"top\", \"touchpoint\", \"trigger\", \"try\", \"try\", \"try\", \"twice\", \"uhm\", \"uhm\", \"unfortunately\", \"upcoming\", \"update\", \"upload\", \"use\", \"use\", \"use\", \"use\", \"use\", \"user\", \"user\", \"user\", \"usually\", \"usually\", \"usually\", \"utility\", \"utility\", \"utility\", \"verify\", \"viable\", \"wait\", \"want\", \"water\", \"way\", \"way\", \"website\", \"website\", \"website\", \"website\", \"website\", \"website\", \"website\", \"week\", \"week\", \"well\", \"well\", \"well\", \"well\", \"whole\", \"work\", \"work\", \"wrong\", \"year\"]}, \"R\": 30, \"lambda.step\": 0.01, \"plot.opts\": {\"xlab\": \"PC1\", \"ylab\": \"PC2\"}, \"topic.order\": [16, 6, 14, 19, 17, 18, 3, 11, 13, 12, 4, 15, 1, 8, 9, 5, 20, 7, 10, 2]};\n",
       "\n",
       "function LDAvis_load_lib(url, callback){\n",
       "  var s = document.createElement('script');\n",
       "  s.src = url;\n",
       "  s.async = true;\n",
       "  s.onreadystatechange = s.onload = callback;\n",
       "  s.onerror = function(){console.warn(\"failed to load library \" + url);};\n",
       "  document.getElementsByTagName(\"head\")[0].appendChild(s);\n",
       "}\n",
       "\n",
       "if(typeof(LDAvis) !== \"undefined\"){\n",
       "   // already loaded: just create the visualization\n",
       "   !function(LDAvis){\n",
       "       new LDAvis(\"#\" + \"ldavis_el453831406881104554887106973743\", ldavis_el453831406881104554887106973743_data);\n",
       "   }(LDAvis);\n",
       "}else if(typeof define === \"function\" && define.amd){\n",
       "   // require.js is available: use it to load d3/LDAvis\n",
       "   require.config({paths: {d3: \"https://d3js.org/d3.v5\"}});\n",
       "   require([\"d3\"], function(d3){\n",
       "      window.d3 = d3;\n",
       "      LDAvis_load_lib(\"https://cdn.jsdelivr.net/gh/bmabey/pyLDAvis/pyLDAvis/js/ldavis.v3.0.0.js\", function(){\n",
       "        new LDAvis(\"#\" + \"ldavis_el453831406881104554887106973743\", ldavis_el453831406881104554887106973743_data);\n",
       "      });\n",
       "    });\n",
       "}else{\n",
       "    // require.js not available: dynamically load d3 & LDAvis\n",
       "    LDAvis_load_lib(\"https://d3js.org/d3.v5.js\", function(){\n",
       "         LDAvis_load_lib(\"https://cdn.jsdelivr.net/gh/bmabey/pyLDAvis/pyLDAvis/js/ldavis.v3.0.0.js\", function(){\n",
       "                 new LDAvis(\"#\" + \"ldavis_el453831406881104554887106973743\", ldavis_el453831406881104554887106973743_data);\n",
       "            })\n",
       "         });\n",
       "}\n",
       "</script>"
      ],
      "text/plain": [
       "PreparedData(topic_coordinates=              x         y  topics  cluster       Freq\n",
       "topic                                                \n",
       "15     0.119833  0.228038       1        1  20.985929\n",
       "5      0.016105 -0.258835       2        1  13.400898\n",
       "13    -0.289944 -0.063265       3        1   8.215471\n",
       "18    -0.086016  0.226029       4        1   7.250024\n",
       "16     0.162610 -0.221711       5        1   7.139415\n",
       "17     0.270229 -0.079063       6        1   6.109071\n",
       "2      0.031242  0.219981       7        1   5.506063\n",
       "10    -0.076411 -0.210046       8        1   5.491281\n",
       "12    -0.185860  0.198798       9        1   5.297873\n",
       "11     0.194515  0.114833      10        1   5.026591\n",
       "3      0.220369  0.021654      11        1   4.931694\n",
       "14    -0.104685  0.090237      12        1   2.607198\n",
       "0     -0.160680 -0.132714      13        1   2.474900\n",
       "7     -0.179988 -0.011678      14        1   1.942935\n",
       "8      0.105767 -0.060465      15        1   1.722861\n",
       "4     -0.047437 -0.018327      16        1   0.955979\n",
       "19     0.006614 -0.033834      17        1   0.402836\n",
       "6     -0.004933  0.001879      18        1   0.297008\n",
       "9      0.004807 -0.005683      19        1   0.122102\n",
       "1      0.003864 -0.005828      20        1   0.119870, topic_info=        Term       Freq      Total Category  logprob  loglift\n",
       "2        pay  17.000000  17.000000  Default  30.0000  30.0000\n",
       "20      form  28.000000  28.000000  Default  29.0000  29.0000\n",
       "166  website  10.000000  10.000000  Default  28.0000  28.0000\n",
       "11   process   5.000000   5.000000  Default  27.0000  27.0000\n",
       "71   provide   6.000000   6.000000  Default  26.0000  26.0000\n",
       "..       ...        ...        ...      ...      ...      ...\n",
       "25       use   0.003462   7.326801  Topic20  -5.7462  -0.9309\n",
       "26      care   0.003462   6.783922  Topic20  -5.7462  -0.8539\n",
       "27       day   0.003462   5.279503  Topic20  -5.7462  -0.6032\n",
       "28       end   0.003462   4.818139  Topic20  -5.7462  -0.5118\n",
       "29     first   0.003462   3.967446  Topic20  -5.7462  -0.3175\n",
       "\n",
       "[959 rows x 6 columns], token_table=      Topic      Freq     Term\n",
       "term                          \n",
       "285       4  0.716325     able\n",
       "193      14  0.884992   access\n",
       "110       1  0.418937  account\n",
       "110       3  0.139646  account\n",
       "110       7  0.139646  account\n",
       "...     ...       ...      ...\n",
       "41        1  0.663552    whole\n",
       "80        1  0.433554     work\n",
       "80        5  0.433554     work\n",
       "42        1  0.825802    wrong\n",
       "296       4  0.716384     year\n",
       "\n",
       "[603 rows x 3 columns], R=30, lambda_step=0.01, plot_opts={'xlab': 'PC1', 'ylab': 'PC2'}, topic_order=[16, 6, 14, 19, 17, 18, 3, 11, 13, 12, 4, 15, 1, 8, 9, 5, 20, 7, 10, 2])"
      ]
     },
     "execution_count": 67,
     "metadata": {},
     "output_type": "execute_result"
    }
   ],
   "source": [
    "# Visualize the topics\n",
    "pyLDAvis.enable_notebook()\n",
    "vis = pyLDAvis.gensim.prepare(lda_model, corpus, dictionary=lda_model.id2word, mds='mmds')   \n",
    "vis"
   ]
  },
  {
   "cell_type": "code",
   "execution_count": 68,
   "id": "8b57b801",
   "metadata": {},
   "outputs": [],
   "source": [
    "pyLDAvis.save_html(vis, 'PPT01.html')"
   ]
  },
  {
   "cell_type": "markdown",
   "id": "29275130",
   "metadata": {},
   "source": [
    "# PPT02"
   ]
  },
  {
   "cell_type": "code",
   "execution_count": 35,
   "id": "84a46d22",
   "metadata": {},
   "outputs": [],
   "source": [
    "all = pd.read_csv('User Needs Assessments Data.csv')\n",
    "PPT02 = all.loc[(all['Person'] == 'PPT02') & (all['Person'] != 'Interviewer')]"
   ]
  },
  {
   "cell_type": "code",
   "execution_count": 36,
   "id": "8eed8650",
   "metadata": {},
   "outputs": [
    {
     "name": "stdout",
     "output_type": "stream",
     "text": [
      "[['to', 'pay', 'my', 'bills', 'and', 'to', 'get', 'an', 'estimate', 'of', 'my', 'upcoming', 'bills', 'so', 'that', 'can', 'put', 'in', 'the', 'inaudible', 'meter', 'readings', 'and', 'get', 'an', 'estimate', 'of', 'my', 'monthly', 'bills', 'that', 'and', 'to', 'check', 'whether', 'there', 'are', 'any', 'interruptions', 'in', 'the', 'services']]\n"
     ]
    }
   ],
   "source": [
    "#tokenize words and clean text\n",
    "def sent_to_words(sentences):\n",
    "    for sentence in sentences:\n",
    "        yield(gensim.utils.simple_preprocess(str(sentence), deacc=True))  # deacc=True removes punctuations\n",
    "\n",
    "data_words = list(sent_to_words(PPT02['Question/Answer']))\n",
    "\n",
    "print(data_words[:1])"
   ]
  },
  {
   "cell_type": "code",
   "execution_count": 37,
   "id": "cd2ebd9a",
   "metadata": {},
   "outputs": [
    {
     "name": "stdout",
     "output_type": "stream",
     "text": [
      "['to', 'pay', 'my', 'bills', 'and', 'to', 'get', 'an', 'estimate', 'of', 'my', 'upcoming', 'bills', 'so', 'that', 'can', 'put', 'in', 'the', 'inaudible', 'meter', 'readings', 'and', 'get', 'an', 'estimate', 'of', 'my', 'monthly', 'bills', 'that', 'and', 'to', 'check', 'whether', 'there', 'are', 'any', 'interruptions', 'in', 'the', 'services']\n"
     ]
    }
   ],
   "source": [
    "# Build the bigram and trigram models\n",
    "bigram = gensim.models.Phrases(data_words, min_count=5, threshold=100) # higher threshold fewer phrases.\n",
    "trigram = gensim.models.Phrases(bigram[data_words], threshold=100)  \n",
    "\n",
    "# Faster way to get a sentence clubbed as a trigram/bigram\n",
    "bigram_mod = gensim.models.phrases.Phraser(bigram)\n",
    "trigram_mod = gensim.models.phrases.Phraser(trigram)\n",
    "\n",
    "# See trigram example\n",
    "print(trigram_mod[bigram_mod[data_words[0]]])"
   ]
  },
  {
   "cell_type": "code",
   "execution_count": 38,
   "id": "1faec4f1",
   "metadata": {},
   "outputs": [],
   "source": [
    "# Define functions for stopwords, bigrams, trigrams and lemmatization\n",
    "def remove_stopwords(texts):\n",
    "    return [[word for word in simple_preprocess(str(doc)) if word not in stop_words] for doc in texts]\n",
    "\n",
    "def make_bigrams(texts):\n",
    "    return [bigram_mod[doc] for doc in texts]\n",
    "\n",
    "def make_trigrams(texts):\n",
    "    return [trigram_mod[bigram_mod[doc]] for doc in texts]\n",
    "\n",
    "def lemmatization(texts, allowed_postags=['NOUN', 'ADJ', 'VERB', 'ADV']):\n",
    "    \"\"\"https://spacy.io/api/annotation\"\"\"\n",
    "    texts_out = []\n",
    "    for sent in texts:\n",
    "        doc = nlp(\" \".join(sent)) \n",
    "        texts_out.append([token.lemma_ for token in doc if token.pos_ in allowed_postags])\n",
    "    return texts_out"
   ]
  },
  {
   "cell_type": "code",
   "execution_count": 39,
   "id": "72b36d83",
   "metadata": {},
   "outputs": [
    {
     "name": "stdout",
     "output_type": "stream",
     "text": [
      "[['pay', 'bill', 'get', 'estimate', 'upcoming', 'bill', 'put', 'inaudible', 'meter', 'reading', 'get', 'estimate', 'monthly', 'bill', 'check', 'interruption', 'service']]\n"
     ]
    }
   ],
   "source": [
    "# Remove Stop Words\n",
    "data_words_nostops = remove_stopwords(data_words)\n",
    "\n",
    "# Form Bigrams\n",
    "data_words_bigrams = make_bigrams(data_words_nostops)\n",
    "\n",
    "# Initialize spacy 'en' model, keeping only tagger component (for efficiency)\n",
    "# python3 -m spacy download en\n",
    "nlp = spacy.load('en_core_web_sm', disable=['parser', 'ner'])\n",
    "\n",
    "# Do lemmatization keeping only noun, adj, vb, adv\n",
    "data_lemmatized = lemmatization(data_words_bigrams, allowed_postags=['NOUN', 'ADJ', 'VERB', 'ADV'])\n",
    "\n",
    "print(data_lemmatized[:1])"
   ]
  },
  {
   "cell_type": "code",
   "execution_count": 40,
   "id": "359fd829",
   "metadata": {},
   "outputs": [
    {
     "name": "stdout",
     "output_type": "stream",
     "text": [
      "[[(0, 3), (1, 1), (2, 2), (3, 2), (4, 1), (5, 1), (6, 1), (7, 1), (8, 1), (9, 1), (10, 1), (11, 1), (12, 1)]]\n"
     ]
    }
   ],
   "source": [
    "# Create Dictionary\n",
    "id2word = corpora.Dictionary(data_lemmatized)\n",
    "\n",
    "# Create Corpus\n",
    "texts = data_lemmatized\n",
    "\n",
    "# Term Document Frequency\n",
    "corpus = [id2word.doc2bow(text) for text in texts]\n",
    "\n",
    "# View\n",
    "print(corpus[:1])"
   ]
  },
  {
   "cell_type": "code",
   "execution_count": 41,
   "id": "f335d6c8",
   "metadata": {},
   "outputs": [
    {
     "data": {
      "text/plain": [
       "'bill'"
      ]
     },
     "execution_count": 41,
     "metadata": {},
     "output_type": "execute_result"
    }
   ],
   "source": [
    "id2word[0]"
   ]
  },
  {
   "cell_type": "code",
   "execution_count": null,
   "id": "eb9514b9",
   "metadata": {},
   "outputs": [],
   "source": []
  }
 ],
 "metadata": {
  "kernelspec": {
   "display_name": "Python 3",
   "language": "python",
   "name": "python3"
  },
  "language_info": {
   "codemirror_mode": {
    "name": "ipython",
    "version": 3
   },
   "file_extension": ".py",
   "mimetype": "text/x-python",
   "name": "python",
   "nbconvert_exporter": "python",
   "pygments_lexer": "ipython3",
   "version": "3.8.8"
  }
 },
 "nbformat": 4,
 "nbformat_minor": 5
}

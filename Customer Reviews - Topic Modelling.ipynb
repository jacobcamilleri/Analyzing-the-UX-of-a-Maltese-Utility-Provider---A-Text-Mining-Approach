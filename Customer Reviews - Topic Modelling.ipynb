{
 "cells": [
  {
   "cell_type": "code",
   "execution_count": 1,
   "id": "bb059314",
   "metadata": {},
   "outputs": [
    {
     "name": "stderr",
     "output_type": "stream",
     "text": [
      "[nltk_data] Downloading package stopwords to /Users/Owner/nltk_data...\n",
      "[nltk_data]   Package stopwords is already up-to-date!\n"
     ]
    },
    {
     "data": {
      "text/plain": [
       "True"
      ]
     },
     "execution_count": 1,
     "metadata": {},
     "output_type": "execute_result"
    }
   ],
   "source": [
    "import nltk; nltk.download('stopwords')"
   ]
  },
  {
   "cell_type": "code",
   "execution_count": 2,
   "id": "0b5340c4",
   "metadata": {},
   "outputs": [
    {
     "name": "stdout",
     "output_type": "stream",
     "text": [
      "Requirement already satisfied: gensim in /Users/Owner/anaconda3/lib/python3.8/site-packages (4.1.2)\n",
      "Requirement already satisfied: smart-open>=1.8.1 in /Users/Owner/anaconda3/lib/python3.8/site-packages (from gensim) (5.2.1)\n",
      "Requirement already satisfied: numpy>=1.17.0 in /Users/Owner/anaconda3/lib/python3.8/site-packages (from gensim) (1.20.1)\n",
      "Requirement already satisfied: scipy>=0.18.1 in /Users/Owner/anaconda3/lib/python3.8/site-packages (from gensim) (1.6.2)\n",
      "Requirement already satisfied: spacy in /Users/Owner/anaconda3/lib/python3.8/site-packages (3.2.0)\n",
      "Requirement already satisfied: pathy>=0.3.5 in /Users/Owner/anaconda3/lib/python3.8/site-packages (from spacy) (0.6.0)\n",
      "Requirement already satisfied: numpy>=1.15.0 in /Users/Owner/anaconda3/lib/python3.8/site-packages (from spacy) (1.20.1)\n",
      "Requirement already satisfied: tqdm<5.0.0,>=4.38.0 in /Users/Owner/anaconda3/lib/python3.8/site-packages (from spacy) (4.59.0)\n",
      "Requirement already satisfied: langcodes<4.0.0,>=3.2.0 in /Users/Owner/anaconda3/lib/python3.8/site-packages (from spacy) (3.2.1)\n",
      "Requirement already satisfied: catalogue<2.1.0,>=2.0.6 in /Users/Owner/anaconda3/lib/python3.8/site-packages (from spacy) (2.0.6)\n",
      "Requirement already satisfied: murmurhash<1.1.0,>=0.28.0 in /Users/Owner/anaconda3/lib/python3.8/site-packages (from spacy) (1.0.5)\n",
      "Requirement already satisfied: typer<0.5.0,>=0.3.0 in /Users/Owner/anaconda3/lib/python3.8/site-packages (from spacy) (0.4.0)\n",
      "Requirement already satisfied: requests<3.0.0,>=2.13.0 in /Users/Owner/anaconda3/lib/python3.8/site-packages (from spacy) (2.25.1)\n",
      "Requirement already satisfied: preshed<3.1.0,>=3.0.2 in /Users/Owner/anaconda3/lib/python3.8/site-packages (from spacy) (3.0.5)\n",
      "Requirement already satisfied: setuptools in /Users/Owner/anaconda3/lib/python3.8/site-packages (from spacy) (59.1.1)\n",
      "Requirement already satisfied: spacy-legacy<3.1.0,>=3.0.8 in /Users/Owner/anaconda3/lib/python3.8/site-packages (from spacy) (3.0.8)\n",
      "Requirement already satisfied: pydantic!=1.8,!=1.8.1,<1.9.0,>=1.7.4 in /Users/Owner/anaconda3/lib/python3.8/site-packages (from spacy) (1.8.2)\n",
      "Requirement already satisfied: cymem<2.1.0,>=2.0.2 in /Users/Owner/anaconda3/lib/python3.8/site-packages (from spacy) (2.0.5)\n",
      "Requirement already satisfied: blis<0.8.0,>=0.4.0 in /Users/Owner/anaconda3/lib/python3.8/site-packages (from spacy) (0.7.4)\n",
      "Requirement already satisfied: packaging>=20.0 in /Users/Owner/anaconda3/lib/python3.8/site-packages (from spacy) (20.9)\n",
      "Requirement already satisfied: wasabi<1.1.0,>=0.8.1 in /Users/Owner/anaconda3/lib/python3.8/site-packages (from spacy) (0.8.2)\n",
      "Requirement already satisfied: thinc<8.1.0,>=8.0.12 in /Users/Owner/anaconda3/lib/python3.8/site-packages (from spacy) (8.0.13)\n",
      "Requirement already satisfied: srsly<3.0.0,>=2.4.1 in /Users/Owner/anaconda3/lib/python3.8/site-packages (from spacy) (2.4.1)\n",
      "Requirement already satisfied: jinja2 in /Users/Owner/anaconda3/lib/python3.8/site-packages (from spacy) (2.11.3)\n",
      "Requirement already satisfied: spacy-loggers<2.0.0,>=1.0.0 in /Users/Owner/anaconda3/lib/python3.8/site-packages (from spacy) (1.0.1)\n",
      "Requirement already satisfied: pyparsing>=2.0.2 in /Users/Owner/anaconda3/lib/python3.8/site-packages (from packaging>=20.0->spacy) (2.4.7)\n",
      "Requirement already satisfied: smart-open<6.0.0,>=5.0.0 in /Users/Owner/anaconda3/lib/python3.8/site-packages (from pathy>=0.3.5->spacy) (5.2.1)\n",
      "Requirement already satisfied: typing-extensions>=3.7.4.3 in /Users/Owner/anaconda3/lib/python3.8/site-packages (from pydantic!=1.8,!=1.8.1,<1.9.0,>=1.7.4->spacy) (3.7.4.3)\n",
      "Requirement already satisfied: urllib3<1.27,>=1.21.1 in /Users/Owner/anaconda3/lib/python3.8/site-packages (from requests<3.0.0,>=2.13.0->spacy) (1.26.4)\n",
      "Requirement already satisfied: chardet<5,>=3.0.2 in /Users/Owner/anaconda3/lib/python3.8/site-packages (from requests<3.0.0,>=2.13.0->spacy) (4.0.0)\n",
      "Requirement already satisfied: idna<3,>=2.5 in /Users/Owner/anaconda3/lib/python3.8/site-packages (from requests<3.0.0,>=2.13.0->spacy) (2.10)\n",
      "Requirement already satisfied: certifi>=2017.4.17 in /Users/Owner/anaconda3/lib/python3.8/site-packages (from requests<3.0.0,>=2.13.0->spacy) (2020.12.5)\n",
      "Requirement already satisfied: click<9.0.0,>=7.1.1 in /Users/Owner/anaconda3/lib/python3.8/site-packages (from typer<0.5.0,>=0.3.0->spacy) (7.1.2)\n",
      "Requirement already satisfied: MarkupSafe>=0.23 in /Users/Owner/anaconda3/lib/python3.8/site-packages (from jinja2->spacy) (1.1.1)\n",
      "Requirement already satisfied: pip in /Users/Owner/anaconda3/lib/python3.8/site-packages (21.3.1)\n",
      "Requirement already satisfied: setuptools in /Users/Owner/anaconda3/lib/python3.8/site-packages (59.1.1)\n",
      "Requirement already satisfied: wheel in /Users/Owner/anaconda3/lib/python3.8/site-packages (0.37.0)\n",
      "Requirement already satisfied: pyldavis in /Users/Owner/anaconda3/lib/python3.8/site-packages (3.2.1)\n",
      "Requirement already satisfied: scipy>=0.18.0 in /Users/Owner/anaconda3/lib/python3.8/site-packages (from pyldavis) (1.6.2)\n",
      "Requirement already satisfied: numpy>=1.9.2 in /Users/Owner/anaconda3/lib/python3.8/site-packages (from pyldavis) (1.20.1)\n",
      "Requirement already satisfied: funcy in /Users/Owner/anaconda3/lib/python3.8/site-packages (from pyldavis) (1.16)\n",
      "Requirement already satisfied: wheel>=0.23.0 in /Users/Owner/anaconda3/lib/python3.8/site-packages (from pyldavis) (0.37.0)\n",
      "Requirement already satisfied: pandas>=0.17.0 in /Users/Owner/anaconda3/lib/python3.8/site-packages (from pyldavis) (1.2.4)\n",
      "Requirement already satisfied: jinja2>=2.7.2 in /Users/Owner/anaconda3/lib/python3.8/site-packages (from pyldavis) (2.11.3)\n",
      "Requirement already satisfied: joblib>=0.8.4 in /Users/Owner/anaconda3/lib/python3.8/site-packages (from pyldavis) (1.0.1)\n",
      "Requirement already satisfied: numexpr in /Users/Owner/anaconda3/lib/python3.8/site-packages (from pyldavis) (2.7.3)\n",
      "Requirement already satisfied: future in /Users/Owner/anaconda3/lib/python3.8/site-packages (from pyldavis) (0.18.2)\n",
      "Requirement already satisfied: MarkupSafe>=0.23 in /Users/Owner/anaconda3/lib/python3.8/site-packages (from jinja2>=2.7.2->pyldavis) (1.1.1)\n",
      "Requirement already satisfied: python-dateutil>=2.7.3 in /Users/Owner/anaconda3/lib/python3.8/site-packages (from pandas>=0.17.0->pyldavis) (2.8.1)\n",
      "Requirement already satisfied: pytz>=2017.3 in /Users/Owner/anaconda3/lib/python3.8/site-packages (from pandas>=0.17.0->pyldavis) (2021.1)\n",
      "Requirement already satisfied: six>=1.5 in /Users/Owner/anaconda3/lib/python3.8/site-packages (from python-dateutil>=2.7.3->pandas>=0.17.0->pyldavis) (1.15.0)\n"
     ]
    }
   ],
   "source": [
    "!pip install --upgrade gensim\n",
    "!pip install -U spacy\n",
    "!pip install -U pip setuptools wheel\n",
    "!pip install pyldavis"
   ]
  },
  {
   "cell_type": "code",
   "execution_count": 3,
   "id": "60a8bd9d",
   "metadata": {},
   "outputs": [
    {
     "name": "stdout",
     "output_type": "stream",
     "text": [
      "Collecting en-core-web-sm==3.2.0\n",
      "  Downloading https://github.com/explosion/spacy-models/releases/download/en_core_web_sm-3.2.0/en_core_web_sm-3.2.0-py3-none-any.whl (13.9 MB)\n",
      "     |████████████████████████████████| 13.9 MB 6.1 MB/s            \n",
      "\u001b[?25hRequirement already satisfied: spacy<3.3.0,>=3.2.0 in /Users/Owner/anaconda3/lib/python3.8/site-packages (from en-core-web-sm==3.2.0) (3.2.0)\n",
      "Requirement already satisfied: jinja2 in /Users/Owner/anaconda3/lib/python3.8/site-packages (from spacy<3.3.0,>=3.2.0->en-core-web-sm==3.2.0) (2.11.3)\n",
      "Requirement already satisfied: catalogue<2.1.0,>=2.0.6 in /Users/Owner/anaconda3/lib/python3.8/site-packages (from spacy<3.3.0,>=3.2.0->en-core-web-sm==3.2.0) (2.0.6)\n",
      "Requirement already satisfied: thinc<8.1.0,>=8.0.12 in /Users/Owner/anaconda3/lib/python3.8/site-packages (from spacy<3.3.0,>=3.2.0->en-core-web-sm==3.2.0) (8.0.13)\n",
      "Requirement already satisfied: typer<0.5.0,>=0.3.0 in /Users/Owner/anaconda3/lib/python3.8/site-packages (from spacy<3.3.0,>=3.2.0->en-core-web-sm==3.2.0) (0.4.0)\n",
      "Requirement already satisfied: setuptools in /Users/Owner/anaconda3/lib/python3.8/site-packages (from spacy<3.3.0,>=3.2.0->en-core-web-sm==3.2.0) (59.1.1)\n",
      "Requirement already satisfied: spacy-legacy<3.1.0,>=3.0.8 in /Users/Owner/anaconda3/lib/python3.8/site-packages (from spacy<3.3.0,>=3.2.0->en-core-web-sm==3.2.0) (3.0.8)\n",
      "Requirement already satisfied: pydantic!=1.8,!=1.8.1,<1.9.0,>=1.7.4 in /Users/Owner/anaconda3/lib/python3.8/site-packages (from spacy<3.3.0,>=3.2.0->en-core-web-sm==3.2.0) (1.8.2)\n",
      "Requirement already satisfied: packaging>=20.0 in /Users/Owner/anaconda3/lib/python3.8/site-packages (from spacy<3.3.0,>=3.2.0->en-core-web-sm==3.2.0) (20.9)\n",
      "Requirement already satisfied: requests<3.0.0,>=2.13.0 in /Users/Owner/anaconda3/lib/python3.8/site-packages (from spacy<3.3.0,>=3.2.0->en-core-web-sm==3.2.0) (2.25.1)\n",
      "Requirement already satisfied: murmurhash<1.1.0,>=0.28.0 in /Users/Owner/anaconda3/lib/python3.8/site-packages (from spacy<3.3.0,>=3.2.0->en-core-web-sm==3.2.0) (1.0.5)\n",
      "Requirement already satisfied: tqdm<5.0.0,>=4.38.0 in /Users/Owner/anaconda3/lib/python3.8/site-packages (from spacy<3.3.0,>=3.2.0->en-core-web-sm==3.2.0) (4.59.0)\n",
      "Requirement already satisfied: spacy-loggers<2.0.0,>=1.0.0 in /Users/Owner/anaconda3/lib/python3.8/site-packages (from spacy<3.3.0,>=3.2.0->en-core-web-sm==3.2.0) (1.0.1)\n",
      "Requirement already satisfied: numpy>=1.15.0 in /Users/Owner/anaconda3/lib/python3.8/site-packages (from spacy<3.3.0,>=3.2.0->en-core-web-sm==3.2.0) (1.20.1)\n",
      "Requirement already satisfied: cymem<2.1.0,>=2.0.2 in /Users/Owner/anaconda3/lib/python3.8/site-packages (from spacy<3.3.0,>=3.2.0->en-core-web-sm==3.2.0) (2.0.5)\n",
      "Requirement already satisfied: blis<0.8.0,>=0.4.0 in /Users/Owner/anaconda3/lib/python3.8/site-packages (from spacy<3.3.0,>=3.2.0->en-core-web-sm==3.2.0) (0.7.4)\n",
      "Requirement already satisfied: srsly<3.0.0,>=2.4.1 in /Users/Owner/anaconda3/lib/python3.8/site-packages (from spacy<3.3.0,>=3.2.0->en-core-web-sm==3.2.0) (2.4.1)\n",
      "Requirement already satisfied: pathy>=0.3.5 in /Users/Owner/anaconda3/lib/python3.8/site-packages (from spacy<3.3.0,>=3.2.0->en-core-web-sm==3.2.0) (0.6.0)\n",
      "Requirement already satisfied: preshed<3.1.0,>=3.0.2 in /Users/Owner/anaconda3/lib/python3.8/site-packages (from spacy<3.3.0,>=3.2.0->en-core-web-sm==3.2.0) (3.0.5)\n",
      "Requirement already satisfied: langcodes<4.0.0,>=3.2.0 in /Users/Owner/anaconda3/lib/python3.8/site-packages (from spacy<3.3.0,>=3.2.0->en-core-web-sm==3.2.0) (3.2.1)\n",
      "Requirement already satisfied: wasabi<1.1.0,>=0.8.1 in /Users/Owner/anaconda3/lib/python3.8/site-packages (from spacy<3.3.0,>=3.2.0->en-core-web-sm==3.2.0) (0.8.2)\n",
      "Requirement already satisfied: pyparsing>=2.0.2 in /Users/Owner/anaconda3/lib/python3.8/site-packages (from packaging>=20.0->spacy<3.3.0,>=3.2.0->en-core-web-sm==3.2.0) (2.4.7)\n",
      "Requirement already satisfied: smart-open<6.0.0,>=5.0.0 in /Users/Owner/anaconda3/lib/python3.8/site-packages (from pathy>=0.3.5->spacy<3.3.0,>=3.2.0->en-core-web-sm==3.2.0) (5.2.1)\n",
      "Requirement already satisfied: typing-extensions>=3.7.4.3 in /Users/Owner/anaconda3/lib/python3.8/site-packages (from pydantic!=1.8,!=1.8.1,<1.9.0,>=1.7.4->spacy<3.3.0,>=3.2.0->en-core-web-sm==3.2.0) (3.7.4.3)\n",
      "Requirement already satisfied: urllib3<1.27,>=1.21.1 in /Users/Owner/anaconda3/lib/python3.8/site-packages (from requests<3.0.0,>=2.13.0->spacy<3.3.0,>=3.2.0->en-core-web-sm==3.2.0) (1.26.4)\n",
      "Requirement already satisfied: certifi>=2017.4.17 in /Users/Owner/anaconda3/lib/python3.8/site-packages (from requests<3.0.0,>=2.13.0->spacy<3.3.0,>=3.2.0->en-core-web-sm==3.2.0) (2020.12.5)\n",
      "Requirement already satisfied: chardet<5,>=3.0.2 in /Users/Owner/anaconda3/lib/python3.8/site-packages (from requests<3.0.0,>=2.13.0->spacy<3.3.0,>=3.2.0->en-core-web-sm==3.2.0) (4.0.0)\n",
      "Requirement already satisfied: idna<3,>=2.5 in /Users/Owner/anaconda3/lib/python3.8/site-packages (from requests<3.0.0,>=2.13.0->spacy<3.3.0,>=3.2.0->en-core-web-sm==3.2.0) (2.10)\n",
      "Requirement already satisfied: click<9.0.0,>=7.1.1 in /Users/Owner/anaconda3/lib/python3.8/site-packages (from typer<0.5.0,>=0.3.0->spacy<3.3.0,>=3.2.0->en-core-web-sm==3.2.0) (7.1.2)\n",
      "Requirement already satisfied: MarkupSafe>=0.23 in /Users/Owner/anaconda3/lib/python3.8/site-packages (from jinja2->spacy<3.3.0,>=3.2.0->en-core-web-sm==3.2.0) (1.1.1)\n",
      "\u001b[38;5;2m✔ Download and installation successful\u001b[0m\n",
      "You can now load the package via spacy.load('en_core_web_sm')\n"
     ]
    }
   ],
   "source": [
    "!python3 -m spacy download en_core_web_sm"
   ]
  },
  {
   "cell_type": "code",
   "execution_count": 4,
   "id": "ca21d7b2",
   "metadata": {},
   "outputs": [
    {
     "name": "stdout",
     "output_type": "stream",
     "text": [
      "Requirement already satisfied: pyLDAvis==3.2.1 in /Users/Owner/anaconda3/lib/python3.8/site-packages (3.2.1)\n",
      "Requirement already satisfied: wheel>=0.23.0 in /Users/Owner/anaconda3/lib/python3.8/site-packages (from pyLDAvis==3.2.1) (0.37.0)\n",
      "Requirement already satisfied: future in /Users/Owner/anaconda3/lib/python3.8/site-packages (from pyLDAvis==3.2.1) (0.18.2)\n",
      "Requirement already satisfied: joblib>=0.8.4 in /Users/Owner/anaconda3/lib/python3.8/site-packages (from pyLDAvis==3.2.1) (1.0.1)\n",
      "Requirement already satisfied: numpy>=1.9.2 in /Users/Owner/anaconda3/lib/python3.8/site-packages (from pyLDAvis==3.2.1) (1.20.1)\n",
      "Requirement already satisfied: numexpr in /Users/Owner/anaconda3/lib/python3.8/site-packages (from pyLDAvis==3.2.1) (2.7.3)\n",
      "Requirement already satisfied: scipy>=0.18.0 in /Users/Owner/anaconda3/lib/python3.8/site-packages (from pyLDAvis==3.2.1) (1.6.2)\n",
      "Requirement already satisfied: funcy in /Users/Owner/anaconda3/lib/python3.8/site-packages (from pyLDAvis==3.2.1) (1.16)\n",
      "Requirement already satisfied: pandas>=0.17.0 in /Users/Owner/anaconda3/lib/python3.8/site-packages (from pyLDAvis==3.2.1) (1.2.4)\n",
      "Requirement already satisfied: jinja2>=2.7.2 in /Users/Owner/anaconda3/lib/python3.8/site-packages (from pyLDAvis==3.2.1) (2.11.3)\n",
      "Requirement already satisfied: MarkupSafe>=0.23 in /Users/Owner/anaconda3/lib/python3.8/site-packages (from jinja2>=2.7.2->pyLDAvis==3.2.1) (1.1.1)\n",
      "Requirement already satisfied: python-dateutil>=2.7.3 in /Users/Owner/anaconda3/lib/python3.8/site-packages (from pandas>=0.17.0->pyLDAvis==3.2.1) (2.8.1)\n",
      "Requirement already satisfied: pytz>=2017.3 in /Users/Owner/anaconda3/lib/python3.8/site-packages (from pandas>=0.17.0->pyLDAvis==3.2.1) (2021.1)\n",
      "Requirement already satisfied: six>=1.5 in /Users/Owner/anaconda3/lib/python3.8/site-packages (from python-dateutil>=2.7.3->pandas>=0.17.0->pyLDAvis==3.2.1) (1.15.0)\n"
     ]
    }
   ],
   "source": [
    "!pip install pyLDAvis==3.2.1"
   ]
  },
  {
   "cell_type": "code",
   "execution_count": 5,
   "id": "98e84e60",
   "metadata": {},
   "outputs": [],
   "source": [
    "import re\n",
    "import numpy as np\n",
    "import pandas as pd\n",
    "from pprint import pprint\n",
    "\n",
    "import gensim\n",
    "import gensim.models\n",
    "import gensim.corpora as corpora\n",
    "from gensim.utils import simple_preprocess\n",
    "from gensim.models import CoherenceModel\n",
    "\n",
    "import spacy\n",
    "\n",
    "import pyLDAvis\n",
    "import pyLDAvis.gensim  # don't skip this\n",
    "import matplotlib.pyplot as plt\n",
    "%matplotlib inline\n",
    "\n",
    "import logging\n",
    "logging.basicConfig(format='%(asctime)s : %(levelname)s : %(message)s', level=logging.ERROR)\n",
    "\n",
    "import warnings\n",
    "warnings.filterwarnings(\"ignore\",category=DeprecationWarning)"
   ]
  },
  {
   "cell_type": "code",
   "execution_count": 6,
   "id": "3fe45f48",
   "metadata": {},
   "outputs": [],
   "source": [
    "# NLTK Stop words\n",
    "from nltk.corpus import stopwords\n",
    "stop_words = stopwords.words('english')\n",
    "stop_words.extend(['from', 'subject', 're', 'edu', 'use'])"
   ]
  },
  {
   "cell_type": "code",
   "execution_count": 7,
   "id": "37bdde78",
   "metadata": {},
   "outputs": [],
   "source": [
    "all = pd.read_csv('Customer Reviews Data.csv')"
   ]
  },
  {
   "cell_type": "code",
   "execution_count": 9,
   "id": "9e1a30fa",
   "metadata": {},
   "outputs": [
    {
     "name": "stdout",
     "output_type": "stream",
     "text": [
      "[['the', 'assistance', 'service', 'is', 'completely', 'useless', 'problem', 'reported', 'over', 'months', 'ago', 'by', 'email', 'and', 'phone', 'and', 'they', 'always', 'reply', 'sending', 'the', 'same', 'stupid', 'template', 'of', 'escalation', 'to', 'the', 'relevant', 'department', 'shame', 'on', 'you']]\n"
     ]
    }
   ],
   "source": [
    "#tokenize words and clean text\n",
    "def sent_to_words(sentences):\n",
    "    for sentence in sentences:\n",
    "        yield(gensim.utils.simple_preprocess(str(sentence), deacc=True))  # deacc=True removes punctuations\n",
    "\n",
    "data_words = list(sent_to_words(all['Statement']))\n",
    "\n",
    "print(data_words[:1])"
   ]
  },
  {
   "cell_type": "code",
   "execution_count": 10,
   "id": "e6fb84e8",
   "metadata": {},
   "outputs": [
    {
     "name": "stdout",
     "output_type": "stream",
     "text": [
      "['the', 'assistance', 'service', 'is', 'completely', 'useless', 'problem', 'reported', 'over', 'months', 'ago', 'by', 'email', 'and', 'phone', 'and', 'they', 'always', 'reply', 'sending', 'the', 'same', 'stupid', 'template', 'of', 'escalation', 'to', 'the', 'relevant', 'department', 'shame', 'on', 'you']\n"
     ]
    }
   ],
   "source": [
    "# Build the bigram and trigram models\n",
    "bigram = gensim.models.Phrases(data_words, min_count=5, threshold=100) # higher threshold fewer phrases.\n",
    "trigram = gensim.models.Phrases(bigram[data_words], threshold=100)  \n",
    "\n",
    "# Faster way to get a sentence clubbed as a trigram/bigram\n",
    "bigram_mod = gensim.models.phrases.Phraser(bigram)\n",
    "trigram_mod = gensim.models.phrases.Phraser(trigram)\n",
    "\n",
    "# See trigram example\n",
    "print(trigram_mod[bigram_mod[data_words[0]]])"
   ]
  },
  {
   "cell_type": "code",
   "execution_count": 11,
   "id": "2d99d836",
   "metadata": {},
   "outputs": [],
   "source": [
    "# Define functions for stopwords, bigrams, trigrams and lemmatization\n",
    "def remove_stopwords(texts):\n",
    "    return [[word for word in simple_preprocess(str(doc)) if word not in stop_words] for doc in texts]\n",
    "\n",
    "def make_bigrams(texts):\n",
    "    return [bigram_mod[doc] for doc in texts]\n",
    "\n",
    "def make_trigrams(texts):\n",
    "    return [trigram_mod[bigram_mod[doc]] for doc in texts]\n",
    "\n",
    "def lemmatization(texts, allowed_postags=['NOUN', 'ADJ', 'VERB', 'ADV']):\n",
    "    \"\"\"https://spacy.io/api/annotation\"\"\"\n",
    "    texts_out = []\n",
    "    for sent in texts:\n",
    "        doc = nlp(\" \".join(sent)) \n",
    "        texts_out.append([token.lemma_ for token in doc if token.pos_ in allowed_postags])\n",
    "    return texts_out"
   ]
  },
  {
   "cell_type": "code",
   "execution_count": 12,
   "id": "3bedb8a3",
   "metadata": {},
   "outputs": [
    {
     "name": "stdout",
     "output_type": "stream",
     "text": [
      "[['assistance', 'service', 'completely', 'useless', 'problem', 'report', 'month', 'ago', 'email', 'phone', 'always', 'reply', 'send', 'stupid', 'template', 'escalation', 'relevant', 'department', 'shame']]\n"
     ]
    }
   ],
   "source": [
    "# Remove Stop Words\n",
    "data_words_nostops = remove_stopwords(data_words)\n",
    "\n",
    "# Form Bigrams\n",
    "data_words_bigrams = make_bigrams(data_words_nostops)\n",
    "\n",
    "# Initialize spacy 'en' model, keeping only tagger component (for efficiency)\n",
    "# python3 -m spacy download en\n",
    "nlp = spacy.load('en_core_web_sm', disable=['parser', 'ner'])\n",
    "\n",
    "# Do lemmatization keeping only noun, adj, vb, adv\n",
    "data_lemmatized = lemmatization(data_words_bigrams, allowed_postags=['NOUN', 'ADJ', 'VERB', 'ADV'])\n",
    "\n",
    "print(data_lemmatized[:1])"
   ]
  },
  {
   "cell_type": "code",
   "execution_count": 13,
   "id": "04d6f714",
   "metadata": {},
   "outputs": [
    {
     "name": "stdout",
     "output_type": "stream",
     "text": [
      "[[(0, 1), (1, 1), (2, 1), (3, 1), (4, 1), (5, 1), (6, 1), (7, 1), (8, 1), (9, 1), (10, 1), (11, 1), (12, 1), (13, 1), (14, 1), (15, 1), (16, 1), (17, 1), (18, 1)]]\n"
     ]
    }
   ],
   "source": [
    "# Create Dictionary\n",
    "id2word = corpora.Dictionary(data_lemmatized)\n",
    "\n",
    "# Create Corpus\n",
    "texts = data_lemmatized\n",
    "\n",
    "# Term Document Frequency\n",
    "corpus = [id2word.doc2bow(text) for text in texts]\n",
    "\n",
    "# View\n",
    "print(corpus[:1])"
   ]
  },
  {
   "cell_type": "code",
   "execution_count": 14,
   "id": "fbc64157",
   "metadata": {},
   "outputs": [
    {
     "data": {
      "text/plain": [
       "'ago'"
      ]
     },
     "execution_count": 14,
     "metadata": {},
     "output_type": "execute_result"
    }
   ],
   "source": [
    "id2word[0]"
   ]
  },
  {
   "cell_type": "code",
   "execution_count": 15,
   "id": "6f91e097",
   "metadata": {},
   "outputs": [
    {
     "data": {
      "text/plain": [
       "[[('ago', 1),\n",
       "  ('always', 1),\n",
       "  ('assistance', 1),\n",
       "  ('completely', 1),\n",
       "  ('department', 1),\n",
       "  ('email', 1),\n",
       "  ('escalation', 1),\n",
       "  ('month', 1),\n",
       "  ('phone', 1),\n",
       "  ('problem', 1),\n",
       "  ('relevant', 1),\n",
       "  ('reply', 1),\n",
       "  ('report', 1),\n",
       "  ('send', 1),\n",
       "  ('service', 1),\n",
       "  ('shame', 1),\n",
       "  ('stupid', 1),\n",
       "  ('template', 1),\n",
       "  ('useless', 1)]]"
      ]
     },
     "execution_count": 15,
     "metadata": {},
     "output_type": "execute_result"
    }
   ],
   "source": [
    "[[(id2word[id], freq) for id, freq in cp] for cp in corpus[:1]]"
   ]
  },
  {
   "cell_type": "code",
   "execution_count": 16,
   "id": "4aa36e22",
   "metadata": {},
   "outputs": [],
   "source": [
    "# Build LDA model\n",
    "lda_model = gensim.models.ldamodel.LdaModel(corpus=corpus,\n",
    "                                           id2word=id2word,\n",
    "                                           num_topics=20, \n",
    "                                           random_state=100,\n",
    "                                           update_every=1,\n",
    "                                           chunksize=100,\n",
    "                                           passes=10,\n",
    "                                           alpha='auto',\n",
    "                                           per_word_topics=True)"
   ]
  },
  {
   "cell_type": "code",
   "execution_count": 17,
   "id": "29f76b99",
   "metadata": {},
   "outputs": [
    {
     "name": "stdout",
     "output_type": "stream",
     "text": [
      "[(0,\n",
      "  '0.088*\"system\" + 0.085*\"well\" + 0.066*\"mistake\" + 0.040*\"do\" + 0.038*\"euro\" '\n",
      "  '+ 0.036*\"extra\" + 0.033*\"see\" + 0.033*\"nearly\" + 0.033*\"shame\" + '\n",
      "  '0.033*\"even\"'),\n",
      " (1,\n",
      "  '0.045*\"ask\" + 0.040*\"state\" + 0.030*\"customer\" + 0.022*\"incompetent\" + '\n",
      "  '0.022*\"lose\" + 0.022*\"relative\" + 0.022*\"write\" + 0.022*\"due\" + '\n",
      "  '0.022*\"electricity\" + 0.022*\"place\"'),\n",
      " (2,\n",
      "  '0.115*\"bill\" + 0.084*\"pay\" + 0.041*\"charge\" + 0.040*\"month\" + 0.032*\"help\" '\n",
      "  '+ 0.029*\"send\" + 0.029*\"receive\" + 0.026*\"arm\" + 0.023*\"year\" + 0.023*\"go\"'),\n",
      " (3,\n",
      "  '0.092*\"work\" + 0.066*\"joke\" + 0.059*\"properly\" + 0.055*\"time\" + '\n",
      "  '0.047*\"user\" + 0.042*\"bill\" + 0.033*\"personally\" + 0.033*\"care\" + '\n",
      "  '0.021*\"friendly\" + 0.020*\"arm\"'),\n",
      " (4,\n",
      "  '0.087*\"money\" + 0.045*\"unit\" + 0.044*\"end\" + 0.044*\"possible\" + '\n",
      "  '0.036*\"consume\" + 0.019*\"one\" + 0.019*\"amount\" + 0.013*\"receive\" + '\n",
      "  '0.012*\"problem\" + 0.011*\"tell\"'),\n",
      " (5,\n",
      "  '0.072*\"service\" + 0.070*\"back\" + 0.034*\"thank\" + 0.033*\"want\" + '\n",
      "  '0.033*\"meter\" + 0.028*\"water\" + 0.028*\"talk\" + 0.028*\"malta\" + '\n",
      "  '0.017*\"foreign\" + 0.012*\"electricity\"'),\n",
      " (6,\n",
      "  '0.063*\"work\" + 0.057*\"take\" + 0.055*\"hour\" + 0.042*\"say\" + 0.035*\"reading\" '\n",
      "  '+ 0.035*\"day\" + 0.015*\"opening\" + 0.015*\"good\" + 0.015*\"otherwise\" + '\n",
      "  '0.014*\"wait\"'),\n",
      " (7,\n",
      "  '0.120*\"bill\" + 0.072*\"ask\" + 0.065*\"help\" + 0.034*\"give\" + 0.030*\"get\" + '\n",
      "  '0.028*\"quarter\" + 0.028*\"head\" + 0.028*\"bad\" + 0.028*\"lol\" + 0.028*\"never\"'),\n",
      " (8,\n",
      "  '0.017*\"lot\" + 0.017*\"need\" + 0.017*\"one\" + 0.017*\"stretch\" + 0.017*\"reach\" '\n",
      "  '+ 0.017*\"arm\" + 0.017*\"help\" + 0.005*\"efficient\" + 0.001*\"time\" + '\n",
      "  '0.001*\"bill\"'),\n",
      " (9,\n",
      "  '0.056*\"arm\" + 0.047*\"want\" + 0.047*\"always\" + 0.047*\"convenient\" + '\n",
      "  '0.047*\"love\" + 0.024*\"send\" + 0.016*\"system\" + 0.015*\"online\" + '\n",
      "  '0.010*\"chairman\" + 0.010*\"communication\"'),\n",
      " (10,\n",
      "  '0.063*\"time\" + 0.060*\"answer\" + 0.054*\"day\" + 0.039*\"also\" + 0.036*\"bill\" + '\n",
      "  '0.029*\"minute\" + 0.028*\"receive\" + 0.026*\"well\" + 0.024*\"later\" + '\n",
      "  '0.024*\"reason\"'),\n",
      " (11,\n",
      "  '0.073*\"bill\" + 0.071*\"stop\" + 0.071*\"issue\" + 0.063*\"help\" + 0.055*\"many\" + '\n",
      "  '0.028*\"terrible\" + 0.028*\"useless\" + 0.028*\"big\" + 0.028*\"week\" + '\n",
      "  '0.028*\"company\"'),\n",
      " (12,\n",
      "  '0.073*\"meter\" + 0.063*\"come\" + 0.042*\"time\" + 0.038*\"still\" + '\n",
      "  '0.038*\"reader\" + 0.033*\"smart\" + 0.029*\"open\" + 0.025*\"bill\" + 0.025*\"use\" '\n",
      "  '+ 0.025*\"read\"'),\n",
      " (13,\n",
      "  '0.095*\"call\" + 0.093*\"service\" + 0.067*\"reading\" + 0.042*\"problem\" + '\n",
      "  '0.039*\"customer\" + 0.037*\"bad\" + 0.037*\"even\" + 0.016*\"helpful\" + '\n",
      "  '0.008*\"reply\" + 0.008*\"hopeless\"'),\n",
      " (14,\n",
      "  '0.045*\"steal\" + 0.045*\"rectify\" + 0.045*\"order\" + 0.019*\"buy\" + 0.019*\"try\" '\n",
      "  '+ 0.019*\"call\" + 0.011*\"well\" + 0.010*\"contract\" + 0.010*\"rate\" + '\n",
      "  '0.010*\"cent\"'),\n",
      " (15,\n",
      "  '0.058*\"email\" + 0.049*\"thing\" + 0.049*\"send\" + 0.041*\"useless\" + '\n",
      "  '0.017*\"prosit\" + 0.017*\"month\" + 0.014*\"answer\" + 0.010*\"service\" + '\n",
      "  '0.009*\"thank\" + 0.009*\"template\"'),\n",
      " (16,\n",
      "  '0.083*\"service\" + 0.066*\"good\" + 0.046*\"find\" + 0.044*\"quick\" + '\n",
      "  '0.023*\"terrible\" + 0.023*\"helpful\" + 0.023*\"valletta\" + 0.015*\"staff\" + '\n",
      "  '0.015*\"great\" + 0.015*\"explain\"'),\n",
      " (17,\n",
      "  '0.141*\"payment\" + 0.059*\"try\" + 0.040*\"slow\" + 0.040*\"access\" + '\n",
      "  '0.040*\"anymore\" + 0.033*\"problem\" + 0.032*\"account\" + 0.029*\"pay\" + '\n",
      "  '0.025*\"website\" + 0.017*\"message\"'),\n",
      " (18,\n",
      "  '0.068*\"still\" + 0.059*\"bill\" + 0.042*\"change\" + 0.042*\"need\" + '\n",
      "  '0.035*\"bother\" + 0.035*\"settle\" + 0.035*\"month\" + 0.029*\"reply\" + '\n",
      "  '0.022*\"name\" + 0.015*\"receive\"'),\n",
      " (19,\n",
      "  '0.119*\"let\" + 0.028*\"patience\" + 0.025*\"efficient\" + 0.015*\"valletta\" + '\n",
      "  '0.015*\"outlet\" + 0.015*\"robber\" + 0.001*\"pay\" + 0.001*\"service\" + '\n",
      "  '0.001*\"time\" + 0.001*\"thank\"')]\n"
     ]
    }
   ],
   "source": [
    "# Print the Keyword in the 10 topics\n",
    "pprint(lda_model.print_topics())\n",
    "doc_lda = lda_model[corpus]"
   ]
  },
  {
   "cell_type": "code",
   "execution_count": 18,
   "id": "ef92c3f5",
   "metadata": {},
   "outputs": [
    {
     "name": "stdout",
     "output_type": "stream",
     "text": [
      "\n",
      "Perplexity:  -8.140928619932948\n",
      "\n",
      "Coherence Score:  0.40397465862669496\n"
     ]
    }
   ],
   "source": [
    "# Compute Perplexity\n",
    "print('\\nPerplexity: ', lda_model.log_perplexity(corpus))  # a measure of how good the model is. lower the better.\n",
    "\n",
    "# Compute Coherence Score\n",
    "coherence_model_lda = CoherenceModel(model=lda_model, texts=data_lemmatized, dictionary=id2word, coherence='c_v')\n",
    "coherence_lda = coherence_model_lda.get_coherence()\n",
    "print('\\nCoherence Score: ', coherence_lda)"
   ]
  },
  {
   "cell_type": "code",
   "execution_count": 19,
   "id": "05dc3b8f",
   "metadata": {},
   "outputs": [
    {
     "data": {
      "text/html": [
       "\n",
       "<link rel=\"stylesheet\" type=\"text/css\" href=\"https://cdn.jsdelivr.net/gh/bmabey/pyLDAvis/pyLDAvis/js/ldavis.v1.0.0.css\">\n",
       "\n",
       "\n",
       "<div id=\"ldavis_el471261405204168732649176653526\"></div>\n",
       "<script type=\"text/javascript\">\n",
       "\n",
       "var ldavis_el471261405204168732649176653526_data = {\"mdsDat\": {\"x\": [0.3067079606966788, 0.21477659312126463, -0.14532428228459074, -0.022447668679709057, 0.07423493810247457, 0.23926389071522253, 0.12305394756854107, -0.1963298703960525, -0.24263252651209608, 0.10208063186878978, 0.1815108789897189, -0.15874490807872443, -0.08149048347127713, -0.19558882622103005, 0.012820996631652912, -0.04700900960597193, -0.02713021570736536, -0.1258377602912582, -0.0046279560747501045, -0.0072863303715177425], \"y\": [0.18594920194455067, -0.20876308648656045, -0.23653970825703283, 0.26872593480653195, -0.22335447973047873, -0.03846390231057564, 0.21048366742657026, -0.1110146357754486, 0.02456010062419045, 0.08310148640686219, 0.029270289770440872, 0.2137351097388318, -0.021363708051092074, 0.07044783346153992, -0.09797569655176784, 0.11155850473871531, -0.2064365332492724, -0.039143890216714966, -0.020225988282943086, 0.005449499993652899], \"topics\": [1, 2, 3, 4, 5, 6, 7, 8, 9, 10, 11, 12, 13, 14, 15, 16, 17, 18, 19, 20], \"cluster\": [1, 1, 1, 1, 1, 1, 1, 1, 1, 1, 1, 1, 1, 1, 1, 1, 1, 1, 1, 1], \"Freq\": [26.591538094267253, 7.946746259292792, 7.542362794952482, 6.452122921478354, 5.85412892987417, 4.65671113543108, 4.418843077708207, 3.9551346941712766, 3.9363862711698583, 3.7584284819456157, 3.6450651178876114, 3.2922075817837126, 3.1313286430844745, 3.0295930681346195, 2.830535164549134, 2.724362959659132, 2.7134896671643958, 2.175472301328175, 0.7765163992551487, 0.5690264368625085]}, \"tinfo\": {\"Term\": [\"bill\", \"help\", \"service\", \"pay\", \"time\", \"arm\", \"work\", \"payment\", \"meter\", \"send\", \"ask\", \"month\", \"still\", \"call\", \"well\", \"back\", \"account\", \"system\", \"day\", \"come\", \"mistake\", \"reading\", \"answer\", \"stop\", \"issue\", \"try\", \"money\", \"receive\", \"good\", \"euro\", \"charge\", \"refund\", \"pay\", \"tell\", \"information\", \"notice\", \"year\", \"banking\", \"remain\", \"interest\", \"check\", \"account\", \"mount\", \"together\", \"authority\", \"invoice\", \"consumer\", \"telephone\", \"spend\", \"go\", \"month\", \"internet\", \"instead\", \"online\", \"band\", \"apply\", \"happen\", \"arrive\", \"receive\", \"never\", \"send\", \"bill\", \"arm\", \"help\", \"euro\", \"water\", \"get\", \"time\", \"wait\", \"say\", \"reader\", \"smart\", \"use\", \"instal\", \"download\", \"age\", \"expect\", \"come\", \"open\", \"read\", \"meter\", \"query\", \"point\", \"make\", \"still\", \"fanfare\", \"grip\", \"often\", \"stone\", \"simple\", \"proset\", \"useful\", \"section\", \"centrally\", \"chance\", \"meqter\", \"shirt\", \"sparixxa\", \"regard\", \"search\", \"thing\", \"try\", \"time\", \"get\", \"reply\", \"bill\", \"month\", \"hour\", \"go\", \"need\", \"last\", \"back\", \"even\", \"estimate\", \"state\", \"lose\", \"write\", \"relative\", \"due\", \"incompetent\", \"place\", \"switch\", \"apparently\", \"residential\", \"sort\", \"electricity\", \"support\", \"ask\", \"arrogant\", \"blatalbajda\", \"client\", \"disappointing\", \"eye\", \"insist\", \"manager\", \"negligence\", \"notary\", \"signature\", \"skill\", \"benn\", \"hearing\", \"refer\", \"false\", \"covid\", \"people\", \"customer\", \"yet\", \"rate\", \"water\", \"high\", \"happen\", \"send\", \"bill\", \"back\", \"arm\", \"day\", \"never\", \"thank\", \"even\", \"great\", \"also\", \"later\", \"reason\", \"mail\", \"answer\", \"minute\", \"able\", \"day\", \"unacceptable\", \"period\", \"question\", \"long\", \"see\", \"today\", \"datum\", \"general\", \"hang\", \"hotline\", \"juice\", \"law\", \"protection\", \"shop\", \"cashier\", \"whole\", \"winter\", \"depend\", \"organize\", \"infuriate\", \"onwards\", \"span\", \"time\", \"well\", \"receive\", \"wait\", \"bill\", \"customer\", \"service\", \"understand\", \"great\", \"hold\", \"talk\", \"back\", \"foreign\", \"malta\", \"investor\", \"want\", \"thank\", \"provide\", \"number\", \"prompt\", \"response\", \"flight\", \"donate\", \"learn\", \"value\", \"potentially\", \"therefore\", \"hear\", \"suggest\", \"opinion\", \"guy\", \"sell\", \"grow\", \"investment\", \"government\", \"currently\", \"dream\", \"strange\", \"correct\", \"willing\", \"service\", \"meter\", \"water\", \"electricity\", \"call\", \"fast\", \"helpful\", \"nice\", \"really\", \"staff\", \"metre\", \"next\", \"faulty\", \"give\", \"head\", \"quarter\", \"lol\", \"ask\", \"bad\", \"amazing\", \"concern\", \"dedicated\", \"stuff\", \"anxiously\", \"await\", \"away\", \"helpline\", \"manner\", \"polite\", \"register\", \"request\", \"serve\", \"straight\", \"worried\", \"carry\", \"transaction\", \"unsuccessfully\", \"much\", \"efficient\", \"line\", \"case\", \"block\", \"high\", \"help\", \"do\", \"never\", \"get\", \"bill\", \"well\", \"arm\", \"read\", \"always\", \"solution\", \"phone\", \"stop\", \"issue\", \"many\", \"big\", \"company\", \"week\", \"terrible\", \"save\", \"useless\", \"deal\", \"pick\", \"political\", \"worth\", \"devotion\", \"solve\", \"location\", \"subpar\", \"bag\", \"envelope\", \"everytime\", \"cost\", \"reduce\", \"throw\", \"recycle\", \"expense\", \"annoying\", \"tree\", \"patience\", \"party\", \"self\", \"help\", \"bill\", \"pay\", \"come\", \"send\", \"thank\", \"waste\", \"little\", \"quick\", \"good\", \"valletta\", \"find\", \"explain\", \"previous\", \"staff\", \"apartment\", \"choice\", \"entitle\", \"fool\", \"excuse\", \"detail\", \"cover\", \"overlap\", \"enough\", \"helpful\", \"terrible\", \"self\", \"ready\", \"great\", \"really\", \"keep\", \"team\", \"live\", \"buy\", \"service\", \"nice\", \"fast\", \"always\", \"office\", \"customer\", \"arm\", \"incompetent\", \"malta\", \"people\", \"question\", \"take\", \"hour\", \"otherwise\", \"opening\", \"attach\", \"hard\", \"map\", \"cloudy\", \"cook\", \"organization\", \"seat\", \"sun\", \"add\", \"button\", \"however\", \"log\", \"side\", \"easy\", \"receipt\", \"work\", \"say\", \"reading\", \"right\", \"morning\", \"line\", \"list\", \"close\", \"hope\", \"app\", \"day\", \"good\", \"wait\", \"long\", \"person\", \"thank\", \"actual\", \"open\", \"bad\", \"look\", \"website\", \"change\", \"bother\", \"settle\", \"ownership\", \"meeter\", \"need\", \"name\", \"still\", \"sometime\", \"option\", \"awful\", \"necessary\", \"low\", \"star\", \"bil\", \"reply\", \"seem\", \"party\", \"capable\", \"assistance\", \"offer\", \"document\", \"last\", \"nice\", \"provide\", \"email\", \"rate\", \"week\", \"long\", \"month\", \"bill\", \"receive\", \"pay\", \"joke\", \"properly\", \"user\", \"personally\", \"care\", \"friendly\", \"work\", \"mind\", \"sick\", \"assistant\", \"break\", \"lunch\", \"outside\", \"sometimes\", \"post\", \"speak\", \"unnecessary\", \"wasteful\", \"right\", \"waiting\", \"app\", \"look\", \"smile\", \"time\", \"website\", \"long\", \"email\", \"arm\", \"customer\", \"function\", \"bill\", \"system\", \"nearly\", \"shame\", \"do\", \"mistake\", \"crab\", \"well\", \"extra\", \"black\", \"old\", \"overcharged\", \"statement\", \"sure\", \"white\", \"even\", \"see\", \"euro\", \"seem\", \"chase\", \"unit\", \"wait\", \"arrive\", \"also\", \"come\", \"admit\", \"bless\", \"favor\", \"former\", \"remember\", \"situation\", \"year\", \"send\", \"check\", \"reader\", \"still\", \"meter\", \"prosit\", \"email\", \"useless\", \"thing\", \"completely\", \"department\", \"escalation\", \"relevant\", \"stupid\", \"template\", \"figure\", \"alexine\", \"deserve\", \"mizzi\", \"assistance\", \"capable\", \"know\", \"report\", \"support\", \"disgrace\", \"total\", \"yet\", \"shame\", \"ago\", \"phone\", \"send\", \"people\", \"helpful\", \"always\", \"reply\", \"answer\", \"month\", \"service\", \"thank\", \"good\", \"still\", \"call\", \"reading\", \"connect\", \"ever\", \"hopeless\", \"desk\", \"lady\", \"rude\", \"wear\", \"appreciate\", \"face\", \"shield\", \"mask\", \"bad\", \"even\", \"problem\", \"household\", \"customer\", \"app\", \"service\", \"helpful\", \"great\", \"take\", \"reply\", \"email\", \"thank\", \"portal\", \"part\", \"update\", \"bunch\", \"meter\", \"steal\", \"rectify\", \"order\", \"buy\", \"contract\", \"cent\", \"expire\", \"miserable\", \"unbelievable\", \"hostile\", \"interesting\", \"possibly\", \"leak\", \"environment\", \"surprisingly\", \"none\", \"promote\", \"solar\", \"energy\", \"computer\", \"morning\", \"ready\", \"review\", \"metre\", \"faulty\", \"save\", \"bit\", \"phone\", \"rate\", \"week\", \"try\", \"call\", \"well\", \"money\", \"end\", \"possible\", \"consume\", \"unit\", \"one\", \"amount\", \"generate\", \"owe\", \"robbery\", \"sudden\", \"theoil\", \"flat\", \"agree\", \"double\", \"public\", \"actual\", \"sort\", \"company\", \"big\", \"always\", \"electricity\", \"problem\", \"internet\", \"tell\", \"barn\", \"fact\", \"furthermore\", \"soory\", \"update\", \"receive\", \"arm\", \"time\", \"bill\", \"go\", \"payment\", \"slow\", \"access\", \"anymore\", \"message\", \"try\", \"indicate\", \"unsuccessful\", \"utility\", \"website\", \"computer\", \"understand\", \"problem\", \"process\", \"actual\", \"much\", \"account\", \"quick\", \"always\", \"bloody\", \"circle\", \"deduct\", \"fund\", \"hand\", \"insufficient\", \"investigate\", \"investigation\", \"matter\", \"mother\", \"msger\", \"pay\", \"bill\", \"banking\", \"internet\", \"receive\", \"call\", \"answer\", \"convenient\", \"love\", \"chairman\", \"horrible\", \"healthcare\", \"opportunity\", \"worker\", \"insider\", \"tip\", \"excellent\", \"always\", \"want\", \"communication\", \"experience\", \"result\", \"address\", \"contact\", \"arm\", \"system\", \"online\", \"email\", \"thank\", \"reading\", \"send\", \"admit\", \"bless\", \"favor\", \"former\", \"remember\", \"situation\", \"helpful\", \"bill\", \"let\", \"patience\", \"efficient\", \"outlet\", \"robber\", \"valletta\", \"discriminatory\", \"pn\", \"dear\", \"almost\", \"remove\", \"part\", \"alone\", \"automation\", \"baffled\", \"bar\", \"exactly\", \"fail\", \"mostly\", \"other\", \"serious\", \"specific\", \"succeed\", \"laugh\", \"alike\", \"consider\", \"family\", \"kindly\", \"least\", \"staysafe\", \"show\", \"think\", \"portal\", \"update\", \"pay\", \"service\", \"time\", \"thank\", \"bill\", \"call\", \"day\", \"name\", \"tell\", \"reply\", \"receive\", \"week\", \"last\", \"try\", \"ownership\", \"wait\", \"rate\", \"change\", \"stretch\", \"reach\", \"one\", \"lot\", \"need\", \"efficient\", \"laugh\", \"alike\", \"consider\", \"family\", \"kindly\", \"least\", \"staysafe\", \"suggestion\", \"tia\", \"citizen\", \"job\", \"plenty\", \"deposit\", \"far\", \"immediately\", \"particular\", \"ashamed\", \"create\", \"demand\", \"difficult\", \"discriminatory\", \"pn\", \"circle\", \"function\", \"arm\", \"help\", \"time\", \"bill\", \"find\", \"year\", \"receive\", \"pay\", \"never\", \"instead\", \"valletta\", \"mistake\", \"office\", \"always\", \"go\", \"charge\", \"interest\", \"invoice\", \"banking\", \"total\", \"internet\", \"trejqa\", \"euro\", \"previous\"], \"Freq\": [81.0, 24.0, 22.0, 40.0, 22.0, 17.0, 10.0, 7.0, 15.0, 19.0, 11.0, 22.0, 10.0, 8.0, 9.0, 9.0, 11.0, 6.0, 9.0, 10.0, 6.0, 6.0, 8.0, 5.0, 5.0, 7.0, 4.0, 18.0, 6.0, 7.0, 18.027891104830196, 7.704597785060772, 36.765715191677046, 9.537006664696102, 5.359085635410153, 5.721313436158796, 10.087762093597263, 4.212871343489606, 3.627323330579485, 3.627359698422304, 3.6462954943348675, 9.544827794039358, 3.122942213428973, 3.0136274245825914, 3.0136390704648424, 3.013636618700158, 3.0136355971315396, 3.0135301712501104, 3.0136106708572483, 10.05288819272627, 17.407288986344778, 4.21036931762917, 2.5092438556673944, 5.113371004621309, 1.8956564402577858, 3.0135632700733495, 5.475464366939756, 3.62733518077546, 12.640001729280193, 7.182447094732578, 12.757507455309728, 50.27231684905255, 11.414995484324333, 14.154755072874492, 5.081467416665473, 6.130308239635038, 5.51969624498368, 6.231565303846119, 3.148435866931152, 3.1230243475459005, 4.965613142112674, 4.32282256439424, 3.229895896378357, 2.683523416852729, 2.683517799505704, 2.6832611111699207, 2.683259401542565, 8.208960386523016, 3.776475485046463, 3.2200227984011436, 9.62122785978193, 1.141499867738978, 1.141372012036045, 2.6835146244834727, 5.041956307433867, 0.5950031959976071, 0.5950031959976071, 0.5950031959976071, 0.5950031959976071, 0.5950002041497353, 0.5949992882779378, 0.5949992882779378, 0.5949956858488675, 0.5949941593958716, 0.5949925108266362, 0.5949920834197973, 0.5949917781291981, 0.5949904348505618, 0.5949821920043842, 0.5949885420488469, 2.6835146244834727, 3.0115405809242204, 5.497315553534424, 2.569126144693502, 1.1728495487867228, 3.3196098130133525, 0.9516254786302895, 0.7116432550145891, 0.7807532312277257, 0.6596738194919483, 0.6318548852817443, 0.6142881589148048, 0.60072617356968, 0.5950031959976071, 4.958160952447149, 2.7880037507292483, 2.7874981855477756, 2.787991465101271, 2.787495403896158, 2.788162304871443, 2.78059273540744, 1.1859271484455338, 1.1858745288691037, 1.185854014188425, 1.75363315212857, 2.787464342119763, 1.1859059383519508, 5.538604022984368, 0.618214306535605, 0.618214306535605, 0.618214306535605, 0.618214306535605, 0.618214306535605, 0.618214306535605, 0.618214306535605, 0.618214306535605, 0.618214306535605, 0.618214306535605, 0.618214306535605, 0.6181822595909289, 0.6181822595909289, 0.6181822595909289, 0.6181737987339259, 0.6181629618828328, 1.7537556607018887, 3.7565500408673405, 1.18598069523917, 1.1859006068530173, 2.641750999203827, 1.116549048237346, 1.6320307018241436, 1.7380308682062564, 2.438055982756422, 1.185997269246724, 1.0107699072566703, 0.6481045439909837, 0.6351677197800225, 0.618214306535605, 0.618214306535605, 0.618214306535605, 4.1518242106323635, 2.5783118861439047, 2.5783118861439047, 2.5783108946576245, 6.352038157742764, 3.1032090855673906, 2.578301574686588, 5.700065731101313, 1.0967692341406063, 1.09417154008576, 1.6216971696387867, 2.4019720852161743, 2.5783108946576245, 1.0917175123929546, 0.5716870729514981, 0.5716870729514981, 0.5716870729514981, 0.5716870729514981, 0.5716870729514981, 0.5716870729514981, 0.5716870729514981, 0.5716870729514981, 0.571684941255995, 0.571684941255995, 0.571684941255995, 0.5716830574320622, 0.5716830574320622, 0.5716784470208579, 0.5716784470208579, 0.5716784470208579, 6.6568491985713685, 2.8209400802171696, 3.0036372911753104, 1.6194976564741794, 3.8723452476754017, 1.0709759168512865, 0.577895660891209, 0.5716970869629309, 0.5716870729514981, 0.5716870729514981, 2.661911510520664, 6.786216058968317, 1.6744004427094126, 2.6619111506832223, 1.132304346851583, 3.2040296464218136, 3.2990972592364964, 1.1323163114465278, 1.1323101942100147, 0.5902275472765779, 0.5902275472765779, 0.5902196758325352, 0.5902182814624476, 0.5902182814624476, 0.5902169320720403, 0.5902167971329996, 0.5902161224377959, 0.590216527254918, 0.5902157176206737, 0.5902155826816329, 0.5902158075800341, 0.5902157626003539, 0.5902147730473886, 0.5902149079864293, 0.5902139184334639, 0.5902134236569812, 0.5902132437382602, 0.5902124790836961, 0.5902118493681726, 0.5902118043884924, 6.941642804296493, 3.2039677543817975, 2.662605277108753, 1.1330095382784537, 1.1323063259575137, 0.5902290765857062, 0.5902290765857062, 0.5902290765857062, 0.5902290765857062, 0.5902290765857062, 0.5902290765857062, 0.590227007520415, 0.5902196758325352, 2.6244587430870494, 2.1805499774781087, 2.1805499774781087, 2.18044349790378, 5.564586488745916, 2.180519922759548, 0.48348789604007475, 0.48348789604007475, 0.48348789604007475, 0.48348789604007475, 0.4834793089776289, 0.4834793089776289, 0.4834793089776289, 0.4834793089776289, 0.4834793089776289, 0.4834793089776289, 0.4834793089776289, 0.4834793089776289, 0.4834793089776289, 0.4834793089776289, 0.4834793089776289, 0.4834749438875523, 0.4834749438875523, 0.4834749438875523, 0.9266830767597657, 0.4834793089776289, 0.4834749438875523, 0.48348789604007475, 0.4834749438875523, 0.9267471219338409, 4.992614853586237, 0.9275541626860432, 2.1801180482370826, 2.315476199806399, 9.208389081121412, 0.7235508192480569, 0.5636023978645415, 0.4916032425222308, 0.48348789604007475, 0.4834822786700581, 0.4834793089776289, 5.17841427847035, 5.178231210425462, 4.0142172206824185, 2.0255251470111593, 2.0253572893676277, 2.025393006649382, 2.0256813252393644, 0.8616236055924235, 2.025558419764125, 0.4491220024638272, 0.4491220024638272, 0.4491220024638272, 0.4491220024638272, 0.44912173084951734, 0.44912173084951734, 0.44911847147779826, 0.44911847147779826, 0.44912047463333393, 0.4491200332600803, 0.4491197276939816, 0.44911949003146046, 0.44911938817609426, 0.449119286320728, 0.4491192184171505, 0.4491191165617843, 0.4491188109956857, 0.4491178603456009, 0.44912173084951734, 0.4491220024638272, 0.44911908260999556, 4.610297096179618, 5.335392682432518, 1.1584851446574267, 0.6279919086735104, 0.4733518662572486, 0.44912173084951734, 0.4491210178619538, 0.4491196597904042, 2.851489733370516, 4.2983570919873415, 1.4878413560173416, 2.9767278479954333, 1.0077316289917302, 1.007549295432632, 1.0077689465934923, 0.5253023759829792, 0.5253023759829792, 0.5253023759829792, 0.5253023759829792, 0.5252794019545328, 0.5252730202799644, 0.525207258642983, 0.5252066508644527, 0.5251044225156517, 1.4899763604386738, 1.4900023733597718, 0.5253023152051262, 0.5252967844205002, 1.0077599514712434, 0.5253023152051262, 0.5253023152051262, 0.5252967844205002, 0.5253023759829792, 0.5253023759829792, 5.439484135148771, 0.5253023152051262, 0.5253023152051262, 0.9891694648970173, 0.6714721400809417, 0.5490028821066344, 0.5308738817704856, 0.5253023759829792, 0.5253023759829792, 0.5253023152051262, 0.5252967844205002, 3.6811317635246232, 3.582824548769034, 0.9724512968764668, 0.9724512968764668, 0.506892757668082, 0.506892757668082, 0.506892757668082, 0.5068924854642098, 0.5068924854642098, 0.5068924854642098, 0.5068924854642098, 0.5068924854642098, 0.5068924854642098, 0.5068924854642098, 0.5068924854642098, 0.5068924854642098, 0.5068924854642098, 0.5068564940633506, 0.5068309068993785, 4.06523102565811, 2.751331002543311, 2.2860711919620575, 0.506892757668082, 0.5068924854642098, 0.5068924854642098, 0.506892757668082, 0.506892757668082, 0.5068924854642098, 0.5068924854642098, 2.286046270185328, 0.9724512968764668, 0.8864118872056745, 0.5929871827659019, 0.5242609071931252, 0.5081236333325921, 0.506892757668082, 0.5068926366885832, 0.5068924854642098, 0.5068924854642098, 0.5068924854642098, 2.6299444820437095, 2.184948801662081, 2.1848409151286057, 0.9294443918103413, 0.9291522087413623, 2.5772692863599937, 1.3744018960685076, 4.189416138942342, 0.4844792638785035, 0.4844790328580892, 0.48447828204174276, 0.48447761785805166, 0.48447657826618734, 0.48447412367428544, 0.4844583854085616, 1.7938684345481017, 0.48447738683763736, 0.48447782000091416, 0.48447732908253377, 0.4844766360212909, 0.4844783686743981, 0.4844781376539838, 0.9294421971164055, 0.4844792638785035, 0.4844792638785035, 0.929452304259531, 0.4844736038783533, 0.4844792638785035, 0.48447640500087663, 2.1848004865561044, 3.6429777775010748, 0.929459754667892, 0.511223284384209, 3.9612639473513345, 3.5542481191121396, 2.8126738482674454, 1.9986406234231266, 1.9986312132275559, 1.2560433298885225, 5.516853070753757, 0.44317957390268414, 0.4431780055367557, 0.4431749528245021, 0.4431749528245021, 0.4431749528245021, 0.4431749528245021, 0.4431749528245021, 0.44317478478529543, 0.44317478478529543, 0.44317478478529543, 0.44317478478529543, 0.44317957390268414, 0.4431749528245021, 0.44317792151715235, 0.44317957390268414, 0.443168987432667, 3.2993071007083294, 0.44317792151715235, 0.5046147918630086, 0.44317478478529543, 1.226745806240249, 0.5049106528927997, 0.03625221480495827, 2.553066493121902, 4.7840659533494, 1.8096253575764896, 1.8095413768987398, 2.1781396542495615, 3.570872988055307, 0.764146308326883, 4.597847400870483, 1.9691449348757122, 0.4012541638937595, 0.4012541638937595, 0.4012541638937595, 0.4012541638937595, 0.4012541638937595, 0.4012541638937595, 1.8057944221295545, 1.8096723058107977, 2.041994833832701, 0.4012541638937595, 0.4012541638937595, 0.4012541638937595, 0.8638727054745442, 0.40124176915517595, 0.4012541638937595, 0.5023738308397486, 0.032805296895562094, 0.032805296895562094, 0.032805296895562094, 0.032805296895562094, 0.032805296895562094, 0.032805296895562094, 0.44435082172099377, 0.4012054955732805, 0.08697231232675087, 0.033459992046620986, 0.03317992786924921, 0.03308347024291526, 0.8996548410822572, 2.976290136576572, 2.114928054793173, 2.5455299887531218, 0.46894940407474417, 0.46894940407474417, 0.46894940407474417, 0.46894940407474417, 0.46894940407474417, 0.46894940407474417, 0.4689491634818861, 0.4689488747704563, 0.4689488747704563, 0.4689488747704563, 0.46894940407474417, 0.4689488747704563, 0.4689491634818861, 0.4689486341775982, 0.4689488747704563, 0.4689480086361671, 0.4689480086361671, 0.4689491634818861, 0.46894940407474417, 0.46894675755330484, 0.46894940407474417, 2.5454308644955748, 0.4689488747704563, 0.4689488747704563, 0.46894940407474417, 0.46894940407474417, 0.7421074679161375, 0.8996110531820789, 0.5173439357076135, 0.4689867440863249, 0.4689491634818861, 0.46894911536331446, 4.7463183672489935, 3.3315249983144963, 0.4154088680236919, 0.4154088680236919, 0.4154088680236919, 0.41540640059707984, 0.41540640059707984, 0.41540640059707984, 0.41539783443676603, 0.41539713610847956, 0.4153966705562886, 0.4153966240010695, 0.4153962981145358, 1.8734714024701273, 1.8734596705549151, 2.086109758601837, 0.41539355135660916, 1.927831883379653, 0.4154072385910236, 4.653791172840523, 0.7969418308717017, 0.4154072385910236, 0.41539471523708654, 0.4154105905667985, 0.4154088680236919, 0.4153965774458504, 0.03398086391713559, 0.03396733380658563, 0.03396733380658563, 0.03394552559614004, 0.0341020413330418, 2.08721462084793, 2.0871331957151487, 2.0871201468156646, 0.8878759154718933, 0.46281005910386785, 0.46281001560753626, 0.46281001560753626, 0.46281001560753626, 0.46279822810166893, 0.462797314678705, 0.462797097197047, 0.4627968797153889, 0.4627962707667463, 0.46279553132910883, 0.462795400840114, 0.4627950093731295, 0.46279479189147144, 0.46279444392081853, 0.46279396546117074, 0.4627981846053373, 0.4627956618181037, 0.46279331301619653, 0.46281001560753626, 0.4627937914758443, 0.46279270406755396, 0.46279579230709855, 0.44724902898738195, 0.4627941829428288, 0.46281001560753626, 0.46279579230709855, 0.8878505136142307, 0.8721171075355595, 0.4946898254335516, 3.8951333470687226, 1.9651570911962681, 1.9651204176295576, 1.6365421732847099, 2.0367877677275987, 0.8360462118114832, 0.8360434487345393, 0.4357932491634104, 0.4357932072986082, 0.43579170016572966, 0.43577893140106455, 0.43577893140106455, 0.4357746193264399, 0.4357271027759647, 0.43577893140106455, 0.43579170016572966, 0.43579170016572966, 0.43579170016572966, 0.43579170016572966, 0.43579170016572966, 0.4511370759458893, 0.4357932491634104, 0.544875633483247, 0.43743635891940197, 0.5120537123031124, 0.03559695575818954, 0.03559695575818954, 0.03559695575818954, 0.03559695575818954, 0.03560751615453964, 0.5660206240391157, 0.4663257099066841, 0.4651283346995113, 0.07607418046929833, 0.040331830869685045, 6.309663423940556, 1.7831775633878044, 1.7831760622700923, 1.7831578820666905, 0.7419446920487418, 2.6534824140192805, 0.3953817709542024, 0.3953817709542024, 0.3953817709542024, 1.1216299839488757, 0.3953817709542024, 0.3953748074359269, 1.4654885163919622, 0.3953709712462183, 0.3953817709542024, 0.39537414027249934, 1.419752128358625, 0.3953817709542024, 0.3953817709542024, 0.03231704721413557, 0.032313216236641205, 0.03229628175245181, 0.03229628175245181, 0.03229628175245181, 0.03229628175245181, 0.03229628175245181, 0.03229628175245181, 0.03229628175245181, 0.03229628175245181, 0.03229628175245181, 1.317534184918032, 0.07709577948152342, 0.03356463500540872, 0.033599335321964845, 0.03238436035542948, 0.032296516302094326, 0.03229651369598719, 1.6886397719946065, 1.6885623478903453, 0.37442731411969266, 0.37442731411969266, 0.37442463971194617, 0.37442463971194617, 0.37442463971194617, 0.3744156470158986, 0.3744156470158986, 0.37439318199082794, 1.688640841757705, 1.688641242918867, 0.37442731411969266, 0.37442731411969266, 0.37441140139360096, 0.3744262777866909, 0.3744262777866909, 1.9948475578544356, 0.5712088320431284, 0.5462977936475755, 0.37442731411969266, 0.3744246062818493, 0.37442463971194617, 0.8489705473480802, 0.03061358819003071, 0.03061358819003071, 0.03061358819003071, 0.03061358819003071, 0.03061358819003071, 0.03061358819003071, 0.030727296485640123, 0.030619651573843477, 1.5252595111923442, 0.36484947908684656, 0.3249151345105869, 0.19019417996835802, 0.19017634074672718, 0.19019417996835802, 0.015526717066224065, 0.015526717066224065, 0.015526717066224065, 0.015526717066224065, 0.015526717066224065, 0.015526391903154205, 0.015523256615205374, 0.015523256615205374, 0.015523256615205374, 0.015523256615205374, 0.015523256615205374, 0.015523256615205374, 0.015523256615205374, 0.015523256615205374, 0.015523256615205374, 0.015523256615205374, 0.015523256615205374, 0.015520137734567407, 0.015520137734567407, 0.015520137734567407, 0.015520137734567407, 0.015520137734567407, 0.015520137734567407, 0.015520137734567407, 0.015523256615205374, 0.015523256615205374, 0.015523256615205374, 0.015526391903154205, 0.01575610469627299, 0.015619885235181182, 0.015559139404066, 0.015553475898670325, 0.01554167009271647, 0.015540484291613083, 0.015538961394850115, 0.015533630510392872, 0.015530909879936798, 0.015530789062465886, 0.015530751773123012, 0.01553034755664626, 0.015529373559010396, 0.015528984258270793, 0.015527867069558294, 0.015527213760271144, 0.015527081010210513, 0.015526963175887032, 0.15689278091287126, 0.15689278091287126, 0.15689278091287126, 0.15689409253211406, 0.15689278091287126, 0.04575988144406139, 0.012802606127269708, 0.012802606127269708, 0.012802606127269708, 0.012802606127269708, 0.012802606127269708, 0.012802606127269708, 0.012802606127269708, 0.012802606127269708, 0.012802606127269708, 0.012802606127269708, 0.012802606127269708, 0.012802606127269708, 0.012802606127269708, 0.012802606127269708, 0.012802606127269708, 0.012802606127269708, 0.012802606127269708, 0.012802606127269708, 0.012802606127269708, 0.012802606127269708, 0.012802606127269708, 0.012802606127269708, 0.012802606127269708, 0.012802606127269708, 0.1568737012249528, 0.1568670032226863, 0.012808890969474743, 0.012808101811896998, 0.012807800139471156, 0.012807003330781162, 0.012806612031040396, 0.012805566014694271, 0.01280536489974371, 0.012805212970514753, 0.01280516050574504, 0.012805064320333903, 0.012804917856185125, 0.012804616183759283, 0.012804615090743248, 0.012804457696434113, 0.012804436929129435, 0.012804243465291123, 0.012804231442114731, 0.012804195372585555, 0.012804183349409163, 0.012804168047184664, 0.012804164768136556, 0.012804099187174418], \"Total\": [81.0, 24.0, 22.0, 40.0, 22.0, 17.0, 10.0, 7.0, 15.0, 19.0, 11.0, 22.0, 10.0, 8.0, 9.0, 9.0, 11.0, 6.0, 9.0, 10.0, 6.0, 6.0, 8.0, 5.0, 5.0, 7.0, 4.0, 18.0, 6.0, 7.0, 18.727650563965206, 8.403845512543057, 40.810394141062496, 10.71383458849499, 6.058320632727015, 6.653224734911636, 11.740697206508877, 4.9356779308960235, 4.326558927015634, 4.326626389018049, 4.399914723215266, 11.63267509379949, 3.822309675874285, 3.712862896710536, 3.712890533960819, 3.712889376238662, 3.712889559454751, 3.7127651647373248, 3.712871165007774, 12.462004827289615, 22.018250915517065, 5.335018344188512, 3.2085656682319326, 6.785480414407269, 2.594891427736904, 4.254840454666596, 7.7672409585105715, 5.160664647773032, 18.161260036367807, 10.60715888476184, 19.27513869933788, 81.15975207420449, 17.817105020150166, 24.524968392573218, 7.790158913260974, 12.035321484372648, 11.964838726457634, 22.70013962528264, 7.398618149014708, 7.408157716168132, 5.671745560951277, 5.028194379015258, 3.9351504669846173, 3.388732784472761, 3.388727167125736, 3.3884704851747567, 3.388468775547401, 10.5018692828457, 4.947229091898041, 4.377389233432947, 15.400849345437832, 1.8467092353590104, 1.8466971462716415, 4.498556703092877, 10.328257938418435, 1.3002125636176396, 1.3002125636176396, 1.3002125636176396, 1.3002125636176396, 1.3002095717697677, 1.3002086558979702, 1.3002086558979702, 1.3002050534689, 1.3002104358178952, 1.30020990656944, 1.300209709982988, 1.3002096513223913, 1.3002092755922259, 1.3001915596244167, 1.3002086191024462, 5.895986695457976, 7.189476924541241, 22.70013962528264, 11.964838726457634, 5.352053367451469, 81.15975207420449, 22.018250915517065, 4.958765817652672, 12.462004827289615, 4.588839997133685, 3.41282638375225, 9.193195467489428, 5.486312560770985, 1.8679456847820035, 5.661476602002443, 3.491351294883202, 3.490813851688809, 3.4914428082932805, 3.491482665440675, 3.9739386350921735, 4.105684036516987, 1.8893437197486742, 1.8893475303562108, 1.889350924417085, 2.8573903907573928, 4.975881299628693, 2.3200271513322606, 11.767142059519506, 1.3215299560908986, 1.3215299560908986, 1.3215299560908986, 1.3215299560908986, 1.3215299560908986, 1.3215299560908986, 1.3215299560908986, 1.3215299560908986, 1.3215299560908986, 1.3215299560908986, 1.3215299560908986, 1.3214979091462224, 1.3214979091462224, 1.3214979091462224, 1.321489451387614, 1.3215126168485534, 3.7953107391414402, 8.76577263434476, 2.866439029031413, 3.2843114805989924, 12.035321484372648, 3.396819984219659, 7.7672409585105715, 19.27513869933788, 81.15975207420449, 9.193195467489428, 17.817105020150166, 9.250546172733536, 10.60715888476184, 6.607881592459678, 5.486312560770985, 3.1929676660987543, 5.228905303238778, 3.2854246109939473, 3.2854246109939473, 3.285423619507667, 8.808789305428133, 4.356911255268968, 3.8274943614216226, 9.250546172733536, 1.803881958990649, 1.8035988126049578, 2.811386444905863, 4.574103836245227, 5.52788080778322, 2.349721225674566, 1.278799797801541, 1.278799797801541, 1.278799797801541, 1.278799797801541, 1.278799797801541, 1.278799797801541, 1.278799797801541, 1.278799797801541, 1.2787976661060378, 1.2787976661060378, 1.2787976661060378, 1.278795782282105, 1.278795782282105, 1.2787911718709009, 1.2787911718709009, 1.2787911718709009, 22.70013962528264, 9.234191346982891, 18.161260036367807, 7.398618149014708, 81.15975207420449, 8.76577263434476, 22.52663568880682, 1.6419200095165094, 3.1929676660987543, 1.820867774628554, 3.367530306774555, 9.193195467489428, 2.3800466496709864, 3.849966894336189, 1.8379452057653387, 5.567757702074472, 6.607881592459678, 2.282891387682285, 2.4056779648886955, 1.2958271322121249, 1.2958271322121249, 1.295832713376699, 1.2958319917099095, 1.2958325930060763, 1.2958325068252523, 1.2958324364614042, 1.295832198618667, 1.295833516095399, 1.295831782948433, 1.2958316365932243, 1.295832718455452, 1.295832938516643, 1.295831876805309, 1.2958326279117953, 1.295832055499852, 1.2958320434422428, 1.2958324704351853, 1.295832455520092, 1.2958323498628264, 1.2958325829058999, 22.52663568880682, 15.400849345437832, 12.035321484372648, 4.975881299628693, 8.630541084719727, 2.3460233001027775, 3.936837243797728, 2.223208898479179, 1.7782649305734135, 2.260731561961779, 1.7208624111234143, 1.909391452584066, 1.7208656703392529, 3.3389109023509493, 2.8948604515594263, 2.8948604515594263, 2.8947539719850974, 11.767142059519506, 5.199932041168191, 1.1977983701213921, 1.1977983701213921, 1.1977983701213921, 1.1977983701213921, 1.1977897830589463, 1.1977897830589463, 1.1977897830589463, 1.1977897830589463, 1.1977897830589463, 1.1977897830589463, 1.1977897830589463, 1.1977897830589463, 1.1977897830589463, 1.1977897830589463, 1.1977897830589463, 1.1977854179688698, 1.1977854179688698, 1.1977854179688698, 2.5728891028306013, 1.5401420551517575, 1.6633140979247354, 1.744243250470302, 1.7442312412394774, 3.396819984219659, 24.524968392573218, 3.78734048234864, 10.60715888476184, 11.964838726457634, 81.15975207420449, 9.234191346982891, 17.817105020150166, 4.377389233432947, 5.01160326921049, 1.811359766097792, 3.1419957168387636, 5.895533990414216, 5.895345935460801, 4.731598322015045, 3.1428699216742966, 3.14270725095469, 3.6124930430225004, 4.189998808297924, 2.003782673124674, 4.8193411447846914, 1.166236721491069, 1.166236721491069, 1.166236721491069, 1.166236721491069, 1.1662364498767592, 1.1662364498767592, 1.16623319050504, 1.16623319050504, 1.1662391522389723, 1.1662394068093402, 1.1662395673339236, 1.1662397191444382, 1.1662397130611302, 1.166239745286645, 1.1662397923095371, 1.1662398564590715, 1.166239965905224, 1.1662404773752244, 1.5156119319474868, 1.6111823793156208, 1.648676149022678, 24.524968392573218, 81.15975207420449, 40.810394141062496, 10.5018692828457, 19.27513869933788, 6.607881592459678, 1.7126837833118804, 1.779827821482104, 3.925561061432384, 6.371670143587224, 2.3763514312465186, 4.75573219734925, 1.7186396044178065, 1.718606130374511, 2.260731561961779, 1.236201117811872, 1.236201117811872, 1.236201117811872, 1.236201117811872, 1.2361781437834254, 1.2361717656096738, 1.2361160426405093, 1.2361160412905667, 1.2360031792937585, 3.936837243797728, 4.189998808297924, 1.648676149022678, 1.6612292636277624, 3.1929676660987543, 1.7782649305734135, 1.778268531082909, 1.778263415651626, 1.80394950137297, 2.0863107969374393, 22.52663568880682, 2.223208898479179, 2.3460233001027775, 5.01160326921049, 3.5625230712710487, 8.76577263434476, 17.817105020150166, 3.9739386350921735, 3.849966894336189, 3.7953107391414402, 2.811386444905863, 4.7767703925016844, 4.958765817652672, 1.6848522793499807, 1.6848522793499807, 1.2192937401415957, 1.2192937401415957, 1.2192937401415957, 1.2192934679377236, 1.2192934679377236, 1.2192934679377236, 1.2192934679377236, 1.2192934679377236, 1.2192934679377236, 1.2192934679377236, 1.2192934679377236, 1.2192934679377236, 1.2192934679377236, 1.2192574800376812, 1.2192318954786976, 10.25836773163732, 7.408157716168132, 6.639977842353069, 1.6263084516202304, 1.6443287545273952, 1.6633140979247354, 1.7870457932916337, 1.7870468221025126, 1.7870459811403754, 2.007815321900723, 9.250546172733536, 6.371670143587224, 7.398618149014708, 4.574103836245227, 2.4411148389700275, 6.607881592459678, 2.5503740746628503, 4.947229091898041, 5.199932041168191, 2.1727525889602286, 3.6746267012551277, 3.34418080511661, 2.8991828396108446, 2.899073729808725, 1.643681613154453, 1.6436556586932083, 4.588839997133685, 2.6564100489624938, 10.328257938418435, 1.1987087558876244, 1.1987111619695379, 1.1987107109595083, 1.1987102973602015, 1.1987096739174035, 1.1987081784074003, 1.1986878774176826, 5.352053367451469, 1.5672205177621379, 1.6111823793156208, 1.6293917160782425, 1.6293918163298349, 1.7664613463727143, 1.7664757913605906, 3.41282638375225, 2.223208898479179, 2.282891387682285, 5.714154136652975, 3.2843114805989924, 3.6124930430225004, 4.574103836245227, 22.018250915517065, 81.15975207420449, 18.161260036367807, 40.810394141062496, 4.678863872909144, 4.271848050678045, 3.5304254824393464, 2.716240554989031, 2.7162311518486515, 1.9750498227442117, 10.25836773163732, 1.1607794994604927, 1.1607779310945643, 1.1607748783823109, 1.1607748783823109, 1.1607748783823109, 1.1607748783823109, 1.1607748783823109, 1.160774710343104, 1.160774710343104, 1.160774710343104, 1.160774710343104, 1.6263084516202304, 1.7071970706658812, 2.007815321900723, 2.1727525889602286, 2.388148874788288, 22.70013962528264, 3.6746267012551277, 4.574103836245227, 5.714154136652975, 17.817105020150166, 8.76577263434476, 0.7538521467475707, 81.15975207420449, 6.045846136657878, 2.5306577561381625, 2.961257913433509, 3.78734048234864, 6.701245412457677, 1.4938187283917248, 9.234191346982891, 4.879337360941407, 1.1222751543845073, 1.1222751543845073, 1.1222751543845073, 1.1222751543845073, 1.1222751543845073, 1.1222751543845073, 5.486312560770985, 5.52788080778322, 7.790158913260974, 1.5672205177621379, 1.6900240752957438, 3.123501274081456, 7.398618149014708, 5.160664647773032, 5.228905303238778, 10.5018692828457, 0.7539330159897409, 0.7539330159897409, 0.7539330159897409, 0.7539330159897409, 0.7539330159897409, 0.7539330159897409, 11.740697206508877, 19.27513869933788, 4.399914723215266, 5.671745560951277, 10.328257938418435, 15.400849345437832, 1.6151523335118787, 5.714154136652975, 4.8193411447846914, 5.895986695457976, 1.1844468965043655, 1.1844468965043655, 1.1844468965043655, 1.1844468965043655, 1.1844468965043655, 1.1844468965043655, 1.1844466559115074, 1.1844463672000778, 1.1844463672000778, 1.1844463672000778, 1.6293918163298349, 1.6293917160782425, 1.7265143583456986, 1.7980125803786529, 2.3200271513322606, 2.3444562469005814, 2.3444576718973917, 2.866439029031413, 2.961257913433509, 2.9795320074961813, 3.1419957168387636, 19.27513869933788, 3.7953107391414402, 3.936837243797728, 5.01160326921049, 5.352053367451469, 8.808789305428133, 22.018250915517065, 22.52663568880682, 6.607881592459678, 6.371670143587224, 10.328257938418435, 8.630541084719727, 6.639977842353069, 1.135275212284423, 1.135275212284423, 1.135275212284423, 1.1352727448578108, 1.1352727448578108, 1.1352727448578108, 1.1352678790608595, 1.1352679404098196, 1.1352679404662636, 1.1352679499241134, 1.1352679321094585, 5.199932041168191, 5.486312560770985, 6.434090644614794, 1.70301991543779, 8.76577263434476, 2.007815321900723, 22.52663568880682, 3.936837243797728, 3.1929676660987543, 4.7767703925016844, 5.352053367451469, 5.714154136652975, 6.607881592459678, 0.7540527416885571, 0.7540271743144195, 0.7542988585902534, 0.7539214227881996, 15.400849345437832, 2.803213178105923, 2.8031378604102004, 2.8031233911055926, 2.0863107969374393, 1.1788086107394007, 1.178808567243069, 1.178808567243069, 1.178808567243069, 1.1788013059131182, 1.178800833527148, 1.1788005675408701, 1.1788006009037335, 1.1788001366432408, 1.1787997320017805, 1.1787997528398966, 1.178799407764089, 1.1787994541838849, 1.1787991003766796, 1.178798897830021, 1.5419183545175823, 1.6443287545273952, 1.6612292636277624, 1.7038341083687731, 1.7208624111234143, 1.7208656703392529, 2.003782673124674, 2.341353109280189, 3.1419957168387636, 3.2843114805989924, 3.6124930430225004, 7.189476924541241, 8.630541084719727, 9.234191346982891, 4.613404114611976, 2.6833602435913266, 2.6833235807861375, 2.354745313235918, 3.123501274081456, 1.698339526548293, 2.1678431101406046, 1.1539963891146185, 1.1539963472498163, 1.1539948401169378, 1.1539820713522726, 1.1539820713522726, 1.1539777592776481, 1.1539302503244044, 1.6790076124779767, 1.721745029177263, 2.5503740746628503, 2.8573903907573928, 3.14270725095469, 3.1428699216742966, 5.01160326921049, 4.975881299628693, 6.434090644614794, 5.335018344188512, 10.71383458849499, 0.7539304292294731, 0.7539304292294731, 0.7539304292294731, 0.7539304292294731, 0.7542988585902534, 18.161260036367807, 17.817105020150166, 22.70013962528264, 81.15975207420449, 12.462004827289615, 7.03121327875107, 2.5046777416372716, 2.5046762405195593, 2.5046580603161575, 1.483705078094662, 7.189476924541241, 1.1168819492036695, 1.1168819492036695, 1.1168819492036695, 3.6746267012551277, 1.5419183545175823, 1.6419200095165094, 6.434090644614794, 2.2624818341919415, 2.5503740746628503, 2.5728891028306013, 11.63267509379949, 3.925561061432384, 5.01160326921049, 0.753863822377076, 0.7538506817406836, 0.7538821437112245, 0.7538821437112245, 0.7538821437112245, 0.7538821437112245, 0.7538821437112245, 0.7538821437112245, 0.7538821437112245, 0.7538821437112245, 0.7538821437112245, 40.810394141062496, 81.15975207420449, 4.9356779308960235, 5.335018344188512, 18.161260036367807, 8.630541084719727, 8.808789305428133, 2.4118505651127977, 2.411773150131814, 1.0976381072378842, 1.0976381072378842, 1.0976354328301376, 1.0976354328301376, 1.0976354328301376, 1.09762644013409, 1.09762644013409, 1.0976039780187206, 5.01160326921049, 5.567757702074472, 1.6654032753469243, 1.6654032753469243, 1.711182027568702, 2.1236828706152266, 2.27894325266449, 17.817105020150166, 6.045846136657878, 6.785480414407269, 5.714154136652975, 6.607881592459678, 6.639977842353069, 19.27513869933788, 0.7539330159897409, 0.7539330159897409, 0.7539330159897409, 0.7539330159897409, 0.7539330159897409, 0.7539330159897409, 3.936837243797728, 81.15975207420449, 2.263504170948548, 1.5156119319474868, 1.5401420551517575, 0.928438830215649, 0.9284209940924127, 2.3763514312465186, 0.7538496565300098, 0.7538496565300098, 0.7539135977901561, 0.7539462738727919, 0.7540063788567712, 0.7540271743144195, 0.7538945865405374, 0.7538945865405374, 0.7538945865405374, 0.7538945865405374, 0.7538945865405374, 0.7538945865405374, 0.7538945865405374, 0.7538945865405374, 0.7538945865405374, 0.7538945865405374, 0.7538945865405374, 0.7538108862657682, 0.7538280588375986, 0.7538280588375986, 0.7538280588375986, 0.7538280588375986, 0.7538280588375986, 0.7538280588375986, 0.7540121982883442, 0.7540209467082261, 0.7540527416885571, 0.7542988585902534, 40.810394141062496, 22.52663568880682, 22.70013962528264, 6.607881592459678, 81.15975207420449, 8.630541084719727, 9.250546172733536, 2.6564100489624938, 10.71383458849499, 5.352053367451469, 18.161260036367807, 3.6124930430225004, 3.41282638375225, 7.189476924541241, 1.643681613154453, 7.398618149014708, 3.2843114805989924, 3.34418080511661, 0.8978549627674599, 1.4228899725871427, 1.698339526548293, 2.0534898871186664, 4.588839997133685, 1.5401420551517575, 0.7538108862657682, 0.7538280588375986, 0.7538280588375986, 0.7538280588375986, 0.7538280588375986, 0.7538280588375986, 0.7538280588375986, 0.7538280588375986, 0.7538280588375986, 0.753828986072044, 0.753828986072044, 0.753828986072044, 0.7538314187992807, 0.7538314187992807, 0.7538333573950171, 0.7538333573950171, 0.7538416751004812, 0.7538416751004812, 0.7538416751004812, 0.7538416751004812, 0.7538496565300098, 0.7538496565300098, 0.7538506817406836, 0.7538521467475707, 17.817105020150166, 24.524968392573218, 22.70013962528264, 81.15975207420449, 4.75573219734925, 11.740697206508877, 18.161260036367807, 40.810394141062496, 10.60715888476184, 3.2085656682319326, 2.3763514312465186, 6.701245412457677, 3.5625230712710487, 5.01160326921049, 12.462004827289615, 18.727650563965206, 4.326626389018049, 3.712889376238662, 4.9356779308960235, 2.3444576718973917, 5.335018344188512, 1.3673315548752807, 7.790158913260974, 1.718606130374511], \"Category\": [\"Default\", \"Default\", \"Default\", \"Default\", \"Default\", \"Default\", \"Default\", \"Default\", \"Default\", \"Default\", \"Default\", \"Default\", \"Default\", \"Default\", \"Default\", \"Default\", \"Default\", \"Default\", \"Default\", \"Default\", \"Default\", \"Default\", \"Default\", \"Default\", \"Default\", \"Default\", \"Default\", \"Default\", \"Default\", \"Default\", \"Topic1\", \"Topic1\", \"Topic1\", \"Topic1\", \"Topic1\", \"Topic1\", \"Topic1\", \"Topic1\", \"Topic1\", \"Topic1\", \"Topic1\", \"Topic1\", \"Topic1\", \"Topic1\", \"Topic1\", \"Topic1\", \"Topic1\", \"Topic1\", \"Topic1\", \"Topic1\", \"Topic1\", \"Topic1\", \"Topic1\", \"Topic1\", \"Topic1\", \"Topic1\", \"Topic1\", \"Topic1\", \"Topic1\", \"Topic1\", \"Topic1\", \"Topic1\", \"Topic1\", \"Topic1\", \"Topic1\", \"Topic1\", \"Topic1\", \"Topic1\", \"Topic1\", \"Topic1\", \"Topic2\", \"Topic2\", \"Topic2\", \"Topic2\", \"Topic2\", \"Topic2\", \"Topic2\", \"Topic2\", \"Topic2\", \"Topic2\", \"Topic2\", \"Topic2\", \"Topic2\", \"Topic2\", \"Topic2\", \"Topic2\", \"Topic2\", \"Topic2\", \"Topic2\", \"Topic2\", \"Topic2\", \"Topic2\", \"Topic2\", \"Topic2\", \"Topic2\", \"Topic2\", \"Topic2\", \"Topic2\", \"Topic2\", \"Topic2\", \"Topic2\", \"Topic2\", \"Topic2\", \"Topic2\", \"Topic2\", \"Topic2\", \"Topic2\", \"Topic2\", \"Topic2\", \"Topic2\", \"Topic2\", \"Topic2\", \"Topic2\", \"Topic2\", \"Topic3\", \"Topic3\", \"Topic3\", \"Topic3\", \"Topic3\", \"Topic3\", \"Topic3\", \"Topic3\", \"Topic3\", \"Topic3\", \"Topic3\", \"Topic3\", \"Topic3\", \"Topic3\", \"Topic3\", \"Topic3\", \"Topic3\", \"Topic3\", \"Topic3\", \"Topic3\", \"Topic3\", \"Topic3\", \"Topic3\", \"Topic3\", \"Topic3\", \"Topic3\", \"Topic3\", \"Topic3\", \"Topic3\", \"Topic3\", \"Topic3\", \"Topic3\", \"Topic3\", \"Topic3\", \"Topic3\", \"Topic3\", \"Topic3\", \"Topic3\", \"Topic3\", \"Topic3\", \"Topic3\", \"Topic3\", \"Topic3\", \"Topic3\", \"Topic3\", \"Topic3\", \"Topic4\", \"Topic4\", \"Topic4\", \"Topic4\", \"Topic4\", \"Topic4\", \"Topic4\", \"Topic4\", \"Topic4\", \"Topic4\", \"Topic4\", \"Topic4\", \"Topic4\", \"Topic4\", \"Topic4\", \"Topic4\", \"Topic4\", \"Topic4\", \"Topic4\", \"Topic4\", \"Topic4\", \"Topic4\", \"Topic4\", \"Topic4\", \"Topic4\", \"Topic4\", \"Topic4\", \"Topic4\", \"Topic4\", \"Topic4\", \"Topic4\", \"Topic4\", \"Topic4\", \"Topic4\", \"Topic4\", \"Topic4\", \"Topic4\", \"Topic4\", \"Topic4\", \"Topic4\", \"Topic5\", \"Topic5\", \"Topic5\", \"Topic5\", \"Topic5\", \"Topic5\", \"Topic5\", \"Topic5\", \"Topic5\", \"Topic5\", \"Topic5\", \"Topic5\", \"Topic5\", \"Topic5\", \"Topic5\", \"Topic5\", \"Topic5\", \"Topic5\", \"Topic5\", \"Topic5\", \"Topic5\", \"Topic5\", \"Topic5\", \"Topic5\", \"Topic5\", \"Topic5\", \"Topic5\", \"Topic5\", \"Topic5\", \"Topic5\", \"Topic5\", \"Topic5\", \"Topic5\", \"Topic5\", \"Topic5\", \"Topic5\", \"Topic5\", \"Topic5\", \"Topic5\", \"Topic5\", \"Topic5\", \"Topic5\", \"Topic5\", \"Topic6\", \"Topic6\", \"Topic6\", \"Topic6\", \"Topic6\", \"Topic6\", \"Topic6\", \"Topic6\", \"Topic6\", \"Topic6\", \"Topic6\", \"Topic6\", \"Topic6\", \"Topic6\", \"Topic6\", \"Topic6\", \"Topic6\", \"Topic6\", \"Topic6\", \"Topic6\", \"Topic6\", \"Topic6\", \"Topic6\", \"Topic6\", \"Topic6\", \"Topic6\", \"Topic6\", \"Topic6\", \"Topic6\", \"Topic6\", \"Topic6\", \"Topic6\", \"Topic6\", \"Topic6\", \"Topic6\", \"Topic6\", \"Topic6\", \"Topic6\", \"Topic6\", \"Topic6\", \"Topic6\", \"Topic7\", \"Topic7\", \"Topic7\", \"Topic7\", \"Topic7\", \"Topic7\", \"Topic7\", \"Topic7\", \"Topic7\", \"Topic7\", \"Topic7\", \"Topic7\", \"Topic7\", \"Topic7\", \"Topic7\", \"Topic7\", \"Topic7\", \"Topic7\", \"Topic7\", \"Topic7\", \"Topic7\", \"Topic7\", \"Topic7\", \"Topic7\", \"Topic7\", \"Topic7\", \"Topic7\", \"Topic7\", \"Topic7\", \"Topic7\", \"Topic7\", \"Topic7\", \"Topic7\", \"Topic7\", \"Topic7\", \"Topic7\", \"Topic7\", \"Topic7\", \"Topic8\", \"Topic8\", \"Topic8\", \"Topic8\", \"Topic8\", \"Topic8\", \"Topic8\", \"Topic8\", \"Topic8\", \"Topic8\", \"Topic8\", \"Topic8\", \"Topic8\", \"Topic8\", \"Topic8\", \"Topic8\", \"Topic8\", \"Topic8\", \"Topic8\", \"Topic8\", \"Topic8\", \"Topic8\", \"Topic8\", \"Topic8\", \"Topic8\", \"Topic8\", \"Topic8\", \"Topic8\", \"Topic8\", \"Topic8\", \"Topic8\", \"Topic8\", \"Topic8\", \"Topic8\", \"Topic8\", \"Topic8\", \"Topic8\", \"Topic9\", \"Topic9\", \"Topic9\", \"Topic9\", \"Topic9\", \"Topic9\", \"Topic9\", \"Topic9\", \"Topic9\", \"Topic9\", \"Topic9\", \"Topic9\", \"Topic9\", \"Topic9\", \"Topic9\", \"Topic9\", \"Topic9\", \"Topic9\", \"Topic9\", \"Topic9\", \"Topic9\", \"Topic9\", \"Topic9\", \"Topic9\", \"Topic9\", \"Topic9\", \"Topic9\", \"Topic9\", \"Topic9\", \"Topic9\", \"Topic9\", \"Topic9\", \"Topic9\", \"Topic9\", \"Topic9\", \"Topic9\", \"Topic9\", \"Topic9\", \"Topic9\", \"Topic9\", \"Topic10\", \"Topic10\", \"Topic10\", \"Topic10\", \"Topic10\", \"Topic10\", \"Topic10\", \"Topic10\", \"Topic10\", \"Topic10\", \"Topic10\", \"Topic10\", \"Topic10\", \"Topic10\", \"Topic10\", \"Topic10\", \"Topic10\", \"Topic10\", \"Topic10\", \"Topic10\", \"Topic10\", \"Topic10\", \"Topic10\", \"Topic10\", \"Topic10\", \"Topic10\", \"Topic10\", \"Topic10\", \"Topic10\", \"Topic10\", \"Topic10\", \"Topic10\", \"Topic10\", \"Topic11\", \"Topic11\", \"Topic11\", \"Topic11\", \"Topic11\", \"Topic11\", \"Topic11\", \"Topic11\", \"Topic11\", \"Topic11\", \"Topic11\", \"Topic11\", \"Topic11\", \"Topic11\", \"Topic11\", \"Topic11\", \"Topic11\", \"Topic11\", \"Topic11\", \"Topic11\", \"Topic11\", \"Topic11\", \"Topic11\", \"Topic11\", \"Topic11\", \"Topic11\", \"Topic11\", \"Topic11\", \"Topic11\", \"Topic11\", \"Topic11\", \"Topic12\", \"Topic12\", \"Topic12\", \"Topic12\", \"Topic12\", \"Topic12\", \"Topic12\", \"Topic12\", \"Topic12\", \"Topic12\", \"Topic12\", \"Topic12\", \"Topic12\", \"Topic12\", \"Topic12\", \"Topic12\", \"Topic12\", \"Topic12\", \"Topic12\", \"Topic12\", \"Topic12\", \"Topic12\", \"Topic12\", \"Topic12\", \"Topic12\", \"Topic12\", \"Topic12\", \"Topic12\", \"Topic12\", \"Topic12\", \"Topic12\", \"Topic12\", \"Topic12\", \"Topic12\", \"Topic12\", \"Topic12\", \"Topic13\", \"Topic13\", \"Topic13\", \"Topic13\", \"Topic13\", \"Topic13\", \"Topic13\", \"Topic13\", \"Topic13\", \"Topic13\", \"Topic13\", \"Topic13\", \"Topic13\", \"Topic13\", \"Topic13\", \"Topic13\", \"Topic13\", \"Topic13\", \"Topic13\", \"Topic13\", \"Topic13\", \"Topic13\", \"Topic13\", \"Topic13\", \"Topic13\", \"Topic13\", \"Topic13\", \"Topic13\", \"Topic13\", \"Topic13\", \"Topic13\", \"Topic13\", \"Topic13\", \"Topic13\", \"Topic13\", \"Topic13\", \"Topic14\", \"Topic14\", \"Topic14\", \"Topic14\", \"Topic14\", \"Topic14\", \"Topic14\", \"Topic14\", \"Topic14\", \"Topic14\", \"Topic14\", \"Topic14\", \"Topic14\", \"Topic14\", \"Topic14\", \"Topic14\", \"Topic14\", \"Topic14\", \"Topic14\", \"Topic14\", \"Topic14\", \"Topic14\", \"Topic14\", \"Topic14\", \"Topic14\", \"Topic14\", \"Topic14\", \"Topic14\", \"Topic14\", \"Topic14\", \"Topic14\", \"Topic15\", \"Topic15\", \"Topic15\", \"Topic15\", \"Topic15\", \"Topic15\", \"Topic15\", \"Topic15\", \"Topic15\", \"Topic15\", \"Topic15\", \"Topic15\", \"Topic15\", \"Topic15\", \"Topic15\", \"Topic15\", \"Topic15\", \"Topic15\", \"Topic15\", \"Topic15\", \"Topic15\", \"Topic15\", \"Topic15\", \"Topic15\", \"Topic15\", \"Topic15\", \"Topic15\", \"Topic15\", \"Topic15\", \"Topic15\", \"Topic15\", \"Topic15\", \"Topic15\", \"Topic16\", \"Topic16\", \"Topic16\", \"Topic16\", \"Topic16\", \"Topic16\", \"Topic16\", \"Topic16\", \"Topic16\", \"Topic16\", \"Topic16\", \"Topic16\", \"Topic16\", \"Topic16\", \"Topic16\", \"Topic16\", \"Topic16\", \"Topic16\", \"Topic16\", \"Topic16\", \"Topic16\", \"Topic16\", \"Topic16\", \"Topic16\", \"Topic16\", \"Topic16\", \"Topic16\", \"Topic16\", \"Topic16\", \"Topic16\", \"Topic16\", \"Topic16\", \"Topic16\", \"Topic16\", \"Topic16\", \"Topic17\", \"Topic17\", \"Topic17\", \"Topic17\", \"Topic17\", \"Topic17\", \"Topic17\", \"Topic17\", \"Topic17\", \"Topic17\", \"Topic17\", \"Topic17\", \"Topic17\", \"Topic17\", \"Topic17\", \"Topic17\", \"Topic17\", \"Topic17\", \"Topic17\", \"Topic17\", \"Topic17\", \"Topic17\", \"Topic17\", \"Topic17\", \"Topic17\", \"Topic17\", \"Topic17\", \"Topic17\", \"Topic17\", \"Topic17\", \"Topic17\", \"Topic17\", \"Topic17\", \"Topic17\", \"Topic17\", \"Topic17\", \"Topic17\", \"Topic18\", \"Topic18\", \"Topic18\", \"Topic18\", \"Topic18\", \"Topic18\", \"Topic18\", \"Topic18\", \"Topic18\", \"Topic18\", \"Topic18\", \"Topic18\", \"Topic18\", \"Topic18\", \"Topic18\", \"Topic18\", \"Topic18\", \"Topic18\", \"Topic18\", \"Topic18\", \"Topic18\", \"Topic18\", \"Topic18\", \"Topic18\", \"Topic18\", \"Topic18\", \"Topic18\", \"Topic18\", \"Topic18\", \"Topic18\", \"Topic18\", \"Topic18\", \"Topic19\", \"Topic19\", \"Topic19\", \"Topic19\", \"Topic19\", \"Topic19\", \"Topic19\", \"Topic19\", \"Topic19\", \"Topic19\", \"Topic19\", \"Topic19\", \"Topic19\", \"Topic19\", \"Topic19\", \"Topic19\", \"Topic19\", \"Topic19\", \"Topic19\", \"Topic19\", \"Topic19\", \"Topic19\", \"Topic19\", \"Topic19\", \"Topic19\", \"Topic19\", \"Topic19\", \"Topic19\", \"Topic19\", \"Topic19\", \"Topic19\", \"Topic19\", \"Topic19\", \"Topic19\", \"Topic19\", \"Topic19\", \"Topic19\", \"Topic19\", \"Topic19\", \"Topic19\", \"Topic19\", \"Topic19\", \"Topic19\", \"Topic19\", \"Topic19\", \"Topic19\", \"Topic19\", \"Topic19\", \"Topic19\", \"Topic19\", \"Topic19\", \"Topic19\", \"Topic20\", \"Topic20\", \"Topic20\", \"Topic20\", \"Topic20\", \"Topic20\", \"Topic20\", \"Topic20\", \"Topic20\", \"Topic20\", \"Topic20\", \"Topic20\", \"Topic20\", \"Topic20\", \"Topic20\", \"Topic20\", \"Topic20\", \"Topic20\", \"Topic20\", \"Topic20\", \"Topic20\", \"Topic20\", \"Topic20\", \"Topic20\", \"Topic20\", \"Topic20\", \"Topic20\", \"Topic20\", \"Topic20\", \"Topic20\", \"Topic20\", \"Topic20\", \"Topic20\", \"Topic20\", \"Topic20\", \"Topic20\", \"Topic20\", \"Topic20\", \"Topic20\", \"Topic20\", \"Topic20\", \"Topic20\", \"Topic20\", \"Topic20\", \"Topic20\", \"Topic20\", \"Topic20\", \"Topic20\", \"Topic20\", \"Topic20\", \"Topic20\", \"Topic20\", \"Topic20\", \"Topic20\"], \"logprob\": [30.0, 29.0, 28.0, 27.0, 26.0, 25.0, 24.0, 23.0, 22.0, 21.0, 20.0, 19.0, 18.0, 17.0, 16.0, 15.0, 14.0, 13.0, 12.0, 11.0, 10.0, 9.0, 8.0, 7.0, 6.0, 5.0, 4.0, 3.0, 2.0, 1.0, -3.192, -4.0421, -2.4794, -3.8288, -4.4052, -4.3398, -3.7726, -4.6458, -4.7955, -4.7954, -4.7902, -3.828, -4.9452, -4.9808, -4.9808, -4.9808, -4.9808, -4.9808, -4.9808, -3.7761, -3.2271, -4.6464, -5.164, -4.4521, -5.4444, -4.9808, -4.3837, -4.7955, -3.5471, -4.1123, -3.5378, -2.1665, -3.649, -3.4339, -4.4584, -4.2707, -4.3756, -4.2543, -4.937, -4.9452, -3.2736, -3.4122, -3.7037, -3.889, -3.889, -3.8891, -3.8891, -2.7709, -3.5473, -3.7067, -2.6122, -4.7438, -4.7439, -3.889, -3.2583, -5.3953, -5.3953, -5.3953, -5.3953, -5.3953, -5.3953, -5.3953, -5.3953, -5.3953, -5.3953, -5.3953, -5.3953, -5.3953, -5.3953, -5.3953, -3.889, -3.7737, -3.1719, -3.9326, -4.7167, -3.6763, -4.9257, -5.2163, -5.1236, -5.2921, -5.3352, -5.3634, -5.3857, -5.3953, -3.2229, -3.7986, -3.7988, -3.7986, -3.7988, -3.7985, -3.8012, -4.6534, -4.6534, -4.6534, -4.2622, -3.7988, -4.6534, -3.1122, -5.3048, -5.3048, -5.3048, -5.3048, -5.3048, -5.3048, -5.3048, -5.3048, -5.3048, -5.3048, -5.3048, -5.3049, -5.3049, -5.3049, -5.3049, -5.3049, -4.2621, -3.5004, -4.6533, -4.6534, -3.8525, -4.7137, -4.3341, -4.2711, -3.9327, -4.6533, -4.8132, -5.2576, -5.2778, -5.3048, -5.3048, -5.3048, -3.2442, -3.7206, -3.7206, -3.7206, -2.819, -3.5353, -3.7206, -2.9273, -4.5754, -4.5778, -4.1843, -3.7915, -3.7206, -4.58, -5.2269, -5.2269, -5.2269, -5.2269, -5.2269, -5.2269, -5.2269, -5.2269, -5.2269, -5.2269, -5.2269, -5.2269, -5.2269, -5.2269, -5.2269, -5.2269, -2.7721, -3.6307, -3.5679, -4.1857, -3.3139, -4.5992, -5.2161, -5.2269, -5.2269, -5.2269, -3.5915, -2.6556, -4.0551, -3.5915, -4.4463, -3.4061, -3.3769, -4.4462, -4.4462, -5.0978, -5.0978, -5.0978, -5.0978, -5.0978, -5.0978, -5.0978, -5.0978, -5.0978, -5.0978, -5.0978, -5.0978, -5.0978, -5.0978, -5.0978, -5.0978, -5.0978, -5.0978, -5.0978, -5.0978, -5.0978, -2.633, -3.4061, -3.5912, -4.4456, -4.4463, -5.0978, -5.0978, -5.0978, -5.0978, -5.0978, -5.0978, -5.0978, -5.0978, -3.3768, -3.5621, -3.5621, -3.5621, -2.6252, -3.5621, -5.0684, -5.0684, -5.0684, -5.0684, -5.0684, -5.0684, -5.0684, -5.0684, -5.0684, -5.0684, -5.0684, -5.0684, -5.0684, -5.0684, -5.0684, -5.0684, -5.0684, -5.0684, -4.4178, -5.0684, -5.0684, -5.0684, -5.0684, -4.4177, -2.7337, -4.4169, -3.5623, -3.5021, -2.1216, -4.6653, -4.9151, -5.0518, -5.0684, -5.0684, -5.0684, -2.6447, -2.6448, -2.8994, -3.5834, -3.5835, -3.5835, -3.5833, -4.4382, -3.5834, -5.0897, -5.0897, -5.0897, -5.0897, -5.0897, -5.0897, -5.0897, -5.0897, -5.0897, -5.0897, -5.0897, -5.0897, -5.0897, -5.0897, -5.0897, -5.0897, -5.0897, -5.0897, -5.0897, -5.0897, -5.0897, -2.7609, -2.6149, -4.1421, -4.7545, -5.0372, -5.0897, -5.0897, -5.0897, -3.1305, -2.7201, -3.781, -3.0876, -4.1707, -4.1709, -4.1706, -4.8222, -4.8222, -4.8222, -4.8222, -4.8222, -4.8222, -4.8223, -4.8223, -4.8225, -3.7796, -3.7796, -4.8222, -4.8222, -4.1706, -4.8222, -4.8222, -4.8222, -4.8222, -4.8222, -2.4847, -4.8222, -4.8222, -4.1893, -4.5767, -4.778, -4.8116, -4.8222, -4.8222, -4.8222, -4.8222, -2.8704, -2.8975, -4.2016, -4.2016, -4.8531, -4.8531, -4.8531, -4.8531, -4.8531, -4.8531, -4.8531, -4.8531, -4.8531, -4.8531, -4.8531, -4.8531, -4.8531, -4.8532, -4.8532, -2.7712, -3.1615, -3.3468, -4.8531, -4.8531, -4.8531, -4.8531, -4.8531, -4.8531, -4.8531, -3.3468, -4.2016, -4.2942, -4.6962, -4.8194, -4.8507, -4.8531, -4.8531, -4.8531, -4.8531, -4.8531, -3.1604, -3.3458, -3.3458, -4.2005, -4.2008, -3.1806, -3.8093, -2.6948, -4.852, -4.852, -4.852, -4.852, -4.852, -4.8521, -4.8521, -3.543, -4.852, -4.852, -4.852, -4.852, -4.852, -4.852, -4.2005, -4.852, -4.852, -4.2005, -4.8521, -4.852, -4.852, -3.3458, -2.8346, -4.2005, -4.7983, -2.7202, -2.8286, -3.0626, -3.4043, -3.4043, -3.8688, -2.3889, -4.9105, -4.9105, -4.9105, -4.9105, -4.9105, -4.9105, -4.9105, -4.9105, -4.9105, -4.9105, -4.9105, -4.9105, -4.9105, -4.9105, -4.9105, -4.9105, -2.903, -4.9105, -4.7807, -4.9105, -3.8924, -4.7801, -7.414, -3.1594, -2.4296, -3.4018, -3.4018, -3.2164, -2.7221, -4.2639, -2.4693, -3.3173, -4.9081, -4.9081, -4.9081, -4.9081, -4.9081, -4.9081, -3.4039, -3.4018, -3.281, -4.9081, -4.9081, -4.9081, -4.1412, -4.9081, -4.9081, -4.6833, -7.4121, -7.4121, -7.4121, -7.4121, -7.4121, -7.4121, -4.8061, -4.9082, -6.4371, -7.3923, -7.4007, -7.4036, -4.0506, -2.8541, -3.1958, -3.0105, -4.7021, -4.7021, -4.7021, -4.7021, -4.7021, -4.7021, -4.7021, -4.7021, -4.7021, -4.7021, -4.7021, -4.7021, -4.7021, -4.7021, -4.7021, -4.7021, -4.7021, -4.7021, -4.7021, -4.7021, -4.7021, -3.0105, -4.7021, -4.7021, -4.7021, -4.7021, -4.2431, -4.0506, -4.6039, -4.702, -4.7021, -4.7021, -2.3544, -2.7084, -4.7903, -4.7903, -4.7903, -4.7903, -4.7903, -4.7903, -4.7903, -4.7903, -4.7903, -4.7903, -4.7903, -3.284, -3.284, -3.1765, -4.7903, -3.2554, -4.7903, -2.3741, -4.1388, -4.7903, -4.7903, -4.7903, -4.7903, -4.7903, -7.2937, -7.2941, -7.2941, -7.2948, -7.2902, -3.108, -3.108, -3.108, -3.9627, -4.6143, -4.6143, -4.6143, -4.6143, -4.6143, -4.6143, -4.6143, -4.6143, -4.6143, -4.6143, -4.6143, -4.6143, -4.6143, -4.6143, -4.6143, -4.6143, -4.6143, -4.6143, -4.6143, -4.6143, -4.6143, -4.6143, -4.6485, -4.6143, -4.6143, -4.6143, -3.9628, -3.9807, -4.5477, -2.4459, -3.13, -3.13, -3.313, -3.0942, -3.9847, -3.9847, -4.6362, -4.6362, -4.6362, -4.6362, -4.6362, -4.6362, -4.6363, -4.6362, -4.6362, -4.6362, -4.6362, -4.6362, -4.6362, -4.6016, -4.6362, -4.4128, -4.6324, -4.4749, -7.1411, -7.1411, -7.1411, -7.1411, -7.1408, -4.3747, -4.5685, -4.571, -6.3816, -7.0162, -1.9595, -3.2232, -3.2232, -3.2232, -4.1001, -2.8257, -4.7295, -4.7295, -4.7295, -3.6868, -4.7295, -4.7295, -3.4194, -4.7295, -4.7295, -4.7295, -3.4511, -4.7295, -4.7295, -7.2338, -7.2339, -7.2344, -7.2344, -7.2344, -7.2344, -7.2344, -7.2344, -7.2344, -7.2344, -7.2344, -3.5258, -6.3643, -7.1959, -7.1948, -7.2317, -7.2344, -7.2344, -3.0567, -3.0567, -4.563, -4.563, -4.563, -4.563, -4.563, -4.563, -4.563, -4.5631, -3.0567, -3.0567, -4.563, -4.563, -4.563, -4.563, -4.563, -2.89, -4.1406, -4.1852, -4.563, -4.563, -4.563, -3.7443, -7.0669, -7.0669, -7.0669, -7.0669, -7.0669, -7.0669, -7.0632, -7.0667, -2.1283, -3.5587, -3.6746, -4.2101, -4.2102, -4.2101, -6.7156, -6.7156, -6.7156, -6.7156, -6.7156, -6.7156, -6.7158, -6.7158, -6.7158, -6.7158, -6.7158, -6.7158, -6.7158, -6.7158, -6.7158, -6.7158, -6.7158, -6.716, -6.716, -6.716, -6.716, -6.716, -6.716, -6.716, -6.7158, -6.7158, -6.7158, -6.7156, -6.701, -6.7096, -6.7135, -6.7139, -6.7147, -6.7147, -6.7148, -6.7152, -6.7153, -6.7154, -6.7154, -6.7154, -6.7154, -6.7155, -6.7155, -6.7156, -6.7156, -6.7156, -4.0917, -4.0917, -4.0917, -4.0917, -4.0917, -5.3239, -6.5976, -6.5976, -6.5976, -6.5976, -6.5976, -6.5976, -6.5976, -6.5976, -6.5976, -6.5976, -6.5976, -6.5976, -6.5976, -6.5976, -6.5976, -6.5976, -6.5976, -6.5976, -6.5976, -6.5976, -6.5976, -6.5976, -6.5976, -6.5976, -4.0918, -4.0919, -6.5971, -6.5972, -6.5972, -6.5973, -6.5973, -6.5974, -6.5974, -6.5974, -6.5974, -6.5974, -6.5975, -6.5975, -6.5975, -6.5975, -6.5975, -6.5975, -6.5975, -6.5975, -6.5975, -6.5975, -6.5975, -6.5975], \"loglift\": [30.0, 29.0, 28.0, 27.0, 26.0, 25.0, 24.0, 23.0, 22.0, 21.0, 20.0, 19.0, 18.0, 17.0, 16.0, 15.0, 14.0, 13.0, 12.0, 11.0, 10.0, 9.0, 8.0, 7.0, 6.0, 5.0, 4.0, 3.0, 2.0, 1.0, 1.2865, 1.2377, 1.2202, 1.2082, 1.2019, 1.1737, 1.1728, 1.1662, 1.1483, 1.1483, 1.1367, 1.1268, 1.1225, 1.1159, 1.1159, 1.1159, 1.1159, 1.1159, 1.1159, 1.1098, 1.0896, 1.0878, 1.0787, 1.0417, 1.0106, 0.9796, 0.9749, 0.972, 0.9622, 0.9347, 0.9119, 0.8456, 0.8793, 0.7749, 0.8973, 0.65, 0.5509, 0.0318, 0.4702, 0.4608, 2.3994, 2.3813, 2.3349, 2.2991, 2.2991, 2.2991, 2.2991, 2.2861, 2.2624, 2.2253, 2.062, 2.0513, 2.0512, 2.0158, 1.8153, 1.7507, 1.7507, 1.7507, 1.7507, 1.7507, 1.7507, 1.7507, 1.7507, 1.7507, 1.7507, 1.7507, 1.7507, 1.7507, 1.7507, 1.7507, 1.7453, 1.6622, 1.1143, 0.994, 1.0144, -0.6642, -0.609, 0.5911, -0.2378, 0.5928, 0.8458, -0.1733, 0.3205, 1.3884, 2.452, 2.3597, 2.3596, 2.3596, 2.3595, 2.2303, 2.1949, 2.1189, 2.1189, 2.1189, 2.0964, 2.0052, 1.9136, 1.8311, 1.8249, 1.8249, 1.8249, 1.8249, 1.8249, 1.8249, 1.8249, 1.8249, 1.8249, 1.8249, 1.8249, 1.8249, 1.8249, 1.8249, 1.8249, 1.8249, 1.8126, 1.7373, 1.7021, 1.566, 1.0682, 1.472, 1.0245, 0.1786, -0.9206, 0.5368, -0.2848, -0.0738, -0.2308, 0.2155, 0.4015, 0.9428, 2.5101, 2.4984, 2.4984, 2.4984, 2.4138, 2.4014, 2.3457, 2.2566, 2.2432, 2.241, 2.1906, 2.0966, 1.9781, 1.9742, 1.9357, 1.9357, 1.9357, 1.9357, 1.9357, 1.9357, 1.9357, 1.9357, 1.9357, 1.9357, 1.9357, 1.9357, 1.9357, 1.9357, 1.9357, 1.9357, 1.514, 1.5549, 0.9413, 1.2216, -0.3018, 0.6385, -0.9223, 1.6857, 1.0206, 1.5823, 2.6029, 2.5345, 2.4864, 2.469, 2.3536, 2.2854, 2.1434, 2.1368, 2.0845, 2.0516, 2.0516, 2.0516, 2.0516, 2.0516, 2.0516, 2.0516, 2.0516, 2.0516, 2.0516, 2.0516, 2.0516, 2.0516, 2.0516, 2.0516, 2.0516, 2.0516, 2.0516, 2.0516, 2.0516, 2.0516, 1.6609, 1.268, 1.3295, 1.3583, 0.807, 1.4581, 0.9404, 1.5118, 1.7351, 1.4951, 1.768, 1.664, 1.7679, 2.8261, 2.7835, 2.7835, 2.7835, 2.318, 2.1978, 2.1596, 2.1596, 2.1596, 2.1596, 2.1596, 2.1596, 2.1596, 2.1596, 2.1596, 2.1596, 2.1596, 2.1596, 2.1596, 2.1596, 2.1596, 2.1596, 2.1596, 2.1596, 2.0457, 1.9082, 1.8313, 1.7838, 1.7838, 1.7679, 1.4751, 1.66, 1.4847, 1.4245, 0.8906, 0.5204, -0.3867, 0.8803, 0.7284, 1.746, 1.1953, 2.9896, 2.9896, 2.9549, 2.68, 2.68, 2.5407, 2.3925, 2.2753, 2.2525, 2.165, 2.165, 2.165, 2.165, 2.165, 2.165, 2.165, 2.165, 2.165, 2.165, 2.165, 2.165, 2.165, 2.165, 2.165, 2.165, 2.165, 2.165, 1.903, 1.8419, 1.8189, 1.4479, 0.3972, -0.4425, 0.3025, -0.5874, 0.4306, 1.7808, 1.7423, 2.9105, 2.8365, 2.7619, 2.7616, 2.6963, 2.6962, 2.4222, 2.3743, 2.3743, 2.3743, 2.3743, 2.3743, 2.3743, 2.3742, 2.3742, 2.3741, 2.2585, 2.1962, 2.0864, 2.0788, 2.0769, 2.0107, 2.0107, 2.0107, 1.9964, 1.851, 1.8091, 1.7874, 1.7337, 1.6075, 1.5614, 0.4596, -0.2832, 1.2066, 1.2383, 1.2526, 1.5527, 2.9744, 2.9099, 2.6853, 2.6853, 2.3572, 2.3572, 2.3572, 2.3572, 2.3572, 2.3572, 2.3572, 2.3572, 2.3572, 2.3572, 2.3572, 2.3572, 2.3572, 2.3571, 2.3571, 2.3093, 2.2444, 2.1686, 2.0691, 2.0581, 2.0466, 1.9749, 1.9749, 1.9749, 1.8584, 1.837, 1.3551, 1.113, 1.1919, 1.6967, 0.6696, 1.6192, 0.9566, 0.9068, 1.7795, 1.254, 3.0409, 2.9983, 2.9983, 2.7111, 2.7108, 2.7043, 2.6222, 2.3788, 2.3752, 2.3752, 2.3752, 2.3752, 2.3752, 2.3752, 2.3752, 2.1881, 2.1072, 2.0795, 2.0683, 2.0683, 1.9875, 1.9875, 1.9805, 1.7575, 1.731, 1.4651, 1.3673, 1.2721, 1.0361, 0.9708, 0.1776, 0.3087, -1.0987, 3.1453, 3.1279, 3.0845, 3.005, 3.005, 2.8592, 2.6915, 2.3489, 2.3489, 2.3489, 2.3489, 2.3489, 2.3489, 2.3489, 2.3489, 2.3489, 2.3489, 2.3489, 2.0117, 1.9632, 1.801, 1.722, 1.6275, 1.3831, 1.1966, 1.1074, 0.7551, 0.636, 0.4576, 0.2771, -0.1473, 3.1795, 3.0783, 2.9211, 2.8604, 2.7841, 2.7433, 2.7163, 2.5062, 2.3851, 2.3851, 2.3851, 2.3851, 2.3851, 2.3851, 2.3024, 2.297, 2.0747, 2.0511, 1.9757, 1.3615, 1.266, 0.8594, 0.8462, 0.3736, 0.2789, 0.2789, 0.2789, 0.2789, 0.2789, 0.2789, 0.1394, -0.4585, -0.5101, -1.7193, -2.3271, -2.7295, 2.8785, 2.8114, 2.6401, 2.6238, 2.5372, 2.5372, 2.5372, 2.5372, 2.5372, 2.5372, 2.5372, 2.5372, 2.5372, 2.5372, 2.2182, 2.2182, 2.1603, 2.1198, 1.8649, 1.8544, 1.8544, 1.6534, 1.6208, 1.6147, 1.5616, 1.4392, 1.3727, 1.3361, 1.0947, 1.029, 0.9897, 0.266, -0.31, 0.8183, 0.8546, 0.3716, 2.8988, 2.8071, 2.4914, 2.4914, 2.4914, 2.4914, 2.4914, 2.4914, 2.4914, 2.4914, 2.4914, 2.4914, 2.4914, 2.4759, 2.4223, 2.3704, 2.0858, 1.9823, 1.9212, 1.9197, 1.8994, 1.4573, 1.0545, 0.9408, 0.8753, 0.73, 0.3971, 0.3967, 0.3964, 0.3962, -2.6161, 3.2698, 3.2698, 3.2698, 2.7104, 2.6298, 2.6298, 2.6298, 2.6298, 2.6297, 2.6297, 2.6297, 2.6297, 2.6297, 2.6297, 2.6297, 2.6297, 2.6297, 2.6297, 2.6297, 2.3612, 2.2969, 2.2867, 2.2614, 2.2514, 2.2514, 2.0992, 1.9093, 1.6494, 1.6051, 1.5098, 1.4731, 1.2726, 0.638, 3.4337, 3.2914, 3.2914, 3.2391, 3.1754, 2.8942, 2.6501, 2.6291, 2.6291, 2.6291, 2.6291, 2.6291, 2.6291, 2.629, 2.2541, 2.229, 1.8361, 1.7224, 1.6273, 1.6272, 1.1952, 1.1677, 1.1341, 1.1018, 0.5621, 0.5499, 0.5499, 0.5499, 0.5499, 0.5497, 0.1345, -0.0401, -0.2849, -3.3695, -2.1304, 3.4987, 3.2672, 3.2672, 3.2672, 2.9139, 2.6102, 2.5685, 2.5685, 2.5685, 2.4203, 2.246, 2.1831, 2.1275, 1.8625, 1.7428, 1.734, 1.5036, 1.3115, 1.0673, 0.4573, 0.4572, 0.4567, 0.4567, 0.4567, 0.4567, 0.4567, 0.4567, 0.4567, 0.4567, 0.4567, 0.1738, -3.3522, -1.3838, -1.4606, -2.7224, -1.9812, -2.0016, 3.4715, 3.4714, 2.7524, 2.7524, 2.7524, 2.7524, 2.7524, 2.7524, 2.7524, 2.7523, 2.7401, 2.6349, 2.3355, 2.3355, 2.3083, 2.0924, 2.0219, 1.6383, 1.4686, 1.3085, 1.1026, 0.9573, 0.9525, 0.7054, 0.6241, 0.6241, 0.6241, 0.6241, 0.6241, 0.6241, -1.0251, -4.0546, 4.4634, 3.434, 3.302, 3.2726, 3.2726, 2.3328, 0.9755, 0.9755, 0.9754, 0.9753, 0.9753, 0.9752, 0.9752, 0.9752, 0.9752, 0.9752, 0.9752, 0.9752, 0.9752, 0.9752, 0.9752, 0.9752, 0.9752, 0.9751, 0.9751, 0.9751, 0.9751, 0.9751, 0.9751, 0.9751, 0.975, 0.975, 0.975, 0.9749, -3.0014, -2.4158, -2.4274, -1.1936, -3.7025, -1.4615, -1.531, -0.2836, -1.6784, -0.9843, -2.2061, -0.5912, -0.5345, -1.2796, 0.1961, -1.3083, -0.4962, -0.5143, 3.4246, 2.9641, 2.7872, 2.5973, 1.7932, 1.6528, 1.0935, 1.0935, 1.0935, 1.0935, 1.0935, 1.0935, 1.0935, 1.0935, 1.0935, 1.0935, 1.0935, 1.0935, 1.0935, 1.0935, 1.0935, 1.0935, 1.0935, 1.0935, 1.0935, 1.0935, 1.0935, 1.0935, 1.0935, 1.0935, 0.4365, 0.1169, -2.311, -3.5851, -0.7481, -1.6518, -2.0881, -2.8978, -1.5504, -0.3547, -0.0545, -1.0912, -0.4594, -0.8007, -1.7116, -2.119, -0.6538, -0.5008, -0.7855, -0.041, -0.8633, 0.4982, -1.2418, 0.2695]}, \"token.table\": {\"Topic\": [4, 5, 17, 1, 17, 3, 9, 9, 1, 2, 1, 3, 4, 8, 18, 1, 16, 1, 4, 13, 17, 8, 9, 3, 1, 5, 1, 3, 6, 8, 11, 18, 1, 9, 3, 3, 6, 9, 1, 2, 3, 5, 6, 9, 14, 1, 1, 3, 7, 1, 2, 3, 4, 6, 7, 10, 11, 1, 5, 3, 2, 10, 9, 8, 15, 1, 5, 14, 15, 11, 2, 4, 2, 2, 10, 1, 3, 1, 8, 3, 3, 9, 9, 2, 4, 7, 12, 3, 7, 16, 1, 1, 3, 18, 9, 5, 8, 3, 12, 5, 3, 4, 8, 11, 14, 4, 3, 4, 9, 4, 8, 3, 1, 2, 6, 12, 3, 5, 4, 2, 5, 3, 9, 3, 5, 10, 13, 16, 8, 8, 2, 3, 1, 12, 2, 3, 12, 14, 8, 2, 3, 8, 1, 12, 3, 3, 2, 3, 5, 8, 5, 1, 8, 5, 8, 5, 11, 4, 1, 2, 5, 6, 6, 1, 2, 5, 8, 9, 5, 3, 4, 8, 2, 5, 5, 4, 1, 3, 9, 6, 5, 3, 1, 6, 7, 5, 8, 14, 1, 3, 6, 4, 5, 3, 9, 4, 2, 9, 3, 9, 3, 8, 1, 4, 3, 2, 1, 1, 1, 5, 5, 1, 7, 11, 4, 5, 8, 5, 1, 2, 10, 4, 4, 5, 19, 9, 3, 9, 1, 3, 8, 9, 6, 4, 9, 11, 2, 9, 3, 1, 5, 18, 4, 2, 3, 5, 5, 8, 3, 7, 9, 10, 2, 17, 1, 2, 5, 5, 2, 4, 1, 5, 12, 16, 1, 2, 10, 13, 9, 1, 3, 6, 3, 10, 12, 2, 5, 10, 3, 1, 3, 6, 1, 5, 5, 8, 3, 1, 3, 5, 3, 1, 4, 8, 2, 16, 1, 18, 4, 2, 9, 9, 5, 15, 9, 4, 9, 8, 10, 1, 7, 10, 17, 17, 3, 8, 4, 1, 9, 11, 2, 5, 1, 3, 2, 16, 5, 8, 1, 14, 16, 17, 1, 4, 5, 11, 2, 13, 4, 5, 3, 6, 2, 4, 8, 8, 3, 4, 4, 2, 2, 9, 14, 8, 5, 8, 4, 9, 1, 4, 10, 16, 15, 3, 1, 2, 3, 1, 2, 8, 10, 1, 3, 5, 1, 4, 9, 7, 1, 9, 2, 9, 2, 4, 9, 12, 8, 5, 1, 3, 13, 18, 1, 4, 5, 8, 9, 13, 14, 10, 12, 2, 4, 9, 3, 2, 3, 17, 2, 1, 1, 3, 4, 2, 1, 5, 8, 3, 15, 2, 10, 2, 7, 5, 5, 9, 3, 3, 12, 18, 9, 5, 5, 8, 1, 1, 16, 7, 8, 3, 5, 9, 5, 2, 13, 1, 2, 4, 11, 2, 4, 1, 1, 2, 1, 2, 15, 17, 4, 4, 16, 2, 2, 7, 13, 11, 8, 5, 1, 4, 9, 12, 2, 5, 18, 2, 1, 3, 5, 2, 9, 17, 7, 4, 6, 12, 4, 5, 4, 9, 11, 3, 1, 5, 2, 3], \"Freq\": [0.7838025916479021, 0.2612675305493007, 0.7985063968128386, 0.8596474946102683, 0.08596474946102683, 0.3920993433609131, 0.3920993433609131, 0.8201470985417235, 0.4708800988305293, 0.885355210595933, 0.33562317756080745, 0.33562317756080745, 0.7649784740837445, 0.19953694382467277, 0.39907388764934554, 0.4612879941921354, 0.4612879941921354, 0.11352297862133927, 0.6811378717280356, 0.11352297862133927, 0.7985121928170684, 0.8089298622946096, 0.4980537747133724, 0.5292832493402966, 0.7050793165956857, 0.2350264388652286, 0.6173842488754264, 0.05612584080685695, 0.05612584080685695, 0.05612584080685695, 0.05612584080685695, 0.1122516816137139, 0.7750939603731293, 0.19377349009328232, 0.7566987001626599, 0.5098944135841428, 0.5098944135841428, 0.820146915446208, 0.8079958115004471, 0.10877610549415309, 0.10877610549415309, 0.7614327384590716, 0.3846204112218916, 0.1923102056109458, 0.3846204112218916, 0.770745156665098, 0.8104256509447405, 0.7567170504613723, 0.6363610489277084, 0.6160689100465083, 0.036964134602790494, 0.02464275640186033, 0.04928551280372066, 0.1108924038083715, 0.061606891004650825, 0.04928551280372066, 0.036964134602790494, 0.42710345399692135, 0.42710345399692135, 0.7566987001626599, 0.5733184777090592, 0.6898495578390146, 0.8201470985417235, 0.4793149714164981, 0.4793149714164981, 0.11586759047708936, 0.11586759047708936, 0.5793379523854468, 0.11586759047708936, 0.7363143591953916, 0.5733145303731971, 0.7819845363379636, 0.7691062711482943, 0.7691065842118265, 0.8970806827818604, 0.9611456567133245, 0.5917075470211903, 0.9091085286027939, 0.8089298622946096, 0.7566987001626599, 0.5595824281892462, 0.5595824281892462, 0.8201470985417235, 0.7617691464763913, 0.09522114330954891, 0.09522114330954891, 0.09522114330954891, 0.6004551659067006, 0.6363939878244914, 0.8493487549409652, 0.8079960235716138, 0.43879986868072385, 0.43879986868072385, 0.8292387716427464, 0.8201470985417235, 0.7717047657483297, 0.8089855365551815, 0.7567086286203811, 0.6694252662614694, 0.7717049482304853, 0.45632030020123826, 0.11408007505030957, 0.11408007505030957, 0.11408007505030957, 0.22816015010061913, 0.7819832328087305, 0.10810172516597472, 0.6486103509958483, 0.21620345033194943, 0.7819856882976471, 0.8089490698784929, 0.7566987001626599, 0.42653813707209093, 0.42653813707209093, 0.26403752307473316, 0.5280750461494663, 0.5660988986606893, 0.7717049790385668, 0.5955899142852259, 0.8852881486309067, 0.7717046939440909, 0.8592338234110514, 0.8201713062027678, 0.6029082727965926, 0.20096942426553088, 0.17500402965778988, 0.5250120889733697, 0.7453341401985079, 0.8090594075748182, 0.8089298622946096, 0.5353474719029123, 0.5353474719029123, 0.641835430531287, 0.25673417221251477, 0.18227178800390315, 0.18227178800390315, 0.3645435760078063, 0.3645435760078063, 0.8089448960320698, 0.885355657295486, 0.6004551659067006, 0.5818555544917473, 0.4098917234151084, 0.4098917234151084, 0.7566987001626599, 0.7567218935799768, 0.7691050125047671, 0.42625322602558585, 0.42625322602558585, 0.42625322602558585, 0.5811028816693514, 0.2102725634040916, 0.6308176902122747, 0.7717045492656117, 0.8089298622946096, 0.8403196635983906, 0.5063163412306029, 0.7819832328087305, 0.5014693584404366, 0.2507346792202183, 0.08357822640673943, 0.16715645281347885, 0.8984965720072614, 0.802439104990695, 0.08024391049906951, 0.08024391049906951, 0.6277788884011526, 0.15694472210028815, 0.7717049410498352, 0.31318826388925647, 0.31318826388925647, 0.31318826388925647, 0.7691050125047671, 0.7717050474675459, 0.7717045462410725, 0.7819832328087305, 0.6437292246639389, 0.2574916898655756, 0.820146915446208, 0.690879589350369, 0.7717040712245169, 0.7567170504613723, 0.570846811131449, 0.20387386111837463, 0.20387386111837463, 0.2540110088562704, 0.2540110088562704, 0.2540110088562704, 0.2943929924593066, 0.2943929924593066, 0.2943929924593066, 0.5491886966938024, 0.5491886966938024, 0.5595826915219415, 0.5595826915219415, 0.7819832328087305, 0.20166308246300071, 0.8066523298520029, 0.5871921936643548, 0.8201470985417235, 0.7549185519646094, 0.2516395173215365, 0.8253112212301916, 0.7819885075817165, 0.7566987001626599, 0.8852866811293171, 0.9349972262382082, 0.9245078359788356, 0.7497631201881881, 0.7717046001623505, 0.5440858611362084, 0.8079960634429529, 0.8481266501978704, 0.8549083941424755, 0.7819832328087305, 0.5623447654393523, 0.5623447654393523, 0.5792016702126788, 0.2930122682949212, 0.2930122682949212, 0.2930122682949212, 0.9131239809798597, 0.7819832328087305, 0.7717046209496838, 0.8835857365183809, 0.6012093574194246, 0.559582750343548, 0.559582750343548, 0.561852100484235, 0.5543392424449292, 0.5543392424449292, 0.8201470985417235, 0.6909050024132055, 0.4372441185423006, 0.2186220592711503, 0.2186220592711503, 0.46024568332400434, 0.46024568332400434, 0.8592661541669242, 0.4869758581587854, 0.4869758581587854, 0.8292653891974423, 0.9131242565455109, 0.6668805570323079, 0.22229351901076927, 0.22229351901076927, 0.7792274796994741, 0.259742493233158, 0.7566987001626599, 0.8453802981096081, 0.820146915446208, 0.6083999374875465, 0.7691067004976329, 0.6739883921433872, 0.12986296762862995, 0.6493148381431497, 0.19479445144294494, 0.5811039822452624, 0.22952039676976765, 0.688561190309303, 0.2984519856983571, 0.14922599284917856, 0.5969039713967143, 0.8670387203520392, 0.7720867595354488, 0.04541686820796758, 0.09083373641593516, 0.04541686820796758, 0.6081508927254726, 0.7848657629536004, 0.3886681314401913, 0.3886681314401913, 0.3764479058459243, 0.3764479058459243, 0.790308367517875, 0.21791999734674283, 0.21791999734674283, 0.6537599920402285, 0.7566987001626599, 0.6599316627618489, 0.09427595182312126, 0.18855190364624252, 0.5237270747424027, 0.5237270747424027, 0.44980028673151934, 0.44980028673151934, 0.7566987001626599, 0.9018183270611688, 0.4156832354933539, 0.4156832354933539, 0.5661035278543848, 0.5613998730642419, 0.28069993653212094, 0.28069993653212094, 0.7691050125047671, 0.5888104141534061, 0.7368675015823126, 0.14737350031646254, 0.7819885075817165, 0.8085334084388177, 0.20213335210970443, 0.5935238431619667, 0.7717051905207581, 0.7134898186594529, 0.8201470985417235, 0.7819856882976471, 0.5935238431619667, 0.8089855374386616, 0.6083903305828562, 0.9066317730749734, 0.024503561434458743, 0.024503561434458743, 0.024503561434458743, 0.8533377899561821, 0.5269660740486382, 0.2634830370243191, 0.5544470272497513, 0.4096488964943276, 0.4096488964943276, 0.7363118102063962, 0.31826905257723387, 0.31826905257723387, 0.2435647729113464, 0.7306943187340392, 0.5415073078002711, 0.7453443238530543, 0.7717047141764339, 0.5818668875468775, 0.1554221187164934, 0.3108442374329868, 0.1554221187164934, 0.1554221187164934, 0.44199249907222166, 0.44199249907222166, 0.7717078730192088, 0.9363628931897762, 0.7691073240159015, 0.6191366468979846, 0.7819832328087305, 0.43804098845685957, 0.5808060909447497, 0.690879589350369, 0.5415037629384003, 0.7113927733499363, 0.35569638667496817, 0.7642219680326003, 0.3044778200567079, 0.3044778200567079, 0.7027950293175297, 0.6853400143370993, 0.8815628180544456, 0.3012058243994444, 0.45180873659916654, 0.6019638721125211, 0.562345904036663, 0.562345904036663, 0.9131239809798597, 0.8201885168099032, 0.7158093642163365, 0.1651867763576161, 0.05506225878587204, 0.05506225878587204, 0.7134861357505006, 0.7567170504613723, 0.9519451527351017, 0.7691174370404832, 0.859243632137995, 0.9245222513955478, 0.18684417574785472, 0.18684417574785472, 0.37368835149570945, 0.5561696346915463, 0.5292822985272186, 0.7717078730192088, 0.5843913645007303, 0.5869115984286675, 0.6148895057415076, 0.4990561169194124, 0.40495898102338856, 0.40495898102338856, 0.769107345781414, 0.8201470985417235, 0.769109454952537, 0.5427034526099078, 0.18090115086996927, 0.36180230173993855, 0.6065472595044163, 0.7717044151885143, 0.6744439146602127, 0.10376060225541733, 0.155640903383126, 0.05188030112770867, 0.13317567884718176, 0.04439189294906058, 0.31074325064342406, 0.22195946474530293, 0.04439189294906058, 0.04439189294906058, 0.22195946474530293, 0.689875521079609, 0.6753886552492305, 0.7691067351968507, 0.7819832328087305, 0.8201470985417235, 0.7566987001626599, 0.7691067822542328, 0.7566987001626599, 0.7985059182474424, 0.7955141942590087, 0.4187343639071291, 0.5520714430763236, 0.6999393595181339, 0.7819885075817165, 0.769106957450765, 0.8080000265761225, 0.442334692373754, 0.442334692373754, 0.8831618235835362, 0.7134669655596302, 0.4841087461033772, 0.38728699688270174, 0.7691050125047671, 0.848099596767604, 0.7717047028264488, 0.7717051033620115, 0.8201470985417235, 0.4310294383519419, 0.5292843168489335, 0.8270140997607296, 0.16540281995214592, 0.8373858635279986, 0.8908605793286599, 0.5623463831052052, 0.5623463831052052, 0.808023095156423, 0.933372633056932, 0.0933372633056932, 0.477327104733103, 0.2386635523665515, 0.15133443086224643, 0.4540032925867393, 0.15133443086224643, 0.7717048558185091, 0.5088206868429801, 0.5088206868429801, 0.26431555483990965, 0.22026296236659137, 0.3083681473132279, 0.13215777741995482, 0.425582400615595, 0.425582400615595, 0.8080018259381172, 0.4265378778157639, 0.4265378778157639, 0.7313515119536708, 0.4172765322828308, 0.13909217742761026, 0.4172765322828308, 0.5543599984555219, 0.6090430679960266, 0.6403070863443622, 0.7623596671003043, 0.7691073240159015, 0.4149944857429992, 0.4149944857429992, 0.8497559330800974, 0.42081317891413417, 0.7717046722727828, 0.4054811235797481, 0.2703207490531654, 0.1351603745265827, 0.1351603745265827, 0.5857554568143422, 0.5388165506703426, 0.3592110337802284, 0.5838789446971132, 0.4985325907405751, 0.24926629537028755, 0.24926629537028755, 0.27213648658744954, 0.27213648658744954, 0.27213648658744954, 0.5536342841858154, 0.32487955764314946, 0.10829318588104982, 0.5414659294052491, 0.7819845363379636, 0.7717046269646219, 0.7819845363379636, 0.38992558120760284, 0.5848883718114043, 0.8593984461671138, 0.8517381739864768, 0.08517381739864768, 0.3488649121338213, 0.3488649121338213], \"Term\": [\"able\", \"able\", \"access\", \"account\", \"account\", \"actual\", \"actual\", \"add\", \"address\", \"age\", \"ago\", \"ago\", \"also\", \"always\", \"always\", \"amount\", \"amount\", \"answer\", \"answer\", \"answer\", \"anymore\", \"apartment\", \"app\", \"apparently\", \"apply\", \"apply\", \"arm\", \"arm\", \"arm\", \"arm\", \"arm\", \"arm\", \"arrive\", \"arrive\", \"arrogant\", \"ask\", \"ask\", \"attach\", \"authority\", \"back\", \"back\", \"back\", \"bad\", \"bad\", \"bad\", \"band\", \"banking\", \"benn\", \"big\", \"bill\", \"bill\", \"bill\", \"bill\", \"bill\", \"bill\", \"bill\", \"bill\", \"bit\", \"bit\", \"blatalbajda\", \"block\", \"bother\", \"button\", \"buy\", \"buy\", \"call\", \"call\", \"call\", \"call\", \"care\", \"case\", \"cashier\", \"centrally\", \"chance\", \"change\", \"charge\", \"chase\", \"check\", \"choice\", \"client\", \"close\", \"close\", \"cloudy\", \"come\", \"come\", \"come\", \"come\", \"communication\", \"company\", \"consume\", \"consumer\", \"contact\", \"contact\", \"convenient\", \"cook\", \"correct\", \"cover\", \"covid\", \"crab\", \"currently\", \"customer\", \"customer\", \"customer\", \"customer\", \"customer\", \"datum\", \"day\", \"day\", \"day\", \"depend\", \"detail\", \"disappointing\", \"disgrace\", \"disgrace\", \"do\", \"do\", \"document\", \"donate\", \"double\", \"download\", \"dream\", \"due\", \"easy\", \"electricity\", \"electricity\", \"email\", \"email\", \"end\", \"enough\", \"entitle\", \"estimate\", \"estimate\", \"euro\", \"euro\", \"even\", \"even\", \"even\", \"even\", \"excuse\", \"expect\", \"experience\", \"explain\", \"extra\", \"extra\", \"eye\", \"false\", \"fanfare\", \"fast\", \"fast\", \"fast\", \"faulty\", \"find\", \"find\", \"flight\", \"fool\", \"foreign\", \"friendly\", \"general\", \"get\", \"get\", \"get\", \"get\", \"give\", \"go\", \"go\", \"go\", \"good\", \"good\", \"government\", \"great\", \"great\", \"great\", \"grip\", \"grow\", \"guy\", \"hang\", \"happen\", \"happen\", \"hard\", \"head\", \"hear\", \"hearing\", \"help\", \"help\", \"help\", \"helpful\", \"helpful\", \"helpful\", \"high\", \"high\", \"high\", \"hold\", \"hold\", \"hope\", \"hope\", \"hotline\", \"hour\", \"hour\", \"household\", \"however\", \"incompetent\", \"incompetent\", \"information\", \"infuriate\", \"insist\", \"instal\", \"instead\", \"interest\", \"internet\", \"investment\", \"investor\", \"invoice\", \"issue\", \"joke\", \"juice\", \"keep\", \"keep\", \"know\", \"last\", \"last\", \"last\", \"later\", \"law\", \"learn\", \"let\", \"line\", \"list\", \"list\", \"little\", \"live\", \"live\", \"log\", \"lol\", \"long\", \"long\", \"long\", \"look\", \"look\", \"lose\", \"lot\", \"lot\", \"love\", \"mail\", \"make\", \"make\", \"make\", \"malta\", \"malta\", \"manager\", \"many\", \"map\", \"meeter\", \"meqter\", \"message\", \"meter\", \"meter\", \"meter\", \"metre\", \"minute\", \"minute\", \"mistake\", \"mistake\", \"mistake\", \"money\", \"month\", \"month\", \"month\", \"month\", \"morning\", \"mount\", \"much\", \"much\", \"name\", \"name\", \"nearly\", \"need\", \"need\", \"need\", \"negligence\", \"never\", \"never\", \"never\", \"next\", \"next\", \"nice\", \"nice\", \"notary\", \"notice\", \"number\", \"number\", \"offer\", \"office\", \"office\", \"office\", \"often\", \"one\", \"online\", \"online\", \"onwards\", \"open\", \"open\", \"opening\", \"opinion\", \"order\", \"organization\", \"organize\", \"otherwise\", \"overlap\", \"ownership\", \"pay\", \"pay\", \"pay\", \"pay\", \"payment\", \"people\", \"people\", \"period\", \"person\", \"person\", \"personally\", \"phone\", \"phone\", \"place\", \"place\", \"point\", \"possible\", \"potentially\", \"previous\", \"problem\", \"problem\", \"problem\", \"problem\", \"process\", \"process\", \"prompt\", \"properly\", \"proset\", \"prosit\", \"protection\", \"provide\", \"public\", \"quarter\", \"query\", \"question\", \"question\", \"quick\", \"rate\", \"rate\", \"reach\", \"read\", \"reader\", \"reading\", \"reading\", \"ready\", \"really\", \"really\", \"reason\", \"receipt\", \"receive\", \"receive\", \"receive\", \"receive\", \"rectify\", \"refer\", \"refund\", \"regard\", \"relative\", \"remain\", \"reply\", \"reply\", \"reply\", \"report\", \"residential\", \"response\", \"result\", \"review\", \"right\", \"save\", \"say\", \"say\", \"search\", \"seat\", \"section\", \"see\", \"see\", \"see\", \"self\", \"sell\", \"send\", \"send\", \"send\", \"send\", \"service\", \"service\", \"service\", \"service\", \"service\", \"service\", \"service\", \"settle\", \"shame\", \"shirt\", \"shop\", \"side\", \"signature\", \"simple\", \"skill\", \"slow\", \"smart\", \"smile\", \"solution\", \"sort\", \"span\", \"sparixxa\", \"spend\", \"staff\", \"staff\", \"state\", \"steal\", \"still\", \"still\", \"stone\", \"stop\", \"strange\", \"suggest\", \"sun\", \"support\", \"switch\", \"system\", \"system\", \"take\", \"talk\", \"team\", \"team\", \"telephone\", \"tell\", \"tell\", \"terrible\", \"terrible\", \"thank\", \"thank\", \"thank\", \"therefore\", \"thing\", \"thing\", \"time\", \"time\", \"time\", \"time\", \"today\", \"today\", \"together\", \"total\", \"total\", \"trejqa\", \"try\", \"try\", \"try\", \"unacceptable\", \"understand\", \"unit\", \"use\", \"useful\", \"useless\", \"useless\", \"user\", \"valletta\", \"value\", \"wait\", \"wait\", \"wait\", \"wait\", \"waiting\", \"want\", \"want\", \"waste\", \"water\", \"water\", \"water\", \"website\", \"website\", \"website\", \"week\", \"well\", \"well\", \"well\", \"whole\", \"willing\", \"winter\", \"work\", \"work\", \"write\", \"year\", \"year\", \"yet\", \"yet\"]}, \"R\": 30, \"lambda.step\": 0.01, \"plot.opts\": {\"xlab\": \"PC1\", \"ylab\": \"PC2\"}, \"topic.order\": [3, 13, 2, 11, 6, 8, 12, 17, 7, 19, 4, 1, 16, 14, 15, 5, 18, 10, 20, 9]};\n",
       "\n",
       "function LDAvis_load_lib(url, callback){\n",
       "  var s = document.createElement('script');\n",
       "  s.src = url;\n",
       "  s.async = true;\n",
       "  s.onreadystatechange = s.onload = callback;\n",
       "  s.onerror = function(){console.warn(\"failed to load library \" + url);};\n",
       "  document.getElementsByTagName(\"head\")[0].appendChild(s);\n",
       "}\n",
       "\n",
       "if(typeof(LDAvis) !== \"undefined\"){\n",
       "   // already loaded: just create the visualization\n",
       "   !function(LDAvis){\n",
       "       new LDAvis(\"#\" + \"ldavis_el471261405204168732649176653526\", ldavis_el471261405204168732649176653526_data);\n",
       "   }(LDAvis);\n",
       "}else if(typeof define === \"function\" && define.amd){\n",
       "   // require.js is available: use it to load d3/LDAvis\n",
       "   require.config({paths: {d3: \"https://d3js.org/d3.v5\"}});\n",
       "   require([\"d3\"], function(d3){\n",
       "      window.d3 = d3;\n",
       "      LDAvis_load_lib(\"https://cdn.jsdelivr.net/gh/bmabey/pyLDAvis/pyLDAvis/js/ldavis.v3.0.0.js\", function(){\n",
       "        new LDAvis(\"#\" + \"ldavis_el471261405204168732649176653526\", ldavis_el471261405204168732649176653526_data);\n",
       "      });\n",
       "    });\n",
       "}else{\n",
       "    // require.js not available: dynamically load d3 & LDAvis\n",
       "    LDAvis_load_lib(\"https://d3js.org/d3.v5.js\", function(){\n",
       "         LDAvis_load_lib(\"https://cdn.jsdelivr.net/gh/bmabey/pyLDAvis/pyLDAvis/js/ldavis.v3.0.0.js\", function(){\n",
       "                 new LDAvis(\"#\" + \"ldavis_el471261405204168732649176653526\", ldavis_el471261405204168732649176653526_data);\n",
       "            })\n",
       "         });\n",
       "}\n",
       "</script>"
      ],
      "text/plain": [
       "PreparedData(topic_coordinates=              x         y  topics  cluster       Freq\n",
       "topic                                                \n",
       "2      0.306708  0.185949       1        1  26.591538\n",
       "12     0.214777 -0.208763       2        1   7.946746\n",
       "1     -0.145324 -0.236540       3        1   7.542363\n",
       "10    -0.022448  0.268726       4        1   6.452123\n",
       "5      0.074235 -0.223354       5        1   5.854129\n",
       "7      0.239264 -0.038464       6        1   4.656711\n",
       "11     0.123054  0.210484       7        1   4.418843\n",
       "16    -0.196330 -0.111015       8        1   3.955135\n",
       "6     -0.242633  0.024560       9        1   3.936386\n",
       "18     0.102081  0.083101      10        1   3.758428\n",
       "3      0.181511  0.029270      11        1   3.645065\n",
       "0     -0.158745  0.213735      12        1   3.292208\n",
       "15    -0.081490 -0.021364      13        1   3.131329\n",
       "13    -0.195589  0.070448      14        1   3.029593\n",
       "14     0.012821 -0.097976      15        1   2.830535\n",
       "4     -0.047009  0.111559      16        1   2.724363\n",
       "17    -0.027130 -0.206437      17        1   2.713490\n",
       "9     -0.125838 -0.039144      18        1   2.175472\n",
       "19    -0.004628 -0.020226      19        1   0.776516\n",
       "8     -0.007286  0.005449      20        1   0.569026, topic_info=         Term       Freq      Total Category  logprob  loglift\n",
       "48       bill  81.000000  81.000000  Default  30.0000  30.0000\n",
       "20       help  24.000000  24.000000  Default  29.0000  29.0000\n",
       "14    service  22.000000  22.000000  Default  28.0000  28.0000\n",
       "92        pay  40.000000  40.000000  Default  27.0000  27.0000\n",
       "326      time  22.000000  22.000000  Default  26.0000  26.0000\n",
       "..        ...        ...        ...      ...      ...      ...\n",
       "152     total   0.012804   2.344458  Topic20  -6.5975  -0.0410\n",
       "367  internet   0.012804   5.335018  Topic20  -6.5975  -0.8633\n",
       "377    trejqa   0.012804   1.367332  Topic20  -6.5975   0.4982\n",
       "155      euro   0.012804   7.790159  Topic20  -6.5975  -1.2418\n",
       "372  previous   0.012804   1.718606  Topic20  -6.5975   0.2695\n",
       "\n",
       "[809 rows x 6 columns], token_table=      Topic      Freq     Term\n",
       "term                          \n",
       "328       4  0.783803     able\n",
       "328       5  0.261268     able\n",
       "410      17  0.798506   access\n",
       "41        1  0.859647  account\n",
       "41       17  0.085965  account\n",
       "...     ...       ...      ...\n",
       "310       3  0.859398    write\n",
       "136       1  0.851738     year\n",
       "136       5  0.085174     year\n",
       "112       2  0.348865      yet\n",
       "112       3  0.348865      yet\n",
       "\n",
       "[496 rows x 3 columns], R=30, lambda_step=0.01, plot_opts={'xlab': 'PC1', 'ylab': 'PC2'}, topic_order=[3, 13, 2, 11, 6, 8, 12, 17, 7, 19, 4, 1, 16, 14, 15, 5, 18, 10, 20, 9])"
      ]
     },
     "execution_count": 19,
     "metadata": {},
     "output_type": "execute_result"
    }
   ],
   "source": [
    "# Visualize the topics\n",
    "pyLDAvis.enable_notebook()\n",
    "vis = pyLDAvis.gensim.prepare(lda_model, corpus, dictionary=lda_model.id2word, mds='mmds')   \n",
    "vis"
   ]
  },
  {
   "cell_type": "code",
   "execution_count": 20,
   "id": "daf717be",
   "metadata": {},
   "outputs": [],
   "source": [
    "pyLDAvis.save_html(vis, 'All PPTs.html')"
   ]
  }
 ],
 "metadata": {
  "kernelspec": {
   "display_name": "Python 3",
   "language": "python",
   "name": "python3"
  },
  "language_info": {
   "codemirror_mode": {
    "name": "ipython",
    "version": 3
   },
   "file_extension": ".py",
   "mimetype": "text/x-python",
   "name": "python",
   "nbconvert_exporter": "python",
   "pygments_lexer": "ipython3",
   "version": "3.8.8"
  }
 },
 "nbformat": 4,
 "nbformat_minor": 5
}

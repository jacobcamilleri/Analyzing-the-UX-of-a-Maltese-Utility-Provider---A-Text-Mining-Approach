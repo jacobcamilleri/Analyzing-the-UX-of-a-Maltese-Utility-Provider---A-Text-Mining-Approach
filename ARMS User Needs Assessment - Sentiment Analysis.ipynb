{
 "cells": [
  {
   "cell_type": "code",
   "execution_count": 1,
   "id": "b0682ec9",
   "metadata": {},
   "outputs": [
    {
     "name": "stdout",
     "output_type": "stream",
     "text": [
      "Defaulting to user installation because normal site-packages is not writeable\n",
      "Requirement already satisfied: torch in /home/jacobcamilleri/.local/lib/python3.8/site-packages (1.9.0)\n",
      "Requirement already satisfied: torchvision in /home/jacobcamilleri/.local/lib/python3.8/site-packages (0.10.0)\n",
      "Requirement already satisfied: torchaudio in /home/jacobcamilleri/.local/lib/python3.8/site-packages (0.9.0)\n",
      "Requirement already satisfied: typing-extensions in /home/jacobcamilleri/.local/lib/python3.8/site-packages (from torch) (3.10.0.2)\n",
      "Requirement already satisfied: pillow>=5.3.0 in /usr/lib/python3/dist-packages (from torchvision) (7.0.0)\n",
      "Requirement already satisfied: numpy in /home/jacobcamilleri/.local/lib/python3.8/site-packages (from torchvision) (1.21.2)\n"
     ]
    }
   ],
   "source": [
    "!pip3 install torch torchvision torchaudio"
   ]
  },
  {
   "cell_type": "code",
   "execution_count": 2,
   "id": "b98237fc",
   "metadata": {},
   "outputs": [
    {
     "name": "stdout",
     "output_type": "stream",
     "text": [
      "Defaulting to user installation because normal site-packages is not writeable\n",
      "Requirement already satisfied: transformers in /home/jacobcamilleri/.local/lib/python3.8/site-packages (4.10.0)\n",
      "Requirement already satisfied: requests in /usr/lib/python3/dist-packages (2.22.0)\n",
      "Requirement already satisfied: beautifulsoup4 in /home/jacobcamilleri/.local/lib/python3.8/site-packages (4.9.3)\n",
      "Requirement already satisfied: pandas in /home/jacobcamilleri/.local/lib/python3.8/site-packages (1.3.2)\n",
      "Requirement already satisfied: numpy in /home/jacobcamilleri/.local/lib/python3.8/site-packages (1.21.2)\n",
      "Requirement already satisfied: packaging in /home/jacobcamilleri/.local/lib/python3.8/site-packages (from transformers) (21.0)\n",
      "Requirement already satisfied: tqdm>=4.27 in /home/jacobcamilleri/.local/lib/python3.8/site-packages (from transformers) (4.62.2)\n",
      "Requirement already satisfied: huggingface-hub>=0.0.12 in /home/jacobcamilleri/.local/lib/python3.8/site-packages (from transformers) (0.0.16)\n",
      "Requirement already satisfied: filelock in /usr/local/lib/python3.8/dist-packages (from transformers) (3.0.12)\n",
      "Requirement already satisfied: sacremoses in /home/jacobcamilleri/.local/lib/python3.8/site-packages (from transformers) (0.0.45)\n",
      "Requirement already satisfied: pyyaml>=5.1 in /usr/lib/python3/dist-packages (from transformers) (5.3.1)\n",
      "Requirement already satisfied: tokenizers<0.11,>=0.10.1 in /home/jacobcamilleri/.local/lib/python3.8/site-packages (from transformers) (0.10.3)\n",
      "Requirement already satisfied: regex!=2019.12.17 in /home/jacobcamilleri/.local/lib/python3.8/site-packages (from transformers) (2021.8.28)\n",
      "Requirement already satisfied: soupsieve>1.2 in /home/jacobcamilleri/.local/lib/python3.8/site-packages (from beautifulsoup4) (2.2.1)\n",
      "Requirement already satisfied: pytz>=2017.3 in /usr/lib/python3/dist-packages (from pandas) (2019.3)\n",
      "Requirement already satisfied: python-dateutil>=2.7.3 in /usr/lib/python3/dist-packages (from pandas) (2.7.3)\n",
      "Requirement already satisfied: typing-extensions in /home/jacobcamilleri/.local/lib/python3.8/site-packages (from huggingface-hub>=0.0.12->transformers) (3.10.0.2)\n",
      "Requirement already satisfied: pyparsing>=2.0.2 in /home/jacobcamilleri/.local/lib/python3.8/site-packages (from packaging->transformers) (2.4.7)\n",
      "Requirement already satisfied: joblib in /home/jacobcamilleri/.local/lib/python3.8/site-packages (from sacremoses->transformers) (1.0.1)\n",
      "Requirement already satisfied: six in /usr/lib/python3/dist-packages (from sacremoses->transformers) (1.14.0)\n",
      "Requirement already satisfied: click in /usr/lib/python3/dist-packages (from sacremoses->transformers) (7.0)\n",
      "Defaulting to user installation because normal site-packages is not writeable\n",
      "Requirement already satisfied: openpyxl in /home/jacobcamilleri/.local/lib/python3.8/site-packages (3.0.9)\n",
      "Requirement already satisfied: et-xmlfile in /home/jacobcamilleri/.local/lib/python3.8/site-packages (from openpyxl) (1.1.0)\n"
     ]
    }
   ],
   "source": [
    "!pip install transformers requests beautifulsoup4 pandas numpy\n",
    "!pip install openpyxl"
   ]
  },
  {
   "cell_type": "code",
   "execution_count": 3,
   "id": "5936c743",
   "metadata": {},
   "outputs": [],
   "source": [
    "from transformers import AutoTokenizer, AutoModelForSequenceClassification\n",
    "import torch\n",
    "import requests\n",
    "from bs4 import BeautifulSoup\n",
    "import re"
   ]
  },
  {
   "cell_type": "code",
   "execution_count": 4,
   "id": "ab6adc0f",
   "metadata": {},
   "outputs": [],
   "source": [
    "tokenizer = AutoTokenizer.from_pretrained('nlptown/bert-base-multilingual-uncased-sentiment')\n",
    "\n",
    "model = AutoModelForSequenceClassification.from_pretrained('nlptown/bert-base-multilingual-uncased-sentiment')"
   ]
  },
  {
   "cell_type": "code",
   "execution_count": 5,
   "id": "04730958",
   "metadata": {},
   "outputs": [],
   "source": [
    "tokens = tokenizer.encode('Bad', return_tensors='pt')"
   ]
  },
  {
   "cell_type": "code",
   "execution_count": 6,
   "id": "041ee694",
   "metadata": {},
   "outputs": [],
   "source": [
    "result = model(tokens)"
   ]
  },
  {
   "cell_type": "code",
   "execution_count": 7,
   "id": "d1f70d25",
   "metadata": {},
   "outputs": [
    {
     "data": {
      "text/plain": [
       "tensor([[ 2.9174,  1.9091,  0.5061, -1.9228, -2.6553]],\n",
       "       grad_fn=<AddmmBackward>)"
      ]
     },
     "execution_count": 7,
     "metadata": {},
     "output_type": "execute_result"
    }
   ],
   "source": [
    "result.logits"
   ]
  },
  {
   "cell_type": "code",
   "execution_count": 8,
   "id": "c3ba215e",
   "metadata": {},
   "outputs": [
    {
     "data": {
      "text/plain": [
       "1"
      ]
     },
     "execution_count": 8,
     "metadata": {},
     "output_type": "execute_result"
    }
   ],
   "source": [
    "int(torch.argmax(result.logits))+1"
   ]
  },
  {
   "cell_type": "code",
   "execution_count": 9,
   "id": "7ba10451",
   "metadata": {},
   "outputs": [],
   "source": [
    "import numpy as np\n",
    "import pandas as pd"
   ]
  },
  {
   "cell_type": "code",
   "execution_count": 10,
   "id": "89a517ac",
   "metadata": {},
   "outputs": [
    {
     "data": {
      "text/html": [
       "<div>\n",
       "<style scoped>\n",
       "    .dataframe tbody tr th:only-of-type {\n",
       "        vertical-align: middle;\n",
       "    }\n",
       "\n",
       "    .dataframe tbody tr th {\n",
       "        vertical-align: top;\n",
       "    }\n",
       "\n",
       "    .dataframe thead th {\n",
       "        text-align: right;\n",
       "    }\n",
       "</style>\n",
       "<table border=\"1\" class=\"dataframe\">\n",
       "  <thead>\n",
       "    <tr style=\"text-align: right;\">\n",
       "      <th></th>\n",
       "      <th>Person</th>\n",
       "      <th>Section</th>\n",
       "      <th>UX Property</th>\n",
       "      <th>Question/Answer</th>\n",
       "    </tr>\n",
       "  </thead>\n",
       "  <tbody>\n",
       "    <tr>\n",
       "      <th>0</th>\n",
       "      <td>Interviewer</td>\n",
       "      <td>Intro</td>\n",
       "      <td>Purpose</td>\n",
       "      <td>Why do you use ARMS?</td>\n",
       "    </tr>\n",
       "    <tr>\n",
       "      <th>1</th>\n",
       "      <td>PPT01</td>\n",
       "      <td>Intro</td>\n",
       "      <td>Purpose</td>\n",
       "      <td>To pay monthly utility, both electricity and w...</td>\n",
       "    </tr>\n",
       "    <tr>\n",
       "      <th>2</th>\n",
       "      <td>Interviewer</td>\n",
       "      <td>Intro</td>\n",
       "      <td>Frequency</td>\n",
       "      <td>How often do you use ARMS?</td>\n",
       "    </tr>\n",
       "    <tr>\n",
       "      <th>3</th>\n",
       "      <td>PPT01</td>\n",
       "      <td>Intro</td>\n",
       "      <td>Frequency</td>\n",
       "      <td>One-time thing on a monthly basis</td>\n",
       "    </tr>\n",
       "    <tr>\n",
       "      <th>4</th>\n",
       "      <td>Interviewer</td>\n",
       "      <td>Intro</td>\n",
       "      <td>Overall Experience</td>\n",
       "      <td>In general, as you happy with ARMS' service?</td>\n",
       "    </tr>\n",
       "    <tr>\n",
       "      <th>...</th>\n",
       "      <td>...</td>\n",
       "      <td>...</td>\n",
       "      <td>...</td>\n",
       "      <td>...</td>\n",
       "    </tr>\n",
       "    <tr>\n",
       "      <th>100</th>\n",
       "      <td>PPT02</td>\n",
       "      <td>Conclusion</td>\n",
       "      <td>Spillover Effects</td>\n",
       "      <td>No. If anything, paying bills was smoother, I ...</td>\n",
       "    </tr>\n",
       "    <tr>\n",
       "      <th>101</th>\n",
       "      <td>Interviewer</td>\n",
       "      <td>Conclusion</td>\n",
       "      <td>Preferred Website Feature</td>\n",
       "      <td>Can you think about one thing you like the mos...</td>\n",
       "    </tr>\n",
       "    <tr>\n",
       "      <th>102</th>\n",
       "      <td>PPT02</td>\n",
       "      <td>Conclusion</td>\n",
       "      <td>Preferred Website Feature</td>\n",
       "      <td>Yeah definitely I can get estimates of my bill...</td>\n",
       "    </tr>\n",
       "    <tr>\n",
       "      <th>103</th>\n",
       "      <td>Interviewer</td>\n",
       "      <td>Conclusion</td>\n",
       "      <td>Recommendation</td>\n",
       "      <td>Would you recommend ARMS to a family member or...</td>\n",
       "    </tr>\n",
       "    <tr>\n",
       "      <th>104</th>\n",
       "      <td>PPT02</td>\n",
       "      <td>Conclusion</td>\n",
       "      <td>Recommendation</td>\n",
       "      <td>Definitely for paying bills because the bill p...</td>\n",
       "    </tr>\n",
       "  </tbody>\n",
       "</table>\n",
       "<p>105 rows × 4 columns</p>\n",
       "</div>"
      ],
      "text/plain": [
       "          Person     Section                UX Property  \\\n",
       "0    Interviewer       Intro                    Purpose   \n",
       "1          PPT01       Intro                    Purpose   \n",
       "2    Interviewer       Intro                  Frequency   \n",
       "3          PPT01       Intro                  Frequency   \n",
       "4    Interviewer       Intro         Overall Experience   \n",
       "..           ...         ...                        ...   \n",
       "100        PPT02  Conclusion          Spillover Effects   \n",
       "101  Interviewer  Conclusion  Preferred Website Feature   \n",
       "102        PPT02  Conclusion  Preferred Website Feature   \n",
       "103  Interviewer  Conclusion             Recommendation   \n",
       "104        PPT02  Conclusion             Recommendation   \n",
       "\n",
       "                                       Question/Answer  \n",
       "0                                 Why do you use ARMS?  \n",
       "1    To pay monthly utility, both electricity and w...  \n",
       "2                           How often do you use ARMS?  \n",
       "3                    One-time thing on a monthly basis  \n",
       "4         In general, as you happy with ARMS' service?  \n",
       "..                                                 ...  \n",
       "100  No. If anything, paying bills was smoother, I ...  \n",
       "101  Can you think about one thing you like the mos...  \n",
       "102  Yeah definitely I can get estimates of my bill...  \n",
       "103  Would you recommend ARMS to a family member or...  \n",
       "104  Definitely for paying bills because the bill p...  \n",
       "\n",
       "[105 rows x 4 columns]"
      ]
     },
     "execution_count": 10,
     "metadata": {},
     "output_type": "execute_result"
    }
   ],
   "source": [
    "data = pd.read_csv('All.csv')\n",
    "data"
   ]
  },
  {
   "cell_type": "code",
   "execution_count": 11,
   "id": "a17f2760",
   "metadata": {},
   "outputs": [],
   "source": [
    "def sentiment_score(review):\n",
    "    tokens = tokenizer.encode(review, return_tensors='pt')\n",
    "    result = model(tokens)\n",
    "    return int(torch.argmax(result.logits))+1"
   ]
  },
  {
   "cell_type": "code",
   "execution_count": 12,
   "id": "cd3b2457",
   "metadata": {},
   "outputs": [
    {
     "data": {
      "text/plain": [
       "2"
      ]
     },
     "execution_count": 12,
     "metadata": {},
     "output_type": "execute_result"
    }
   ],
   "source": [
    "sentiment_score(data['Question/Answer'].iloc[100])"
   ]
  },
  {
   "cell_type": "code",
   "execution_count": 13,
   "id": "ecd0122f",
   "metadata": {},
   "outputs": [],
   "source": [
    "data['sentiment'] = data['Question/Answer'].apply(lambda x: sentiment_score(x[:512]))"
   ]
  },
  {
   "cell_type": "code",
   "execution_count": 14,
   "id": "99cbf183",
   "metadata": {},
   "outputs": [
    {
     "data": {
      "text/html": [
       "<div>\n",
       "<style scoped>\n",
       "    .dataframe tbody tr th:only-of-type {\n",
       "        vertical-align: middle;\n",
       "    }\n",
       "\n",
       "    .dataframe tbody tr th {\n",
       "        vertical-align: top;\n",
       "    }\n",
       "\n",
       "    .dataframe thead th {\n",
       "        text-align: right;\n",
       "    }\n",
       "</style>\n",
       "<table border=\"1\" class=\"dataframe\">\n",
       "  <thead>\n",
       "    <tr style=\"text-align: right;\">\n",
       "      <th></th>\n",
       "      <th>Person</th>\n",
       "      <th>Section</th>\n",
       "      <th>UX Property</th>\n",
       "      <th>Question/Answer</th>\n",
       "      <th>sentiment</th>\n",
       "    </tr>\n",
       "  </thead>\n",
       "  <tbody>\n",
       "    <tr>\n",
       "      <th>0</th>\n",
       "      <td>Interviewer</td>\n",
       "      <td>Intro</td>\n",
       "      <td>Purpose</td>\n",
       "      <td>Why do you use ARMS?</td>\n",
       "      <td>1</td>\n",
       "    </tr>\n",
       "    <tr>\n",
       "      <th>1</th>\n",
       "      <td>PPT01</td>\n",
       "      <td>Intro</td>\n",
       "      <td>Purpose</td>\n",
       "      <td>To pay monthly utility, both electricity and w...</td>\n",
       "      <td>5</td>\n",
       "    </tr>\n",
       "    <tr>\n",
       "      <th>2</th>\n",
       "      <td>Interviewer</td>\n",
       "      <td>Intro</td>\n",
       "      <td>Frequency</td>\n",
       "      <td>How often do you use ARMS?</td>\n",
       "      <td>2</td>\n",
       "    </tr>\n",
       "    <tr>\n",
       "      <th>3</th>\n",
       "      <td>PPT01</td>\n",
       "      <td>Intro</td>\n",
       "      <td>Frequency</td>\n",
       "      <td>One-time thing on a monthly basis</td>\n",
       "      <td>4</td>\n",
       "    </tr>\n",
       "    <tr>\n",
       "      <th>4</th>\n",
       "      <td>Interviewer</td>\n",
       "      <td>Intro</td>\n",
       "      <td>Overall Experience</td>\n",
       "      <td>In general, as you happy with ARMS' service?</td>\n",
       "      <td>3</td>\n",
       "    </tr>\n",
       "    <tr>\n",
       "      <th>...</th>\n",
       "      <td>...</td>\n",
       "      <td>...</td>\n",
       "      <td>...</td>\n",
       "      <td>...</td>\n",
       "      <td>...</td>\n",
       "    </tr>\n",
       "    <tr>\n",
       "      <th>100</th>\n",
       "      <td>PPT02</td>\n",
       "      <td>Conclusion</td>\n",
       "      <td>Spillover Effects</td>\n",
       "      <td>No. If anything, paying bills was smoother, I ...</td>\n",
       "      <td>2</td>\n",
       "    </tr>\n",
       "    <tr>\n",
       "      <th>101</th>\n",
       "      <td>Interviewer</td>\n",
       "      <td>Conclusion</td>\n",
       "      <td>Preferred Website Feature</td>\n",
       "      <td>Can you think about one thing you like the mos...</td>\n",
       "      <td>3</td>\n",
       "    </tr>\n",
       "    <tr>\n",
       "      <th>102</th>\n",
       "      <td>PPT02</td>\n",
       "      <td>Conclusion</td>\n",
       "      <td>Preferred Website Feature</td>\n",
       "      <td>Yeah definitely I can get estimates of my bill...</td>\n",
       "      <td>5</td>\n",
       "    </tr>\n",
       "    <tr>\n",
       "      <th>103</th>\n",
       "      <td>Interviewer</td>\n",
       "      <td>Conclusion</td>\n",
       "      <td>Recommendation</td>\n",
       "      <td>Would you recommend ARMS to a family member or...</td>\n",
       "      <td>3</td>\n",
       "    </tr>\n",
       "    <tr>\n",
       "      <th>104</th>\n",
       "      <td>PPT02</td>\n",
       "      <td>Conclusion</td>\n",
       "      <td>Recommendation</td>\n",
       "      <td>Definitely for paying bills because the bill p...</td>\n",
       "      <td>3</td>\n",
       "    </tr>\n",
       "  </tbody>\n",
       "</table>\n",
       "<p>105 rows × 5 columns</p>\n",
       "</div>"
      ],
      "text/plain": [
       "          Person     Section                UX Property  \\\n",
       "0    Interviewer       Intro                    Purpose   \n",
       "1          PPT01       Intro                    Purpose   \n",
       "2    Interviewer       Intro                  Frequency   \n",
       "3          PPT01       Intro                  Frequency   \n",
       "4    Interviewer       Intro         Overall Experience   \n",
       "..           ...         ...                        ...   \n",
       "100        PPT02  Conclusion          Spillover Effects   \n",
       "101  Interviewer  Conclusion  Preferred Website Feature   \n",
       "102        PPT02  Conclusion  Preferred Website Feature   \n",
       "103  Interviewer  Conclusion             Recommendation   \n",
       "104        PPT02  Conclusion             Recommendation   \n",
       "\n",
       "                                       Question/Answer  sentiment  \n",
       "0                                 Why do you use ARMS?          1  \n",
       "1    To pay monthly utility, both electricity and w...          5  \n",
       "2                           How often do you use ARMS?          2  \n",
       "3                    One-time thing on a monthly basis          4  \n",
       "4         In general, as you happy with ARMS' service?          3  \n",
       "..                                                 ...        ...  \n",
       "100  No. If anything, paying bills was smoother, I ...          2  \n",
       "101  Can you think about one thing you like the mos...          3  \n",
       "102  Yeah definitely I can get estimates of my bill...          5  \n",
       "103  Would you recommend ARMS to a family member or...          3  \n",
       "104  Definitely for paying bills because the bill p...          3  \n",
       "\n",
       "[105 rows x 5 columns]"
      ]
     },
     "execution_count": 14,
     "metadata": {},
     "output_type": "execute_result"
    }
   ],
   "source": [
    "data"
   ]
  },
  {
   "cell_type": "code",
   "execution_count": 15,
   "id": "44c7f87e",
   "metadata": {},
   "outputs": [],
   "source": []
  },
  {
   "cell_type": "code",
   "execution_count": null,
   "id": "e442fcc8",
   "metadata": {},
   "outputs": [],
   "source": []
  }
 ],
 "metadata": {
  "kernelspec": {
   "display_name": "Python 3 (ipykernel)",
   "language": "python",
   "name": "python3"
  },
  "language_info": {
   "codemirror_mode": {
    "name": "ipython",
    "version": 3
   },
   "file_extension": ".py",
   "mimetype": "text/x-python",
   "name": "python",
   "nbconvert_exporter": "python",
   "pygments_lexer": "ipython3",
   "version": "3.8.10"
  }
 },
 "nbformat": 4,
 "nbformat_minor": 5
}
